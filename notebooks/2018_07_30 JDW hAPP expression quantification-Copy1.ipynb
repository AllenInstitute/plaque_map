{
 "cells": [
  {
   "cell_type": "code",
   "execution_count": null,
   "metadata": {},
   "outputs": [],
   "source": [
    "import os\n",
    "import pandas as pd\n",
    "import seaborn as sns\n",
    "sns.set_context('poster')\n",
    "sns.set_style('white')\n",
    "\n",
    "import matplotlib.pyplot as plt\n",
    "%matplotlib inline\n",
    "import matplotlib as mpl\n",
    "mpl.rcParams['pdf.fonttype'] = 42\n",
    "\n",
    "import statsmodels.api as sm\n",
    "import statsmodels.formula.api as smf\n",
    "import scipy.stats as st\n",
    "\n",
    "from allensdk.core.mouse_connectivity_cache import MouseConnectivityCache"
   ]
  },
  {
   "cell_type": "code",
   "execution_count": null,
   "metadata": {},
   "outputs": [],
   "source": [
    "path = r'/Users/jenniferwh/Dropbox (Allen Institute)/Mesoscale Connectome Papers in Progress/2018 Plaque/hAPP immunostaining'"
   ]
  },
  {
   "cell_type": "code",
   "execution_count": null,
   "metadata": {},
   "outputs": [],
   "source": [
    "dat = pd.read_csv(os.path.join(path, 'compiled_APP+.csv'))"
   ]
  },
  {
   "cell_type": "code",
   "execution_count": null,
   "metadata": {},
   "outputs": [],
   "source": [
    "dat.head()"
   ]
  },
  {
   "cell_type": "code",
   "execution_count": null,
   "metadata": {},
   "outputs": [],
   "source": [
    "dat['Genotype'].unique()"
   ]
  },
  {
   "cell_type": "code",
   "execution_count": null,
   "metadata": {},
   "outputs": [],
   "source": [
    "no2576 = dat[dat['Genotype'].isin(['APP/PS1', 'J20'])]"
   ]
  },
  {
   "cell_type": "code",
   "execution_count": null,
   "metadata": {},
   "outputs": [],
   "source": [
    "def get_glm(region):\n",
    "    formula = '%s ~ Genotype + Sex' % region\n",
    "    results = smf.ols(formula=formula, data=no2576).fit()\n",
    "    \n",
    "    return(results)"
   ]
  },
  {
   "cell_type": "code",
   "execution_count": null,
   "metadata": {},
   "outputs": [],
   "source": [
    "res = get_glm('PIR')\n",
    "anova = sm.stats.anova_lm(res, typ=2)\n",
    "anova"
   ]
  },
  {
   "cell_type": "code",
   "execution_count": null,
   "metadata": {},
   "outputs": [],
   "source": [
    "res = get_glm('GU')\n",
    "anova = sm.stats.anova_lm(res, typ=2)\n",
    "anova"
   ]
  },
  {
   "cell_type": "code",
   "execution_count": null,
   "metadata": {},
   "outputs": [],
   "source": [
    "res = get_glm('CLA')\n",
    "anova = sm.stats.anova_lm(res, typ=2)\n",
    "anova"
   ]
  },
  {
   "cell_type": "code",
   "execution_count": null,
   "metadata": {},
   "outputs": [],
   "source": [
    "res_dg = get_glm('ACAv')\n",
    "anova_dg = sm.stats.anova_lm(res_dg, typ=2)\n",
    "anova_dg"
   ]
  },
  {
   "cell_type": "code",
   "execution_count": null,
   "metadata": {},
   "outputs": [],
   "source": [
    "get_glm('EPv').summary()"
   ]
  },
  {
   "cell_type": "code",
   "execution_count": null,
   "metadata": {},
   "outputs": [],
   "source": [
    "dat.head()"
   ]
  },
  {
   "cell_type": "code",
   "execution_count": null,
   "metadata": {},
   "outputs": [],
   "source": [
    "mdf = pd.melt(dat, id_vars = ['Genotype', 'Sex'], var_name = 'Region', value_name = 'hAPP_level')"
   ]
  },
  {
   "cell_type": "code",
   "execution_count": null,
   "metadata": {},
   "outputs": [],
   "source": [
    "mdf.tail()"
   ]
  },
  {
   "cell_type": "code",
   "execution_count": null,
   "metadata": {},
   "outputs": [],
   "source": [
    "print(len(mdf))\n",
    "mdf = mdf[~mdf['hAPP_level'].isnull()]\n",
    "print(len(mdf))"
   ]
  },
  {
   "cell_type": "code",
   "execution_count": null,
   "metadata": {},
   "outputs": [],
   "source": [
    "formula = 'hAPP_level ~ Genotype + Sex + Region'\n",
    "results = smf.ols(formula=formula, data=mdf).fit()\n",
    "anova = sm.stats.anova_lm(results, typ=2)\n",
    "anova"
   ]
  },
  {
   "cell_type": "code",
   "execution_count": null,
   "metadata": {},
   "outputs": [],
   "source": [
    "meandat = dat.groupby(['Genotype', 'Sex']).mean().reset_index()"
   ]
  },
  {
   "cell_type": "code",
   "execution_count": null,
   "metadata": {},
   "outputs": [],
   "source": [
    "meandat.to_csv(r'/Users/jenniferwh/Dropbox (Allen Institute)/Mesoscale Connectome Papers in Progress/2018 Plaque/hAPP immunostaining/hAPP quantification means.csv')"
   ]
  },
  {
   "cell_type": "code",
   "execution_count": null,
   "metadata": {},
   "outputs": [],
   "source": [
    "meandat = dat.groupby(['Genotype']).mean().reset_index()\n",
    "meandat.head()"
   ]
  },
  {
   "cell_type": "code",
   "execution_count": null,
   "metadata": {},
   "outputs": [],
   "source": [
    "meandat."
   ]
  },
  {
   "cell_type": "code",
   "execution_count": null,
   "metadata": {},
   "outputs": [],
   "source": [
    "happ_dat = pd.DataFrame({'region': meandat.columns, 'APP/PS1': meandat.iloc[0].values, \n",
    "                         'hAPP-J20': meandat.iloc[1].values,\n",
    "                        'T2576': meandat.iloc[2].values})"
   ]
  },
  {
   "cell_type": "code",
   "execution_count": null,
   "metadata": {},
   "outputs": [],
   "source": [
    "happ_dat.drop(index = 0, inplace=True)"
   ]
  },
  {
   "cell_type": "code",
   "execution_count": null,
   "metadata": {},
   "outputs": [],
   "source": [
    "happ_dat.head()"
   ]
  },
  {
   "cell_type": "code",
   "execution_count": null,
   "metadata": {},
   "outputs": [],
   "source": [
    "unionizes = pd.read_csv(r'/Users/jenniferwh/Dropbox (Allen Institute)/Mesoscale Connectome Papers in Progress/2018 Plaque/unionizes/plaque_unionizes.csv')"
   ]
  },
  {
   "cell_type": "code",
   "execution_count": null,
   "metadata": {},
   "outputs": [],
   "source": [
    "unionizes = unionizes[unionizes['control'] == False]"
   ]
  },
  {
   "cell_type": "code",
   "execution_count": null,
   "metadata": {},
   "outputs": [],
   "source": [
    "unionizes.head()"
   ]
  },
  {
   "cell_type": "code",
   "execution_count": null,
   "metadata": {},
   "outputs": [],
   "source": [
    "for structure in happ_dat['region']:\n",
    "    happ_dat.loc[happ_dat['region'] == structure, \n",
    "                 'APP/PS1_plaque'] = unionizes[(unionizes['mouse_line'] == 'APP/PS1') & \n",
    "                                               (unionizes['structure_acronym'] == structure)]['plaque_density'].mean()\n",
    "    happ_dat.loc[happ_dat['region'] == structure, \n",
    "                 'Tg2576_plaque'] = unionizes[(unionizes['mouse_line'] == 'Tg2576') & \n",
    "                                               (unionizes['structure_acronym'] == structure)]['plaque_density'].mean()\n",
    "    happ_dat.loc[happ_dat['region'] == structure, \n",
    "                 'hAPP-J20_plaque'] = unionizes[(unionizes['mouse_line'] == 'hAPP-J20') & \n",
    "                                               (unionizes['structure_acronym'] == structure)]['plaque_density'].mean()"
   ]
  },
  {
   "cell_type": "code",
   "execution_count": null,
   "metadata": {},
   "outputs": [],
   "source": [
    "happ_dat.head()"
   ]
  },
  {
   "cell_type": "code",
   "execution_count": null,
   "metadata": {},
   "outputs": [],
   "source": [
    "path"
   ]
  },
  {
   "cell_type": "code",
   "execution_count": null,
   "metadata": {},
   "outputs": [],
   "source": [
    "happ_dat.to_csv(os.path.join(path, 'means_per_line.csv'))"
   ]
  },
  {
   "cell_type": "code",
   "execution_count": null,
   "metadata": {},
   "outputs": [],
   "source": [
    "fig, ax = plt.subplots()\n",
    "sns.catplot('APP/PS1', 'APP/PS1_plaque', data=happ_dat, ax = ax, color = mouse_line_colors[0])\n",
    "sns.catplot('T2576', 'Tg2576_plaque', data=happ_dat, ax = ax, color = mouse_line_colors[2])\n",
    "sns.catplot('hAPP-J20', 'hAPP-J20_plaque', data=happ_dat, ax = ax, color = mouse_line_colors[1])"
   ]
  },
  {
   "cell_type": "code",
   "execution_count": null,
   "metadata": {},
   "outputs": [],
   "source": []
  },
  {
   "cell_type": "code",
   "execution_count": null,
   "metadata": {},
   "outputs": [],
   "source": [
    "path"
   ]
  },
  {
   "cell_type": "code",
   "execution_count": null,
   "metadata": {},
   "outputs": [],
   "source": [
    "fig, ax = plt.subplots(figsize = (14, 5))\n",
    "h = sns.pointplot('Region', 'hAPP_level', hue = 'Sex', data = mdf[mdf['Genotype'].isin(['APP/PS1', 'hAPP-J20'])], \n",
    "                                                                  ax = ax, legend = False,\n",
    "                 palette = ['hotpink', 'cornflowerblue'])\n",
    "h.legend_.remove()\n",
    "h.set_title('APP (+) mice')\n",
    "h.set_ylabel('hAPP Expression Level')\n",
    "h.set_xlabel('')\n",
    "plt.tight_layout()\n",
    "plt.savefig(os.path.join(path, 'hAPP expression by sex second batch.png'), \n",
    "            bbox_inches='tight', pad_inches=0.3, format='png', dpi=300)"
   ]
  },
  {
   "cell_type": "code",
   "execution_count": null,
   "metadata": {},
   "outputs": [],
   "source": [
    "mouse_line_colors = ['#8da0cb', '#fc8d62', '#66c2a5', '#000000']\n",
    "mouse_lines = ['APP/PS1', 'Tg2576', 'hAPP-J20']"
   ]
  },
  {
   "cell_type": "code",
   "execution_count": null,
   "metadata": {},
   "outputs": [],
   "source": [
    "mdf.loc[mdf['Genotype'] == 'Tg2576 (1)', 'Genotype'] = 'Tg2576'"
   ]
  },
  {
   "cell_type": "code",
   "execution_count": null,
   "metadata": {},
   "outputs": [],
   "source": [
    "fig, ax = plt.subplots(figsize = (15, 5))\n",
    "g = sns.pointplot('Region', 'hAPP_level', hue = 'Genotype', data = mdf, ax = ax, legend = False,\n",
    "                 palette = mouse_line_colors)\n",
    "g.set_title('APP (+) mice')\n",
    "g.set_ylabel('hAPP Expression Level')\n",
    "g.set_xlabel('')\n",
    "\n",
    "plt.tight_layout()\n",
    "plt.savefig(os.path.join(path, 'hAPP expression by genotype.png'), \n",
    "            bbox_inches='tight', pad_inches=0.3, format='png', dpi=300)"
   ]
  },
  {
   "cell_type": "code",
   "execution_count": null,
   "metadata": {},
   "outputs": [],
   "source": [
    "fig, ax = plt.subplots(2, 2, figsize = (15, 10))\n",
    "h = sns.pointplot('Region', 'hAPP_level', hue = 'Sex', data = mdf[mdf['APP'] == '-'], ax = ax[0, 0], legend = False,\n",
    "                 palette = ['hotpink', 'cornflowerblue'])\n",
    "g = sns.pointplot('Region', 'hAPP_level', hue = 'Sex', data = mdf[mdf['APP'] == '+'], ax = ax[0, 1], legend = False,\n",
    "                 palette = ['hotpink', 'cornflowerblue'])\n",
    "g.legend(bbox_to_anchor = (1.1, 1))\n",
    "h.legend_.remove()\n",
    "h.set_title('APP (-) mice')\n",
    "h.set_ylabel('hAPP Expression Level')\n",
    "h.set_xlabel('')\n",
    "g.set_title('APP (+) mice')\n",
    "g.set_ylabel('hAPP Expression Level')\n",
    "g.set_xlabel('')\n",
    "plt.tight_layout()\n",
    "i = sns.pointplot('Region', 'hAPP_level', hue = 'Genotype', data = mdf[mdf['APP'] == '-'], ax = ax[1, 0], legend = False,\n",
    "                 palette = mouse_line_colors)\n",
    "j = sns.pointplot('Region', 'hAPP_level', hue = 'Genotype', data = mdf[mdf['APP'] == '+'], ax = ax[1, 1], legend = False,\n",
    "                 palette = mouse_line_colors)\n",
    "j.legend(bbox_to_anchor = (1.1, 1))\n",
    "i.legend_.remove()\n",
    "i.set_title('APP (-) mice')\n",
    "i.set_ylabel('hAPP Expression Level')\n",
    "i.set_xlabel('')\n",
    "j.set_title('APP (+) mice')\n",
    "j.set_ylabel('hAPP Expression Level')\n",
    "j.set_xlabel('')\n",
    "plt.tight_layout()\n",
    "plt.savefig(os.path.join(path, 'hAPP expression by genotype and sex in hippocampal regions.png'), \n",
    "            bbox_inches='tight', pad_inches=0.3, format='png', dpi=300)"
   ]
  },
  {
   "cell_type": "code",
   "execution_count": null,
   "metadata": {},
   "outputs": [],
   "source": [
    "density = pd.read_csv(r'/Users/jenniferwh/Dropbox (Allen Institute)/Mesoscale Connectome Papers in Progress/2018 Plaque/hAPP immunostaining/mean APP and plaque density levels.csv')"
   ]
  },
  {
   "cell_type": "code",
   "execution_count": null,
   "metadata": {},
   "outputs": [],
   "source": [
    "density.drop(columns = {'APP'}, inplace = True)\n",
    "density.head()"
   ]
  },
  {
   "cell_type": "code",
   "execution_count": null,
   "metadata": {},
   "outputs": [],
   "source": [
    "h = sns.scatterplot('hAPP_expression', 'relative_plaque_density_same_region', hue = 'Genotype', data = density)\n",
    "plt.legend(bbox_to_anchor = (1.1, 1))"
   ]
  },
  {
   "cell_type": "code",
   "execution_count": null,
   "metadata": {},
   "outputs": [],
   "source": [
    "h = sns.scatterplot('hAPP_expression', '18_mo_relative_pd', hue = 'Genotype', data = density)\n",
    "plt.legend(bbox_to_anchor = (1.1, 1))"
   ]
  },
  {
   "cell_type": "code",
   "execution_count": null,
   "metadata": {},
   "outputs": [],
   "source": [
    "h = sns.scatterplot('hAPP_expression', 'relative_plaque_density_input_region', hue = 'Genotype', \n",
    "                    data = density)"
   ]
  },
  {
   "cell_type": "code",
   "execution_count": null,
   "metadata": {},
   "outputs": [],
   "source": [
    "h = sns.scatterplot('hAPP_expression', '18_mo_relative_input_pd', hue = 'Genotype', \n",
    "                    data = density)\n",
    "plt.legend(bbox_to_anchor = (1.1, 1))"
   ]
  },
  {
   "cell_type": "code",
   "execution_count": null,
   "metadata": {},
   "outputs": [],
   "source": [
    "st.pearsonr(density['hAPP_expression'], density['relative_plaque_density_same_region'])"
   ]
  },
  {
   "cell_type": "code",
   "execution_count": null,
   "metadata": {},
   "outputs": [],
   "source": [
    "st.pearsonr(density[density['Genotype'] == 'J20']['hAPP_expression'], \n",
    "            density[density['Genotype'] == 'J20']['plaque_density_same_region'])"
   ]
  },
  {
   "cell_type": "code",
   "execution_count": null,
   "metadata": {},
   "outputs": [],
   "source": [
    "st.pearsonr(density['hAPP_expression'], density['relative_plaque_density_input_region'])"
   ]
  },
  {
   "cell_type": "code",
   "execution_count": null,
   "metadata": {},
   "outputs": [],
   "source": [
    "st.pearsonr(density[density['Genotype'] == 'J20']['hAPP_expression'], \n",
    "            density[density['Genotype'] == 'J20']['plaque_density_input_region'])"
   ]
  },
  {
   "cell_type": "code",
   "execution_count": null,
   "metadata": {},
   "outputs": [],
   "source": [
    "st.pearsonr(density[(density['Genotype'] == 'Tg2576') &\n",
    "                   (density['region'] != 'SUBd')]['hAPP_expression'], \n",
    "                                             density[(density['Genotype'] == 'Tg2576') &\n",
    "                                                     (density['region'] != 'SUBd')][\n",
    "                                                 '18_mo_relative_input_pd'])"
   ]
  },
  {
   "cell_type": "code",
   "execution_count": null,
   "metadata": {},
   "outputs": [],
   "source": [
    "st.pearsonr(density[density['Genotype'].isin(['J20'])]['hAPP_expression'], \n",
    "                                             density[density['Genotype'].isin(['J20'])][\n",
    "                                                 'plaque_density_same_region'])"
   ]
  },
  {
   "cell_type": "code",
   "execution_count": null,
   "metadata": {},
   "outputs": [],
   "source": [
    "st.pearsonr(density[(density['Genotype'] == 'J20') &\n",
    "                   (density['region'] != 'SUBd')]['hAPP_expression'], \n",
    "                                             density[(density['Genotype'] == 'J20') &\n",
    "                                                     (density['region'] != 'SUBd')][\n",
    "                                                 'plaque_density_input_region'])"
   ]
  },
  {
   "cell_type": "code",
   "execution_count": null,
   "metadata": {},
   "outputs": [],
   "source": [
    "st.pearsonr(density['hAPP_expression'][density['Genotype'].isin(['APP/PS1'])], \n",
    "            density[density['Genotype'].isin(['APP/PS1'])]['plaque_density_same_region'])"
   ]
  },
  {
   "cell_type": "code",
   "execution_count": null,
   "metadata": {},
   "outputs": [],
   "source": [
    "st.pearsonr(density[(density['Genotype'] == 'APP/PS1') &\n",
    "                   (density['region'] != 'SUBd')]['hAPP_expression'], \n",
    "            density[(density['Genotype'] == 'APP/PS1') &\n",
    "                   (density['region'] != 'SUBd')]['plaque_density_input_region'])"
   ]
  },
  {
   "cell_type": "code",
   "execution_count": null,
   "metadata": {},
   "outputs": [],
   "source": [
    "st.pearsonr(density['hAPP_expression'], \n",
    "            density['plaque_density_input_region'].sample(frac = 1))"
   ]
  },
  {
   "cell_type": "code",
   "execution_count": null,
   "metadata": {},
   "outputs": [],
   "source": []
  }
 ],
 "metadata": {
  "kernelspec": {
   "display_name": "Python 2",
   "language": "python",
   "name": "python2"
  },
  "language_info": {
   "codemirror_mode": {
    "name": "ipython",
    "version": 2
   },
   "file_extension": ".py",
   "mimetype": "text/x-python",
   "name": "python",
   "nbconvert_exporter": "python",
   "pygments_lexer": "ipython2",
   "version": "2.7.14"
  }
 },
 "nbformat": 4,
 "nbformat_minor": 2
}
