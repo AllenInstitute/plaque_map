{
 "cells": [
  {
   "cell_type": "code",
   "execution_count": null,
   "metadata": {},
   "outputs": [],
   "source": [
    "import os\n",
    "import pandas as pd\n",
    "from matplotlib import cm\n",
    "import matplotlib as mpl\n",
    "import matplotlib.pyplot as plt\n",
    "import numpy as np\n",
    "%matplotlib inline\n",
    "mpl.rcParams['pdf.fonttype'] = 42"
   ]
  },
  {
   "cell_type": "code",
   "execution_count": null,
   "metadata": {},
   "outputs": [],
   "source": [
    "path = r'C:\\Users\\jenniferwh\\AppData\\Local\\Allen Institute\\Brain Explorer 2\\Atlases\\Allen Mouse Brain Common Coordinate Framework'"
   ]
  },
  {
   "cell_type": "code",
   "execution_count": null,
   "metadata": {},
   "outputs": [],
   "source": [
    "dat = pd.read_csv(os.path.join(path, 'ontology_v2.csv'))"
   ]
  },
  {
   "cell_type": "code",
   "execution_count": null,
   "metadata": {},
   "outputs": [],
   "source": [
    "dat.head()"
   ]
  },
  {
   "cell_type": "code",
   "execution_count": null,
   "metadata": {},
   "outputs": [],
   "source": [
    "moddat = pd.read_csv(r'C:\\Users\\jenniferwh\\Dropbox (Allen Institute)\\Mesoscale Connectome Papers in Progress\\2018 Plaque\\module_data_long.csv')"
   ]
  },
  {
   "cell_type": "code",
   "execution_count": null,
   "metadata": {},
   "outputs": [],
   "source": [
    "moddat.head()"
   ]
  },
  {
   "cell_type": "code",
   "execution_count": null,
   "metadata": {},
   "outputs": [],
   "source": [
    "prefrontal = ['FRP', 'MOs', 'PL', 'ILA', 'ORBm', 'ORBl', 'ORBvl','ACAd', 'ACAv']\n",
    "anterolateral = ['AId', 'AIv', 'AIp', 'GU', 'VISC']\n",
    "somatomotor = ['SSs', 'SSp-bfd', 'SSp-tr', 'SSp-ll', 'SSp-ul', 'SSp-un',\n",
    "                                          'SSp-n', 'SSp-m', 'MOp']\n",
    "visual = ['VISp', 'VISl', 'VISrl', 'VISpl', 'VISli', 'VISal', 'VISpor']\n",
    "medial = ['RSPd', 'RSPv', 'RSPagl', 'VISa', 'VISam', 'VISpm']\n",
    "temporal = ['AUDd', 'AUDp', 'AUDpo', 'AUDv', 'TEa', 'PERI', 'ECT']\n",
    "\n",
    "moddict = {'Prefrontal': prefrontal, 'Anterolateral': anterolateral, 'Somatomotor': somatomotor,\n",
    "          'Visual': visual, 'Medial': medial, 'Temporal':temporal}"
   ]
  },
  {
   "cell_type": "code",
   "execution_count": null,
   "metadata": {},
   "outputs": [],
   "source": [
    "mldat = moddat[moddat['Mouse Line'] == 'hAPP-J20']\n",
    "max_val = max(moddat['Relative Plaque Density'])\n",
    "norm = mpl.colors.Normalize(vmin=0, vmax=max_val, clip=True)\n",
    "mapper = cm.ScalarMappable(norm=norm, cmap=cm.seismic)\n",
    "for module in mldat['Module'].unique():\n",
    "    meanmodule = mldat[mldat['Module'] == module]['Relative Plaque Density'].mean()-1 # to make white 1\n",
    "    rgbvals = mapper.to_rgba(meanmodule)[:3]\n",
    "    dat.loc[dat['abbreviation'].isin(moddict[module]), 'red'] = int(rgbvals[0]*255)\n",
    "    dat.loc[dat['abbreviation'].isin(moddict[module]), 'green'] = int(rgbvals[1]*255)\n",
    "    dat.loc[dat['abbreviation'].isin(moddict[module]), 'blue'] = int(rgbvals[2]*255)\n",
    "dat.loc[dat['abbreviation'] == 'root', 'parent'] = 0.\n",
    "dat['parent'] = [int(value) for value in dat['parent']]"
   ]
  },
  {
   "cell_type": "code",
   "execution_count": null,
   "metadata": {},
   "outputs": [],
   "source": [
    "max_val"
   ]
  },
  {
   "cell_type": "code",
   "execution_count": null,
   "metadata": {},
   "outputs": [],
   "source": [
    "mapper.to_rgba(0)"
   ]
  },
  {
   "cell_type": "code",
   "execution_count": null,
   "metadata": {},
   "outputs": [],
   "source": [
    "dat.to_csv(os.path.join(path, 'ontology_v2.csv'), index=False)"
   ]
  },
  {
   "cell_type": "code",
   "execution_count": null,
   "metadata": {},
   "outputs": [],
   "source": [
    "pltdat = np.array([[max_val+1, -max_val+1], [max_val+1, -max_val+1]])"
   ]
  },
  {
   "cell_type": "code",
   "execution_count": null,
   "metadata": {},
   "outputs": [],
   "source": [
    "pltdat"
   ]
  },
  {
   "cell_type": "code",
   "execution_count": null,
   "metadata": {},
   "outputs": [],
   "source": [
    "fig = plt.figure(figsize=(2, 3))\n",
    "f = plt.imshow(pltdat, cmap=cm.seismic)\n",
    "plt.axis('off')\n",
    "cbar = fig.colorbar(f)\n",
    "plt.setp(plt.getp(cbar.ax.axes, 'yticklabels'), color='k')\n",
    "plt.savefig(r'C:\\Users\\jenniferwh\\Dropbox (Allen Institute)\\Mesoscale Connectome Papers in Progress\\2018 Plaque\\figures\\modules\\density_cbar.pdf',\n",
    "           bbox_inches='tight', pad_inches=0.3, format='pdf', transparent = True, dpi=300)"
   ]
  },
  {
   "cell_type": "code",
   "execution_count": null,
   "metadata": {},
   "outputs": [],
   "source": [
    "mapper.to_rgba(5)"
   ]
  },
  {
   "cell_type": "code",
   "execution_count": null,
   "metadata": {},
   "outputs": [],
   "source": [
    "max(moddat['Relative Plaque Density'])"
   ]
  },
  {
   "cell_type": "code",
   "execution_count": null,
   "metadata": {},
   "outputs": [],
   "source": []
  },
  {
   "cell_type": "code",
   "execution_count": null,
   "metadata": {},
   "outputs": [],
   "source": []
  },
  {
   "cell_type": "code",
   "execution_count": null,
   "metadata": {},
   "outputs": [],
   "source": []
  },
  {
   "cell_type": "code",
   "execution_count": null,
   "metadata": {},
   "outputs": [],
   "source": []
  }
 ],
 "metadata": {
  "kernelspec": {
   "display_name": "Python 2",
   "language": "python",
   "name": "python2"
  },
  "language_info": {
   "codemirror_mode": {
    "name": "ipython",
    "version": 2
   },
   "file_extension": ".py",
   "mimetype": "text/x-python",
   "name": "python",
   "nbconvert_exporter": "python",
   "pygments_lexer": "ipython2",
   "version": "2.7.14"
  }
 },
 "nbformat": 4,
 "nbformat_minor": 2
}
