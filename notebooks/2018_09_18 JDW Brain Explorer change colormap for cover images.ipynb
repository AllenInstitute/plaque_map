{
 "cells": [
  {
   "cell_type": "code",
   "execution_count": null,
   "metadata": {},
   "outputs": [],
   "source": [
    "import os\n",
    "import pandas as pd\n",
    "from matplotlib import cm\n",
    "import matplotlib as mpl\n",
    "import matplotlib.pyplot as plt\n",
    "import numpy as np\n",
    "%matplotlib inline\n",
    "mpl.rcParams['pdf.fonttype'] = 42\n",
    "import operator\n",
    "\n",
    "from allensdk.core.mouse_connectivity_cache import MouseConnectivityCache"
   ]
  },
  {
   "cell_type": "code",
   "execution_count": null,
   "metadata": {},
   "outputs": [],
   "source": [
    "path = r'C:\\Users\\jenniferwh\\AppData\\Local\\Allen Institute\\Brain Explorer 2\\Atlases\\Allen Mouse Brain Common Coordinate Framework'"
   ]
  },
  {
   "cell_type": "code",
   "execution_count": null,
   "metadata": {},
   "outputs": [],
   "source": [
    "dat = pd.read_csv(os.path.join(path, 'ontology_v2.csv'))"
   ]
  },
  {
   "cell_type": "code",
   "execution_count": null,
   "metadata": {},
   "outputs": [],
   "source": [
    "dat.head()"
   ]
  },
  {
   "cell_type": "code",
   "execution_count": null,
   "metadata": {},
   "outputs": [],
   "source": [
    "unionize_dat = pd.read_csv(r'C:\\Users\\jenniferwh\\Dropbox (Personal)\\python_code\\jenniferwh\\plaque_map\\plaque_densities_per_structure.csv')\n",
    "unionize_dat = unionize_dat[unionize_dat['control'] == False]\n",
    "mcc = MouseConnectivityCache(manifest_file = '../connectivity/mouse_connectivity_manifest.json')\n",
    "st = mcc.get_structure_tree()\n",
    "ia_map = st.get_id_acronym_map()\n",
    "unionize_dat['structure_id'] = [ia_map[structure] for structure in unionize_dat['structure_acronym']]"
   ]
  },
  {
   "cell_type": "code",
   "execution_count": null,
   "metadata": {},
   "outputs": [],
   "source": [
    "unionize_dat.head()"
   ]
  },
  {
   "cell_type": "code",
   "execution_count": null,
   "metadata": {},
   "outputs": [],
   "source": [
    "def get_mean_value_per_structure(group, age, structure_ids):\n",
    "    means = []\n",
    "    if len(unionize_dat[(unionize_dat['mouse_line'] == group) & (unionize_dat['age_group'] == age)]) > 0:\n",
    "        isids = unionize_dat[(unionize_dat['mouse_line'] == group) & \n",
    "                             (unionize_dat['age_group'] == age)]['image_series_id'].values\n",
    "        for structure_id in structure_ids:\n",
    "            density = np.mean(unionize_dat[(unionize_dat['structure_id'] == structure_id) & \n",
    "                                  (unionize_dat['image_series_id'].isin(isids))]['plaque_density'])\n",
    "            means.append(density*100) #To convert from fraction to percent           \n",
    "        structuredat = dict(zip(structure_ids, means))\n",
    "    else:\n",
    "        structuredat = dict(zip(structure_ids, np.zeros(len(structure_ids))))\n",
    "        isids = []\n",
    "    return structuredat, len(isids)\n",
    "\n",
    "def get_cmap(group, age, colormap=cm.gray, scale=1):\n",
    "    structure_vals, n = get_mean_value_per_structure(group, age, unionize_dat['structure_id'].unique())\n",
    "    rgb_vals = structure_vals.copy()\n",
    "    for key in structure_vals:\n",
    "        rgb_vals[key] = tuple([255*i for i in colormap(structure_vals[key]*scale)[:3]])\n",
    "        rgb_vals[0] = (0, 0, 0)\n",
    "    return rgb_vals, n"
   ]
  },
  {
   "cell_type": "code",
   "execution_count": null,
   "metadata": {},
   "outputs": [],
   "source": [
    "mouse_line = 'hAPP-J20'\n",
    "age = '13 mo'\n",
    "scale = 10"
   ]
  },
  {
   "cell_type": "code",
   "execution_count": null,
   "metadata": {},
   "outputs": [],
   "source": [
    "mldat.head()"
   ]
  },
  {
   "cell_type": "code",
   "execution_count": null,
   "metadata": {},
   "outputs": [],
   "source": [
    "mldat = unionize_dat[(unionize_dat['mouse_line'] == mouse_line) &\n",
    "                    (unionize_dat['age_group'] == age)]\n",
    "rgb_vals, n = get_cmap(mouse_line, age, cm.hot, scale)\n",
    "for key in rgb_vals.keys():\n",
    "    dat.loc[dat['database_id'] == key, 'red'] = int(rgb_vals[key][0])\n",
    "    dat.loc[dat['database_id'] == key, 'green'] = int(rgb_vals[key][1])\n",
    "    dat.loc[dat['database_id'] == key, 'blue'] =int(rgb_vals[key][2])\n",
    "dat.loc[dat['abbreviation'] == 'root', 'parent'] = 0.\n",
    "dat['parent'] = [int(value) for value in dat['parent']]"
   ]
  },
  {
   "cell_type": "code",
   "execution_count": null,
   "metadata": {},
   "outputs": [],
   "source": [
    "structure_vals, n = get_mean_value_per_structure(mouse_line, age, mldat['structure_id'].unique())\n",
    "maxval = max(structure_vals.iteritems(), key=operator.itemgetter(1))[1]\n",
    "maxval"
   ]
  },
  {
   "cell_type": "code",
   "execution_count": null,
   "metadata": {},
   "outputs": [],
   "source": [
    "cbar = fig.colorbar( plt.imshow(image[i], cmap = cm.hot), fraction=0.046)\n",
    "cbar.set_label('False Positive % Volume', color = 'w')\n",
    "plt.setp(plt.getp(cbar.ax.axes, 'yticklabels'), color='w')\n",
    "cbar.ax.set_yticklabels([0, \n",
    "                         np.round(maxval*.125, 2), \n",
    "                         np.round(maxval*.25, 2), \n",
    "                         np.round(maxval*.375, 2),\n",
    "                         np.round(maxval*.5, 2), \n",
    "                         np.round(maxval*.625, 2),\n",
    "                         np.round(maxval*.75, 2),\n",
    "                         np.round(maxval*.875, 2),\n",
    "                         np.round(maxval, 2)])"
   ]
  },
  {
   "cell_type": "code",
   "execution_count": null,
   "metadata": {},
   "outputs": [],
   "source": [
    "pltdat = np.array([[0, 0], [maxval, maxval]])"
   ]
  },
  {
   "cell_type": "code",
   "execution_count": null,
   "metadata": {},
   "outputs": [],
   "source": [
    "pltdat"
   ]
  },
  {
   "cell_type": "code",
   "execution_count": null,
   "metadata": {},
   "outputs": [],
   "source": [
    "fig = plt.figure(figsize=(2, 3))\n",
    "f = plt.imshow(pltdat, cmap=cm.hot)\n",
    "plt.axis('off')\n",
    "cbar = fig.colorbar(f, orientation='horizontal')\n",
    "cbar.set_label('False Positive % Volume', color = 'w')\n",
    "plt.setp(plt.getp(cbar.ax.axes, 'yticklabels'), color='w')\n",
    "cbar.ax.set_yticklabels([0, \n",
    "                         np.round(maxval*.125, 2), \n",
    "                         np.round(maxval*.375, 2),\n",
    "                         np.round(maxval*.625, 2),\n",
    "                         np.round(maxval*.75, 2),\n",
    "                         np.round(maxval*.875, 2),\n",
    "                         np.round(maxval, 2)])\n",
    "plt.savefig(r'C:\\Users\\jenniferwh\\Dropbox (Allen Institute)\\Mesoscale Connectome Papers in Progress\\2018 Plaque\\movie\\colorbars\\{0}_{1}_colorbar.pdf'.format(mouse_line, age),\n",
    "           bbox_inches='tight', pad_inches=0.3, format='pdf', transparent = True, dpi=1000)"
   ]
  },
  {
   "cell_type": "code",
   "execution_count": null,
   "metadata": {},
   "outputs": [],
   "source": [
    "mapper.to_rgba(5)"
   ]
  },
  {
   "cell_type": "code",
   "execution_count": null,
   "metadata": {},
   "outputs": [],
   "source": [
    "max(moddat['Relative Plaque Density'])"
   ]
  },
  {
   "cell_type": "code",
   "execution_count": null,
   "metadata": {},
   "outputs": [],
   "source": []
  },
  {
   "cell_type": "code",
   "execution_count": null,
   "metadata": {},
   "outputs": [],
   "source": []
  },
  {
   "cell_type": "code",
   "execution_count": null,
   "metadata": {},
   "outputs": [],
   "source": []
  },
  {
   "cell_type": "code",
   "execution_count": null,
   "metadata": {},
   "outputs": [],
   "source": [
    "dat.to_csv(os.path.join(path, 'ontology_v2.csv'), index=False)"
   ]
  },
  {
   "cell_type": "code",
   "execution_count": null,
   "metadata": {},
   "outputs": [],
   "source": []
  }
 ],
 "metadata": {
  "kernelspec": {
   "display_name": "Python 2",
   "language": "python",
   "name": "python2"
  },
  "language_info": {
   "codemirror_mode": {
    "name": "ipython",
    "version": 2
   },
   "file_extension": ".py",
   "mimetype": "text/x-python",
   "name": "python",
   "nbconvert_exporter": "python",
   "pygments_lexer": "ipython2",
   "version": "2.7.14"
  }
 },
 "nbformat": 4,
 "nbformat_minor": 2
}
