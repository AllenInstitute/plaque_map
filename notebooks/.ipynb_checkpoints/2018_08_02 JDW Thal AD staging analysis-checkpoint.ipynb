{
 "cells": [
  {
   "cell_type": "code",
   "execution_count": null,
   "metadata": {},
   "outputs": [],
   "source": [
    "import os\n",
    "import pandas as pd\n",
    "\n",
    "path = r'/Users/jenniferwh/Dropbox (Allen Institute)/Mesoscale Connectome Papers in Progress/2018 Plaque'"
   ]
  },
  {
   "cell_type": "code",
   "execution_count": null,
   "metadata": {},
   "outputs": [],
   "source": [
    "from allensdk.core.mouse_connectivity_cache import MouseConnectivityCache\n",
    "mcc = MouseConnectivityCache(manifest_file = '../connectivity/mouse_connectivity_manifest.json')\n",
    "st = mcc.get_structure_tree()\n",
    "summary_structures = st.get_structures_by_set_id([167587189])\n",
    "ss_acronyms = [item['acronym'] for item in summary_structures]\n",
    "print(len(ss_acronyms))"
   ]
  },
  {
   "cell_type": "code",
   "execution_count": null,
   "metadata": {},
   "outputs": [],
   "source": [
    "def find_density_by_structure(structs, df):\n",
    "    sexes = []\n",
    "    ages = []\n",
    "    groups = []\n",
    "    plaque_density = []\n",
    "    isids_carrythrough = []\n",
    "    structures = []\n",
    "    for structure in structs:\n",
    "        structuredat = df[df['structure_acronym'] == structure]\n",
    "        for age in structuredat['age_group'].unique():\n",
    "            for group in structuredat[structuredat['age_group'] == age]['mouse_line'].unique():\n",
    "                isids = structuredat[(structuredat['mouse_line'] == group) & \n",
    "                                     (structuredat['age_group'] == age)]['image_series_id'].values\n",
    "                for isid in isids:\n",
    "                    sexes.append( structuredat[(structuredat['mouse_line'] == group) & \n",
    "                                          (structuredat['age_group'] == age) &\n",
    "                                         (structuredat['image_series_id'] == isid)]['sex'].values)\n",
    "                    ages.append(age)\n",
    "                    groups.append(group)\n",
    "                    plaque_d = structuredat[(structuredat['structure_acronym'] == structure) & \n",
    "                                      (structuredat['image_series_id'] == isid)]['plaque_density'].values[0]\n",
    "                    plaque_density.append(plaque_d)\n",
    "                    isids_carrythrough.append(isid)\n",
    "                    structures.append(structure)\n",
    "    density_dat = pd.DataFrame({'age': ages, 'sex': sexes, 'structure': structures, \n",
    "                                 'mouse_line': groups, 'plaque density': plaque_density,\n",
    "                                 'image_series_id': isids_carrythrough})\n",
    "    density_dat['plaque density'] = [density*100 for density in density_dat['plaque density']]\n",
    "    return(density_dat)"
   ]
  },
  {
   "cell_type": "code",
   "execution_count": null,
   "metadata": {},
   "outputs": [],
   "source": [
    "dat = pd.read_csv(os.path.join(path, 'unionizes', 'plaque_unionizes.csv'))\n",
    "c_dat = dat[dat['control'] == True]\n",
    "dat = dat[dat['control'] == False]"
   ]
  },
  {
   "cell_type": "code",
   "execution_count": null,
   "metadata": {},
   "outputs": [],
   "source": [
    "dat.head()"
   ]
  },
  {
   "cell_type": "code",
   "execution_count": null,
   "metadata": {},
   "outputs": [],
   "source": [
    "dat['mouse_line'].unique()"
   ]
  },
  {
   "cell_type": "code",
   "execution_count": null,
   "metadata": {},
   "outputs": [],
   "source": [
    "len(dat['image_series_id'].unique())"
   ]
  },
  {
   "cell_type": "code",
   "execution_count": null,
   "metadata": {},
   "outputs": [],
   "source": [
    "plaque_structures = ['Isocortex', 'CA1', 'ENTl', 'ENTm', 'ACA', 'RSP', 'LA', 'BLA', 'BMA', 'PA', 'CEA',\n",
    "                     'MEA', 'COA', 'DG', 'PRE', 'POST', 'TH', 'CP', 'ACB', 'HY', 'SI', 'MA', 'NDB', 'PAG', \n",
    "                     'SCs', 'SCm', 'RN', 'IO', 'SNr', 'SNc', 'GRN', 'IRN', 'PARN', 'CBX', 'PRNr', 'PRNc', \n",
    "                     'RAmb', 'LC', 'PB', 'TRN', 'DTN', 'PG', 'DN']\n"
   ]
  },
  {
   "cell_type": "code",
   "execution_count": null,
   "metadata": {},
   "outputs": [],
   "source": [
    "results = find_density_by_structure(plaque_structures, dat)\n",
    "results = results.groupby(['structure', 'mouse_line', 'age']).median().reset_index()"
   ]
  },
  {
   "cell_type": "code",
   "execution_count": null,
   "metadata": {},
   "outputs": [],
   "source": [
    "c_results = find_density_by_structure(plaque_structures, c_dat)\n",
    "c_results = c_results.groupby(['structure', 'mouse_line']).median().reset_index()"
   ]
  },
  {
   "cell_type": "code",
   "execution_count": null,
   "metadata": {},
   "outputs": [],
   "source": [
    "len(results['structure'].unique())"
   ]
  },
  {
   "cell_type": "code",
   "execution_count": null,
   "metadata": {},
   "outputs": [],
   "source": [
    "len(c_results['structure'].unique())"
   ]
  },
  {
   "cell_type": "code",
   "execution_count": null,
   "metadata": {},
   "outputs": [],
   "source": [
    "results.to_csv(os.path.join(path, 'Thal staging', 'Values_per_structure_median.csv'))\n",
    "c_results.to_csv(os.path.join(path, 'Thal staging', 'Values_per_structure_control_median.csv'))"
   ]
  },
  {
   "cell_type": "code",
   "execution_count": null,
   "metadata": {},
   "outputs": [],
   "source": [
    "ss_results = find_density_by_structure(ss_acronyms, dat)\n",
    "ss_results = ss_results.groupby(['structure', 'mouse_line', 'age']).median().reset_index()"
   ]
  },
  {
   "cell_type": "code",
   "execution_count": null,
   "metadata": {},
   "outputs": [],
   "source": [
    "ss_results_c = find_density_by_structure(ss_acronyms, c_dat)\n",
    "ss_results_c = ss_results_c.groupby(['structure', 'mouse_line']).median().reset_index()"
   ]
  },
  {
   "cell_type": "code",
   "execution_count": null,
   "metadata": {},
   "outputs": [],
   "source": [
    "ss_results.head()"
   ]
  },
  {
   "cell_type": "code",
   "execution_count": null,
   "metadata": {},
   "outputs": [],
   "source": [
    "ss_results = ss_results.merge(ss_results_c[['structure', 'mouse_line', 'plaque density']], on = ['structure', 'mouse_line'],\n",
    "                       suffixes = [\"\", '_c'], how = 'left')"
   ]
  },
  {
   "cell_type": "code",
   "execution_count": null,
   "metadata": {},
   "outputs": [],
   "source": [
    "ss_results['plaque density control subtracted'] = ss_results['plaque density'] - ss_results['plaque density_c']"
   ]
  },
  {
   "cell_type": "code",
   "execution_count": null,
   "metadata": {},
   "outputs": [],
   "source": [
    "ss_results[ss_results['mouse_line'] == 'APP/PS1'].describe()"
   ]
  },
  {
   "cell_type": "code",
   "execution_count": null,
   "metadata": {},
   "outputs": [],
   "source": [
    "ss_results[ss_results['mouse_line'] == 'APP/PS1']['plaque density'].quantile(0.9)"
   ]
  },
  {
   "cell_type": "code",
   "execution_count": null,
   "metadata": {},
   "outputs": [],
   "source": [
    "threshold = 0.081421\n",
    "ss_results[ss_results['plaque density'] > threshold]['structure'].unique()"
   ]
  },
  {
   "cell_type": "code",
   "execution_count": null,
   "metadata": {},
   "outputs": [],
   "source": [
    "ss_results[ss_results['mouse_line'] == 'hAPP-J20'].describe()"
   ]
  },
  {
   "cell_type": "code",
   "execution_count": null,
   "metadata": {},
   "outputs": [],
   "source": [
    "threshold = 0.005928\n",
    "ss_results[(ss_results['mouse_line'] == 'hAPP-J20') &\n",
    "        (ss_results['plaque density'] > threshold)]['structure'].unique()"
   ]
  },
  {
   "cell_type": "code",
   "execution_count": null,
   "metadata": {},
   "outputs": [],
   "source": [
    "ss_results[ss_results['mouse_line'] == 'Tg2576'].describe()"
   ]
  },
  {
   "cell_type": "code",
   "execution_count": null,
   "metadata": {},
   "outputs": [],
   "source": [
    "threshold = 0.000456\n",
    "ss_results[(ss_results['mouse_line'] == 'Tg2576') &\n",
    "        (ss_results['plaque density'] > threshold)]['structure'].unique()"
   ]
  },
  {
   "cell_type": "code",
   "execution_count": null,
   "metadata": {},
   "outputs": [],
   "source": [
    "ss_results_c.describe()"
   ]
  },
  {
   "cell_type": "code",
   "execution_count": null,
   "metadata": {},
   "outputs": [],
   "source": [
    "ss_results[ss_results['mouse_line'] == 'APP/PS1'].median()"
   ]
  },
  {
   "cell_type": "code",
   "execution_count": null,
   "metadata": {},
   "outputs": [],
   "source": [
    "ss_results[ss_results['mouse_line'] == 'hAPP-J20'].quantile(0.25)"
   ]
  },
  {
   "cell_type": "code",
   "execution_count": null,
   "metadata": {},
   "outputs": [],
   "source": [
    "ss_results_c.quantile(0.1)"
   ]
  },
  {
   "cell_type": "code",
   "execution_count": null,
   "metadata": {},
   "outputs": [],
   "source": []
  }
 ],
 "metadata": {
  "kernelspec": {
   "display_name": "Python 2",
   "language": "python",
   "name": "python2"
  },
  "language_info": {
   "codemirror_mode": {
    "name": "ipython",
    "version": 2
   },
   "file_extension": ".py",
   "mimetype": "text/x-python",
   "name": "python",
   "nbconvert_exporter": "python",
   "pygments_lexer": "ipython2",
   "version": "2.7.14"
  }
 },
 "nbformat": 4,
 "nbformat_minor": 2
}
