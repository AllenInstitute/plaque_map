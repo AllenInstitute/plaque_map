{
 "cells": [
  {
   "cell_type": "code",
   "execution_count": 1,
   "metadata": {
    "scrolled": true
   },
   "outputs": [],
   "source": [
    "import os\n",
    "import pandas as pd\n",
    "\n",
    "path = r'/Users/jenniferwh/Dropbox (Allen Institute)/Mesoscale Connectome Papers in Progress/2018 Plaque'"
   ]
  },
  {
   "cell_type": "code",
   "execution_count": 2,
   "metadata": {},
   "outputs": [
    {
     "name": "stdout",
     "output_type": "stream",
     "text": [
      "316\n"
     ]
    }
   ],
   "source": [
    "from allensdk.core.mouse_connectivity_cache import MouseConnectivityCache\n",
    "mcc = MouseConnectivityCache(manifest_file = '../connectivity/mouse_connectivity_manifest.json')\n",
    "st = mcc.get_structure_tree()\n",
    "summary_structures = st.get_structures_by_set_id([167587189])\n",
    "ss_acronyms = [item['acronym'] for item in summary_structures]\n",
    "print(len(ss_acronyms))"
   ]
  },
  {
   "cell_type": "code",
   "execution_count": 3,
   "metadata": {
    "collapsed": true
   },
   "outputs": [],
   "source": [
    "def find_density_by_structure(structs, df):\n",
    "    sexes = []\n",
    "    ages = []\n",
    "    groups = []\n",
    "    plaque_density = []\n",
    "    isids_carrythrough = []\n",
    "    structures = []\n",
    "    for structure in structs:\n",
    "        structuredat = df[df['structure_acronym'] == structure]\n",
    "        for age in structuredat['age_group'].unique():\n",
    "            for group in structuredat[structuredat['age_group'] == age]['mouse_line'].unique():\n",
    "                isids = structuredat[(structuredat['mouse_line'] == group) & \n",
    "                                     (structuredat['age_group'] == age)]['image_series_id'].values\n",
    "                for isid in isids:\n",
    "                    sexes.append( structuredat[(structuredat['mouse_line'] == group) & \n",
    "                                          (structuredat['age_group'] == age) &\n",
    "                                         (structuredat['image_series_id'] == isid)]['sex'].values)\n",
    "                    ages.append(age)\n",
    "                    groups.append(group)\n",
    "                    plaque_d = structuredat[(structuredat['structure_acronym'] == structure) & \n",
    "                                      (structuredat['image_series_id'] == isid)]['plaque_density'].values[0]\n",
    "                    plaque_density.append(plaque_d)\n",
    "                    isids_carrythrough.append(isid)\n",
    "                    structures.append(structure)\n",
    "    density_dat = pd.DataFrame({'age': ages, 'sex': sexes, 'structure': structures, \n",
    "                                 'mouse_line': groups, 'plaque density': plaque_density,\n",
    "                                 'image_series_id': isids_carrythrough})\n",
    "    density_dat['plaque density'] = [density*100 for density in density_dat['plaque density']]\n",
    "    return(density_dat)"
   ]
  },
  {
   "cell_type": "code",
   "execution_count": 4,
   "metadata": {
    "collapsed": true
   },
   "outputs": [],
   "source": [
    "dat = pd.read_csv(os.path.join(path, 'unionizes', 'plaque_unionizes.csv'))\n",
    "c_dat = dat[dat['control'] == True]\n",
    "dat = dat[dat['control'] == False]"
   ]
  },
  {
   "cell_type": "code",
   "execution_count": 5,
   "metadata": {
    "scrolled": true
   },
   "outputs": [
    {
     "data": {
      "text/html": [
       "<div>\n",
       "<style scoped>\n",
       "    .dataframe tbody tr th:only-of-type {\n",
       "        vertical-align: middle;\n",
       "    }\n",
       "\n",
       "    .dataframe tbody tr th {\n",
       "        vertical-align: top;\n",
       "    }\n",
       "\n",
       "    .dataframe thead th {\n",
       "        text-align: right;\n",
       "    }\n",
       "</style>\n",
       "<table border=\"1\" class=\"dataframe\">\n",
       "  <thead>\n",
       "    <tr style=\"text-align: right;\">\n",
       "      <th></th>\n",
       "      <th>image_series_id</th>\n",
       "      <th>mouse_line</th>\n",
       "      <th>age</th>\n",
       "      <th>age_group</th>\n",
       "      <th>sex</th>\n",
       "      <th>control</th>\n",
       "      <th>structure_acronym</th>\n",
       "      <th>volume</th>\n",
       "      <th>sum_plaques</th>\n",
       "      <th>sum_plaque_sizes</th>\n",
       "      <th>sum_plaque_volumes</th>\n",
       "      <th>avg_plaque_size</th>\n",
       "      <th>avg_plaque_volume</th>\n",
       "      <th>plaque_density</th>\n",
       "      <th>plaque_volume</th>\n",
       "    </tr>\n",
       "  </thead>\n",
       "  <tbody>\n",
       "    <tr>\n",
       "      <th>0</th>\n",
       "      <td>475831312</td>\n",
       "      <td>APP/PS1</td>\n",
       "      <td>145</td>\n",
       "      <td>5 mo</td>\n",
       "      <td>M</td>\n",
       "      <td>False</td>\n",
       "      <td>TMv</td>\n",
       "      <td>0.059426</td>\n",
       "      <td>0</td>\n",
       "      <td>0.0</td>\n",
       "      <td>0.000000</td>\n",
       "      <td>0.000000</td>\n",
       "      <td>0.000000</td>\n",
       "      <td>0.000000e+00</td>\n",
       "      <td>0.000000e+00</td>\n",
       "    </tr>\n",
       "    <tr>\n",
       "      <th>1</th>\n",
       "      <td>475831312</td>\n",
       "      <td>APP/PS1</td>\n",
       "      <td>145</td>\n",
       "      <td>5 mo</td>\n",
       "      <td>M</td>\n",
       "      <td>False</td>\n",
       "      <td>SSp-m6b</td>\n",
       "      <td>0.062983</td>\n",
       "      <td>0</td>\n",
       "      <td>0.0</td>\n",
       "      <td>0.000000</td>\n",
       "      <td>0.000000</td>\n",
       "      <td>0.000000</td>\n",
       "      <td>0.000000e+00</td>\n",
       "      <td>0.000000e+00</td>\n",
       "    </tr>\n",
       "    <tr>\n",
       "      <th>2</th>\n",
       "      <td>475831312</td>\n",
       "      <td>APP/PS1</td>\n",
       "      <td>145</td>\n",
       "      <td>5 mo</td>\n",
       "      <td>M</td>\n",
       "      <td>False</td>\n",
       "      <td>IC</td>\n",
       "      <td>2.450618</td>\n",
       "      <td>9</td>\n",
       "      <td>1443.0</td>\n",
       "      <td>41.564454</td>\n",
       "      <td>160.333333</td>\n",
       "      <td>4.618273</td>\n",
       "      <td>1.799584e-05</td>\n",
       "      <td>4.410093e-05</td>\n",
       "    </tr>\n",
       "    <tr>\n",
       "      <th>3</th>\n",
       "      <td>475831312</td>\n",
       "      <td>APP/PS1</td>\n",
       "      <td>145</td>\n",
       "      <td>5 mo</td>\n",
       "      <td>M</td>\n",
       "      <td>False</td>\n",
       "      <td>int</td>\n",
       "      <td>1.152067</td>\n",
       "      <td>0</td>\n",
       "      <td>0.0</td>\n",
       "      <td>0.000000</td>\n",
       "      <td>0.000000</td>\n",
       "      <td>0.000000</td>\n",
       "      <td>1.217491e-11</td>\n",
       "      <td>1.402631e-11</td>\n",
       "    </tr>\n",
       "    <tr>\n",
       "      <th>4</th>\n",
       "      <td>475831312</td>\n",
       "      <td>APP/PS1</td>\n",
       "      <td>145</td>\n",
       "      <td>5 mo</td>\n",
       "      <td>M</td>\n",
       "      <td>False</td>\n",
       "      <td>PSV</td>\n",
       "      <td>0.609724</td>\n",
       "      <td>0</td>\n",
       "      <td>0.0</td>\n",
       "      <td>0.000000</td>\n",
       "      <td>0.000000</td>\n",
       "      <td>0.000000</td>\n",
       "      <td>2.019803e-11</td>\n",
       "      <td>1.231523e-11</td>\n",
       "    </tr>\n",
       "  </tbody>\n",
       "</table>\n",
       "</div>"
      ],
      "text/plain": [
       "   image_series_id mouse_line  age age_group sex  control structure_acronym  \\\n",
       "0        475831312    APP/PS1  145      5 mo   M    False               TMv   \n",
       "1        475831312    APP/PS1  145      5 mo   M    False           SSp-m6b   \n",
       "2        475831312    APP/PS1  145      5 mo   M    False                IC   \n",
       "3        475831312    APP/PS1  145      5 mo   M    False               int   \n",
       "4        475831312    APP/PS1  145      5 mo   M    False               PSV   \n",
       "\n",
       "     volume  sum_plaques  sum_plaque_sizes  sum_plaque_volumes  \\\n",
       "0  0.059426            0               0.0            0.000000   \n",
       "1  0.062983            0               0.0            0.000000   \n",
       "2  2.450618            9            1443.0           41.564454   \n",
       "3  1.152067            0               0.0            0.000000   \n",
       "4  0.609724            0               0.0            0.000000   \n",
       "\n",
       "   avg_plaque_size  avg_plaque_volume  plaque_density  plaque_volume  \n",
       "0         0.000000           0.000000    0.000000e+00   0.000000e+00  \n",
       "1         0.000000           0.000000    0.000000e+00   0.000000e+00  \n",
       "2       160.333333           4.618273    1.799584e-05   4.410093e-05  \n",
       "3         0.000000           0.000000    1.217491e-11   1.402631e-11  \n",
       "4         0.000000           0.000000    2.019803e-11   1.231523e-11  "
      ]
     },
     "execution_count": 5,
     "metadata": {},
     "output_type": "execute_result"
    }
   ],
   "source": [
    "dat.head()"
   ]
  },
  {
   "cell_type": "code",
   "execution_count": 6,
   "metadata": {},
   "outputs": [
    {
     "data": {
      "text/plain": [
       "array(['APP/PS1', 'hAPP-J20', 'Tg2576'], dtype=object)"
      ]
     },
     "execution_count": 6,
     "metadata": {},
     "output_type": "execute_result"
    }
   ],
   "source": [
    "dat['mouse_line'].unique()"
   ]
  },
  {
   "cell_type": "code",
   "execution_count": 7,
   "metadata": {},
   "outputs": [
    {
     "data": {
      "text/plain": [
       "111"
      ]
     },
     "execution_count": 7,
     "metadata": {},
     "output_type": "execute_result"
    }
   ],
   "source": [
    "len(dat['image_series_id'].unique())"
   ]
  },
  {
   "cell_type": "code",
   "execution_count": 8,
   "metadata": {
    "collapsed": true
   },
   "outputs": [],
   "source": [
    "plaque_structures = ['Isocortex', 'CA1', 'ENTl', 'ENTm', 'ACA', 'RSP', 'LA', 'BLA', 'BMA', 'PA', 'CEA',\n",
    "                     'MEA', 'COA', 'DG', 'PRE', 'POST', 'TH', 'CP', 'ACB', 'HY', 'SI', 'MA', 'NDB', 'PAG', \n",
    "                     'SCs', 'SCm', 'RN', 'IO', 'SNr', 'SNc', 'GRN', 'IRN', 'PARN', 'CBX', 'PRNr', 'PRNc', \n",
    "                     'RAmb', 'LC', 'PB', 'TRN', 'DTN', 'PG', 'DN']\n"
   ]
  },
  {
   "cell_type": "code",
   "execution_count": 12,
   "metadata": {
    "collapsed": true,
    "scrolled": true
   },
   "outputs": [],
   "source": [
    "results = find_density_by_structure(plaque_structures, dat)\n",
    "results = results.groupby(['structure', 'mouse_line', 'age']).median().reset_index()"
   ]
  },
  {
   "cell_type": "code",
   "execution_count": 13,
   "metadata": {
    "collapsed": true
   },
   "outputs": [],
   "source": [
    "c_results = find_density_by_structure(plaque_structures, c_dat)\n",
    "c_results = c_results.groupby(['structure', 'mouse_line']).median().reset_index()"
   ]
  },
  {
   "cell_type": "code",
   "execution_count": 14,
   "metadata": {},
   "outputs": [
    {
     "data": {
      "text/plain": [
       "43"
      ]
     },
     "execution_count": 14,
     "metadata": {},
     "output_type": "execute_result"
    }
   ],
   "source": [
    "len(results['structure'].unique())"
   ]
  },
  {
   "cell_type": "code",
   "execution_count": 15,
   "metadata": {},
   "outputs": [
    {
     "data": {
      "text/plain": [
       "43"
      ]
     },
     "execution_count": 15,
     "metadata": {},
     "output_type": "execute_result"
    }
   ],
   "source": [
    "len(c_results['structure'].unique())"
   ]
  },
  {
   "cell_type": "code",
   "execution_count": 16,
   "metadata": {
    "collapsed": true
   },
   "outputs": [],
   "source": [
    "results.to_csv(os.path.join(path, 'Thal staging', 'Values_per_structure_median.csv'))\n",
    "c_results.to_csv(os.path.join(path, 'Thal staging', 'Values_per_structure_control_median.csv'))"
   ]
  },
  {
   "cell_type": "code",
   "execution_count": 17,
   "metadata": {
    "collapsed": true,
    "scrolled": true
   },
   "outputs": [],
   "source": [
    "ss_results = find_density_by_structure(ss_acronyms, dat)\n",
    "ss_results = ss_results.groupby(['structure', 'mouse_line', 'age']).median().reset_index()"
   ]
  },
  {
   "cell_type": "code",
   "execution_count": 18,
   "metadata": {
    "collapsed": true
   },
   "outputs": [],
   "source": [
    "ss_results_c = find_density_by_structure(ss_acronyms, c_dat)\n",
    "ss_results_c = ss_results_c.groupby(['structure', 'mouse_line']).median().reset_index()"
   ]
  },
  {
   "cell_type": "code",
   "execution_count": 19,
   "metadata": {},
   "outputs": [
    {
     "data": {
      "text/html": [
       "<div>\n",
       "<style scoped>\n",
       "    .dataframe tbody tr th:only-of-type {\n",
       "        vertical-align: middle;\n",
       "    }\n",
       "\n",
       "    .dataframe tbody tr th {\n",
       "        vertical-align: top;\n",
       "    }\n",
       "\n",
       "    .dataframe thead th {\n",
       "        text-align: right;\n",
       "    }\n",
       "</style>\n",
       "<table border=\"1\" class=\"dataframe\">\n",
       "  <thead>\n",
       "    <tr style=\"text-align: right;\">\n",
       "      <th></th>\n",
       "      <th>structure</th>\n",
       "      <th>mouse_line</th>\n",
       "      <th>age</th>\n",
       "      <th>image_series_id</th>\n",
       "      <th>plaque density</th>\n",
       "    </tr>\n",
       "  </thead>\n",
       "  <tbody>\n",
       "    <tr>\n",
       "      <th>0</th>\n",
       "      <td>AAA</td>\n",
       "      <td>APP/PS1</td>\n",
       "      <td>13 mo</td>\n",
       "      <td>610379428.0</td>\n",
       "      <td>0.064749</td>\n",
       "    </tr>\n",
       "    <tr>\n",
       "      <th>1</th>\n",
       "      <td>AAA</td>\n",
       "      <td>APP/PS1</td>\n",
       "      <td>19 mo</td>\n",
       "      <td>652525789.0</td>\n",
       "      <td>0.206717</td>\n",
       "    </tr>\n",
       "    <tr>\n",
       "      <th>2</th>\n",
       "      <td>AAA</td>\n",
       "      <td>APP/PS1</td>\n",
       "      <td>5 mo</td>\n",
       "      <td>475984957.0</td>\n",
       "      <td>0.000000</td>\n",
       "    </tr>\n",
       "    <tr>\n",
       "      <th>3</th>\n",
       "      <td>AAA</td>\n",
       "      <td>APP/PS1</td>\n",
       "      <td>7 mo</td>\n",
       "      <td>511446838.0</td>\n",
       "      <td>0.000572</td>\n",
       "    </tr>\n",
       "    <tr>\n",
       "      <th>4</th>\n",
       "      <td>AAA</td>\n",
       "      <td>APP/PS1</td>\n",
       "      <td>9 mo</td>\n",
       "      <td>631192404.5</td>\n",
       "      <td>0.012688</td>\n",
       "    </tr>\n",
       "  </tbody>\n",
       "</table>\n",
       "</div>"
      ],
      "text/plain": [
       "  structure mouse_line    age  image_series_id  plaque density\n",
       "0       AAA    APP/PS1  13 mo      610379428.0        0.064749\n",
       "1       AAA    APP/PS1  19 mo      652525789.0        0.206717\n",
       "2       AAA    APP/PS1   5 mo      475984957.0        0.000000\n",
       "3       AAA    APP/PS1   7 mo      511446838.0        0.000572\n",
       "4       AAA    APP/PS1   9 mo      631192404.5        0.012688"
      ]
     },
     "execution_count": 19,
     "metadata": {},
     "output_type": "execute_result"
    }
   ],
   "source": [
    "ss_results.head()"
   ]
  },
  {
   "cell_type": "code",
   "execution_count": 20,
   "metadata": {
    "collapsed": true
   },
   "outputs": [],
   "source": [
    "ss_results = ss_results.merge(ss_results_c[['structure', 'mouse_line', 'plaque density']], on = ['structure', 'mouse_line'],\n",
    "                       suffixes = [\"\", '_c'], how = 'left')"
   ]
  },
  {
   "cell_type": "code",
   "execution_count": 21,
   "metadata": {
    "collapsed": true
   },
   "outputs": [],
   "source": [
    "ss_results['plaque density control subtracted'] = ss_results['plaque density'] - ss_results['plaque density_c']"
   ]
  },
  {
   "cell_type": "code",
   "execution_count": 30,
   "metadata": {},
   "outputs": [
    {
     "data": {
      "text/html": [
       "<div>\n",
       "<style scoped>\n",
       "    .dataframe tbody tr th:only-of-type {\n",
       "        vertical-align: middle;\n",
       "    }\n",
       "\n",
       "    .dataframe tbody tr th {\n",
       "        vertical-align: top;\n",
       "    }\n",
       "\n",
       "    .dataframe thead th {\n",
       "        text-align: right;\n",
       "    }\n",
       "</style>\n",
       "<table border=\"1\" class=\"dataframe\">\n",
       "  <thead>\n",
       "    <tr style=\"text-align: right;\">\n",
       "      <th></th>\n",
       "      <th>image_series_id</th>\n",
       "      <th>plaque density</th>\n",
       "      <th>plaque density_c</th>\n",
       "      <th>plaque density control subtracted</th>\n",
       "    </tr>\n",
       "  </thead>\n",
       "  <tbody>\n",
       "    <tr>\n",
       "      <th>count</th>\n",
       "      <td>1.580000e+03</td>\n",
       "      <td>1580.000000</td>\n",
       "      <td>1580.000000</td>\n",
       "      <td>1580.000000</td>\n",
       "    </tr>\n",
       "    <tr>\n",
       "      <th>mean</th>\n",
       "      <td>5.763059e+08</td>\n",
       "      <td>0.124863</td>\n",
       "      <td>0.002659</td>\n",
       "      <td>0.122204</td>\n",
       "    </tr>\n",
       "    <tr>\n",
       "      <th>std</th>\n",
       "      <td>6.966973e+07</td>\n",
       "      <td>0.263440</td>\n",
       "      <td>0.008999</td>\n",
       "      <td>0.263165</td>\n",
       "    </tr>\n",
       "    <tr>\n",
       "      <th>min</th>\n",
       "      <td>4.759850e+08</td>\n",
       "      <td>0.000000</td>\n",
       "      <td>0.000000</td>\n",
       "      <td>-0.112560</td>\n",
       "    </tr>\n",
       "    <tr>\n",
       "      <th>25%</th>\n",
       "      <td>5.114468e+08</td>\n",
       "      <td>0.000000</td>\n",
       "      <td>0.000000</td>\n",
       "      <td>0.000000</td>\n",
       "    </tr>\n",
       "    <tr>\n",
       "      <th>50%</th>\n",
       "      <td>6.103794e+08</td>\n",
       "      <td>0.000903</td>\n",
       "      <td>0.000131</td>\n",
       "      <td>0.000065</td>\n",
       "    </tr>\n",
       "    <tr>\n",
       "      <th>75%</th>\n",
       "      <td>6.311924e+08</td>\n",
       "      <td>0.075218</td>\n",
       "      <td>0.002316</td>\n",
       "      <td>0.068934</td>\n",
       "    </tr>\n",
       "    <tr>\n",
       "      <th>max</th>\n",
       "      <td>6.525258e+08</td>\n",
       "      <td>1.401652</td>\n",
       "      <td>0.112560</td>\n",
       "      <td>1.395901</td>\n",
       "    </tr>\n",
       "  </tbody>\n",
       "</table>\n",
       "</div>"
      ],
      "text/plain": [
       "       image_series_id  plaque density  plaque density_c  \\\n",
       "count     1.580000e+03     1580.000000       1580.000000   \n",
       "mean      5.763059e+08        0.124863          0.002659   \n",
       "std       6.966973e+07        0.263440          0.008999   \n",
       "min       4.759850e+08        0.000000          0.000000   \n",
       "25%       5.114468e+08        0.000000          0.000000   \n",
       "50%       6.103794e+08        0.000903          0.000131   \n",
       "75%       6.311924e+08        0.075218          0.002316   \n",
       "max       6.525258e+08        1.401652          0.112560   \n",
       "\n",
       "       plaque density control subtracted  \n",
       "count                        1580.000000  \n",
       "mean                            0.122204  \n",
       "std                             0.263165  \n",
       "min                            -0.112560  \n",
       "25%                             0.000000  \n",
       "50%                             0.000065  \n",
       "75%                             0.068934  \n",
       "max                             1.395901  "
      ]
     },
     "execution_count": 30,
     "metadata": {},
     "output_type": "execute_result"
    }
   ],
   "source": [
    "ss_results[ss_results['mouse_line'] == 'APP/PS1'].describe()"
   ]
  },
  {
   "cell_type": "code",
   "execution_count": 29,
   "metadata": {},
   "outputs": [
    {
     "data": {
      "text/plain": [
       "0.5227535471710112"
      ]
     },
     "execution_count": 29,
     "metadata": {},
     "output_type": "execute_result"
    }
   ],
   "source": [
    "ss_results[ss_results['mouse_line'] == 'APP/PS1']['plaque density'].quantile(0.9)"
   ]
  },
  {
   "cell_type": "code",
   "execution_count": 38,
   "metadata": {},
   "outputs": [
    {
     "data": {
      "text/plain": [
       "array([u'AAA', u'ACAd', u'ACAv', u'ACB', u'AD', u'AId', u'AIp', u'AIv',\n",
       "       u'AM', u'AN', u'AOB', u'AON', u'AP', u'APr', u'AUDd', u'AUDp',\n",
       "       u'AUDpo', u'AUDv', u'AV', u'BA', u'BAC', u'BLA', u'BMA', u'BST',\n",
       "       u'CA1', u'CA2', u'CA3', u'CEA', u'CENT', u'CLA', u'COAa', u'COAp',\n",
       "       u'COPY', u'CP', u'CUL', u'DCO', u'DEC', u'DG', u'DMX', u'DP',\n",
       "       u'DR', u'ECT', u'ENTl', u'ENTm', u'EPd', u'EPv', u'FC', u'FL',\n",
       "       u'FOTU', u'FRP', u'FS', u'GU', u'HATA', u'IA', u'IC', u'IG',\n",
       "       u'IGL', u'ILA', u'IO', u'ISN', u'IntG', u'LA', u'LD', u'LGd',\n",
       "       u'LGv', u'LING', u'LP', u'LSr', u'LSv', u'MEA', u'MEPO', u'MG',\n",
       "       u'MH', u'MOB', u'MOp', u'MOs', u'MV', u'NLOT', u'NOD', u'ORBl',\n",
       "       u'ORBm', u'ORBvl', u'OT', u'OV', u'PA', u'PAA', u'PAG', u'PAR',\n",
       "       u'PAS', u'PC5', u'PCG', u'PCN', u'PD', u'PDTg', u'PERI', u'PF',\n",
       "       u'PFL', u'PIR', u'PL', u'PO', u'POL', u'POST', u'PRE', u'PRM',\n",
       "       u'PRP', u'PT', u'PVT', u'PVi', u'PVpo', u'PYR', u'PoT', u'ProS',\n",
       "       u'RSPagl', u'RSPd', u'RSPv', u'RT', u'SCO', u'SCs', u'SF', u'SFO',\n",
       "       u'SGN', u'SH', u'SIM', u'SMT', u'SNr', u'SSp-bfd', u'SSp-ll',\n",
       "       u'SSp-m', u'SSp-n', u'SSp-tr', u'SSp-ul', u'SSp-un', u'SSs',\n",
       "       u'STN', u'SUB', u'SubG', u'TEa', u'TMd', u'TR', u'TRS', u'TT',\n",
       "       u'UVU', u'VAL', u'VISC', u'VISa', u'VISal', u'VISam', u'VISl',\n",
       "       u'VISli', u'VISp', u'VISpl', u'VISpm', u'VISpor', u'VISrl', u'VM',\n",
       "       u'VPL', u'VPLpc', u'VPM', u'VPMpc', u'fiber tracts', u'y'],\n",
       "      dtype=object)"
      ]
     },
     "execution_count": 38,
     "metadata": {},
     "output_type": "execute_result"
    }
   ],
   "source": [
    "threshold = 0.081421\n",
    "ss_results[ss_results['plaque density'] > threshold]['structure'].unique()"
   ]
  },
  {
   "cell_type": "code",
   "execution_count": 50,
   "metadata": {},
   "outputs": [
    {
     "data": {
      "text/html": [
       "<div>\n",
       "<style scoped>\n",
       "    .dataframe tbody tr th:only-of-type {\n",
       "        vertical-align: middle;\n",
       "    }\n",
       "\n",
       "    .dataframe tbody tr th {\n",
       "        vertical-align: top;\n",
       "    }\n",
       "\n",
       "    .dataframe thead th {\n",
       "        text-align: right;\n",
       "    }\n",
       "</style>\n",
       "<table border=\"1\" class=\"dataframe\">\n",
       "  <thead>\n",
       "    <tr style=\"text-align: right;\">\n",
       "      <th></th>\n",
       "      <th>image_series_id</th>\n",
       "      <th>plaque density</th>\n",
       "      <th>plaque density_c</th>\n",
       "      <th>plaque density control subtracted</th>\n",
       "    </tr>\n",
       "  </thead>\n",
       "  <tbody>\n",
       "    <tr>\n",
       "      <th>count</th>\n",
       "      <td>1.580000e+03</td>\n",
       "      <td>1580.000000</td>\n",
       "      <td>1580.000000</td>\n",
       "      <td>1580.000000</td>\n",
       "    </tr>\n",
       "    <tr>\n",
       "      <th>mean</th>\n",
       "      <td>6.572671e+08</td>\n",
       "      <td>0.021891</td>\n",
       "      <td>0.008039</td>\n",
       "      <td>0.013852</td>\n",
       "    </tr>\n",
       "    <tr>\n",
       "      <th>std</th>\n",
       "      <td>3.437662e+07</td>\n",
       "      <td>0.112913</td>\n",
       "      <td>0.038834</td>\n",
       "      <td>0.100527</td>\n",
       "    </tr>\n",
       "    <tr>\n",
       "      <th>min</th>\n",
       "      <td>6.001064e+08</td>\n",
       "      <td>0.000000</td>\n",
       "      <td>0.000000</td>\n",
       "      <td>-0.417341</td>\n",
       "    </tr>\n",
       "    <tr>\n",
       "      <th>25%</th>\n",
       "      <td>6.442276e+08</td>\n",
       "      <td>0.000004</td>\n",
       "      <td>0.000191</td>\n",
       "      <td>-0.000246</td>\n",
       "    </tr>\n",
       "    <tr>\n",
       "      <th>50%</th>\n",
       "      <td>6.667931e+08</td>\n",
       "      <td>0.001541</td>\n",
       "      <td>0.000583</td>\n",
       "      <td>0.000223</td>\n",
       "    </tr>\n",
       "    <tr>\n",
       "      <th>75%</th>\n",
       "      <td>6.712301e+08</td>\n",
       "      <td>0.010989</td>\n",
       "      <td>0.002095</td>\n",
       "      <td>0.005928</td>\n",
       "    </tr>\n",
       "    <tr>\n",
       "      <th>max</th>\n",
       "      <td>7.039783e+08</td>\n",
       "      <td>3.740215</td>\n",
       "      <td>0.584336</td>\n",
       "      <td>3.155879</td>\n",
       "    </tr>\n",
       "  </tbody>\n",
       "</table>\n",
       "</div>"
      ],
      "text/plain": [
       "       image_series_id  plaque density  plaque density_c  \\\n",
       "count     1.580000e+03     1580.000000       1580.000000   \n",
       "mean      6.572671e+08        0.021891          0.008039   \n",
       "std       3.437662e+07        0.112913          0.038834   \n",
       "min       6.001064e+08        0.000000          0.000000   \n",
       "25%       6.442276e+08        0.000004          0.000191   \n",
       "50%       6.667931e+08        0.001541          0.000583   \n",
       "75%       6.712301e+08        0.010989          0.002095   \n",
       "max       7.039783e+08        3.740215          0.584336   \n",
       "\n",
       "       plaque density control subtracted  \n",
       "count                        1580.000000  \n",
       "mean                            0.013852  \n",
       "std                             0.100527  \n",
       "min                            -0.417341  \n",
       "25%                            -0.000246  \n",
       "50%                             0.000223  \n",
       "75%                             0.005928  \n",
       "max                             3.155879  "
      ]
     },
     "execution_count": 50,
     "metadata": {},
     "output_type": "execute_result"
    }
   ],
   "source": [
    "ss_results[ss_results['mouse_line'] == 'hAPP-J20'].describe()"
   ]
  },
  {
   "cell_type": "code",
   "execution_count": 51,
   "metadata": {},
   "outputs": [
    {
     "data": {
      "text/plain": [
       "array([u'AAA', u'ACAd', u'ACAv', u'AD', u'AHN', u'AId', u'AIp', u'AIv',\n",
       "       u'AM', u'AMB', u'AN', u'AOB', u'AON', u'AP', u'APr', u'ARH',\n",
       "       u'ASO', u'AUDd', u'AUDp', u'AUDpo', u'AUDv', u'AV', u'AVP',\n",
       "       u'AVPV', u'B', u'BA', u'BAC', u'BLA', u'BMA', u'BST', u'CA1',\n",
       "       u'CA2', u'CA3', u'CEA', u'CENT', u'CL', u'CM', u'COAp', u'COPY',\n",
       "       u'CP', u'CUL', u'CUN', u'DCO', u'DEC', u'DG', u'DMH', u'DMX',\n",
       "       u'DP', u'DR', u'DTN', u'ECT', u'ENTl', u'ENTm', u'EPd', u'EPv',\n",
       "       u'FC', u'FL', u'FOTU', u'FRP', u'FS', u'GR', u'GU', u'HATA', u'IA',\n",
       "       u'IAD', u'IAM', u'IF', u'IG', u'ILA', u'IMD', u'IO', u'IPN', u'IV',\n",
       "       u'LA', u'LAV', u'LD', u'LDT', u'LGd', u'LH', u'LIN', u'LING',\n",
       "       u'LM', u'LP', u'LRN', u'LSc', u'LSr', u'LSv', u'MA', u'MA3', u'MD',\n",
       "       u'ME', u'MEA', u'MEPO', u'MEV', u'MH', u'MOB', u'MOp', u'MOs',\n",
       "       u'MPN', u'MPO', u'MPT', u'MT', u'MV', u'NI', u'NOD', u'NOT',\n",
       "       u'NPC', u'NTS', u'OP', u'ORBl', u'ORBm', u'ORBvl', u'OT', u'OV',\n",
       "       u'PA', u'PAG', u'PAR', u'PB', u'PC5', u'PCG', u'PCN', u'PD',\n",
       "       u'PDTg', u'PERI', u'PF', u'PFL', u'PG', u'PH', u'PIR', u'PL',\n",
       "       u'PO', u'POST', u'PPT', u'PR', u'PRE', u'PRM', u'PRNc', u'PRP',\n",
       "       u'PS', u'PST', u'PSTN', u'PSV', u'PT', u'PVH', u'PVHd', u'PVT',\n",
       "       u'PVa', u'PVi', u'PVp', u'PVpo', u'PYR', u'PeF', u'ProS', u'RE',\n",
       "       u'RM', u'RN', u'RSPagl', u'RSPd', u'RSPv', u'RT', u'SBPV', u'SCO',\n",
       "       u'SCs', u'SF', u'SFO', u'SGN', u'SH', u'SI', u'SIM', u'SLC',\n",
       "       u'SLD', u'SMT', u'SNc', u'SNr', u'SPA', u'SPFm', u'SPIV',\n",
       "       u'SSp-bfd', u'SSp-ll', u'SSp-m', u'SSp-n', u'SSp-tr', u'SSp-ul',\n",
       "       u'SSp-un', u'SSs', u'STN', u'SUB', u'SUM', u'SUV', u'SubG', u'TEa',\n",
       "       u'TMd', u'TRN', u'TRS', u'TT', u'UVU', u'V', u'VCO', u'VISC',\n",
       "       u'VISa', u'VISal', u'VISam', u'VISl', u'VISli', u'VISp', u'VISpl',\n",
       "       u'VISpm', u'VISpor', u'VISrl', u'VMH', u'VMPO', u'VPMpc', u'VeCB',\n",
       "       u'ZI', u'fiber tracts', u'y'], dtype=object)"
      ]
     },
     "execution_count": 51,
     "metadata": {},
     "output_type": "execute_result"
    }
   ],
   "source": [
    "threshold = 0.005928\n",
    "ss_results[(ss_results['mouse_line'] == 'hAPP-J20') &\n",
    "        (ss_results['plaque density'] > threshold)]['structure'].unique()"
   ]
  },
  {
   "cell_type": "code",
   "execution_count": 52,
   "metadata": {},
   "outputs": [
    {
     "data": {
      "text/html": [
       "<div>\n",
       "<style scoped>\n",
       "    .dataframe tbody tr th:only-of-type {\n",
       "        vertical-align: middle;\n",
       "    }\n",
       "\n",
       "    .dataframe tbody tr th {\n",
       "        vertical-align: top;\n",
       "    }\n",
       "\n",
       "    .dataframe thead th {\n",
       "        text-align: right;\n",
       "    }\n",
       "</style>\n",
       "<table border=\"1\" class=\"dataframe\">\n",
       "  <thead>\n",
       "    <tr style=\"text-align: right;\">\n",
       "      <th></th>\n",
       "      <th>image_series_id</th>\n",
       "      <th>plaque density</th>\n",
       "      <th>plaque density_c</th>\n",
       "      <th>plaque density control subtracted</th>\n",
       "    </tr>\n",
       "  </thead>\n",
       "  <tbody>\n",
       "    <tr>\n",
       "      <th>count</th>\n",
       "      <td>9.480000e+02</td>\n",
       "      <td>948.000000</td>\n",
       "      <td>0.0</td>\n",
       "      <td>0.0</td>\n",
       "    </tr>\n",
       "    <tr>\n",
       "      <th>mean</th>\n",
       "      <td>6.245391e+08</td>\n",
       "      <td>0.035853</td>\n",
       "      <td>NaN</td>\n",
       "      <td>NaN</td>\n",
       "    </tr>\n",
       "    <tr>\n",
       "      <th>std</th>\n",
       "      <td>1.360355e+07</td>\n",
       "      <td>0.139954</td>\n",
       "      <td>NaN</td>\n",
       "      <td>NaN</td>\n",
       "    </tr>\n",
       "    <tr>\n",
       "      <th>min</th>\n",
       "      <td>6.088934e+08</td>\n",
       "      <td>0.000000</td>\n",
       "      <td>NaN</td>\n",
       "      <td>NaN</td>\n",
       "    </tr>\n",
       "    <tr>\n",
       "      <th>25%</th>\n",
       "      <td>6.088934e+08</td>\n",
       "      <td>0.000456</td>\n",
       "      <td>NaN</td>\n",
       "      <td>NaN</td>\n",
       "    </tr>\n",
       "    <tr>\n",
       "      <th>50%</th>\n",
       "      <td>6.226822e+08</td>\n",
       "      <td>0.003617</td>\n",
       "      <td>NaN</td>\n",
       "      <td>NaN</td>\n",
       "    </tr>\n",
       "    <tr>\n",
       "      <th>75%</th>\n",
       "      <td>6.420419e+08</td>\n",
       "      <td>0.016570</td>\n",
       "      <td>NaN</td>\n",
       "      <td>NaN</td>\n",
       "    </tr>\n",
       "    <tr>\n",
       "      <th>max</th>\n",
       "      <td>6.420419e+08</td>\n",
       "      <td>3.521228</td>\n",
       "      <td>NaN</td>\n",
       "      <td>NaN</td>\n",
       "    </tr>\n",
       "  </tbody>\n",
       "</table>\n",
       "</div>"
      ],
      "text/plain": [
       "       image_series_id  plaque density  plaque density_c  \\\n",
       "count     9.480000e+02      948.000000               0.0   \n",
       "mean      6.245391e+08        0.035853               NaN   \n",
       "std       1.360355e+07        0.139954               NaN   \n",
       "min       6.088934e+08        0.000000               NaN   \n",
       "25%       6.088934e+08        0.000456               NaN   \n",
       "50%       6.226822e+08        0.003617               NaN   \n",
       "75%       6.420419e+08        0.016570               NaN   \n",
       "max       6.420419e+08        3.521228               NaN   \n",
       "\n",
       "       plaque density control subtracted  \n",
       "count                                0.0  \n",
       "mean                                 NaN  \n",
       "std                                  NaN  \n",
       "min                                  NaN  \n",
       "25%                                  NaN  \n",
       "50%                                  NaN  \n",
       "75%                                  NaN  \n",
       "max                                  NaN  "
      ]
     },
     "execution_count": 52,
     "metadata": {},
     "output_type": "execute_result"
    }
   ],
   "source": [
    "ss_results[ss_results['mouse_line'] == 'Tg2576'].describe()"
   ]
  },
  {
   "cell_type": "code",
   "execution_count": 34,
   "metadata": {},
   "outputs": [
    {
     "data": {
      "text/plain": [
       "array([u'AAA', u'ACAd', u'ACAv', u'ACB', u'AD', u'ADP', u'AHN', u'AId',\n",
       "       u'AIp', u'AIv', u'AM', u'AMB', u'AN', u'AOB', u'AON', u'AP',\n",
       "       u'APN', u'APr', u'ARH', u'AT', u'AUDd', u'AUDp', u'AUDpo', u'AUDv',\n",
       "       u'AV', u'AVP', u'AVPV', u'B', u'BA', u'BLA', u'BMA', u'BST',\n",
       "       u'CA1', u'CA2', u'CA3', u'CEA', u'CENT', u'CL', u'CLA', u'CLI',\n",
       "       u'CM', u'COAa', u'COAp', u'COPY', u'CP', u'CU', u'CUL', u'CUN',\n",
       "       u'DCO', u'DEC', u'DG', u'DMH', u'DMX', u'DN', u'DP', u'DR', u'DT',\n",
       "       u'DTN', u'ECT', u'ECU', u'ENTl', u'ENTm', u'EPd', u'EPv', u'EW',\n",
       "       u'FC', u'FL', u'FN', u'FOTU', u'FRP', u'FS', u'GPe', u'GPi', u'GR',\n",
       "       u'GRN', u'GU', u'HATA', u'I5', u'IA', u'IAD', u'IAM', u'IC', u'IF',\n",
       "       u'IG', u'IGL', u'ILA', u'IMD', u'IO', u'IP', u'IPN', u'IRN',\n",
       "       u'ISN', u'IV', u'LA', u'LAV', u'LC', u'LD', u'LDT', u'LGd', u'LGv',\n",
       "       u'LH', u'LHA', u'LIN', u'LING', u'LM', u'LP', u'LPO', u'LRN',\n",
       "       u'LSc', u'LSr', u'LSv', u'LT', u'MA', u'MARN', u'MD', u'MDRN',\n",
       "       u'MDRNd', u'MDRNv', u'ME', u'MEA', u'MEPO', u'MEV', u'MG', u'MH',\n",
       "       u'MM', u'MOB', u'MOp', u'MOs', u'MPN', u'MPO', u'MPT', u'MRN',\n",
       "       u'MS', u'MV', u'NDB', u'NI', u'NLL', u'NLOT', u'NOD', u'NOT',\n",
       "       u'NPC', u'NR', u'NTS', u'OP', u'ORBl', u'ORBm', u'ORBvl', u'OT',\n",
       "       u'OV', u'P5', u'PA', u'PAA', u'PAG', u'PAR', u'PARN', u'PAS',\n",
       "       u'PB', u'PC5', u'PCG', u'PCN', u'PD', u'PERI', u'PF', u'PFL',\n",
       "       u'PG', u'PGRNd', u'PGRNl', u'PH', u'PIR', u'PL', u'PMd', u'PMv',\n",
       "       u'PN', u'PO', u'POST', u'PPT', u'PPY', u'PR', u'PRE', u'PRM',\n",
       "       u'PRNc', u'PRNr', u'PRP', u'PS', u'PSTN', u'PSV', u'PT', u'PVH',\n",
       "       u'PVHd', u'PVT', u'PVa', u'PVi', u'PVp', u'PVpo', u'PYR', u'Pa5',\n",
       "       u'PeF', u'PoT', u'ProS', u'RE', u'RH', u'RL', u'RM', u'RN', u'RO',\n",
       "       u'RPA', u'RSPagl', u'RSPd', u'RSPv', u'RT', u'SBPV', u'SCH',\n",
       "       u'SCO', u'SCm', u'SCs', u'SF', u'SFO', u'SG', u'SGN', u'SH', u'SI',\n",
       "       u'SIM', u'SLC', u'SLD', u'SMT', u'SNc', u'SNr', u'SO', u'SPA',\n",
       "       u'SPFm', u'SPFp', u'SPIV', u'SPVC', u'SPVI', u'SPVO', u'SSp-bfd',\n",
       "       u'SSp-ll', u'SSp-m', u'SSp-n', u'SSp-tr', u'SSp-ul', u'SSp-un',\n",
       "       u'SSs', u'STN', u'SUB', u'SUM', u'SUV', u'SubG', u'TEa', u'TMd',\n",
       "       u'TMv', u'TR', u'TRN', u'TRS', u'TT', u'TU', u'UVU', u'V', u'VAL',\n",
       "       u'VCO', u'VI', u'VII', u'VISC', u'VISa', u'VISal', u'VISam',\n",
       "       u'VISl', u'VISli', u'VISp', u'VISpl', u'VISpm', u'VISpor',\n",
       "       u'VISrl', u'VLPO', u'VM', u'VMH', u'VMPO', u'VPL', u'VPLpc',\n",
       "       u'VPM', u'VPMpc', u'VTA', u'VTN', u'XII', u'Xi', u'ZI',\n",
       "       u'fiber tracts', u'x', u'y'], dtype=object)"
      ]
     },
     "execution_count": 34,
     "metadata": {},
     "output_type": "execute_result"
    }
   ],
   "source": [
    "threshold = 0.000456\n",
    "ss_results[(ss_results['mouse_line'] == 'Tg2576') &\n",
    "        (ss_results['plaque density'] > threshold)]['structure'].unique()"
   ]
  },
  {
   "cell_type": "code",
   "execution_count": 35,
   "metadata": {},
   "outputs": [
    {
     "data": {
      "text/html": [
       "<div>\n",
       "<style scoped>\n",
       "    .dataframe tbody tr th:only-of-type {\n",
       "        vertical-align: middle;\n",
       "    }\n",
       "\n",
       "    .dataframe tbody tr th {\n",
       "        vertical-align: top;\n",
       "    }\n",
       "\n",
       "    .dataframe thead th {\n",
       "        text-align: right;\n",
       "    }\n",
       "</style>\n",
       "<table border=\"1\" class=\"dataframe\">\n",
       "  <thead>\n",
       "    <tr style=\"text-align: right;\">\n",
       "      <th></th>\n",
       "      <th>image_series_id</th>\n",
       "      <th>plaque density</th>\n",
       "    </tr>\n",
       "  </thead>\n",
       "  <tbody>\n",
       "    <tr>\n",
       "      <th>count</th>\n",
       "      <td>3.160000e+02</td>\n",
       "      <td>316.000000</td>\n",
       "    </tr>\n",
       "    <tr>\n",
       "      <th>mean</th>\n",
       "      <td>5.913721e+08</td>\n",
       "      <td>0.017903</td>\n",
       "    </tr>\n",
       "    <tr>\n",
       "      <th>std</th>\n",
       "      <td>3.581951e-06</td>\n",
       "      <td>0.048132</td>\n",
       "    </tr>\n",
       "    <tr>\n",
       "      <th>min</th>\n",
       "      <td>5.913721e+08</td>\n",
       "      <td>0.000000</td>\n",
       "    </tr>\n",
       "    <tr>\n",
       "      <th>25%</th>\n",
       "      <td>5.913721e+08</td>\n",
       "      <td>0.001706</td>\n",
       "    </tr>\n",
       "    <tr>\n",
       "      <th>50%</th>\n",
       "      <td>5.913721e+08</td>\n",
       "      <td>0.005027</td>\n",
       "    </tr>\n",
       "    <tr>\n",
       "      <th>75%</th>\n",
       "      <td>5.913721e+08</td>\n",
       "      <td>0.012611</td>\n",
       "    </tr>\n",
       "    <tr>\n",
       "      <th>max</th>\n",
       "      <td>5.913721e+08</td>\n",
       "      <td>0.582654</td>\n",
       "    </tr>\n",
       "  </tbody>\n",
       "</table>\n",
       "</div>"
      ],
      "text/plain": [
       "       image_series_id  plaque density\n",
       "count     3.160000e+02      316.000000\n",
       "mean      5.913721e+08        0.017903\n",
       "std       3.581951e-06        0.048132\n",
       "min       5.913721e+08        0.000000\n",
       "25%       5.913721e+08        0.001706\n",
       "50%       5.913721e+08        0.005027\n",
       "75%       5.913721e+08        0.012611\n",
       "max       5.913721e+08        0.582654"
      ]
     },
     "execution_count": 35,
     "metadata": {},
     "output_type": "execute_result"
    }
   ],
   "source": [
    "ss_results_c.describe()"
   ]
  },
  {
   "cell_type": "code",
   "execution_count": 42,
   "metadata": {},
   "outputs": [
    {
     "data": {
      "text/plain": [
       "image_series_id    5.968772e+08\n",
       "plaque density     9.569325e-03\n",
       "dtype: float64"
      ]
     },
     "execution_count": 42,
     "metadata": {},
     "output_type": "execute_result"
    }
   ],
   "source": [
    "ss_results[ss_results['mouse_line'] == 'APP/PS1'].median()"
   ]
  },
  {
   "cell_type": "code",
   "execution_count": 64,
   "metadata": {},
   "outputs": [
    {
     "data": {
      "text/plain": [
       "image_series_id    6.442276e+08\n",
       "plaque density     3.859199e-06\n",
       "Name: 0.25, dtype: float64"
      ]
     },
     "execution_count": 64,
     "metadata": {},
     "output_type": "execute_result"
    }
   ],
   "source": [
    "ss_results[ss_results['mouse_line'] == 'hAPP-J20'].quantile(0.25)"
   ]
  },
  {
   "cell_type": "code",
   "execution_count": 49,
   "metadata": {},
   "outputs": [
    {
     "data": {
      "text/plain": [
       "image_series_id    5.913721e+08\n",
       "plaque density     3.669918e-04\n",
       "Name: 0.1, dtype: float64"
      ]
     },
     "execution_count": 49,
     "metadata": {},
     "output_type": "execute_result"
    }
   ],
   "source": [
    "ss_results_c.quantile(0.1)"
   ]
  },
  {
   "cell_type": "code",
   "execution_count": null,
   "metadata": {
    "collapsed": true
   },
   "outputs": [],
   "source": []
  }
 ],
 "metadata": {
  "kernelspec": {
   "display_name": "Python 2",
   "language": "python",
   "name": "python2"
  },
  "language_info": {
   "codemirror_mode": {
    "name": "ipython",
    "version": 2
   },
   "file_extension": ".py",
   "mimetype": "text/x-python",
   "name": "python",
   "nbconvert_exporter": "python",
   "pygments_lexer": "ipython2",
   "version": "2.7.14"
  }
 },
 "nbformat": 4,
 "nbformat_minor": 2
}
