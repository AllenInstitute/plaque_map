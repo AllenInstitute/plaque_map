{
 "cells": [
  {
   "cell_type": "code",
   "execution_count": null,
   "metadata": {},
   "outputs": [],
   "source": [
    "import os\n",
    "import numpy as np\n",
    "import pandas as pd\n",
    "import matplotlib.pyplot as plt\n",
    "import seaborn as sns\n",
    "from allensdk.core.mouse_connectivity_cache import MouseConnectivityCache\n",
    "from matplotlib import cm\n",
    "import operator\n",
    "import matplotlib.ticker as ticker\n",
    "from scipy import stats\n",
    "import statsmodels.api as sm\n",
    "from statsmodels.formula.api import ols\n",
    "from statsmodels.stats.anova import anova_lm\n",
    "import matplotlib.lines as mlines\n",
    "\n",
    "sns.set_context('paper')\n",
    "sns.set_style('white')\n",
    "%matplotlib inline\n",
    "\n",
    "import matplotlib as mpl\n",
    "mpl.rcParams['pdf.fonttype'] = 42\n",
    "\n",
    "import statsmodels.api as sm\n",
    "import statsmodels.formula.api as smf"
   ]
  },
  {
   "cell_type": "code",
   "execution_count": null,
   "metadata": {},
   "outputs": [],
   "source": [
    "path = r'/Users/jenniferwh/Dropbox (Allen Institute)/Mesoscale Connectome Papers in Progress/2018 Plaque'\n",
    "savepath = os.path.join(path, 'figures', 'after_QC')"
   ]
  },
  {
   "cell_type": "code",
   "execution_count": null,
   "metadata": {},
   "outputs": [],
   "source": [
    "dat = pd.read_csv(os.path.join(path, 'unionizes', 'plaque_unionizes.csv'))\n",
    "dat = dat[dat['control'] == False]"
   ]
  },
  {
   "cell_type": "code",
   "execution_count": null,
   "metadata": {},
   "outputs": [],
   "source": [
    "dat.head()"
   ]
  },
  {
   "cell_type": "code",
   "execution_count": null,
   "metadata": {},
   "outputs": [],
   "source": [
    "len(dat['image_series_id'].unique())"
   ]
  },
  {
   "cell_type": "code",
   "execution_count": null,
   "metadata": {},
   "outputs": [],
   "source": [
    "dat['age_group'].unique()"
   ]
  },
  {
   "cell_type": "code",
   "execution_count": null,
   "metadata": {},
   "outputs": [],
   "source": [
    "dat['count_per_mm_3'] = dat['sum_plaques']/dat['volume'] #to convert to plaques per mm^3\n",
    "dat['avg_plaque_volume'] = dat['avg_plaque_volume']/1000 #to convert to cubic microns"
   ]
  },
  {
   "cell_type": "code",
   "execution_count": null,
   "metadata": {},
   "outputs": [],
   "source": [
    "dataset = pd.read_csv(os.path.join(path, '_final_plaque_dataset.csv'))\n",
    "print(len(dataset))"
   ]
  },
  {
   "cell_type": "code",
   "execution_count": null,
   "metadata": {},
   "outputs": [],
   "source": [
    "dat['mouse_line'].unique()"
   ]
  },
  {
   "cell_type": "code",
   "execution_count": null,
   "metadata": {},
   "outputs": [],
   "source": [
    "mcc = MouseConnectivityCache(manifest_file = '../connectivity/mouse_connectivity_manifest.json')\n",
    "st = mcc.get_structure_tree()\n",
    "summary_structures = st.get_structures_by_set_id([167587189])\n",
    "summary_structure_ids = [item['id'] for item in summary_structures]\n",
    "ss_acronyms = [item['acronym'] for item in summary_structures]\n",
    "ont_order = [item['graph_order'] for item in summary_structures]\n",
    "ont_order_dict = dict(zip(ss_acronyms, ont_order))\n",
    "print(len(summary_structure_ids))\n"
   ]
  },
  {
   "cell_type": "code",
   "execution_count": null,
   "metadata": {},
   "outputs": [],
   "source": [
    "coarse_structures = st.get_structures_by_set_id([687527670])\n",
    "coarse_structure_ids = [item['id'] for item in coarse_structures]\n",
    "coarse_structure_acronyms = [item['acronym'] for item in coarse_structures]\n",
    "ft = st.get_structures_by_acronym(['fiber tracts'])\n",
    "coarse_structure_ids.append(ft[0]['id'])\n",
    "coarse_structure_acronyms.append(ft[0]['acronym'])\n",
    "ont_order = [item['graph_order'] for item in coarse_structures]\n",
    "ont_order.append(ft[0]['graph_order'])\n",
    "oo_dict_coarse = dict(zip(coarse_structure_acronyms, ont_order))\n",
    "print(len(coarse_structure_ids))"
   ]
  },
  {
   "cell_type": "code",
   "execution_count": null,
   "metadata": {},
   "outputs": [],
   "source": [
    "mcc = MouseConnectivityCache(manifest_file = '../connectivity/mouse_connectivity_manifest.json')\n",
    "structure_tree = mcc.get_structure_tree()\n",
    "ia_map = structure_tree.get_id_acronym_map()\n",
    "ai_map = {value:key for key, value in ia_map.iteritems()}"
   ]
  },
  {
   "cell_type": "code",
   "execution_count": null,
   "metadata": {},
   "outputs": [],
   "source": [
    "structures = summary_structure_ids + coarse_structure_ids + [997]"
   ]
  },
  {
   "cell_type": "code",
   "execution_count": null,
   "metadata": {},
   "outputs": [],
   "source": [
    "dataset['image_series_id'] = [int(value) for value in dataset['Link to image series']]"
   ]
  },
  {
   "cell_type": "code",
   "execution_count": null,
   "metadata": {},
   "outputs": [],
   "source": [
    "[isid for isid in dat['image_series_id'] if isid not in dataset['image_series_id'].values]"
   ]
  },
  {
   "cell_type": "code",
   "execution_count": null,
   "metadata": {},
   "outputs": [],
   "source": [
    "dataset.groupby(['mouse_line', 'age_group', 'Sex'])['image_series_id'].count()"
   ]
  },
  {
   "cell_type": "code",
   "execution_count": null,
   "metadata": {},
   "outputs": [],
   "source": [
    "dat['structure_id'] = [ia_map[structure_acronym] for structure_acronym in dat['structure_acronym']]"
   ]
  },
  {
   "cell_type": "code",
   "execution_count": null,
   "metadata": {},
   "outputs": [],
   "source": [
    "def get_structure_data(age, structure, q_type):\n",
    "    data = dat\n",
    "    if q_type == 'density':\n",
    "        data = data.rename(columns = {'plaque_density': 'plaque'})\n",
    "    elif q_type == 'count':\n",
    "        data = data.rename(columns = {'count_per_mm_3': 'plaque'})\n",
    "    elif q_type == 'volume':\n",
    "        data = data.rename(columns = {'avg_plaque_volume': 'plaque'})\n",
    "    structure_id = ia_map[structure]\n",
    "    groups = []\n",
    "    plaques = []\n",
    "    isids_carrythrough = []\n",
    "    for group in dataset[dataset['age_group'] == age]['mouse_line'].unique():\n",
    "        isids = dataset[(dataset['mouse_line'] == group) & (dataset['age_group'] == age)]['image_series_id'].values\n",
    "        for isid in isids:\n",
    "            groups.append(group)\n",
    "            if len(data[(data['structure_id'] == structure_id) & (\n",
    "                data['image_series_id'] == isid)]['plaque']) > 0:\n",
    "                plaques.append(data[(data['structure_id'] == structure_id) & \n",
    "                                         (data['image_series_id'] == isid)]\n",
    "                                     ['plaque'].values[0])\n",
    "            else:\n",
    "                print(isid)\n",
    "                print(ai_map[structure_id])\n",
    "                plaques.append(0)\n",
    "                    \n",
    "            isids_carrythrough.append(isid)\n",
    "    structuredat = pd.DataFrame({'age': age, 'structure': structure, \n",
    "                                 'group': groups, 'plaques': plaques,\n",
    "                                'image_series_id': isids_carrythrough})\n",
    "    return structuredat"
   ]
  },
  {
   "cell_type": "code",
   "execution_count": null,
   "metadata": {},
   "outputs": [],
   "source": [
    "print(len(dataset['image_series_id'].unique()))"
   ]
  },
  {
   "cell_type": "code",
   "execution_count": null,
   "metadata": {},
   "outputs": [],
   "source": [
    "mouse_lines = ['APP/PS1', 'Tg2576', 'hAPP-J20']\n",
    "mouse_line_colors = ['#8da0cb', '#66c2a5', '#fc8d62']\n",
    "light_colors = ['#afb8cc', '#b5cec6', '#f9c9b6']\n",
    "dark_colors = ['#045a8d', '#2ca25f', '#b30000']"
   ]
  },
  {
   "cell_type": "code",
   "execution_count": null,
   "metadata": {},
   "outputs": [],
   "source": [
    "def find_density_by_structure(structure):\n",
    "    structure_id = ia_map[structure]\n",
    "    sexes = []\n",
    "    ages = []\n",
    "    groups = []\n",
    "    plaque_density = []\n",
    "    isids_carrythrough = []\n",
    "    for age in dataset['age_group'].unique():\n",
    "        for group in dataset[dataset['age_group'] == age]['mouse_line'].unique():\n",
    "            isids = dataset[(dataset['mouse_line'] == group) & (dataset['age_group'] == age)]['image_series_id'].values\n",
    "            for isid in isids:\n",
    "                sexes.append( dataset[(dataset['mouse_line'] == group) & \n",
    "                                      (dataset['age_group'] == age) &\n",
    "                                     (dataset['image_series_id'] == isid)]['Sex'].values)\n",
    "                ages.append(age)\n",
    "                groups.append(group)\n",
    "                plaque_density.append(dat[(dat['structure_id'] == structure_id) & \n",
    "                                             (dat['image_series_id'] == isid)]\n",
    "                                         ['plaque_density'].values[0])\n",
    "                isids_carrythrough.append(isid)\n",
    "    density_dat = pd.DataFrame({'age': ages, 'sex': sexes, 'structure': structure, \n",
    "                                 'group': groups, 'plaque density': plaque_density,\n",
    "                                 'image_series_id': isids_carrythrough})\n",
    "    density_dat['plaque density'] = [density*100 for density in density_dat['plaque density']]\n",
    "    return(density_dat)\n",
    "\n",
    "def find_count_by_structure(structure):\n",
    "    structure_id = ia_map[structure]\n",
    "    sexes = []\n",
    "    ages = []\n",
    "    groups = []\n",
    "    plaque_count = []\n",
    "    isids_carrythrough = []\n",
    "    for age in dataset['age_group'].unique():\n",
    "        for group in dataset[dataset['age_group'] == age]['mouse_line'].unique():\n",
    "            isids = dataset[(dataset['mouse_line'] == group) & (dataset['age_group'] == age)]['image_series_id'].values\n",
    "            for isid in isids:\n",
    "                sexes.append( dataset[(dataset['mouse_line'] == group) & \n",
    "                                      (dataset['age_group'] == age) &\n",
    "                                     (dataset['image_series_id'] == isid)]['Sex'].values)\n",
    "                ages.append(age)\n",
    "                groups.append(group)\n",
    "                plaque_count.append(dat[(dat['structure_id'] == structure_id) & \n",
    "                                             (dat['image_series_id'] == isid)]\n",
    "                                         ['count_per_mm_3'].values[0])\n",
    "                isids_carrythrough.append(isid)\n",
    "    count_dat = pd.DataFrame({'age': ages, 'sex': sexes, 'structure': structure, \n",
    "                                 'group': groups, 'plaque count': plaque_count,\n",
    "                                 'image_series_id': isids_carrythrough})\n",
    "    return(count_dat)"
   ]
  },
  {
   "cell_type": "code",
   "execution_count": null,
   "metadata": {},
   "outputs": [],
   "source": [
    "order = ['5 mo', '7 mo', '9 mo', '13 mo', '19 mo']\n",
    "root_d = find_density_by_structure('root')\n",
    "meddat_root = root_d.groupby(['group', 'age']).median().reset_index()\n",
    "root_c = find_count_by_structure('root')\n",
    "meddat_root_c = root_c.groupby(['group', 'age']).median().reset_index()\n",
    "\n",
    "iso_d = find_density_by_structure('Isocortex')\n",
    "meddat_iso = iso_d.groupby(['group', 'age']).median().reset_index()\n",
    "hpc_d = find_density_by_structure('HPF')\n",
    "meddat_hpc = hpc_d.groupby(['group', 'age']).median().reset_index()\n",
    "\n",
    "fig, ax = plt.subplots(2, 1, figsize = (2.5, 4), sharex = True)\n",
    "\n",
    "a = sns.stripplot('age', 'plaque density', hue = 'group', data=root_d, \n",
    "                  ax=ax[1], order = order, palette = mouse_line_colors, alpha = 0.5,\n",
    "                  hue_order = mouse_lines, zorder = -1)\n",
    "a = sns.pointplot('age', 'plaque density', hue = 'group', data=meddat_root, marker = False,\n",
    "                  ax=ax[1], order = order, palette = mouse_line_colors, jitter = False,\n",
    "                  hue_order = mouse_lines, zorder = -1)\n",
    "a = sns.stripplot('age', 'plaque density', hue = 'group', data=meddat_root, marker =  'o',\n",
    "                  size = 6, ax=ax[1], order = order, palette = dark_colors, dodge = False,\n",
    "                  jitter = False, hue_order = mouse_lines, zorder = 5)\n",
    "a.legend_.remove()\n",
    "#ax[1].axhline(y=0, color = 'grey', linestyle = 'dashed', zorder = -1)\n",
    "ax[1].set_yscale('log')\n",
    "ax[1].set_ylim([10e-4, 10])\n",
    "a.set_ylabel('Plaque Density (%) \\n (log scale)')\n",
    "a.set_xlabel(\"\")\n",
    "a.set_title('Plaque Density')\n",
    "\n",
    "b = sns.stripplot('age', 'plaque count', hue = 'group', data=root_c, \n",
    "                  ax=ax[0], order = order, palette = mouse_line_colors, alpha = 0.5,\n",
    "                  hue_order = mouse_lines, zorder = -1)\n",
    "b = sns.pointplot('age', 'plaque count', hue = 'group', data=meddat_root_c, marker = False,\n",
    "                  ax=ax[0], order = order, palette = mouse_line_colors, jitter = False,\n",
    "                  hue_order = mouse_lines, zorder = -1)\n",
    "b = sns.stripplot('age', 'plaque count', hue = 'group', data=meddat_root_c, marker =  'o',\n",
    "                  size = 6, ax=ax[0], order = order, palette = dark_colors, dodge = False,\n",
    "                  jitter = False, hue_order = mouse_lines, zorder = 5)\n",
    "b.legend_.remove()\n",
    "#ax[0].axhline(y=0, color = 'grey', linestyle = 'dashed', zorder = -1)\n",
    "b.set_ylabel('Plaques Per mm$\\mathregular{^{3}}$')\n",
    "b.set_xlabel(\"\")\n",
    "b.set_title('Plaque Count')\n",
    "\n",
    "handles, labels = ax[0].get_legend_handles_labels()\n",
    "\n",
    "plt.xticks(rotation = 45)\n",
    "plt.tight_layout()\n",
    "plt.savefig(os.path.join(savepath, 'plaque density count brain-wide 3 lines.pdf'), \n",
    "            bbox_inches='tight', pad_inches=0.3, format='pdf', transparent = True, dpi=300)"
   ]
  },
  {
   "cell_type": "code",
   "execution_count": null,
   "metadata": {},
   "outputs": [],
   "source": [
    "fig, ax = plt.subplots()\n",
    "ax.legend(handles[0:3], labels[0:3],loc='upper center', borderaxespad=0., markerscale = 0.6, ncol = 3,\n",
    "        bbox_to_anchor = (0.5, -0.4))\n",
    "plt.savefig(os.path.join(savepath, 'mouse_lines_legend_horizontal.pdf'), \n",
    "            bbox_inches='tight', pad_inches=0.3, format='pdf', transparent = True, dpi=300)"
   ]
  },
  {
   "cell_type": "code",
   "execution_count": null,
   "metadata": {},
   "outputs": [],
   "source": [
    "order = ['5 mo', '7 mo', '9 mo', '13 mo', '19 mo']\n",
    "root_d = find_density_by_structure('root')\n",
    "meddat_root = root_d.groupby(['group', 'age']).median().reset_index()\n",
    "root_c = find_count_by_structure('root')\n",
    "meddat_root_c = root_c.groupby(['group', 'age']).median().reset_index()\n",
    "\n",
    "iso_d = find_density_by_structure('Isocortex')\n",
    "meddat_iso = iso_d.groupby(['group', 'age']).median().reset_index()\n",
    "hpc_d = find_density_by_structure('HPF')\n",
    "meddat_hpc = hpc_d.groupby(['group', 'age']).median().reset_index()\n",
    "\n",
    "fig, ax = plt.subplots(2, 1, figsize = (2.5, 4), sharex = True)\n",
    "c = sns.stripplot('age', 'plaque density', hue = 'group', data=iso_d, \n",
    "                  ax=ax[0], order = order, palette = mouse_line_colors, alpha = 0.5,\n",
    "                  hue_order = mouse_lines, zorder = -1)\n",
    "c = sns.pointplot('age', 'plaque density', hue = 'group', data=meddat_iso, marker =  False,\n",
    "                  ax=ax[0], order = order, palette = mouse_line_colors, \n",
    "                  hue_order = mouse_lines, jitter = False, zorder = -1)\n",
    "c = sns.stripplot('age', 'plaque density', hue = 'group', data=meddat_iso, marker =  'o',\n",
    "                  size = 6, ax=ax[0], order = order, palette = dark_colors, dodge = False,\n",
    "                  jitter = False, hue_order = mouse_lines, zorder = 5)\n",
    "\n",
    "c.legend_.remove()\n",
    "#ax[2].axhline(y=0, color = 'grey', linestyle = 'dashed', zorder = -1)\n",
    "ax[0].set_yscale('log')\n",
    "ax[0].set_ylim([10e-4, 10])\n",
    "c.set_ylabel('Plaque Density (%) \\n (log scale)')\n",
    "c.set_xlabel(\"\")\n",
    "c.set_title('Isocortex')\n",
    "e = sns.stripplot('age', 'plaque density', hue = 'group', data=hpc_d, \n",
    "                  ax=ax[1], order = order, palette = mouse_line_colors, alpha = 0.5,\n",
    "                  hue_order = mouse_lines, zorder = -1)\n",
    "e = sns.pointplot('age', 'plaque density', hue = 'group', data=meddat_hpc, marker = False,\n",
    "                  ax=ax[1], order = order, palette = mouse_line_colors, \n",
    "                  hue_order = mouse_lines, jitter = False, zorder = -1)\n",
    "e = sns.stripplot('age', 'plaque density', hue = 'group', data=meddat_hpc, marker =  'o',\n",
    "                  size = 6, ax=ax[1], order = order, palette = dark_colors, dodge = False,\n",
    "                  jitter = False, hue_order = mouse_lines, zorder = 5)\n",
    "e.legend_.remove()\n",
    "\n",
    "#ax[3].axhline(y=0, color = 'grey', linestyle = 'dashed', zorder = -1)\n",
    "ax[1].set_yscale('log')\n",
    "ax[1].set_ylim([10e-4, 10])\n",
    "e.set_ylabel('Plaque Density (%) \\n (log scale)')\n",
    "e.set_xlabel(\"\")\n",
    "e.set_title('Hippocampus')\n",
    "\n",
    "plt.xticks(rotation = 45)\n",
    "plt.tight_layout()\n",
    "plt.savefig(os.path.join(savepath, 'plaque density count iso hipp 3 lines.pdf'), \n",
    "            bbox_inches='tight', pad_inches=0.3, format='pdf', transparent = True, dpi=300)"
   ]
  },
  {
   "cell_type": "code",
   "execution_count": null,
   "metadata": {},
   "outputs": [],
   "source": [
    "def get_mouse_line_legend():\n",
    "    blue = mlines.Line2D([], [], color=mouse_line_colors[0],\n",
    "                          label='APP/PS1')\n",
    "    green = mlines.Line2D([], [], color=mouse_line_colors[1],\n",
    "                          label='Tg2576')\n",
    "    orange = mlines.Line2D([], [], color=mouse_line_colors[2],\n",
    "                          label='hAPP-J20')\n",
    "    return [blue, green, orange]"
   ]
  },
  {
   "cell_type": "code",
   "execution_count": null,
   "metadata": {},
   "outputs": [],
   "source": [
    "ccf_colors = ['#70ff71', '#9ad2bd', '#7ed04b', '#8ada87', '#98d6f9', '#8599cc', '#ff7080', '#e64438', '#ff64ff', \n",
    "              '#ff9b88','#ff9bcd', '#f0f080', '#cccccc']"
   ]
  },
  {
   "cell_type": "code",
   "execution_count": null,
   "metadata": {},
   "outputs": [],
   "source": [
    "pltdat = pd.DataFrame(columns={'age', 'group', 'plaques', 'structure'})\n",
    "for structure in coarse_structure_ids:\n",
    "    structure_acronym = ai_map[structure]\n",
    "    pltdat = pd.concat([pltdat, get_structure_data('13 mo', structure_acronym, 'density')], sort = True)\n",
    "mdf = pd.melt(pltdat, id_vars = ['age', 'structure', 'group', 'image_series_id'], value_name = 'plaque density')\n",
    "mdf['plaque density'] = [density*100 for density in mdf['plaque density']]\n",
    "mdf['ont_order'] = [oo_dict_coarse[acronym] for acronym in mdf['structure']]\n",
    "mdf = mdf.sort_values(by='ont_order')\n",
    "fig, ax = plt.subplots(3, 1, figsize = (4, 3.5), sharex = True)\n",
    "groups = ['APP/PS1', 'Tg2576', 'hAPP-J20'] # same as mdf['group'].unique() but keeps consistent plot order\n",
    "for ix in range(3):\n",
    "    group = groups[ix]\n",
    "    g = sns.boxplot('structure', 'plaque density', data = mdf[mdf['group'] == group], ax=ax[ix], \n",
    "                    color = 'white', fliersize = 1)\n",
    "    sns.stripplot('structure', 'plaque density', data = mdf[mdf['group'] == group], alpha = 0.3,\n",
    "                  palette = ccf_colors, ax=ax[ix], dodge = True)\n",
    "    g.set_title(group)\n",
    "    if group in ['hAPP-J20', 'Tg2576']:\n",
    "        g.set_ylim([0, 0.25])\n",
    "        ax[ix].yaxis.set_major_locator(ticker.MultipleLocator(0.1))\n",
    "        ax[ix].yaxis.set_major_formatter(ticker.ScalarFormatter())\n",
    "        ax[ix].set_xlabel('')\n",
    "        ax[ix].set_ylabel('')\n",
    "    if group == 'APP/PS1':\n",
    "        g.set_ylim([0, 3])\n",
    "        ax[ix].yaxis.set_major_locator(ticker.MultipleLocator(1))\n",
    "        ax[ix].yaxis.set_major_formatter(ticker.ScalarFormatter())\n",
    "        ax[ix].set_xlabel('')\n",
    "        ax[ix].set_ylabel('')\n",
    "        ax[ix].axhline(y=0.25, color = 'grey', linestyle = 'dashed', zorder = -1)\n",
    "    if group == 'Tg2576':\n",
    "        ax[ix].set_ylabel('Plaque Density (%)')\n",
    "    plt.tight_layout()\n",
    "    fig.subplots_adjust(hspace = 0.4)\n",
    "plt.xticks(rotation = 90)\n",
    "plt.savefig(os.path.join(savepath, 'box-swarm plots major divisions horizontal 12 mo.pdf'), \n",
    "            bbox_inches='tight', pad_inches=0.3, format='pdf', transparent = True, dpi=300)"
   ]
  },
  {
   "cell_type": "code",
   "execution_count": null,
   "metadata": {},
   "outputs": [],
   "source": [
    "pltdat = pd.DataFrame(columns={'age', 'group', 'plaques', 'structure'})\n",
    "for structure in coarse_structure_ids:\n",
    "    structure_acronym = ai_map[structure]\n",
    "    pltdat = pd.concat([pltdat, get_structure_data('19 mo', structure_acronym, 'density')], sort = True)\n",
    "mdf = pd.melt(pltdat, id_vars = ['age', 'structure', 'group', 'image_series_id'], value_name = 'plaque density')\n",
    "mdf['plaque density'] = [density*100 for density in mdf['plaque density']]\n",
    "mdf['ont_order'] = [oo_dict_coarse[acronym] for acronym in mdf['structure']]\n",
    "mdf = mdf.sort_values(by='ont_order')\n",
    "fig, ax = plt.subplots(3, 1, figsize = (4, 3.5), sharex = True)\n",
    "groups = ['APP/PS1', 'Tg2576', 'hAPP-J20'] # same as mdf['group'].unique() but keeps consistent plot order\n",
    "for ix in range(3):\n",
    "    group = groups[ix]\n",
    "    g = sns.boxplot('structure', 'plaque density', data = mdf[mdf['group'] == group], ax=ax[ix], \n",
    "                    color = 'white', fliersize = 1)\n",
    "    sns.stripplot('structure', 'plaque density', data = mdf[mdf['group'] == group], alpha = 0.3,\n",
    "                  palette = ccf_colors, ax=ax[ix], dodge = True)\n",
    "    g.set_title(group)\n",
    "    if group in ['hAPP-J20', 'Tg2576']:\n",
    "        g.set_ylim([0, 0.7])\n",
    "        ax[ix].yaxis.set_major_locator(ticker.MultipleLocator(0.2))\n",
    "        ax[ix].yaxis.set_major_formatter(ticker.ScalarFormatter())\n",
    "        ax[ix].set_xlabel('')\n",
    "        ax[ix].set_ylabel('')\n",
    "    if group == 'APP/PS1':\n",
    "        g.set_ylim([0, 3])\n",
    "        ax[ix].yaxis.set_major_locator(ticker.MultipleLocator(1))\n",
    "        ax[ix].yaxis.set_major_formatter(ticker.ScalarFormatter())\n",
    "        ax[ix].set_xlabel('')\n",
    "        ax[ix].set_ylabel('')\n",
    "        ax[ix].axhline(y=0.7, color = 'grey', linestyle = 'dashed', zorder = -1)\n",
    "    if group == 'Tg2576':\n",
    "        ax[ix].set_ylabel('Plaque Density (%)')\n",
    "    plt.tight_layout()\n",
    "    fig.subplots_adjust(hspace = 0.4)\n",
    "plt.xticks(rotation = 90)\n",
    "plt.savefig(os.path.join(savepath, 'box-swarm plots major divisions horizontal 18 mo.pdf'), \n",
    "            bbox_inches='tight', pad_inches=0.3, format='pdf', transparent = True, dpi=300)"
   ]
  },
  {
   "cell_type": "code",
   "execution_count": null,
   "metadata": {},
   "outputs": [],
   "source": [
    "_13mo = pd.DataFrame(columns={'age', 'group', 'plaques', 'structure'})\n",
    "for structure in coarse_structure_ids:\n",
    "    structure_acronym = ai_map[structure]\n",
    "    _13mo = pd.concat([_13mo, get_structure_data('13 mo', structure_acronym, 'density')], sort = True)"
   ]
  },
  {
   "cell_type": "code",
   "execution_count": null,
   "metadata": {},
   "outputs": [],
   "source": [
    "_19mo = pd.DataFrame(columns={'age', 'group', 'plaques', 'structure'})\n",
    "for structure in coarse_structure_ids:\n",
    "    structure_acronym = ai_map[structure]\n",
    "    _19mo = pd.concat([_19mo, get_structure_data('19 mo', structure_acronym, 'density')], sort = True)"
   ]
  },
  {
   "cell_type": "code",
   "execution_count": null,
   "metadata": {},
   "outputs": [],
   "source": [
    "_13mo = _13mo.groupby(['group', 'structure']).median().reset_index()\n",
    "_19mo = _19mo.groupby(['group', 'structure']).median().reset_index()"
   ]
  },
  {
   "cell_type": "code",
   "execution_count": null,
   "metadata": {},
   "outputs": [],
   "source": [
    "diffs = _19mo['plaques'] - _13mo['plaques']"
   ]
  },
  {
   "cell_type": "code",
   "execution_count": null,
   "metadata": {},
   "outputs": [],
   "source": [
    "diff = _13mo[['group', 'image_series_id', 'structure']].copy()"
   ]
  },
  {
   "cell_type": "code",
   "execution_count": null,
   "metadata": {},
   "outputs": [],
   "source": [
    "diff['plaque'] = diffs"
   ]
  },
  {
   "cell_type": "code",
   "execution_count": null,
   "metadata": {},
   "outputs": [],
   "source": [
    "diff.head(1)"
   ]
  },
  {
   "cell_type": "code",
   "execution_count": null,
   "metadata": {},
   "outputs": [],
   "source": [
    "diff[diff['structure'] == 'Isocortex']"
   ]
  },
  {
   "cell_type": "code",
   "execution_count": null,
   "metadata": {},
   "outputs": [],
   "source": [
    "diff[diff['structure'] == 'HPF']"
   ]
  },
  {
   "cell_type": "code",
   "execution_count": null,
   "metadata": {},
   "outputs": [],
   "source": [
    "diff[diff['structure'] == 'STR']"
   ]
  },
  {
   "cell_type": "markdown",
   "metadata": {},
   "source": [
    "## Plotting Functions"
   ]
  },
  {
   "cell_type": "code",
   "execution_count": null,
   "metadata": {},
   "outputs": [],
   "source": [
    "def make_broken_lineplot(age, structures, sorterIndex, title, title_position, width, height, break_point, ax_max = 0, ticks1 = 0, ticks2 = 0):\n",
    "    pltdat = pd.DataFrame(columns={'age', 'group', 'plaques', 'structure'})\n",
    "    for structure in structures:\n",
    "        structure_acronym = ai_map[structure]\n",
    "        pltdat = pd.concat([pltdat, get_structure_data(age, structure_acronym, 'density')], sort = True)\n",
    "    pltdat['Percent Plaque Coverage'] = [density*100 for density in pltdat['plaques']]\n",
    "    meddat = pltdat.groupby(['group', 'structure']).median().reset_index()\n",
    "    median = pltdat.groupby(['group']).median().reset_index()\n",
    "    meddat['rank'] = meddat['structure'].map(sorterIndex)\n",
    "    meddat = meddat.sort_values(by='rank')\n",
    "    meddat['lower_error'] = pltdat.groupby(['group', 'structure']).quantile(.25).reset_index()['Percent Plaque Coverage']\n",
    "    meddat['lower_error'] = meddat['Percent Plaque Coverage'] - meddat['lower_error']\n",
    "    meddat['upper_error'] = pltdat.groupby(['group', 'structure']).quantile(.75).reset_index()['Percent Plaque Coverage']\n",
    "    meddat['upper_error'] = meddat['upper_error'] - meddat['Percent Plaque Coverage']\n",
    "    \n",
    "    f, (ax, ax2) = plt.subplots(1, 2, sharey=True, figsize = (width, height))\n",
    "    # plot the same data on both axes\n",
    "\n",
    "    for ix, group in enumerate(mouse_lines):\n",
    "        xerr = np.array(meddat[meddat['group'] == group][['lower_error', 'upper_error']].T)\n",
    "        ax.errorbar(meddat[meddat['group'] == group]['Percent Plaque Coverage'], \n",
    "                 meddat[meddat['group'] == group]['structure'], c = mouse_line_colors[ix],\n",
    "                    xerr=xerr, alpha = 0.5, zorder = -1)\n",
    "        ax.plot(meddat[meddat['group'] == group]['Percent Plaque Coverage'], \n",
    "                 meddat[meddat['group'] == group]['structure'], c = mouse_line_colors[ix],\n",
    "               marker = '.', markerfacecolor = dark_colors[ix], markeredgecolor = dark_colors[ix],\n",
    "                markeredgewidth = 0.5)\n",
    "        ax.axvline(x=median[median['group'] == group]['Percent Plaque Coverage'].values, \n",
    "                   color = mouse_line_colors[ix], linestyle = 'dashed', alpha = 0.5, zorder = -1)\n",
    "        \n",
    "        ax2.errorbar(meddat[meddat['group'] == group]['Percent Plaque Coverage'], \n",
    "                 meddat[meddat['group'] == group]['structure'], c = mouse_line_colors[ix],\n",
    "                     xerr=xerr, alpha = 0.5, zorder = -1)\n",
    "        ax2.plot(meddat[meddat['group'] == group]['Percent Plaque Coverage'], \n",
    "                 meddat[meddat['group'] == group]['structure'], c = mouse_line_colors[ix],\n",
    "                marker = '.', markerfacecolor = dark_colors[ix], markeredgecolor = dark_colors[ix],\n",
    "                 markeredgewidth = 0.5)\n",
    "        ax2.axvline(x=median[median['group'] == group]['Percent Plaque Coverage'].values, \n",
    "                   color = mouse_line_colors[ix], linestyle = 'dashed', alpha = 0.5, zorder = -1)\n",
    "    if ax_max == 0:\n",
    "        x_max = np.max(meddat['upper_error'])\n",
    "    else:\n",
    "        x_max = ax_max\n",
    "    # zoom-in / limit the view to different portions of the data\n",
    "    ax.set_xlim(-0.01, break_point)  # left half\n",
    "    ax2.set_xlim(break_point, x_max)  # right half\n",
    "\n",
    "    # hide the spines between ax and ax2\n",
    "    ax.spines['right'].set_visible(False)\n",
    "    ax.tick_params(labeltop='off')  # don't put tick labels at the top\n",
    "    ax.tick_params(top='off')\n",
    "    ax.tick_params(axis='y', labelsize=6, length = 1)\n",
    "    if ticks1 > 0:\n",
    "        ax.xaxis.set_major_locator(ticker.MultipleLocator(ticks1))\n",
    "        ax.xaxis.set_major_formatter(ticker.ScalarFormatter())\n",
    "    \n",
    "    ax2.spines['left'].set_visible(False)\n",
    "    ax2.tick_params(top='off')\n",
    "    ax2.tick_params(axis = 'y', length = 1)\n",
    "    ax2.xaxis.tick_bottom()\n",
    "    if ticks2 > 0:\n",
    "        ax2.xaxis.set_major_locator(ticker.MultipleLocator(ticks2))\n",
    "        ax2.xaxis.set_major_formatter(ticker.ScalarFormatter())\n",
    "\n",
    "    d = .015  # how big to make the diagonal lines in axes coordinates\n",
    "    # arguments to pass to plot, just so we don't keep repeating them\n",
    "    kwargs = dict(transform=ax.transAxes, color='k', clip_on=False)\n",
    "    ax.plot((1-d, 1+d), (-d, +d), **kwargs)        # bottom-left diagonal\n",
    "    ax.plot((1 - d, 1 + d), (1 - d, 1 + d), **kwargs)  # top-left diagonal\n",
    "\n",
    "    kwargs.update(transform=ax2.transAxes)  # switch to the bottom axes\n",
    "    ax2.plot((-d, +d), (1 - d, 1 + d), **kwargs)  # top-right diagonal\n",
    "    ax2.plot((-d, +d), (-d, +d), **kwargs)  # top-right diagonal\n",
    "    f.subplots_adjust(wspace=0.1)\n",
    "    ax2.set_ylabel(\"\")\n",
    "    plt.yticks(np.arange(len(meddat['structure'].unique())), meddat['structure'].unique());\n",
    "    plt.setp( ax2.yaxis.get_majorticklabels(), rotation=90 )\n",
    "    plt.suptitle(age, fontsize = 10, y=title_position)\n",
    "    plt.savefig(os.path.join(savepath, 'plaque percent coverage in {0} {1} lineplot broken x axis.pdf'.format(title, age)), \n",
    "                bbox_inches='tight', pad_inches=0.3, format='pdf', transparent = True, dpi=300)\n",
    "    \n",
    "def make_lineplot(age, structures, sorterIndex, title, title_position, width, height, ax_max = 0, ticks = 0):\n",
    "    pltdat = pd.DataFrame(columns={'age', 'group', 'plaques', 'structure'})\n",
    "    for structure in structures:\n",
    "        structure_acronym = ai_map[structure]\n",
    "        pltdat = pd.concat([pltdat, get_structure_data(age, structure_acronym, 'density')], sort = True)\n",
    "    pltdat['Percent Plaque Coverage'] = [density*100 for density in pltdat['plaques']]\n",
    "    meddat = pltdat.groupby(['group', 'structure']).median().reset_index()\n",
    "    median = pltdat.groupby(['group']).median().reset_index()\n",
    "    meddat['rank'] = meddat['structure'].map(sorterIndex)\n",
    "    meddat = meddat.sort_values(by='rank')\n",
    "    meddat['lower_error'] = pltdat.groupby(['group', 'structure']).quantile(.25).reset_index()['Percent Plaque Coverage']\n",
    "    meddat['lower_error'] = meddat['Percent Plaque Coverage'] - meddat['lower_error']\n",
    "    meddat['upper_error'] = pltdat.groupby(['group', 'structure']).quantile(.75).reset_index()['Percent Plaque Coverage']\n",
    "    meddat['upper_error'] = meddat['upper_error'] - meddat['Percent Plaque Coverage']\n",
    "    fig, ax = plt.subplots(figsize = (width, height))\n",
    "    for ix, group in enumerate(mouse_lines):\n",
    "        xerr = np.array(meddat[meddat['group'] == group][['lower_error', 'upper_error']].T)\n",
    "        ax.errorbar(meddat[meddat['group'] == group]['Percent Plaque Coverage'], \n",
    "                 meddat[meddat['group'] == group]['structure'], c = mouse_line_colors[ix],\n",
    "                    xerr=xerr, alpha = 0.5, zorder = -1)\n",
    "        ax.plot(meddat[meddat['group'] == group]['Percent Plaque Coverage'], \n",
    "                 meddat[meddat['group'] == group]['structure'], c = mouse_line_colors[ix],\n",
    "               marker = '.', markerfacecolor = dark_colors[ix], markeredgecolor = dark_colors[ix],\n",
    "                markeredgewidth = 0.5)\n",
    "        ax.axvline(x=median[median['group'] == group]['Percent Plaque Coverage'].values, \n",
    "                   color = mouse_line_colors[ix], linestyle = 'dashed', alpha = 0.5, zorder = -1)\n",
    "    if ax_max == 0:\n",
    "        x_max = np.max(meddat['upper_error'])\n",
    "    else:\n",
    "        x_max = ax_max\n",
    "    ax.set_xlim(-0.01, x_max)\n",
    "    if ticks > 0:\n",
    "        ax.xaxis.set_major_locator(ticker.MultipleLocator(ticks))\n",
    "        ax.xaxis.set_major_formatter(ticker.ScalarFormatter())\n",
    "    ax.tick_params(axis='y', labelsize=6, length = 1)\n",
    "    plt.suptitle(age, fontsize = 10, y=title_position)\n",
    "    plt.yticks(np.arange(len(meddat['structure'].unique())), meddat['structure'].unique());\n",
    "    ax.set_ylabel(\"\")\n",
    "    plt.savefig(os.path.join(savepath, 'plaque percent coverage in {0} {1} lineplot.pdf'.format(title, age)), \n",
    "                bbox_inches='tight', pad_inches=0.3, format='pdf', transparent = True, dpi=300)"
   ]
  },
  {
   "cell_type": "code",
   "execution_count": null,
   "metadata": {},
   "outputs": [],
   "source": [
    "def get_sorter_index(structure_acronym):\n",
    "    structures = structure_tree.get_structures_by_acronym([structure_acronym])[0]\n",
    "    str_ids = structure_tree.descendant_ids([structures['id']])[0]\n",
    "    str_ss = [ids for ids in str_ids if ids in summary_structure_ids]\n",
    "    acronyms = [ai_map[stid] for stid in str_ss]\n",
    "    plot_order = [structure_tree.get_structures_by_id([stid])[0]['graph_order'] for stid in str_ss]\n",
    "    sorter = dict(zip(acronyms,plot_order))\n",
    "    sorted_structures = []\n",
    "    for key, value in sorted(sorter.iteritems(), key=lambda (k,v): (v,k)):\n",
    "        sorted_structures.append(key)\n",
    "    sorterIndex = dict(zip(sorted_structures[::-1],range(len(plot_order))))\n",
    "    return sorterIndex"
   ]
  },
  {
   "cell_type": "markdown",
   "metadata": {},
   "source": [
    "## Isocortex"
   ]
  },
  {
   "cell_type": "code",
   "execution_count": null,
   "metadata": {},
   "outputs": [],
   "source": [
    "iso = structure_tree.get_structures_by_acronym(['Isocortex'])[0]\n",
    "iso = structure_tree.descendant_ids([iso['id']])[0]\n",
    "iso = [structure for structure in iso if structure in summary_structure_ids]"
   ]
  },
  {
   "cell_type": "code",
   "execution_count": null,
   "metadata": {},
   "outputs": [],
   "source": [
    "plot_order = ['FRP', 'MOp', 'MOs', 'SSp-n', 'SSp-bfd', 'SSp-ll', 'SSp-m', 'SSp-ul', 'SSp-tr', 'SSp-un',\n",
    "              'SSs', 'GU', 'VISC', 'AUDd', 'AUDp', 'AUDpo', 'AUDv', 'VISal', 'VISam', 'VISl', 'VISp', 'VISpl',\n",
    "              'VISpm', 'VISli', 'VISpor', 'ACAd', 'ACAv', 'PL', 'ILA', 'ORBl', 'ORBm', 'ORBvl', 'AId', 'AIp',\n",
    "              'AIv', 'RSPagl', 'RSPd', 'RSPv', 'VISa', 'VISrl', 'TEa', 'PERI', 'ECT']"
   ]
  },
  {
   "cell_type": "code",
   "execution_count": null,
   "metadata": {},
   "outputs": [],
   "source": [
    "make_broken_lineplot('13 mo', iso, get_sorter_index('Isocortex'), 'Isocortex', 0.92, 1.5, 5, 0.22, 1.9, 0.1, 0.7)"
   ]
  },
  {
   "cell_type": "code",
   "execution_count": null,
   "metadata": {},
   "outputs": [],
   "source": [
    "median = pltdat.groupby(['group']).median().reset_index()"
   ]
  },
  {
   "cell_type": "code",
   "execution_count": null,
   "metadata": {},
   "outputs": [],
   "source": [
    "median"
   ]
  },
  {
   "cell_type": "code",
   "execution_count": null,
   "metadata": {},
   "outputs": [],
   "source": [
    "pltdat[(pltdat['group'] == 'hAPP-J20') & (pltdat['structure'].isin(['RSPv', 'RSPd', 'RSPagl']))].groupby('structure').median()"
   ]
  },
  {
   "cell_type": "code",
   "execution_count": null,
   "metadata": {},
   "outputs": [],
   "source": [
    "make_lineplot('19 mo', iso, get_sorter_index('Isocortex'), 'Isocortex', 0.92, 1.5, 5, 1.9, 0.5)"
   ]
  },
  {
   "cell_type": "code",
   "execution_count": null,
   "metadata": {},
   "outputs": [],
   "source": [
    "savepath"
   ]
  },
  {
   "cell_type": "code",
   "execution_count": null,
   "metadata": {},
   "outputs": [],
   "source": [
    "fig, ax = plt.subplots()\n",
    "ax.legend(handles = get_mouse_line_legend())\n",
    "plt.savefig(os.path.join(savepath, 'mouse_line_legend.pdf'), \n",
    "                bbox_inches='tight', pad_inches=0.3, format='pdf', transparent = True, dpi=300)"
   ]
  },
  {
   "cell_type": "markdown",
   "metadata": {},
   "source": [
    "## Hippocampus"
   ]
  },
  {
   "cell_type": "code",
   "execution_count": null,
   "metadata": {},
   "outputs": [],
   "source": [
    "IG_mask, _ = mcc.get_structure_mask(ia_map['IG'])\n",
    "FC_mask, _ = mcc.get_structure_mask(ia_map['FC'])\n",
    "hipp_mask, _ = mcc.get_structure_mask(ia_map['HPF'])"
   ]
  },
  {
   "cell_type": "code",
   "execution_count": null,
   "metadata": {},
   "outputs": [],
   "source": [
    "print(float(IG_mask.sum())/float(hipp_mask.sum()))\n",
    "print(float(FC_mask.sum())/float(hipp_mask.sum()))"
   ]
  },
  {
   "cell_type": "code",
   "execution_count": null,
   "metadata": {},
   "outputs": [],
   "source": [
    "hipp = structure_tree.get_structures_by_acronym(['HPF'])[0]\n",
    "hipp_ids = structure_tree.descendant_ids([hipp['id']])[0]\n",
    "hipp_ss = [ids for ids in hipp_ids if ids in summary_structure_ids]\n",
    "hipp_ss.remove(ia_map['IG'])\n",
    "hipp_ss.remove(ia_map['FC'])\n",
    "print(len(hipp_ss))"
   ]
  },
  {
   "cell_type": "code",
   "execution_count": null,
   "metadata": {},
   "outputs": [],
   "source": [
    "make_broken_lineplot('13 mo', hipp_ss, get_sorter_index('HPF'), 'Hippocampal Formation', 0.97, 1.5, 1.5, 0.22, 1.6, 0.1, 0.7)"
   ]
  },
  {
   "cell_type": "code",
   "execution_count": null,
   "metadata": {},
   "outputs": [],
   "source": [
    "make_lineplot('13 mo', hipp_ss, get_sorter_index('HPF'), 'Hippocampal Formation', 0.97, 1.5, 1.5, 1.6)"
   ]
  },
  {
   "cell_type": "code",
   "execution_count": null,
   "metadata": {},
   "outputs": [],
   "source": [
    "make_lineplot('19 mo', hipp_ss, get_sorter_index('HPF'), 'Hippocampal Formation', 0.97, 1.5, 1.5, 1.6, 0.5)"
   ]
  },
  {
   "cell_type": "markdown",
   "metadata": {},
   "source": [
    "## Olfactory"
   ]
  },
  {
   "cell_type": "code",
   "execution_count": null,
   "metadata": {},
   "outputs": [],
   "source": [
    "olf = structure_tree.get_structures_by_acronym(['OLF'])[0]\n",
    "olf_ids = structure_tree.descendant_ids([olf['id']])[0]\n",
    "olf_ss = [ids for ids in olf_ids if ids in summary_structure_ids]\n",
    "print(len(olf_ss))"
   ]
  },
  {
   "cell_type": "code",
   "execution_count": null,
   "metadata": {},
   "outputs": [],
   "source": [
    "make_broken_lineplot('13 mo', olf_ss, get_sorter_index('OLF'), \n",
    "                     'Olfactory Structures', 1, 1.5, 1.2, 0.1, 1.7, 0.07, 0.7)"
   ]
  },
  {
   "cell_type": "code",
   "execution_count": null,
   "metadata": {},
   "outputs": [],
   "source": [
    "make_lineplot('19 mo', olf_ss, get_sorter_index('OLF'), 'Olfactory Structures', 1, 1.5, 1.2, 1.7, 0.5)"
   ]
  },
  {
   "cell_type": "markdown",
   "metadata": {},
   "source": [
    "## CTXsp"
   ]
  },
  {
   "cell_type": "code",
   "execution_count": null,
   "metadata": {},
   "outputs": [],
   "source": [
    "ctxsp = structure_tree.get_structures_by_acronym(['CTXsp'])[0]\n",
    "ctxsp_ids = structure_tree.descendant_ids([ctxsp['id']])[0]\n",
    "ctxsp_ss = [ids for ids in ctxsp_ids if ids in summary_structure_ids]\n",
    "print(len(ctxsp_ss))"
   ]
  },
  {
   "cell_type": "code",
   "execution_count": null,
   "metadata": {},
   "outputs": [],
   "source": [
    "make_broken_lineplot('13 mo', ctxsp_ss, get_sorter_index('CTXsp'), \n",
    "                     'CTXsp', 1.05, 1.5, 0.8, 0.1, 1.7, 0.07, 0.7)"
   ]
  },
  {
   "cell_type": "code",
   "execution_count": null,
   "metadata": {},
   "outputs": [],
   "source": [
    "make_lineplot('19 mo', ctxsp_ss, get_sorter_index('CTXsp'), 'CTXsp', 1.05, 1.5, 0.8, 1.7, 0.5)"
   ]
  },
  {
   "cell_type": "code",
   "execution_count": null,
   "metadata": {},
   "outputs": [],
   "source": [
    "dat.keys()"
   ]
  },
  {
   "cell_type": "code",
   "execution_count": null,
   "metadata": {},
   "outputs": [],
   "source": [
    "dat[(dat['mouse_line'] == 'Tg2576') & \n",
    "    (dat['structure_acronym'] == 'PIR') & \n",
    "    (dat['age_group'] == '13 mo')][['image_series_id', 'plaque_density']].sort_values(\n",
    "    by='plaque_density')"
   ]
  },
  {
   "cell_type": "markdown",
   "metadata": {},
   "source": [
    "## Plot by age"
   ]
  },
  {
   "cell_type": "code",
   "execution_count": null,
   "metadata": {},
   "outputs": [],
   "source": [
    "def get_age_legend(colors, ages):\n",
    "    legend = {}\n",
    "    for ix, age in enumerate(ages):\n",
    "        legend[ix] = mlines.Line2D([], [], color=colors[ix],\n",
    "                              label=age)\n",
    "    return [value for key, value in legend.iteritems()]"
   ]
  },
  {
   "cell_type": "code",
   "execution_count": null,
   "metadata": {},
   "outputs": [],
   "source": [
    "pltdat = pd.DataFrame(columns={'age', 'group', 'plaques', 'structure'})\n",
    "ages = ['5 mo', '7 mo', '9 mo', '13 mo', '19 mo']\n",
    "for age in ages:\n",
    "    for structure in iso:\n",
    "        structure_acronym = ai_map[structure]\n",
    "        pltdat = pd.concat([pltdat, get_structure_data(age, structure_acronym, 'density')], sort = True)\n",
    "pltdat['Percent Plaque Coverage'] = [density*100 for density in pltdat['plaques']]\n",
    "\n",
    "fig, ax = plt.subplots(figsize = (8, 3))\n",
    "ages = ['5 mo', '7 mo', '9 mo', '13 mo', '19 mo']\n",
    "colors = ['#d0d1e6', '#a6bddb', '#74a9cf', '#2b8cbe', '#045a8d']\n",
    "for ix, age in enumerate(ages):\n",
    "    agedat = pltdat[pltdat['age'] == age]\n",
    "    meddat = agedat.groupby(['group', 'structure']).median().reset_index()\n",
    "    mapping = {region: i for i, region in enumerate(plot_order)}\n",
    "    key = meddat['structure'].map(mapping)    \n",
    "    meddat = meddat.iloc[key.argsort()]\n",
    "    meddat['lower_error'] = agedat.groupby(['group', 'structure']).quantile(.25).reset_index()['Percent Plaque Coverage']\n",
    "    meddat['lower_error'] = meddat['Percent Plaque Coverage'] - meddat['lower_error']\n",
    "    meddat['upper_error'] = agedat.groupby(['group', 'structure']).quantile(.75).reset_index()['Percent Plaque Coverage']\n",
    "    meddat['upper_error'] = meddat['upper_error'] - meddat['Percent Plaque Coverage']\n",
    "    meddat[meddat['group'] == 'APP/PS1'].plot('structure', 'Percent Plaque Coverage', \n",
    "                                          ax = ax, c = colors[ix], linewidth = 3, capsize=.5,\n",
    "                                              alpha = 0.3, legend = False,\n",
    "                                          yerr = np.array(meddat[meddat['group'] == 'APP/PS1'][['lower_error', 'upper_error']].T)) \n",
    "    meddat[meddat['group'] == 'APP/PS1'].plot('structure', 'Percent Plaque Coverage', \n",
    "                                          ax = ax, c = colors[ix], linewidth = 3, legend = False)\n",
    "plt.title('Plaque Density in Isocortex Structures APP/PS1')\n",
    "plt.legend(handles = get_age_legend(colors, ages), loc = 2)\n",
    "plt.xticks(np.arange(len(meddat['structure'].unique())), meddat['structure'].unique());\n",
    "plt.setp( ax.xaxis.get_majorticklabels(), rotation=90 )\n",
    "ax.set_xlabel(\"\")\n",
    "ax.set_ylabel(\"Percent Plaque Coverage\")\n",
    "ax.set_ylim([-0.05, 1.9])\n",
    "plt.savefig(os.path.join(savepath, 'plaque volume in isocortex by age APP_PS1.pdf'.format(structure)), \n",
    "            bbox_inches='tight', pad_inches=0.3, format='pdf', transparent = True, dpi=1000)"
   ]
  },
  {
   "cell_type": "code",
   "execution_count": null,
   "metadata": {},
   "outputs": [],
   "source": [
    "pltdat = pd.DataFrame(columns={'age', 'group', 'plaques', 'structure'})\n",
    "ages = ['5 mo', '7 mo', '9 mo', '13 mo', '19 mo']\n",
    "for age in ages:\n",
    "    for structure in hipp_ss:\n",
    "        structure_acronym = ai_map[structure]\n",
    "        pltdat = pd.concat([pltdat, get_structure_data(age, structure_acronym, 'density')], sort = True)\n",
    "pltdat['Percent Plaque Coverage'] = [density*100 for density in pltdat['plaques']]\n",
    "\n",
    "fig, ax = plt.subplots(figsize = (3, 3))\n",
    "ages = ['5 mo', '7 mo', '9 mo', '13 mo', '19 mo']\n",
    "colors = ['#d0d1e6', '#a6bddb', '#74a9cf', '#2b8cbe', '#045a8d']\n",
    "for ix, age in enumerate(ages):\n",
    "    agedat = pltdat[pltdat['age'] == age]\n",
    "    meddat = agedat.groupby(['group', 'structure']).median().reset_index()\n",
    "    meddat['lower_error'] = agedat.groupby(['group', 'structure']).quantile(.25).reset_index()['Percent Plaque Coverage']\n",
    "    meddat['lower_error'] = meddat['Percent Plaque Coverage'] - meddat['lower_error']\n",
    "    meddat['upper_error'] = agedat.groupby(['group', 'structure']).quantile(.75).reset_index()['Percent Plaque Coverage']\n",
    "    meddat['upper_error'] = meddat['upper_error'] - meddat['Percent Plaque Coverage']\n",
    "    meddat[meddat['group'] == 'APP/PS1'].plot('structure', 'Percent Plaque Coverage', \n",
    "                                          ax = ax, c = colors[ix], linewidth = 3, capsize=.5,\n",
    "                                              alpha = 0.3, legend = False,\n",
    "                                          yerr = np.array(meddat[meddat['group'] == 'APP/PS1'][['lower_error', 'upper_error']].T)) \n",
    "    meddat[meddat['group'] == 'APP/PS1'].plot('structure', 'Percent Plaque Coverage', \n",
    "                                          ax = ax, c = colors[ix], linewidth = 3, legend = False)\n",
    "plt.title('Plaque Density in Hippocampal Structures APP/PS1')\n",
    "plt.legend(handles = get_age_legend(colors, ages), loc = 1)\n",
    "plt.xticks(np.arange(len(meddat['structure'].unique())), meddat['structure'].unique());\n",
    "plt.setp( ax.xaxis.get_majorticklabels(), rotation=90 )\n",
    "ax.set_xlabel(\"\")\n",
    "ax.set_ylabel(\"Percent Plaque Coverage\")\n",
    "ax.set_ylim([-0.05, 1.9])\n",
    "plt.savefig(os.path.join(savepath, 'plaque volume in hippocampus by age APP_PS1.pdf'.format(structure)), \n",
    "            bbox_inches='tight', pad_inches=0.3, format='pdf', transparent = True, dpi=1000)"
   ]
  },
  {
   "cell_type": "code",
   "execution_count": null,
   "metadata": {},
   "outputs": [],
   "source": [
    "pltdat = pd.DataFrame(columns={'age', 'group', 'plaques', 'structure'})\n",
    "ages = ['5 mo', '7 mo', '9 mo', '13 mo', '19 mo']\n",
    "for age in ages:\n",
    "    for structure in iso:\n",
    "        structure_acronym = ai_map[structure]\n",
    "        pltdat = pd.concat([pltdat, get_structure_data(age, structure_acronym, 'density')], sort = True)\n",
    "pltdat['Percent Plaque Coverage'] = [density*100 for density in pltdat['plaques']]\n",
    "\n",
    "fig, ax = plt.subplots(figsize = (8, 3))\n",
    "ages = ['5 mo', '7 mo', '9 mo', '13 mo', '19 mo']\n",
    "colors = ['#fdd49e', '#fdbb84', '#fc8d59', '#e34a33', '#b30000']\n",
    "for ix, age in enumerate(ages):\n",
    "    agedat = pltdat[pltdat['age'] == age]\n",
    "    meddat = agedat.groupby(['group', 'structure']).median().reset_index()\n",
    "    mapping = {region: i for i, region in enumerate(plot_order)}\n",
    "    key = meddat['structure'].map(mapping)    \n",
    "    meddat = meddat.iloc[key.argsort()]\n",
    "    meddat['lower_error'] = agedat.groupby(['group', 'structure']).quantile(.25).reset_index()['Percent Plaque Coverage']\n",
    "    meddat['lower_error'] = meddat['Percent Plaque Coverage'] - meddat['lower_error']\n",
    "    meddat['upper_error'] = agedat.groupby(['group', 'structure']).quantile(.75).reset_index()['Percent Plaque Coverage']\n",
    "    meddat['upper_error'] = meddat['upper_error'] - meddat['Percent Plaque Coverage']\n",
    "    meddat[meddat['group'] == 'hAPP-J20'].plot('structure', 'Percent Plaque Coverage', \n",
    "                                          ax = ax, c = colors[ix], linewidth = 3, capsize=.5,\n",
    "                                              alpha = 0.3, legend = False,\n",
    "                                          yerr = np.array(meddat[meddat['group'] == 'hAPP-J20'][['lower_error', 'upper_error']].T)) \n",
    "    meddat[meddat['group'] == 'hAPP-J20'].plot('structure', 'Percent Plaque Coverage', \n",
    "                                          ax = ax, c = colors[ix], linewidth = 3, legend = False)\n",
    "plt.title('Plaque Density in Isocortex Structures hAPP-J20')\n",
    "plt.legend(handles = get_age_legend(colors, ages), loc = 2)\n",
    "plt.xticks(np.arange(len(meddat['structure'].unique())), meddat['structure'].unique());\n",
    "plt.setp( ax.xaxis.get_majorticklabels(), rotation=90 )\n",
    "ax.set_xlabel(\"\")\n",
    "ax.set_ylabel(\"Percent Plaque Coverage\")\n",
    "ax.set_ylim([-0.05, 0.7])\n",
    "plt.savefig(os.path.join(savepath, 'plaque volume in isocortex by age J20.pdf'.format(structure)), \n",
    "            bbox_inches='tight', pad_inches=0.3, format='pdf', transparent = True, dpi=1000)"
   ]
  },
  {
   "cell_type": "code",
   "execution_count": null,
   "metadata": {},
   "outputs": [],
   "source": [
    "pltdat = pd.DataFrame(columns={'age', 'group', 'plaques', 'structure'})\n",
    "ages = ['5 mo', '7 mo', '9 mo', '13 mo', '19 mo']\n",
    "for age in ages:\n",
    "    for structure in hipp_ss:\n",
    "        structure_acronym = ai_map[structure]\n",
    "        pltdat = pd.concat([pltdat, get_structure_data(age, structure_acronym, 'density')], sort = True)\n",
    "pltdat['Percent Plaque Coverage'] = [density*100 for density in pltdat['plaques']]\n",
    "\n",
    "fig, ax = plt.subplots(figsize = (3, 3))\n",
    "ages = ['5 mo', '7 mo', '9 mo', '13 mo', '19 mo']\n",
    "colors = ['#fdd49e', '#fdbb84', '#fc8d59', '#e34a33', '#b30000']\n",
    "for ix, age in enumerate(ages):\n",
    "    agedat = pltdat[pltdat['age'] == age]\n",
    "    meddat = agedat.groupby(['group', 'structure']).median().reset_index()\n",
    "    meddat['lower_error'] = agedat.groupby(['group', 'structure']).quantile(.25).reset_index()['Percent Plaque Coverage']\n",
    "    meddat['lower_error'] = meddat['Percent Plaque Coverage'] - meddat['lower_error']\n",
    "    meddat['upper_error'] = agedat.groupby(['group', 'structure']).quantile(.75).reset_index()['Percent Plaque Coverage']\n",
    "    meddat['upper_error'] = meddat['upper_error'] - meddat['Percent Plaque Coverage']\n",
    "    meddat[meddat['group'] == 'hAPP-J20'].plot('structure', 'Percent Plaque Coverage', \n",
    "                                          ax = ax, c = colors[ix], linewidth = 3, capsize=.5,\n",
    "                                              alpha = 0.3, legend = False,\n",
    "                                          yerr = np.array(meddat[meddat['group'] == 'hAPP-J20'][['lower_error', 'upper_error']].T)) \n",
    "    meddat[meddat['group'] == 'hAPP-J20'].plot('structure', 'Percent Plaque Coverage', \n",
    "                                          ax = ax, c = colors[ix], linewidth = 3, legend = False)\n",
    "plt.title('Plaque Density in Hippocampal Structures hAPP-J20')\n",
    "plt.legend(handles = get_age_legend(colors, ages), loc = 1)\n",
    "plt.xticks(np.arange(len(meddat['structure'].unique())), meddat['structure'].unique());\n",
    "plt.setp( ax.xaxis.get_majorticklabels(), rotation=90 )\n",
    "ax.set_xlabel(\"\")\n",
    "ax.set_ylabel(\"Percent Plaque Coverage\")\n",
    "ax.set_ylim([-0.05, 0.7])\n",
    "plt.savefig(os.path.join(savepath, 'plaque volume in hippocampus by age J20.pdf'.format(structure)), \n",
    "            bbox_inches='tight', pad_inches=0.3, format='pdf', transparent = True, dpi=1000)"
   ]
  },
  {
   "cell_type": "code",
   "execution_count": null,
   "metadata": {},
   "outputs": [],
   "source": [
    "pltdat = pd.DataFrame(columns={'age', 'group', 'plaques', 'structure'})\n",
    "ages = ['5 mo', '7 mo', '9 mo', '13 mo', '19 mo']\n",
    "for age in ages:\n",
    "    for structure in olf_ss:\n",
    "        structure_acronym = ai_map[structure]\n",
    "        pltdat = pd.concat([pltdat, get_structure_data(age, structure_acronym, 'density')], sort = True)\n",
    "pltdat['Percent Plaque Coverage'] = [density*100 for density in pltdat['plaques']]\n",
    "\n",
    "fig, ax = plt.subplots(figsize = (8, 4))\n",
    "ages = ['9 mo', '13 mo', '19 mo']\n",
    "colors = ['#e5f5f9', '#99d8c9', '#2ca25f']\n",
    "for ix, age in enumerate(ages):\n",
    "    agedat = pltdat[pltdat['age'] == age]\n",
    "    meddat = agedat.groupby(['group', 'structure']).median().reset_index()\n",
    "    meddat['lower_error'] = agedat.groupby(['group', 'structure']).quantile(.25).reset_index()['Percent Plaque Coverage']\n",
    "    meddat['lower_error'] = meddat['Percent Plaque Coverage'] - meddat['lower_error']\n",
    "    meddat['upper_error'] = agedat.groupby(['group', 'structure']).quantile(.75).reset_index()['Percent Plaque Coverage']\n",
    "    meddat['upper_error'] = meddat['upper_error'] - meddat['Percent Plaque Coverage']\n",
    "    meddat[meddat['group'] == 'Tg2576'].plot('structure', 'Percent Plaque Coverage', \n",
    "                                          ax = ax, c = colors[ix], linewidth = 3, capsize=.5,\n",
    "                                              alpha = 0.3, legend = False,\n",
    "                                          yerr = np.array(meddat[meddat['group'] == 'Tg2576'][['lower_error', 'upper_error']].T)) \n",
    "    meddat[meddat['group'] == 'Tg2576'].plot('structure', 'Percent Plaque Coverage', \n",
    "                                          ax = ax, c = colors[ix], linewidth = 3, legend = False)\n",
    "plt.title('Plaque Density in Olfactory Structures Tg2576')\n",
    "plt.legend(handles = get_age_legend(colors, ages), loc = 2, frameon = False)\n",
    "plt.xticks(np.arange(len(meddat['structure'].unique())), meddat['structure'].unique());\n",
    "plt.setp( ax.xaxis.get_majorticklabels(), rotation=90 )\n",
    "ax.set_xlabel(\"\")\n",
    "plt.savefig(os.path.join(savepath, 'plaque volume in olfactory by age Tg2576.pdf'.format(structure)), \n",
    "            bbox_inches='tight', pad_inches=0.3, format='pdf', transparent = True, dpi=1000)"
   ]
  },
  {
   "cell_type": "markdown",
   "metadata": {},
   "source": [
    "## Plaque density by module"
   ]
  },
  {
   "cell_type": "code",
   "execution_count": null,
   "metadata": {},
   "outputs": [],
   "source": [
    "dat.loc[dat['structure_acronym'].isin(['FRP', 'MOs', 'PL', 'ILA', 'ORBm', 'ORBl', 'ORBvl','ACAd', 'ACAv']),\n",
    "        'module'] = 'Prefrontal'\n",
    "dat.loc[dat['structure_acronym'].isin(['AId', 'AIv', 'AIp', 'GU', 'VISC']), 'module'] = 'Anterolateral'\n",
    "dat.loc[dat['structure_acronym'].isin(['SSs', 'SSp-bfd', 'SSp-tr', 'SSp-ll', 'SSp-ul', 'SSp-un',\n",
    "                                          'SSp-n', 'SSp-m', 'MOp']), 'module'] = 'Somatomotor'\n",
    "dat.loc[dat['structure_acronym'].isin(['VISp', 'VISl', 'VISrl', 'VISpl', 'VISli', 'VISal', 'VISpor']), \n",
    "        'module'] = 'Visual'\n",
    "dat.loc[dat['structure_acronym'].isin(['RSPd', 'RSPv', 'RSPagl', 'VISa', 'VISam', 'VISpm']), 'module'] = 'Medial'\n",
    "dat.loc[dat['structure_acronym'].isin(['AUDd', 'AUDp', 'AUDpo', 'AUDv', 'TEa', 'PERI', 'ECT']), 'module'] = 'Temporal'"
   ]
  },
  {
   "cell_type": "code",
   "execution_count": null,
   "metadata": {},
   "outputs": [],
   "source": [
    "len(dat[~dat['module'].isnull()]['structure_acronym'].unique())"
   ]
  },
  {
   "cell_type": "code",
   "execution_count": null,
   "metadata": {},
   "outputs": [],
   "source": [
    "# get module volumes"
   ]
  },
  {
   "cell_type": "code",
   "execution_count": null,
   "metadata": {},
   "outputs": [],
   "source": [
    "dat['module'].unique()"
   ]
  },
  {
   "cell_type": "code",
   "execution_count": null,
   "metadata": {},
   "outputs": [],
   "source": [
    "isids = []\n",
    "modules = []\n",
    "mouse = []\n",
    "splits = []\n",
    "sumds = []\n",
    "for isid in dat['image_series_id'].unique():\n",
    "    mods = []\n",
    "    moddat = []\n",
    "    expdat = dat[(dat['image_series_id'] == isid) & (~dat['module'].isnull())]\n",
    "    sumdat = expdat['plaque_volume'].sum()\n",
    "    sumvol = expdat['volume'].sum()\n",
    "    sumdens = sumdat/sumvol\n",
    "    for module in expdat['module'].unique():\n",
    "        isids.append(isid)\n",
    "        mods.append(module)\n",
    "        mouse.append(expdat['mouse_line'].values[0])\n",
    "        pvdat = float(np.sum(expdat[expdat['module'] == module]['plaque_volume']))\n",
    "        vdat = float(np.sum(expdat[expdat['module'] == module]['volume']))\n",
    "        moddens = pvdat/vdat\n",
    "        moddat.append(moddens/sumdens)\n",
    "    modules += mods\n",
    "    splits += moddat"
   ]
  },
  {
   "cell_type": "code",
   "execution_count": null,
   "metadata": {},
   "outputs": [],
   "source": [
    "moddat_melted = pd.DataFrame({'image_series_id': isids, 'Module': modules, 'Mouse Line': mouse,\n",
    "                              'Relative Plaque Density': splits})"
   ]
  },
  {
   "cell_type": "code",
   "execution_count": null,
   "metadata": {},
   "outputs": [],
   "source": [
    "moddat_melted.head()"
   ]
  },
  {
   "cell_type": "code",
   "execution_count": null,
   "metadata": {},
   "outputs": [],
   "source": [
    "moddat_melted.to_csv(os.path.join(path, 'module_data_long.csv'))"
   ]
  },
  {
   "cell_type": "code",
   "execution_count": null,
   "metadata": {},
   "outputs": [],
   "source": [
    "g = sns.catplot('Module', 'Relative Plaque Density', data = moddat_melted, hue = 'Mouse Line', \n",
    "                kind='bar', palette = mouse_line_colors, hue_order = mouse_lines,\n",
    "           height = 5, aspect = 1.1)\n",
    "g.ax.axhline(y=1, color = 'grey', linestyle = 'dashed', zorder = -1)\n",
    "plt.savefig(os.path.join(savepath, 'plaque volume by module.pdf'.format(structure)), \n",
    "            bbox_inches='tight', pad_inches=0.3, format='pdf', transparent = True, dpi=1000)"
   ]
  },
  {
   "cell_type": "code",
   "execution_count": null,
   "metadata": {},
   "outputs": [],
   "source": [
    "moddat = moddat_melted[['image_series_id', 'Module', 'Relative Plaque Density']].pivot(\n",
    "    index = 'image_series_id', columns = 'Module').reset_index()\n",
    "mousedat = moddat_melted[['image_series_id', 'Module', 'Mouse Line']].pivot(\n",
    "    index = 'image_series_id', columns = 'Module').reset_index()\n",
    "moddat.columns = moddat.columns.droplevel()\n",
    "mousedat.columns = mousedat.columns.droplevel()\n",
    "moddat['Mouse Line'] = mousedat['Anterolateral']"
   ]
  },
  {
   "cell_type": "code",
   "execution_count": null,
   "metadata": {},
   "outputs": [],
   "source": [
    "moddat.to_csv(os.path.join(path, 'module_data.csv'))"
   ]
  },
  {
   "cell_type": "code",
   "execution_count": null,
   "metadata": {},
   "outputs": [],
   "source": [
    "moddat_mdf = moddat_melted.rename(columns = {'Relative Plaque Density': 'plaque_density', \n",
    "                                             'Module': 'module', \n",
    "                                             'Mouse Line': 'mouse_line'})"
   ]
  },
  {
   "cell_type": "code",
   "execution_count": null,
   "metadata": {},
   "outputs": [],
   "source": [
    "moddat_mdf.head(1)"
   ]
  },
  {
   "cell_type": "code",
   "execution_count": null,
   "metadata": {},
   "outputs": [],
   "source": [
    "formula = 'plaque_density ~ mouse_line + module + mouse_line:module'\n",
    "\n",
    "mod1 = smf.ols(formula=formula, data=moddat_mdf).fit()\n",
    "table = sm.stats.anova_lm(mod1, typ=2)"
   ]
  },
  {
   "cell_type": "code",
   "execution_count": null,
   "metadata": {},
   "outputs": [],
   "source": [
    "table"
   ]
  },
  {
   "cell_type": "code",
   "execution_count": null,
   "metadata": {},
   "outputs": [],
   "source": [
    "iso_acronyms = [ai_map[structure] for structure in iso]"
   ]
  },
  {
   "cell_type": "code",
   "execution_count": null,
   "metadata": {},
   "outputs": [],
   "source": [
    "dat.head()"
   ]
  },
  {
   "cell_type": "code",
   "execution_count": null,
   "metadata": {},
   "outputs": [],
   "source": [
    "isids = []\n",
    "regions = []\n",
    "mouse = []\n",
    "splits = []\n",
    "for isid in dat['image_series_id'].unique():\n",
    "    mods = []\n",
    "    moddat = []\n",
    "    expdat = dat[(dat['image_series_id'] == isid) & (dat['structure_acronym'].isin(iso_acronyms))]\n",
    "    sumdat = expdat['plaque_volume'].sum()\n",
    "    sumvol = expdat['volume'].sum()\n",
    "    sumdens = sumdat/sumvol\n",
    "    for region in expdat['structure_acronym'].unique():\n",
    "        isids.append(isid)\n",
    "        regions.append(region)\n",
    "        mouse.append(expdat['mouse_line'].values[0])\n",
    "        pvdat = float(np.sum(expdat[expdat['structure_acronym'] == region]['plaque_volume']))\n",
    "        vdat = float(np.sum(expdat[expdat['structure_acronym'] == region]['volume']))\n",
    "        moddens = pvdat/vdat\n",
    "        splits.append(moddens/sumdens)"
   ]
  },
  {
   "cell_type": "code",
   "execution_count": null,
   "metadata": {},
   "outputs": [],
   "source": [
    "ctxdat_melted = pd.DataFrame({'image_series_id': isids, 'region': regions, 'Mouse Line': mouse,\n",
    "                              'plaque_density': splits})"
   ]
  },
  {
   "cell_type": "code",
   "execution_count": null,
   "metadata": {},
   "outputs": [],
   "source": [
    "ctxdat_melted.head()"
   ]
  },
  {
   "cell_type": "code",
   "execution_count": null,
   "metadata": {},
   "outputs": [],
   "source": [
    "ctxdat_melted.to_csv(os.path.join(path, 'relative density by cortical region.csv'))"
   ]
  },
  {
   "cell_type": "markdown",
   "metadata": {},
   "source": [
    "## Plaque Maps"
   ]
  },
  {
   "cell_type": "code",
   "execution_count": null,
   "metadata": {},
   "outputs": [],
   "source": [
    "def get_mean_value_per_structure(group, age, structure_ids):\n",
    "    means = []\n",
    "    isids = dataset[(dataset['mouse_line'] == group) & (dataset['age_group'] == age)]['image_series_id'].values\n",
    "    for structure_id in structure_ids:\n",
    "        str_mean = np.mean(dat[(dat['structure_id'] == structure_id) & \n",
    "                                 (dat['image_series_id'].isin(isids))]\n",
    "                             ['plaque_density'])\n",
    "        means.append(str_mean*100)\n",
    "    structuredat = dict(zip(structure_ids, means))\n",
    "    return structuredat, len(isids)"
   ]
  },
  {
   "cell_type": "code",
   "execution_count": null,
   "metadata": {},
   "outputs": [],
   "source": [
    "all_structure_vals, n = get_mean_value_per_structure('Tg2576', '13 mo', dat.structure_id.unique())"
   ]
  },
  {
   "cell_type": "code",
   "execution_count": null,
   "metadata": {},
   "outputs": [],
   "source": [
    "savepath"
   ]
  },
  {
   "cell_type": "code",
   "execution_count": null,
   "metadata": {},
   "outputs": [],
   "source": [
    "mcc10 = MouseConnectivityCache(resolution = 10, manifest_file = '../connectivity/mouse_connectivity_manifest_10.json')\n",
    "reference_space =  mcc.get_reference_space()\n",
    "structure_vals, n = get_mean_value_per_structure('APP/PS1', '13 mo', dat.structure_id.unique())\n",
    "rgb_vals = structure_vals.copy()\n",
    "scale = 0.7\n",
    "for key in structure_vals:\n",
    "    rgb_vals[key] = tuple([255*i for i in cm.hot(structure_vals[key]*scale)[:3]])\n",
    "rgb_vals[0] = [0, 0, 0]\n",
    "index = [7150, 4500, 5000]\n",
    "#index = [6650, 5625, 9100] #rostral\n",
    "image = reference_space.get_slice_image(0, index[0], rgb_vals)\n",
    "fig = plt.figure(figsize=(100, 100), facecolor=rgb_vals[0])\n",
    "f = plt.imshow(image, cmap = cm.hot)\n",
    "plt.axis('off')\n",
    "plt.savefig(r'/Users/jenniferwh/Dropbox (Allen Institute)/Mesoscale Connectome Papers in Progress/2018 Plaque/APP_PS1 plaque map with 238134.png', facecolor=fig.get_facecolor(),\n",
    "            bbox_inches='tight', pad_inches=0.3, format='png', dpi=300)"
   ]
  },
  {
   "cell_type": "code",
   "execution_count": null,
   "metadata": {},
   "outputs": [],
   "source": [
    "reference_space =  mcc.get_reference_space()\n",
    "structure_vals, n = get_mean_value_per_structure('APP/PS1', '13 mo', dat.structure_id.unique())\n",
    "rgb_vals = structure_vals.copy()\n",
    "scale = 0.7\n",
    "for key in structure_vals:\n",
    "    rgb_vals[key] = tuple([255*i for i in cm.hot(structure_vals[key]*scale)[:3]])\n",
    "rgb_vals[0] = [0, 0, 0]\n",
    "\n",
    "w=8\n",
    "h=8\n",
    "image = [0,0,0]\n",
    "index = [8000, 4500, 5000]\n",
    "#index = [6650, 5625, 9100] #rostral\n",
    "image[0] = reference_space.get_slice_image(0, index[0], rgb_vals)\n",
    "image[1] = np.flip(np.rot90(reference_space.get_slice_image(2, index[2], rgb_vals)), 0)\n",
    "image[2] = np.rot90(reference_space.get_slice_image(1, index[1], rgb_vals))  \n",
    "fig = plt.figure(figsize=(8, 3), facecolor=rgb_vals[0])\n",
    "columns = 3\n",
    "rows = 1\n",
    "for i in range(columns*rows):\n",
    "    fig.add_subplot(rows, columns, i+1)\n",
    "    f = plt.imshow(image[i], cmap = cm.hot)\n",
    "    plt.axis('off')\n",
    "cbar = fig.colorbar(f, fraction=0.046)\n",
    "cbar.set_label('Plaque Density (%)', rotation=90, color = 'w')\n",
    "plt.setp(plt.getp(cbar.ax.axes, 'yticklabels'), color='w')\n",
    "\n",
    "maxval = max(structure_vals.iteritems(), key=operator.itemgetter(1))[1]/scale\n",
    "cbar.ax.set_yticklabels([0, np.round(maxval*.16, 1), np.round(maxval*.33, 1), \n",
    "                         np.round(maxval*.5, 1), np.round(maxval*.66, 1), \n",
    "                         np.round(maxval*.56, 1), np.round(maxval*.67, 1),\n",
    "                        np.round(maxval*.78, 1), np.round(maxval*.89, 1), np.round(maxval)])\n",
    "print(n)\n",
    "plt.savefig(os.path.join(savepath, 'APP_PS1 plaque map 13 mo.png'), facecolor=fig.get_facecolor(),\n",
    "            bbox_inches='tight', pad_inches=0.3, format='png', dpi=500)"
   ]
  },
  {
   "cell_type": "code",
   "execution_count": null,
   "metadata": {},
   "outputs": [],
   "source": [
    "structure_vals, n = get_mean_value_per_structure('APP/PS1', '19 mo', dat.structure_id.unique())\n",
    "rgb_vals = structure_vals.copy()\n",
    "scale = 0.7\n",
    "for key in structure_vals:\n",
    "    rgb_vals[key] = tuple([255*i for i in cm.hot(structure_vals[key]*scale)[:3]])\n",
    "rgb_vals[0] = [0, 0, 0]\n",
    "\n",
    "w=8\n",
    "h=8\n",
    "image = [0,0,0]\n",
    "index = [8000, 4500, 5000]\n",
    "#index = [6650, 5625, 9100] #rostral\n",
    "image[0] = reference_space.get_slice_image(0, index[0], rgb_vals)\n",
    "image[1] = np.flip(np.rot90(reference_space.get_slice_image(2, index[2], rgb_vals)), 0)\n",
    "image[2] = np.rot90(reference_space.get_slice_image(1, index[1], rgb_vals))  \n",
    "fig = plt.figure(figsize=(8, 3), facecolor=rgb_vals[0])\n",
    "columns = 3\n",
    "rows = 1\n",
    "for i in range(columns*rows):\n",
    "    fig.add_subplot(rows, columns, i+1)\n",
    "    f = plt.imshow(image[i], cmap = cm.hot)\n",
    "    plt.axis('off')\n",
    "cbar = fig.colorbar(f, fraction=0.046)\n",
    "cbar.set_label('Plaque Density (%)', rotation=90, color = 'w')\n",
    "plt.setp(plt.getp(cbar.ax.axes, 'yticklabels'), color='w')\n",
    "\n",
    "maxval = max(structure_vals.iteritems(), key=operator.itemgetter(1))[1]/scale\n",
    "cbar.ax.set_yticklabels([0, np.round(maxval*.12, 1), np.round(maxval*.23, 1), \n",
    "                         np.round(maxval*.34, 1), np.round(maxval*.45, 1), \n",
    "                         np.round(maxval*.56, 1), np.round(maxval*.67, 1),\n",
    "                        np.round(maxval*.78, 1), np.round(maxval*.89, 1), np.round(maxval)])\n",
    "print(n)\n",
    "plt.savefig(os.path.join(savepath, 'APP_PS1 plaque map 19 mo.png'), facecolor=fig.get_facecolor(),\n",
    "            bbox_inches='tight', pad_inches=0.3, format='png', dpi=500)"
   ]
  },
  {
   "cell_type": "code",
   "execution_count": null,
   "metadata": {},
   "outputs": [],
   "source": [
    "structure_vals, n = get_mean_value_per_structure('hAPP-J20', '19 mo', dat.structure_id.unique())\n",
    "rgb_vals = structure_vals.copy()\n",
    "scale = 2.5\n",
    "for key in structure_vals:\n",
    "    rgb_vals[key] = tuple([255*i for i in cm.hot(structure_vals[key]*scale)[:3]])\n",
    "rgb_vals[0] = [0, 0, 0]\n",
    "\n",
    "w=8\n",
    "h=8\n",
    "image = [0,0,0]\n",
    "#index = [8000, 4500, 5000]\n",
    "index = [6650, 5625, 9100] #rostral\n",
    "image[0] = reference_space.get_slice_image(0, index[0], rgb_vals)\n",
    "image[1] = np.flip(np.rot90(reference_space.get_slice_image(2, index[2], rgb_vals)), 0)\n",
    "image[2] = np.rot90(reference_space.get_slice_image(1, index[1], rgb_vals))  \n",
    "fig = plt.figure(figsize=(8, 3), facecolor=rgb_vals[0])\n",
    "columns = 3\n",
    "rows = 1\n",
    "for i in range(columns*rows):\n",
    "    fig.add_subplot(rows, columns, i+1)\n",
    "    f = plt.imshow(image[i], cmap = cm.hot)\n",
    "    plt.axis('off')\n",
    "cbar = fig.colorbar(f, fraction=0.046)\n",
    "cbar.set_label('Plaque Density (%)', rotation=90, color = 'w')\n",
    "plt.setp(plt.getp(cbar.ax.axes, 'yticklabels'), color='w')\n",
    "\n",
    "maxval = max(structure_vals.iteritems(), key=operator.itemgetter(1))[1]/scale\n",
    "cbar.ax.set_yticklabels([0, np.round(maxval*.12, 1), np.round(maxval*.23, 1), \n",
    "                         np.round(maxval*.34, 1), np.round(maxval*.45, 1), \n",
    "                         np.round(maxval*.56, 1), np.round(maxval*.67, 1),\n",
    "                        np.round(maxval*.78, 1), np.round(maxval*.89, 1), np.round(maxval)])\n",
    "print(n)\n",
    "plt.savefig(os.path.join(savepath, 'hAPP-J20 plaque map 19 mo rostral.png'), facecolor=fig.get_facecolor(),\n",
    "            bbox_inches='tight', pad_inches=0.3, format='png', dpi=1000)"
   ]
  },
  {
   "cell_type": "code",
   "execution_count": null,
   "metadata": {},
   "outputs": [],
   "source": [
    "structure_vals, n = get_mean_value_per_structure('hAPP-J20', '13 mo', dat.structure_id.unique())\n",
    "rgb_vals = structure_vals.copy()\n",
    "scale = 5\n",
    "for key in structure_vals:\n",
    "    rgb_vals[key] = tuple([255*i for i in cm.hot(structure_vals[key]*scale)[:3]])\n",
    "rgb_vals[0] = [0, 0, 0]\n",
    "\n",
    "w=8\n",
    "h=8\n",
    "image = [0,0,0]\n",
    "index = [8000, 4500, 5000]\n",
    "#index = [6650, 5625, 9100] #rostral\n",
    "image[0] = reference_space.get_slice_image(0, index[0], rgb_vals)\n",
    "image[1] = np.flip(np.rot90(reference_space.get_slice_image(2, index[2], rgb_vals)), 0)\n",
    "image[2] = np.rot90(reference_space.get_slice_image(1, index[1], rgb_vals))  \n",
    "fig = plt.figure(figsize=(8, 3), facecolor=rgb_vals[0])\n",
    "columns = 3\n",
    "rows = 1\n",
    "for i in range(columns*rows):\n",
    "    fig.add_subplot(rows, columns, i+1)\n",
    "    f = plt.imshow(image[i], cmap = cm.hot)\n",
    "    plt.axis('off')\n",
    "cbar = fig.colorbar(f, fraction=0.046)\n",
    "cbar.set_label('Plaque Density (%)', rotation=90, color = 'w')\n",
    "plt.setp(plt.getp(cbar.ax.axes, 'yticklabels'), color='w')\n",
    "\n",
    "maxval = max(structure_vals.iteritems(), key=operator.itemgetter(1))[1]/scale\n",
    "cbar.ax.set_yticklabels([0, np.round(maxval*.12, 2), np.round(maxval*.23, 2), \n",
    "                         np.round(maxval*.34, 2), np.round(maxval*.45, 2), \n",
    "                         np.round(maxval*.56, 2), np.round(maxval*.67, 2),\n",
    "                        np.round(maxval*.78, 2), np.round(maxval*.89, 2), np.round(maxval)])\n",
    "print(n)\n",
    "plt.savefig(os.path.join(savepath, 'hAPP-J20 plaque map 13 mo.png'), facecolor=fig.get_facecolor(),\n",
    "            bbox_inches='tight', pad_inches=0.3, format='png', dpi=500)"
   ]
  },
  {
   "cell_type": "code",
   "execution_count": null,
   "metadata": {},
   "outputs": [],
   "source": [
    "structure_vals, n = get_mean_value_per_structure('Tg2576', '13 mo', dat.structure_id.unique())\n",
    "rgb_vals = structure_vals.copy()\n",
    "scale = 10\n",
    "for key in structure_vals:\n",
    "    rgb_vals[key] = tuple([255*i for i in cm.hot(structure_vals[key]*scale)[:3]])\n",
    "rgb_vals[0] = [0, 0, 0]\n",
    "\n",
    "w=8\n",
    "h=8\n",
    "image = [0,0,0]\n",
    "index = [8000, 4500, 5000]\n",
    "#index = [6650, 5625, 9100] #rostral\n",
    "image[0] = reference_space.get_slice_image(0, index[0], rgb_vals)\n",
    "image[1] = np.flip(np.rot90(reference_space.get_slice_image(2, index[2], rgb_vals)), 0)\n",
    "image[2] = np.rot90(reference_space.get_slice_image(1, index[1], rgb_vals))  \n",
    "fig = plt.figure(figsize=(8, 3), facecolor=rgb_vals[0])\n",
    "columns = 3\n",
    "rows = 1\n",
    "for i in range(columns*rows):\n",
    "    fig.add_subplot(rows, columns, i+1)\n",
    "    f = plt.imshow(image[i], cmap = cm.hot)\n",
    "    plt.axis('off')\n",
    "cbar = fig.colorbar(f, fraction=0.046)\n",
    "cbar.set_label('Plaque Density (%)', rotation=90, color = 'w')\n",
    "plt.setp(plt.getp(cbar.ax.axes, 'yticklabels'), color='w')\n",
    "\n",
    "maxval = max(structure_vals.iteritems(), key=operator.itemgetter(1))[1]/scale\n",
    "cbar.ax.set_yticklabels([0, np.round(maxval*.12, 2), np.round(maxval*.23, 2), \n",
    "                         np.round(maxval*.34, 2), np.round(maxval*.45, 2), \n",
    "                         np.round(maxval*.56, 2), np.round(maxval*.67, 2),\n",
    "                        np.round(maxval*.78, 2), np.round(maxval*.89, 2), np.round(maxval)])\n",
    "print(n)\n",
    "plt.savefig(os.path.join(savepath, 'Tg2576 plaque map 13 mo.png'), facecolor=fig.get_facecolor(),\n",
    "            bbox_inches='tight', pad_inches=0.3, format='png', dpi=1000)"
   ]
  },
  {
   "cell_type": "code",
   "execution_count": null,
   "metadata": {},
   "outputs": [],
   "source": [
    "structure_vals, n = get_mean_value_per_structure('Tg2576', '19 mo', dat.structure_id.unique())\n",
    "rgb_vals = structure_vals.copy()\n",
    "scale = 2\n",
    "for key in structure_vals:\n",
    "    rgb_vals[key] = tuple([255*i for i in cm.hot(structure_vals[key]*scale)[:3]])\n",
    "rgb_vals[0] = [0, 0, 0]\n",
    "\n",
    "w=8\n",
    "h=8\n",
    "image = [0,0,0]\n",
    "index = [8000, 4500, 5000]\n",
    "#index = [6650, 5625, 9100] #rostral\n",
    "image[0] = reference_space.get_slice_image(0, index[0], rgb_vals)\n",
    "image[1] = np.flip(np.rot90(reference_space.get_slice_image(2, index[2], rgb_vals)), 0)\n",
    "image[2] = np.rot90(reference_space.get_slice_image(1, index[1], rgb_vals))  \n",
    "fig = plt.figure(figsize=(8, 3), facecolor= rgb_vals[0])\n",
    "columns = 3\n",
    "rows = 1\n",
    "for i in range(columns*rows):\n",
    "    fig.add_subplot(rows, columns, i+1)\n",
    "    f = plt.imshow(image[i], cmap = cm.hot)\n",
    "    plt.axis('off')\n",
    "\n",
    "cbar = fig.colorbar(f, orientation='vertical', \n",
    "                    fraction=0.046)\n",
    "cbar_ax = fig.axes[-1]\n",
    "cbar.solids.set_rasterized(True)\n",
    "cbar.solids.set_edgecolor(\"face\")\n",
    "cbar.draw_all()\n",
    "\n",
    "cbar.set_label('Plaque Density (%)', rotation=90, color = 'w')\n",
    "plt.setp(plt.getp(cbar.ax.axes, 'yticklabels'), color='w')\n",
    "\n",
    "maxval = max(structure_vals.iteritems(), key=operator.itemgetter(1))[1]/scale\n",
    "cbar.ax.set_yticklabels([0, np.round(maxval*.12, 1), np.round(maxval*.23, 1), \n",
    "                         np.round(maxval*.34, 1), np.round(maxval*.45, 1), \n",
    "                         np.round(maxval*.56, 1), np.round(maxval*.67, 1),\n",
    "                        np.round(maxval*.78, 1), np.round(maxval*.89, 1), np.round(maxval)])\n",
    "print(n)\n",
    "plt.savefig(os.path.join(savepath, 'Tg2576 plaque map 19 mo.png'), facecolor=fig.get_facecolor(),\n",
    "            bbox_inches='tight', pad_inches=0.3, format='png', dpi=500)"
   ]
  },
  {
   "cell_type": "code",
   "execution_count": null,
   "metadata": {},
   "outputs": [],
   "source": [
    "w=8\n",
    "h=8\n",
    "image = [0,0,0]\n",
    "index = [8000, 4500, 5000]\n",
    "#index = [6650, 5625, 9100] #rostral\n",
    "image[0] = reference_space.get_slice_image(0, index[0])\n",
    "image[1] = np.flip(np.rot90(reference_space.get_slice_image(2, index[2])), 0)\n",
    "image[2] = np.rot90(reference_space.get_slice_image(1, index[1]))  \n",
    "fig = plt.figure(figsize=(8, 3), facecolor= rgb_vals[0])\n",
    "columns = 3\n",
    "rows = 1\n",
    "for i in range(columns*rows):\n",
    "    fig.add_subplot(rows, columns, i+1)\n",
    "    f = plt.imshow(image[i])\n",
    "    plt.axis('off')\n",
    "cbar = fig.colorbar(f, orientation='vertical', \n",
    "                    fraction=0.046)\n",
    "cbar_ax = fig.axes[-1]\n",
    "cbar.solids.set_rasterized(True)\n",
    "cbar.solids.set_edgecolor(\"face\")\n",
    "cbar.draw_all()\n",
    "\n",
    "cbar.set_label('Plaque % Volume', rotation=90, color = 'w')\n",
    "plt.setp(plt.getp(cbar.ax.axes, 'yticklabels'), color='w')\n",
    "\n",
    "maxval = max(structure_vals.iteritems(), key=operator.itemgetter(1))[1]/scale\n",
    "cbar.ax.set_yticklabels([0, np.round(maxval*.12, 1), np.round(maxval*.23, 1), \n",
    "                         np.round(maxval*.34, 1), np.round(maxval*.45, 1), \n",
    "                         np.round(maxval*.56, 1), np.round(maxval*.67, 1),\n",
    "                        np.round(maxval*.78, 1), np.round(maxval*.89, 1), np.round(maxval)])\n",
    "plt.savefig(os.path.join(savepath, 'ARA with plaque map.png'), facecolor=fig.get_facecolor(),\n",
    "            bbox_inches='tight', pad_inches=0.3, format='png', dpi=1000)"
   ]
  },
  {
   "cell_type": "code",
   "execution_count": null,
   "metadata": {},
   "outputs": [],
   "source": [
    "meandat = dat.groupby('structure_acronym').mean().reset_index().sort_values(by = 'plaque_density', ascending = False)"
   ]
  },
  {
   "cell_type": "code",
   "execution_count": null,
   "metadata": {},
   "outputs": [],
   "source": [
    "cdat = pd.read_csv(r'/Users/jenniferwh/Dropbox (Allen Institute)/Mesoscale Connectome Papers in Progress/2018 Plaque/figures/control brains/control_false_positive_mean_by_ss.csv')"
   ]
  },
  {
   "cell_type": "code",
   "execution_count": null,
   "metadata": {},
   "outputs": [],
   "source": [
    "meandat.sort_values(by='structure_id', inplace = True)\n",
    "meandat['Percent Coverage'] = [density*100 for density in meandat['plaque_density']]"
   ]
  },
  {
   "cell_type": "code",
   "execution_count": null,
   "metadata": {},
   "outputs": [],
   "source": [
    "cdat.sort_values(by='structure_id', inplace = True)\n",
    "cdat['Percent Coverage'] = [density*100 for density in cdat['plaque_density']]"
   ]
  },
  {
   "cell_type": "code",
   "execution_count": null,
   "metadata": {},
   "outputs": [],
   "source": [
    "diff = meandat['Percent Coverage'] - cdat['Percent Coverage']"
   ]
  },
  {
   "cell_type": "code",
   "execution_count": null,
   "metadata": {},
   "outputs": [],
   "source": [
    "max(diff)"
   ]
  },
  {
   "cell_type": "code",
   "execution_count": null,
   "metadata": {},
   "outputs": [],
   "source": [
    "min(diff)"
   ]
  },
  {
   "cell_type": "code",
   "execution_count": null,
   "metadata": {},
   "outputs": [],
   "source": [
    "np.mean(diff)"
   ]
  },
  {
   "cell_type": "code",
   "execution_count": null,
   "metadata": {},
   "outputs": [],
   "source": [
    "fig, ax = plt.subplots(figsize = (2, 2.2))\n",
    "g = sns.distplot(diff, kde=0)\n",
    "g.set_ylabel('Number of Structures')\n",
    "g.set_xlabel('Diff in % Coverage')\n",
    "g.set_title('Signal - False Positive')\n",
    "plt.tight_layout()\n",
    "plt.savefig(r'/Users/jenniferwh/Dropbox (Allen Institute)/Mesoscale Connectome Papers in Progress/2018 Plaque/figures/control brains/false_positive_levels.png')"
   ]
  },
  {
   "cell_type": "code",
   "execution_count": null,
   "metadata": {},
   "outputs": [],
   "source": [
    "len(diff)"
   ]
  },
  {
   "cell_type": "code",
   "execution_count": null,
   "metadata": {},
   "outputs": [],
   "source": [
    "dat.head()"
   ]
  },
  {
   "cell_type": "code",
   "execution_count": null,
   "metadata": {},
   "outputs": [],
   "source": [
    "iso_children = st.child_ids(iso)\n",
    "iso_children = [item for sublist in iso_children for item in sublist]"
   ]
  },
  {
   "cell_type": "code",
   "execution_count": null,
   "metadata": {},
   "outputs": [],
   "source": [
    "len(iso_children)"
   ]
  },
  {
   "cell_type": "code",
   "execution_count": null,
   "metadata": {},
   "outputs": [],
   "source": [
    "hipp['id']"
   ]
  },
  {
   "cell_type": "code",
   "execution_count": null,
   "metadata": {},
   "outputs": [],
   "source": [
    "hipp_children = st.descendant_ids([hipp['id']])\n",
    "hipp_children = [item for sublist in hipp_children for item in sublist]"
   ]
  },
  {
   "cell_type": "code",
   "execution_count": null,
   "metadata": {},
   "outputs": [],
   "source": [
    "dat.head()"
   ]
  },
  {
   "cell_type": "code",
   "execution_count": null,
   "metadata": {},
   "outputs": [],
   "source": [
    "pltdat = pd.DataFrame(columns={'age', 'group', 'plaques', 'structure'})\n",
    "for structure_acronym in dat['structure_acronym'].unique():\n",
    "    pltdat = pd.concat([pltdat, get_structure_data('19 mo', structure_acronym, 'density')], sort = True)\n",
    "pltdat['Percent Plaque Coverage'] = [density*100 for density in pltdat['plaques']]"
   ]
  },
  {
   "cell_type": "code",
   "execution_count": null,
   "metadata": {},
   "outputs": [],
   "source": [
    "maxstr = pltdat.groupby('image_series_id').max()"
   ]
  },
  {
   "cell_type": "code",
   "execution_count": null,
   "metadata": {},
   "outputs": [],
   "source": [
    "medplaque = pltdat[pltdat['group'] == 'APP/PS1']['Percent Plaque Coverage'].quantile(0.95)"
   ]
  },
  {
   "cell_type": "code",
   "execution_count": null,
   "metadata": {},
   "outputs": [],
   "source": [
    "medplaque"
   ]
  },
  {
   "cell_type": "code",
   "execution_count": null,
   "metadata": {},
   "outputs": [],
   "source": [
    "max_strs = []\n",
    "for isid in pltdat[pltdat['group'] == 'APP/PS1']['image_series_id'].unique():\n",
    "    isid_dat = pltdat[pltdat['image_series_id'] == isid]\n",
    "    max_strs.append(isid_dat[isid_dat['Percent Plaque Coverage'] > medplaque]['structure'].values)"
   ]
  },
  {
   "cell_type": "code",
   "execution_count": null,
   "metadata": {},
   "outputs": [],
   "source": [
    "max_strs = [item for sublist in max_strs for item in sublist]"
   ]
  },
  {
   "cell_type": "code",
   "execution_count": null,
   "metadata": {},
   "outputs": [],
   "source": [
    "pltdat[(pltdat['group'] == 'APP/PS1') & \n",
    "              (pltdat['structure'] == 'cc')]['Percent Plaque Coverage'].mean()"
   ]
  },
  {
   "cell_type": "code",
   "execution_count": null,
   "metadata": {},
   "outputs": [],
   "source": [
    "pltdat[(pltdat['group'] == 'APP/PS1')].describe()"
   ]
  },
  {
   "cell_type": "code",
   "execution_count": null,
   "metadata": {},
   "outputs": [],
   "source": [
    "pltdat = pd.DataFrame(columns={'age', 'group', 'plaques', 'structure'})\n",
    "for structure_acronym in ['Isocortex']:\n",
    "    pltdat = pd.concat([pltdat, get_structure_data('9 mo', structure_acronym, 'density')], sort = True)\n",
    "pltdat['Percent Plaque Coverage'] = [density*100 for density in pltdat['plaques']]"
   ]
  },
  {
   "cell_type": "code",
   "execution_count": null,
   "metadata": {},
   "outputs": [],
   "source": [
    "pltdat[(pltdat['group'] == 'Tg2576')].describe()"
   ]
  },
  {
   "cell_type": "code",
   "execution_count": null,
   "metadata": {},
   "outputs": [],
   "source": [
    "pltdat = pd.DataFrame(columns={'age', 'group', 'plaques', 'structure'})\n",
    "for structure in [hipp['id']]:\n",
    "    print(structure)\n",
    "    structure_acronym = ai_map[structure]\n",
    "    pltdat = pd.concat([pltdat, get_structure_data('19 mo', structure_acronym, 'density')], sort = True)\n",
    "pltdat['Percent Plaque Coverage'] = [density*100 for density in pltdat['plaques']]"
   ]
  },
  {
   "cell_type": "code",
   "execution_count": null,
   "metadata": {},
   "outputs": [],
   "source": [
    "dat.head()"
   ]
  },
  {
   "cell_type": "markdown",
   "metadata": {},
   "source": [
    "## Layers"
   ]
  },
  {
   "cell_type": "code",
   "execution_count": null,
   "metadata": {},
   "outputs": [],
   "source": [
    "dat.head()"
   ]
  },
  {
   "cell_type": "code",
   "execution_count": null,
   "metadata": {},
   "outputs": [],
   "source": [
    "l1_structs = structure_tree.get_structures_by_set_id([667481440])\n",
    "l1_structs = [structure['acronym'] for structure in l1_structs]\n",
    "l2_3_structs = structure_tree.get_structures_by_set_id([667481441])\n",
    "l2_3_structs = [structure['acronym'] for structure in l2_3_structs]\n",
    "l4_structs = structure_tree.get_structures_by_set_id([667481445])\n",
    "l4_structs = [structure['acronym'] for structure in l4_structs]\n",
    "l5_structs = structure_tree.get_structures_by_set_id([667481446])\n",
    "l5_structs = [structure['acronym'] for structure in l5_structs]\n",
    "l6a_structs = structure_tree.get_structures_by_set_id([667481449])\n",
    "l6a_structs = [structure['acronym'] for structure in l6a_structs]\n",
    "l6b_structs = structure_tree.get_structures_by_set_id([667481450])\n",
    "l6b_structs = [structure['acronym'] for structure in l6b_structs]\n",
    "\n",
    "all_layer_structs = l1_structs + l2_3_structs + l4_structs + l5_structs + l6a_structs + l6b_structs\n",
    "layer_dict = {'L1': l1_structs, 'L2/3': l2_3_structs, 'L4': l4_structs, 'L5': l5_structs,\n",
    "                         'L6a': l6a_structs, 'L6b': l6b_structs}"
   ]
  },
  {
   "cell_type": "code",
   "execution_count": null,
   "metadata": {},
   "outputs": [],
   "source": [
    "isids = []\n",
    "layers = []\n",
    "mouse = []\n",
    "ldat = []\n",
    "for isid in dat['image_series_id'].unique():\n",
    "    expdat = dat[(dat['image_series_id'] == isid) & (dat['structure_acronym'].isin(all_layer_structs))]\n",
    "    sumdat = expdat['plaque_volume'].sum()\n",
    "    sumvol = expdat['volume'].sum()\n",
    "    sumdens = sumdat/sumvol\n",
    "    for layer in ['L1', 'L2/3', 'L4', 'L5', 'L6a', 'L6b']:\n",
    "        regions = layer_dict[layer]\n",
    "        isids.append(isid)\n",
    "        layers.append(layer)\n",
    "        mouse.append(expdat['mouse_line'].values[0])\n",
    "        pvdat = float(np.sum(expdat[expdat['structure_acronym'].isin(regions)]['plaque_volume']))\n",
    "        vdat = float(np.sum(expdat[expdat['structure_acronym'].isin(regions)]['volume']))\n",
    "        ldens = pvdat/vdat\n",
    "        ldat.append(ldens/sumdens)"
   ]
  },
  {
   "cell_type": "code",
   "execution_count": null,
   "metadata": {},
   "outputs": [],
   "source": [
    "layerdat_melted = pd.DataFrame({'image_series_id': isids, 'Layer': layers, 'Mouse Line': mouse,\n",
    "                              'Relative Plaque Density': ldat})"
   ]
  },
  {
   "cell_type": "code",
   "execution_count": null,
   "metadata": {},
   "outputs": [],
   "source": [
    "sns.boxplot(x='Layer', y='Relative Plaque Density', data = layerdat_melted, hue = 'Mouse Line',\n",
    "            palette = mouse_line_colors)\n",
    "#ax[0].set_xticklabels(['L1', 'L2/3', 'L4', 'L5', 'L6a', 'L6b']"
   ]
  },
  {
   "cell_type": "code",
   "execution_count": null,
   "metadata": {},
   "outputs": [],
   "source": [
    "fig, ax = plt.subplots(1, 3, figsize = (8, 2.5), sharey=True) \n",
    "sns.boxplot(x='Layer', y='Relative Plaque Density', \n",
    "            data = layerdat_melted[layerdat_melted['Mouse Line'] == 'APP/PS1'], \n",
    "            ax=ax[0], color = mouse_line_colors[0])\n",
    "ax[0].axhline(y=1, color = 'grey', linestyle = 'dashed', zorder = -1)\n",
    "ax[0].set_title('APP/PS1')\n",
    "sns.boxplot(x='Layer', y='Relative Plaque Density', \n",
    "            data = layerdat_melted[layerdat_melted['Mouse Line'] == 'Tg2576'], \n",
    "            ax=ax[1], color = mouse_line_colors[1])\n",
    "ax[1].axhline(y=1, color = 'grey', linestyle = 'dashed', zorder = -1)\n",
    "ax[1].set_title('Tg2576')\n",
    "ax[1].set_ylabel(\"\")\n",
    "sns.boxplot(x='Layer', y='Relative Plaque Density', \n",
    "            data = layerdat_melted[layerdat_melted['Mouse Line'] == 'hAPP-J20'], \n",
    "            ax=ax[2], color = mouse_line_colors[2])\n",
    "ax[2].axhline(y=1, color = 'grey', linestyle = 'dashed', zorder = -1)\n",
    "ax[2].set_title('hAPP-J20')\n",
    "ax[2].set_ylabel(\"\")\n",
    "plt.savefig(os.path.join(savepath, 'layer relative density by line.pdf'), \n",
    "            bbox_inches='tight', pad_inches=0.3, format='pdf', transparent = True, dpi=300)"
   ]
  },
  {
   "cell_type": "code",
   "execution_count": null,
   "metadata": {},
   "outputs": [],
   "source": [
    "fig, ax = plt.subplots(figsize = (3,3))\n",
    "sns.boxplot(x='Relative Plaque Density', y = 'Layer', \n",
    "            data = layerdat_melted[layerdat_melted['Mouse Line'] == 'APP/PS1'], \n",
    "            ax = ax, color = mouse_line_colors[0], fliersize = 1)\n",
    "ax.axvline(x=1, color = 'grey', linestyle = 'dashed', zorder = -1)\n",
    "ax.set_xlim([-0.25, 6.25])\n",
    "ax.set_title('APP/PS1')\n",
    "plt.savefig(os.path.join(savepath, 'APP_PS1 layer density.pdf'), \n",
    "            bbox_inches='tight', pad_inches=0.3, format='pdf', transparent = True, dpi=300)"
   ]
  },
  {
   "cell_type": "code",
   "execution_count": null,
   "metadata": {},
   "outputs": [],
   "source": [
    "fig, ax = plt.subplots(figsize = (3,3))\n",
    "sns.boxplot(x='Relative Plaque Density', y = 'Layer', \n",
    "            data = layerdat_melted[layerdat_melted['Mouse Line'] == 'Tg2576'], \n",
    "            ax = ax, color = mouse_line_colors[1], fliersize = 1)\n",
    "ax.axvline(x=1, color = 'grey', linestyle = 'dashed', zorder = -1)\n",
    "ax.set_xlim([-0.25, 6.25])\n",
    "ax.set_title('Tg2576')\n",
    "plt.savefig(os.path.join(savepath, 'Tg2576 layer density.pdf'), \n",
    "            bbox_inches='tight', pad_inches=0.3, format='pdf', transparent = True, dpi=300)"
   ]
  },
  {
   "cell_type": "code",
   "execution_count": null,
   "metadata": {},
   "outputs": [],
   "source": [
    "fig, ax = plt.subplots(figsize = (3,3))\n",
    "sns.boxplot(x='Relative Plaque Density', y = 'Layer', \n",
    "            data = layerdat_melted[layerdat_melted['Mouse Line'] == 'hAPP-J20'], \n",
    "            ax = ax, color = mouse_line_colors[2], fliersize = 1)\n",
    "ax.axvline(x=1, color = 'grey', linestyle = 'dashed', zorder = -1)\n",
    "ax.set_title('hAPP-J20')\n",
    "ax.set_xlim([-0.25, 6.25])\n",
    "plt.savefig(os.path.join(savepath, 'J20 layer density.pdf'), \n",
    "            bbox_inches='tight', pad_inches=0.3, format='pdf', transparent = True, dpi=300)"
   ]
  },
  {
   "cell_type": "code",
   "execution_count": null,
   "metadata": {},
   "outputs": [],
   "source": []
  },
  {
   "cell_type": "code",
   "execution_count": null,
   "metadata": {},
   "outputs": [],
   "source": [
    "layerdat_melted.head(1)"
   ]
  },
  {
   "cell_type": "code",
   "execution_count": null,
   "metadata": {},
   "outputs": [],
   "source": [
    "mdf = layerdat_melted.rename(columns= {'Mouse Line': 'mouse_line', 'Relative Plaque Density': 'plaque_density'})\n",
    "formula = 'plaque_density ~ mouse_line + Layer + mouse_line:Layer'\n",
    "\n",
    "mod1 = smf.ols(formula=formula, data=mdf).fit()\n",
    "table = sm.stats.anova_lm(mod1, typ=2)"
   ]
  },
  {
   "cell_type": "code",
   "execution_count": null,
   "metadata": {},
   "outputs": [],
   "source": [
    "table"
   ]
  },
  {
   "cell_type": "code",
   "execution_count": null,
   "metadata": {},
   "outputs": [],
   "source": [
    "ldat = mdf[['image_series_id', 'Layer', 'plaque_density']].pivot(\n",
    "    index = 'image_series_id', columns = 'Layer').reset_index()\n",
    "mousedat = mdf[['image_series_id', 'Layer', 'mouse_line']].pivot(\n",
    "    index = 'image_series_id', columns = 'Layer').reset_index()\n",
    "ldat.columns = ldat.columns.droplevel()\n",
    "mousedat.columns = mousedat.columns.droplevel()\n",
    "ldat['mouse_line'] = mousedat['L1']"
   ]
  },
  {
   "cell_type": "code",
   "execution_count": null,
   "metadata": {},
   "outputs": [],
   "source": [
    "ldat.head()"
   ]
  },
  {
   "cell_type": "code",
   "execution_count": null,
   "metadata": {},
   "outputs": [],
   "source": [
    "ldat.to_csv(os.path.join(path, 'layer_dat_unpivoted.csv'))"
   ]
  },
  {
   "cell_type": "code",
   "execution_count": null,
   "metadata": {},
   "outputs": [],
   "source": []
  }
 ],
 "metadata": {
  "kernelspec": {
   "display_name": "Python 2",
   "language": "python",
   "name": "python2"
  },
  "language_info": {
   "codemirror_mode": {
    "name": "ipython",
    "version": 2
   },
   "file_extension": ".py",
   "mimetype": "text/x-python",
   "name": "python",
   "nbconvert_exporter": "python",
   "pygments_lexer": "ipython2",
   "version": "2.7.14"
  }
 },
 "nbformat": 4,
 "nbformat_minor": 2
}
