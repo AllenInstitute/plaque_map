{
 "cells": [
  {
   "cell_type": "code",
   "execution_count": null,
   "metadata": {},
   "outputs": [],
   "source": [
    "import os\n",
    "import numpy as np\n",
    "import pandas as pd\n",
    "import matplotlib.pyplot as plt\n",
    "import seaborn as sns\n",
    "from allensdk.api.queries.ontologies_api import OntologiesApi\n",
    "from allensdk.core.mouse_connectivity_cache import MouseConnectivityCache\n",
    "from matplotlib import cm\n",
    "import operator\n",
    "\n",
    "sns.set_context('poster')\n",
    "sns.set_style('white')\n",
    "%matplotlib inline\n",
    "\n",
    "import matplotlib as mpl\n",
    "mpl.rcParams['pdf.fonttype'] = 42"
   ]
  },
  {
   "cell_type": "code",
   "execution_count": null,
   "metadata": {},
   "outputs": [],
   "source": [
    "path = r'/Users/jenniferwh/Dropbox (Allen Institute)/Mesoscale Connectome Papers in Progress/2018 Plaque'"
   ]
  },
  {
   "cell_type": "code",
   "execution_count": null,
   "metadata": {},
   "outputs": [],
   "source": [
    "dat = pd.read_csv(os.path.join(path, 'unionizes', 'experiment_structure_unionizes_consolidated_07_02_2018.csv'))"
   ]
  },
  {
   "cell_type": "code",
   "execution_count": null,
   "metadata": {},
   "outputs": [],
   "source": [
    "dat.head()"
   ]
  },
  {
   "cell_type": "code",
   "execution_count": null,
   "metadata": {},
   "outputs": [],
   "source": [
    "meta = pd.read_csv(os.path.join(path, 'plaque_dataset_07_10_2018.csv'))"
   ]
  },
  {
   "cell_type": "code",
   "execution_count": null,
   "metadata": {},
   "outputs": [],
   "source": [
    "meta.head(1)"
   ]
  },
  {
   "cell_type": "code",
   "execution_count": null,
   "metadata": {},
   "outputs": [],
   "source": [
    "meta.keys()"
   ]
  },
  {
   "cell_type": "code",
   "execution_count": null,
   "metadata": {},
   "outputs": [],
   "source": [
    "meta['Plaque map call (R hemisphere)'].unique()"
   ]
  },
  {
   "cell_type": "code",
   "execution_count": null,
   "metadata": {},
   "outputs": [],
   "source": [
    "dataset = meta[meta['Plaque map call (R hemisphere)'] == 'Pass']"
   ]
  },
  {
   "cell_type": "code",
   "execution_count": null,
   "metadata": {},
   "outputs": [],
   "source": [
    "len(dataset)"
   ]
  },
  {
   "cell_type": "code",
   "execution_count": null,
   "metadata": {},
   "outputs": [],
   "source": [
    "oapi = OntologiesApi()\n",
    "summary_structures = oapi.get_structures(structure_set_names=\"'Mouse Connectivity - Summary'\")\n",
    "summary_structure_ids = [item['id'] for item in summary_structures]\n",
    "summary_structure_ids.remove(934)\n",
    "print(len(summary_structure_ids))"
   ]
  },
  {
   "cell_type": "code",
   "execution_count": null,
   "metadata": {},
   "outputs": [],
   "source": [
    "coarse_structures = oapi.get_structures(structure_set_names=\"'Mouse - Coarse'\")\n",
    "coarse_structure_ids = [item['id'] for item in coarse_structures]\n",
    "print(len(coarse_structure_ids))"
   ]
  },
  {
   "cell_type": "code",
   "execution_count": null,
   "metadata": {},
   "outputs": [],
   "source": [
    "mcc = MouseConnectivityCache(manifest_file = '../connectivity/mouse_connectivity_manifest.json')\n",
    "structure_tree = mcc.get_structure_tree()\n",
    "ia_map = structure_tree.get_id_acronym_map()\n",
    "ai_map = {value:key for key, value in ia_map.iteritems()}"
   ]
  },
  {
   "cell_type": "code",
   "execution_count": null,
   "metadata": {},
   "outputs": [],
   "source": [
    "ai_map[997]"
   ]
  },
  {
   "cell_type": "code",
   "execution_count": null,
   "metadata": {},
   "outputs": [],
   "source": [
    "structures = summary_structure_ids + coarse_structure_ids + [997]"
   ]
  },
  {
   "cell_type": "code",
   "execution_count": null,
   "metadata": {},
   "outputs": [],
   "source": [
    "dataset_ids = dat['image_series_id'].unique()\n",
    "print(len(dataset_ids))"
   ]
  },
  {
   "cell_type": "code",
   "execution_count": null,
   "metadata": {},
   "outputs": [],
   "source": [
    "isids = [int(value) for value in dataset['Link to image series']]"
   ]
  },
  {
   "cell_type": "code",
   "execution_count": null,
   "metadata": {},
   "outputs": [],
   "source": [
    "dataset['image_series_id'] = isids"
   ]
  },
  {
   "cell_type": "code",
   "execution_count": null,
   "metadata": {},
   "outputs": [],
   "source": [
    "dataset = dataset[dataset['image_series_id'].isin(dataset_ids)]\n",
    "print(len(dataset))"
   ]
  },
  {
   "cell_type": "code",
   "execution_count": null,
   "metadata": {},
   "outputs": [],
   "source": [
    "dataset.keys()"
   ]
  },
  {
   "cell_type": "code",
   "execution_count": null,
   "metadata": {},
   "outputs": [],
   "source": [
    "dataset.Experiment.unique()"
   ]
  },
  {
   "cell_type": "code",
   "execution_count": null,
   "metadata": {},
   "outputs": [],
   "source": [
    "dataset.loc[dataset['Specimen ID'].str.contains('APP/PS1'), 'Mouse Line'] = 'APP/PS1'\n",
    "dataset.loc[dataset['Specimen ID'].str.contains('APP_PS1'), 'Mouse Line'] = 'APP/PS1'\n",
    "dataset.loc[dataset['Specimen ID'].str.contains('J20'), 'Mouse Line'] = 'J20'\n",
    "dataset.loc[dataset['Specimen ID'].str.contains('Tg2576'), 'Mouse Line'] = 'Tg2576'\n",
    "dataset.loc[dataset['Specimen ID'].str.contains('rTg4510'), 'Mouse Line'] = 'APP/PS1/rTg4510'\n",
    "dataset.loc[dataset['Specimen ID'].str.contains('Cre'), 'Mouse Line'] = 'APP/PS1/Cre'"
   ]
  },
  {
   "cell_type": "code",
   "execution_count": null,
   "metadata": {},
   "outputs": [],
   "source": [
    "dataset[dataset['Mouse Line'].isnull()]['Specimen ID']"
   ]
  },
  {
   "cell_type": "code",
   "execution_count": null,
   "metadata": {},
   "outputs": [],
   "source": [
    "dataset['Mouse Line'].unique()"
   ]
  },
  {
   "cell_type": "code",
   "execution_count": null,
   "metadata": {},
   "outputs": [],
   "source": [
    "dataset.groupby(['Mouse Line', 'age group']).count()"
   ]
  },
  {
   "cell_type": "code",
   "execution_count": null,
   "metadata": {},
   "outputs": [],
   "source": [
    "dat.head()"
   ]
  },
  {
   "cell_type": "code",
   "execution_count": null,
   "metadata": {},
   "outputs": [],
   "source": [
    "structure_id = 997\n",
    "isid = 475882459\n",
    "dat[(dat['structure_id'] == structure_id) & (dat['image_series_id'] == isid)]"
   ]
  },
  {
   "cell_type": "code",
   "execution_count": null,
   "metadata": {},
   "outputs": [],
   "source": [
    "def get_structure_data(age, structure):\n",
    "    structure_id = ia_map[structure]\n",
    "    groups = []\n",
    "    plaque_density = []\n",
    "    isids_carrythrough = []\n",
    "    for group in dataset[dataset['age group'] == age]['Mouse Line'].unique():\n",
    "        isids = dataset[(dataset['Mouse Line'] == group) & (dataset['age group'] == age)]['image_series_id'].values\n",
    "        for isid in isids:\n",
    "            groups.append(group)\n",
    "            plaque_density.append(dat[(dat['structure_id'] == structure_id) & \n",
    "                                         (dat['image_series_id'] == isid)]\n",
    "                                     ['plaque_density'].values[0])\n",
    "            isids_carrythrough.append(isid)\n",
    "    structuredat = pd.DataFrame({'age': age, 'structure': structure, \n",
    "                                 'group': groups, 'plaque density': plaque_density,\n",
    "                                'image_series_id': isids_carrythrough})\n",
    "    return structuredat"
   ]
  },
  {
   "cell_type": "code",
   "execution_count": null,
   "metadata": {},
   "outputs": [],
   "source": [
    "def get_mean_structure_data(age, structure):\n",
    "    structure_id = ia_map[structure]\n",
    "    groups = []\n",
    "    n = []\n",
    "    means = []\n",
    "    stds = []\n",
    "    for group in dataset[dataset['age group'] == age]['Mouse Line'].unique():\n",
    "        groups.append(group)\n",
    "        isids = dataset[(dataset['Mouse Line'] == group) & (dataset['age group'] == age)]['image_series_id'].values\n",
    "        n.append(len(isids))\n",
    "        means.append(np.mean(dat[(dat['structure_id'] == structure_id) & \n",
    "                             (dat['image_series_id'].isin(isids))]\n",
    "                        ['plaque_density']))\n",
    "        stds.append(np.std(dat[(dat['structure_id'] == structure_id) & \n",
    "                             (dat['image_series_id'].isin(isids))]\n",
    "                        ['plaque_density']))\n",
    "    structuredat = pd.DataFrame({'age': age, 'group': groups, 'n':n, \n",
    "                                 'structure': structure, 'mean':means, 'standard deviation':stds})\n",
    "    return structuredat"
   ]
  },
  {
   "cell_type": "code",
   "execution_count": null,
   "metadata": {},
   "outputs": [],
   "source": [
    "def get_relative_structure_data(age, structure):\n",
    "    structure_id = ia_map[structure]\n",
    "    groups = []\n",
    "    plaque_density = []\n",
    "    for group in dataset[dataset['age group'] == age]['Mouse Line'].unique():\n",
    "        isids = dataset[(dataset['Mouse Line'] == group) & (dataset['age group'] == age)]['image_series_id'].values\n",
    "        for isid in isids:\n",
    "            groups.append(group)\n",
    "            structure_projection_volume = dat[(dat['structure_id'] == structure_id) & \n",
    "                                         (dat['image_series_id'] == isid)]['plaque_density'].values[0]\n",
    "            total_volume = dat[(dat['structure_id'] == 997) & # relative to root\n",
    "                               (dat['image_series_id'] == isid)]['plaque_density'].values[0]\n",
    "            plaque_density.append(structure_projection_volume/total_volume)\n",
    "    structuredat = pd.DataFrame({'age': age, 'structure': structure, \n",
    "                                 'group': groups, 'plaque density': plaque_density})\n",
    "    return structuredat"
   ]
  },
  {
   "cell_type": "code",
   "execution_count": null,
   "metadata": {},
   "outputs": [],
   "source": [
    "pltdat = get_mean_structure_data('12 mo', 'HPF')\n",
    "pd.concat([pltdat, get_mean_structure_data('12 mo', 'Isocortex')])"
   ]
  },
  {
   "cell_type": "code",
   "execution_count": null,
   "metadata": {},
   "outputs": [],
   "source": [
    "meandat = pd.DataFrame(columns={'age', 'group', 'mean', 'n', 'standard deviation', 'structure'})\n",
    "for age in dataset['age group'].unique():\n",
    "    for structure in structures:\n",
    "        meandat = pd.concat([meandat, get_mean_structure_data(age, ai_map[structure])])"
   ]
  },
  {
   "cell_type": "code",
   "execution_count": null,
   "metadata": {},
   "outputs": [],
   "source": [
    "meandat.head()"
   ]
  },
  {
   "cell_type": "code",
   "execution_count": null,
   "metadata": {},
   "outputs": [],
   "source": [
    "meandat.to_csv(os.path.join(path, 'mean and standard deviation by mouse line and structure.csv'))"
   ]
  },
  {
   "cell_type": "code",
   "execution_count": null,
   "metadata": {},
   "outputs": [],
   "source": [
    "dataset = dataset[dataset['Mouse Line'] != 'APP/PS1/Cre']"
   ]
  },
  {
   "cell_type": "code",
   "execution_count": null,
   "metadata": {},
   "outputs": [],
   "source": [
    "pltdat = get_structure_data('12 mo', 'root')"
   ]
  },
  {
   "cell_type": "code",
   "execution_count": null,
   "metadata": {},
   "outputs": [],
   "source": [
    "mdf = pd.melt(pltdat, id_vars = ['age', 'structure', 'group', 'image_series_id'], value_name = 'plaque density')"
   ]
  },
  {
   "cell_type": "code",
   "execution_count": null,
   "metadata": {},
   "outputs": [],
   "source": [
    "mdf"
   ]
  },
  {
   "cell_type": "code",
   "execution_count": null,
   "metadata": {},
   "outputs": [],
   "source": [
    "fig, ax = plt.subplots(1, figsize = (7, 5))\n",
    "sns.boxplot('group', 'plaque density', data=mdf, ax=ax, color = \"white\")\n",
    "sns.swarmplot('group', 'plaque density', data=mdf, ax=ax, s=7, alpha = 0.8)\n",
    "plt.title('Whole Brain Plaque Density at 12 Months')"
   ]
  },
  {
   "cell_type": "code",
   "execution_count": null,
   "metadata": {},
   "outputs": [],
   "source": [
    "h='70FF71'\n",
    "tuple(int(h[i:i+2], 16) for i in (0, 2 ,4))"
   ]
  },
  {
   "cell_type": "code",
   "execution_count": null,
   "metadata": {},
   "outputs": [],
   "source": [
    "'#{:02x}{:02x}{:02x}'.format( 204, 204, 204)"
   ]
  },
  {
   "cell_type": "code",
   "execution_count": null,
   "metadata": {},
   "outputs": [],
   "source": [
    "ccf_colors = ['#70ff71', '#9ad2bd', '#7ed04b', '#8ada87', '#98d6f9', '#8599cc', '#ff7080', '#e64438', '#ff64ff', \n",
    "              '#ff9b88','#ff9bcd', '#f0f080', '#cccccc']"
   ]
  },
  {
   "cell_type": "code",
   "execution_count": null,
   "metadata": {},
   "outputs": [],
   "source": [
    "pltdat = pd.DataFrame(columns={'age', 'group', 'plaque density', 'structure'})\n",
    "for structure in coarse_structure_ids:\n",
    "    structure_acronym = ai_map[structure]\n",
    "    pltdat = pd.concat([pltdat, get_structure_data('12 mo', structure_acronym)])\n",
    "pltdat = pd.concat([pltdat, get_structure_data('12 mo', 'fiber tracts')])"
   ]
  },
  {
   "cell_type": "code",
   "execution_count": null,
   "metadata": {},
   "outputs": [],
   "source": [
    "pltdat.head()"
   ]
  },
  {
   "cell_type": "code",
   "execution_count": null,
   "metadata": {},
   "outputs": [],
   "source": [
    "savepath = os.path.join(path, 'figures')"
   ]
  },
  {
   "cell_type": "code",
   "execution_count": null,
   "metadata": {},
   "outputs": [],
   "source": [
    "mdf = pd.melt(pltdat, id_vars = ['age', 'structure', 'group', 'image_series_id'], value_name = 'plaque density')\n",
    "fig, ax = plt.subplots(4, figsize = (12, 18))\n",
    "for ix in range(4):\n",
    "    group = mdf['group'].unique()[ix]\n",
    "    g = sns.boxplot('structure', 'plaque density', data = mdf[mdf['group'] == group], ax=ax[ix], \n",
    "                    color = 'white')\n",
    "    sns.swarmplot('structure', 'plaque density', data = mdf[mdf['group'] == group], s=8, alpha = 0.8,\n",
    "                  palette = ccf_colors, ax=ax[ix])\n",
    "    g.set_title(group)\n",
    "    plt.tight_layout()\n",
    "plt.savefig(os.path.join(savepath, 'swarmplots major brain divisions by line.pdf'), \n",
    "            bbox_inches='tight', pad_inches=0.3, format='pdf', transparent = True, dpi=1000)"
   ]
  },
  {
   "cell_type": "code",
   "execution_count": null,
   "metadata": {},
   "outputs": [],
   "source": [
    "pltdat[(pltdat['group'] == 'J20') & (pltdat['structure'] == 'CB')]"
   ]
  },
  {
   "cell_type": "code",
   "execution_count": null,
   "metadata": {},
   "outputs": [],
   "source": [
    "fig, ax=plt.subplots(figsize=(15, 5))\n",
    "sns.swarmplot('structure', 'plaque density', hue='group', data=mdf[mdf['group'].isin(['APP/PS1', \n",
    "                                                                                      'J20',\n",
    "                                                                                      'Tg2576', \n",
    "                                                                                      'APP/PS1/rTg4510'])], \n",
    "                                                                                     ax=ax, s=10, dodge=True)\n",
    "ax.legend(bbox_to_anchor=(1.25, 1))\n",
    "ax.set_yscale('log')\n",
    "ax.set_ylim([1e-6, 0.1])\n",
    "plt.title('Plaque Density in Major Brain Structures at 12 Months')\n",
    "plt.savefig(os.path.join(path, 'swarmplot plaque density major brain divisions four lines only.pdf'), \n",
    "            bbox_inches='tight', pad_inches=0.3, format='pdf', transparent = True, dpi=1000)"
   ]
  },
  {
   "cell_type": "code",
   "execution_count": null,
   "metadata": {},
   "outputs": [],
   "source": [
    "pltdat = pd.DataFrame(columns={'age', 'group', 'projection volume', 'structure'})\n",
    "for structure in coarse_structure_ids:\n",
    "    structure_acronym = ai_map[structure]\n",
    "    pltdat = pd.concat([pltdat, get_relative_structure_data('12 mo', structure_acronym)])\n",
    "pltdat = pd.concat([pltdat, get_relative_structure_data('12 mo', 'fiber tracts')])\n",
    "mdf = pd.melt(pltdat, id_vars = ['age', 'structure', 'group'], value_name = 'relative plaque density')"
   ]
  },
  {
   "cell_type": "code",
   "execution_count": null,
   "metadata": {},
   "outputs": [],
   "source": [
    "fig, ax=plt.subplots(figsize=(15, 5))\n",
    "sns.swarmplot('structure', 'relative plaque density', hue='group', data=mdf, ax=ax, s=10, split=True)\n",
    "ax.legend(bbox_to_anchor=(1.25, 1))\n",
    "ax.axhline(y=1, xmin=0, xmax=100, color = 'grey', linestyle = 'dashed', zorder = -1)\n",
    "ax.set_ylim([-0.5, 4.5])\n",
    "plt.title('Relative Plaque Density in Major Brain Structures at 12 Months')\n",
    "plt.savefig(os.path.join(path, 'swarmplot relative density major brain divisions.pdf'), \n",
    "            bbox_inches='tight', pad_inches=0.3, format='pdf', transparent = True, dpi=1000)"
   ]
  },
  {
   "cell_type": "code",
   "execution_count": null,
   "metadata": {},
   "outputs": [],
   "source": [
    "acronym = 'MB'\n",
    "structure_id = ia_map[acronym]\n",
    "needs_mask = []\n",
    "total_image_series = 0\n",
    "for image_series in dataset[dataset['Mouse Line'].isin(['Tg2576', 'J20'])]['image_series_id']:\n",
    "    total_image_series += 1\n",
    "    projection_volume = dat[(dat['structure_id'] == structure_id) & \n",
    "                            (dat['image_series_id'] == image_series)]['plaque_density'].values[0]\n",
    "    root_val = dat[(dat['structure_id'] == 997) & \n",
    "                   (dat['image_series_id'] == image_series)]['plaque_density'].values[0]\n",
    "    if projection_volume > root_val:\n",
    "        needs_mask.append(image_series)\n",
    "print('total image series checked: {0}'.format(total_image_series))\n",
    "print('needs {0} mask: {1}'.format(acronym, needs_mask))"
   ]
  },
  {
   "cell_type": "code",
   "execution_count": null,
   "metadata": {},
   "outputs": [],
   "source": [
    "acronym = 'HY'\n",
    "structure_id = ia_map[acronym]\n",
    "needs_mask = []\n",
    "total_image_series = 0\n",
    "for image_series in dataset[dataset['Mouse Line'].isin(['Tg2576', 'J20'])]['image_series_id']:\n",
    "    total_image_series += 1\n",
    "    projection_volume = dat[(dat['structure_id'] == structure_id) & \n",
    "                            (dat['image_series_id'] == image_series)]['plaque_density'].values[0]\n",
    "    root_val = dat[(dat['structure_id'] == 997) & \n",
    "                   (dat['image_series_id'] == image_series)]['plaque_density'].values[0]\n",
    "    if projection_volume > root_val:\n",
    "        needs_mask.append(image_series)\n",
    "print('total image series checked: {0}'.format(total_image_series))\n",
    "print('needs {0} mask: {1}'.format(acronym, needs_mask))"
   ]
  },
  {
   "cell_type": "code",
   "execution_count": null,
   "metadata": {},
   "outputs": [],
   "source": [
    "acronym = 'P'\n",
    "structure_id = ia_map[acronym]\n",
    "needs_mask = []\n",
    "total_image_series = 0\n",
    "for image_series in dataset[dataset['Mouse Line'].isin(['Tg2576', 'J20'])]['image_series_id']:\n",
    "    total_image_series += 1\n",
    "    projection_volume = dat[(dat['structure_id'] == structure_id) & \n",
    "                            (dat['image_series_id'] == image_series)]['plaque_density'].values[0]\n",
    "    root_val = dat[(dat['structure_id'] == 997) & \n",
    "                   (dat['image_series_id'] == image_series)]['plaque_density'].values[0]\n",
    "    if projection_volume > root_val:\n",
    "        needs_mask.append(image_series)\n",
    "print('total image series checked: {0}'.format(total_image_series))\n",
    "print('needs {0} mask: {1}'.format(acronym, needs_mask))"
   ]
  },
  {
   "cell_type": "code",
   "execution_count": null,
   "metadata": {},
   "outputs": [],
   "source": [
    "acronym = 'HPF'\n",
    "structure_id = ia_map[acronym]\n",
    "needs_mask = []\n",
    "total_image_series = 0\n",
    "for image_series in dataset[dataset['Mouse Line'].isin(['Tg2576', 'J20'])]['image_series_id']:\n",
    "    total_image_series += 1\n",
    "    projection_volume = dat[(dat['structure_id'] == structure_id) & \n",
    "                            (dat['image_series_id'] == image_series)]['plaque_density'].values[0]\n",
    "    root_val = dat[(dat['structure_id'] == 997) & \n",
    "                   (dat['image_series_id'] == image_series)]['plaque_density'].values[0]\n",
    "    if projection_volume > root_val:\n",
    "        needs_mask.append(image_series)\n",
    "print('total image series checked: {0}'.format(total_image_series))\n",
    "print('needs {0} mask: {1}'.format(acronym, needs_mask))"
   ]
  },
  {
   "cell_type": "code",
   "execution_count": null,
   "metadata": {},
   "outputs": [],
   "source": [
    "olf = structure_tree.get_structures_by_acronym(['OLF'])[0]\n",
    "olf = structure_tree.descendant_ids([olf['id']])[0]\n",
    "olf = [structure for structure in olf if structure in summary_structure_ids]"
   ]
  },
  {
   "cell_type": "code",
   "execution_count": null,
   "metadata": {},
   "outputs": [],
   "source": [
    "iso = structure_tree.get_structures_by_acronym(['Isocortex'])[0]\n",
    "iso = structure_tree.descendant_ids([iso['id']])[0]\n",
    "iso = [structure for structure in iso if structure in summary_structure_ids]"
   ]
  },
  {
   "cell_type": "code",
   "execution_count": null,
   "metadata": {},
   "outputs": [],
   "source": [
    "coarse_structure_ids"
   ]
  },
  {
   "cell_type": "code",
   "execution_count": null,
   "metadata": {},
   "outputs": [],
   "source": [
    "pltdat = pd.DataFrame(columns={'age', 'group', 'plaque density', 'structure'})\n",
    "for structure in olf:\n",
    "    structure_acronym = ai_map[structure]\n",
    "    pltdat = pd.concat([pltdat, get_structure_data('12 mo', structure_acronym)])"
   ]
  },
  {
   "cell_type": "code",
   "execution_count": null,
   "metadata": {},
   "outputs": [],
   "source": [
    "mdf = pd.melt(pltdat, id_vars = ['age', 'structure', 'group', 'image_series_id'], value_name = 'plaque density')"
   ]
  },
  {
   "cell_type": "code",
   "execution_count": null,
   "metadata": {},
   "outputs": [],
   "source": [
    "mdf.tail()"
   ]
  },
  {
   "cell_type": "code",
   "execution_count": null,
   "metadata": {},
   "outputs": [],
   "source": [
    "[structure['acronym'] for structure in coarse_structures]"
   ]
  },
  {
   "cell_type": "code",
   "execution_count": null,
   "metadata": {},
   "outputs": [],
   "source": [
    "ccf_colors"
   ]
  },
  {
   "cell_type": "code",
   "execution_count": null,
   "metadata": {},
   "outputs": [],
   "source": [
    "fig, ax = plt.subplots(4, figsize = (15, 15))\n",
    "for ix in range(4):\n",
    "    group = mdf['group'].unique()[ix]\n",
    "    g = sns.boxplot('structure', 'plaque density', data = mdf[mdf['group'] == group], ax=ax[ix], color='white')\n",
    "    g = sns.swarmplot('structure', 'plaque density', data = mdf[mdf['group'] == group], ax=ax[ix], \n",
    "                      s=8, alpha = 0.8)\n",
    "    g.set_title(group)\n",
    "    plt.tight_layout()\n",
    "#plt.savefig(os.path.join(path, 'boxplots major brain divisions by line.pdf'), \n",
    "#            bbox_inches='tight', pad_inches=0.3, format='pdf', transparent = True, dpi=1000)"
   ]
  },
  {
   "cell_type": "code",
   "execution_count": null,
   "metadata": {},
   "outputs": [],
   "source": [
    "pltdat = pd.DataFrame(columns={'age', 'group', 'projection volume', 'structure'})\n",
    "for age in dataset['age group'].unique():\n",
    "    for structure in coarse_structure_ids:\n",
    "        structure_acronym = ai_map[structure]\n",
    "        pltdat = pd.concat([pltdat, get_structure_data(age, structure_acronym)])"
   ]
  },
  {
   "cell_type": "code",
   "execution_count": null,
   "metadata": {},
   "outputs": [],
   "source": [
    "mdf = pd.melt(pltdat, id_vars = ['age', 'structure', 'group'], value_name = 'plaque density')"
   ]
  },
  {
   "cell_type": "code",
   "execution_count": null,
   "metadata": {},
   "outputs": [],
   "source": [
    "fig, ax = plt.subplots(12, figsize = (10, 40))\n",
    "for ix in range(12):\n",
    "    structure = ai_map[coarse_structure_ids[ix]]\n",
    "    sns.factorplot('age', 'plaque density', hue='group', data=mdf[mdf['structure'] == structure], ax=ax[ix])\n",
    "    ax[ix].set_title(structure)\n",
    "    ax[ix].legend(bbox_to_anchor=(1.4, 1))\n",
    "    plt.tight_layout()"
   ]
  },
  {
   "cell_type": "code",
   "execution_count": null,
   "metadata": {},
   "outputs": [],
   "source": [
    "pltdat = pd.DataFrame(columns={'age', 'group', 'projection volume', 'structure'})\n",
    "for age in dataset['Dataset'].unique():\n",
    "    for structure in coarse_structure_ids:\n",
    "        structure_acronym = ai_map[structure]\n",
    "        pltdat = pd.concat([pltdat, get_relative_structure_data(age, structure_acronym)])"
   ]
  },
  {
   "cell_type": "code",
   "execution_count": null,
   "metadata": {},
   "outputs": [],
   "source": [
    "mdf = pd.melt(pltdat, id_vars = ['age', 'structure', 'group'], value_name = 'relative plaque density')"
   ]
  },
  {
   "cell_type": "code",
   "execution_count": null,
   "metadata": {},
   "outputs": [],
   "source": [
    "fig, ax = plt.subplots(12, figsize = (10, 40))\n",
    "for ix in range(12):\n",
    "    structure = ai_map[coarse_structure_ids[ix]]\n",
    "    sns.factorplot('age', 'relative plaque density', hue='group', data=mdf[mdf['structure'] == structure], ax=ax[ix])\n",
    "    ax[ix].set_title(structure)\n",
    "    ax[ix].legend(bbox_to_anchor=(1.4, 1))\n",
    "    ax[ix].axhline(y=1, xmin=0, xmax=100, color = 'grey', linestyle = 'dashed', zorder = -1)\n",
    "    plt.tight_layout()"
   ]
  },
  {
   "cell_type": "code",
   "execution_count": null,
   "metadata": {},
   "outputs": [],
   "source": [
    "for ix in range(12):\n",
    "    structure = ai_map[coarse_structure_ids[ix]]\n",
    "    a = sns.factorplot('age', 'relative plaque density', hue='group', data=mdf[mdf['structure'] == structure],\n",
    "                      legend=False, size=5, aspect=2, fontsize=10)\n",
    "    a.ax.set_title(structure)\n",
    "    a.ax.legend(bbox_to_anchor=(1.3, 1))\n",
    "    a.ax.set_ylim([-0.5, 4.5])\n",
    "    a.ax.axhline(y=1, xmin=0, xmax=100, color = 'grey', linestyle = 'dashed', zorder = -1)\n",
    "    plt.tight_layout()\n",
    "    plt.savefig(os.path.join(path, 'relative plaque density {0}.pdf'.format(structure)), \n",
    "            bbox_inches='tight', pad_inches=0.3, format='pdf', transparent = True, dpi=1000)"
   ]
  },
  {
   "cell_type": "code",
   "execution_count": null,
   "metadata": {},
   "outputs": [],
   "source": [
    "iso = structure_tree.get_structures_by_acronym(['Isocortex'])[0]\n",
    "hipp = structure_tree.get_structures_by_acronym(['HPF'])[0]\n",
    "ptlp = structure_tree.get_structures_by_acronym(['PTLp'])[0]\n",
    "isohipp_ids = structure_tree.descendant_ids([iso['id'], hipp['id'], ptlp['id']])\n",
    "print(len(isohipp_ids))\n",
    "isohipp_ids = [y for x in isohipp_ids for y in x]\n",
    "print(len(isohipp_ids))"
   ]
  },
  {
   "cell_type": "code",
   "execution_count": null,
   "metadata": {},
   "outputs": [],
   "source": [
    "isohipp_ids = [ids for ids in isohipp_ids if ids in summary_structure_ids]\n",
    "print(len(isohipp_ids))"
   ]
  },
  {
   "cell_type": "code",
   "execution_count": null,
   "metadata": {},
   "outputs": [],
   "source": [
    "def get_relative_structure_data_ctx(age, structure):\n",
    "    structure_id = ia_map[structure]\n",
    "    groups = []\n",
    "    projection_volume = []\n",
    "    for group in dataset[dataset['Dataset'] == age]['Mouse Line'].unique():\n",
    "        isids = dataset[(dataset['Mouse Line'] == group) & (dataset['Dataset'] == age)]['image_series_id'].values\n",
    "        for isid in isids:\n",
    "            groups.append(group)\n",
    "            structure_projection_volume = dat[(dat['structure_id'] == structure_id) & \n",
    "                                         (dat['image_series_id'] == isid)]['plaque_density'].values[0]\n",
    "            iso_volume = dat[(dat['structure_id'] == 315) & # isocortex\n",
    "                               (dat['image_series_id'] == isid)]['plaque_density'].values[0]\n",
    "            hpf_volume = dat[(dat['structure_id'] == 1089) & # hippocampal formation\n",
    "                               (dat['image_series_id'] == isid)]['plaque_density'].values[0]\n",
    "            total_volume = iso_volume+hpf_volume\n",
    "            projection_volume.append(structure_projection_volume/total_volume)\n",
    "    structuredat = pd.DataFrame({'age': age, 'structure': structure, \n",
    "                                 'group': groups, 'projection volume': projection_volume})\n",
    "    return structuredat"
   ]
  },
  {
   "cell_type": "code",
   "execution_count": null,
   "metadata": {},
   "outputs": [],
   "source": [
    "pltdat = pd.DataFrame(columns={'age', 'group', 'projection volume', 'structure'})\n",
    "for structure in isohipp_ids:\n",
    "    structure_acronym = ai_map[structure]\n",
    "    pltdat = pd.concat([pltdat, get_relative_structure_data_ctx('12 mo', structure_acronym)])\n",
    "mdf = pd.melt(pltdat, id_vars = ['age', 'structure', 'group'], value_name = 'relative plaque density')"
   ]
  },
  {
   "cell_type": "code",
   "execution_count": null,
   "metadata": {},
   "outputs": [],
   "source": [
    "fig, ax=plt.subplots(figsize=(10, 25))\n",
    "sns.stripplot('relative plaque density', 'structure', hue='group', data=mdf, ax=ax, s=10)\n",
    "#ax.legend(bbox_to_anchor=(1.25, 1))\n",
    "ax.axvline(x=1, ymin=0, ymax=100, color = 'grey', linestyle = 'dashed', zorder = -1)\n",
    "ax.set_xlim([-0.5, 4])\n",
    "#plt.savefig(os.path.join(path, 'swarmplot relative density major brain divisions.pdf'), \n",
    "#            bbox_inches='tight', pad_inches=0.3, format='pdf', transparent = True, dpi=1000)"
   ]
  },
  {
   "cell_type": "code",
   "execution_count": null,
   "metadata": {},
   "outputs": [],
   "source": [
    "olf = structure_tree.get_structures_by_acronym(['OLF'])[0]\n",
    "wm = structure_tree.get_structures_by_acronym(['fiber tracts'])[0]\n",
    "olf_ids = structure_tree.descendant_ids([olf['id']])[0]\n",
    "print(len(olf_ids))\n",
    "wm_id = wm['id']\n",
    "print(wm_id)"
   ]
  },
  {
   "cell_type": "code",
   "execution_count": null,
   "metadata": {},
   "outputs": [],
   "source": [
    "pltdat = pd.DataFrame(columns={'age', 'group', 'projection volume', 'structure'})\n",
    "for age in ['4 mo', '6 mo', '9 mo', '12 mo', '15 mo', '18 mo']:\n",
    "    pltdat = pd.concat([pltdat, get_structure_data(age, ai_map[wm_id])])\n",
    "mdf = pd.melt(pltdat, id_vars = ['age', 'structure', 'group'], value_name = 'plaque density')"
   ]
  },
  {
   "cell_type": "code",
   "execution_count": null,
   "metadata": {},
   "outputs": [],
   "source": [
    "mdf.head(1)"
   ]
  },
  {
   "cell_type": "code",
   "execution_count": null,
   "metadata": {},
   "outputs": [],
   "source": [
    "fig, ax = plt.subplots(6, figsize = (10, 25))\n",
    "for ix in range(6):\n",
    "    age = mdf['age'].unique()[ix]\n",
    "    g = sns.boxplot('group', 'plaque density', data = mdf[mdf['age'] == age], ax=ax[ix])\n",
    "    g.set_title(age)\n",
    "    plt.tight_layout()\n",
    "#plt.savefig(os.path.join(p"
   ]
  },
  {
   "cell_type": "code",
   "execution_count": null,
   "metadata": {},
   "outputs": [],
   "source": [
    "def get_mean_value_per_structure(group, age, structure_ids):\n",
    "    means = []\n",
    "    isids = dataset[(dataset['Mouse Line'] == group) & (dataset['Dataset'] == age)]['image_series_id'].values\n",
    "    for structure_id in structure_ids:\n",
    "        means.append(np.mean(dat[(dat['structure_id'] == structure_id) & \n",
    "                                 (dat['image_series_id'].isin(isids))]\n",
    "                             ['plaque_density']))\n",
    "    structuredat = dict(zip(structure_ids, means))\n",
    "    return structuredat"
   ]
  },
  {
   "cell_type": "markdown",
   "metadata": {},
   "source": [
    "## Generate dictionary of plaque density per structure"
   ]
  },
  {
   "cell_type": "code",
   "execution_count": null,
   "metadata": {},
   "outputs": [],
   "source": [
    "structure_vals = get_mean_value_per_structure('APP/PS1', '12 mo', structures)"
   ]
  },
  {
   "cell_type": "code",
   "execution_count": null,
   "metadata": {},
   "outputs": [],
   "source": [
    "structure_vals[315]"
   ]
  },
  {
   "cell_type": "code",
   "execution_count": null,
   "metadata": {},
   "outputs": [],
   "source": [
    "mask, _ = mcc.get_structure_mask(997)\n",
    "print(mask.shape)\n",
    "plt.imshow(mask[200])\n",
    "print(np.unique(mask))"
   ]
  },
  {
   "cell_type": "code",
   "execution_count": null,
   "metadata": {},
   "outputs": [],
   "source": [
    "coarse_structure_ids"
   ]
  },
  {
   "cell_type": "code",
   "execution_count": null,
   "metadata": {},
   "outputs": [],
   "source": [
    "mask, _ = mcc.get_structure_mask(997)\n",
    "newmask = np.zeros(mask.shape)\n",
    "for structure in coarse_structure_ids:\n",
    "    structure_mask, _ = mcc.get_structure_mask(structure)\n",
    "    newval = structure_vals[structure]\n",
    "    newmask[np.where(structure_mask)] = newval\n",
    "print(np.unique(newmask))\n",
    "plt.imshow(newmask[300])"
   ]
  },
  {
   "cell_type": "code",
   "execution_count": null,
   "metadata": {},
   "outputs": [],
   "source": [
    "plt.imshow(newmask[:,200,:])"
   ]
  },
  {
   "cell_type": "code",
   "execution_count": null,
   "metadata": {},
   "outputs": [],
   "source": [
    "plt.imshow(newmask[:,:,100])"
   ]
  },
  {
   "cell_type": "code",
   "execution_count": null,
   "metadata": {},
   "outputs": [],
   "source": [
    "newmask.shape"
   ]
  },
  {
   "cell_type": "code",
   "execution_count": null,
   "metadata": {},
   "outputs": [],
   "source": [
    "np.unique(newmask)"
   ]
  },
  {
   "cell_type": "code",
   "execution_count": null,
   "metadata": {},
   "outputs": [],
   "source": [
    "# This takes forever to run\n",
    "mask, _ = mcc.get_structure_mask(997)\n",
    "newmask = np.zeros_like(mask)\n",
    "for structure in summary_structure_ids:\n",
    "    structure_mask, _ = mcc.get_structure_mask(structure)\n",
    "    newval = structure_vals[structure]*10000\n",
    "    newmask[np.where(structure_mask)] = newval\n",
    "print(np.unique(newmask))\n",
    "plt.imshow(newmask[300])"
   ]
  },
  {
   "cell_type": "code",
   "execution_count": null,
   "metadata": {},
   "outputs": [],
   "source": [
    "plt.imshow(newmask[:,125,:])"
   ]
  },
  {
   "cell_type": "code",
   "execution_count": null,
   "metadata": {},
   "outputs": [],
   "source": [
    "plt.imshow(newmask[:,:,250])"
   ]
  },
  {
   "cell_type": "code",
   "execution_count": null,
   "metadata": {},
   "outputs": [],
   "source": [
    "all_structure_vals = get_mean_value_per_structure('Tg2576', '12 mo', dat.structure_id.unique())"
   ]
  },
  {
   "cell_type": "code",
   "execution_count": null,
   "metadata": {},
   "outputs": [],
   "source": [
    "from matplotlib import cm\n",
    "structure_rgb_vals = all_structure_vals.copy()\n",
    "for key in structure_rgb_vals:\n",
    "    structure_rgb_vals[key] = tuple([255*i for i in cm.inferno(all_structure_vals[key]*50)[:3]])\n",
    "structure_rgb_vals[0] = [0.0, 0.0, 0.0]"
   ]
  },
  {
   "cell_type": "code",
   "execution_count": null,
   "metadata": {},
   "outputs": [],
   "source": [
    "reference_space =  mcc.get_reference_space()\n",
    "slice_image = reference_space.get_slice_image(1, 6000, structure_rgb_vals) # this method wants an axis and a position in microns\n",
    "plt.imshow(slice_image)"
   ]
  },
  {
   "cell_type": "code",
   "execution_count": null,
   "metadata": {},
   "outputs": [],
   "source": [
    "app_ps1_structure_vals = get_mean_value_per_structure('APP/PS1', '12 mo', dat.structure_id.unique())\n",
    "app_ps1_rgb_vals = app_ps1_structure_vals.copy()\n",
    "for key in app_ps1_structure_vals:\n",
    "    app_ps1_rgb_vals[key] = tuple([256*i for i in cm.inferno(app_ps1_structure_vals[key]*50)[:3]])\n",
    "app_ps1_rgb_vals[0] = [0, 0, 0]\n",
    "\n",
    "w=10\n",
    "h=10\n",
    "image = [0,0,0,0,0,0,0,0,0,0,0,0]\n",
    "index = [7000, 5000, 5000]\n",
    "image[0] = reference_space.get_slice_image(0, index[0], app_ps1_rgb_vals)\n",
    "image[1] = np.flip(np.rot90(reference_space.get_slice_image(2, index[2], app_ps1_rgb_vals)), 0)\n",
    "image[2] = np.rot90(reference_space.get_slice_image(1, index[1], app_ps1_rgb_vals))  \n",
    "fig = plt.figure(figsize=(15, 15), facecolor='k')\n",
    "columns = 3\n",
    "rows = 4\n",
    "for i in range(columns):\n",
    "    fig.add_subplot(rows, columns, i+1)\n",
    "    f = plt.imshow(image[i])\n",
    "    plt.axis('off')\n",
    "\n",
    "j20_structure_vals = get_mean_value_per_structure('J20', '12 mo', dat.structure_id.unique())\n",
    "j20_rgb_vals = j20_structure_vals.copy()\n",
    "for key in j20_structure_vals:\n",
    "    j20_rgb_vals[key] = tuple([256*i for i in cm.inferno(j20_structure_vals[key]*350)[:3]])\n",
    "j20_rgb_vals[0] = [0, 0, 0]\n",
    "\n",
    "image[3] = reference_space.get_slice_image(0, index[0], j20_rgb_vals)\n",
    "image[4] = np.flip(np.rot90(reference_space.get_slice_image(2, index[2], j20_rgb_vals)), 0)\n",
    "image[5] = np.rot90(reference_space.get_slice_image(1, index[1], j20_rgb_vals)) \n",
    "\n",
    "for i in range(columns+3):\n",
    "    fig.add_subplot(rows, columns, i+1)\n",
    "    f = plt.imshow(image[i])\n",
    "    plt.axis('off')\n",
    "    \n",
    "tg2576_structure_vals = get_mean_value_per_structure('Tg2576', '12 mo', dat.structure_id.unique())\n",
    "tg2576_rgb_vals = tg2576_structure_vals.copy()\n",
    "for key in tg2576_structure_vals:\n",
    "    tg2576_rgb_vals[key] = tuple([256*i for i in cm.inferno(tg2576_structure_vals[key]*750)[:3]])\n",
    "tg2576_rgb_vals[0] = [0, 0, 0]\n",
    "\n",
    "image[6] = reference_space.get_slice_image(0, index[0], tg2576_rgb_vals)\n",
    "image[7] = np.flip(np.rot90(reference_space.get_slice_image(2, index[2], tg2576_rgb_vals)), 0)\n",
    "image[8] = np.rot90(reference_space.get_slice_image(1, index[1], tg2576_rgb_vals)) \n",
    "\n",
    "for i in range(columns+6):\n",
    "    fig.add_subplot(rows, columns, i+1)\n",
    "    f = plt.imshow(image[i])\n",
    "    plt.axis('off')\n",
    "    \n",
    "rTg4510_structure_vals = get_mean_value_per_structure('APP/PS1/rTg4510', '12 mo', dat.structure_id.unique())\n",
    "rTg4510_rgb_vals = rTg4510_structure_vals.copy()\n",
    "for key in rTg4510_structure_vals:\n",
    "    rTg4510_rgb_vals[key] = tuple([256*i for i in cm.inferno(rTg4510_structure_vals[key]*50)[:3]])\n",
    "rTg4510_rgb_vals[0] = [0, 0, 0]\n",
    "\n",
    "image[9] = reference_space.get_slice_image(0, index[0], rTg4510_rgb_vals)\n",
    "image[10] = np.flip(np.rot90(reference_space.get_slice_image(2, index[2], rTg4510_rgb_vals)), 0)\n",
    "image[11] = np.rot90(reference_space.get_slice_image(1, index[1], rTg4510_rgb_vals)) \n",
    "\n",
    "for i in range(columns+9):\n",
    "    fig.add_subplot(rows, columns, i+1)\n",
    "    f = plt.imshow(image[i])\n",
    "    plt.axis('off')\n",
    "    \n",
    "fig.subplots_adjust(top=1, bottom=0.05)\n",
    "cbar_ax = fig.add_subplot(70, 1, 70)\n",
    "cbar = fig.colorbar(f, cax=cbar_ax, orientation='horizontal')\n",
    "maxval = max(app_ps1_structure_vals.iteritems(), key=operator.itemgetter(1))[1]\n",
    "cbar_ax.set_xticklabels([0, np.round(maxval*.12, 2), np.round(maxval*.23, 2), np.round(maxval*.34, 2), \n",
    "                         np.round(maxval*.45, 2), np.round(maxval*.56, 2), np.round(maxval*.67, 2),\n",
    "                        np.round(maxval*.78, 2), np.round(maxval*.89, 2), np.round(maxval, 2)])\n",
    "plt.setp(plt.getp(cbar_ax, 'xticklabels'), color='w')\n",
    "#plt.show()"
   ]
  },
  {
   "cell_type": "code",
   "execution_count": null,
   "metadata": {},
   "outputs": [],
   "source": [
    "structure_vals = get_mean_value_per_structure('APP/PS1', '12 mo', dat.structure_id.unique())\n",
    "rgb_vals = structure_vals.copy()\n",
    "for key in structure_vals:\n",
    "    rgb_vals[key] = tuple([256*i for i in cm.inferno(structure_vals[key]*50)[:3]])\n",
    "rgb_vals[0] = [0, 0, 0]\n",
    "\n",
    "w=10\n",
    "h=10\n",
    "image = [0,0,0]\n",
    "index = [7500, 4500, 5000]\n",
    "image[0] = reference_space.get_slice_image(0, index[0], rgb_vals)\n",
    "image[1] = np.flip(np.rot90(reference_space.get_slice_image(2, index[2], rgb_vals)), 0)\n",
    "image[2] = np.rot90(reference_space.get_slice_image(1, index[1], rgb_vals))  \n",
    "fig = plt.figure(figsize=(15, 15), facecolor='k')\n",
    "columns = 3\n",
    "rows = 1\n",
    "for i in range(columns*rows):\n",
    "    fig.add_subplot(rows, columns, i+1)\n",
    "    f = plt.imshow(image[i])\n",
    "    plt.axis('off')\n",
    "cbar = fig.colorbar(f, fraction=0.046, pad=0.04)\n",
    "plt.setp(plt.getp(cbar.ax.axes, 'yticklabels'), color='w')\n",
    "\n",
    "maxval = max(app_ps1_structure_vals.iteritems(), key=operator.itemgetter(1))[1]\n",
    "cbar.ax.set_yticklabels([0, maxval*.12, maxval*.23, maxval*.34, maxval*.45, maxval*.56, maxval*.67,\n",
    "                        maxval*.78, maxval*.89, maxval])\n",
    "plt.show()"
   ]
  },
  {
   "cell_type": "code",
   "execution_count": null,
   "metadata": {},
   "outputs": [],
   "source": [
    "structure_vals = get_mean_value_per_structure('J20', '12 mo', dat.structure_id.unique())\n",
    "rgb_vals = structure_vals.copy()\n",
    "for key in structure_vals:\n",
    "    rgb_vals[key] = tuple([256*i for i in cm.inferno(structure_vals[key]*350)[:3]])\n",
    "rgb_vals[0] = [0, 0, 0]\n",
    "\n",
    "w=10\n",
    "h=10\n",
    "image = [0,0,0]\n",
    "index = [7500, 4500, 5000]\n",
    "image[0] = reference_space.get_slice_image(0, index[0], rgb_vals)\n",
    "image[1] = np.flip(np.rot90(reference_space.get_slice_image(2, index[2], rgb_vals)), 0)\n",
    "image[2] = np.rot90(reference_space.get_slice_image(1, index[1], rgb_vals))  \n",
    "fig = plt.figure(figsize=(15, 15), facecolor='k')\n",
    "columns = 3\n",
    "rows = 1\n",
    "for i in range(columns*rows):\n",
    "    fig.add_subplot(rows, columns, i+1)\n",
    "    f = plt.imshow(image[i])\n",
    "    plt.axis('off')\n",
    "cbar = fig.colorbar(f, fraction=0.046, pad=0.04)\n",
    "plt.setp(plt.getp(cbar.ax.axes, 'yticklabels'), color='w')\n",
    "\n",
    "maxval = max(app_ps1_structure_vals.iteritems(), key=operator.itemgetter(1))[1]\n",
    "cbar.ax.set_yticklabels([0, maxval*.12, maxval*.23, maxval*.34, maxval*.45, maxval*.56, maxval*.67,\n",
    "                        maxval*.78, maxval*.89, maxval])\n",
    "plt.show()"
   ]
  },
  {
   "cell_type": "code",
   "execution_count": null,
   "metadata": {},
   "outputs": [],
   "source": [
    "structure_vals = get_mean_value_per_structure('Tg2576', '12 mo', dat.structure_id.unique())\n",
    "rgb_vals = structure_vals.copy()\n",
    "for key in structure_vals:\n",
    "    rgb_vals[key] = tuple([256*i for i in cm.inferno(structure_vals[key]*750)[:3]])\n",
    "rgb_vals[0] = [0, 0, 0]\n",
    "\n",
    "w=10\n",
    "h=10\n",
    "image = [0,0,0]\n",
    "index = [7500, 4500, 5000]\n",
    "image[0] = reference_space.get_slice_image(0, index[0], rgb_vals)\n",
    "image[1] = np.flip(np.rot90(reference_space.get_slice_image(2, index[2], rgb_vals)), 0)\n",
    "image[2] = np.rot90(reference_space.get_slice_image(1, index[1], rgb_vals))  \n",
    "fig = plt.figure(figsize=(15, 15), facecolor='k')\n",
    "columns = 3\n",
    "rows = 1\n",
    "for i in range(columns*rows):\n",
    "    fig.add_subplot(rows, columns, i+1)\n",
    "    f = plt.imshow(image[i])\n",
    "    plt.axis('off')\n",
    "cbar = fig.colorbar(f, fraction=0.046, pad=0.04)\n",
    "plt.setp(plt.getp(cbar.ax.axes, 'yticklabels'), color='w')\n",
    "\n",
    "maxval = max(app_ps1_structure_vals.iteritems(), key=operator.itemgetter(1))[1]\n",
    "cbar.ax.set_yticklabels([0, maxval*.12, maxval*.23, maxval*.34, maxval*.45, maxval*.56, maxval*.67,\n",
    "                        maxval*.78, maxval*.89, maxval])\n",
    "plt.show()"
   ]
  },
  {
   "cell_type": "code",
   "execution_count": null,
   "metadata": {},
   "outputs": [],
   "source": [
    "def get_relative_mean_value_per_structure(group, age, structure_ids):\n",
    "    means = []\n",
    "    isids = dataset[(dataset['Mouse Line'] == group) & (dataset['Dataset'] == age)]['image_series_id'].values\n",
    "    for structure_id in structure_ids:\n",
    "        str_mean = np.mean(dat[(dat['structure_id'] == structure_id) & \n",
    "                                 (dat['image_series_id'].isin(isids))]\n",
    "                             ['plaque_density'])\n",
    "        root_mean = np.mean(dat[(dat['structure_id'] == 993) & \n",
    "                                 (dat['image_series_id'].isin(isids))]\n",
    "                             ['plaque_density'])\n",
    "        means.append(str_mean/root_mean)\n",
    "    structuredat = dict(zip(structure_ids, means))\n",
    "    return structuredat, len(isids)\n",
    "\n",
    "def get_mean_value_per_structure(group, age, structure_ids):\n",
    "    means = []\n",
    "    isids = dataset[(dataset['Mouse Line'] == group) & (dataset['Dataset'] == age)]['image_series_id'].values\n",
    "    for structure_id in structure_ids:\n",
    "        str_mean = np.mean(dat[(dat['structure_id'] == structure_id) & \n",
    "                                 (dat['image_series_id'].isin(isids))]\n",
    "                             ['plaque_density'])\n",
    "        means.append(str_mean)\n",
    "    structuredat = dict(zip(structure_ids, means))\n",
    "    return structuredat, len(isids)\n",
    "\n",
    "def get_cmap(group, age, scale=50):\n",
    "    structure_vals, n = get_mean_value_per_structure(group, age, dat.structure_id.unique())\n",
    "    rgb_vals = structure_vals.copy()\n",
    "    for key in structure_vals:\n",
    "        rgb_vals[key] = tuple([256*i for i in cm.inferno(structure_vals[key]*scale)[:3]])\n",
    "    rgb_vals[0] = (0, 0, 0)\n",
    "    return rgb_vals, n\n",
    "\n",
    "def get_log_cmap(group, age):\n",
    "    structure_vals, n = get_mean_value_per_structure(group, age, dat.structure_id.unique())\n",
    "    offset = -np.min([np.log10(value+0.0000005) for value in structure_vals.values()])\n",
    "    print(offset)\n",
    "    scaled_values = [(value+offset)*256 for value in structure_vals.values()]\n",
    "    rgb_vals = dict(zip(structure_vals.keys(), scaled_values))\n",
    "    for key in rgb_vals:\n",
    "        rgb_vals[key] = tuple([256*i for i in cm.inferno(structure_vals[key])[:3]])\n",
    "    rgb_vals[0] = (0, 0, 0)\n",
    "    return rgb_vals, n"
   ]
  },
  {
   "cell_type": "markdown",
   "metadata": {},
   "source": [
    "# Need to figure out how to convert to lognorm color scale\n",
    "maxval = max(means)\n",
    "    minval = min(means)\n",
    "normvals = [colors.LogNorm(color, minval, maxval) for color in means]\n",
    "    print(normvals)"
   ]
  },
  {
   "cell_type": "code",
   "execution_count": null,
   "metadata": {},
   "outputs": [],
   "source": [
    "test, _ = get_mean_value_per_structure('APP/PS1', '12 mo', dat.structure_id.unique())"
   ]
  },
  {
   "cell_type": "code",
   "execution_count": null,
   "metadata": {},
   "outputs": [],
   "source": [
    "logvals = [np.log10(value+0.000005) for value in test.values()]"
   ]
  },
  {
   "cell_type": "code",
   "execution_count": null,
   "metadata": {},
   "outputs": [],
   "source": [
    "logvals"
   ]
  },
  {
   "cell_type": "code",
   "execution_count": null,
   "metadata": {},
   "outputs": [],
   "source": [
    "np.min(logvals)"
   ]
  },
  {
   "cell_type": "code",
   "execution_count": null,
   "metadata": {},
   "outputs": [],
   "source": [
    "fig = plt.figure(figsize=(15, 13), facecolor='k')\n",
    "columns = 3\n",
    "rows = 5\n",
    "image = [0,0,0,0,0,0,0,0,0,0,0,0,0,0]\n",
    "index = [7000, 5000, 5000]\n",
    "\n",
    "rgb_vals, n = get_log_cmap('J20', '12 mo')\n",
    "image[0] = reference_space.get_slice_image(0, index[0], rgb_vals)\n",
    "image[1] = np.flip(np.rot90(reference_space.get_slice_image(2, index[2], rgb_vals)), 0)\n",
    "image[2] = np.rot90(reference_space.get_slice_image(1, index[1], rgb_vals))  \n",
    "\n",
    "for i in range(columns):\n",
    "    fig.add_subplot(rows, columns, i+1)\n",
    "    f = plt.imshow(image[i])\n",
    "    plt.axis('off')\n",
    "plt.gcf().axes[0].set_title('APP/PS1 (n={0})'.format(n), size='large', color='w')\n",
    "\n",
    "_, n = get_cmap('J20', '12 mo')\n",
    "image[3] = reference_space.get_slice_image(0, index[0], rgb_vals)\n",
    "image[4] = np.flip(np.rot90(reference_space.get_slice_image(2, index[2], rgb_vals)), 0)\n",
    "image[5] = np.rot90(reference_space.get_slice_image(1, index[1], rgb_vals)) \n",
    "\n",
    "for i in range(columns+3):\n",
    "    fig.add_subplot(rows, columns, i+1)\n",
    "    f = plt.imshow(image[i])\n",
    "    plt.axis('off')\n",
    "plt.gcf().axes[3].set_title('J20 (values x5, n={0})'.format(n), size='large', color='w')\n",
    "\n",
    "_, n = get_cmap('Tg2576', '12 mo')\n",
    "image[6] = reference_space.get_slice_image(0, index[0], rgb_vals)\n",
    "image[7] = np.flip(np.rot90(reference_space.get_slice_image(2, index[2], rgb_vals)), 0)\n",
    "image[8] = np.rot90(reference_space.get_slice_image(1, index[1], rgb_vals)) \n",
    "\n",
    "for i in range(columns+6):\n",
    "    fig.add_subplot(rows, columns, i+1)\n",
    "    f = plt.imshow(image[i])\n",
    "    plt.axis('off')\n",
    "plt.gcf().axes[6].set_title('Tg2576 (values x5, n={0})'.format(n), size='large', color='w')\n",
    "    \n",
    "_, n = get_cmap('APP/PS1/rTg4510', '12 mo')\n",
    "image[9] = reference_space.get_slice_image(0, index[0], rgb_vals)\n",
    "image[10] = np.flip(np.rot90(reference_space.get_slice_image(2, index[2], rgb_vals)), 0)\n",
    "image[11] = np.rot90(reference_space.get_slice_image(1, index[1], rgb_vals)) \n",
    "\n",
    "for i in range(columns+9):\n",
    "    fig.add_subplot(rows, columns, i+1)\n",
    "    f = plt.imshow(image[i])\n",
    "    plt.axis('off')\n",
    "plt.gcf().axes[9].set_title('APP/PS1/rTg4510 (n={0})'.format(n), size='large', color='w')\n",
    "    \n",
    "#fig.subplots_adjust(bottom=0.1)\n",
    "cbar_ax = fig.add_subplot(30, 1, 26)\n",
    "cbar = fig.colorbar(f, cax=cbar_ax, orientation='horizontal')\n",
    "vals, _ = get_relative_mean_value_per_structure('APP/PS1', '12 mo', dat.structure_id.unique())\n",
    "maxval = max(vals.iteritems(), key=operator.itemgetter(1))[1]\n",
    "cbar_ax.set_xticklabels([0, np.round(maxval*.12, 2), np.round(maxval*.23, 2), np.round(maxval*.34, 2), \n",
    "                         np.round(maxval*.45, 2), np.round(maxval*.56, 2), np.round(maxval*.67, 2),\n",
    "                        np.round(maxval*.78, 2), np.round(maxval*.89, 2), np.round(maxval, 2)])\n",
    "plt.setp(plt.getp(cbar_ax, 'xticklabels'), color='w')\n",
    "plt.gcf().axes[12].set_title('relative plaque density', size='large', color='w')\n",
    "#plt.savefig(os.path.join(path, 'plaque maps 12 mo.pdf'), facecolor=fig.get_facecolor(),\n",
    "#            bbox_inches='tight', pad_inches=0.3, format='pdf', transparent = True, dpi=1000)"
   ]
  },
  {
   "cell_type": "code",
   "execution_count": null,
   "metadata": {},
   "outputs": [],
   "source": [
    "fig = plt.figure(figsize=(15, 13), facecolor='k')\n",
    "columns = 3\n",
    "rows = 5\n",
    "image = [0,0,0,0,0,0,0,0,0,0,0,0,0,0]\n",
    "index = [10000, 5000, 5000]\n",
    "\n",
    "app_ps1_rgb_vals, n = get_cmap('APP/PS1', '12 mo')\n",
    "image[0] = reference_space.get_slice_image(0, index[0], app_ps1_rgb_vals)\n",
    "image[1] = np.flip(np.rot90(reference_space.get_slice_image(2, index[2], app_ps1_rgb_vals)), 0)\n",
    "image[2] = np.rot90(reference_space.get_slice_image(1, index[1], app_ps1_rgb_vals))  \n",
    "\n",
    "for i in range(columns):\n",
    "    fig.add_subplot(rows, columns, i+1)\n",
    "    f = plt.imshow(image[i])\n",
    "    plt.axis('off')\n",
    "plt.gcf().axes[0].set_title('APP/PS1 (n={0})'.format(n), size='large', color='w')\n",
    "\n",
    "j20_rgb_vals, n = get_cmap('J20', '12 mo', 250)\n",
    "image[3] = reference_space.get_slice_image(0, index[0], j20_rgb_vals)\n",
    "image[4] = np.flip(np.rot90(reference_space.get_slice_image(2, index[2], j20_rgb_vals)), 0)\n",
    "image[5] = np.rot90(reference_space.get_slice_image(1, index[1], j20_rgb_vals)) \n",
    "\n",
    "for i in range(columns+3):\n",
    "    fig.add_subplot(rows, columns, i+1)\n",
    "    f = plt.imshow(image[i])\n",
    "    plt.axis('off')\n",
    "plt.gcf().axes[3].set_title('J20 (values x5, n={0})'.format(n), size='large', color='w')\n",
    "\n",
    "tg2576_rgb_vals, n = get_cmap('Tg2576', '12 mo', 500)\n",
    "image[6] = reference_space.get_slice_image(0, index[0], tg2576_rgb_vals)\n",
    "image[7] = np.flip(np.rot90(reference_space.get_slice_image(2, index[2], tg2576_rgb_vals)), 0)\n",
    "image[8] = np.rot90(reference_space.get_slice_image(1, index[1], tg2576_rgb_vals)) \n",
    "\n",
    "for i in range(columns+6):\n",
    "    fig.add_subplot(rows, columns, i+1)\n",
    "    f = plt.imshow(image[i])\n",
    "    plt.axis('off')\n",
    "plt.gcf().axes[6].set_title('Tg2576 (values x5, n={0})'.format(n), size='large', color='w')\n",
    "    \n",
    "rTg4510_rgb_vals, n = get_cmap('APP/PS1/rTg4510', '12 mo')\n",
    "image[9] = reference_space.get_slice_image(0, index[0], rTg4510_rgb_vals)\n",
    "image[10] = np.flip(np.rot90(reference_space.get_slice_image(2, index[2], rTg4510_rgb_vals)), 0)\n",
    "image[11] = np.rot90(reference_space.get_slice_image(1, index[1], rTg4510_rgb_vals)) \n",
    "\n",
    "for i in range(columns+9):\n",
    "    fig.add_subplot(rows, columns, i+1)\n",
    "    f = plt.imshow(image[i])\n",
    "    plt.axis('off')\n",
    "plt.gcf().axes[9].set_title('APP/PS1/rTg4510 (n={0})'.format(n), size='large', color='w')\n",
    "    \n",
    "#fig.subplots_adjust(bottom=0.1)\n",
    "cbar_ax = fig.add_subplot(30, 1, 26)\n",
    "cbar = fig.colorbar(f, cax=cbar_ax, orientation='horizontal')\n",
    "vals, _ = get_relative_mean_value_per_structure('APP/PS1', '12 mo', dat.structure_id.unique())\n",
    "maxval = max(vals.iteritems(), key=operator.itemgetter(1))[1]\n",
    "cbar_ax.set_xticklabels([0, np.round(maxval*.12, 2), np.round(maxval*.23, 2), np.round(maxval*.34, 2), \n",
    "                         np.round(maxval*.45, 2), np.round(maxval*.56, 2), np.round(maxval*.67, 2),\n",
    "                        np.round(maxval*.78, 2), np.round(maxval*.89, 2), np.round(maxval, 2)])\n",
    "plt.setp(plt.getp(cbar_ax, 'xticklabels'), color='w')\n",
    "plt.gcf().axes[12].set_title('relative plaque density', size='large', color='w')\n",
    "#plt.savefig(os.path.join(path, 'plaque maps 12 mo.pdf'), facecolor=fig.get_facecolor(),\n",
    "#            bbox_inches='tight', pad_inches=0.3, format='pdf', transparent = True, dpi=1000)"
   ]
  },
  {
   "cell_type": "code",
   "execution_count": null,
   "metadata": {},
   "outputs": [],
   "source": [
    "def get_mean_value_per_structure(group, age, structure_ids):\n",
    "    means = []\n",
    "    isids = dataset[(dataset['Mouse Line'] == group) & (dataset['Dataset'] == age)]['image_series_id'].values\n",
    "    for structure_id in structure_ids:\n",
    "        means.append(np.mean(dat[(dat['structure_id'] == structure_id) & \n",
    "                                 (dat['image_series_id'].isin(isids))]\n",
    "                             ['plaque_density']))\n",
    "    structuredat = dict(zip(structure_ids, means))\n",
    "    return structuredat, len(isids)\n",
    "\n",
    "def get_cmap(group, age, scale=100):\n",
    "    structure_vals, n = get_mean_value_per_structure(group, age, dat.structure_id.unique())\n",
    "    rgb_vals = structure_vals.copy()\n",
    "    for key in structure_vals:\n",
    "        rgb_vals[key] = tuple([256*i for i in cm.inferno(structure_vals[key]*scale)[:3]])\n",
    "        rgb_vals[0] = (0, 0, 0)\n",
    "    return rgb_vals, n"
   ]
  },
  {
   "cell_type": "code",
   "execution_count": null,
   "metadata": {},
   "outputs": [],
   "source": [
    "fig = plt.figure(figsize=(15, 20), facecolor='k')\n",
    "columns = 3\n",
    "rows = 7\n",
    "image = [0,0,0,0,0,0,0,0,0,0,0,0,0,0,0,0,0,0,0,0,0,0,0,0,0,0]\n",
    "index = [7000, 5000, 5000]\n",
    "scale=50\n",
    "\n",
    "rgb_vals, n = get_cmap('APP/PS1', '4 mo', scale=scale)\n",
    "image[0] = reference_space.get_slice_image(0, index[0], rgb_vals)\n",
    "image[1] = np.flip(np.rot90(reference_space.get_slice_image(2, index[2], rgb_vals)), 0)\n",
    "image[2] = np.rot90(reference_space.get_slice_image(1, index[1], rgb_vals))  \n",
    "\n",
    "for i in range(columns):\n",
    "    fig.add_subplot(rows, columns, i+1)\n",
    "    f = plt.imshow(image[i])\n",
    "    plt.axis('off')\n",
    "plt.gcf().axes[0].set_title('APP/PS1 4 mo (n={0})'.format(n), size='large', color='w')\n",
    "\n",
    "rgb_vals, n = get_cmap('APP/PS1', '6 mo', scale=scale)\n",
    "image[3] = reference_space.get_slice_image(0, index[0], rgb_vals)\n",
    "image[4] = np.flip(np.rot90(reference_space.get_slice_image(2, index[2], rgb_vals)), 0)\n",
    "image[5] = np.rot90(reference_space.get_slice_image(1, index[1], rgb_vals)) \n",
    "\n",
    "for i in range(columns+3):\n",
    "    fig.add_subplot(rows, columns, i+1)\n",
    "    f = plt.imshow(image[i])\n",
    "    plt.axis('off')\n",
    "plt.gcf().axes[3].set_title('APP/PS1 6 mo (n={0})'.format(n), size='large', color='w')\n",
    "\n",
    "rgb_vals, n = get_cmap('APP/PS1', '9 mo', scale=scale)\n",
    "image[6] = reference_space.get_slice_image(0, index[0], rgb_vals)\n",
    "image[7] = np.flip(np.rot90(reference_space.get_slice_image(2, index[2], rgb_vals)), 0)\n",
    "image[8] = np.rot90(reference_space.get_slice_image(1, index[1], rgb_vals)) \n",
    "\n",
    "for i in range(columns+6):\n",
    "    fig.add_subplot(rows, columns, i+1)\n",
    "    f = plt.imshow(image[i])\n",
    "    plt.axis('off')\n",
    "plt.gcf().axes[6].set_title('APP/PS1 9 mo (n={0})'.format(n), size='large', color='w')\n",
    "    \n",
    "rgb_vals, n = get_cmap('APP/PS1', '12 mo', scale=scale)\n",
    "image[9] = reference_space.get_slice_image(0, index[0], rgb_vals)\n",
    "image[10] = np.flip(np.rot90(reference_space.get_slice_image(2, index[2], rgb_vals)), 0)\n",
    "image[11] = np.rot90(reference_space.get_slice_image(1, index[1], rgb_vals)) \n",
    "\n",
    "for i in range(columns+9):\n",
    "    fig.add_subplot(rows, columns, i+1)\n",
    "    f = plt.imshow(image[i])\n",
    "    plt.axis('off')\n",
    "plt.gcf().axes[9].set_title('APP/PS1 12 mo (n={0})'.format(n), size='large', color='w')\n",
    "\n",
    "rgb_vals, n = get_cmap('APP/PS1', '15 mo', scale=scale)\n",
    "image[12] = reference_space.get_slice_image(0, index[0], rgb_vals)\n",
    "image[13] = np.flip(np.rot90(reference_space.get_slice_image(2, index[2], rgb_vals)), 0)\n",
    "image[14] = np.rot90(reference_space.get_slice_image(1, index[1], rgb_vals)) \n",
    "\n",
    "for i in range(columns+12):\n",
    "    fig.add_subplot(rows, columns, i+1)\n",
    "    f = plt.imshow(image[i])\n",
    "    plt.axis('off')\n",
    "plt.gcf().axes[12].set_title('APP/PS1 15 mo (n={0})'.format(n), size='large', color='w')\n",
    "\n",
    "rgb_vals, n = get_cmap('APP/PS1', '18 mo', scale=scale)\n",
    "image[15] = reference_space.get_slice_image(0, index[0], rgb_vals)\n",
    "image[16] = np.flip(np.rot90(reference_space.get_slice_image(2, index[2], rgb_vals)), 0)\n",
    "image[17] = np.rot90(reference_space.get_slice_image(1, index[1], rgb_vals)) \n",
    "\n",
    "for i in range(columns+15):\n",
    "    fig.add_subplot(rows, columns, i+1)\n",
    "    f = plt.imshow(image[i])\n",
    "    plt.axis('off')\n",
    "plt.gcf().axes[15].set_title('APP/PS1 18 mo (n={0})'.format(n), size='large', color='w')\n",
    "    \n",
    "#fig.subplots_adjust(bottom=0.1)\n",
    "cbar_ax = fig.add_subplot(30, 1, 28)\n",
    "cbar = fig.colorbar(f, cax=cbar_ax, orientation='horizontal')\n",
    "vals, _ = get_mean_value_per_structure('APP/PS1', '12 mo', dat.structure_id.unique())\n",
    "maxval = max(vals.iteritems(), key=operator.itemgetter(1))[1]\n",
    "cbar_ax.set_xticklabels([0, np.round(maxval*.12, 2), np.round(maxval*.23, 2), np.round(maxval*.34, 2), \n",
    "                         np.round(maxval*.45, 2), np.round(maxval*.56, 2), np.round(maxval*.67, 2),\n",
    "                        np.round(maxval*.78, 2), np.round(maxval*.89, 2), np.round(maxval, 2)])\n",
    "plt.setp(plt.getp(cbar_ax, 'xticklabels'), color='w')\n",
    "plt.gcf().axes[18].set_title('relative plaque density', size='large', color='w')\n",
    "plt.savefig(os.path.join(path, 'plaque maps APP_PS1 by age.pdf'), facecolor=fig.get_facecolor(),\n",
    "            bbox_inches='tight', pad_inches=0.3, format='pdf', transparent = True, dpi=1000)"
   ]
  },
  {
   "cell_type": "code",
   "execution_count": null,
   "metadata": {},
   "outputs": [],
   "source": [
    "fig = plt.figure(figsize=(15, 20), facecolor='k')\n",
    "columns = 3\n",
    "rows = 7\n",
    "image = [0,0,0,0,0,0,0,0,0,0,0,0,0,0,0,0,0,0,0,0,0,0,0,0,0,0]\n",
    "index = [7000, 5000, 5000]\n",
    "scale = 350\n",
    "\n",
    "rgb_vals, n = get_cmap('J20', '4 mo', scale=scale)\n",
    "image[0] = reference_space.get_slice_image(0, index[0], rgb_vals)\n",
    "image[1] = np.flip(np.rot90(reference_space.get_slice_image(2, index[2], rgb_vals)), 0)\n",
    "image[2] = np.rot90(reference_space.get_slice_image(1, index[1], rgb_vals))  \n",
    "\n",
    "for i in range(columns):\n",
    "    fig.add_subplot(rows, columns, i+1)\n",
    "    f = plt.imshow(image[i])\n",
    "    plt.axis('off')\n",
    "plt.gcf().axes[0].set_title('J20 4 mo (n={0})'.format(n), size='large', color='w')\n",
    "\n",
    "rgb_vals, n = get_cmap('J20', '6 mo', scale=scale)\n",
    "image[3] = reference_space.get_slice_image(0, index[0], rgb_vals)\n",
    "image[4] = np.flip(np.rot90(reference_space.get_slice_image(2, index[2], rgb_vals)), 0)\n",
    "image[5] = np.rot90(reference_space.get_slice_image(1, index[1], rgb_vals)) \n",
    "\n",
    "for i in range(columns+3):\n",
    "    fig.add_subplot(rows, columns, i+1)\n",
    "    f = plt.imshow(image[i])\n",
    "    plt.axis('off')\n",
    "plt.gcf().axes[3].set_title('J20 6 mo (n={0})'.format(n), size='large', color='w')\n",
    "\n",
    "rgb_vals, n = get_cmap('J20', '9 mo', scale=scale)\n",
    "image[6] = reference_space.get_slice_image(0, index[0], rgb_vals)\n",
    "image[7] = np.flip(np.rot90(reference_space.get_slice_image(2, index[2], rgb_vals)), 0)\n",
    "image[8] = np.rot90(reference_space.get_slice_image(1, index[1], rgb_vals)) \n",
    "\n",
    "for i in range(columns+6):\n",
    "    fig.add_subplot(rows, columns, i+1)\n",
    "    f = plt.imshow(image[i])\n",
    "    plt.axis('off')\n",
    "plt.gcf().axes[6].set_title('J20 9 mo (n={0})'.format(n), size='large', color='w')\n",
    "    \n",
    "rgb_vals, n = get_cmap('J20', '12 mo', scale=scale)\n",
    "image[9] = reference_space.get_slice_image(0, index[0], rgb_vals)\n",
    "image[10] = np.flip(np.rot90(reference_space.get_slice_image(2, index[2], rgb_vals)), 0)\n",
    "image[11] = np.rot90(reference_space.get_slice_image(1, index[1], rgb_vals)) \n",
    "\n",
    "for i in range(columns+9):\n",
    "    fig.add_subplot(rows, columns, i+1)\n",
    "    f = plt.imshow(image[i])\n",
    "    plt.axis('off')\n",
    "plt.gcf().axes[9].set_title('J20 12 mo (n={0})'.format(n), size='large', color='w')\n",
    "\n",
    "rgb_vals, n = get_cmap('J20', '15 mo', scale=scale)\n",
    "image[12] = reference_space.get_slice_image(0, index[0], rgb_vals)\n",
    "image[13] = np.flip(np.rot90(reference_space.get_slice_image(2, index[2], rgb_vals)), 0)\n",
    "image[14] = np.rot90(reference_space.get_slice_image(1, index[1], rgb_vals)) \n",
    "\n",
    "for i in range(columns+12):\n",
    "    fig.add_subplot(rows, columns, i+1)\n",
    "    f = plt.imshow(image[i])\n",
    "    plt.axis('off')\n",
    "plt.gcf().axes[12].set_title('J20 15 mo (n={0})'.format(n), size='large', color='w')\n",
    "\n",
    "rgb_vals, n = get_cmap('J20', '18 mo', scale=scale)\n",
    "image[15] = reference_space.get_slice_image(0, index[0], rgb_vals)\n",
    "image[16] = np.flip(np.rot90(reference_space.get_slice_image(2, index[2], rgb_vals)), 0)\n",
    "image[17] = np.rot90(reference_space.get_slice_image(1, index[1], rgb_vals)) \n",
    "\n",
    "for i in range(columns+15):\n",
    "    fig.add_subplot(rows, columns, i+1)\n",
    "    f = plt.imshow(image[i])\n",
    "    plt.axis('off')\n",
    "plt.gcf().axes[15].set_title('J20 18 mo (n={0})'.format(n), size='large', color='w')\n",
    "    \n",
    "#fig.subplots_adjust(bottom=0.1)\n",
    "cbar_ax = fig.add_subplot(30, 1, 28)\n",
    "cbar = fig.colorbar(f, cax=cbar_ax, orientation='horizontal')\n",
    "vals, _ = get_mean_value_per_structure('J20', '12 mo', dat.structure_id.unique())\n",
    "maxval = max(vals.iteritems(), key=operator.itemgetter(1))[1]\n",
    "cbar_ax.set_xticklabels([0, np.round(maxval*.12, 2), np.round(maxval*.23, 2), np.round(maxval*.34, 2), \n",
    "                         np.round(maxval*.45, 2), np.round(maxval*.56, 2), np.round(maxval*.67, 2),\n",
    "                        np.round(maxval*.78, 2), np.round(maxval*.89, 2), np.round(maxval, 2)])\n",
    "plt.setp(plt.getp(cbar_ax, 'xticklabels'), color='w')\n",
    "plt.gcf().axes[18].set_title('relative plaque density', size='large', color='w')\n",
    "plt.savefig(os.path.join(path, 'plaque maps J20 by age.pdf'), facecolor=fig.get_facecolor(),\n",
    "            bbox_inches='tight', pad_inches=0.3, format='pdf', transparent = True, dpi=1000)"
   ]
  },
  {
   "cell_type": "code",
   "execution_count": null,
   "metadata": {},
   "outputs": [],
   "source": [
    "fig = plt.figure(figsize=(15, 20), facecolor='k')\n",
    "columns = 3\n",
    "rows = 4\n",
    "image = [0,0,0,0,0,0,0,0,0,0,0,0,0,0,0,0,0,0,0,0,0,0,0,0,0,0]\n",
    "index = [7000, 5000, 5000]\n",
    "scale = 350\n",
    "\n",
    "rgb_vals, n = get_cmap('Tg2576', '9 mo', scale=scale)\n",
    "image[0] = reference_space.get_slice_image(0, index[0], rgb_vals)\n",
    "image[1] = np.flip(np.rot90(reference_space.get_slice_image(2, index[2], rgb_vals)), 0)\n",
    "image[2] = np.rot90(reference_space.get_slice_image(1, index[1], rgb_vals)) \n",
    "\n",
    "for i in range(columns):\n",
    "    fig.add_subplot(rows, columns, i+1)\n",
    "    f = plt.imshow(image[i])\n",
    "    plt.axis('off')\n",
    "plt.gcf().axes[0].set_title('Tg2576 9 mo (n={0})'.format(n), size='large', color='w')\n",
    "    \n",
    "rgb_vals, n = get_cmap('Tg2576', '12 mo', scale=scale)\n",
    "image[3] = reference_space.get_slice_image(0, index[0], rgb_vals)\n",
    "image[4] = np.flip(np.rot90(reference_space.get_slice_image(2, index[2], rgb_vals)), 0)\n",
    "image[5] = np.rot90(reference_space.get_slice_image(1, index[1], rgb_vals)) \n",
    "\n",
    "for i in range(columns+3):\n",
    "    fig.add_subplot(rows, columns, i+1)\n",
    "    f = plt.imshow(image[i])\n",
    "    plt.axis('off')\n",
    "plt.gcf().axes[3].set_title('Tg2576 12 mo (n={0})'.format(n), size='large', color='w')\n",
    "\n",
    "rgb_vals, n = get_cmap('Tg2576', '18 mo', scale=scale)\n",
    "image[6] = reference_space.get_slice_image(0, index[0], rgb_vals)\n",
    "image[7] = np.flip(np.rot90(reference_space.get_slice_image(2, index[2], rgb_vals)), 0)\n",
    "image[8] = np.rot90(reference_space.get_slice_image(1, index[1], rgb_vals)) \n",
    "\n",
    "for i in range(columns+6):\n",
    "    fig.add_subplot(rows, columns, i+1)\n",
    "    f = plt.imshow(image[i])\n",
    "    plt.axis('off')\n",
    "plt.gcf().axes[6].set_title('Tg2576 18 mo (n={0})'.format(n), size='large', color='w')\n",
    "    \n",
    "#fig.subplots_adjust(bottom=0.1)\n",
    "cbar_ax = fig.add_subplot(30, 1, 28)\n",
    "cbar = fig.colorbar(f, cax=cbar_ax, orientation='horizontal')\n",
    "vals, _ = get_mean_value_per_structure('Tg2576', '18 mo', dat.structure_id.unique())\n",
    "maxval = max(vals.iteritems(), key=operator.itemgetter(1))[1]\n",
    "cbar_ax.set_xticklabels([0, np.round(maxval*.12, 2), np.round(maxval*.23, 2), np.round(maxval*.34, 2), \n",
    "                         np.round(maxval*.45, 2), np.round(maxval*.56, 2), np.round(maxval*.67, 2),\n",
    "                        np.round(maxval*.78, 2), np.round(maxval*.89, 2), np.round(maxval, 2)])\n",
    "plt.setp(plt.getp(cbar_ax, 'xticklabels'), color='w')\n",
    "plt.gcf().axes[9].set_title('relative plaque density', size='large', color='w')\n",
    "plt.savefig(os.path.join(path, 'plaque maps Tg2576 by age.pdf'), facecolor=fig.get_facecolor(),\n",
    "            bbox_inches='tight', pad_inches=0.3, format='pdf', transparent = True, dpi=1000)"
   ]
  },
  {
   "cell_type": "code",
   "execution_count": null,
   "metadata": {},
   "outputs": [],
   "source": []
  }
 ],
 "metadata": {
  "kernelspec": {
   "display_name": "Python 2",
   "language": "python",
   "name": "python2"
  },
  "language_info": {
   "codemirror_mode": {
    "name": "ipython",
    "version": 2
   },
   "file_extension": ".py",
   "mimetype": "text/x-python",
   "name": "python",
   "nbconvert_exporter": "python",
   "pygments_lexer": "ipython2",
   "version": "2.7.14"
  }
 },
 "nbformat": 4,
 "nbformat_minor": 2
}
