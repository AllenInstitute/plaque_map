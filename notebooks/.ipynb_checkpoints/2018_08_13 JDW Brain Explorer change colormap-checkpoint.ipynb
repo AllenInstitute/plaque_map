{
 "cells": [
  {
   "cell_type": "code",
   "execution_count": 192,
   "metadata": {},
   "outputs": [],
   "source": [
    "import os\n",
    "import pandas as pd\n",
    "from matplotlib import cm\n",
    "import matplotlib as mpl\n",
    "import matplotlib.pyplot as plt\n",
    "import numpy as np\n",
    "%matplotlib inline\n",
    "mpl.rcParams['pdf.fonttype'] = 42"
   ]
  },
  {
   "cell_type": "code",
   "execution_count": 141,
   "metadata": {
    "collapsed": true
   },
   "outputs": [],
   "source": [
    "path = r'C:\\Users\\jenniferwh\\AppData\\Local\\Allen Institute\\Brain Explorer 2\\Atlases\\Allen Mouse Brain Common Coordinate Framework'"
   ]
  },
  {
   "cell_type": "code",
   "execution_count": 142,
   "metadata": {},
   "outputs": [],
   "source": [
    "dat = pd.read_csv(os.path.join(path, 'ontology_v2.csv'))"
   ]
  },
  {
   "cell_type": "code",
   "execution_count": 143,
   "metadata": {},
   "outputs": [
    {
     "data": {
      "text/html": [
       "<div>\n",
       "<style scoped>\n",
       "    .dataframe tbody tr th:only-of-type {\n",
       "        vertical-align: middle;\n",
       "    }\n",
       "\n",
       "    .dataframe tbody tr th {\n",
       "        vertical-align: top;\n",
       "    }\n",
       "\n",
       "    .dataframe thead th {\n",
       "        text-align: right;\n",
       "    }\n",
       "</style>\n",
       "<table border=\"1\" class=\"dataframe\">\n",
       "  <thead>\n",
       "    <tr style=\"text-align: right;\">\n",
       "      <th></th>\n",
       "      <th>name</th>\n",
       "      <th>abbreviation</th>\n",
       "      <th>parent</th>\n",
       "      <th>mesh_name</th>\n",
       "      <th>red</th>\n",
       "      <th>green</th>\n",
       "      <th>blue</th>\n",
       "      <th>id</th>\n",
       "      <th>database_id</th>\n",
       "      <th>order</th>\n",
       "      <th>level</th>\n",
       "    </tr>\n",
       "  </thead>\n",
       "  <tbody>\n",
       "    <tr>\n",
       "      <th>0</th>\n",
       "      <td>root</td>\n",
       "      <td>root</td>\n",
       "      <td>0</td>\n",
       "      <td>root_997</td>\n",
       "      <td>255</td>\n",
       "      <td>255</td>\n",
       "      <td>255</td>\n",
       "      <td>1</td>\n",
       "      <td>997</td>\n",
       "      <td>0</td>\n",
       "      <td>99</td>\n",
       "    </tr>\n",
       "    <tr>\n",
       "      <th>1</th>\n",
       "      <td>Basic cell groups and regions</td>\n",
       "      <td>grey</td>\n",
       "      <td>997</td>\n",
       "      <td>grey_8</td>\n",
       "      <td>191</td>\n",
       "      <td>218</td>\n",
       "      <td>227</td>\n",
       "      <td>2</td>\n",
       "      <td>8</td>\n",
       "      <td>1</td>\n",
       "      <td>99</td>\n",
       "    </tr>\n",
       "    <tr>\n",
       "      <th>2</th>\n",
       "      <td>Cerebrum</td>\n",
       "      <td>CH</td>\n",
       "      <td>8</td>\n",
       "      <td>CH_567</td>\n",
       "      <td>176</td>\n",
       "      <td>240</td>\n",
       "      <td>255</td>\n",
       "      <td>3</td>\n",
       "      <td>567</td>\n",
       "      <td>2</td>\n",
       "      <td>99</td>\n",
       "    </tr>\n",
       "    <tr>\n",
       "      <th>3</th>\n",
       "      <td>Cerebral cortex</td>\n",
       "      <td>CTX</td>\n",
       "      <td>567</td>\n",
       "      <td>CTX_688</td>\n",
       "      <td>176</td>\n",
       "      <td>255</td>\n",
       "      <td>184</td>\n",
       "      <td>4</td>\n",
       "      <td>688</td>\n",
       "      <td>3</td>\n",
       "      <td>99</td>\n",
       "    </tr>\n",
       "    <tr>\n",
       "      <th>4</th>\n",
       "      <td>Cortical plate</td>\n",
       "      <td>CTXpl</td>\n",
       "      <td>688</td>\n",
       "      <td>CTXpl_695</td>\n",
       "      <td>112</td>\n",
       "      <td>255</td>\n",
       "      <td>112</td>\n",
       "      <td>5</td>\n",
       "      <td>695</td>\n",
       "      <td>4</td>\n",
       "      <td>99</td>\n",
       "    </tr>\n",
       "  </tbody>\n",
       "</table>\n",
       "</div>"
      ],
      "text/plain": [
       "                            name abbreviation  parent  mesh_name  red  green  \\\n",
       "0                           root         root       0   root_997  255    255   \n",
       "1  Basic cell groups and regions         grey     997     grey_8  191    218   \n",
       "2                       Cerebrum           CH       8     CH_567  176    240   \n",
       "3                Cerebral cortex          CTX     567    CTX_688  176    255   \n",
       "4                 Cortical plate        CTXpl     688  CTXpl_695  112    255   \n",
       "\n",
       "   blue  id  database_id  order  level  \n",
       "0   255   1          997      0     99  \n",
       "1   227   2            8      1     99  \n",
       "2   255   3          567      2     99  \n",
       "3   184   4          688      3     99  \n",
       "4   112   5          695      4     99  "
      ]
     },
     "execution_count": 143,
     "metadata": {},
     "output_type": "execute_result"
    }
   ],
   "source": [
    "dat.head()"
   ]
  },
  {
   "cell_type": "code",
   "execution_count": 152,
   "metadata": {
    "collapsed": true
   },
   "outputs": [],
   "source": [
    "moddat = pd.read_csv(r'C:\\Users\\jenniferwh\\Dropbox (Allen Institute)\\Mesoscale Connectome Papers in Progress\\2018 Plaque\\module_data_long.csv')"
   ]
  },
  {
   "cell_type": "code",
   "execution_count": 153,
   "metadata": {},
   "outputs": [
    {
     "data": {
      "text/html": [
       "<div>\n",
       "<style scoped>\n",
       "    .dataframe tbody tr th:only-of-type {\n",
       "        vertical-align: middle;\n",
       "    }\n",
       "\n",
       "    .dataframe tbody tr th {\n",
       "        vertical-align: top;\n",
       "    }\n",
       "\n",
       "    .dataframe thead th {\n",
       "        text-align: right;\n",
       "    }\n",
       "</style>\n",
       "<table border=\"1\" class=\"dataframe\">\n",
       "  <thead>\n",
       "    <tr style=\"text-align: right;\">\n",
       "      <th></th>\n",
       "      <th>Unnamed: 0</th>\n",
       "      <th>Module</th>\n",
       "      <th>Mouse Line</th>\n",
       "      <th>Relative Plaque Density</th>\n",
       "      <th>image_series_id</th>\n",
       "    </tr>\n",
       "  </thead>\n",
       "  <tbody>\n",
       "    <tr>\n",
       "      <th>0</th>\n",
       "      <td>0</td>\n",
       "      <td>Prefrontal</td>\n",
       "      <td>APP/PS1</td>\n",
       "      <td>1.167795</td>\n",
       "      <td>475831312</td>\n",
       "    </tr>\n",
       "    <tr>\n",
       "      <th>1</th>\n",
       "      <td>1</td>\n",
       "      <td>Anterolateral</td>\n",
       "      <td>APP/PS1</td>\n",
       "      <td>0.585745</td>\n",
       "      <td>475831312</td>\n",
       "    </tr>\n",
       "    <tr>\n",
       "      <th>2</th>\n",
       "      <td>2</td>\n",
       "      <td>Somatomotor</td>\n",
       "      <td>APP/PS1</td>\n",
       "      <td>1.173222</td>\n",
       "      <td>475831312</td>\n",
       "    </tr>\n",
       "    <tr>\n",
       "      <th>3</th>\n",
       "      <td>3</td>\n",
       "      <td>Visual</td>\n",
       "      <td>APP/PS1</td>\n",
       "      <td>0.862419</td>\n",
       "      <td>475831312</td>\n",
       "    </tr>\n",
       "    <tr>\n",
       "      <th>4</th>\n",
       "      <td>4</td>\n",
       "      <td>Medial</td>\n",
       "      <td>APP/PS1</td>\n",
       "      <td>0.683637</td>\n",
       "      <td>475831312</td>\n",
       "    </tr>\n",
       "  </tbody>\n",
       "</table>\n",
       "</div>"
      ],
      "text/plain": [
       "   Unnamed: 0         Module Mouse Line  Relative Plaque Density  \\\n",
       "0           0     Prefrontal    APP/PS1                 1.167795   \n",
       "1           1  Anterolateral    APP/PS1                 0.585745   \n",
       "2           2    Somatomotor    APP/PS1                 1.173222   \n",
       "3           3         Visual    APP/PS1                 0.862419   \n",
       "4           4         Medial    APP/PS1                 0.683637   \n",
       "\n",
       "   image_series_id  \n",
       "0        475831312  \n",
       "1        475831312  \n",
       "2        475831312  \n",
       "3        475831312  \n",
       "4        475831312  "
      ]
     },
     "execution_count": 153,
     "metadata": {},
     "output_type": "execute_result"
    }
   ],
   "source": [
    "moddat.head()"
   ]
  },
  {
   "cell_type": "code",
   "execution_count": 154,
   "metadata": {
    "collapsed": true
   },
   "outputs": [],
   "source": [
    "prefrontal = ['FRP', 'MOs', 'PL', 'ILA', 'ORBm', 'ORBl', 'ORBvl','ACAd', 'ACAv']\n",
    "anterolateral = ['AId', 'AIv', 'AIp', 'GU', 'VISC']\n",
    "somatomotor = ['SSs', 'SSp-bfd', 'SSp-tr', 'SSp-ll', 'SSp-ul', 'SSp-un',\n",
    "                                          'SSp-n', 'SSp-m', 'MOp']\n",
    "visual = ['VISp', 'VISl', 'VISrl', 'VISpl', 'VISli', 'VISal', 'VISpor']\n",
    "medial = ['RSPd', 'RSPv', 'RSPagl', 'VISa', 'VISam', 'VISpm']\n",
    "temporal = ['AUDd', 'AUDp', 'AUDpo', 'AUDv', 'TEa', 'PERI', 'ECT']\n",
    "\n",
    "moddict = {'Prefrontal': prefrontal, 'Anterolateral': anterolateral, 'Somatomotor': somatomotor,\n",
    "          'Visual': visual, 'Medial': medial, 'Temporal':temporal}"
   ]
  },
  {
   "cell_type": "code",
   "execution_count": 241,
   "metadata": {},
   "outputs": [],
   "source": [
    "mldat = moddat[moddat['Mouse Line'] == 'hAPP-J20']\n",
    "max_val = max(moddat['Relative Plaque Density'])\n",
    "norm = mpl.colors.Normalize(vmin=0, vmax=max_val, clip=True)\n",
    "mapper = cm.ScalarMappable(norm=norm, cmap=cm.seismic)\n",
    "for module in mldat['Module'].unique():\n",
    "    meanmodule = mldat[mldat['Module'] == module]['Relative Plaque Density'].mean()-1 # to make white 1\n",
    "    rgbvals = mapper.to_rgba(meanmodule)[:3]\n",
    "    dat.loc[dat['abbreviation'].isin(moddict[module]), 'red'] = int(rgbvals[0]*255)\n",
    "    dat.loc[dat['abbreviation'].isin(moddict[module]), 'green'] = int(rgbvals[1]*255)\n",
    "    dat.loc[dat['abbreviation'].isin(moddict[module]), 'blue'] = int(rgbvals[2]*255)\n",
    "dat.loc[dat['abbreviation'] == 'root', 'parent'] = 0.\n",
    "dat['parent'] = [int(value) for value in dat['parent']]"
   ]
  },
  {
   "cell_type": "code",
   "execution_count": 235,
   "metadata": {},
   "outputs": [
    {
     "data": {
      "text/plain": [
       "4.9306037612327644"
      ]
     },
     "execution_count": 235,
     "metadata": {},
     "output_type": "execute_result"
    }
   ],
   "source": [
    "max_val"
   ]
  },
  {
   "cell_type": "code",
   "execution_count": 237,
   "metadata": {},
   "outputs": [
    {
     "data": {
      "text/plain": [
       "(0.0, 0.0, 0.3, 1.0)"
      ]
     },
     "execution_count": 237,
     "metadata": {},
     "output_type": "execute_result"
    }
   ],
   "source": [
    "mapper.to_rgba(0)"
   ]
  },
  {
   "cell_type": "code",
   "execution_count": 190,
   "metadata": {},
   "outputs": [],
   "source": [
    "dat.to_csv(os.path.join(path, 'ontology_v2.csv'), index=False)"
   ]
  },
  {
   "cell_type": "code",
   "execution_count": 185,
   "metadata": {},
   "outputs": [],
   "source": [
    "pltdat = np.array([[max_val+1, -max_val+1], [max_val+1, -max_val+1]])"
   ]
  },
  {
   "cell_type": "code",
   "execution_count": 186,
   "metadata": {},
   "outputs": [
    {
     "data": {
      "text/plain": [
       "array([[ 5.93060376, -3.93060376],\n",
       "       [ 5.93060376, -3.93060376]])"
      ]
     },
     "execution_count": 186,
     "metadata": {},
     "output_type": "execute_result"
    }
   ],
   "source": [
    "pltdat"
   ]
  },
  {
   "cell_type": "code",
   "execution_count": 218,
   "metadata": {},
   "outputs": [
    {
     "data": {
      "image/png": "[encoded data removed]",
      "text/plain": [
       "<matplotlib.figure.Figure at 0x1ad1ef98>"
      ]
     },
     "metadata": {},
     "output_type": "display_data"
    }
   ],
   "source": [
    "fig = plt.figure(figsize=(2, 3))\n",
    "f = plt.imshow(pltdat, cmap=cm.seismic)\n",
    "plt.axis('off')\n",
    "cbar = fig.colorbar(f)\n",
    "plt.setp(plt.getp(cbar.ax.axes, 'yticklabels'), color='k')\n",
    "plt.savefig(r'C:\\Users\\jenniferwh\\Dropbox (Allen Institute)\\Mesoscale Connectome Papers in Progress\\2018 Plaque\\figures\\modules\\density_cbar.pdf',\n",
    "           bbox_inches='tight', pad_inches=0.3, format='pdf', transparent = True, dpi=300)"
   ]
  },
  {
   "cell_type": "code",
   "execution_count": 219,
   "metadata": {},
   "outputs": [
    {
     "data": {
      "text/plain": [
       "(0.5, 0.0, 0.0, 1.0)"
      ]
     },
     "execution_count": 219,
     "metadata": {},
     "output_type": "execute_result"
    }
   ],
   "source": [
    "mapper.to_rgba(5)"
   ]
  },
  {
   "cell_type": "code",
   "execution_count": 220,
   "metadata": {},
   "outputs": [
    {
     "data": {
      "text/plain": [
       "4.9306037612327644"
      ]
     },
     "execution_count": 220,
     "metadata": {},
     "output_type": "execute_result"
    }
   ],
   "source": [
    "max(moddat['Relative Plaque Density'])"
   ]
  },
  {
   "cell_type": "code",
   "execution_count": null,
   "metadata": {
    "collapsed": true
   },
   "outputs": [],
   "source": []
  },
  {
   "cell_type": "code",
   "execution_count": null,
   "metadata": {
    "collapsed": true
   },
   "outputs": [],
   "source": []
  },
  {
   "cell_type": "code",
   "execution_count": null,
   "metadata": {
    "collapsed": true
   },
   "outputs": [],
   "source": []
  },
  {
   "cell_type": "code",
   "execution_count": null,
   "metadata": {
    "collapsed": true
   },
   "outputs": [],
   "source": []
  }
 ],
 "metadata": {
  "kernelspec": {
   "display_name": "Python 2",
   "language": "python",
   "name": "python2"
  },
  "language_info": {
   "codemirror_mode": {
    "name": "ipython",
    "version": 2
   },
   "file_extension": ".py",
   "mimetype": "text/x-python",
   "name": "python",
   "nbconvert_exporter": "python",
   "pygments_lexer": "ipython2",
   "version": "2.7.14"
  }
 },
 "nbformat": 4,
 "nbformat_minor": 2
}
