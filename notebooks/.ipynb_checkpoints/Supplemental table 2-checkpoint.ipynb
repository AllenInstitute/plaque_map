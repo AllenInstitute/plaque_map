{
 "cells": [
  {
   "cell_type": "code",
   "execution_count": 17,
   "metadata": {
    "collapsed": true
   },
   "outputs": [],
   "source": [
    "import os\n",
    "import pandas as pd\n",
    "\n",
    "from allensdk.core.mouse_connectivity_cache import MouseConnectivityCache"
   ]
  },
  {
   "cell_type": "code",
   "execution_count": 56,
   "metadata": {
    "collapsed": true
   },
   "outputs": [],
   "source": [
    "path = r'C:\\Users\\jenniferwh\\Dropbox (Allen Institute)\\Mesoscale Connectome Papers in Progress\\2018 Plaque\\unionizes'\n",
    "savepath = r'C:\\Users\\jenniferwh\\Dropbox (Allen Institute)\\Mesoscale Connectome Papers in Progress\\2018 Plaque\\_JCN submission\\supplementary tables'"
   ]
  },
  {
   "cell_type": "code",
   "execution_count": 64,
   "metadata": {
    "collapsed": true
   },
   "outputs": [],
   "source": [
    "dat = pd.read_csv(os.path.join(path, 'plaque_unionizes.csv'))"
   ]
  },
  {
   "cell_type": "code",
   "execution_count": 65,
   "metadata": {},
   "outputs": [
    {
     "data": {
      "text/plain": [
       "146"
      ]
     },
     "execution_count": 65,
     "metadata": {},
     "output_type": "execute_result"
    }
   ],
   "source": [
    "len(dat['image_series_id'].unique())"
   ]
  },
  {
   "cell_type": "code",
   "execution_count": 66,
   "metadata": {
    "collapsed": true
   },
   "outputs": [],
   "source": [
    "output_dat = dat[['mouse_line', 'age_group', 'structure_acronym', 'sum_plaques', 'plaque_density']]"
   ]
  },
  {
   "cell_type": "code",
   "execution_count": 67,
   "metadata": {},
   "outputs": [],
   "source": [
    "s_table_2 = output_dat.groupby(['mouse_line', 'age_group', 'structure_acronym']).median().reset_index()"
   ]
  },
  {
   "cell_type": "code",
   "execution_count": 68,
   "metadata": {},
   "outputs": [
    {
     "data": {
      "text/html": [
       "<div>\n",
       "<style scoped>\n",
       "    .dataframe tbody tr th:only-of-type {\n",
       "        vertical-align: middle;\n",
       "    }\n",
       "\n",
       "    .dataframe tbody tr th {\n",
       "        vertical-align: top;\n",
       "    }\n",
       "\n",
       "    .dataframe thead th {\n",
       "        text-align: right;\n",
       "    }\n",
       "</style>\n",
       "<table border=\"1\" class=\"dataframe\">\n",
       "  <thead>\n",
       "    <tr style=\"text-align: right;\">\n",
       "      <th></th>\n",
       "      <th>mouse_line</th>\n",
       "      <th>age_group</th>\n",
       "      <th>structure_acronym</th>\n",
       "      <th>sum_plaques</th>\n",
       "      <th>plaque_density</th>\n",
       "    </tr>\n",
       "  </thead>\n",
       "  <tbody>\n",
       "    <tr>\n",
       "      <th>0</th>\n",
       "      <td>APP/PS1</td>\n",
       "      <td>13 mo</td>\n",
       "      <td>AAA</td>\n",
       "      <td>6.5</td>\n",
       "      <td>0.000514</td>\n",
       "    </tr>\n",
       "    <tr>\n",
       "      <th>1</th>\n",
       "      <td>APP/PS1</td>\n",
       "      <td>13 mo</td>\n",
       "      <td>ACA</td>\n",
       "      <td>270.5</td>\n",
       "      <td>0.006061</td>\n",
       "    </tr>\n",
       "    <tr>\n",
       "      <th>2</th>\n",
       "      <td>APP/PS1</td>\n",
       "      <td>13 mo</td>\n",
       "      <td>ACAd</td>\n",
       "      <td>150.0</td>\n",
       "      <td>0.006134</td>\n",
       "    </tr>\n",
       "    <tr>\n",
       "      <th>3</th>\n",
       "      <td>APP/PS1</td>\n",
       "      <td>13 mo</td>\n",
       "      <td>ACAd1</td>\n",
       "      <td>20.0</td>\n",
       "      <td>0.005536</td>\n",
       "    </tr>\n",
       "    <tr>\n",
       "      <th>4</th>\n",
       "      <td>APP/PS1</td>\n",
       "      <td>13 mo</td>\n",
       "      <td>ACAd2/3</td>\n",
       "      <td>26.0</td>\n",
       "      <td>0.005158</td>\n",
       "    </tr>\n",
       "  </tbody>\n",
       "</table>\n",
       "</div>"
      ],
      "text/plain": [
       "  mouse_line age_group structure_acronym  sum_plaques  plaque_density\n",
       "0    APP/PS1     13 mo               AAA          6.5        0.000514\n",
       "1    APP/PS1     13 mo               ACA        270.5        0.006061\n",
       "2    APP/PS1     13 mo              ACAd        150.0        0.006134\n",
       "3    APP/PS1     13 mo             ACAd1         20.0        0.005536\n",
       "4    APP/PS1     13 mo           ACAd2/3         26.0        0.005158"
      ]
     },
     "execution_count": 68,
     "metadata": {},
     "output_type": "execute_result"
    }
   ],
   "source": [
    "s_table_2.head()"
   ]
  },
  {
   "cell_type": "code",
   "execution_count": 69,
   "metadata": {},
   "outputs": [],
   "source": [
    "s_table_2.rename(columns = {'sum_plaques': 'median_plaque_count',\n",
    "                           'plaque_density':'median_plaque_density'}, inplace = True)"
   ]
  },
  {
   "cell_type": "code",
   "execution_count": 70,
   "metadata": {},
   "outputs": [
    {
     "data": {
      "text/html": [
       "<div>\n",
       "<style scoped>\n",
       "    .dataframe tbody tr th:only-of-type {\n",
       "        vertical-align: middle;\n",
       "    }\n",
       "\n",
       "    .dataframe tbody tr th {\n",
       "        vertical-align: top;\n",
       "    }\n",
       "\n",
       "    .dataframe thead th {\n",
       "        text-align: right;\n",
       "    }\n",
       "</style>\n",
       "<table border=\"1\" class=\"dataframe\">\n",
       "  <thead>\n",
       "    <tr style=\"text-align: right;\">\n",
       "      <th></th>\n",
       "      <th>mouse_line</th>\n",
       "      <th>age_group</th>\n",
       "      <th>structure_acronym</th>\n",
       "      <th>median_plaque_count</th>\n",
       "      <th>median_plaque_density</th>\n",
       "    </tr>\n",
       "  </thead>\n",
       "  <tbody>\n",
       "    <tr>\n",
       "      <th>0</th>\n",
       "      <td>APP/PS1</td>\n",
       "      <td>13 mo</td>\n",
       "      <td>AAA</td>\n",
       "      <td>6.5</td>\n",
       "      <td>0.000514</td>\n",
       "    </tr>\n",
       "    <tr>\n",
       "      <th>1</th>\n",
       "      <td>APP/PS1</td>\n",
       "      <td>13 mo</td>\n",
       "      <td>ACA</td>\n",
       "      <td>270.5</td>\n",
       "      <td>0.006061</td>\n",
       "    </tr>\n",
       "    <tr>\n",
       "      <th>2</th>\n",
       "      <td>APP/PS1</td>\n",
       "      <td>13 mo</td>\n",
       "      <td>ACAd</td>\n",
       "      <td>150.0</td>\n",
       "      <td>0.006134</td>\n",
       "    </tr>\n",
       "    <tr>\n",
       "      <th>3</th>\n",
       "      <td>APP/PS1</td>\n",
       "      <td>13 mo</td>\n",
       "      <td>ACAd1</td>\n",
       "      <td>20.0</td>\n",
       "      <td>0.005536</td>\n",
       "    </tr>\n",
       "    <tr>\n",
       "      <th>4</th>\n",
       "      <td>APP/PS1</td>\n",
       "      <td>13 mo</td>\n",
       "      <td>ACAd2/3</td>\n",
       "      <td>26.0</td>\n",
       "      <td>0.005158</td>\n",
       "    </tr>\n",
       "  </tbody>\n",
       "</table>\n",
       "</div>"
      ],
      "text/plain": [
       "  mouse_line age_group structure_acronym  median_plaque_count  \\\n",
       "0    APP/PS1     13 mo               AAA                  6.5   \n",
       "1    APP/PS1     13 mo               ACA                270.5   \n",
       "2    APP/PS1     13 mo              ACAd                150.0   \n",
       "3    APP/PS1     13 mo             ACAd1                 20.0   \n",
       "4    APP/PS1     13 mo           ACAd2/3                 26.0   \n",
       "\n",
       "   median_plaque_density  \n",
       "0               0.000514  \n",
       "1               0.006061  \n",
       "2               0.006134  \n",
       "3               0.005536  \n",
       "4               0.005158  "
      ]
     },
     "execution_count": 70,
     "metadata": {},
     "output_type": "execute_result"
    }
   ],
   "source": [
    "s_table_2.head()"
   ]
  },
  {
   "cell_type": "code",
   "execution_count": 71,
   "metadata": {},
   "outputs": [],
   "source": [
    "s_table_2['first_quartile_plaque_density'] = output_dat.groupby(\n",
    "    ['mouse_line', 'age_group', 'structure_acronym']).quantile(.25)['plaque_density'].values"
   ]
  },
  {
   "cell_type": "code",
   "execution_count": 72,
   "metadata": {
    "collapsed": true
   },
   "outputs": [],
   "source": [
    "s_table_2['third_quartile_plaque_density'] = output_dat.groupby(\n",
    "    ['mouse_line', 'age_group', 'structure_acronym']).quantile(.75)['plaque_density'].values"
   ]
  },
  {
   "cell_type": "code",
   "execution_count": 73,
   "metadata": {
    "collapsed": true
   },
   "outputs": [],
   "source": [
    "s_table_2['minimum_plaque_density'] = output_dat.groupby(\n",
    "    ['mouse_line', 'age_group', 'structure_acronym']).min()['plaque_density'].values"
   ]
  },
  {
   "cell_type": "code",
   "execution_count": 74,
   "metadata": {
    "collapsed": true
   },
   "outputs": [],
   "source": [
    "s_table_2['maximum_plaque_density'] = output_dat.groupby(\n",
    "    ['mouse_line', 'age_group', 'structure_acronym']).max()['plaque_density'].values"
   ]
  },
  {
   "cell_type": "code",
   "execution_count": 75,
   "metadata": {},
   "outputs": [
    {
     "data": {
      "text/html": [
       "<div>\n",
       "<style scoped>\n",
       "    .dataframe tbody tr th:only-of-type {\n",
       "        vertical-align: middle;\n",
       "    }\n",
       "\n",
       "    .dataframe tbody tr th {\n",
       "        vertical-align: top;\n",
       "    }\n",
       "\n",
       "    .dataframe thead th {\n",
       "        text-align: right;\n",
       "    }\n",
       "</style>\n",
       "<table border=\"1\" class=\"dataframe\">\n",
       "  <thead>\n",
       "    <tr style=\"text-align: right;\">\n",
       "      <th></th>\n",
       "      <th>mouse_line</th>\n",
       "      <th>age_group</th>\n",
       "      <th>structure_acronym</th>\n",
       "      <th>median_plaque_count</th>\n",
       "      <th>median_plaque_density</th>\n",
       "      <th>first_quartile_plaque_density</th>\n",
       "      <th>third_quartile_plaque_density</th>\n",
       "      <th>minimum_plaque_density</th>\n",
       "      <th>maximum_plaque_density</th>\n",
       "    </tr>\n",
       "  </thead>\n",
       "  <tbody>\n",
       "    <tr>\n",
       "      <th>0</th>\n",
       "      <td>APP/PS1</td>\n",
       "      <td>13 mo</td>\n",
       "      <td>AAA</td>\n",
       "      <td>6.5</td>\n",
       "      <td>0.000514</td>\n",
       "      <td>0.000119</td>\n",
       "      <td>0.001020</td>\n",
       "      <td>0.0</td>\n",
       "      <td>0.002669</td>\n",
       "    </tr>\n",
       "    <tr>\n",
       "      <th>1</th>\n",
       "      <td>APP/PS1</td>\n",
       "      <td>13 mo</td>\n",
       "      <td>ACA</td>\n",
       "      <td>270.5</td>\n",
       "      <td>0.006061</td>\n",
       "      <td>0.003157</td>\n",
       "      <td>0.008807</td>\n",
       "      <td>0.0</td>\n",
       "      <td>0.023826</td>\n",
       "    </tr>\n",
       "    <tr>\n",
       "      <th>2</th>\n",
       "      <td>APP/PS1</td>\n",
       "      <td>13 mo</td>\n",
       "      <td>ACAd</td>\n",
       "      <td>150.0</td>\n",
       "      <td>0.006134</td>\n",
       "      <td>0.003333</td>\n",
       "      <td>0.009595</td>\n",
       "      <td>0.0</td>\n",
       "      <td>0.023739</td>\n",
       "    </tr>\n",
       "    <tr>\n",
       "      <th>3</th>\n",
       "      <td>APP/PS1</td>\n",
       "      <td>13 mo</td>\n",
       "      <td>ACAd1</td>\n",
       "      <td>20.0</td>\n",
       "      <td>0.005536</td>\n",
       "      <td>0.001960</td>\n",
       "      <td>0.008510</td>\n",
       "      <td>0.0</td>\n",
       "      <td>0.016779</td>\n",
       "    </tr>\n",
       "    <tr>\n",
       "      <th>4</th>\n",
       "      <td>APP/PS1</td>\n",
       "      <td>13 mo</td>\n",
       "      <td>ACAd2/3</td>\n",
       "      <td>26.0</td>\n",
       "      <td>0.005158</td>\n",
       "      <td>0.002405</td>\n",
       "      <td>0.009613</td>\n",
       "      <td>0.0</td>\n",
       "      <td>0.020641</td>\n",
       "    </tr>\n",
       "  </tbody>\n",
       "</table>\n",
       "</div>"
      ],
      "text/plain": [
       "  mouse_line age_group structure_acronym  median_plaque_count  \\\n",
       "0    APP/PS1     13 mo               AAA                  6.5   \n",
       "1    APP/PS1     13 mo               ACA                270.5   \n",
       "2    APP/PS1     13 mo              ACAd                150.0   \n",
       "3    APP/PS1     13 mo             ACAd1                 20.0   \n",
       "4    APP/PS1     13 mo           ACAd2/3                 26.0   \n",
       "\n",
       "   median_plaque_density  first_quartile_plaque_density  \\\n",
       "0               0.000514                       0.000119   \n",
       "1               0.006061                       0.003157   \n",
       "2               0.006134                       0.003333   \n",
       "3               0.005536                       0.001960   \n",
       "4               0.005158                       0.002405   \n",
       "\n",
       "   third_quartile_plaque_density  minimum_plaque_density  \\\n",
       "0                       0.001020                     0.0   \n",
       "1                       0.008807                     0.0   \n",
       "2                       0.009595                     0.0   \n",
       "3                       0.008510                     0.0   \n",
       "4                       0.009613                     0.0   \n",
       "\n",
       "   maximum_plaque_density  \n",
       "0                0.002669  \n",
       "1                0.023826  \n",
       "2                0.023739  \n",
       "3                0.016779  \n",
       "4                0.020641  "
      ]
     },
     "execution_count": 75,
     "metadata": {},
     "output_type": "execute_result"
    }
   ],
   "source": [
    "s_table_2.head()"
   ]
  },
  {
   "cell_type": "code",
   "execution_count": 76,
   "metadata": {},
   "outputs": [],
   "source": [
    "s_table_2.to_csv(os.path.join(savepath, 'Supplementary Table 2 Plaque Density and Count.csv'), index=False)"
   ]
  },
  {
   "cell_type": "code",
   "execution_count": 25,
   "metadata": {
    "collapsed": true
   },
   "outputs": [],
   "source": [
    "mcc = MouseConnectivityCache(manifest_file = '../connectivity/mouse_connectivity_manifest.json')"
   ]
  },
  {
   "cell_type": "code",
   "execution_count": 27,
   "metadata": {},
   "outputs": [
    {
     "name": "stdout",
     "output_type": "stream",
     "text": [
      "13\n"
     ]
    }
   ],
   "source": [
    "st = mcc.get_structure_tree()\n",
    "coarse_structures = st.get_structures_by_set_id([687527670])\n",
    "coarse_structure_ids = [item['id'] for item in coarse_structures]\n",
    "coarse_structure_acronyms = [item['acronym'] for item in coarse_structures]\n",
    "ft = st.get_structures_by_acronym(['fiber tracts'])\n",
    "coarse_structure_ids.append(ft[0]['id'])\n",
    "coarse_structure_acronyms.append(ft[0]['acronym'])\n",
    "print(len(coarse_structure_ids))"
   ]
  },
  {
   "cell_type": "code",
   "execution_count": 28,
   "metadata": {},
   "outputs": [
    {
     "name": "stdout",
     "output_type": "stream",
     "text": [
      "316\n"
     ]
    }
   ],
   "source": [
    "ss = st.get_structures_by_set_id([167587189])\n",
    "ss_acronyms = [item['acronym'] for item in ss]\n",
    "ss_ids = [item['id'] for item in ss]\n",
    "print(len(ss_acronyms))"
   ]
  },
  {
   "cell_type": "code",
   "execution_count": null,
   "metadata": {
    "collapsed": true
   },
   "outputs": [],
   "source": []
  }
 ],
 "metadata": {
  "kernelspec": {
   "display_name": "Python 2",
   "language": "python",
   "name": "python2"
  },
  "language_info": {
   "codemirror_mode": {
    "name": "ipython",
    "version": 2
   },
   "file_extension": ".py",
   "mimetype": "text/x-python",
   "name": "python",
   "nbconvert_exporter": "python",
   "pygments_lexer": "ipython2",
   "version": "2.7.14"
  }
 },
 "nbformat": 4,
 "nbformat_minor": 2
}
