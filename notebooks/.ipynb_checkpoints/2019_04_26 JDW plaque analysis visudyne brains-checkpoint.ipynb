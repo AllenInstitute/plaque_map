{
 "cells": [
  {
   "cell_type": "code",
   "execution_count": 1,
   "metadata": {},
   "outputs": [],
   "source": [
    "import os\n",
    "import numpy as np\n",
    "import pandas as pd\n",
    "import matplotlib.pyplot as plt\n",
    "import seaborn as sns\n",
    "from allensdk.core.mouse_connectivity_cache import MouseConnectivityCache\n",
    "from matplotlib import cm\n",
    "import operator\n",
    "import matplotlib.ticker as ticker\n",
    "from scipy import stats\n",
    "import statsmodels.api as sm\n",
    "from statsmodels.formula.api import ols\n",
    "from statsmodels.stats.anova import anova_lm\n",
    "import matplotlib.lines as mlines\n",
    "\n",
    "sns.set_context('paper')\n",
    "sns.set_style('white')\n",
    "%matplotlib inline\n",
    "\n",
    "import matplotlib as mpl\n",
    "mpl.rcParams['pdf.fonttype'] = 42\n",
    "\n",
    "import statsmodels.api as sm\n",
    "import statsmodels.formula.api as smf"
   ]
  },
  {
   "cell_type": "code",
   "execution_count": 2,
   "metadata": {},
   "outputs": [],
   "source": [
    "path = r'/Users/jenniferwh/Dropbox/Visudyne_data'\n",
    "savepath = os.path.join(path, 'figures')"
   ]
  },
  {
   "cell_type": "code",
   "execution_count": 3,
   "metadata": {},
   "outputs": [
    {
     "data": {
      "text/html": [
       "<div>\n",
       "<style scoped>\n",
       "    .dataframe tbody tr th:only-of-type {\n",
       "        vertical-align: middle;\n",
       "    }\n",
       "\n",
       "    .dataframe tbody tr th {\n",
       "        vertical-align: top;\n",
       "    }\n",
       "\n",
       "    .dataframe thead th {\n",
       "        text-align: right;\n",
       "    }\n",
       "</style>\n",
       "<table border=\"1\" class=\"dataframe\">\n",
       "  <thead>\n",
       "    <tr style=\"text-align: right;\">\n",
       "      <th></th>\n",
       "      <th>avg_plaque_size</th>\n",
       "      <th>avg_plaque_volume</th>\n",
       "      <th>hemisphere_id</th>\n",
       "      <th>image_series_id</th>\n",
       "      <th>is_injection</th>\n",
       "      <th>plaque_density</th>\n",
       "      <th>plaque_volume</th>\n",
       "      <th>structure_id</th>\n",
       "      <th>sum_pixels</th>\n",
       "      <th>sum_plaque_pixels</th>\n",
       "      <th>sum_plaque_sizes</th>\n",
       "      <th>sum_plaque_volumes</th>\n",
       "      <th>sum_plaques</th>\n",
       "      <th>volume</th>\n",
       "    </tr>\n",
       "  </thead>\n",
       "  <tbody>\n",
       "    <tr>\n",
       "      <th>0</th>\n",
       "      <td>0.000000</td>\n",
       "      <td>0.000000</td>\n",
       "      <td>2</td>\n",
       "      <td>852315754</td>\n",
       "      <td>False</td>\n",
       "      <td>1.598692e-08</td>\n",
       "      <td>1.775512e-09</td>\n",
       "      <td>1</td>\n",
       "      <td>9.066148e+07</td>\n",
       "      <td>1.449398e+00</td>\n",
       "      <td>0.0</td>\n",
       "      <td>0.000000</td>\n",
       "      <td>0</td>\n",
       "      <td>0.111060</td>\n",
       "    </tr>\n",
       "    <tr>\n",
       "      <th>1</th>\n",
       "      <td>269.500000</td>\n",
       "      <td>20.822460</td>\n",
       "      <td>2</td>\n",
       "      <td>852315754</td>\n",
       "      <td>False</td>\n",
       "      <td>4.823449e-04</td>\n",
       "      <td>5.677553e-05</td>\n",
       "      <td>2</td>\n",
       "      <td>9.608762e+07</td>\n",
       "      <td>4.634738e+04</td>\n",
       "      <td>539.0</td>\n",
       "      <td>41.644920</td>\n",
       "      <td>2</td>\n",
       "      <td>0.117707</td>\n",
       "    </tr>\n",
       "    <tr>\n",
       "      <th>2</th>\n",
       "      <td>355.615942</td>\n",
       "      <td>16.181612</td>\n",
       "      <td>2</td>\n",
       "      <td>852315754</td>\n",
       "      <td>False</td>\n",
       "      <td>9.781121e-04</td>\n",
       "      <td>4.479688e-03</td>\n",
       "      <td>4</td>\n",
       "      <td>3.738721e+09</td>\n",
       "      <td>3.656888e+06</td>\n",
       "      <td>49075.0</td>\n",
       "      <td>2233.062469</td>\n",
       "      <td>138</td>\n",
       "      <td>4.579933</td>\n",
       "    </tr>\n",
       "    <tr>\n",
       "      <th>3</th>\n",
       "      <td>201.500000</td>\n",
       "      <td>10.918789</td>\n",
       "      <td>2</td>\n",
       "      <td>852315754</td>\n",
       "      <td>False</td>\n",
       "      <td>2.258418e-05</td>\n",
       "      <td>4.879701e-05</td>\n",
       "      <td>6</td>\n",
       "      <td>1.763814e+09</td>\n",
       "      <td>3.983430e+04</td>\n",
       "      <td>403.0</td>\n",
       "      <td>21.837578</td>\n",
       "      <td>2</td>\n",
       "      <td>2.160672</td>\n",
       "    </tr>\n",
       "    <tr>\n",
       "      <th>4</th>\n",
       "      <td>261.187500</td>\n",
       "      <td>11.311659</td>\n",
       "      <td>2</td>\n",
       "      <td>852315754</td>\n",
       "      <td>False</td>\n",
       "      <td>6.747078e-04</td>\n",
       "      <td>7.688343e-04</td>\n",
       "      <td>7</td>\n",
       "      <td>9.302099e+08</td>\n",
       "      <td>6.276199e+05</td>\n",
       "      <td>8358.0</td>\n",
       "      <td>361.973083</td>\n",
       "      <td>32</td>\n",
       "      <td>1.139507</td>\n",
       "    </tr>\n",
       "  </tbody>\n",
       "</table>\n",
       "</div>"
      ],
      "text/plain": [
       "   avg_plaque_size  avg_plaque_volume  hemisphere_id  image_series_id  \\\n",
       "0         0.000000           0.000000              2        852315754   \n",
       "1       269.500000          20.822460              2        852315754   \n",
       "2       355.615942          16.181612              2        852315754   \n",
       "3       201.500000          10.918789              2        852315754   \n",
       "4       261.187500          11.311659              2        852315754   \n",
       "\n",
       "   is_injection  plaque_density  plaque_volume  structure_id    sum_pixels  \\\n",
       "0         False    1.598692e-08   1.775512e-09             1  9.066148e+07   \n",
       "1         False    4.823449e-04   5.677553e-05             2  9.608762e+07   \n",
       "2         False    9.781121e-04   4.479688e-03             4  3.738721e+09   \n",
       "3         False    2.258418e-05   4.879701e-05             6  1.763814e+09   \n",
       "4         False    6.747078e-04   7.688343e-04             7  9.302099e+08   \n",
       "\n",
       "   sum_plaque_pixels  sum_plaque_sizes  sum_plaque_volumes  sum_plaques  \\\n",
       "0       1.449398e+00               0.0            0.000000            0   \n",
       "1       4.634738e+04             539.0           41.644920            2   \n",
       "2       3.656888e+06           49075.0         2233.062469          138   \n",
       "3       3.983430e+04             403.0           21.837578            2   \n",
       "4       6.276199e+05            8358.0          361.973083           32   \n",
       "\n",
       "     volume  \n",
       "0  0.111060  \n",
       "1  0.117707  \n",
       "2  4.579933  \n",
       "3  2.160672  \n",
       "4  1.139507  "
      ]
     },
     "execution_count": 3,
     "metadata": {},
     "output_type": "execute_result"
    }
   ],
   "source": [
    "dat = pd.read_csv(os.path.join(path,'plaque_unionizes.csv'))\n",
    "dat = dat[~dat['image_series_id'].isin([839865072, 849059339, 852332262])]\n",
    "dat.head()"
   ]
  },
  {
   "cell_type": "code",
   "execution_count": 4,
   "metadata": {},
   "outputs": [
    {
     "data": {
      "text/plain": [
       "8"
      ]
     },
     "execution_count": 4,
     "metadata": {},
     "output_type": "execute_result"
    }
   ],
   "source": [
    "len(dat['image_series_id'].unique())"
   ]
  },
  {
   "cell_type": "code",
   "execution_count": 5,
   "metadata": {},
   "outputs": [],
   "source": [
    "dataset = pd.read_csv(os.path.join(path, 'visudyne_brains_tracking_sheet.csv'))\n",
    "dataset = dataset[~dataset['image_series_id'].isin([839865072, 849059339, 852332262])]"
   ]
  },
  {
   "cell_type": "code",
   "execution_count": 6,
   "metadata": {},
   "outputs": [],
   "source": [
    "dat['count_per_mm_3'] = dat['sum_plaques']/dat['volume'] #to convert to plaques per mm^3\n",
    "dat['avg_plaque_volume'] = dat['avg_plaque_volume']/1000 #to convert to cubic microns"
   ]
  },
  {
   "cell_type": "code",
   "execution_count": 7,
   "metadata": {},
   "outputs": [
    {
     "data": {
      "text/plain": [
       "array(['J20', '5xFAD'], dtype=object)"
      ]
     },
     "execution_count": 7,
     "metadata": {},
     "output_type": "execute_result"
    }
   ],
   "source": [
    "dataset['mouse_line'].unique()"
   ]
  },
  {
   "cell_type": "code",
   "execution_count": 8,
   "metadata": {},
   "outputs": [
    {
     "name": "stdout",
     "output_type": "stream",
     "text": [
      "316\n"
     ]
    }
   ],
   "source": [
    "mcc = MouseConnectivityCache(manifest_file = '../connectivity/mouse_connectivity_manifest.json')\n",
    "st = mcc.get_structure_tree()\n",
    "summary_structures = st.get_structures_by_set_id([167587189])\n",
    "summary_structure_ids = [item['id'] for item in summary_structures]\n",
    "ss_acronyms = [item['acronym'] for item in summary_structures]\n",
    "ont_order = [item['graph_order'] for item in summary_structures]\n",
    "ont_order_dict = dict(zip(ss_acronyms, ont_order))\n",
    "print(len(summary_structure_ids))"
   ]
  },
  {
   "cell_type": "code",
   "execution_count": 9,
   "metadata": {},
   "outputs": [
    {
     "name": "stdout",
     "output_type": "stream",
     "text": [
      "13\n"
     ]
    }
   ],
   "source": [
    "coarse_structures = st.get_structures_by_set_id([687527670])\n",
    "coarse_structure_ids = [item['id'] for item in coarse_structures]\n",
    "coarse_structure_acronyms = [item['acronym'] for item in coarse_structures]\n",
    "ft = st.get_structures_by_acronym(['fiber tracts'])\n",
    "coarse_structure_ids.append(ft[0]['id'])\n",
    "coarse_structure_acronyms.append(ft[0]['acronym'])\n",
    "ont_order = [item['graph_order'] for item in coarse_structures]\n",
    "ont_order.append(ft[0]['graph_order'])\n",
    "oo_dict_coarse = dict(zip(coarse_structure_acronyms, ont_order))\n",
    "print(len(coarse_structure_ids))"
   ]
  },
  {
   "cell_type": "code",
   "execution_count": 10,
   "metadata": {},
   "outputs": [],
   "source": [
    "mcc = MouseConnectivityCache(manifest_file = '../connectivity/mouse_connectivity_manifest.json')\n",
    "structure_tree = mcc.get_structure_tree()\n",
    "ia_map = structure_tree.get_id_acronym_map()\n",
    "ai_map = {value:key for key, value in ia_map.items()}"
   ]
  },
  {
   "cell_type": "code",
   "execution_count": 11,
   "metadata": {},
   "outputs": [],
   "source": [
    "structures = summary_structure_ids + coarse_structure_ids + [997]"
   ]
  },
  {
   "cell_type": "code",
   "execution_count": 12,
   "metadata": {},
   "outputs": [],
   "source": [
    "dat['structure_acronym'] = [ai_map[structure] for structure in dat['structure_id']]"
   ]
  },
  {
   "cell_type": "code",
   "execution_count": 13,
   "metadata": {},
   "outputs": [
    {
     "data": {
      "text/html": [
       "<div>\n",
       "<style scoped>\n",
       "    .dataframe tbody tr th:only-of-type {\n",
       "        vertical-align: middle;\n",
       "    }\n",
       "\n",
       "    .dataframe tbody tr th {\n",
       "        vertical-align: top;\n",
       "    }\n",
       "\n",
       "    .dataframe thead th {\n",
       "        text-align: right;\n",
       "    }\n",
       "</style>\n",
       "<table border=\"1\" class=\"dataframe\">\n",
       "  <thead>\n",
       "    <tr style=\"text-align: right;\">\n",
       "      <th></th>\n",
       "      <th>mouse_line</th>\n",
       "      <th>treatment</th>\n",
       "      <th>Age euthanized</th>\n",
       "      <th>sample_code</th>\n",
       "      <th>Pedigree</th>\n",
       "      <th>mouse_id</th>\n",
       "      <th>image_series_id</th>\n",
       "      <th>Image quality</th>\n",
       "      <th>segmentation</th>\n",
       "      <th>grid</th>\n",
       "    </tr>\n",
       "  </thead>\n",
       "  <tbody>\n",
       "    <tr>\n",
       "      <th>1</th>\n",
       "      <td>J20</td>\n",
       "      <td>Vis</td>\n",
       "      <td>11.5 months</td>\n",
       "      <td>J20 Vis 1</td>\n",
       "      <td>hAPP-J20-448120</td>\n",
       "      <td>448120</td>\n",
       "      <td>827568692</td>\n",
       "      <td>Pass</td>\n",
       "      <td>NaN</td>\n",
       "      <td>mild edge background in ctx, CB, aqueduct</td>\n",
       "    </tr>\n",
       "    <tr>\n",
       "      <th>2</th>\n",
       "      <td>J20</td>\n",
       "      <td>Vis</td>\n",
       "      <td>11.5 months</td>\n",
       "      <td>J20 Vis 2</td>\n",
       "      <td>hAPP-J20-448121</td>\n",
       "      <td>448121</td>\n",
       "      <td>847795969</td>\n",
       "      <td>Pass</td>\n",
       "      <td>NaN</td>\n",
       "      <td>a few edge artifacts in cerebellum and OB but ...</td>\n",
       "    </tr>\n",
       "    <tr>\n",
       "      <th>3</th>\n",
       "      <td>J20</td>\n",
       "      <td>V + P</td>\n",
       "      <td>11.5 months</td>\n",
       "      <td>J20 V+P 2</td>\n",
       "      <td>hAPP-J20-448122</td>\n",
       "      <td>448122</td>\n",
       "      <td>846176900</td>\n",
       "      <td>Pass</td>\n",
       "      <td>NaN</td>\n",
       "      <td>ok - fps in ENT L1</td>\n",
       "    </tr>\n",
       "    <tr>\n",
       "      <th>4</th>\n",
       "      <td>J20</td>\n",
       "      <td>V + P</td>\n",
       "      <td>11.5 months</td>\n",
       "      <td>J20 V+P 3</td>\n",
       "      <td>hAPP-J20-448123</td>\n",
       "      <td>448123</td>\n",
       "      <td>849058585</td>\n",
       "      <td>severe tissue deformation but alignment is decent</td>\n",
       "      <td>NaN</td>\n",
       "      <td>ok</td>\n",
       "    </tr>\n",
       "    <tr>\n",
       "      <th>6</th>\n",
       "      <td>5xFAD</td>\n",
       "      <td>Vis</td>\n",
       "      <td>3.5 months</td>\n",
       "      <td>5xFAD Vis 1</td>\n",
       "      <td>5XFAD-448125</td>\n",
       "      <td>448125</td>\n",
       "      <td>850921212</td>\n",
       "      <td>Pass</td>\n",
       "      <td>NaN</td>\n",
       "      <td>good</td>\n",
       "    </tr>\n",
       "  </tbody>\n",
       "</table>\n",
       "</div>"
      ],
      "text/plain": [
       "  mouse_line treatment Age euthanized  sample_code         Pedigree  mouse_id  \\\n",
       "1        J20       Vis    11.5 months    J20 Vis 1  hAPP-J20-448120    448120   \n",
       "2        J20       Vis    11.5 months    J20 Vis 2  hAPP-J20-448121    448121   \n",
       "3        J20     V + P    11.5 months    J20 V+P 2  hAPP-J20-448122    448122   \n",
       "4        J20     V + P    11.5 months    J20 V+P 3  hAPP-J20-448123    448123   \n",
       "6      5xFAD       Vis     3.5 months  5xFAD Vis 1     5XFAD-448125    448125   \n",
       "\n",
       "   image_series_id                                      Image quality  \\\n",
       "1        827568692                                               Pass   \n",
       "2        847795969                                               Pass   \n",
       "3        846176900                                               Pass   \n",
       "4        849058585  severe tissue deformation but alignment is decent   \n",
       "6        850921212                                               Pass   \n",
       "\n",
       "  segmentation                                               grid  \n",
       "1          NaN          mild edge background in ctx, CB, aqueduct  \n",
       "2          NaN  a few edge artifacts in cerebellum and OB but ...  \n",
       "3          NaN                                 ok - fps in ENT L1  \n",
       "4          NaN                                                 ok  \n",
       "6          NaN                                               good  "
      ]
     },
     "execution_count": 13,
     "metadata": {},
     "output_type": "execute_result"
    }
   ],
   "source": [
    "dataset.head()"
   ]
  },
  {
   "cell_type": "code",
   "execution_count": 14,
   "metadata": {},
   "outputs": [],
   "source": [
    "dat = dat.merge(dataset[['mouse_line', 'treatment', 'image_series_id']], on='image_series_id', how = 'left')"
   ]
  },
  {
   "cell_type": "code",
   "execution_count": 15,
   "metadata": {},
   "outputs": [
    {
     "data": {
      "text/html": [
       "<div>\n",
       "<style scoped>\n",
       "    .dataframe tbody tr th:only-of-type {\n",
       "        vertical-align: middle;\n",
       "    }\n",
       "\n",
       "    .dataframe tbody tr th {\n",
       "        vertical-align: top;\n",
       "    }\n",
       "\n",
       "    .dataframe thead th {\n",
       "        text-align: right;\n",
       "    }\n",
       "</style>\n",
       "<table border=\"1\" class=\"dataframe\">\n",
       "  <thead>\n",
       "    <tr style=\"text-align: right;\">\n",
       "      <th></th>\n",
       "      <th>avg_plaque_size</th>\n",
       "      <th>avg_plaque_volume</th>\n",
       "      <th>hemisphere_id</th>\n",
       "      <th>image_series_id</th>\n",
       "      <th>is_injection</th>\n",
       "      <th>plaque_density</th>\n",
       "      <th>plaque_volume</th>\n",
       "      <th>structure_id</th>\n",
       "      <th>sum_pixels</th>\n",
       "      <th>sum_plaque_pixels</th>\n",
       "      <th>sum_plaque_sizes</th>\n",
       "      <th>sum_plaque_volumes</th>\n",
       "      <th>sum_plaques</th>\n",
       "      <th>volume</th>\n",
       "      <th>count_per_mm_3</th>\n",
       "      <th>structure_acronym</th>\n",
       "      <th>mouse_line</th>\n",
       "      <th>treatment</th>\n",
       "    </tr>\n",
       "  </thead>\n",
       "  <tbody>\n",
       "    <tr>\n",
       "      <th>0</th>\n",
       "      <td>0.000000</td>\n",
       "      <td>0.000000</td>\n",
       "      <td>2</td>\n",
       "      <td>852315754</td>\n",
       "      <td>False</td>\n",
       "      <td>1.598692e-08</td>\n",
       "      <td>1.775512e-09</td>\n",
       "      <td>1</td>\n",
       "      <td>9.066148e+07</td>\n",
       "      <td>1.449398e+00</td>\n",
       "      <td>0.0</td>\n",
       "      <td>0.000000</td>\n",
       "      <td>0</td>\n",
       "      <td>0.111060</td>\n",
       "      <td>0.000000</td>\n",
       "      <td>TMv</td>\n",
       "      <td>5xFAD</td>\n",
       "      <td>V + P</td>\n",
       "    </tr>\n",
       "    <tr>\n",
       "      <th>1</th>\n",
       "      <td>269.500000</td>\n",
       "      <td>0.020822</td>\n",
       "      <td>2</td>\n",
       "      <td>852315754</td>\n",
       "      <td>False</td>\n",
       "      <td>4.823449e-04</td>\n",
       "      <td>5.677553e-05</td>\n",
       "      <td>2</td>\n",
       "      <td>9.608762e+07</td>\n",
       "      <td>4.634738e+04</td>\n",
       "      <td>539.0</td>\n",
       "      <td>41.644920</td>\n",
       "      <td>2</td>\n",
       "      <td>0.117707</td>\n",
       "      <td>16.991295</td>\n",
       "      <td>SSp-m6b</td>\n",
       "      <td>5xFAD</td>\n",
       "      <td>V + P</td>\n",
       "    </tr>\n",
       "    <tr>\n",
       "      <th>2</th>\n",
       "      <td>355.615942</td>\n",
       "      <td>0.016182</td>\n",
       "      <td>2</td>\n",
       "      <td>852315754</td>\n",
       "      <td>False</td>\n",
       "      <td>9.781121e-04</td>\n",
       "      <td>4.479688e-03</td>\n",
       "      <td>4</td>\n",
       "      <td>3.738721e+09</td>\n",
       "      <td>3.656888e+06</td>\n",
       "      <td>49075.0</td>\n",
       "      <td>2233.062469</td>\n",
       "      <td>138</td>\n",
       "      <td>4.579933</td>\n",
       "      <td>30.131443</td>\n",
       "      <td>IC</td>\n",
       "      <td>5xFAD</td>\n",
       "      <td>V + P</td>\n",
       "    </tr>\n",
       "    <tr>\n",
       "      <th>3</th>\n",
       "      <td>201.500000</td>\n",
       "      <td>0.010919</td>\n",
       "      <td>2</td>\n",
       "      <td>852315754</td>\n",
       "      <td>False</td>\n",
       "      <td>2.258418e-05</td>\n",
       "      <td>4.879701e-05</td>\n",
       "      <td>6</td>\n",
       "      <td>1.763814e+09</td>\n",
       "      <td>3.983430e+04</td>\n",
       "      <td>403.0</td>\n",
       "      <td>21.837578</td>\n",
       "      <td>2</td>\n",
       "      <td>2.160672</td>\n",
       "      <td>0.925638</td>\n",
       "      <td>int</td>\n",
       "      <td>5xFAD</td>\n",
       "      <td>V + P</td>\n",
       "    </tr>\n",
       "    <tr>\n",
       "      <th>4</th>\n",
       "      <td>261.187500</td>\n",
       "      <td>0.011312</td>\n",
       "      <td>2</td>\n",
       "      <td>852315754</td>\n",
       "      <td>False</td>\n",
       "      <td>6.747078e-04</td>\n",
       "      <td>7.688343e-04</td>\n",
       "      <td>7</td>\n",
       "      <td>9.302099e+08</td>\n",
       "      <td>6.276199e+05</td>\n",
       "      <td>8358.0</td>\n",
       "      <td>361.973083</td>\n",
       "      <td>32</td>\n",
       "      <td>1.139507</td>\n",
       "      <td>28.082316</td>\n",
       "      <td>PSV</td>\n",
       "      <td>5xFAD</td>\n",
       "      <td>V + P</td>\n",
       "    </tr>\n",
       "  </tbody>\n",
       "</table>\n",
       "</div>"
      ],
      "text/plain": [
       "   avg_plaque_size  avg_plaque_volume  hemisphere_id  image_series_id  \\\n",
       "0         0.000000           0.000000              2        852315754   \n",
       "1       269.500000           0.020822              2        852315754   \n",
       "2       355.615942           0.016182              2        852315754   \n",
       "3       201.500000           0.010919              2        852315754   \n",
       "4       261.187500           0.011312              2        852315754   \n",
       "\n",
       "   is_injection  plaque_density  plaque_volume  structure_id    sum_pixels  \\\n",
       "0         False    1.598692e-08   1.775512e-09             1  9.066148e+07   \n",
       "1         False    4.823449e-04   5.677553e-05             2  9.608762e+07   \n",
       "2         False    9.781121e-04   4.479688e-03             4  3.738721e+09   \n",
       "3         False    2.258418e-05   4.879701e-05             6  1.763814e+09   \n",
       "4         False    6.747078e-04   7.688343e-04             7  9.302099e+08   \n",
       "\n",
       "   sum_plaque_pixels  sum_plaque_sizes  sum_plaque_volumes  sum_plaques  \\\n",
       "0       1.449398e+00               0.0            0.000000            0   \n",
       "1       4.634738e+04             539.0           41.644920            2   \n",
       "2       3.656888e+06           49075.0         2233.062469          138   \n",
       "3       3.983430e+04             403.0           21.837578            2   \n",
       "4       6.276199e+05            8358.0          361.973083           32   \n",
       "\n",
       "     volume  count_per_mm_3 structure_acronym mouse_line treatment  \n",
       "0  0.111060        0.000000               TMv      5xFAD     V + P  \n",
       "1  0.117707       16.991295           SSp-m6b      5xFAD     V + P  \n",
       "2  4.579933       30.131443                IC      5xFAD     V + P  \n",
       "3  2.160672        0.925638               int      5xFAD     V + P  \n",
       "4  1.139507       28.082316               PSV      5xFAD     V + P  "
      ]
     },
     "execution_count": 15,
     "metadata": {},
     "output_type": "execute_result"
    }
   ],
   "source": [
    "dat.head()"
   ]
  },
  {
   "cell_type": "code",
   "execution_count": 16,
   "metadata": {},
   "outputs": [],
   "source": [
    "def get_structure_data(treatment, structure, q_type):\n",
    "    data = dat\n",
    "    if q_type == 'density':\n",
    "        data = data.rename(columns = {'plaque_density': 'plaque'})\n",
    "    elif q_type == 'count':\n",
    "        data = data.rename(columns = {'count_per_mm_3': 'plaque'})\n",
    "    elif q_type == 'volume':\n",
    "        data = data.rename(columns = {'avg_plaque_volume': 'plaque'})\n",
    "    structure_id = ia_map[structure]\n",
    "    groups = []\n",
    "    plaques = []\n",
    "    isids_carrythrough = []\n",
    "    for group in dataset[dataset['treatment'] == treatment]['mouse_line'].unique():\n",
    "        isids = dataset[(dataset['mouse_line'] == group) & \n",
    "                        (dataset['treatment'] == treatment)]['image_series_id'].values\n",
    "        for isid in isids:\n",
    "            groups.append(group)\n",
    "            if len(data[(data['structure_id'] == structure_id) & (\n",
    "                data['image_series_id'] == isid)]['plaque']) > 0:\n",
    "                plaques.append(data[(data['structure_id'] == structure_id) & \n",
    "                                         (data['image_series_id'] == isid)]\n",
    "                                     ['plaque'].values[0])\n",
    "            else:\n",
    "                print(isid)\n",
    "                print(ai_map[structure_id])\n",
    "                plaques.append(0)\n",
    "                    \n",
    "            isids_carrythrough.append(isid)\n",
    "    structuredat = pd.DataFrame({'treatment': treatment, 'structure': structure, \n",
    "                                 'group': groups, 'plaques': plaques,\n",
    "                                'image_series_id': isids_carrythrough})\n",
    "    return structuredat"
   ]
  },
  {
   "cell_type": "code",
   "execution_count": 17,
   "metadata": {},
   "outputs": [
    {
     "name": "stdout",
     "output_type": "stream",
     "text": [
      "8\n"
     ]
    }
   ],
   "source": [
    "print(len(dat['image_series_id'].unique()))"
   ]
  },
  {
   "cell_type": "code",
   "execution_count": 18,
   "metadata": {},
   "outputs": [],
   "source": [
    "mouse_lines = ['J20', '5xFAD']\n",
    "mouse_line_colors = ['#fc8d62', '#9a61fc']\n",
    "light_colors = ['#f9c9b6', '#c8a8ff']\n",
    "dark_colors = ['#b30000', '#4800c4']\n",
    "J20_colors = ['#fc8d62', '#b30000']\n",
    "FAD_colors = ['#9a61fc', '#4800c4']"
   ]
  },
  {
   "cell_type": "code",
   "execution_count": 19,
   "metadata": {},
   "outputs": [],
   "source": [
    "def find_density_by_structure(structure):\n",
    "    structure_id = ia_map[structure]\n",
    "    groups = []\n",
    "    treatments = []\n",
    "    plaque_density = []\n",
    "    isids_carrythrough = []\n",
    "    for group in dataset['mouse_line'].unique():\n",
    "        for treatment in dataset[dataset['mouse_line'] == group]['treatment'].unique():\n",
    "            isids = dataset[(dataset['mouse_line'] == group) &\n",
    "                           (dataset['treatment'] == treatment)]['image_series_id'].values\n",
    "            for isid in isids:\n",
    "                groups.append(group)\n",
    "                treatments.append(treatment)\n",
    "                plaque_density.append(dat[(dat['structure_id'] == structure_id) & \n",
    "                                             (dat['image_series_id'] == isid)]\n",
    "                                         ['plaque_density'].values[0])\n",
    "                isids_carrythrough.append(isid)\n",
    "    density_dat = pd.DataFrame({'structure': structure, 'group': groups, 'treatment': treatments,\n",
    "                                'plaque density': plaque_density,\n",
    "                                 'image_series_id': isids_carrythrough})\n",
    "    density_dat['plaque density'] = [density*100 for density in density_dat['plaque density']]\n",
    "    return(density_dat)\n",
    "\n",
    "def find_count_by_structure(structure):\n",
    "    structure_id = ia_map[structure]\n",
    "    groups = []\n",
    "    treatments = []\n",
    "    plaque_count = []\n",
    "    isids_carrythrough = []\n",
    "    for group in dataset['mouse_line'].unique():\n",
    "        for treatment in dataset[dataset['mouse_line'] == group]['treatment'].unique():\n",
    "            isids = dataset[(dataset['mouse_line'] == group) &\n",
    "                           (dataset['treatment'] == treatment)]['image_series_id'].values\n",
    "            for isid in isids:\n",
    "                groups.append(group)\n",
    "                treatments.append(treatment)\n",
    "                plaque_count.append(dat[(dat['structure_id'] == structure_id) & \n",
    "                                         (dat['image_series_id'] == isid)]\n",
    "                                     ['count_per_mm_3'].values[0])\n",
    "                isids_carrythrough.append(isid)\n",
    "    count_dat = pd.DataFrame({'structure': structure, 'group': groups, 'treatment': treatments,\n",
    "                              'plaque count': plaque_count,\n",
    "                                 'image_series_id': isids_carrythrough})\n",
    "    return(count_dat)\n",
    "\n",
    "def find_volume_by_structure(structure):\n",
    "    structure_id = ia_map[structure]\n",
    "    groups = []\n",
    "    treatments = []\n",
    "    plaque_volume = []\n",
    "    isids_carrythrough = []\n",
    "    for group in dataset['mouse_line'].unique():\n",
    "        for treatment in dataset[dataset['mouse_line'] == group]['treatment'].unique():\n",
    "            isids = dataset[(dataset['mouse_line'] == group) &\n",
    "                           (dataset['treatment'] == treatment)]['image_series_id'].values\n",
    "            for isid in isids:\n",
    "                groups.append(group)\n",
    "                treatments.append(treatment)\n",
    "                plaque_volume.append(dat[(dat['structure_id'] == structure_id) & \n",
    "                                         (dat['image_series_id'] == isid)]\n",
    "                                     ['avg_plaque_volume'].values[0])\n",
    "                isids_carrythrough.append(isid)\n",
    "    count_dat = pd.DataFrame({'structure': structure, 'group': groups, 'treatment': treatments,\n",
    "                              'plaque volume': plaque_volume,\n",
    "                                 'image_series_id': isids_carrythrough})\n",
    "    return(count_dat)"
   ]
  },
  {
   "cell_type": "code",
   "execution_count": 20,
   "metadata": {},
   "outputs": [
    {
     "data": {
      "image/png": "[encoded data removed]",
      "text/plain": [
       "<Figure size 432x180 with 2 Axes>"
      ]
     },
     "metadata": {
      "needs_background": "light"
     },
     "output_type": "display_data"
    }
   ],
   "source": [
    "plot_order = ['Vis', 'V + P']\n",
    "root_d = find_density_by_structure('root')\n",
    "meandat_root = root_d.groupby(['group', 'treatment']).mean().reset_index()\n",
    "root_c = find_count_by_structure('root')\n",
    "meandat_root_c = root_c.groupby(['group', 'treatment']).mean().reset_index()\n",
    "root_v = find_volume_by_structure('root')\n",
    "meandat_root_v = root_v.groupby(['group', 'treatment']).mean().reset_index()\n",
    "\n",
    "fig, ax = plt.subplots(1, 2, figsize = (6, 2.5))\n",
    "\n",
    "a = sns.stripplot('treatment', 'plaque density', hue = 'group', data=root_d, \n",
    "                  ax=ax[0], palette = mouse_line_colors, order = plot_order, alpha = 0.5,\n",
    "                  hue_order = mouse_lines, zorder = -1)\n",
    "a = sns.pointplot('treatment', 'plaque density', hue = 'group', data=meandat_root, marker = False,\n",
    "                  ax=ax[0], palette = mouse_line_colors, order = plot_order, jitter = False,\n",
    "                  hue_order = mouse_lines, zorder = -1)\n",
    "a = sns.stripplot('treatment', 'plaque density', hue = 'group', data=meandat_root, marker =  'o',\n",
    "                  size = 6, ax=ax[0], palette = dark_colors, order = plot_order, dodge = False,\n",
    "                  jitter = False, hue_order = mouse_lines, zorder = 5)\n",
    "a.legend_.remove()\n",
    "a.set_ylabel('Plaque Density (%)')\n",
    "a.set_xlabel(\"\")\n",
    "a.set_title('Plaque Density')\n",
    "\n",
    "b = sns.stripplot('treatment', 'plaque count', hue = 'group', data=root_c, \n",
    "                  ax=ax[1], palette = mouse_line_colors, alpha = 0.5,\n",
    "                  hue_order = mouse_lines, order = plot_order, zorder = -1)\n",
    "b = sns.pointplot('treatment', 'plaque count', hue = 'group', data=meandat_root_c, marker = False,\n",
    "                  ax=ax[1], order = plot_order, palette = mouse_line_colors, jitter = False,\n",
    "                  hue_order = mouse_lines, zorder = -1)\n",
    "b = sns.stripplot('treatment', 'plaque count', hue = 'group', data=meandat_root_c, marker =  'o',\n",
    "                  size = 6, ax=ax[1], order = plot_order, palette = dark_colors, dodge = False,\n",
    "                  jitter = False, hue_order = mouse_lines, zorder = 5)\n",
    "#ax[0].axhline(y=0, color = 'grey', linestyle = 'dashed', zorder = -1)\n",
    "b.legend_.remove()\n",
    "b.set_ylabel('Plaques Per mm$\\mathregular{^{3}}$')\n",
    "b.set_xlabel(\"\")\n",
    "b.set_title('Plaque Count')\n",
    "\n",
    "handles, labels = ax[0].get_legend_handles_labels()\n",
    "plt.tight_layout()\n",
    "plt.savefig(os.path.join(savepath, 'plaque density count volume brain-wide.pdf'), \n",
    "            bbox_inches='tight', pad_inches=0.3, format='pdf', transparent = True, dpi=300)"
   ]
  },
  {
   "cell_type": "code",
   "execution_count": 21,
   "metadata": {},
   "outputs": [
    {
     "data": {
      "image/png": "[encoded data removed]",
      "text/plain": [
       "<Figure size 432x360 with 4 Axes>"
      ]
     },
     "metadata": {
      "needs_background": "light"
     },
     "output_type": "display_data"
    }
   ],
   "source": [
    "order = ['Vis', 'V + P']\n",
    "iso_d = find_density_by_structure('Isocortex')\n",
    "meandat_iso_d = iso_d.groupby(['group', 'treatment']).mean().reset_index()\n",
    "hpc_d = find_density_by_structure('HPF')\n",
    "meandat_hpc_d = hpc_d.groupby(['group', 'treatment']).mean().reset_index()\n",
    "iso_c = find_count_by_structure('Isocortex')\n",
    "meandat_iso_c = iso_c.groupby(['group', 'treatment']).mean().reset_index()\n",
    "hpc_c = find_count_by_structure('HPF')\n",
    "meandat_hpc_c = hpc_c.groupby(['group', 'treatment']).mean().reset_index()\n",
    "\n",
    "fig, ax = plt.subplots(2, 2, figsize = (6, 5))\n",
    "c = sns.stripplot('treatment', 'plaque density', hue = 'group', data=iso_d, \n",
    "                  ax=ax[0,0], order = order, palette = mouse_line_colors, alpha = 0.5,\n",
    "                  hue_order = mouse_lines, zorder = -1)\n",
    "c = sns.pointplot('treatment', 'plaque density', hue = 'group', data=meandat_iso_d, marker =  False,\n",
    "                  ax=ax[0,0], order = order, palette = mouse_line_colors, \n",
    "                  hue_order = mouse_lines, jitter = False, zorder = -1)\n",
    "c = sns.stripplot('treatment', 'plaque density', hue = 'group', data=meandat_iso_d, marker =  'o',\n",
    "                  size = 6, ax=ax[0,0], order = order, palette = dark_colors, dodge = False,\n",
    "                  jitter = False, hue_order = mouse_lines, zorder = 5)\n",
    "\n",
    "c.legend_.remove()\n",
    "#ax[2].axhline(y=0, color = 'grey', linestyle = 'dashed', zorder = -1)\n",
    "#ax[0].set_yscale('log')\n",
    "#ax[0].set_ylim([10e-4, 10])\n",
    "c.set_ylabel('Plaque Density (%)')\n",
    "c.set_xlabel(\"\")\n",
    "c.set_title('Isocortex')\n",
    "\n",
    "d = sns.stripplot('treatment', 'plaque density', hue = 'group', data=hpc_d, \n",
    "                  ax=ax[1,0], order = order, palette = mouse_line_colors, alpha = 0.5,\n",
    "                  hue_order = mouse_lines, zorder = -1)\n",
    "d = sns.pointplot('treatment', 'plaque density', hue = 'group', data=meandat_hpc_d, marker = False,\n",
    "                  ax=ax[1,0], order = order, palette = mouse_line_colors, \n",
    "                  hue_order = mouse_lines, jitter = False, zorder = -1)\n",
    "d = sns.stripplot('treatment', 'plaque density', hue = 'group', data=meandat_hpc_d, marker =  'o',\n",
    "                  size = 6, ax=ax[1,0], order = order, palette = dark_colors, dodge = False,\n",
    "                  jitter = False, hue_order = mouse_lines, zorder = 5)\n",
    "d.legend_.remove()\n",
    "\n",
    "#ax[3].axhline(y=0, color = 'grey', linestyle = 'dashed', zorder = -1)\n",
    "#ax[1].set_yscale('log')\n",
    "#ax[1].set_ylim([10e-4, 10])\n",
    "d.set_ylabel('Plaque Density (%)')\n",
    "d.set_xlabel(\"\")\n",
    "d.set_title('Hippocampus')\n",
    "\n",
    "e = sns.stripplot('treatment', 'plaque count', hue = 'group', data=iso_c, \n",
    "                  ax=ax[0,1], order = order, palette = mouse_line_colors, alpha = 0.5,\n",
    "                  hue_order = mouse_lines, zorder = -1)\n",
    "e = sns.pointplot('treatment', 'plaque count', hue = 'group', data=meandat_iso_c, marker =  False,\n",
    "                  ax=ax[0,1], order = order, palette = mouse_line_colors, \n",
    "                  hue_order = mouse_lines, jitter = False, zorder = -1)\n",
    "e = sns.stripplot('treatment', 'plaque count', hue = 'group', data=meandat_iso_c, marker =  'o',\n",
    "                  size = 6, ax=ax[0,1], order = order, palette = dark_colors, dodge = False,\n",
    "                  jitter = False, hue_order = mouse_lines, zorder = 5)\n",
    "\n",
    "e.legend_.remove()\n",
    "#ax[2].axhline(y=0, color = 'grey', linestyle = 'dashed', zorder = -1)\n",
    "#ax[0].set_yscale('log')\n",
    "#ax[0].set_ylim([10e-4, 10])\n",
    "e.set_ylabel('Plaques Per mm$\\mathregular{^{3}}$')\n",
    "e.set_xlabel(\"\")\n",
    "e.set_title('Isocortex')\n",
    "f = sns.stripplot('treatment', 'plaque count', hue = 'group', data=hpc_c, \n",
    "                  ax=ax[1,1], order = order, palette = mouse_line_colors, alpha = 0.5,\n",
    "                  hue_order = mouse_lines, zorder = -1)\n",
    "f = sns.pointplot('treatment', 'plaque count', hue = 'group', data=meandat_hpc_c, marker = False,\n",
    "                  ax=ax[1,1], order = order, palette = mouse_line_colors, \n",
    "                  hue_order = mouse_lines, jitter = False, zorder = -1)\n",
    "f = sns.stripplot('treatment', 'plaque count', hue = 'group', data=meandat_hpc_c, marker =  'o',\n",
    "                  size = 6, ax=ax[1,1], order = order, palette = dark_colors, dodge = False,\n",
    "                  jitter = False, hue_order = mouse_lines, zorder = 5)\n",
    "f.legend_.remove()\n",
    "\n",
    "#ax[3].axhline(y=0, color = 'grey', linestyle = 'dashed', zorder = -1)\n",
    "#ax[1].set_yscale('log')\n",
    "#ax[1].set_ylim([10e-4, 10])\n",
    "f.set_ylabel('Plaques Per mm$\\mathregular{^{3}}$')\n",
    "f.set_xlabel(\"\")\n",
    "f.set_title('Hippocampus')\n",
    "plt.tight_layout()\n",
    "plt.savefig(os.path.join(savepath, 'plaque density count iso hipp.pdf'), \n",
    "            bbox_inches='tight', pad_inches=0.3, format='pdf', transparent = True, dpi=300)"
   ]
  },
  {
   "cell_type": "code",
   "execution_count": 22,
   "metadata": {},
   "outputs": [],
   "source": [
    "def find_ai_density_by_structure(structure):\n",
    "    structure_id = ia_map[structure]\n",
    "    sexes = []\n",
    "    ages = []\n",
    "    groups = []\n",
    "    plaque_density = []\n",
    "    isids_carrythrough = []\n",
    "    for age in ai_dataset['age_group'].unique():\n",
    "        for group in ai_dataset[ai_dataset['age_group'] == age]['mouse_line'].unique():\n",
    "            isids = ai_dataset[(ai_dataset['mouse_line'] == group) & (ai_dataset['age_group'] == age)]['image_series_id'].values\n",
    "            for isid in isids:\n",
    "                sexes.append(ai_dataset[(ai_dataset['mouse_line'] == group) & \n",
    "                                      (ai_dataset['age_group'] == age) &\n",
    "                                     (ai_dataset['image_series_id'] == isid)]['Sex'].values)\n",
    "                ages.append(age)\n",
    "                groups.append(group)\n",
    "                plaque_density.append(ai_dat[(ai_dat['structure_id'] == structure_id) & \n",
    "                                             (ai_dat['image_series_id'] == isid)]\n",
    "                                         ['plaque_density'].values[0])\n",
    "                isids_carrythrough.append(isid)\n",
    "    density_dat = pd.DataFrame({'age': ages, 'sex': sexes, 'structure': structure, \n",
    "                                 'group': groups, 'plaque density': plaque_density,\n",
    "                                 'image_series_id': isids_carrythrough})\n",
    "    density_dat['plaque density'] = [density*100 for density in density_dat['plaque density']]\n",
    "    return(density_dat)\n",
    "\n",
    "def find_ai_count_by_structure(structure):\n",
    "    structure_id = ia_map[structure]\n",
    "    sexes = []\n",
    "    ages = []\n",
    "    groups = []\n",
    "    plaque_count = []\n",
    "    isids_carrythrough = []\n",
    "    for age in ai_dataset['age_group'].unique():\n",
    "        for group in ai_dataset[ai_dataset['age_group'] == age]['mouse_line'].unique():\n",
    "            isids = ai_dataset[(ai_dataset['mouse_line'] == group) & \n",
    "                               (ai_dataset['age_group'] == age)]['image_series_id'].values\n",
    "            for isid in isids:\n",
    "                sexes.append(ai_dataset[(ai_dataset['mouse_line'] == group) & \n",
    "                                      (ai_dataset['age_group'] == age) &\n",
    "                                     (ai_dataset['image_series_id'] == isid)]['Sex'].values)\n",
    "                ages.append(age)\n",
    "                groups.append(group)\n",
    "                plaque_count.append(ai_dat[(ai_dat['structure_id'] == structure_id) & \n",
    "                                             (ai_dat['image_series_id'] == isid)]\n",
    "                                         ['count_per_mm_3'].values[0])\n",
    "                isids_carrythrough.append(isid)\n",
    "    count_dat = pd.DataFrame({'age': ages, 'sex': sexes, 'structure': structure, \n",
    "                                 'group': groups, 'plaque count': plaque_count,\n",
    "                                 'image_series_id': isids_carrythrough})\n",
    "    return(count_dat)"
   ]
  },
  {
   "cell_type": "code",
   "execution_count": 23,
   "metadata": {},
   "outputs": [],
   "source": [
    "ai_dat = pd.read_csv(r'/Users/jenniferwh/Dropbox (Allen Institute)/Mesoscale Connectome Papers in Progress/2018 Plaque/unionizes/plaque_unionizes.csv')"
   ]
  },
  {
   "cell_type": "code",
   "execution_count": 24,
   "metadata": {},
   "outputs": [
    {
     "data": {
      "text/plain": [
       "93240"
      ]
     },
     "execution_count": 24,
     "metadata": {},
     "output_type": "execute_result"
    }
   ],
   "source": [
    "ai_dat = ai_dat[ai_dat['control'] == False]\n",
    "len(ai_dat)"
   ]
  },
  {
   "cell_type": "code",
   "execution_count": 25,
   "metadata": {},
   "outputs": [],
   "source": [
    "ai_dat['count_per_mm_3'] = ai_dat['sum_plaques']/ai_dat['volume'] #to convert to plaques per mm^3\n",
    "ai_dat['avg_plaque_volume'] = ai_dat['avg_plaque_volume']/1000 #to convert to cubic microns\n",
    "ai_dat['structure_id'] = [ia_map[structure_acronym] for structure_acronym in ai_dat['structure_acronym']]"
   ]
  },
  {
   "cell_type": "code",
   "execution_count": 26,
   "metadata": {},
   "outputs": [
    {
     "name": "stdout",
     "output_type": "stream",
     "text": [
      "9240\n"
     ]
    }
   ],
   "source": [
    "ai_j20 = ai_dat[(ai_dat['age_group'] == '13 mo') & (ai_dat['mouse_line'] == 'hAPP-J20')]\n",
    "print(len(ai_j20))"
   ]
  },
  {
   "cell_type": "code",
   "execution_count": 27,
   "metadata": {},
   "outputs": [],
   "source": [
    "ai_dataset = pd.read_csv(r'/Users/jenniferwh/Dropbox (Allen Institute)/Mesoscale Connectome Papers in Progress/2018 Plaque/_final_plaque_dataset.csv')\n",
    "ai_dataset['image_series_id'] = [int(value) for value in ai_dataset['Link to image series']]"
   ]
  },
  {
   "cell_type": "code",
   "execution_count": 28,
   "metadata": {},
   "outputs": [
    {
     "data": {
      "text/html": [
       "<div>\n",
       "<style scoped>\n",
       "    .dataframe tbody tr th:only-of-type {\n",
       "        vertical-align: middle;\n",
       "    }\n",
       "\n",
       "    .dataframe tbody tr th {\n",
       "        vertical-align: top;\n",
       "    }\n",
       "\n",
       "    .dataframe thead th {\n",
       "        text-align: right;\n",
       "    }\n",
       "</style>\n",
       "<table border=\"1\" class=\"dataframe\">\n",
       "  <thead>\n",
       "    <tr style=\"text-align: right;\">\n",
       "      <th></th>\n",
       "      <th>image_series_id</th>\n",
       "      <th>mouse_line</th>\n",
       "      <th>age</th>\n",
       "      <th>age_group</th>\n",
       "      <th>sex</th>\n",
       "      <th>control</th>\n",
       "      <th>structure_acronym</th>\n",
       "      <th>volume</th>\n",
       "      <th>sum_plaques</th>\n",
       "      <th>sum_plaque_sizes</th>\n",
       "      <th>sum_plaque_volumes</th>\n",
       "      <th>avg_plaque_size</th>\n",
       "      <th>avg_plaque_volume</th>\n",
       "      <th>plaque_density</th>\n",
       "      <th>plaque_volume</th>\n",
       "      <th>count_per_mm_3</th>\n",
       "      <th>structure_id</th>\n",
       "    </tr>\n",
       "  </thead>\n",
       "  <tbody>\n",
       "    <tr>\n",
       "      <th>0</th>\n",
       "      <td>475831312</td>\n",
       "      <td>APP/PS1</td>\n",
       "      <td>145</td>\n",
       "      <td>5 mo</td>\n",
       "      <td>M</td>\n",
       "      <td>False</td>\n",
       "      <td>TMv</td>\n",
       "      <td>0.059426</td>\n",
       "      <td>0</td>\n",
       "      <td>0.0</td>\n",
       "      <td>0.000000</td>\n",
       "      <td>0.000000</td>\n",
       "      <td>0.000000</td>\n",
       "      <td>0.000000e+00</td>\n",
       "      <td>0.000000e+00</td>\n",
       "      <td>0.000000</td>\n",
       "      <td>1</td>\n",
       "    </tr>\n",
       "    <tr>\n",
       "      <th>1</th>\n",
       "      <td>475831312</td>\n",
       "      <td>APP/PS1</td>\n",
       "      <td>145</td>\n",
       "      <td>5 mo</td>\n",
       "      <td>M</td>\n",
       "      <td>False</td>\n",
       "      <td>SSp-m6b</td>\n",
       "      <td>0.062983</td>\n",
       "      <td>0</td>\n",
       "      <td>0.0</td>\n",
       "      <td>0.000000</td>\n",
       "      <td>0.000000</td>\n",
       "      <td>0.000000</td>\n",
       "      <td>0.000000e+00</td>\n",
       "      <td>0.000000e+00</td>\n",
       "      <td>0.000000</td>\n",
       "      <td>2</td>\n",
       "    </tr>\n",
       "    <tr>\n",
       "      <th>2</th>\n",
       "      <td>475831312</td>\n",
       "      <td>APP/PS1</td>\n",
       "      <td>145</td>\n",
       "      <td>5 mo</td>\n",
       "      <td>M</td>\n",
       "      <td>False</td>\n",
       "      <td>IC</td>\n",
       "      <td>2.450618</td>\n",
       "      <td>9</td>\n",
       "      <td>1443.0</td>\n",
       "      <td>41.564454</td>\n",
       "      <td>160.333333</td>\n",
       "      <td>0.004618</td>\n",
       "      <td>1.799584e-05</td>\n",
       "      <td>4.410093e-05</td>\n",
       "      <td>3.672543</td>\n",
       "      <td>4</td>\n",
       "    </tr>\n",
       "    <tr>\n",
       "      <th>3</th>\n",
       "      <td>475831312</td>\n",
       "      <td>APP/PS1</td>\n",
       "      <td>145</td>\n",
       "      <td>5 mo</td>\n",
       "      <td>M</td>\n",
       "      <td>False</td>\n",
       "      <td>int</td>\n",
       "      <td>1.152067</td>\n",
       "      <td>0</td>\n",
       "      <td>0.0</td>\n",
       "      <td>0.000000</td>\n",
       "      <td>0.000000</td>\n",
       "      <td>0.000000</td>\n",
       "      <td>1.217491e-11</td>\n",
       "      <td>1.402631e-11</td>\n",
       "      <td>0.000000</td>\n",
       "      <td>6</td>\n",
       "    </tr>\n",
       "    <tr>\n",
       "      <th>4</th>\n",
       "      <td>475831312</td>\n",
       "      <td>APP/PS1</td>\n",
       "      <td>145</td>\n",
       "      <td>5 mo</td>\n",
       "      <td>M</td>\n",
       "      <td>False</td>\n",
       "      <td>PSV</td>\n",
       "      <td>0.609724</td>\n",
       "      <td>0</td>\n",
       "      <td>0.0</td>\n",
       "      <td>0.000000</td>\n",
       "      <td>0.000000</td>\n",
       "      <td>0.000000</td>\n",
       "      <td>2.019803e-11</td>\n",
       "      <td>1.231523e-11</td>\n",
       "      <td>0.000000</td>\n",
       "      <td>7</td>\n",
       "    </tr>\n",
       "  </tbody>\n",
       "</table>\n",
       "</div>"
      ],
      "text/plain": [
       "   image_series_id mouse_line  age age_group sex  control structure_acronym  \\\n",
       "0        475831312    APP/PS1  145      5 mo   M    False               TMv   \n",
       "1        475831312    APP/PS1  145      5 mo   M    False           SSp-m6b   \n",
       "2        475831312    APP/PS1  145      5 mo   M    False                IC   \n",
       "3        475831312    APP/PS1  145      5 mo   M    False               int   \n",
       "4        475831312    APP/PS1  145      5 mo   M    False               PSV   \n",
       "\n",
       "     volume  sum_plaques  sum_plaque_sizes  sum_plaque_volumes  \\\n",
       "0  0.059426            0               0.0            0.000000   \n",
       "1  0.062983            0               0.0            0.000000   \n",
       "2  2.450618            9            1443.0           41.564454   \n",
       "3  1.152067            0               0.0            0.000000   \n",
       "4  0.609724            0               0.0            0.000000   \n",
       "\n",
       "   avg_plaque_size  avg_plaque_volume  plaque_density  plaque_volume  \\\n",
       "0         0.000000           0.000000    0.000000e+00   0.000000e+00   \n",
       "1         0.000000           0.000000    0.000000e+00   0.000000e+00   \n",
       "2       160.333333           0.004618    1.799584e-05   4.410093e-05   \n",
       "3         0.000000           0.000000    1.217491e-11   1.402631e-11   \n",
       "4         0.000000           0.000000    2.019803e-11   1.231523e-11   \n",
       "\n",
       "   count_per_mm_3  structure_id  \n",
       "0        0.000000             1  \n",
       "1        0.000000             2  \n",
       "2        3.672543             4  \n",
       "3        0.000000             6  \n",
       "4        0.000000             7  "
      ]
     },
     "execution_count": 28,
     "metadata": {},
     "output_type": "execute_result"
    }
   ],
   "source": [
    "ai_dat.head()"
   ]
  },
  {
   "cell_type": "code",
   "execution_count": 29,
   "metadata": {},
   "outputs": [],
   "source": [
    "root_ai_d = find_ai_density_by_structure('root')"
   ]
  },
  {
   "cell_type": "code",
   "execution_count": 30,
   "metadata": {},
   "outputs": [
    {
     "data": {
      "text/html": [
       "<div>\n",
       "<style scoped>\n",
       "    .dataframe tbody tr th:only-of-type {\n",
       "        vertical-align: middle;\n",
       "    }\n",
       "\n",
       "    .dataframe tbody tr th {\n",
       "        vertical-align: top;\n",
       "    }\n",
       "\n",
       "    .dataframe thead th {\n",
       "        text-align: right;\n",
       "    }\n",
       "</style>\n",
       "<table border=\"1\" class=\"dataframe\">\n",
       "  <thead>\n",
       "    <tr style=\"text-align: right;\">\n",
       "      <th></th>\n",
       "      <th>age</th>\n",
       "      <th>sex</th>\n",
       "      <th>structure</th>\n",
       "      <th>group</th>\n",
       "      <th>plaque density</th>\n",
       "      <th>image_series_id</th>\n",
       "    </tr>\n",
       "  </thead>\n",
       "  <tbody>\n",
       "    <tr>\n",
       "      <th>106</th>\n",
       "      <td>19 mo</td>\n",
       "      <td>[F]</td>\n",
       "      <td>root</td>\n",
       "      <td>hAPP-J20</td>\n",
       "      <td>0.037031</td>\n",
       "      <td>710190579</td>\n",
       "    </tr>\n",
       "    <tr>\n",
       "      <th>107</th>\n",
       "      <td>19 mo</td>\n",
       "      <td>[F]</td>\n",
       "      <td>root</td>\n",
       "      <td>Tg2576</td>\n",
       "      <td>0.244486</td>\n",
       "      <td>603467469</td>\n",
       "    </tr>\n",
       "    <tr>\n",
       "      <th>108</th>\n",
       "      <td>19 mo</td>\n",
       "      <td>[F]</td>\n",
       "      <td>root</td>\n",
       "      <td>Tg2576</td>\n",
       "      <td>0.069451</td>\n",
       "      <td>609865610</td>\n",
       "    </tr>\n",
       "    <tr>\n",
       "      <th>109</th>\n",
       "      <td>19 mo</td>\n",
       "      <td>[F]</td>\n",
       "      <td>root</td>\n",
       "      <td>Tg2576</td>\n",
       "      <td>0.105083</td>\n",
       "      <td>676824521</td>\n",
       "    </tr>\n",
       "    <tr>\n",
       "      <th>110</th>\n",
       "      <td>19 mo</td>\n",
       "      <td>[F]</td>\n",
       "      <td>root</td>\n",
       "      <td>Tg2576</td>\n",
       "      <td>0.078069</td>\n",
       "      <td>678009833</td>\n",
       "    </tr>\n",
       "  </tbody>\n",
       "</table>\n",
       "</div>"
      ],
      "text/plain": [
       "       age  sex structure     group  plaque density  image_series_id\n",
       "106  19 mo  [F]      root  hAPP-J20        0.037031        710190579\n",
       "107  19 mo  [F]      root    Tg2576        0.244486        603467469\n",
       "108  19 mo  [F]      root    Tg2576        0.069451        609865610\n",
       "109  19 mo  [F]      root    Tg2576        0.105083        676824521\n",
       "110  19 mo  [F]      root    Tg2576        0.078069        678009833"
      ]
     },
     "execution_count": 30,
     "metadata": {},
     "output_type": "execute_result"
    }
   ],
   "source": [
    "root_ai_d.tail()"
   ]
  },
  {
   "cell_type": "code",
   "execution_count": 31,
   "metadata": {},
   "outputs": [
    {
     "ename": "NameError",
     "evalue": "name 'meandat_ai_root_d' is not defined",
     "output_type": "error",
     "traceback": [
      "\u001b[0;31m---------------------------------------------------------------------------\u001b[0m",
      "\u001b[0;31mNameError\u001b[0m                                 Traceback (most recent call last)",
      "\u001b[0;32m<ipython-input-31-66ca98e11bc7>\u001b[0m in \u001b[0;36m<module>\u001b[0;34m\u001b[0m\n\u001b[0;32m----> 1\u001b[0;31m \u001b[0mmeandat_ai_root_d\u001b[0m\u001b[0;34m\u001b[0m\u001b[0;34m\u001b[0m\u001b[0m\n\u001b[0m",
      "\u001b[0;31mNameError\u001b[0m: name 'meandat_ai_root_d' is not defined"
     ]
    }
   ],
   "source": [
    "meandat_ai_root_d"
   ]
  },
  {
   "cell_type": "code",
   "execution_count": null,
   "metadata": {},
   "outputs": [],
   "source": [
    "plot_order = ['Vis', 'V + P']\n",
    "root_d = find_density_by_structure('root')\n",
    "meandat_root = root_d.groupby(['group', 'treatment']).mean().reset_index()\n",
    "root_c = find_count_by_structure('root')\n",
    "meandat_root_c = root_c.groupby(['group', 'treatment']).mean().reset_index()\n",
    "\n",
    "root_ai_d = find_ai_density_by_structure('root')\n",
    "root_ai_d = root_ai_d[(root_ai_d['age'] == '13 mo') & (root_ai_d['group'] == 'hAPP-J20')]\n",
    "root_ai_d.rename(columns = {'age': 'treatment'}, inplace = True)\n",
    "root_ai_d['treatment'] = 'Vis'\n",
    "meandat_ai_root_d = root_ai_d.groupby(['group', 'treatment']).mean().reset_index()\n",
    "root_ai_c = find_ai_count_by_structure('root')\n",
    "root_ai_c = root_ai_c[(root_ai_c['age'] == '13 mo') & (root_ai_c['group'] == 'hAPP-J20')]\n",
    "root_ai_c.rename(columns = {'age': 'treatment'}, inplace = True)\n",
    "root_ai_c['treatment'] = 'Vis'\n",
    "meandat_ai_root_c = root_ai_c.groupby(['group', 'treatment']).mean().reset_index()\n",
    "\n",
    "fig, ax = plt.subplots(1, 2, figsize = (6, 2.5))\n",
    "\n",
    "a = sns.stripplot('treatment', 'plaque density', hue = 'group', data=root_d, \n",
    "                  ax=ax[0], palette = mouse_line_colors, order = plot_order, alpha = 0.5,\n",
    "                  hue_order = mouse_lines, zorder = -1)\n",
    "a = sns.pointplot('treatment', 'plaque density', hue = 'group', data=meandat_root, marker = False,\n",
    "                  ax=ax[0], palette = mouse_line_colors, order = plot_order, jitter = False,\n",
    "                  hue_order = mouse_lines, zorder = -1)\n",
    "a = sns.stripplot('treatment', 'plaque density', hue = 'group', data=meandat_root, marker =  'o',\n",
    "                  size = 6, ax=ax[0], palette = dark_colors, order = plot_order, dodge = False,\n",
    "                  jitter = False, hue_order = mouse_lines, zorder = 5)\n",
    "\n",
    "a = sns.stripplot('treatment', 'plaque density', data=root_ai_d, \n",
    "                  ax=ax[0], color = '#f4d942', order = plot_order, marker = 's', alpha = 0.5,\n",
    "                  zorder = -1)\n",
    "a = sns.pointplot('treatment', 'plaque density', data=meandat_ai_root_d, marker = False,\n",
    "                  ax=ax[0], color = '#f4d942', order = plot_order, jitter = False,\n",
    "                  zorder = -1)\n",
    "a = sns.stripplot('treatment', 'plaque density', data=meandat_ai_root_d, \n",
    "                  size = 6, ax=ax[0], color = 'gold', order = plot_order, marker = 's', dodge = False,\n",
    "                  jitter = False, zorder = 4)\n",
    "\n",
    "a.legend_.remove()\n",
    "a.set_ylabel('Plaque Density (%)')\n",
    "a.set_xlabel(\"\")\n",
    "a.set_title('Plaque Density')\n",
    "\n",
    "b = sns.stripplot('treatment', 'plaque count', hue = 'group', data=root_c, \n",
    "                  ax=ax[1], palette = mouse_line_colors, alpha = 0.5,\n",
    "                  hue_order = mouse_lines, order = plot_order, zorder = -1)\n",
    "b = sns.pointplot('treatment', 'plaque count', hue = 'group', data=meandat_root_c, marker = False,\n",
    "                  ax=ax[1], order = plot_order, palette = mouse_line_colors, jitter = False,\n",
    "                  hue_order = mouse_lines, zorder = -1)\n",
    "b = sns.stripplot('treatment', 'plaque count', hue = 'group', data=meandat_root_c, marker =  'o',\n",
    "                  size = 6, ax=ax[1], order = plot_order, palette = dark_colors, dodge = False,\n",
    "                  jitter = False, hue_order = mouse_lines, zorder = 5)\n",
    "\n",
    "b = sns.stripplot('treatment', 'plaque count', data=root_ai_c, \n",
    "                  ax=ax[1], color = '#f4d942', order = plot_order, marker = 's', alpha = 0.5,\n",
    "                  zorder = -1)\n",
    "b = sns.pointplot('treatment', 'plaque count', data=meandat_ai_root_c, marker = False,\n",
    "                  ax=ax[1], color = '#f4d942', order = plot_order, jitter = False,\n",
    "                  zorder = -1)\n",
    "b = sns.stripplot('treatment', 'plaque count', data=meandat_ai_root_c, \n",
    "                  size = 6, ax=ax[1], color = 'gold', order = plot_order, marker = 's', dodge = False,\n",
    "                  jitter = False, zorder = 1)\n",
    "#ax[0].axhline(y=0, color = 'grey', linestyle = 'dashed', zorder = -1)\n",
    "b.legend_.remove()\n",
    "b.set_ylabel('Plaques Per mm$\\mathregular{^{3}}$')\n",
    "b.set_xlabel(\"\")\n",
    "b.set_title('Plaque Count')\n",
    "\n",
    "handles, labels = ax[0].get_legend_handles_labels()\n",
    "plt.tight_layout()\n",
    "plt.savefig(os.path.join(savepath, 'plaque density count volume brain-wide with AI dat.pdf'), \n",
    "            bbox_inches='tight', pad_inches=0.3, format='pdf', transparent = True, dpi=300)"
   ]
  },
  {
   "cell_type": "code",
   "execution_count": 32,
   "metadata": {},
   "outputs": [
    {
     "ename": "NameError",
     "evalue": "name 'iso_ai_d' is not defined",
     "output_type": "error",
     "traceback": [
      "\u001b[0;31m---------------------------------------------------------------------------\u001b[0m",
      "\u001b[0;31mNameError\u001b[0m                                 Traceback (most recent call last)",
      "\u001b[0;32m<ipython-input-32-994a50e0b7a0>\u001b[0m in \u001b[0;36m<module>\u001b[0;34m\u001b[0m\n\u001b[0;32m----> 1\u001b[0;31m \u001b[0msns\u001b[0m\u001b[0;34m.\u001b[0m\u001b[0mstripplot\u001b[0m\u001b[0;34m(\u001b[0m\u001b[0;34m'treatment'\u001b[0m\u001b[0;34m,\u001b[0m \u001b[0;34m'plaque density'\u001b[0m\u001b[0;34m,\u001b[0m \u001b[0mdata\u001b[0m\u001b[0;34m=\u001b[0m\u001b[0miso_ai_d\u001b[0m\u001b[0;34m)\u001b[0m\u001b[0;34m\u001b[0m\u001b[0;34m\u001b[0m\u001b[0m\n\u001b[0m",
      "\u001b[0;31mNameError\u001b[0m: name 'iso_ai_d' is not defined"
     ]
    }
   ],
   "source": [
    "sns.stripplot('treatment', 'plaque density', data=iso_ai_d)"
   ]
  },
  {
   "cell_type": "code",
   "execution_count": 33,
   "metadata": {},
   "outputs": [
    {
     "data": {
      "image/png": "[encoded data removed]",
      "text/plain": [
       "<Figure size 432x360 with 4 Axes>"
      ]
     },
     "metadata": {
      "needs_background": "light"
     },
     "output_type": "display_data"
    }
   ],
   "source": [
    "iso_ai_d = find_ai_density_by_structure('Isocortex')\n",
    "iso_ai_d = iso_ai_d[(iso_ai_d['age'] == '13 mo') & (iso_ai_d['group'] == 'hAPP-J20')]\n",
    "iso_ai_d.rename(columns = {'age': 'treatment'}, inplace = True)\n",
    "iso_ai_d['treatment'] = 'Vis'\n",
    "meandat_iso_ai_d = iso_ai_d.groupby(['group', 'treatment']).mean().reset_index()\n",
    "\n",
    "hpc_ai_d = find_ai_density_by_structure('HPF')\n",
    "hpc_ai_d = hpc_ai_d[(hpc_ai_d['age'] == '13 mo') & (hpc_ai_d['group'] == 'hAPP-J20')]\n",
    "hpc_ai_d.rename(columns = {'age': 'treatment'}, inplace = True)\n",
    "hpc_ai_d['treatment'] = 'Vis'\n",
    "meandat_hpc_ai_d = hpc_ai_d.groupby(['group', 'treatment']).mean().reset_index()\n",
    "\n",
    "iso_ai_c = find_ai_count_by_structure('Isocortex')\n",
    "iso_ai_c = iso_ai_c[(iso_ai_c['age'] == '13 mo') & (iso_ai_c['group'] == 'hAPP-J20')]\n",
    "iso_ai_c.rename(columns = {'age': 'treatment'}, inplace = True)\n",
    "iso_ai_c['treatment'] = 'Vis'\n",
    "meandat_iso_ai_c = iso_ai_c.groupby(['group', 'treatment']).mean().reset_index()\n",
    "\n",
    "hpc_ai_c = find_ai_count_by_structure('HPF')\n",
    "hpc_ai_c = hpc_ai_c[(hpc_ai_c['age'] == '13 mo') & (hpc_ai_c['group'] == 'hAPP-J20')]\n",
    "hpc_ai_c.rename(columns = {'age': 'treatment'}, inplace = True)\n",
    "hpc_ai_c['treatment'] = 'Vis'\n",
    "meandat_hpc_ai_c = hpc_ai_c.groupby(['group', 'treatment']).mean().reset_index()\n",
    "\n",
    "order = ['Vis', 'V + P']\n",
    "iso_d = find_density_by_structure('Isocortex')\n",
    "meandat_iso_d = iso_d.groupby(['group', 'treatment']).mean().reset_index()\n",
    "hpc_d = find_density_by_structure('HPF')\n",
    "meandat_hpc_d = hpc_d.groupby(['group', 'treatment']).mean().reset_index()\n",
    "iso_c = find_count_by_structure('Isocortex')\n",
    "meandat_iso_c = iso_c.groupby(['group', 'treatment']).mean().reset_index()\n",
    "hpc_c = find_count_by_structure('HPF')\n",
    "meandat_hpc_c = hpc_c.groupby(['group', 'treatment']).mean().reset_index()\n",
    "\n",
    "fig, ax = plt.subplots(2, 2, figsize = (6, 5))\n",
    "c = sns.stripplot('treatment', 'plaque density', hue = 'group', data=iso_d, \n",
    "                  ax=ax[0,0], order = order, palette = mouse_line_colors, alpha = 0.5,\n",
    "                  hue_order = mouse_lines, zorder = -1)\n",
    "c = sns.pointplot('treatment', 'plaque density', hue = 'group', data=meandat_iso_d, marker =  False,\n",
    "                  ax=ax[0,0], order = order, palette = mouse_line_colors, \n",
    "                  hue_order = mouse_lines, jitter = False, zorder = -1)\n",
    "c = sns.stripplot('treatment', 'plaque density', hue = 'group', data=meandat_iso_d, marker =  'o',\n",
    "                  size = 6, ax=ax[0,0], order = order, palette = dark_colors, dodge = False,\n",
    "                  jitter = False, hue_order = mouse_lines, zorder = 5)\n",
    "\n",
    "c = sns.stripplot('treatment', 'plaque density', data=iso_ai_d, \n",
    "                  ax=ax[0,0], color = '#f4d942', order = plot_order, marker = 's', alpha = 0.5)\n",
    "c = sns.pointplot('treatment', 'plaque density', data=meandat_iso_ai_d, marker = False,\n",
    "                  ax=ax[0,0], color = '#f4d942', order = plot_order, jitter = False,\n",
    "                  zorder = -1)\n",
    "c = sns.stripplot('treatment', 'plaque density', data=meandat_iso_ai_d, \n",
    "                  size = 6, ax=ax[0,0], color = 'gold', order = plot_order, marker = 's', dodge = False,\n",
    "                  jitter = False, zorder = 5)\n",
    "\n",
    "c.legend_.remove()\n",
    "#ax[2].axhline(y=0, color = 'grey', linestyle = 'dashed', zorder = -1)\n",
    "#ax[0].set_yscale('log')\n",
    "#ax[0].set_ylim([10e-4, 10])\n",
    "c.set_ylabel('Plaque Density (%)')\n",
    "c.set_xlabel(\"\")\n",
    "c.set_title('Isocortex')\n",
    "\n",
    "d = sns.stripplot('treatment', 'plaque density', hue = 'group', data=hpc_d, \n",
    "                  ax=ax[1,0], order = order, palette = mouse_line_colors, alpha = 0.5,\n",
    "                  hue_order = mouse_lines, zorder = -1)\n",
    "d = sns.pointplot('treatment', 'plaque density', hue = 'group', data=meandat_hpc_d, marker = False,\n",
    "                  ax=ax[1,0], order = order, palette = mouse_line_colors, \n",
    "                  hue_order = mouse_lines, jitter = False, zorder = -1)\n",
    "d = sns.stripplot('treatment', 'plaque density', hue = 'group', data=meandat_hpc_d, marker =  'o',\n",
    "                  size = 6, ax=ax[1,0], order = order, palette = dark_colors, dodge = False,\n",
    "                  jitter = False, hue_order = mouse_lines, zorder = 5)\n",
    "\n",
    "d = sns.stripplot('treatment', 'plaque density', data=hpc_ai_d, \n",
    "                  ax=ax[1,0], color = '#f4d942', order = plot_order, marker = 's', alpha = 0.5)\n",
    "d = sns.pointplot('treatment', 'plaque density', data=meandat_hpc_ai_d, marker = False,\n",
    "                  ax=ax[1,0], color = '#f4d942', order = plot_order, jitter = False,\n",
    "                  zorder = -1)\n",
    "d = sns.stripplot('treatment', 'plaque density', data=meandat_hpc_ai_d, \n",
    "                  size = 6, ax=ax[1,0], color = 'gold', order = plot_order, marker = 's', dodge = False,\n",
    "                  jitter = False, zorder = 3)\n",
    "\n",
    "d.legend_.remove()\n",
    "\n",
    "#ax[3].axhline(y=0, color = 'grey', linestyle = 'dashed', zorder = -1)\n",
    "#ax[1].set_yscale('log')\n",
    "#ax[1].set_ylim([10e-4, 10])\n",
    "d.set_ylabel('Plaque Density (%)')\n",
    "d.set_xlabel(\"\")\n",
    "d.set_title('Hippocampus')\n",
    "\n",
    "e = sns.stripplot('treatment', 'plaque count', hue = 'group', data=iso_c, \n",
    "                  ax=ax[0,1], order = order, palette = mouse_line_colors, alpha = 0.5,\n",
    "                  hue_order = mouse_lines, zorder = -1)\n",
    "e = sns.pointplot('treatment', 'plaque count', hue = 'group', data=meandat_iso_c, marker =  False,\n",
    "                  ax=ax[0,1], order = order, palette = mouse_line_colors, \n",
    "                  hue_order = mouse_lines, jitter = False, zorder = -1)\n",
    "e = sns.stripplot('treatment', 'plaque count', hue = 'group', data=meandat_iso_c, marker =  'o',\n",
    "                  size = 6, ax=ax[0,1], order = order, palette = dark_colors, dodge = False,\n",
    "                  jitter = False, hue_order = mouse_lines, zorder = 5)\n",
    "\n",
    "e = sns.stripplot('treatment', 'plaque count', data=iso_ai_c, \n",
    "                  ax=ax[0,1], color = '#f4d942', order = plot_order, marker = 's', alpha = 0.5)\n",
    "e = sns.pointplot('treatment', 'plaque count', data=meandat_iso_ai_c, marker = False,\n",
    "                  ax=ax[0,1], color = '#f4d942', order = plot_order, jitter = False,\n",
    "                  zorder = -1)\n",
    "e = sns.stripplot('treatment', 'plaque count', data=meandat_iso_ai_c, \n",
    "                  size = 6, ax=ax[0,1], color = 'gold', order = plot_order, marker = 's', dodge = False,\n",
    "                  jitter = False, zorder = 5)\n",
    "\n",
    "e.legend_.remove()\n",
    "#ax[2].axhline(y=0, color = 'grey', linestyle = 'dashed', zorder = -1)\n",
    "#ax[0].set_yscale('log')\n",
    "#ax[0].set_ylim([10e-4, 10])\n",
    "e.set_ylabel('Plaques Per mm$\\mathregular{^{3}}$')\n",
    "e.set_xlabel(\"\")\n",
    "e.set_title('Isocortex')\n",
    "f = sns.stripplot('treatment', 'plaque count', hue = 'group', data=hpc_c, \n",
    "                  ax=ax[1,1], order = order, palette = mouse_line_colors, alpha = 0.5,\n",
    "                  hue_order = mouse_lines, zorder = -1)\n",
    "f = sns.pointplot('treatment', 'plaque count', hue = 'group', data=meandat_hpc_c, marker = False,\n",
    "                  ax=ax[1,1], order = order, palette = mouse_line_colors, \n",
    "                  hue_order = mouse_lines, jitter = False, zorder = -1)\n",
    "f = sns.stripplot('treatment', 'plaque count', hue = 'group', data=meandat_hpc_c, marker =  'o',\n",
    "                  size = 6, ax=ax[1,1], order = order, palette = dark_colors, dodge = False,\n",
    "                  jitter = False, hue_order = mouse_lines, zorder = 5)\n",
    "\n",
    "f = sns.stripplot('treatment', 'plaque count', data=hpc_ai_c, \n",
    "                  ax=ax[1,1], color = '#f4d942', order = plot_order, marker = 's', alpha = 0.5)\n",
    "f = sns.pointplot('treatment', 'plaque count', data=meandat_hpc_ai_c, marker = False,\n",
    "                  ax=ax[1,1], color = '#f4d942', order = plot_order, jitter = False,\n",
    "                  zorder = -1)\n",
    "f = sns.stripplot('treatment', 'plaque count', data=meandat_hpc_ai_c, \n",
    "                  size = 6, ax=ax[1,1], color = 'gold', order = plot_order, marker = 's', dodge = False,\n",
    "                  jitter = False, zorder = 3)\n",
    "\n",
    "f.legend_.remove()\n",
    "\n",
    "#ax[3].axhline(y=0, color = 'grey', linestyle = 'dashed', zorder = -1)\n",
    "#ax[1].set_yscale('log')\n",
    "#ax[1].set_ylim([10e-4, 10])\n",
    "f.set_ylabel('Plaques Per mm$\\mathregular{^{3}}$')\n",
    "f.set_xlabel(\"\")\n",
    "f.set_title('Hippocampus')\n",
    "plt.tight_layout()\n",
    "plt.savefig(os.path.join(savepath, 'plaque density count iso hipp with AI dat.pdf'), \n",
    "            bbox_inches='tight', pad_inches=0.3, format='pdf', transparent = True, dpi=300)"
   ]
  },
  {
   "cell_type": "code",
   "execution_count": 34,
   "metadata": {},
   "outputs": [],
   "source": [
    "def get_mouse_line_legend():\n",
    "    orange = mlines.Line2D([], [], color=mouse_line_colors[0],\n",
    "                          label='J20')\n",
    "    purple = mlines.Line2D([], [], color=mouse_line_colors[1],\n",
    "                          label='5xFAD')\n",
    "    return [orange, purple]\n",
    "\n",
    "def get_mouse_line_legend_ai():\n",
    "    orange = mlines.Line2D([], [], color=mouse_line_colors[0],\n",
    "                          label='J20 (UVA)')\n",
    "    gold = mlines.Line2D([], [], color='#f4d942',\n",
    "                          label='J20 (AI)')\n",
    "    purple = mlines.Line2D([], [], color=mouse_line_colors[1],\n",
    "                          label='5xFAD')\n",
    "    return [gold, orange, purple]\n",
    "\n",
    "def get_treatment_legend(mouse_line):\n",
    "    if mouse_line == 'J20':\n",
    "        regular = mlines.Line2D([], [], color=mouse_line_colors[0],\n",
    "                          label='Visudyne')\n",
    "        dark = mlines.Line2D([], [], color=dark_colors[0],\n",
    "                          label='Visudyne + Photoconversion')\n",
    "    if mouse_line == '5xFAD':\n",
    "        regular = mlines.Line2D([], [], color=mouse_line_colors[1],\n",
    "                          label='Visudyne')\n",
    "        dark = mlines.Line2D([], [], color=dark_colors[1],\n",
    "                          label='Visudyne + Photoconversion')\n",
    "    return [regular, dark]"
   ]
  },
  {
   "cell_type": "code",
   "execution_count": 35,
   "metadata": {},
   "outputs": [
    {
     "data": {
      "image/png": "[encoded data removed]",
      "text/plain": [
       "<Figure size 432x288 with 1 Axes>"
      ]
     },
     "metadata": {
      "needs_background": "light"
     },
     "output_type": "display_data"
    }
   ],
   "source": [
    "fig, ax = plt.subplots()\n",
    "ax.legend(handles = get_mouse_line_legend())\n",
    "plt.savefig(os.path.join(savepath, 'mouse_line_legend.pdf'), \n",
    "                bbox_inches='tight', pad_inches=0.3, format='pdf', transparent = True, dpi=300)"
   ]
  },
  {
   "cell_type": "code",
   "execution_count": 36,
   "metadata": {},
   "outputs": [
    {
     "data": {
      "image/png": "[encoded data removed]",
      "text/plain": [
       "<Figure size 432x288 with 1 Axes>"
      ]
     },
     "metadata": {
      "needs_background": "light"
     },
     "output_type": "display_data"
    }
   ],
   "source": [
    "fig, ax = plt.subplots()\n",
    "ax.legend(handles = get_mouse_line_legend_ai())\n",
    "plt.savefig(os.path.join(savepath, 'mouse_line_legend_ai.pdf'), \n",
    "                bbox_inches='tight', pad_inches=0.3, format='pdf', transparent = True, dpi=300)"
   ]
  },
  {
   "cell_type": "code",
   "execution_count": 37,
   "metadata": {},
   "outputs": [
    {
     "data": {
      "image/png": "[encoded data removed]",
      "text/plain": [
       "<Figure size 432x288 with 1 Axes>"
      ]
     },
     "metadata": {
      "needs_background": "light"
     },
     "output_type": "display_data"
    }
   ],
   "source": [
    "fig, ax = plt.subplots()\n",
    "ax.legend(handles = get_treatment_legend('J20'))\n",
    "plt.savefig(os.path.join(savepath, 'J20_legend.pdf'), \n",
    "                bbox_inches='tight', pad_inches=0.3, format='pdf', transparent = True, dpi=300)"
   ]
  },
  {
   "cell_type": "code",
   "execution_count": 38,
   "metadata": {},
   "outputs": [
    {
     "data": {
      "image/png": "[encoded data removed]",
      "text/plain": [
       "<Figure size 432x288 with 1 Axes>"
      ]
     },
     "metadata": {
      "needs_background": "light"
     },
     "output_type": "display_data"
    }
   ],
   "source": [
    "fig, ax = plt.subplots()\n",
    "ax.legend(handles = get_treatment_legend('5xFAD'))\n",
    "plt.savefig(os.path.join(savepath, '5xFAD_legend.pdf'), \n",
    "                bbox_inches='tight', pad_inches=0.3, format='pdf', transparent = True, dpi=300)"
   ]
  },
  {
   "cell_type": "code",
   "execution_count": 39,
   "metadata": {},
   "outputs": [],
   "source": [
    "ccf_colors = ['#70ff71', '#9ad2bd', '#7ed04b', '#8ada87', '#98d6f9', '#8599cc', '#ff7080', '#e64438', '#ff64ff', \n",
    "              '#ff9b88','#ff9bcd', '#f0f080', '#cccccc']"
   ]
  },
  {
   "cell_type": "code",
   "execution_count": 40,
   "metadata": {},
   "outputs": [
    {
     "data": {
      "text/plain": [
       "(array([ 0,  1,  2,  3,  4,  5,  6,  7,  8,  9, 10, 11, 12]),\n",
       " <a list of 13 Text xticklabel objects>)"
      ]
     },
     "execution_count": 40,
     "metadata": {},
     "output_type": "execute_result"
    },
    {
     "data": {
      "image/png": "[encoded data removed]",
      "text/plain": [
       "<Figure size 288x252 with 2 Axes>"
      ]
     },
     "metadata": {
      "needs_background": "light"
     },
     "output_type": "display_data"
    }
   ],
   "source": [
    "pltdat = pd.DataFrame(columns={'treatment', 'group', 'plaques', 'structure'})\n",
    "for structure in coarse_structure_ids:\n",
    "    structure_acronym = ai_map[structure]\n",
    "    pltdat = pd.concat([pltdat, get_structure_data('Vis', structure_acronym, 'density')], sort = True)\n",
    "mdf = pd.melt(pltdat, id_vars = ['treatment', 'structure', 'group', 'image_series_id'], value_name = 'plaque density')\n",
    "mdf['plaque density'] = [density*100 for density in mdf['plaque density']]\n",
    "mdf['ont_order'] = [oo_dict_coarse[acronym] for acronym in mdf['structure']]\n",
    "mdf = mdf.sort_values(by='ont_order')\n",
    "fig, ax = plt.subplots(2, 1, figsize = (4, 3.5), sharex = True)\n",
    "groups = ['J20', '5xFAD'] # same as mdf['group'].unique() but keeps consistent plot order\n",
    "for ix in range(2):\n",
    "    group = groups[ix]\n",
    "    g = sns.boxplot('structure', 'plaque density', data = mdf[mdf['group'] == group], ax=ax[ix], \n",
    "                    color = 'white', fliersize = 1)\n",
    "    sns.stripplot('structure', 'plaque density', data = mdf[mdf['group'] == group], alpha = 0.3,\n",
    "                  palette = ccf_colors, ax=ax[ix], dodge = True)\n",
    "    g.set_title(group)\n",
    "    plt.tight_layout()\n",
    "    fig.subplots_adjust(hspace = 0.4)\n",
    "plt.xticks(rotation = 90)\n",
    "#plt.savefig(os.path.join(savepath, 'box-swarm plots major divisions horizontal 12 mo.pdf'), \n",
    "#            bbox_inches='tight', pad_inches=0.3, format='pdf', transparent = True, dpi=300)"
   ]
  },
  {
   "cell_type": "code",
   "execution_count": 41,
   "metadata": {},
   "outputs": [
    {
     "data": {
      "text/plain": [
       "(array([ 0,  1,  2,  3,  4,  5,  6,  7,  8,  9, 10, 11, 12]),\n",
       " <a list of 13 Text xticklabel objects>)"
      ]
     },
     "execution_count": 41,
     "metadata": {},
     "output_type": "execute_result"
    },
    {
     "data": {
      "image/png": "[encoded data removed]",
      "text/plain": [
       "<Figure size 288x252 with 2 Axes>"
      ]
     },
     "metadata": {
      "needs_background": "light"
     },
     "output_type": "display_data"
    }
   ],
   "source": [
    "pltdat = pd.DataFrame(columns={'treatment', 'group', 'plaques', 'structure'})\n",
    "for structure in coarse_structure_ids:\n",
    "    structure_acronym = ai_map[structure]\n",
    "    pltdat = pd.concat([pltdat, get_structure_data('V + P', structure_acronym, 'density')], sort = True)\n",
    "mdf = pd.melt(pltdat, id_vars = ['treatment', 'structure', 'group', 'image_series_id'], value_name = 'plaque density')\n",
    "mdf['plaque density'] = [density*100 for density in mdf['plaque density']]\n",
    "mdf['ont_order'] = [oo_dict_coarse[acronym] for acronym in mdf['structure']]\n",
    "mdf = mdf.sort_values(by='ont_order')\n",
    "fig, ax = plt.subplots(2, 1, figsize = (4, 3.5), sharex = True)\n",
    "groups = ['J20', '5xFAD'] # same as mdf['group'].unique() but keeps consistent plot order\n",
    "for ix in range(2):\n",
    "    group = groups[ix]\n",
    "    g = sns.boxplot('structure', 'plaque density', data = mdf[mdf['group'] == group], ax=ax[ix], \n",
    "                    color = 'white', fliersize = 1)\n",
    "    sns.stripplot('structure', 'plaque density', data = mdf[mdf['group'] == group], alpha = 0.3,\n",
    "                  palette = ccf_colors, ax=ax[ix], dodge = True)\n",
    "    g.set_title(group)\n",
    "    plt.tight_layout()\n",
    "    fig.subplots_adjust(hspace = 0.4)\n",
    "plt.xticks(rotation = 90)\n",
    "#plt.savefig(os.path.join(savepath, 'box-swarm plots major divisions horizontal 12 mo.pdf'), \n",
    "#            bbox_inches='tight', pad_inches=0.3, format='pdf', transparent = True, dpi=300)"
   ]
  },
  {
   "cell_type": "code",
   "execution_count": 42,
   "metadata": {},
   "outputs": [
    {
     "data": {
      "image/png": "[encoded data removed]",
      "text/plain": [
       "<Figure size 576x288 with 4 Axes>"
      ]
     },
     "metadata": {
      "needs_background": "light"
     },
     "output_type": "display_data"
    }
   ],
   "source": [
    "pltdat = pd.DataFrame(columns={'treatment', 'group', 'plaques', 'structure'})\n",
    "for structure in coarse_structure_ids:\n",
    "    structure_acronym = ai_map[structure]\n",
    "    pltdat = pd.concat([pltdat, get_structure_data('Vis', structure_acronym, 'density')], sort = True)\n",
    "mdf = pd.melt(pltdat, id_vars = ['treatment', 'structure', 'group', 'image_series_id'], value_name = 'plaque density')\n",
    "mdf['plaque density'] = [density*100 for density in mdf['plaque density']]\n",
    "mdf['ont_order'] = [oo_dict_coarse[acronym] for acronym in mdf['structure']]\n",
    "mdf = mdf.sort_values(by='ont_order')\n",
    "\n",
    "fig, ax = plt.subplots(2, 2, figsize = (8, 4), sharex = True)\n",
    "groups = ['J20', '5xFAD'] # same as mdf['group'].unique() but keeps consistent plot order\n",
    "group = groups[0]\n",
    "g = sns.boxplot('structure', 'plaque density', data = mdf[mdf['group'] == group], ax=ax[0,0], \n",
    "                color = 'white', fliersize = 1)\n",
    "sns.stripplot('structure', 'plaque density', data = mdf[mdf['group'] == group], alpha = 0.5,\n",
    "              palette = ccf_colors, ax=ax[0,0], dodge = True)\n",
    "g.set_title('J20 (Vis)')\n",
    "\n",
    "group = groups[1]\n",
    "g = sns.boxplot('structure', 'plaque density', data = mdf[mdf['group'] == group], ax=ax[0,1], \n",
    "                color = 'white', fliersize = 1)\n",
    "sns.stripplot('structure', 'plaque density', data = mdf[mdf['group'] == group], alpha = 0.5,\n",
    "              palette = ccf_colors, ax=ax[0,1], dodge = True)\n",
    "g.set_title('5xFAD (Vis)')\n",
    "\n",
    "pltdat = pd.DataFrame(columns={'treatment', 'group', 'plaques', 'structure'})\n",
    "for structure in coarse_structure_ids:\n",
    "    structure_acronym = ai_map[structure]\n",
    "    pltdat = pd.concat([pltdat, get_structure_data('V + P', structure_acronym, 'density')], sort = True)\n",
    "mdf = pd.melt(pltdat, id_vars = ['treatment', 'structure', 'group', 'image_series_id'], value_name = 'plaque density')\n",
    "mdf['plaque density'] = [density*100 for density in mdf['plaque density']]\n",
    "mdf['ont_order'] = [oo_dict_coarse[acronym] for acronym in mdf['structure']]\n",
    "mdf = mdf.sort_values(by='ont_order')\n",
    "groups = ['J20', '5xFAD'] # same as mdf['group'].unique() but keeps consistent plot order\n",
    "group = groups[0]\n",
    "g = sns.boxplot('structure', 'plaque density', data = mdf[mdf['group'] == group], ax=ax[1,0], \n",
    "                color = 'white', fliersize = 1)\n",
    "sns.stripplot('structure', 'plaque density', data = mdf[mdf['group'] == group], alpha = 0.5,\n",
    "              palette = ccf_colors, ax=ax[1,0], dodge = True)\n",
    "g.set_title('J20 (V+P)')\n",
    "plt.tight_layout()\n",
    "fig.subplots_adjust(hspace = 0.4)\n",
    "ax[0,0].set_ylim([-0.01, 0.17])\n",
    "ax[1,0].set_ylim([-0.01, 0.17])\n",
    "ax[1,0].tick_params(axis='x', rotation=90)\n",
    "\n",
    "mdf = pd.melt(pltdat, id_vars = ['treatment', 'structure', 'group', 'image_series_id'], value_name = 'plaque density')\n",
    "mdf['plaque density'] = [density*100 for density in mdf['plaque density']]\n",
    "mdf['ont_order'] = [oo_dict_coarse[acronym] for acronym in mdf['structure']]\n",
    "mdf = mdf.sort_values(by='ont_order')\n",
    "groups = ['J20', '5xFAD'] # same as mdf['group'].unique() but keeps consistent plot order\n",
    "group = groups[1]\n",
    "g = sns.boxplot('structure', 'plaque density', data = mdf[mdf['group'] == group], ax=ax[1,1], \n",
    "                color = 'white', fliersize = 1)\n",
    "sns.stripplot('structure', 'plaque density', data = mdf[mdf['group'] == group], alpha = 0.5,\n",
    "              palette = ccf_colors, ax=ax[1,1], dodge = True)\n",
    "plt.xticks(rotation = 90)\n",
    "g.set_title('5xFAD (V+P)')\n",
    "plt.tight_layout()\n",
    "fig.subplots_adjust(hspace = 0.4)\n",
    "ax[0,1].set_ylim([-0.01, 0.4])\n",
    "ax[1,1].set_ylim([-0.01, 0.4])\n",
    "plt.savefig(os.path.join(savepath, 'box-swarm plots major divisions both lines.pdf'), \n",
    "            bbox_inches='tight', pad_inches=0.3, format='pdf', transparent = True, dpi=300)\n",
    "plt.savefig(os.path.join(savepath, 'box-swarm plots major divisions both lines.png'), \n",
    "            bbox_inches='tight', pad_inches=0.3, format='png', transparent = True, dpi=300)"
   ]
  },
  {
   "cell_type": "code",
   "execution_count": 43,
   "metadata": {},
   "outputs": [
    {
     "data": {
      "text/html": [
       "<div>\n",
       "<style scoped>\n",
       "    .dataframe tbody tr th:only-of-type {\n",
       "        vertical-align: middle;\n",
       "    }\n",
       "\n",
       "    .dataframe tbody tr th {\n",
       "        vertical-align: top;\n",
       "    }\n",
       "\n",
       "    .dataframe thead th {\n",
       "        text-align: right;\n",
       "    }\n",
       "</style>\n",
       "<table border=\"1\" class=\"dataframe\">\n",
       "  <thead>\n",
       "    <tr style=\"text-align: right;\">\n",
       "      <th></th>\n",
       "      <th>treatment</th>\n",
       "      <th>structure</th>\n",
       "      <th>group</th>\n",
       "      <th>image_series_id</th>\n",
       "      <th>variable</th>\n",
       "      <th>plaque density</th>\n",
       "      <th>ont_order</th>\n",
       "    </tr>\n",
       "  </thead>\n",
       "  <tbody>\n",
       "    <tr>\n",
       "      <th>10</th>\n",
       "      <td>V + P</td>\n",
       "      <td>HPF</td>\n",
       "      <td>5xFAD</td>\n",
       "      <td>852315754.0</td>\n",
       "      <td>plaques</td>\n",
       "      <td>0.369665</td>\n",
       "      <td>454</td>\n",
       "    </tr>\n",
       "    <tr>\n",
       "      <th>11</th>\n",
       "      <td>V + P</td>\n",
       "      <td>HPF</td>\n",
       "      <td>5xFAD</td>\n",
       "      <td>851716377.0</td>\n",
       "      <td>plaques</td>\n",
       "      <td>0.340179</td>\n",
       "      <td>454</td>\n",
       "    </tr>\n",
       "  </tbody>\n",
       "</table>\n",
       "</div>"
      ],
      "text/plain": [
       "   treatment structure  group  image_series_id variable  plaque density  \\\n",
       "10     V + P       HPF  5xFAD      852315754.0  plaques        0.369665   \n",
       "11     V + P       HPF  5xFAD      851716377.0  plaques        0.340179   \n",
       "\n",
       "    ont_order  \n",
       "10        454  \n",
       "11        454  "
      ]
     },
     "execution_count": 43,
     "metadata": {},
     "output_type": "execute_result"
    }
   ],
   "source": [
    "mdf[(mdf['group'] == '5xFAD') & (mdf['treatment'] == 'V + P') & (mdf['structure'] == 'HPF')]"
   ]
  },
  {
   "cell_type": "code",
   "execution_count": 46,
   "metadata": {},
   "outputs": [
    {
     "data": {
      "text/html": [
       "<div>\n",
       "<style scoped>\n",
       "    .dataframe tbody tr th:only-of-type {\n",
       "        vertical-align: middle;\n",
       "    }\n",
       "\n",
       "    .dataframe tbody tr th {\n",
       "        vertical-align: top;\n",
       "    }\n",
       "\n",
       "    .dataframe thead th {\n",
       "        text-align: right;\n",
       "    }\n",
       "</style>\n",
       "<table border=\"1\" class=\"dataframe\">\n",
       "  <thead>\n",
       "    <tr style=\"text-align: right;\">\n",
       "      <th></th>\n",
       "      <th>group</th>\n",
       "      <th>plaques</th>\n",
       "      <th>image_series_id</th>\n",
       "    </tr>\n",
       "  </thead>\n",
       "  <tbody>\n",
       "    <tr>\n",
       "      <th>0</th>\n",
       "      <td>5xFAD</td>\n",
       "      <td>0.000963</td>\n",
       "      <td>849691526.0</td>\n",
       "    </tr>\n",
       "    <tr>\n",
       "      <th>1</th>\n",
       "      <td>J20</td>\n",
       "      <td>0.000268</td>\n",
       "      <td>837682330.5</td>\n",
       "    </tr>\n",
       "  </tbody>\n",
       "</table>\n",
       "</div>"
      ],
      "text/plain": [
       "   group   plaques  image_series_id\n",
       "0  5xFAD  0.000963      849691526.0\n",
       "1    J20  0.000268      837682330.5"
      ]
     },
     "execution_count": 46,
     "metadata": {},
     "output_type": "execute_result"
    }
   ],
   "source": [
    "root_mean = get_structure_data('Vis', 'root', 'density')\n",
    "rm = root_mean.groupby('group').mean().reset_index()\n",
    "rm"
   ]
  },
  {
   "cell_type": "code",
   "execution_count": 47,
   "metadata": {},
   "outputs": [
    {
     "data": {
      "text/plain": [
       "array([['J20', 0.0002683545244508423, 837682330.5]], dtype=object)"
      ]
     },
     "execution_count": 47,
     "metadata": {},
     "output_type": "execute_result"
    }
   ],
   "source": [
    "rm[rm['group'] == 'J20'].values"
   ]
  },
  {
   "cell_type": "code",
   "execution_count": 48,
   "metadata": {},
   "outputs": [
    {
     "data": {
      "text/html": [
       "<div>\n",
       "<style scoped>\n",
       "    .dataframe tbody tr th:only-of-type {\n",
       "        vertical-align: middle;\n",
       "    }\n",
       "\n",
       "    .dataframe tbody tr th {\n",
       "        vertical-align: top;\n",
       "    }\n",
       "\n",
       "    .dataframe thead th {\n",
       "        text-align: right;\n",
       "    }\n",
       "</style>\n",
       "<table border=\"1\" class=\"dataframe\">\n",
       "  <thead>\n",
       "    <tr style=\"text-align: right;\">\n",
       "      <th></th>\n",
       "      <th>group</th>\n",
       "      <th>image_series_id</th>\n",
       "      <th>structure</th>\n",
       "      <th>plaque</th>\n",
       "      <th>relative_diff</th>\n",
       "    </tr>\n",
       "  </thead>\n",
       "  <tbody>\n",
       "    <tr>\n",
       "      <th>2</th>\n",
       "      <td>5xFAD</td>\n",
       "      <td>852016065.5</td>\n",
       "      <td>HPF</td>\n",
       "      <td>0.000432</td>\n",
       "      <td>44.867746</td>\n",
       "    </tr>\n",
       "  </tbody>\n",
       "</table>\n",
       "</div>"
      ],
      "text/plain": [
       "   group  image_series_id structure    plaque  relative_diff\n",
       "2  5xFAD      852016065.5       HPF  0.000432      44.867746"
      ]
     },
     "execution_count": 48,
     "metadata": {},
     "output_type": "execute_result"
    }
   ],
   "source": [
    "root_mean = get_structure_data('Vis', 'root', 'density')\n",
    "rm = root_mean.groupby('group').mean().reset_index()\n",
    "_Vis = pd.DataFrame(columns={'treatment', 'group', 'plaques', 'structure'})\n",
    "for structure in coarse_structure_ids:\n",
    "    structure_acronym = ai_map[structure]\n",
    "    _Vis = pd.concat([_Vis, get_structure_data('Vis', structure_acronym, 'density')], sort = True)\n",
    "_VP = pd.DataFrame(columns={'treatment', 'group', 'plaques', 'structure'})\n",
    "for structure in coarse_structure_ids:\n",
    "    structure_acronym = ai_map[structure]\n",
    "    _VP = pd.concat([_VP, get_structure_data('V + P', structure_acronym, 'density')], sort = True)\n",
    "_Vis = _Vis.groupby(['group', 'structure']).mean().reset_index()\n",
    "_VP = _VP.groupby(['group', 'structure']).mean().reset_index()\n",
    "diffs = _VP['plaques'] - _Vis['plaques']\n",
    "diff = _VP[['group', 'image_series_id', 'structure']].copy()\n",
    "diff['plaque'] = diffs\n",
    "diff.loc[diff['group'] == 'J20', 'relative_diff'] = diff[diff['group'] == 'J20']['plaque'].values/rm[\n",
    "    rm['group'] == 'J20']['plaques'].values * 100\n",
    "diff.loc[diff['group'] == '5xFAD', 'relative_diff'] = diff[diff['group'] == '5xFAD']['plaque'].values/rm[\n",
    "    rm['group'] == '5xFAD']['plaques'].values * 100\n",
    "diff[diff['plaque'] == max(diff['plaque'].values)]"
   ]
  },
  {
   "cell_type": "code",
   "execution_count": 49,
   "metadata": {},
   "outputs": [
    {
     "data": {
      "image/png": "[encoded data removed]",
      "text/plain": [
       "<Figure size 432x288 with 1 Axes>"
      ]
     },
     "metadata": {
      "needs_background": "light"
     },
     "output_type": "display_data"
    }
   ],
   "source": [
    "fig, ax = plt.subplots()\n",
    "bins = np.linspace(-100, 100, 30)\n",
    "f = sns.distplot(diff[diff['group'] == 'J20']['relative_diff'].values, \n",
    "             bins = bins, kde = False, ax=ax, color = mouse_line_colors[0], label = 'J20')\n",
    "g = sns.distplot(diff[diff['group'] == '5xFAD']['relative_diff'].values, \n",
    "             bins = bins, kde = False, ax=ax, color = mouse_line_colors[1], label = '5xFAD')\n",
    "plt.axvline(x=0, color = 'gray', linestyle = '--', zorder = -1)\n",
    "ax.legend()\n",
    "ax.set_xlim([-25, 80])\n",
    "ax.set_xlabel('Percent Difference in Plaque Density')\n",
    "ax.set_ylabel('Number of Structures')\n",
    "plt.title('Difference in Plaque Density Per Structure (Relative to Mean)')\n",
    "plt.savefig(os.path.join(savepath, 'histogram difference in density by structure major divisions.pdf'), \n",
    "            bbox_inches='tight', pad_inches=0.3, format='pdf', transparent = True, dpi=300)"
   ]
  },
  {
   "cell_type": "code",
   "execution_count": 50,
   "metadata": {},
   "outputs": [
    {
     "data": {
      "text/html": [
       "<div>\n",
       "<style scoped>\n",
       "    .dataframe tbody tr th:only-of-type {\n",
       "        vertical-align: middle;\n",
       "    }\n",
       "\n",
       "    .dataframe tbody tr th {\n",
       "        vertical-align: top;\n",
       "    }\n",
       "\n",
       "    .dataframe thead th {\n",
       "        text-align: right;\n",
       "    }\n",
       "</style>\n",
       "<table border=\"1\" class=\"dataframe\">\n",
       "  <thead>\n",
       "    <tr style=\"text-align: right;\">\n",
       "      <th></th>\n",
       "      <th></th>\n",
       "      <th>image_series_id</th>\n",
       "      <th>plaque</th>\n",
       "      <th>relative_diff</th>\n",
       "    </tr>\n",
       "    <tr>\n",
       "      <th>group</th>\n",
       "      <th>structure</th>\n",
       "      <th></th>\n",
       "      <th></th>\n",
       "      <th></th>\n",
       "    </tr>\n",
       "  </thead>\n",
       "  <tbody>\n",
       "    <tr>\n",
       "      <th rowspan=\"13\" valign=\"top\">5xFAD</th>\n",
       "      <th>CB</th>\n",
       "      <td>852016065.5</td>\n",
       "      <td>1.649432e-04</td>\n",
       "      <td>17.130264</td>\n",
       "    </tr>\n",
       "    <tr>\n",
       "      <th>CTXsp</th>\n",
       "      <td>852016065.5</td>\n",
       "      <td>-2.699648e-05</td>\n",
       "      <td>-2.803733</td>\n",
       "    </tr>\n",
       "    <tr>\n",
       "      <th>HPF</th>\n",
       "      <td>852016065.5</td>\n",
       "      <td>4.320209e-04</td>\n",
       "      <td>44.867746</td>\n",
       "    </tr>\n",
       "    <tr>\n",
       "      <th>HY</th>\n",
       "      <td>852016065.5</td>\n",
       "      <td>5.673760e-05</td>\n",
       "      <td>5.892512</td>\n",
       "    </tr>\n",
       "    <tr>\n",
       "      <th>Isocortex</th>\n",
       "      <td>852016065.5</td>\n",
       "      <td>-7.039018e-05</td>\n",
       "      <td>-7.310408</td>\n",
       "    </tr>\n",
       "    <tr>\n",
       "      <th>MB</th>\n",
       "      <td>852016065.5</td>\n",
       "      <td>2.454430e-04</td>\n",
       "      <td>25.490605</td>\n",
       "    </tr>\n",
       "    <tr>\n",
       "      <th>MY</th>\n",
       "      <td>852016065.5</td>\n",
       "      <td>-4.845197e-05</td>\n",
       "      <td>-5.032004</td>\n",
       "    </tr>\n",
       "    <tr>\n",
       "      <th>OLF</th>\n",
       "      <td>852016065.5</td>\n",
       "      <td>1.788819e-04</td>\n",
       "      <td>18.577869</td>\n",
       "    </tr>\n",
       "    <tr>\n",
       "      <th>P</th>\n",
       "      <td>852016065.5</td>\n",
       "      <td>4.124109e-05</td>\n",
       "      <td>4.283114</td>\n",
       "    </tr>\n",
       "    <tr>\n",
       "      <th>PAL</th>\n",
       "      <td>852016065.5</td>\n",
       "      <td>5.507971e-05</td>\n",
       "      <td>5.720331</td>\n",
       "    </tr>\n",
       "    <tr>\n",
       "      <th>STR</th>\n",
       "      <td>852016065.5</td>\n",
       "      <td>8.166919e-05</td>\n",
       "      <td>8.481795</td>\n",
       "    </tr>\n",
       "    <tr>\n",
       "      <th>TH</th>\n",
       "      <td>852016065.5</td>\n",
       "      <td>-3.439741e-05</td>\n",
       "      <td>-3.572360</td>\n",
       "    </tr>\n",
       "    <tr>\n",
       "      <th>fiber tracts</th>\n",
       "      <td>852016065.5</td>\n",
       "      <td>7.392749e-05</td>\n",
       "      <td>7.677777</td>\n",
       "    </tr>\n",
       "    <tr>\n",
       "      <th rowspan=\"13\" valign=\"top\">J20</th>\n",
       "      <th>CB</th>\n",
       "      <td>847617742.5</td>\n",
       "      <td>1.510182e-04</td>\n",
       "      <td>56.275621</td>\n",
       "    </tr>\n",
       "    <tr>\n",
       "      <th>CTXsp</th>\n",
       "      <td>847617742.5</td>\n",
       "      <td>-2.645959e-07</td>\n",
       "      <td>-0.098599</td>\n",
       "    </tr>\n",
       "    <tr>\n",
       "      <th>HPF</th>\n",
       "      <td>847617742.5</td>\n",
       "      <td>2.111194e-04</td>\n",
       "      <td>78.671810</td>\n",
       "    </tr>\n",
       "    <tr>\n",
       "      <th>HY</th>\n",
       "      <td>847617742.5</td>\n",
       "      <td>2.264929e-05</td>\n",
       "      <td>8.440063</td>\n",
       "    </tr>\n",
       "    <tr>\n",
       "      <th>Isocortex</th>\n",
       "      <td>847617742.5</td>\n",
       "      <td>2.770666e-05</td>\n",
       "      <td>10.324648</td>\n",
       "    </tr>\n",
       "    <tr>\n",
       "      <th>MB</th>\n",
       "      <td>847617742.5</td>\n",
       "      <td>7.125665e-05</td>\n",
       "      <td>26.553175</td>\n",
       "    </tr>\n",
       "    <tr>\n",
       "      <th>MY</th>\n",
       "      <td>847617742.5</td>\n",
       "      <td>1.290082e-04</td>\n",
       "      <td>48.073809</td>\n",
       "    </tr>\n",
       "    <tr>\n",
       "      <th>OLF</th>\n",
       "      <td>847617742.5</td>\n",
       "      <td>-9.596330e-06</td>\n",
       "      <td>-3.575990</td>\n",
       "    </tr>\n",
       "    <tr>\n",
       "      <th>P</th>\n",
       "      <td>847617742.5</td>\n",
       "      <td>1.081864e-04</td>\n",
       "      <td>40.314724</td>\n",
       "    </tr>\n",
       "    <tr>\n",
       "      <th>PAL</th>\n",
       "      <td>847617742.5</td>\n",
       "      <td>9.160497e-06</td>\n",
       "      <td>3.413580</td>\n",
       "    </tr>\n",
       "    <tr>\n",
       "      <th>STR</th>\n",
       "      <td>847617742.5</td>\n",
       "      <td>2.944103e-05</td>\n",
       "      <td>10.970947</td>\n",
       "    </tr>\n",
       "    <tr>\n",
       "      <th>TH</th>\n",
       "      <td>847617742.5</td>\n",
       "      <td>4.145888e-05</td>\n",
       "      <td>15.449296</td>\n",
       "    </tr>\n",
       "    <tr>\n",
       "      <th>fiber tracts</th>\n",
       "      <td>847617742.5</td>\n",
       "      <td>5.002950e-05</td>\n",
       "      <td>18.643062</td>\n",
       "    </tr>\n",
       "  </tbody>\n",
       "</table>\n",
       "</div>"
      ],
      "text/plain": [
       "                    image_series_id        plaque  relative_diff\n",
       "group structure                                                 \n",
       "5xFAD CB                852016065.5  1.649432e-04      17.130264\n",
       "      CTXsp             852016065.5 -2.699648e-05      -2.803733\n",
       "      HPF               852016065.5  4.320209e-04      44.867746\n",
       "      HY                852016065.5  5.673760e-05       5.892512\n",
       "      Isocortex         852016065.5 -7.039018e-05      -7.310408\n",
       "      MB                852016065.5  2.454430e-04      25.490605\n",
       "      MY                852016065.5 -4.845197e-05      -5.032004\n",
       "      OLF               852016065.5  1.788819e-04      18.577869\n",
       "      P                 852016065.5  4.124109e-05       4.283114\n",
       "      PAL               852016065.5  5.507971e-05       5.720331\n",
       "      STR               852016065.5  8.166919e-05       8.481795\n",
       "      TH                852016065.5 -3.439741e-05      -3.572360\n",
       "      fiber tracts      852016065.5  7.392749e-05       7.677777\n",
       "J20   CB                847617742.5  1.510182e-04      56.275621\n",
       "      CTXsp             847617742.5 -2.645959e-07      -0.098599\n",
       "      HPF               847617742.5  2.111194e-04      78.671810\n",
       "      HY                847617742.5  2.264929e-05       8.440063\n",
       "      Isocortex         847617742.5  2.770666e-05      10.324648\n",
       "      MB                847617742.5  7.125665e-05      26.553175\n",
       "      MY                847617742.5  1.290082e-04      48.073809\n",
       "      OLF               847617742.5 -9.596330e-06      -3.575990\n",
       "      P                 847617742.5  1.081864e-04      40.314724\n",
       "      PAL               847617742.5  9.160497e-06       3.413580\n",
       "      STR               847617742.5  2.944103e-05      10.970947\n",
       "      TH                847617742.5  4.145888e-05      15.449296\n",
       "      fiber tracts      847617742.5  5.002950e-05      18.643062"
      ]
     },
     "execution_count": 50,
     "metadata": {},
     "output_type": "execute_result"
    }
   ],
   "source": [
    "diff.groupby(['group', 'structure']).mean()"
   ]
  },
  {
   "cell_type": "code",
   "execution_count": 51,
   "metadata": {},
   "outputs": [
    {
     "data": {
      "image/png": "[encoded data removed]",
      "text/plain": [
       "<Figure size 288x252 with 2 Axes>"
      ]
     },
     "metadata": {
      "needs_background": "light"
     },
     "output_type": "display_data"
    }
   ],
   "source": [
    "fig, ax = plt.subplots(2, 1, figsize = (4, 3.5), sharex = True)\n",
    "groups = ['J20', '5xFAD'] # same as mdf['group'].unique() but keeps consistent plot order\n",
    "diff['ont_order'] = [oo_dict_coarse[acronym] for acronym in diff['structure']]\n",
    "diff = diff.sort_values(by='ont_order')\n",
    "for ix in range(2):\n",
    "    group = groups[ix]\n",
    "    g = sns.stripplot('structure', 'relative_diff', data = diff[diff['group'] == group],\n",
    "                  palette = ccf_colors, ax=ax[ix])\n",
    "    g.axhline(y=0, c = 'gray', linestyle = '--')\n",
    "    g.set_ylabel('Relative Difference\\n(% Mean)')\n",
    "    g.set_title(group)\n",
    "    plt.tight_layout()\n",
    "    fig.subplots_adjust(hspace = 0.4)\n",
    "plt.xticks(rotation = 90)\n",
    "plt.savefig(os.path.join(savepath, 'difference in plaque density major divisions.pdf'), \n",
    "            bbox_inches='tight', pad_inches=0.3, format='pdf', transparent = True, dpi=300)\n",
    "plt.savefig(os.path.join(savepath, 'difference in plaque density major divisions.png'), \n",
    "            bbox_inches='tight', pad_inches=0.3, format='png', transparent = True, dpi=300)"
   ]
  },
  {
   "cell_type": "markdown",
   "metadata": {},
   "source": [
    "## Summary Structures"
   ]
  },
  {
   "cell_type": "code",
   "execution_count": 52,
   "metadata": {},
   "outputs": [
    {
     "data": {
      "text/html": [
       "<div>\n",
       "<style scoped>\n",
       "    .dataframe tbody tr th:only-of-type {\n",
       "        vertical-align: middle;\n",
       "    }\n",
       "\n",
       "    .dataframe tbody tr th {\n",
       "        vertical-align: top;\n",
       "    }\n",
       "\n",
       "    .dataframe thead th {\n",
       "        text-align: right;\n",
       "    }\n",
       "</style>\n",
       "<table border=\"1\" class=\"dataframe\">\n",
       "  <thead>\n",
       "    <tr style=\"text-align: right;\">\n",
       "      <th></th>\n",
       "      <th>group</th>\n",
       "      <th>image_series_id</th>\n",
       "      <th>structure</th>\n",
       "      <th>plaque</th>\n",
       "      <th>relative_diff</th>\n",
       "    </tr>\n",
       "  </thead>\n",
       "  <tbody>\n",
       "    <tr>\n",
       "      <th>78</th>\n",
       "      <td>5xFAD</td>\n",
       "      <td>852016065.5</td>\n",
       "      <td>GR</td>\n",
       "      <td>0.011441</td>\n",
       "      <td>2367.94145</td>\n",
       "    </tr>\n",
       "  </tbody>\n",
       "</table>\n",
       "</div>"
      ],
      "text/plain": [
       "    group  image_series_id structure    plaque  relative_diff\n",
       "78  5xFAD      852016065.5        GR  0.011441     2367.94145"
      ]
     },
     "execution_count": 52,
     "metadata": {},
     "output_type": "execute_result"
    }
   ],
   "source": [
    "_Vis = pd.DataFrame(columns={'treatment', 'group', 'plaques', 'structure'})\n",
    "for structure in summary_structure_ids:\n",
    "    structure_acronym = ai_map[structure]\n",
    "    _Vis = pd.concat([_Vis, get_structure_data('Vis', structure_acronym, 'density')], sort = True)\n",
    "_VP = pd.DataFrame(columns={'treatment', 'group', 'plaques', 'structure'})\n",
    "for structure in summary_structure_ids:\n",
    "    structure_acronym = ai_map[structure]\n",
    "    _VP = pd.concat([_VP, get_structure_data('V + P', structure_acronym, 'density')], sort = True)\n",
    "_Vis = _Vis.groupby(['group', 'structure']).mean().reset_index()\n",
    "_VP = _VP.groupby(['group', 'structure']).mean().reset_index()\n",
    "diffs = _VP['plaques'] - _Vis['plaques']\n",
    "diff = _VP[['group', 'image_series_id', 'structure']].copy()\n",
    "diff['plaque'] = diffs\n",
    "diff['relative_diff'] = diff['plaque']/_Vis['plaques'].mean()*100\n",
    "diff[diff['plaque'] == max(diff['plaque'].values)]"
   ]
  },
  {
   "cell_type": "code",
   "execution_count": 53,
   "metadata": {},
   "outputs": [
    {
     "data": {
      "image/png": "[encoded data removed]",
      "text/plain": [
       "<Figure size 576x252 with 2 Axes>"
      ]
     },
     "metadata": {
      "needs_background": "light"
     },
     "output_type": "display_data"
    }
   ],
   "source": [
    "fig, ax = plt.subplots(1, 2, figsize = (8, 3.5))\n",
    "bins = np.linspace(-100, 100, 30)\n",
    "f = sns.distplot(diff[diff['group'] == 'J20']['relative_diff'].values, \n",
    "             bins = bins, kde = False, ax=ax[0], color = mouse_line_colors[0], label = 'J20')\n",
    "g = sns.distplot(diff[diff['group'] == '5xFAD']['relative_diff'].values, \n",
    "             bins = bins, kde = False, ax=ax[1], color = mouse_line_colors[1], label = '5xFAD')\n",
    "ax[0].axvline(x=0, color = 'gray', linestyle = '--', zorder = -1)\n",
    "ax[1].axvline(x=0, color = 'gray', linestyle = '--', zorder = -1)\n",
    "ax[0].legend()\n",
    "ax[1].legend()\n",
    "ax[0].set_yscale('log')\n",
    "ax[1].set_yscale('log')\n",
    "ax[0].set_xlabel('Percent Change in Plaque Density With Ablation')\n",
    "ax[1].set_xlabel('Percent Change in Plaque Density With Ablation')\n",
    "ax[0].set_ylabel('Number of Structures (log10)')\n",
    "plt.suptitle('Difference in Plaque Density Per Structure (Relative to Mean)')\n",
    "plt.savefig(os.path.join(savepath, 'relative difference all structures.png'.format(structure)), \n",
    "            bbox_inches='tight', pad_inches=0.3, format='png', transparent = True, dpi=1000)"
   ]
  },
  {
   "cell_type": "code",
   "execution_count": 54,
   "metadata": {},
   "outputs": [],
   "source": [
    "ss_dat = dat[dat['structure_id'].isin(summary_structure_ids)]"
   ]
  },
  {
   "cell_type": "code",
   "execution_count": 55,
   "metadata": {},
   "outputs": [
    {
     "name": "stderr",
     "output_type": "stream",
     "text": [
      "/anaconda2/envs/py37/lib/python3.7/site-packages/ipykernel_launcher.py:1: SettingWithCopyWarning: \n",
      "A value is trying to be set on a copy of a slice from a DataFrame\n",
      "\n",
      "See the caveats in the documentation: http://pandas.pydata.org/pandas-docs/stable/indexing.html#indexing-view-versus-copy\n",
      "  \"\"\"Entry point for launching an IPython kernel.\n"
     ]
    }
   ],
   "source": [
    "ss_dat.sort_values(by = ['structure_id'], inplace = True)"
   ]
  },
  {
   "cell_type": "code",
   "execution_count": 56,
   "metadata": {},
   "outputs": [
    {
     "name": "stdout",
     "output_type": "stream",
     "text": [
      "3.188009413082516e-07\n"
     ]
    }
   ],
   "source": [
    "_, p = stats.ttest_rel(ss_dat[(ss_dat['mouse_line'] == '5xFAD') &\n",
    "                              (ss_dat['treatment'] == 'Vis')]['plaque_density'].values, \n",
    "                       ss_dat[(ss_dat['mouse_line'] == '5xFAD') &\n",
    "                              (ss_dat['treatment'] == 'V + P')]['plaque_density'].values)\n",
    "print(p)"
   ]
  },
  {
   "cell_type": "code",
   "execution_count": 57,
   "metadata": {},
   "outputs": [
    {
     "name": "stdout",
     "output_type": "stream",
     "text": [
      "count    1896.000000\n",
      "mean        0.000752\n",
      "std         0.001708\n",
      "min         0.000000\n",
      "25%         0.000000\n",
      "50%         0.000072\n",
      "75%         0.000809\n",
      "max         0.019724\n",
      "Name: plaque_density, dtype: float64\n",
      "count    1896.000000\n",
      "mean        0.001025\n",
      "std         0.002963\n",
      "min         0.000000\n",
      "25%         0.000000\n",
      "50%         0.000152\n",
      "75%         0.001163\n",
      "max         0.075380\n",
      "Name: plaque_density, dtype: float64\n"
     ]
    }
   ],
   "source": [
    "print(ss_dat[(ss_dat['mouse_line'] == '5xFAD') &\n",
    "                              (ss_dat['treatment'] == 'Vis')]['plaque_density'].describe())\n",
    "print(ss_dat[(ss_dat['mouse_line'] == '5xFAD') &\n",
    "                              (ss_dat['treatment'] == 'V + P')]['plaque_density'].describe())"
   ]
  },
  {
   "cell_type": "code",
   "execution_count": 58,
   "metadata": {},
   "outputs": [
    {
     "name": "stdout",
     "output_type": "stream",
     "text": [
      "1.6655534049445036e-07\n"
     ]
    }
   ],
   "source": [
    "_, p = stats.ttest_rel(ss_dat[(ss_dat['mouse_line'] == 'J20') &\n",
    "                              (ss_dat['treatment'] == 'Vis')]['plaque_density'].values, \n",
    "                       ss_dat[(ss_dat['mouse_line'] == 'J20') &\n",
    "                              (ss_dat['treatment'] == 'V + P')]['plaque_density'].values)\n",
    "print(p)"
   ]
  },
  {
   "cell_type": "code",
   "execution_count": 59,
   "metadata": {},
   "outputs": [
    {
     "name": "stdout",
     "output_type": "stream",
     "text": [
      "count    1896.000000\n",
      "mean        0.000195\n",
      "std         0.000711\n",
      "min         0.000000\n",
      "25%         0.000000\n",
      "50%         0.000004\n",
      "75%         0.000107\n",
      "max         0.016555\n",
      "Name: plaque_density, dtype: float64\n",
      "count    1896.000000\n",
      "mean        0.000307\n",
      "std         0.001124\n",
      "min         0.000000\n",
      "25%         0.000000\n",
      "50%         0.000009\n",
      "75%         0.000159\n",
      "max         0.026441\n",
      "Name: plaque_density, dtype: float64\n"
     ]
    }
   ],
   "source": [
    "print(ss_dat[(ss_dat['mouse_line'] == 'J20') &\n",
    "                              (ss_dat['treatment'] == 'Vis')]['plaque_density'].describe())\n",
    "print(ss_dat[(ss_dat['mouse_line'] == 'J20') &\n",
    "                              (ss_dat['treatment'] == 'V + P')]['plaque_density'].describe())"
   ]
  },
  {
   "cell_type": "code",
   "execution_count": 60,
   "metadata": {},
   "outputs": [
    {
     "name": "stdout",
     "output_type": "stream",
     "text": [
      "0.836907069858113\n",
      "0.6248145262450906\n"
     ]
    }
   ],
   "source": [
    "spearmanr, _ = stats.spearmanr(ss_dat[(ss_dat['mouse_line'] == '5xFAD') &\n",
    "                              (ss_dat['treatment'] == 'Vis')]['plaque_density'], \n",
    "                           ss_dat[(ss_dat['mouse_line'] == '5xFAD') &\n",
    "                              (ss_dat['treatment'] == 'V + P')]['plaque_density'])\n",
    "pearsonr, _ = stats.pearsonr(ss_dat[(ss_dat['mouse_line'] == '5xFAD') &\n",
    "                              (ss_dat['treatment'] == 'Vis')]['plaque_density'], \n",
    "                           ss_dat[(ss_dat['mouse_line'] == '5xFAD') &\n",
    "                              (ss_dat['treatment'] == 'V + P')]['plaque_density'])\n",
    "print(spearmanr)\n",
    "print(pearsonr)"
   ]
  },
  {
   "cell_type": "code",
   "execution_count": 61,
   "metadata": {},
   "outputs": [
    {
     "name": "stdout",
     "output_type": "stream",
     "text": [
      "0.7398633651217885\n",
      "0.5721952898325263\n"
     ]
    }
   ],
   "source": [
    "spearmanr, _ = stats.spearmanr(ss_dat[(ss_dat['mouse_line'] == 'J20') &\n",
    "                              (ss_dat['treatment'] == 'Vis')]['plaque_density'], \n",
    "                           ss_dat[(ss_dat['mouse_line'] == 'J20') &\n",
    "                              (ss_dat['treatment'] == 'V + P')]['plaque_density'])\n",
    "pearsonr, _ = stats.pearsonr(ss_dat[(ss_dat['mouse_line'] == 'J20') &\n",
    "                              (ss_dat['treatment'] == 'Vis')]['plaque_density'], \n",
    "                           ss_dat[(ss_dat['mouse_line'] == 'J20') &\n",
    "                              (ss_dat['treatment'] == 'V + P')]['plaque_density'])\n",
    "print(spearmanr)\n",
    "print(pearsonr)"
   ]
  },
  {
   "cell_type": "markdown",
   "metadata": {},
   "source": [
    "## Plotting Functions"
   ]
  },
  {
   "cell_type": "code",
   "execution_count": 62,
   "metadata": {},
   "outputs": [],
   "source": [
    "def get_line_data(mouse_line, structure, q_type):\n",
    "    data = dat\n",
    "    if q_type == 'density':\n",
    "        data = data.rename(columns = {'plaque_density': 'plaque'})\n",
    "    elif q_type == 'count':\n",
    "        data = data.rename(columns = {'count_per_mm_3': 'plaque'})\n",
    "    elif q_type == 'volume':\n",
    "        data = data.rename(columns = {'avg_plaque_volume': 'plaque'})\n",
    "    structure_id = ia_map[structure]\n",
    "    treatments = []\n",
    "    plaques = []\n",
    "    isids_carrythrough = []\n",
    "    for treatment in dataset[dataset['mouse_line'] == mouse_line]['treatment'].unique():\n",
    "        isids = dataset[(dataset['mouse_line'] == mouse_line) & \n",
    "                        (dataset['treatment'] == treatment)]['image_series_id'].values\n",
    "        for isid in isids:\n",
    "            treatments.append(treatment)\n",
    "            if len(data[(data['structure_id'] == structure_id) & (\n",
    "                data['image_series_id'] == isid)]['plaque']) > 0:\n",
    "                plaques.append(data[(data['structure_id'] == structure_id) & \n",
    "                                         (data['image_series_id'] == isid)]\n",
    "                                     ['plaque'].values[0])\n",
    "            else:\n",
    "                print(isid)\n",
    "                print(ai_map[structure_id])\n",
    "                plaques.append(0)\n",
    "                    \n",
    "            isids_carrythrough.append(isid)\n",
    "    structuredat = pd.DataFrame({'treatment': treatments, 'structure': structure, \n",
    "                                 'group': mouse_line, 'plaques': plaques,\n",
    "                                'image_series_id': isids_carrythrough})\n",
    "    return structuredat"
   ]
  },
  {
   "cell_type": "code",
   "execution_count": 63,
   "metadata": {},
   "outputs": [],
   "source": [
    "def make_broken_lineplot(mouse_line, structures, sorterIndex, title, title_position, width, height, break_point, ax_max = 0, ticks1 = 0, ticks2 = 0):\n",
    "    pltdat = pd.DataFrame(columns={'treatment', 'group', 'plaques', 'structure'})\n",
    "    for structure in structures:\n",
    "        structure_acronym = ai_map[structure]\n",
    "        pltdat = pd.concat([pltdat, get_line_data(mouse_line, structure_acronym, 'density')], sort = True)\n",
    "    pltdat['Percent Plaque Coverage'] = [density*100 for density in pltdat['plaques']]\n",
    "    meddat = pltdat.groupby(['treatment', 'structure']).median().reset_index()\n",
    "    median = pltdat.groupby(['treatment']).median().reset_index()\n",
    "    meddat['rank'] = meddat['structure'].map(sorterIndex)\n",
    "    meddat = meddat.sort_values(by='rank')\n",
    "    meddat['lower_error'] = pltdat.groupby(['treatment', 'structure']).quantile(.25).reset_index()['Percent Plaque Coverage']\n",
    "    meddat['lower_error'] = meddat['Percent Plaque Coverage'] - meddat['lower_error']\n",
    "    meddat['upper_error'] = pltdat.groupby(['treatment', 'structure']).quantile(.75).reset_index()['Percent Plaque Coverage']\n",
    "    meddat['upper_error'] = meddat['upper_error'] - meddat['Percent Plaque Coverage']\n",
    "    \n",
    "    f, (ax, ax2) = plt.subplots(1, 2, sharey=True, figsize = (width, height))\n",
    "    # plot the same data on both axes\n",
    "    treatments = ['Vis', 'V + P']\n",
    "    for ix, treatment in enumerate(treatments):\n",
    "        xerr = np.array(meddat[meddat['treatment'] == group][['lower_error', 'upper_error']].T)\n",
    "        ax.errorbar(meddat[meddat['treatment'] == treatment]['Percent Plaque Coverage'], \n",
    "                 meddat[meddat['treatment'] == treatment]['structure'], c = mouse_line_colors[ix],\n",
    "                    xerr=xerr, alpha = 0.5, zorder = -1)\n",
    "        ax.plot(meddat[meddat['treatment'] == treatment]['Percent Plaque Coverage'], \n",
    "                 meddat[meddat['treatment'] == treatment]['structure'], c = mouse_line_colors[ix],\n",
    "               marker = '.', markerfacecolor = dark_colors[ix], markeredgecolor = dark_colors[ix],\n",
    "                markeredgewidth = 0.5)\n",
    "        ax.axvline(x=median[median['treatment'] == treatment]['Percent Plaque Coverage'].values, \n",
    "                   color = mouse_line_colors[ix], linestyle = 'dashed', alpha = 0.5, zorder = -1)\n",
    "        \n",
    "        ax2.errorbar(meddat[meddat['treatment'] == treatment]['Percent Plaque Coverage'], \n",
    "                 meddat[meddat['treatment'] == treatment]['structure'], c = mouse_line_colors[ix],\n",
    "                     xerr=xerr, alpha = 0.5, zorder = -1)\n",
    "        ax2.plot(meddat[meddat['treatment'] == treatment]['Percent Plaque Coverage'], \n",
    "                 meddat[meddat['treatment'] == treatment]['structure'], c = mouse_line_colors[ix],\n",
    "                marker = '.', markerfacecolor = dark_colors[ix], markeredgecolor = dark_colors[ix],\n",
    "                 markeredgewidth = 0.5)\n",
    "        ax2.axvline(x=median[median['treatment'] == treatment]['Percent Plaque Coverage'].values, \n",
    "                   color = mouse_line_colors[ix], linestyle = 'dashed', alpha = 0.5, zorder = -1)\n",
    "    if ax_max == 0:\n",
    "        x_max = np.max(meddat['upper_error'])\n",
    "    else:\n",
    "        x_max = ax_max\n",
    "    # zoom-in / limit the view to different portions of the data\n",
    "    ax.set_xlim(-0.01, break_point)  # left half\n",
    "    ax2.set_xlim(break_point, x_max)  # right half\n",
    "\n",
    "    # hide the spines between ax and ax2\n",
    "    ax.spines['right'].set_visible(False)\n",
    "    ax.tick_params(labeltop='off')  # don't put tick labels at the top\n",
    "    ax.tick_params(top='off')\n",
    "    ax.tick_params(axis='y', labelsize=6, length = 1)\n",
    "    if ticks1 > 0:\n",
    "        ax.xaxis.set_major_locator(ticker.MultipleLocator(ticks1))\n",
    "        ax.xaxis.set_major_formatter(ticker.ScalarFormatter())\n",
    "    \n",
    "    ax2.spines['left'].set_visible(False)\n",
    "    ax2.tick_params(top='off')\n",
    "    ax2.tick_params(axis = 'y', length = 1)\n",
    "    ax2.xaxis.tick_bottom()\n",
    "    if ticks2 > 0:\n",
    "        ax2.xaxis.set_major_locator(ticker.MultipleLocator(ticks2))\n",
    "        ax2.xaxis.set_major_formatter(ticker.ScalarFormatter())\n",
    "\n",
    "    d = .015  # how big to make the diagonal lines in axes coordinates\n",
    "    # arguments to pass to plot, just so we don't keep repeating them\n",
    "    kwargs = dict(transform=ax.transAxes, color='k', clip_on=False)\n",
    "    ax.plot((1-d, 1+d), (-d, +d), **kwargs)        # bottom-left diagonal\n",
    "    ax.plot((1 - d, 1 + d), (1 - d, 1 + d), **kwargs)  # top-left diagonal\n",
    "\n",
    "    kwargs.update(transform=ax2.transAxes)  # switch to the bottom axes\n",
    "    ax2.plot((-d, +d), (1 - d, 1 + d), **kwargs)  # top-right diagonal\n",
    "    ax2.plot((-d, +d), (-d, +d), **kwargs)  # top-right diagonal\n",
    "    f.subplots_adjust(wspace=0.1)\n",
    "    ax2.set_ylabel(\"\")\n",
    "    plt.yticks(np.arange(len(meddat['structure'].unique())), meddat['structure'].unique());\n",
    "    plt.setp( ax2.yaxis.get_majorticklabels(), rotation=90 )\n",
    "    plt.suptitle(age, fontsize = 10, y=title_position)\n",
    "    #plt.savefig(os.path.join(savepath, 'plaque percent coverage in {0} {1} lineplot broken x axis.pdf'.format(title, age)), \n",
    "    #            bbox_inches='tight', pad_inches=0.3, format='pdf', transparent = True, dpi=300)\n",
    "    \n",
    "def make_lineplot(mouse_line, structures, sorterIndex, title, title_position, width, height, ax_max = 0, ticks = 0):\n",
    "    if mouse_line == 'J20':\n",
    "        colors = J20_colors\n",
    "    elif mouse_line == '5xFAD':\n",
    "        colors = FAD_colors\n",
    "    pltdat = pd.DataFrame(columns={'treatment', 'group', 'plaques', 'structure'})\n",
    "    for structure in structures:\n",
    "        structure_acronym = ai_map[structure]\n",
    "        pltdat = pd.concat([pltdat, get_line_data(mouse_line, structure_acronym, 'density')], sort = True)\n",
    "    pltdat['Percent Plaque Coverage'] = [density*100 for density in pltdat['plaques']]\n",
    "    meddat = pltdat.groupby(['treatment', 'structure']).median().reset_index()\n",
    "    median = pltdat.groupby(['treatment']).median().reset_index()\n",
    "    meddat['rank'] = meddat['structure'].map(sorterIndex)\n",
    "    meddat = meddat.sort_values(by='rank')\n",
    "    meddat['lower_error'] = pltdat.groupby(['treatment', 'structure']).quantile(.25).reset_index()['Percent Plaque Coverage']\n",
    "    meddat['lower_error'] = meddat['Percent Plaque Coverage'] - meddat['lower_error']\n",
    "    meddat['upper_error'] = pltdat.groupby(['treatment', 'structure']).quantile(.75).reset_index()['Percent Plaque Coverage']\n",
    "    meddat['upper_error'] = meddat['upper_error'] - meddat['Percent Plaque Coverage']\n",
    "    fig, ax = plt.subplots(figsize = (width, height))\n",
    "    treatments = ['Vis', 'V + P']\n",
    "    for ix, treatment in enumerate(treatments):\n",
    "        xerr = np.array(meddat[meddat['treatment'] == treatment][['lower_error', 'upper_error']].T)\n",
    "        ax.errorbar(meddat[meddat['treatment'] == treatment]['Percent Plaque Coverage'], \n",
    "                 meddat[meddat['treatment'] == treatment]['structure'], c = colors[ix],\n",
    "                    xerr=xerr, alpha = 0.5, zorder = -1)\n",
    "        ax.plot(meddat[meddat['treatment'] == treatment]['Percent Plaque Coverage'], \n",
    "                 meddat[meddat['treatment'] == treatment]['structure'], c = colors[ix],\n",
    "               marker = '.', markerfacecolor = dark_colors[ix], markeredgecolor = colors[ix],\n",
    "                markeredgewidth = 0.5)\n",
    "        ax.axvline(x=median[median['treatment'] == treatment]['Percent Plaque Coverage'].values, \n",
    "                   color = colors[ix], linestyle = 'dashed', alpha = 0.5, zorder = -1)\n",
    "    if ax_max == 0:\n",
    "        x_max = np.max(meddat['upper_error'])\n",
    "    else:\n",
    "        x_max = ax_max\n",
    "    ax.set_xlim(-0.01, x_max)\n",
    "    if ticks > 0:\n",
    "        ax.xaxis.set_major_locator(ticker.MultipleLocator(ticks))\n",
    "        ax.xaxis.set_major_formatter(ticker.ScalarFormatter())\n",
    "    ax.tick_params(axis='y', labelsize=6, length = 1)\n",
    "    plt.suptitle(mouse_line, fontsize = 10, y=title_position)\n",
    "    plt.yticks(np.arange(len(meddat['structure'].unique())), meddat['structure'].unique());\n",
    "    ax.set_ylabel(\"\")\n",
    "    #plt.savefig(os.path.join(savepath, 'plaque percent coverage in {0} {1} lineplot.pdf'.format(title, age)), \n",
    "    #            bbox_inches='tight', pad_inches=0.3, format='pdf', transparent = True, dpi=300)"
   ]
  },
  {
   "cell_type": "code",
   "execution_count": 79,
   "metadata": {},
   "outputs": [],
   "source": [
    "def make_horizontal_lineplot(mouse_line, structures, sorterIndex, title, title_position, width, height, ax_max = 0, ticks = 0):\n",
    "    if mouse_line == 'J20':\n",
    "        colors = J20_colors\n",
    "    elif mouse_line == '5xFAD':\n",
    "        colors = FAD_colors\n",
    "    pltdat = pd.DataFrame(columns={'treatment', 'group', 'plaques', 'structure'})\n",
    "    for structure in structures:\n",
    "        structure_acronym = ai_map[structure]\n",
    "        pltdat = pd.concat([pltdat, get_line_data(mouse_line, structure_acronym, 'density')], sort = True)\n",
    "    pltdat['Percent Plaque Coverage'] = [density*100 for density in pltdat['plaques']]\n",
    "    meandat = pltdat.groupby(['treatment', 'structure']).mean().reset_index()\n",
    "    mean = pltdat.groupby(['treatment']).mean().reset_index()\n",
    "    meandat['rank'] = meandat['structure'].map(sorterIndex)\n",
    "    meandat = meandat.sort_values(by='rank')\n",
    "    meandat['lower_error'] = pltdat.groupby(['treatment', 'structure']).quantile(.25).reset_index()['Percent Plaque Coverage']\n",
    "    meandat['lower_error'] = meandat['Percent Plaque Coverage'] - meandat['lower_error']\n",
    "    meandat['upper_error'] = pltdat.groupby(['treatment', 'structure']).quantile(.75).reset_index()['Percent Plaque Coverage']\n",
    "    meandat['upper_error'] = meandat['upper_error'] - meandat['Percent Plaque Coverage']\n",
    "    fig, ax = plt.subplots(figsize = (width, height))\n",
    "    treatments = ['Vis', 'V + P']\n",
    "    for ix, treatment in enumerate(treatments):\n",
    "        yerr = np.array(meandat[meandat['treatment'] == treatment][['lower_error', 'upper_error']].T)\n",
    "        ax.errorbar(meandat[meandat['treatment'] == treatment]['structure'], \n",
    "                    meandat[meandat['treatment'] == treatment]['Percent Plaque Coverage'],\n",
    "                    c = colors[ix], yerr=yerr, alpha = 0.5, zorder = -1)\n",
    "        ax.plot(meandat[meandat['treatment'] == treatment]['structure'], \n",
    "                meandat[meandat['treatment'] == treatment]['Percent Plaque Coverage'], c = colors[ix],\n",
    "               marker = '.', markeredgecolor = colors[ix],\n",
    "                markeredgewidth = 0.5)\n",
    "        ax.axhline(y=mean[mean['treatment'] == treatment]['Percent Plaque Coverage'].values, \n",
    "                   color = colors[ix], linestyle = 'dashed', alpha = 0.5, zorder = -1)\n",
    "    if ax_max == 0:\n",
    "        y_max = np.max(meddat['upper_error'])\n",
    "    else:\n",
    "        y_max = ax_max\n",
    "    ax.set_ylim(-0.01, y_max)\n",
    "    if ticks > 0:\n",
    "        ax.yaxis.set_major_locator(ticker.MultipleLocator(ticks))\n",
    "        ax.yaxis.set_major_formatter(ticker.ScalarFormatter())\n",
    "    ax.tick_params(axis='x', labelsize=8, length = 1)\n",
    "    plt.suptitle(mouse_line, fontsize = 10, y=title_position)\n",
    "    plt.xticks(np.arange(len(meandat['structure'].unique())), meandat['structure'].unique(), rotation = -90);\n",
    "    ax.set_ylabel(\"Percent Plaque Coverage\")\n",
    "    plt.savefig(os.path.join(savepath, 'plaque percent coverage in {0} {1} lineplot.pdf'.format(title, mouse_line)), \n",
    "                bbox_inches='tight', pad_inches=0.3, format='pdf', transparent = True, dpi=300)"
   ]
  },
  {
   "cell_type": "code",
   "execution_count": 65,
   "metadata": {},
   "outputs": [],
   "source": [
    "def get_sorter_index(structure_acronym):\n",
    "    structures = structure_tree.get_structures_by_acronym([structure_acronym])[0]\n",
    "    str_ids = structure_tree.descendant_ids([structures['id']])[0]\n",
    "    str_ss = [ids for ids in str_ids if ids in summary_structure_ids]\n",
    "    acronyms = [ai_map[stid] for stid in str_ss]\n",
    "    plot_order = [structure_tree.get_structures_by_id([stid])[0]['graph_order'] for stid in str_ss]\n",
    "    sorter = dict(zip(acronyms,plot_order))\n",
    "    sorted_structures = []\n",
    "    s = [(k, sorter[k]) for k in sorted(sorter, key=sorter.get, reverse=False)]\n",
    "    for k, v in s:\n",
    "        sorted_structures.append(k)\n",
    "    sorterIndex = dict(zip(sorted_structures,range(len(plot_order))))\n",
    "    return sorterIndex"
   ]
  },
  {
   "cell_type": "markdown",
   "metadata": {},
   "source": [
    "## Isocortex"
   ]
  },
  {
   "cell_type": "code",
   "execution_count": 66,
   "metadata": {},
   "outputs": [],
   "source": [
    "iso = structure_tree.get_structures_by_acronym(['Isocortex'])[0]\n",
    "iso = structure_tree.descendant_ids([iso['id']])[0]\n",
    "iso = [structure for structure in iso if structure in summary_structure_ids]"
   ]
  },
  {
   "cell_type": "code",
   "execution_count": 67,
   "metadata": {},
   "outputs": [],
   "source": [
    "plot_order = ['FRP', 'MOp', 'MOs', 'SSp-n', 'SSp-bfd', 'SSp-ll', 'SSp-m', 'SSp-ul', 'SSp-tr', 'SSp-un',\n",
    "              'SSs', 'GU', 'VISC', 'AUDd', 'AUDp', 'AUDpo', 'AUDv', 'VISal', 'VISam', 'VISl', 'VISp', 'VISpl',\n",
    "              'VISpm', 'VISli', 'VISpor', 'ACAd', 'ACAv', 'PL', 'ILA', 'ORBl', 'ORBm', 'ORBvl', 'AId', 'AIp',\n",
    "              'AIv', 'RSPagl', 'RSPd', 'RSPv', 'VISa', 'VISrl', 'TEa', 'PERI', 'ECT']"
   ]
  },
  {
   "cell_type": "code",
   "execution_count": 80,
   "metadata": {
    "scrolled": false
   },
   "outputs": [
    {
     "data": {
      "image/png": "[encoded data removed]",
      "text/plain": [
       "<Figure size 576x216 with 1 Axes>"
      ]
     },
     "metadata": {
      "needs_background": "light"
     },
     "output_type": "display_data"
    }
   ],
   "source": [
    "make_horizontal_lineplot('J20', iso, get_sorter_index('Isocortex'), 'Isocortex', 0.92, 8, 3, 0.4)"
   ]
  },
  {
   "cell_type": "code",
   "execution_count": 81,
   "metadata": {
    "scrolled": false
   },
   "outputs": [
    {
     "data": {
      "image/png": "[encoded data removed]",
      "text/plain": [
       "<Figure size 576x216 with 1 Axes>"
      ]
     },
     "metadata": {
      "needs_background": "light"
     },
     "output_type": "display_data"
    }
   ],
   "source": [
    "make_horizontal_lineplot('5xFAD', iso, get_sorter_index('Isocortex'), 'Isocortex', 0.92, 8, 3, 0.5)"
   ]
  },
  {
   "cell_type": "code",
   "execution_count": 82,
   "metadata": {},
   "outputs": [
    {
     "data": {
      "text/html": [
       "<div>\n",
       "<style scoped>\n",
       "    .dataframe tbody tr th:only-of-type {\n",
       "        vertical-align: middle;\n",
       "    }\n",
       "\n",
       "    .dataframe tbody tr th {\n",
       "        vertical-align: top;\n",
       "    }\n",
       "\n",
       "    .dataframe thead th {\n",
       "        text-align: right;\n",
       "    }\n",
       "</style>\n",
       "<table border=\"1\" class=\"dataframe\">\n",
       "  <thead>\n",
       "    <tr style=\"text-align: right;\">\n",
       "      <th></th>\n",
       "      <th>group</th>\n",
       "      <th>image_series_id</th>\n",
       "      <th>structure</th>\n",
       "      <th>plaque</th>\n",
       "      <th>relative_diff</th>\n",
       "    </tr>\n",
       "  </thead>\n",
       "  <tbody>\n",
       "    <tr>\n",
       "      <th>0</th>\n",
       "      <td>5xFAD</td>\n",
       "      <td>852016065.5</td>\n",
       "      <td>AAA</td>\n",
       "      <td>-0.000257</td>\n",
       "      <td>-53.220075</td>\n",
       "    </tr>\n",
       "    <tr>\n",
       "      <th>1</th>\n",
       "      <td>5xFAD</td>\n",
       "      <td>852016065.5</td>\n",
       "      <td>ACAd</td>\n",
       "      <td>-0.000125</td>\n",
       "      <td>-25.905859</td>\n",
       "    </tr>\n",
       "    <tr>\n",
       "      <th>2</th>\n",
       "      <td>5xFAD</td>\n",
       "      <td>852016065.5</td>\n",
       "      <td>ACAv</td>\n",
       "      <td>-0.000020</td>\n",
       "      <td>-4.152075</td>\n",
       "    </tr>\n",
       "    <tr>\n",
       "      <th>3</th>\n",
       "      <td>5xFAD</td>\n",
       "      <td>852016065.5</td>\n",
       "      <td>ACB</td>\n",
       "      <td>0.000356</td>\n",
       "      <td>73.666756</td>\n",
       "    </tr>\n",
       "    <tr>\n",
       "      <th>4</th>\n",
       "      <td>5xFAD</td>\n",
       "      <td>852016065.5</td>\n",
       "      <td>ACVII</td>\n",
       "      <td>-0.000846</td>\n",
       "      <td>-175.149810</td>\n",
       "    </tr>\n",
       "  </tbody>\n",
       "</table>\n",
       "</div>"
      ],
      "text/plain": [
       "   group  image_series_id structure    plaque  relative_diff\n",
       "0  5xFAD      852016065.5       AAA -0.000257     -53.220075\n",
       "1  5xFAD      852016065.5      ACAd -0.000125     -25.905859\n",
       "2  5xFAD      852016065.5      ACAv -0.000020      -4.152075\n",
       "3  5xFAD      852016065.5       ACB  0.000356      73.666756\n",
       "4  5xFAD      852016065.5     ACVII -0.000846    -175.149810"
      ]
     },
     "execution_count": 82,
     "metadata": {},
     "output_type": "execute_result"
    }
   ],
   "source": [
    "diff.head()"
   ]
  },
  {
   "cell_type": "code",
   "execution_count": 83,
   "metadata": {},
   "outputs": [
    {
     "data": {
      "text/html": [
       "<div>\n",
       "<style scoped>\n",
       "    .dataframe tbody tr th:only-of-type {\n",
       "        vertical-align: middle;\n",
       "    }\n",
       "\n",
       "    .dataframe tbody tr th {\n",
       "        vertical-align: top;\n",
       "    }\n",
       "\n",
       "    .dataframe thead th {\n",
       "        text-align: right;\n",
       "    }\n",
       "</style>\n",
       "<table border=\"1\" class=\"dataframe\">\n",
       "  <thead>\n",
       "    <tr style=\"text-align: right;\">\n",
       "      <th></th>\n",
       "      <th>group</th>\n",
       "      <th>image_series_id</th>\n",
       "      <th>structure</th>\n",
       "      <th>plaque</th>\n",
       "      <th>relative_diff</th>\n",
       "    </tr>\n",
       "  </thead>\n",
       "  <tbody>\n",
       "    <tr>\n",
       "      <th>0</th>\n",
       "      <td>5xFAD</td>\n",
       "      <td>852016065.5</td>\n",
       "      <td>AAA</td>\n",
       "      <td>-0.000257</td>\n",
       "      <td>-53.220075</td>\n",
       "    </tr>\n",
       "    <tr>\n",
       "      <th>1</th>\n",
       "      <td>5xFAD</td>\n",
       "      <td>852016065.5</td>\n",
       "      <td>ACAd</td>\n",
       "      <td>-0.000125</td>\n",
       "      <td>-25.905859</td>\n",
       "    </tr>\n",
       "    <tr>\n",
       "      <th>2</th>\n",
       "      <td>5xFAD</td>\n",
       "      <td>852016065.5</td>\n",
       "      <td>ACAv</td>\n",
       "      <td>-0.000020</td>\n",
       "      <td>-4.152075</td>\n",
       "    </tr>\n",
       "    <tr>\n",
       "      <th>3</th>\n",
       "      <td>5xFAD</td>\n",
       "      <td>852016065.5</td>\n",
       "      <td>ACB</td>\n",
       "      <td>0.000356</td>\n",
       "      <td>73.666756</td>\n",
       "    </tr>\n",
       "    <tr>\n",
       "      <th>4</th>\n",
       "      <td>5xFAD</td>\n",
       "      <td>852016065.5</td>\n",
       "      <td>ACVII</td>\n",
       "      <td>-0.000846</td>\n",
       "      <td>-175.149810</td>\n",
       "    </tr>\n",
       "  </tbody>\n",
       "</table>\n",
       "</div>"
      ],
      "text/plain": [
       "   group  image_series_id structure    plaque  relative_diff\n",
       "0  5xFAD      852016065.5       AAA -0.000257     -53.220075\n",
       "1  5xFAD      852016065.5      ACAd -0.000125     -25.905859\n",
       "2  5xFAD      852016065.5      ACAv -0.000020      -4.152075\n",
       "3  5xFAD      852016065.5       ACB  0.000356      73.666756\n",
       "4  5xFAD      852016065.5     ACVII -0.000846    -175.149810"
      ]
     },
     "execution_count": 83,
     "metadata": {},
     "output_type": "execute_result"
    }
   ],
   "source": [
    "diff.head()"
   ]
  },
  {
   "cell_type": "code",
   "execution_count": 87,
   "metadata": {
    "scrolled": false
   },
   "outputs": [
    {
     "name": "stderr",
     "output_type": "stream",
     "text": [
      "/anaconda2/envs/py37/lib/python3.7/site-packages/ipykernel_launcher.py:5: SettingWithCopyWarning: \n",
      "A value is trying to be set on a copy of a slice from a DataFrame.\n",
      "Try using .loc[row_indexer,col_indexer] = value instead\n",
      "\n",
      "See the caveats in the documentation: http://pandas.pydata.org/pandas-docs/stable/indexing.html#indexing-view-versus-copy\n",
      "  \"\"\"\n"
     ]
    },
    {
     "data": {
      "image/png": "[encoded data removed]",
      "text/plain": [
       "<Figure size 720x216 with 1 Axes>"
      ]
     },
     "metadata": {
      "needs_background": "light"
     },
     "output_type": "display_data"
    }
   ],
   "source": [
    "iso_strs = [ai_map[structure] for structure in iso]\n",
    "ctx_diff = diff[diff['structure'].isin(iso_strs)]\n",
    "fig, ax = plt.subplots(figsize = (10, 3))\n",
    "sorterIndex = get_sorter_index('Isocortex')\n",
    "ctx_diff['rank'] = ctx_diff['structure'].map(sorterIndex)\n",
    "ctx_diff = ctx_diff.sort_values(by='rank')\n",
    "sns.lineplot('structure', 'relative_diff', data = ctx_diff, hue = 'group', hue_order = ['J20', '5xFAD'],\n",
    "                palette = mouse_line_colors, ax=ax)\n",
    "ax.axhline(y=0, color = 'gray', linestyle = 'dashed', alpha = 0.5, zorder = -1)\n",
    "plt.suptitle('Difference in Plaque Density after Photoconversion', fontsize = 10)\n",
    "plt.xticks(rotation = -90);\n",
    "ax.set_ylabel(\"Relative Difference (%)\")\n",
    "plt.savefig(os.path.join(savepath, 'isocortex difference plot both lines.png'), \n",
    "                bbox_inches='tight', pad_inches=0.3, format='png', transparent = True, dpi=300)"
   ]
  },
  {
   "cell_type": "code",
   "execution_count": 88,
   "metadata": {},
   "outputs": [
    {
     "data": {
      "text/html": [
       "<div>\n",
       "<style scoped>\n",
       "    .dataframe tbody tr th:only-of-type {\n",
       "        vertical-align: middle;\n",
       "    }\n",
       "\n",
       "    .dataframe tbody tr th {\n",
       "        vertical-align: top;\n",
       "    }\n",
       "\n",
       "    .dataframe thead th {\n",
       "        text-align: right;\n",
       "    }\n",
       "</style>\n",
       "<table border=\"1\" class=\"dataframe\">\n",
       "  <thead>\n",
       "    <tr style=\"text-align: right;\">\n",
       "      <th></th>\n",
       "      <th>group</th>\n",
       "      <th>image_series_id</th>\n",
       "      <th>plaques</th>\n",
       "      <th>structure</th>\n",
       "      <th>treatment</th>\n",
       "    </tr>\n",
       "  </thead>\n",
       "  <tbody>\n",
       "  </tbody>\n",
       "</table>\n",
       "</div>"
      ],
      "text/plain": [
       "Empty DataFrame\n",
       "Columns: [group, image_series_id, plaques, structure, treatment]\n",
       "Index: []"
      ]
     },
     "execution_count": 88,
     "metadata": {},
     "output_type": "execute_result"
    }
   ],
   "source": [
    "pltdat[pltdat['structure'] == 'VISpor']"
   ]
  },
  {
   "cell_type": "code",
   "execution_count": 89,
   "metadata": {},
   "outputs": [
    {
     "ename": "NameError",
     "evalue": "name 'pltdat2' is not defined",
     "output_type": "error",
     "traceback": [
      "\u001b[0;31m---------------------------------------------------------------------------\u001b[0m",
      "\u001b[0;31mNameError\u001b[0m                                 Traceback (most recent call last)",
      "\u001b[0;32m<ipython-input-89-06b02b563f4f>\u001b[0m in \u001b[0;36m<module>\u001b[0;34m\u001b[0m\n\u001b[0;32m----> 1\u001b[0;31m \u001b[0mpltdat2\u001b[0m\u001b[0;34m[\u001b[0m\u001b[0mpltdat2\u001b[0m\u001b[0;34m[\u001b[0m\u001b[0;34m'structure'\u001b[0m\u001b[0;34m]\u001b[0m \u001b[0;34m==\u001b[0m \u001b[0;34m'ILA'\u001b[0m\u001b[0;34m]\u001b[0m\u001b[0;34m\u001b[0m\u001b[0;34m\u001b[0m\u001b[0m\n\u001b[0m",
      "\u001b[0;31mNameError\u001b[0m: name 'pltdat2' is not defined"
     ]
    }
   ],
   "source": [
    "pltdat2[pltdat2['structure'] == 'ILA']"
   ]
  },
  {
   "cell_type": "markdown",
   "metadata": {},
   "source": [
    "## Hippocampus"
   ]
  },
  {
   "cell_type": "code",
   "execution_count": 90,
   "metadata": {},
   "outputs": [],
   "source": [
    "IG_mask, _ = mcc.get_structure_mask(ia_map['IG'])\n",
    "FC_mask, _ = mcc.get_structure_mask(ia_map['FC'])\n",
    "hipp_mask, _ = mcc.get_structure_mask(ia_map['HPF'])"
   ]
  },
  {
   "cell_type": "code",
   "execution_count": 91,
   "metadata": {},
   "outputs": [
    {
     "name": "stdout",
     "output_type": "stream",
     "text": [
      "0.002915653778021217\n",
      "0.0014461027220218326\n"
     ]
    }
   ],
   "source": [
    "print(float(IG_mask.sum())/float(hipp_mask.sum()))\n",
    "print(float(FC_mask.sum())/float(hipp_mask.sum()))"
   ]
  },
  {
   "cell_type": "code",
   "execution_count": 92,
   "metadata": {},
   "outputs": [
    {
     "name": "stdout",
     "output_type": "stream",
     "text": [
      "13\n"
     ]
    }
   ],
   "source": [
    "hipp = structure_tree.get_structures_by_acronym(['HPF'])[0]\n",
    "hipp_ids = structure_tree.descendant_ids([hipp['id']])[0]\n",
    "hipp_ss = [ids for ids in hipp_ids if ids in summary_structure_ids]\n",
    "hipp_ss.remove(ia_map['IG'])\n",
    "hipp_ss.remove(ia_map['FC'])\n",
    "print(len(hipp_ss))"
   ]
  },
  {
   "cell_type": "code",
   "execution_count": 93,
   "metadata": {},
   "outputs": [
    {
     "data": {
      "image/png": "[encoded data removed]",
      "text/plain": [
       "<Figure size 216x216 with 1 Axes>"
      ]
     },
     "metadata": {
      "needs_background": "light"
     },
     "output_type": "display_data"
    }
   ],
   "source": [
    "make_horizontal_lineplot('J20', hipp_ss, get_sorter_index('HPF'), 'Hippocampal Formation', 0.97, 3, 3, 1)"
   ]
  },
  {
   "cell_type": "code",
   "execution_count": 94,
   "metadata": {},
   "outputs": [
    {
     "data": {
      "image/png": "[encoded data removed]",
      "text/plain": [
       "<Figure size 216x216 with 1 Axes>"
      ]
     },
     "metadata": {
      "needs_background": "light"
     },
     "output_type": "display_data"
    }
   ],
   "source": [
    "make_horizontal_lineplot('5xFAD', hipp_ss, get_sorter_index('HPF'), 'Hippocampal Formation', 0.97, 3, 3, 2.5)"
   ]
  },
  {
   "cell_type": "code",
   "execution_count": 97,
   "metadata": {},
   "outputs": [
    {
     "name": "stderr",
     "output_type": "stream",
     "text": [
      "/anaconda2/envs/py37/lib/python3.7/site-packages/ipykernel_launcher.py:5: SettingWithCopyWarning: \n",
      "A value is trying to be set on a copy of a slice from a DataFrame.\n",
      "Try using .loc[row_indexer,col_indexer] = value instead\n",
      "\n",
      "See the caveats in the documentation: http://pandas.pydata.org/pandas-docs/stable/indexing.html#indexing-view-versus-copy\n",
      "  \"\"\"\n"
     ]
    },
    {
     "data": {
      "image/png": "[encoded data removed]",
      "text/plain": [
       "<Figure size 216x216 with 1 Axes>"
      ]
     },
     "metadata": {
      "needs_background": "light"
     },
     "output_type": "display_data"
    }
   ],
   "source": [
    "HPF_strs = [ai_map[structure] for structure in hipp_ss]\n",
    "hipp_diff = diff[diff['structure'].isin(HPF_strs)]\n",
    "fig, ax = plt.subplots(figsize = (3, 3))\n",
    "sorterIndex = get_sorter_index('HPF')\n",
    "hipp_diff['rank'] = hipp_diff['structure'].map(sorterIndex)\n",
    "hipp_diff = hipp_diff.sort_values(by='rank')\n",
    "sns.lineplot('structure', 'relative_diff', data = hipp_diff, hue = 'group', hue_order = ['J20', '5xFAD'],\n",
    "                palette = mouse_line_colors, ax=ax)\n",
    "ax.axhline(y=0, color = 'gray', linestyle = 'dashed', alpha = 0.5, zorder = -1)\n",
    "plt.suptitle('Difference in Plaque Density after Photoconversion', fontsize = 10)\n",
    "plt.xticks(rotation = -90);\n",
    "ax.set_ylabel(\"Relative Difference (%)\")\n",
    "plt.savefig(os.path.join(savepath, 'hipp difference plot both lines.png'), \n",
    "                bbox_inches='tight', pad_inches=0.3, format='png', transparent = True, dpi=300)"
   ]
  },
  {
   "cell_type": "markdown",
   "metadata": {},
   "source": [
    "## Olfactory"
   ]
  },
  {
   "cell_type": "code",
   "execution_count": 100,
   "metadata": {},
   "outputs": [
    {
     "name": "stdout",
     "output_type": "stream",
     "text": [
      "11\n"
     ]
    }
   ],
   "source": [
    "olf = structure_tree.get_structures_by_acronym(['OLF'])[0]\n",
    "olf_ids = structure_tree.descendant_ids([olf['id']])[0]\n",
    "olf_ss = [ids for ids in olf_ids if ids in summary_structure_ids]\n",
    "print(len(olf_ss))"
   ]
  },
  {
   "cell_type": "code",
   "execution_count": 101,
   "metadata": {},
   "outputs": [
    {
     "data": {
      "image/png": "[encoded data removed]",
      "text/plain": [
       "<Figure size 144x216 with 1 Axes>"
      ]
     },
     "metadata": {
      "needs_background": "light"
     },
     "output_type": "display_data"
    }
   ],
   "source": [
    "make_horizontal_lineplot('J20', olf_ss, get_sorter_index('OLF'), 'Olfactory Structures', 0.97, 2, 3, 0.5)"
   ]
  },
  {
   "cell_type": "code",
   "execution_count": 102,
   "metadata": {},
   "outputs": [
    {
     "data": {
      "image/png": "[encoded data removed]",
      "text/plain": [
       "<Figure size 144x216 with 1 Axes>"
      ]
     },
     "metadata": {
      "needs_background": "light"
     },
     "output_type": "display_data"
    }
   ],
   "source": [
    "make_horizontal_lineplot('5xFAD', olf_ss, get_sorter_index('OLF'), 'Olfactory Structures', 0.97, 2, 3, 0.5)"
   ]
  },
  {
   "cell_type": "code",
   "execution_count": 103,
   "metadata": {},
   "outputs": [
    {
     "name": "stderr",
     "output_type": "stream",
     "text": [
      "/anaconda2/envs/py37/lib/python3.7/site-packages/ipykernel_launcher.py:5: SettingWithCopyWarning: \n",
      "A value is trying to be set on a copy of a slice from a DataFrame.\n",
      "Try using .loc[row_indexer,col_indexer] = value instead\n",
      "\n",
      "See the caveats in the documentation: http://pandas.pydata.org/pandas-docs/stable/indexing.html#indexing-view-versus-copy\n",
      "  \"\"\"\n"
     ]
    },
    {
     "data": {
      "image/png": "[encoded data removed]",
      "text/plain": [
       "<Figure size 216x216 with 1 Axes>"
      ]
     },
     "metadata": {
      "needs_background": "light"
     },
     "output_type": "display_data"
    }
   ],
   "source": [
    "OLF_strs = [ai_map[structure] for structure in olf_ss]\n",
    "olf_diff = diff[diff['structure'].isin(OLF_strs)]\n",
    "fig, ax = plt.subplots(figsize = (3, 3))\n",
    "sorterIndex = get_sorter_index('OLF')\n",
    "olf_diff['rank'] = olf_diff['structure'].map(sorterIndex)\n",
    "olf_diff = olf_diff.sort_values(by='rank')\n",
    "sns.lineplot('structure', 'relative_diff', data = olf_diff, hue = 'group', hue_order = ['J20', '5xFAD'],\n",
    "                palette = mouse_line_colors, ax=ax)\n",
    "ax.axhline(y=0, color = 'gray', linestyle = 'dashed', alpha = 0.5, zorder = -1)\n",
    "plt.suptitle('Difference in Plaque Density after Photoconversion', fontsize = 10)\n",
    "plt.xticks(rotation = -90);\n",
    "ax.set_ylabel(\"Relative Difference (%)\")\n",
    "plt.savefig(os.path.join(savepath, 'olf difference plot both lines.png'), \n",
    "                bbox_inches='tight', pad_inches=0.3, format='png', transparent = True, dpi=300)"
   ]
  },
  {
   "cell_type": "markdown",
   "metadata": {},
   "source": [
    "## CTXsp"
   ]
  },
  {
   "cell_type": "code",
   "execution_count": 104,
   "metadata": {},
   "outputs": [
    {
     "name": "stdout",
     "output_type": "stream",
     "text": [
      "7\n"
     ]
    }
   ],
   "source": [
    "ctxsp = structure_tree.get_structures_by_acronym(['CTXsp'])[0]\n",
    "ctxsp_ids = structure_tree.descendant_ids([ctxsp['id']])[0]\n",
    "ctxsp_ss = [ids for ids in ctxsp_ids if ids in summary_structure_ids]\n",
    "print(len(ctxsp_ss))"
   ]
  },
  {
   "cell_type": "code",
   "execution_count": 105,
   "metadata": {},
   "outputs": [
    {
     "data": {
      "image/png": "[encoded data removed]",
      "text/plain": [
       "<Figure size 108x216 with 1 Axes>"
      ]
     },
     "metadata": {
      "needs_background": "light"
     },
     "output_type": "display_data"
    }
   ],
   "source": [
    "make_horizontal_lineplot('J20', ctxsp_ss, get_sorter_index('CTXsp'), 'CTXsp', 1.05, 1.5, 3, 0.01)"
   ]
  },
  {
   "cell_type": "code",
   "execution_count": 106,
   "metadata": {
    "scrolled": false
   },
   "outputs": [
    {
     "data": {
      "image/png": "[encoded data removed]",
      "text/plain": [
       "<Figure size 108x216 with 1 Axes>"
      ]
     },
     "metadata": {
      "needs_background": "light"
     },
     "output_type": "display_data"
    }
   ],
   "source": [
    "make_horizontal_lineplot('5xFAD', ctxsp_ss, get_sorter_index('CTXsp'), 'CTXsp', 1.05, 1.5, 3, 0.8)"
   ]
  },
  {
   "cell_type": "code",
   "execution_count": 107,
   "metadata": {},
   "outputs": [
    {
     "data": {
      "text/plain": [
       "Index(['avg_plaque_size', 'avg_plaque_volume', 'hemisphere_id',\n",
       "       'image_series_id', 'is_injection', 'plaque_density', 'plaque_volume',\n",
       "       'structure_id', 'sum_pixels', 'sum_plaque_pixels', 'sum_plaque_sizes',\n",
       "       'sum_plaque_volumes', 'sum_plaques', 'volume', 'count_per_mm_3',\n",
       "       'structure_acronym', 'mouse_line', 'treatment'],\n",
       "      dtype='object')"
      ]
     },
     "execution_count": 107,
     "metadata": {},
     "output_type": "execute_result"
    }
   ],
   "source": [
    "dat.keys()"
   ]
  },
  {
   "cell_type": "markdown",
   "metadata": {},
   "source": [
    "## Thalamus"
   ]
  },
  {
   "cell_type": "code",
   "execution_count": 108,
   "metadata": {},
   "outputs": [
    {
     "name": "stdout",
     "output_type": "stream",
     "text": [
      "44\n"
     ]
    }
   ],
   "source": [
    "th = structure_tree.get_structures_by_acronym(['TH'])[0]\n",
    "th_ids = structure_tree.descendant_ids([th['id']])[0]\n",
    "th_ss = [ids for ids in th_ids if ids in summary_structure_ids]\n",
    "print(len(th_ss))"
   ]
  },
  {
   "cell_type": "code",
   "execution_count": 109,
   "metadata": {},
   "outputs": [
    {
     "data": {
      "image/png": "[encoded data removed]",
      "text/plain": [
       "<Figure size 504x216 with 1 Axes>"
      ]
     },
     "metadata": {
      "needs_background": "light"
     },
     "output_type": "display_data"
    }
   ],
   "source": [
    "make_horizontal_lineplot('J20', th_ss, get_sorter_index('TH'), 'Thalamus', 1.05, 7, 3, 0.2)"
   ]
  },
  {
   "cell_type": "code",
   "execution_count": 110,
   "metadata": {},
   "outputs": [
    {
     "data": {
      "image/png": "[encoded data removed]",
      "text/plain": [
       "<Figure size 504x216 with 1 Axes>"
      ]
     },
     "metadata": {
      "needs_background": "light"
     },
     "output_type": "display_data"
    }
   ],
   "source": [
    "make_horizontal_lineplot('5xFAD', th_ss, get_sorter_index('TH'), 'Thalamus', 1.05, 7, 3, 1)"
   ]
  },
  {
   "cell_type": "markdown",
   "metadata": {},
   "source": [
    "## Plaque density by module"
   ]
  },
  {
   "cell_type": "code",
   "execution_count": 111,
   "metadata": {},
   "outputs": [],
   "source": [
    "dat.loc[dat['structure_acronym'].isin(['FRP', 'MOs', 'PL', 'ILA', 'ORBm', 'ORBl', 'ORBvl','ACAd', 'ACAv']),\n",
    "        'module'] = 'Prefrontal'\n",
    "dat.loc[dat['structure_acronym'].isin(['AId', 'AIv', 'AIp', 'GU', 'VISC']), 'module'] = 'Anterolateral'\n",
    "dat.loc[dat['structure_acronym'].isin(['SSs', 'SSp-bfd', 'SSp-tr', 'SSp-ll', 'SSp-ul', 'SSp-un',\n",
    "                                          'SSp-n', 'SSp-m', 'MOp']), 'module'] = 'Somatomotor'\n",
    "dat.loc[dat['structure_acronym'].isin(['VISp', 'VISl', 'VISrl', 'VISpl', 'VISli', 'VISal', 'VISpor']), \n",
    "        'module'] = 'Visual'\n",
    "dat.loc[dat['structure_acronym'].isin(['RSPd', 'RSPv', 'RSPagl', 'VISa', 'VISam', 'VISpm']), 'module'] = 'Medial'\n",
    "dat.loc[dat['structure_acronym'].isin(['AUDd', 'AUDp', 'AUDpo', 'AUDv', 'TEa', 'PERI', 'ECT']), 'module'] = 'Temporal'"
   ]
  },
  {
   "cell_type": "code",
   "execution_count": 112,
   "metadata": {
    "scrolled": true
   },
   "outputs": [
    {
     "data": {
      "text/plain": [
       "43"
      ]
     },
     "execution_count": 112,
     "metadata": {},
     "output_type": "execute_result"
    }
   ],
   "source": [
    "len(dat[~dat['module'].isnull()]['structure_acronym'].unique())"
   ]
  },
  {
   "cell_type": "code",
   "execution_count": 113,
   "metadata": {
    "scrolled": true
   },
   "outputs": [],
   "source": [
    "# get module volumes"
   ]
  },
  {
   "cell_type": "code",
   "execution_count": 114,
   "metadata": {},
   "outputs": [
    {
     "data": {
      "text/plain": [
       "array([nan, 'Prefrontal', 'Anterolateral', 'Visual', 'Medial',\n",
       "       'Somatomotor', 'Temporal'], dtype=object)"
      ]
     },
     "execution_count": 114,
     "metadata": {},
     "output_type": "execute_result"
    }
   ],
   "source": [
    "dat['module'].unique()"
   ]
  },
  {
   "cell_type": "code",
   "execution_count": 115,
   "metadata": {},
   "outputs": [],
   "source": [
    "isids = []\n",
    "modules = []\n",
    "mouse = []\n",
    "splits = []\n",
    "sumds = []\n",
    "for isid in dat['image_series_id'].unique():\n",
    "    mods = []\n",
    "    moddat = []\n",
    "    expdat = dat[(dat['image_series_id'] == isid) & (~dat['module'].isnull())]\n",
    "    sumdat = expdat['plaque_volume'].sum()\n",
    "    sumvol = expdat['volume'].sum()\n",
    "    sumdens = sumdat/sumvol\n",
    "    for module in expdat['module'].unique():\n",
    "        isids.append(isid)\n",
    "        mods.append(module)\n",
    "        mouse.append(expdat['mouse_line'].values[0])\n",
    "        pvdat = float(np.sum(expdat[expdat['module'] == module]['plaque_volume']))\n",
    "        vdat = float(np.sum(expdat[expdat['module'] == module]['volume']))\n",
    "        moddens = pvdat/vdat\n",
    "        moddat.append(moddens/sumdens)\n",
    "    modules += mods\n",
    "    splits += moddat"
   ]
  },
  {
   "cell_type": "code",
   "execution_count": 116,
   "metadata": {},
   "outputs": [],
   "source": [
    "moddat_melted = pd.DataFrame({'image_series_id': isids, 'Module': modules, 'Mouse Line': mouse,\n",
    "                              'Relative Plaque Density': splits})"
   ]
  },
  {
   "cell_type": "code",
   "execution_count": 117,
   "metadata": {
    "scrolled": true
   },
   "outputs": [
    {
     "data": {
      "text/html": [
       "<div>\n",
       "<style scoped>\n",
       "    .dataframe tbody tr th:only-of-type {\n",
       "        vertical-align: middle;\n",
       "    }\n",
       "\n",
       "    .dataframe tbody tr th {\n",
       "        vertical-align: top;\n",
       "    }\n",
       "\n",
       "    .dataframe thead th {\n",
       "        text-align: right;\n",
       "    }\n",
       "</style>\n",
       "<table border=\"1\" class=\"dataframe\">\n",
       "  <thead>\n",
       "    <tr style=\"text-align: right;\">\n",
       "      <th></th>\n",
       "      <th>image_series_id</th>\n",
       "      <th>Module</th>\n",
       "      <th>Mouse Line</th>\n",
       "      <th>Relative Plaque Density</th>\n",
       "    </tr>\n",
       "  </thead>\n",
       "  <tbody>\n",
       "    <tr>\n",
       "      <th>0</th>\n",
       "      <td>852315754</td>\n",
       "      <td>Prefrontal</td>\n",
       "      <td>5xFAD</td>\n",
       "      <td>1.437936</td>\n",
       "    </tr>\n",
       "    <tr>\n",
       "      <th>1</th>\n",
       "      <td>852315754</td>\n",
       "      <td>Anterolateral</td>\n",
       "      <td>5xFAD</td>\n",
       "      <td>0.661277</td>\n",
       "    </tr>\n",
       "    <tr>\n",
       "      <th>2</th>\n",
       "      <td>852315754</td>\n",
       "      <td>Visual</td>\n",
       "      <td>5xFAD</td>\n",
       "      <td>0.438927</td>\n",
       "    </tr>\n",
       "    <tr>\n",
       "      <th>3</th>\n",
       "      <td>852315754</td>\n",
       "      <td>Medial</td>\n",
       "      <td>5xFAD</td>\n",
       "      <td>0.806484</td>\n",
       "    </tr>\n",
       "    <tr>\n",
       "      <th>4</th>\n",
       "      <td>852315754</td>\n",
       "      <td>Somatomotor</td>\n",
       "      <td>5xFAD</td>\n",
       "      <td>1.189495</td>\n",
       "    </tr>\n",
       "  </tbody>\n",
       "</table>\n",
       "</div>"
      ],
      "text/plain": [
       "   image_series_id         Module Mouse Line  Relative Plaque Density\n",
       "0        852315754     Prefrontal      5xFAD                 1.437936\n",
       "1        852315754  Anterolateral      5xFAD                 0.661277\n",
       "2        852315754         Visual      5xFAD                 0.438927\n",
       "3        852315754         Medial      5xFAD                 0.806484\n",
       "4        852315754    Somatomotor      5xFAD                 1.189495"
      ]
     },
     "execution_count": 117,
     "metadata": {},
     "output_type": "execute_result"
    }
   ],
   "source": [
    "moddat_melted.head()"
   ]
  },
  {
   "cell_type": "code",
   "execution_count": 118,
   "metadata": {},
   "outputs": [],
   "source": [
    "#moddat_melted.to_csv(os.path.join(path, 'module_data_long.csv'))"
   ]
  },
  {
   "cell_type": "code",
   "execution_count": 119,
   "metadata": {},
   "outputs": [
    {
     "name": "stderr",
     "output_type": "stream",
     "text": [
      "/anaconda2/envs/py37/lib/python3.7/site-packages/scipy/stats/stats.py:1713: FutureWarning: Using a non-tuple sequence for multidimensional indexing is deprecated; use `arr[tuple(seq)]` instead of `arr[seq]`. In the future this will be interpreted as an array index, `arr[np.array(seq)]`, which will result either in an error or a different result.\n",
      "  return np.add.reduce(sorted[indexer] * weights, axis=axis) / sumval\n"
     ]
    },
    {
     "data": {
      "text/plain": [
       "<matplotlib.lines.Line2D at 0x1c31fe6ef0>"
      ]
     },
     "execution_count": 119,
     "metadata": {},
     "output_type": "execute_result"
    },
    {
     "data": {
      "image/png": "[encoded data removed]",
      "text/plain": [
       "<Figure size 454.43x360 with 1 Axes>"
      ]
     },
     "metadata": {
      "needs_background": "light"
     },
     "output_type": "display_data"
    }
   ],
   "source": [
    "g = sns.catplot('Module', 'Relative Plaque Density', data = moddat_melted, hue = 'Mouse Line', \n",
    "                kind='bar', palette = mouse_line_colors, hue_order = mouse_lines,\n",
    "           height = 5, aspect = 1.1)\n",
    "g.ax.axhline(y=1, color = 'grey', linestyle = 'dashed', zorder = -1)\n",
    "#plt.savefig(os.path.join(savepath, 'plaque volume by module.pdf'.format(structure)), \n",
    "#            bbox_inches='tight', pad_inches=0.3, format='pdf', transparent = True, dpi=1000)"
   ]
  },
  {
   "cell_type": "code",
   "execution_count": 120,
   "metadata": {},
   "outputs": [],
   "source": [
    "moddat = moddat_melted[['image_series_id', 'Module', 'Relative Plaque Density']].pivot(\n",
    "    index = 'image_series_id', columns = 'Module').reset_index()\n",
    "mousedat = moddat_melted[['image_series_id', 'Module', 'Mouse Line']].pivot(\n",
    "    index = 'image_series_id', columns = 'Module').reset_index()\n",
    "moddat.columns = moddat.columns.droplevel()\n",
    "mousedat.columns = mousedat.columns.droplevel()\n",
    "moddat['Mouse Line'] = mousedat['Anterolateral']"
   ]
  },
  {
   "cell_type": "code",
   "execution_count": 121,
   "metadata": {},
   "outputs": [],
   "source": [
    "#moddat.to_csv(os.path.join(path, 'module_data.csv'))"
   ]
  },
  {
   "cell_type": "code",
   "execution_count": 122,
   "metadata": {},
   "outputs": [],
   "source": [
    "moddat_mdf = moddat_melted.rename(columns = {'Relative Plaque Density': 'plaque_density', \n",
    "                                             'Module': 'module', \n",
    "                                             'Mouse Line': 'mouse_line'})"
   ]
  },
  {
   "cell_type": "code",
   "execution_count": 123,
   "metadata": {
    "scrolled": true
   },
   "outputs": [
    {
     "data": {
      "text/html": [
       "<div>\n",
       "<style scoped>\n",
       "    .dataframe tbody tr th:only-of-type {\n",
       "        vertical-align: middle;\n",
       "    }\n",
       "\n",
       "    .dataframe tbody tr th {\n",
       "        vertical-align: top;\n",
       "    }\n",
       "\n",
       "    .dataframe thead th {\n",
       "        text-align: right;\n",
       "    }\n",
       "</style>\n",
       "<table border=\"1\" class=\"dataframe\">\n",
       "  <thead>\n",
       "    <tr style=\"text-align: right;\">\n",
       "      <th></th>\n",
       "      <th>image_series_id</th>\n",
       "      <th>module</th>\n",
       "      <th>mouse_line</th>\n",
       "      <th>plaque_density</th>\n",
       "    </tr>\n",
       "  </thead>\n",
       "  <tbody>\n",
       "    <tr>\n",
       "      <th>0</th>\n",
       "      <td>852315754</td>\n",
       "      <td>Prefrontal</td>\n",
       "      <td>5xFAD</td>\n",
       "      <td>1.437936</td>\n",
       "    </tr>\n",
       "  </tbody>\n",
       "</table>\n",
       "</div>"
      ],
      "text/plain": [
       "   image_series_id      module mouse_line  plaque_density\n",
       "0        852315754  Prefrontal      5xFAD        1.437936"
      ]
     },
     "execution_count": 123,
     "metadata": {},
     "output_type": "execute_result"
    }
   ],
   "source": [
    "moddat_mdf.head(1)"
   ]
  },
  {
   "cell_type": "code",
   "execution_count": 124,
   "metadata": {},
   "outputs": [],
   "source": [
    "formula = 'plaque_density ~ mouse_line + module + mouse_line:module'\n",
    "\n",
    "mod1 = smf.ols(formula=formula, data=moddat_mdf).fit()\n",
    "table = sm.stats.anova_lm(mod1, typ=2)"
   ]
  },
  {
   "cell_type": "code",
   "execution_count": 125,
   "metadata": {
    "scrolled": true
   },
   "outputs": [
    {
     "data": {
      "text/html": [
       "<div>\n",
       "<style scoped>\n",
       "    .dataframe tbody tr th:only-of-type {\n",
       "        vertical-align: middle;\n",
       "    }\n",
       "\n",
       "    .dataframe tbody tr th {\n",
       "        vertical-align: top;\n",
       "    }\n",
       "\n",
       "    .dataframe thead th {\n",
       "        text-align: right;\n",
       "    }\n",
       "</style>\n",
       "<table border=\"1\" class=\"dataframe\">\n",
       "  <thead>\n",
       "    <tr style=\"text-align: right;\">\n",
       "      <th></th>\n",
       "      <th>sum_sq</th>\n",
       "      <th>df</th>\n",
       "      <th>F</th>\n",
       "      <th>PR(&gt;F)</th>\n",
       "    </tr>\n",
       "  </thead>\n",
       "  <tbody>\n",
       "    <tr>\n",
       "      <th>mouse_line</th>\n",
       "      <td>1.969702</td>\n",
       "      <td>1.0</td>\n",
       "      <td>27.002026</td>\n",
       "      <td>8.235194e-06</td>\n",
       "    </tr>\n",
       "    <tr>\n",
       "      <th>module</th>\n",
       "      <td>25.133027</td>\n",
       "      <td>5.0</td>\n",
       "      <td>68.908148</td>\n",
       "      <td>2.032257e-17</td>\n",
       "    </tr>\n",
       "    <tr>\n",
       "      <th>mouse_line:module</th>\n",
       "      <td>23.803067</td>\n",
       "      <td>5.0</td>\n",
       "      <td>65.261749</td>\n",
       "      <td>4.881419e-17</td>\n",
       "    </tr>\n",
       "    <tr>\n",
       "      <th>Residual</th>\n",
       "      <td>2.626072</td>\n",
       "      <td>36.0</td>\n",
       "      <td>NaN</td>\n",
       "      <td>NaN</td>\n",
       "    </tr>\n",
       "  </tbody>\n",
       "</table>\n",
       "</div>"
      ],
      "text/plain": [
       "                      sum_sq    df          F        PR(>F)\n",
       "mouse_line          1.969702   1.0  27.002026  8.235194e-06\n",
       "module             25.133027   5.0  68.908148  2.032257e-17\n",
       "mouse_line:module  23.803067   5.0  65.261749  4.881419e-17\n",
       "Residual            2.626072  36.0        NaN           NaN"
      ]
     },
     "execution_count": 125,
     "metadata": {},
     "output_type": "execute_result"
    }
   ],
   "source": [
    "table"
   ]
  },
  {
   "cell_type": "code",
   "execution_count": 126,
   "metadata": {},
   "outputs": [],
   "source": [
    "iso_acronyms = [ai_map[structure] for structure in iso]"
   ]
  },
  {
   "cell_type": "code",
   "execution_count": 127,
   "metadata": {},
   "outputs": [
    {
     "data": {
      "text/html": [
       "<div>\n",
       "<style scoped>\n",
       "    .dataframe tbody tr th:only-of-type {\n",
       "        vertical-align: middle;\n",
       "    }\n",
       "\n",
       "    .dataframe tbody tr th {\n",
       "        vertical-align: top;\n",
       "    }\n",
       "\n",
       "    .dataframe thead th {\n",
       "        text-align: right;\n",
       "    }\n",
       "</style>\n",
       "<table border=\"1\" class=\"dataframe\">\n",
       "  <thead>\n",
       "    <tr style=\"text-align: right;\">\n",
       "      <th></th>\n",
       "      <th>avg_plaque_size</th>\n",
       "      <th>avg_plaque_volume</th>\n",
       "      <th>hemisphere_id</th>\n",
       "      <th>image_series_id</th>\n",
       "      <th>is_injection</th>\n",
       "      <th>plaque_density</th>\n",
       "      <th>plaque_volume</th>\n",
       "      <th>structure_id</th>\n",
       "      <th>sum_pixels</th>\n",
       "      <th>sum_plaque_pixels</th>\n",
       "      <th>sum_plaque_sizes</th>\n",
       "      <th>sum_plaque_volumes</th>\n",
       "      <th>sum_plaques</th>\n",
       "      <th>volume</th>\n",
       "      <th>count_per_mm_3</th>\n",
       "      <th>structure_acronym</th>\n",
       "      <th>mouse_line</th>\n",
       "      <th>treatment</th>\n",
       "      <th>module</th>\n",
       "    </tr>\n",
       "  </thead>\n",
       "  <tbody>\n",
       "    <tr>\n",
       "      <th>0</th>\n",
       "      <td>0.000000</td>\n",
       "      <td>0.000000</td>\n",
       "      <td>2</td>\n",
       "      <td>852315754</td>\n",
       "      <td>False</td>\n",
       "      <td>1.598692e-08</td>\n",
       "      <td>1.775512e-09</td>\n",
       "      <td>1</td>\n",
       "      <td>9.066148e+07</td>\n",
       "      <td>1.449398e+00</td>\n",
       "      <td>0.0</td>\n",
       "      <td>0.000000</td>\n",
       "      <td>0</td>\n",
       "      <td>0.111060</td>\n",
       "      <td>0.000000</td>\n",
       "      <td>TMv</td>\n",
       "      <td>5xFAD</td>\n",
       "      <td>V + P</td>\n",
       "      <td>NaN</td>\n",
       "    </tr>\n",
       "    <tr>\n",
       "      <th>1</th>\n",
       "      <td>269.500000</td>\n",
       "      <td>0.020822</td>\n",
       "      <td>2</td>\n",
       "      <td>852315754</td>\n",
       "      <td>False</td>\n",
       "      <td>4.823449e-04</td>\n",
       "      <td>5.677553e-05</td>\n",
       "      <td>2</td>\n",
       "      <td>9.608762e+07</td>\n",
       "      <td>4.634738e+04</td>\n",
       "      <td>539.0</td>\n",
       "      <td>41.644920</td>\n",
       "      <td>2</td>\n",
       "      <td>0.117707</td>\n",
       "      <td>16.991295</td>\n",
       "      <td>SSp-m6b</td>\n",
       "      <td>5xFAD</td>\n",
       "      <td>V + P</td>\n",
       "      <td>NaN</td>\n",
       "    </tr>\n",
       "    <tr>\n",
       "      <th>2</th>\n",
       "      <td>355.615942</td>\n",
       "      <td>0.016182</td>\n",
       "      <td>2</td>\n",
       "      <td>852315754</td>\n",
       "      <td>False</td>\n",
       "      <td>9.781121e-04</td>\n",
       "      <td>4.479688e-03</td>\n",
       "      <td>4</td>\n",
       "      <td>3.738721e+09</td>\n",
       "      <td>3.656888e+06</td>\n",
       "      <td>49075.0</td>\n",
       "      <td>2233.062469</td>\n",
       "      <td>138</td>\n",
       "      <td>4.579933</td>\n",
       "      <td>30.131443</td>\n",
       "      <td>IC</td>\n",
       "      <td>5xFAD</td>\n",
       "      <td>V + P</td>\n",
       "      <td>NaN</td>\n",
       "    </tr>\n",
       "    <tr>\n",
       "      <th>3</th>\n",
       "      <td>201.500000</td>\n",
       "      <td>0.010919</td>\n",
       "      <td>2</td>\n",
       "      <td>852315754</td>\n",
       "      <td>False</td>\n",
       "      <td>2.258418e-05</td>\n",
       "      <td>4.879701e-05</td>\n",
       "      <td>6</td>\n",
       "      <td>1.763814e+09</td>\n",
       "      <td>3.983430e+04</td>\n",
       "      <td>403.0</td>\n",
       "      <td>21.837578</td>\n",
       "      <td>2</td>\n",
       "      <td>2.160672</td>\n",
       "      <td>0.925638</td>\n",
       "      <td>int</td>\n",
       "      <td>5xFAD</td>\n",
       "      <td>V + P</td>\n",
       "      <td>NaN</td>\n",
       "    </tr>\n",
       "    <tr>\n",
       "      <th>4</th>\n",
       "      <td>261.187500</td>\n",
       "      <td>0.011312</td>\n",
       "      <td>2</td>\n",
       "      <td>852315754</td>\n",
       "      <td>False</td>\n",
       "      <td>6.747078e-04</td>\n",
       "      <td>7.688343e-04</td>\n",
       "      <td>7</td>\n",
       "      <td>9.302099e+08</td>\n",
       "      <td>6.276199e+05</td>\n",
       "      <td>8358.0</td>\n",
       "      <td>361.973083</td>\n",
       "      <td>32</td>\n",
       "      <td>1.139507</td>\n",
       "      <td>28.082316</td>\n",
       "      <td>PSV</td>\n",
       "      <td>5xFAD</td>\n",
       "      <td>V + P</td>\n",
       "      <td>NaN</td>\n",
       "    </tr>\n",
       "  </tbody>\n",
       "</table>\n",
       "</div>"
      ],
      "text/plain": [
       "   avg_plaque_size  avg_plaque_volume  hemisphere_id  image_series_id  \\\n",
       "0         0.000000           0.000000              2        852315754   \n",
       "1       269.500000           0.020822              2        852315754   \n",
       "2       355.615942           0.016182              2        852315754   \n",
       "3       201.500000           0.010919              2        852315754   \n",
       "4       261.187500           0.011312              2        852315754   \n",
       "\n",
       "   is_injection  plaque_density  plaque_volume  structure_id    sum_pixels  \\\n",
       "0         False    1.598692e-08   1.775512e-09             1  9.066148e+07   \n",
       "1         False    4.823449e-04   5.677553e-05             2  9.608762e+07   \n",
       "2         False    9.781121e-04   4.479688e-03             4  3.738721e+09   \n",
       "3         False    2.258418e-05   4.879701e-05             6  1.763814e+09   \n",
       "4         False    6.747078e-04   7.688343e-04             7  9.302099e+08   \n",
       "\n",
       "   sum_plaque_pixels  sum_plaque_sizes  sum_plaque_volumes  sum_plaques  \\\n",
       "0       1.449398e+00               0.0            0.000000            0   \n",
       "1       4.634738e+04             539.0           41.644920            2   \n",
       "2       3.656888e+06           49075.0         2233.062469          138   \n",
       "3       3.983430e+04             403.0           21.837578            2   \n",
       "4       6.276199e+05            8358.0          361.973083           32   \n",
       "\n",
       "     volume  count_per_mm_3 structure_acronym mouse_line treatment module  \n",
       "0  0.111060        0.000000               TMv      5xFAD     V + P    NaN  \n",
       "1  0.117707       16.991295           SSp-m6b      5xFAD     V + P    NaN  \n",
       "2  4.579933       30.131443                IC      5xFAD     V + P    NaN  \n",
       "3  2.160672        0.925638               int      5xFAD     V + P    NaN  \n",
       "4  1.139507       28.082316               PSV      5xFAD     V + P    NaN  "
      ]
     },
     "execution_count": 127,
     "metadata": {},
     "output_type": "execute_result"
    }
   ],
   "source": [
    "dat.head()"
   ]
  },
  {
   "cell_type": "code",
   "execution_count": 128,
   "metadata": {},
   "outputs": [],
   "source": [
    "isids = []\n",
    "regions = []\n",
    "mouse = []\n",
    "splits = []\n",
    "for isid in dat['image_series_id'].unique():\n",
    "    mods = []\n",
    "    moddat = []\n",
    "    expdat = dat[(dat['image_series_id'] == isid) & (dat['structure_acronym'].isin(iso_acronyms))]\n",
    "    sumdat = expdat['plaque_volume'].sum()\n",
    "    sumvol = expdat['volume'].sum()\n",
    "    sumdens = sumdat/sumvol\n",
    "    for region in expdat['structure_acronym'].unique():\n",
    "        isids.append(isid)\n",
    "        regions.append(region)\n",
    "        mouse.append(expdat['mouse_line'].values[0])\n",
    "        pvdat = float(np.sum(expdat[expdat['structure_acronym'] == region]['plaque_volume']))\n",
    "        vdat = float(np.sum(expdat[expdat['structure_acronym'] == region]['volume']))\n",
    "        moddens = pvdat/vdat\n",
    "        splits.append(moddens/sumdens)"
   ]
  },
  {
   "cell_type": "code",
   "execution_count": 129,
   "metadata": {},
   "outputs": [],
   "source": [
    "ctxdat_melted = pd.DataFrame({'image_series_id': isids, 'region': regions, 'Mouse Line': mouse,\n",
    "                              'plaque_density': splits})"
   ]
  },
  {
   "cell_type": "code",
   "execution_count": 130,
   "metadata": {
    "scrolled": true
   },
   "outputs": [
    {
     "data": {
      "text/html": [
       "<div>\n",
       "<style scoped>\n",
       "    .dataframe tbody tr th:only-of-type {\n",
       "        vertical-align: middle;\n",
       "    }\n",
       "\n",
       "    .dataframe tbody tr th {\n",
       "        vertical-align: top;\n",
       "    }\n",
       "\n",
       "    .dataframe thead th {\n",
       "        text-align: right;\n",
       "    }\n",
       "</style>\n",
       "<table border=\"1\" class=\"dataframe\">\n",
       "  <thead>\n",
       "    <tr style=\"text-align: right;\">\n",
       "      <th></th>\n",
       "      <th>image_series_id</th>\n",
       "      <th>region</th>\n",
       "      <th>Mouse Line</th>\n",
       "      <th>plaque_density</th>\n",
       "    </tr>\n",
       "  </thead>\n",
       "  <tbody>\n",
       "    <tr>\n",
       "      <th>0</th>\n",
       "      <td>852315754</td>\n",
       "      <td>ACAd</td>\n",
       "      <td>5xFAD</td>\n",
       "      <td>1.828699</td>\n",
       "    </tr>\n",
       "    <tr>\n",
       "      <th>1</th>\n",
       "      <td>852315754</td>\n",
       "      <td>ILA</td>\n",
       "      <td>5xFAD</td>\n",
       "      <td>2.438098</td>\n",
       "    </tr>\n",
       "    <tr>\n",
       "      <th>2</th>\n",
       "      <td>852315754</td>\n",
       "      <td>ACAv</td>\n",
       "      <td>5xFAD</td>\n",
       "      <td>1.830662</td>\n",
       "    </tr>\n",
       "    <tr>\n",
       "      <th>3</th>\n",
       "      <td>852315754</td>\n",
       "      <td>AId</td>\n",
       "      <td>5xFAD</td>\n",
       "      <td>0.701604</td>\n",
       "    </tr>\n",
       "    <tr>\n",
       "      <th>4</th>\n",
       "      <td>852315754</td>\n",
       "      <td>AIp</td>\n",
       "      <td>5xFAD</td>\n",
       "      <td>0.594251</td>\n",
       "    </tr>\n",
       "  </tbody>\n",
       "</table>\n",
       "</div>"
      ],
      "text/plain": [
       "   image_series_id region Mouse Line  plaque_density\n",
       "0        852315754   ACAd      5xFAD        1.828699\n",
       "1        852315754    ILA      5xFAD        2.438098\n",
       "2        852315754   ACAv      5xFAD        1.830662\n",
       "3        852315754    AId      5xFAD        0.701604\n",
       "4        852315754    AIp      5xFAD        0.594251"
      ]
     },
     "execution_count": 130,
     "metadata": {},
     "output_type": "execute_result"
    }
   ],
   "source": [
    "ctxdat_melted.head()"
   ]
  },
  {
   "cell_type": "code",
   "execution_count": 131,
   "metadata": {},
   "outputs": [],
   "source": [
    "#ctxdat_melted.to_csv(os.path.join(path, 'relative density by cortical region.csv'))"
   ]
  },
  {
   "cell_type": "code",
   "execution_count": 132,
   "metadata": {},
   "outputs": [],
   "source": [
    "l1_structs = structure_tree.get_structures_by_set_id([667481440])\n",
    "l1_structs = [structure['acronym'] for structure in l1_structs]\n",
    "l2_3_structs = structure_tree.get_structures_by_set_id([667481441])\n",
    "l2_3_structs = [structure['acronym'] for structure in l2_3_structs]\n",
    "l4_structs = structure_tree.get_structures_by_set_id([667481445])\n",
    "l4_structs = [structure['acronym'] for structure in l4_structs]\n",
    "l5_structs = structure_tree.get_structures_by_set_id([667481446])\n",
    "l5_structs = [structure['acronym'] for structure in l5_structs]\n",
    "l6a_structs = structure_tree.get_structures_by_set_id([667481449])\n",
    "l6a_structs = [structure['acronym'] for structure in l6a_structs]\n",
    "l6b_structs = structure_tree.get_structures_by_set_id([667481450])\n",
    "l6b_structs = [structure['acronym'] for structure in l6b_structs]\n",
    "\n",
    "all_layer_structs = l1_structs + l2_3_structs + l4_structs + l5_structs + l6a_structs + l6b_structs\n",
    "layer_dict = {'L1': l1_structs, 'L2/3': l2_3_structs, 'L4': l4_structs, 'L5': l5_structs,\n",
    "                         'L6a': l6a_structs, 'L6b': l6b_structs}"
   ]
  },
  {
   "cell_type": "code",
   "execution_count": 133,
   "metadata": {},
   "outputs": [],
   "source": [
    "isids = []\n",
    "layers = []\n",
    "mouse = []\n",
    "ldat = []\n",
    "cdat = dat[dat['treatment'] == 'Vis']\n",
    "for isid in cdat['image_series_id'].unique():\n",
    "    expdat = cdat[(cdat['image_series_id'] == isid) & (cdat['structure_acronym'].isin(all_layer_structs))]\n",
    "    sumdat = expdat['plaque_volume'].sum()\n",
    "    sumvol = expdat['volume'].sum()\n",
    "    sumdens = sumdat/sumvol\n",
    "    for layer in ['L1', 'L2/3', 'L4', 'L5', 'L6a', 'L6b']:\n",
    "        regions = layer_dict[layer]\n",
    "        isids.append(isid)\n",
    "        layers.append(layer)\n",
    "        mouse.append(expdat['mouse_line'].values[0])\n",
    "        pvdat = float(np.sum(expdat[expdat['structure_acronym'].isin(regions)]['plaque_volume']))\n",
    "        vdat = float(np.sum(expdat[expdat['structure_acronym'].isin(regions)]['volume']))\n",
    "        ldens = pvdat/vdat\n",
    "        ldat.append(ldens/sumdens)"
   ]
  },
  {
   "cell_type": "code",
   "execution_count": 134,
   "metadata": {},
   "outputs": [],
   "source": [
    "layerdat_melted = pd.DataFrame({'image_series_id': isids, 'Layer': layers, 'Mouse Line': mouse,\n",
    "                              'Relative Plaque Density': ldat})"
   ]
  },
  {
   "cell_type": "code",
   "execution_count": 135,
   "metadata": {},
   "outputs": [
    {
     "data": {
      "text/plain": [
       "<matplotlib.axes._subplots.AxesSubplot at 0x1c34216b00>"
      ]
     },
     "execution_count": 135,
     "metadata": {},
     "output_type": "execute_result"
    },
    {
     "data": {
      "image/png": "[encoded data removed]",
      "text/plain": [
       "<Figure size 432x288 with 1 Axes>"
      ]
     },
     "metadata": {
      "needs_background": "light"
     },
     "output_type": "display_data"
    }
   ],
   "source": [
    "sns.boxplot(x='Layer', y='Relative Plaque Density', data = layerdat_melted, hue = 'Mouse Line',\n",
    "            palette = mouse_line_colors)\n",
    "#ax[0].set_xticklabels(['L1', 'L2/3', 'L4', 'L5', 'L6a', 'L6b']"
   ]
  },
  {
   "cell_type": "code",
   "execution_count": 136,
   "metadata": {},
   "outputs": [
    {
     "data": {
      "text/plain": [
       "Text(0, 0.5, '')"
      ]
     },
     "execution_count": 136,
     "metadata": {},
     "output_type": "execute_result"
    },
    {
     "data": {
      "image/png": "[encoded data removed]",
      "text/plain": [
       "<Figure size 576x180 with 2 Axes>"
      ]
     },
     "metadata": {
      "needs_background": "light"
     },
     "output_type": "display_data"
    }
   ],
   "source": [
    "fig, ax = plt.subplots(1, 2, figsize = (8, 2.5), sharey=True) \n",
    "sns.boxplot(x='Layer', y='Relative Plaque Density', \n",
    "            data = layerdat_melted[layerdat_melted['Mouse Line'] == 'J20'], \n",
    "            ax=ax[0], color = mouse_line_colors[0])\n",
    "ax[0].axhline(y=1, color = 'grey', linestyle = 'dashed', zorder = -1)\n",
    "ax[0].set_title('hAPP-J20')\n",
    "sns.boxplot(x='Layer', y='Relative Plaque Density', \n",
    "            data = layerdat_melted[layerdat_melted['Mouse Line'] == '5xFAD'], \n",
    "            ax=ax[1], color = mouse_line_colors[1])\n",
    "ax[1].axhline(y=1, color = 'grey', linestyle = 'dashed', zorder = -1)\n",
    "ax[1].set_title('5xFAD')\n",
    "ax[1].set_ylabel(\"\")\n",
    "#plt.savefig(os.path.join(savepath, 'layer relative density by line.pdf'), \n",
    "#            bbox_inches='tight', pad_inches=0.3, format='pdf', transparent = True, dpi=300)"
   ]
  },
  {
   "cell_type": "code",
   "execution_count": 137,
   "metadata": {},
   "outputs": [],
   "source": [
    "isids = []\n",
    "layers = []\n",
    "treatment = []\n",
    "ldat = []\n",
    "fdat = dat[dat['mouse_line'] == '5xFAD']\n",
    "for isid in fdat['image_series_id'].unique():\n",
    "    expdat = fdat[(fdat['image_series_id'] == isid) & (fdat['structure_acronym'].isin(all_layer_structs))]\n",
    "    sumdat = expdat['plaque_volume'].sum()\n",
    "    sumvol = expdat['volume'].sum()\n",
    "    sumdens = sumdat/sumvol\n",
    "    for layer in ['L1', 'L2/3', 'L4', 'L5', 'L6a', 'L6b']:\n",
    "        regions = layer_dict[layer]\n",
    "        isids.append(isid)\n",
    "        layers.append(layer)\n",
    "        treatment.append(expdat['treatment'].values[0])\n",
    "        pvdat = float(np.sum(expdat[expdat['structure_acronym'].isin(regions)]['plaque_volume']))\n",
    "        vdat = float(np.sum(expdat[expdat['structure_acronym'].isin(regions)]['volume']))\n",
    "        ldens = pvdat/vdat\n",
    "        ldat.append(ldens/sumdens)"
   ]
  },
  {
   "cell_type": "code",
   "execution_count": 138,
   "metadata": {},
   "outputs": [],
   "source": [
    "FADdat_melted = pd.DataFrame({'image_series_id': isids, 'Layer': layers, 'Treatment': treatment,\n",
    "                              'Relative Plaque Density': ldat})"
   ]
  },
  {
   "cell_type": "code",
   "execution_count": 139,
   "metadata": {},
   "outputs": [
    {
     "data": {
      "image/png": "[encoded data removed]",
      "text/plain": [
       "<Figure size 432x288 with 1 Axes>"
      ]
     },
     "metadata": {
      "needs_background": "light"
     },
     "output_type": "display_data"
    }
   ],
   "source": [
    "sns.boxplot(x='Layer', y='Relative Plaque Density', data = FADdat_melted, hue = 'Treatment',\n",
    "            palette = FAD_colors)\n",
    "plt.savefig(os.path.join(savepath, 'layer density 5xFAD.pdf'), \n",
    "            bbox_inches='tight', pad_inches=0.3, format='pdf', transparent = True, dpi=300)"
   ]
  },
  {
   "cell_type": "code",
   "execution_count": 140,
   "metadata": {},
   "outputs": [],
   "source": [
    "isids = []\n",
    "layers = []\n",
    "treatment = []\n",
    "ldat = []\n",
    "fdat = dat[dat['mouse_line'] == 'J20']\n",
    "for isid in fdat['image_series_id'].unique():\n",
    "    expdat = fdat[(fdat['image_series_id'] == isid) & (fdat['structure_acronym'].isin(all_layer_structs))]\n",
    "    sumdat = expdat['plaque_volume'].sum()\n",
    "    sumvol = expdat['volume'].sum()\n",
    "    sumdens = sumdat/sumvol\n",
    "    for layer in ['L1', 'L2/3', 'L4', 'L5', 'L6a', 'L6b']:\n",
    "        regions = layer_dict[layer]\n",
    "        isids.append(isid)\n",
    "        layers.append(layer)\n",
    "        treatment.append(expdat['treatment'].values[0])\n",
    "        pvdat = float(np.sum(expdat[expdat['structure_acronym'].isin(regions)]['plaque_volume']))\n",
    "        vdat = float(np.sum(expdat[expdat['structure_acronym'].isin(regions)]['volume']))\n",
    "        ldens = pvdat/vdat\n",
    "        ldat.append(ldens/sumdens)\n",
    "J20dat_melted = pd.DataFrame({'image_series_id': isids, 'Layer': layers, 'Treatment': treatment,\n",
    "                              'Relative Plaque Density': ldat})"
   ]
  },
  {
   "cell_type": "code",
   "execution_count": 141,
   "metadata": {},
   "outputs": [
    {
     "data": {
      "image/png": "[encoded data removed]",
      "text/plain": [
       "<Figure size 432x288 with 1 Axes>"
      ]
     },
     "metadata": {
      "needs_background": "light"
     },
     "output_type": "display_data"
    }
   ],
   "source": [
    "sns.boxplot(x='Layer', y='Relative Plaque Density', data = J20dat_melted, hue = 'Treatment',\n",
    "            palette = J20_colors)\n",
    "plt.savefig(os.path.join(savepath, 'layer density J20.pdf'), \n",
    "            bbox_inches='tight', pad_inches=0.3, format='pdf', transparent = True, dpi=300)"
   ]
  },
  {
   "cell_type": "code",
   "execution_count": 106,
   "metadata": {},
   "outputs": [],
   "source": [
    "mdf = layerdat_melted.rename(columns= {'Mouse Line': 'mouse_line', 'Relative Plaque Density': 'plaque_density'})\n",
    "formula = 'plaque_density ~ mouse_line + Layer + mouse_line:Layer'\n",
    "\n",
    "mod1 = smf.ols(formula=formula, data=mdf).fit()\n",
    "table = sm.stats.anova_lm(mod1, typ=2)"
   ]
  },
  {
   "cell_type": "code",
   "execution_count": 107,
   "metadata": {},
   "outputs": [
    {
     "data": {
      "text/html": [
       "<div>\n",
       "<style scoped>\n",
       "    .dataframe tbody tr th:only-of-type {\n",
       "        vertical-align: middle;\n",
       "    }\n",
       "\n",
       "    .dataframe tbody tr th {\n",
       "        vertical-align: top;\n",
       "    }\n",
       "\n",
       "    .dataframe thead th {\n",
       "        text-align: right;\n",
       "    }\n",
       "</style>\n",
       "<table border=\"1\" class=\"dataframe\">\n",
       "  <thead>\n",
       "    <tr style=\"text-align: right;\">\n",
       "      <th></th>\n",
       "      <th>sum_sq</th>\n",
       "      <th>df</th>\n",
       "      <th>F</th>\n",
       "      <th>PR(&gt;F)</th>\n",
       "    </tr>\n",
       "  </thead>\n",
       "  <tbody>\n",
       "    <tr>\n",
       "      <th>mouse_line</th>\n",
       "      <td>0.133848</td>\n",
       "      <td>1.0</td>\n",
       "      <td>0.801417</td>\n",
       "      <td>0.388274</td>\n",
       "    </tr>\n",
       "    <tr>\n",
       "      <th>Layer</th>\n",
       "      <td>5.357580</td>\n",
       "      <td>5.0</td>\n",
       "      <td>6.415705</td>\n",
       "      <td>0.004010</td>\n",
       "    </tr>\n",
       "    <tr>\n",
       "      <th>mouse_line:Layer</th>\n",
       "      <td>6.651112</td>\n",
       "      <td>5.0</td>\n",
       "      <td>7.964711</td>\n",
       "      <td>0.001623</td>\n",
       "    </tr>\n",
       "    <tr>\n",
       "      <th>Residual</th>\n",
       "      <td>2.004174</td>\n",
       "      <td>12.0</td>\n",
       "      <td>NaN</td>\n",
       "      <td>NaN</td>\n",
       "    </tr>\n",
       "  </tbody>\n",
       "</table>\n",
       "</div>"
      ],
      "text/plain": [
       "                    sum_sq    df         F    PR(>F)\n",
       "mouse_line        0.133848   1.0  0.801417  0.388274\n",
       "Layer             5.357580   5.0  6.415705  0.004010\n",
       "mouse_line:Layer  6.651112   5.0  7.964711  0.001623\n",
       "Residual          2.004174  12.0       NaN       NaN"
      ]
     },
     "execution_count": 107,
     "metadata": {},
     "output_type": "execute_result"
    }
   ],
   "source": [
    "table"
   ]
  },
  {
   "cell_type": "code",
   "execution_count": 108,
   "metadata": {},
   "outputs": [],
   "source": [
    "ldat = mdf[['image_series_id', 'Layer', 'plaque_density']].pivot(\n",
    "    index = 'image_series_id', columns = 'Layer').reset_index()\n",
    "mousedat = mdf[['image_series_id', 'Layer', 'mouse_line']].pivot(\n",
    "    index = 'image_series_id', columns = 'Layer').reset_index()\n",
    "ldat.columns = ldat.columns.droplevel()\n",
    "mousedat.columns = mousedat.columns.droplevel()\n",
    "ldat['mouse_line'] = mousedat['L1']"
   ]
  },
  {
   "cell_type": "code",
   "execution_count": 109,
   "metadata": {},
   "outputs": [
    {
     "data": {
      "text/html": [
       "<div>\n",
       "<style scoped>\n",
       "    .dataframe tbody tr th:only-of-type {\n",
       "        vertical-align: middle;\n",
       "    }\n",
       "\n",
       "    .dataframe tbody tr th {\n",
       "        vertical-align: top;\n",
       "    }\n",
       "\n",
       "    .dataframe thead th {\n",
       "        text-align: right;\n",
       "    }\n",
       "</style>\n",
       "<table border=\"1\" class=\"dataframe\">\n",
       "  <thead>\n",
       "    <tr style=\"text-align: right;\">\n",
       "      <th>Layer</th>\n",
       "      <th></th>\n",
       "      <th>L1</th>\n",
       "      <th>L2/3</th>\n",
       "      <th>L4</th>\n",
       "      <th>L5</th>\n",
       "      <th>L6a</th>\n",
       "      <th>L6b</th>\n",
       "      <th>mouse_line</th>\n",
       "    </tr>\n",
       "  </thead>\n",
       "  <tbody>\n",
       "    <tr>\n",
       "      <th>0</th>\n",
       "      <td>827568692</td>\n",
       "      <td>2.851326</td>\n",
       "      <td>0.507965</td>\n",
       "      <td>0.572007</td>\n",
       "      <td>0.798395</td>\n",
       "      <td>0.623455</td>\n",
       "      <td>0.468508</td>\n",
       "      <td>J20</td>\n",
       "    </tr>\n",
       "    <tr>\n",
       "      <th>1</th>\n",
       "      <td>847795969</td>\n",
       "      <td>0.986402</td>\n",
       "      <td>0.786751</td>\n",
       "      <td>0.777786</td>\n",
       "      <td>1.296815</td>\n",
       "      <td>0.953269</td>\n",
       "      <td>0.673938</td>\n",
       "      <td>J20</td>\n",
       "    </tr>\n",
       "    <tr>\n",
       "      <th>2</th>\n",
       "      <td>848461840</td>\n",
       "      <td>0.121346</td>\n",
       "      <td>0.233488</td>\n",
       "      <td>0.101291</td>\n",
       "      <td>1.358104</td>\n",
       "      <td>2.568924</td>\n",
       "      <td>0.351615</td>\n",
       "      <td>5xFAD</td>\n",
       "    </tr>\n",
       "    <tr>\n",
       "      <th>3</th>\n",
       "      <td>850921212</td>\n",
       "      <td>0.194585</td>\n",
       "      <td>0.254313</td>\n",
       "      <td>0.097347</td>\n",
       "      <td>1.342134</td>\n",
       "      <td>2.503991</td>\n",
       "      <td>0.377175</td>\n",
       "      <td>5xFAD</td>\n",
       "    </tr>\n",
       "  </tbody>\n",
       "</table>\n",
       "</div>"
      ],
      "text/plain": [
       "Layer                   L1      L2/3        L4        L5       L6a       L6b  \\\n",
       "0      827568692  2.851326  0.507965  0.572007  0.798395  0.623455  0.468508   \n",
       "1      847795969  0.986402  0.786751  0.777786  1.296815  0.953269  0.673938   \n",
       "2      848461840  0.121346  0.233488  0.101291  1.358104  2.568924  0.351615   \n",
       "3      850921212  0.194585  0.254313  0.097347  1.342134  2.503991  0.377175   \n",
       "\n",
       "Layer mouse_line  \n",
       "0            J20  \n",
       "1            J20  \n",
       "2          5xFAD  \n",
       "3          5xFAD  "
      ]
     },
     "execution_count": 109,
     "metadata": {},
     "output_type": "execute_result"
    }
   ],
   "source": [
    "ldat.head()"
   ]
  },
  {
   "cell_type": "code",
   "execution_count": 110,
   "metadata": {},
   "outputs": [],
   "source": [
    "#ldat.to_csv(os.path.join(path, 'layer_dat_unpivoted.csv'))"
   ]
  },
  {
   "cell_type": "code",
   "execution_count": 120,
   "metadata": {},
   "outputs": [
    {
     "ename": "SyntaxError",
     "evalue": "invalid syntax (<ipython-input-120-a96ba3aab008>, line 1)",
     "output_type": "error",
     "traceback": [
      "\u001b[0;36m  File \u001b[0;32m\"<ipython-input-120-a96ba3aab008>\"\u001b[0;36m, line \u001b[0;32m1\u001b[0m\n\u001b[0;31m    stop here\u001b[0m\n\u001b[0m            ^\u001b[0m\n\u001b[0;31mSyntaxError\u001b[0m\u001b[0;31m:\u001b[0m invalid syntax\n"
     ]
    }
   ],
   "source": [
    "stop here"
   ]
  },
  {
   "cell_type": "code",
   "execution_count": null,
   "metadata": {},
   "outputs": [],
   "source": []
  },
  {
   "cell_type": "code",
   "execution_count": null,
   "metadata": {},
   "outputs": [],
   "source": []
  },
  {
   "cell_type": "code",
   "execution_count": null,
   "metadata": {},
   "outputs": [],
   "source": []
  },
  {
   "cell_type": "markdown",
   "metadata": {},
   "source": [
    "## Plot by age"
   ]
  },
  {
   "cell_type": "code",
   "execution_count": null,
   "metadata": {
    "scrolled": false
   },
   "outputs": [],
   "source": [
    "pltdat = pd.DataFrame(columns={'age', 'group', 'plaques', 'structure'})\n",
    "ages = ['5 mo', '7 mo', '9 mo', '13 mo', '19 mo']\n",
    "for age in ages:\n",
    "    for structure in iso:\n",
    "        structure_acronym = ai_map[structure]\n",
    "        pltdat = pd.concat([pltdat, get_structure_data(age, structure_acronym, 'density')], sort = True)\n",
    "pltdat['Percent Plaque Coverage'] = [density*100 for density in pltdat['plaques']]\n",
    "\n",
    "fig, ax = plt.subplots(figsize = (8, 3))\n",
    "ages = ['5 mo', '7 mo', '9 mo', '13 mo', '19 mo']\n",
    "colors = ['#d0d1e6', '#a6bddb', '#74a9cf', '#2b8cbe', '#045a8d']\n",
    "for ix, age in enumerate(ages):\n",
    "    agedat = pltdat[pltdat['age'] == age]\n",
    "    meddat = agedat.groupby(['group', 'structure']).median().reset_index()\n",
    "    mapping = {region: i for i, region in enumerate(plot_order)}\n",
    "    key = meddat['structure'].map(mapping)    \n",
    "    meddat = meddat.iloc[key.argsort()]\n",
    "    meddat['lower_error'] = agedat.groupby(['group', 'structure']).quantile(.25).reset_index()['Percent Plaque Coverage']\n",
    "    meddat['lower_error'] = meddat['Percent Plaque Coverage'] - meddat['lower_error']\n",
    "    meddat['upper_error'] = agedat.groupby(['group', 'structure']).quantile(.75).reset_index()['Percent Plaque Coverage']\n",
    "    meddat['upper_error'] = meddat['upper_error'] - meddat['Percent Plaque Coverage']\n",
    "    meddat[meddat['group'] == 'APP/PS1'].plot('structure', 'Percent Plaque Coverage', \n",
    "                                          ax = ax, c = colors[ix], linewidth = 3, capsize=.5,\n",
    "                                              alpha = 0.3, legend = False,\n",
    "                                          yerr = np.array(meddat[meddat['group'] == 'APP/PS1'][['lower_error', 'upper_error']].T)) \n",
    "    meddat[meddat['group'] == 'APP/PS1'].plot('structure', 'Percent Plaque Coverage', \n",
    "                                          ax = ax, c = colors[ix], linewidth = 3, legend = False)\n",
    "plt.title('Plaque Density in Isocortex Structures APP/PS1')\n",
    "plt.legend(handles = get_age_legend(colors, ages), loc = 2)\n",
    "plt.xticks(np.arange(len(meddat['structure'].unique())), meddat['structure'].unique());\n",
    "plt.setp( ax.xaxis.get_majorticklabels(), rotation=90 )\n",
    "ax.set_xlabel(\"\")\n",
    "ax.set_ylabel(\"Percent Plaque Coverage\")\n",
    "ax.set_ylim([-0.05, 1.9])\n",
    "#plt.savefig(os.path.join(savepath, 'plaque volume in isocortex by age APP_PS1.pdf'.format(structure)), \n",
    "#            bbox_inches='tight', pad_inches=0.3, format='pdf', transparent = True, dpi=1000)"
   ]
  },
  {
   "cell_type": "code",
   "execution_count": null,
   "metadata": {},
   "outputs": [],
   "source": [
    "def get_age_legend(colors, ages):\n",
    "    legend = {}\n",
    "    for ix, age in enumerate(ages):\n",
    "        legend[ix] = mlines.Line2D([], [], color=colors[ix],\n",
    "                              label=age)\n",
    "    return [value for key, value in legend.iteritems()]"
   ]
  },
  {
   "cell_type": "code",
   "execution_count": null,
   "metadata": {},
   "outputs": [],
   "source": [
    "pltdat = pd.DataFrame(columns={'age', 'group', 'plaques', 'structure'})\n",
    "ages = ['5 mo', '7 mo', '9 mo', '13 mo', '19 mo']\n",
    "for age in ages:\n",
    "    for structure in hipp_ss:\n",
    "        structure_acronym = ai_map[structure]\n",
    "        pltdat = pd.concat([pltdat, get_structure_data(age, structure_acronym, 'density')], sort = True)\n",
    "pltdat['Percent Plaque Coverage'] = [density*100 for density in pltdat['plaques']]\n",
    "\n",
    "fig, ax = plt.subplots(figsize = (3, 3))\n",
    "ages = ['5 mo', '7 mo', '9 mo', '13 mo', '19 mo']\n",
    "colors = ['#d0d1e6', '#a6bddb', '#74a9cf', '#2b8cbe', '#045a8d']\n",
    "for ix, age in enumerate(ages):\n",
    "    agedat = pltdat[pltdat['age'] == age]\n",
    "    meddat = agedat.groupby(['group', 'structure']).median().reset_index()\n",
    "    meddat['lower_error'] = agedat.groupby(['group', 'structure']).quantile(.25).reset_index()['Percent Plaque Coverage']\n",
    "    meddat['lower_error'] = meddat['Percent Plaque Coverage'] - meddat['lower_error']\n",
    "    meddat['upper_error'] = agedat.groupby(['group', 'structure']).quantile(.75).reset_index()['Percent Plaque Coverage']\n",
    "    meddat['upper_error'] = meddat['upper_error'] - meddat['Percent Plaque Coverage']\n",
    "    meddat[meddat['group'] == 'APP/PS1'].plot('structure', 'Percent Plaque Coverage', \n",
    "                                          ax = ax, c = colors[ix], linewidth = 3, capsize=.5,\n",
    "                                              alpha = 0.3, legend = False,\n",
    "                                          yerr = np.array(meddat[meddat['group'] == 'APP/PS1'][['lower_error', 'upper_error']].T)) \n",
    "    meddat[meddat['group'] == 'APP/PS1'].plot('structure', 'Percent Plaque Coverage', \n",
    "                                          ax = ax, c = colors[ix], linewidth = 3, legend = False)\n",
    "plt.title('Plaque Density in Hippocampal Structures APP/PS1')\n",
    "plt.legend(handles = get_age_legend(colors, ages), loc = 1)\n",
    "plt.xticks(np.arange(len(meddat['structure'].unique())), meddat['structure'].unique());\n",
    "plt.setp( ax.xaxis.get_majorticklabels(), rotation=90 )\n",
    "ax.set_xlabel(\"\")\n",
    "ax.set_ylabel(\"Percent Plaque Coverage\")\n",
    "ax.set_ylim([-0.05, 1.9])\n",
    "#plt.savefig(os.path.join(savepath, 'plaque volume in hippocampus by age APP_PS1.pdf'.format(structure)), \n",
    "#            bbox_inches='tight', pad_inches=0.3, format='pdf', transparent = True, dpi=1000)"
   ]
  },
  {
   "cell_type": "code",
   "execution_count": null,
   "metadata": {},
   "outputs": [],
   "source": [
    "pltdat = pd.DataFrame(columns={'age', 'group', 'plaques', 'structure'})\n",
    "ages = ['5 mo', '7 mo', '9 mo', '13 mo', '19 mo']\n",
    "for age in ages:\n",
    "    for structure in iso:\n",
    "        structure_acronym = ai_map[structure]\n",
    "        pltdat = pd.concat([pltdat, get_structure_data(age, structure_acronym, 'density')], sort = True)\n",
    "pltdat['Percent Plaque Coverage'] = [density*100 for density in pltdat['plaques']]\n",
    "\n",
    "fig, ax = plt.subplots(figsize = (8, 3))\n",
    "ages = ['5 mo', '7 mo', '9 mo', '13 mo', '19 mo']\n",
    "colors = ['#fdd49e', '#fdbb84', '#fc8d59', '#e34a33', '#b30000']\n",
    "for ix, age in enumerate(ages):\n",
    "    agedat = pltdat[pltdat['age'] == age]\n",
    "    meddat = agedat.groupby(['group', 'structure']).median().reset_index()\n",
    "    mapping = {region: i for i, region in enumerate(plot_order)}\n",
    "    key = meddat['structure'].map(mapping)    \n",
    "    meddat = meddat.iloc[key.argsort()]\n",
    "    meddat['lower_error'] = agedat.groupby(['group', 'structure']).quantile(.25).reset_index()['Percent Plaque Coverage']\n",
    "    meddat['lower_error'] = meddat['Percent Plaque Coverage'] - meddat['lower_error']\n",
    "    meddat['upper_error'] = agedat.groupby(['group', 'structure']).quantile(.75).reset_index()['Percent Plaque Coverage']\n",
    "    meddat['upper_error'] = meddat['upper_error'] - meddat['Percent Plaque Coverage']\n",
    "    meddat[meddat['group'] == 'hAPP-J20'].plot('structure', 'Percent Plaque Coverage', \n",
    "                                          ax = ax, c = colors[ix], linewidth = 3, capsize=.5,\n",
    "                                              alpha = 0.3, legend = False,\n",
    "                                          yerr = np.array(meddat[meddat['group'] == 'hAPP-J20'][['lower_error', 'upper_error']].T)) \n",
    "    meddat[meddat['group'] == 'hAPP-J20'].plot('structure', 'Percent Plaque Coverage', \n",
    "                                          ax = ax, c = colors[ix], linewidth = 3, legend = False)\n",
    "plt.title('Plaque Density in Isocortex Structures hAPP-J20')\n",
    "plt.legend(handles = get_age_legend(colors, ages), loc = 2)\n",
    "plt.xticks(np.arange(len(meddat['structure'].unique())), meddat['structure'].unique());\n",
    "plt.setp( ax.xaxis.get_majorticklabels(), rotation=90 )\n",
    "ax.set_xlabel(\"\")\n",
    "ax.set_ylabel(\"Percent Plaque Coverage\")\n",
    "ax.set_ylim([-0.05, 0.7])\n",
    "#plt.savefig(os.path.join(savepath, 'plaque volume in isocortex by age J20.pdf'.format(structure)), \n",
    "#            bbox_inches='tight', pad_inches=0.3, format='pdf', transparent = True, dpi=1000)"
   ]
  },
  {
   "cell_type": "code",
   "execution_count": null,
   "metadata": {},
   "outputs": [],
   "source": [
    "pltdat = pd.DataFrame(columns={'age', 'group', 'plaques', 'structure'})\n",
    "ages = ['5 mo', '7 mo', '9 mo', '13 mo', '19 mo']\n",
    "for age in ages:\n",
    "    for structure in hipp_ss:\n",
    "        structure_acronym = ai_map[structure]\n",
    "        pltdat = pd.concat([pltdat, get_structure_data(age, structure_acronym, 'density')], sort = True)\n",
    "pltdat['Percent Plaque Coverage'] = [density*100 for density in pltdat['plaques']]\n",
    "\n",
    "fig, ax = plt.subplots(figsize = (3, 3))\n",
    "ages = ['5 mo', '7 mo', '9 mo', '13 mo', '19 mo']\n",
    "colors = ['#fdd49e', '#fdbb84', '#fc8d59', '#e34a33', '#b30000']\n",
    "for ix, age in enumerate(ages):\n",
    "    agedat = pltdat[pltdat['age'] == age]\n",
    "    meddat = agedat.groupby(['group', 'structure']).median().reset_index()\n",
    "    meddat['lower_error'] = agedat.groupby(['group', 'structure']).quantile(.25).reset_index()['Percent Plaque Coverage']\n",
    "    meddat['lower_error'] = meddat['Percent Plaque Coverage'] - meddat['lower_error']\n",
    "    meddat['upper_error'] = agedat.groupby(['group', 'structure']).quantile(.75).reset_index()['Percent Plaque Coverage']\n",
    "    meddat['upper_error'] = meddat['upper_error'] - meddat['Percent Plaque Coverage']\n",
    "    meddat[meddat['group'] == 'hAPP-J20'].plot('structure', 'Percent Plaque Coverage', \n",
    "                                          ax = ax, c = colors[ix], linewidth = 3, capsize=.5,\n",
    "                                              alpha = 0.3, legend = False,\n",
    "                                          yerr = np.array(meddat[meddat['group'] == 'hAPP-J20'][['lower_error', 'upper_error']].T)) \n",
    "    meddat[meddat['group'] == 'hAPP-J20'].plot('structure', 'Percent Plaque Coverage', \n",
    "                                          ax = ax, c = colors[ix], linewidth = 3, legend = False)\n",
    "plt.title('Plaque Density in Hippocampal Structures hAPP-J20')\n",
    "plt.legend(handles = get_age_legend(colors, ages), loc = 1)\n",
    "plt.xticks(np.arange(len(meddat['structure'].unique())), meddat['structure'].unique());\n",
    "plt.setp( ax.xaxis.get_majorticklabels(), rotation=90 )\n",
    "ax.set_xlabel(\"\")\n",
    "ax.set_ylabel(\"Percent Plaque Coverage\")\n",
    "ax.set_ylim([-0.05, 0.7])\n",
    "#plt.savefig(os.path.join(savepath, 'plaque volume in hippocampus by age J20.pdf'.format(structure)), \n",
    "#            bbox_inches='tight', pad_inches=0.3, format='pdf', transparent = True, dpi=1000)"
   ]
  },
  {
   "cell_type": "code",
   "execution_count": null,
   "metadata": {},
   "outputs": [],
   "source": [
    "pltdat = pd.DataFrame(columns={'age', 'group', 'plaques', 'structure'})\n",
    "ages = ['5 mo', '7 mo', '9 mo', '13 mo', '19 mo']\n",
    "for age in ages:\n",
    "    for structure in olf_ss:\n",
    "        structure_acronym = ai_map[structure]\n",
    "        pltdat = pd.concat([pltdat, get_structure_data(age, structure_acronym, 'density')], sort = True)\n",
    "pltdat['Percent Plaque Coverage'] = [density*100 for density in pltdat['plaques']]\n",
    "\n",
    "fig, ax = plt.subplots(figsize = (8, 4))\n",
    "ages = ['9 mo', '13 mo', '19 mo']\n",
    "colors = ['#e5f5f9', '#99d8c9', '#2ca25f']\n",
    "for ix, age in enumerate(ages):\n",
    "    agedat = pltdat[pltdat['age'] == age]\n",
    "    meddat = agedat.groupby(['group', 'structure']).median().reset_index()\n",
    "    meddat['lower_error'] = agedat.groupby(['group', 'structure']).quantile(.25).reset_index()['Percent Plaque Coverage']\n",
    "    meddat['lower_error'] = meddat['Percent Plaque Coverage'] - meddat['lower_error']\n",
    "    meddat['upper_error'] = agedat.groupby(['group', 'structure']).quantile(.75).reset_index()['Percent Plaque Coverage']\n",
    "    meddat['upper_error'] = meddat['upper_error'] - meddat['Percent Plaque Coverage']\n",
    "    meddat[meddat['group'] == 'Tg2576'].plot('structure', 'Percent Plaque Coverage', \n",
    "                                          ax = ax, c = colors[ix], linewidth = 3, capsize=.5,\n",
    "                                              alpha = 0.3, legend = False,\n",
    "                                          yerr = np.array(meddat[meddat['group'] == 'Tg2576'][['lower_error', 'upper_error']].T)) \n",
    "    meddat[meddat['group'] == 'Tg2576'].plot('structure', 'Percent Plaque Coverage', \n",
    "                                          ax = ax, c = colors[ix], linewidth = 3, legend = False)\n",
    "plt.title('Plaque Density in Olfactory Structures Tg2576')\n",
    "plt.legend(handles = get_age_legend(colors, ages), loc = 2, frameon = False)\n",
    "plt.xticks(np.arange(len(meddat['structure'].unique())), meddat['structure'].unique());\n",
    "plt.setp( ax.xaxis.get_majorticklabels(), rotation=90 )\n",
    "ax.set_xlabel(\"\")\n",
    "#plt.savefig(os.path.join(savepath, 'plaque volume in olfactory by age Tg2576.pdf'.format(structure)), \n",
    "#            bbox_inches='tight', pad_inches=0.3, format='pdf', transparent = True, dpi=1000)"
   ]
  },
  {
   "cell_type": "markdown",
   "metadata": {},
   "source": [
    "## Plaque Maps"
   ]
  },
  {
   "cell_type": "code",
   "execution_count": null,
   "metadata": {},
   "outputs": [],
   "source": [
    "def get_mean_value_per_structure(group, age, structure_ids):\n",
    "    means = []\n",
    "    isids = dataset[(dataset['mouse_line'] == group) & (dataset['age_group'] == age)]['image_series_id'].values\n",
    "    for structure_id in structure_ids:\n",
    "        str_mean = np.mean(dat[(dat['structure_id'] == structure_id) & \n",
    "                                 (dat['image_series_id'].isin(isids))]\n",
    "                             ['plaque_density'])\n",
    "        means.append(str_mean*100)\n",
    "    structuredat = dict(zip(structure_ids, means))\n",
    "    return structuredat, len(isids)"
   ]
  },
  {
   "cell_type": "code",
   "execution_count": null,
   "metadata": {},
   "outputs": [],
   "source": [
    "all_structure_vals, n = get_mean_value_per_structure('Tg2576', '13 mo', dat.structure_id.unique())"
   ]
  },
  {
   "cell_type": "code",
   "execution_count": null,
   "metadata": {},
   "outputs": [],
   "source": [
    "savepath"
   ]
  },
  {
   "cell_type": "code",
   "execution_count": null,
   "metadata": {},
   "outputs": [],
   "source": [
    "mcc10 = MouseConnectivityCache(resolution = 10, manifest_file = '../connectivity/mouse_connectivity_manifest_10.json')\n",
    "reference_space =  mcc.get_reference_space()\n",
    "structure_vals, n = get_mean_value_per_structure('APP/PS1', '13 mo', dat.structure_id.unique())\n",
    "rgb_vals = structure_vals.copy()\n",
    "scale = 0.7\n",
    "for key in structure_vals:\n",
    "    rgb_vals[key] = tuple([255*i for i in cm.hot(structure_vals[key]*scale)[:3]])\n",
    "rgb_vals[0] = [0, 0, 0]\n",
    "index = [7150, 4500, 5000]\n",
    "#index = [6650, 5625, 9100] #rostral\n",
    "image = reference_space.get_slice_image(0, index[0], rgb_vals)\n",
    "fig = plt.figure(figsize=(100, 100), facecolor=rgb_vals[0])\n",
    "f = plt.imshow(image, cmap = cm.hot)\n",
    "plt.axis('off')\n",
    "#plt.savefig(r'/Users/jenniferwh/Dropbox (Allen Institute)/Mesoscale Connectome Papers in Progress/2018 Plaque/APP_PS1 plaque map with 238134.png', facecolor=fig.get_facecolor(),\n",
    "#            bbox_inches='tight', pad_inches=0.3, format='png', dpi=300)"
   ]
  },
  {
   "cell_type": "code",
   "execution_count": null,
   "metadata": {},
   "outputs": [],
   "source": [
    "reference_space =  mcc.get_reference_space()\n",
    "structure_vals, n = get_mean_value_per_structure('APP/PS1', '13 mo', dat.structure_id.unique())\n",
    "rgb_vals = structure_vals.copy()\n",
    "scale = 0.7\n",
    "for key in structure_vals:\n",
    "    rgb_vals[key] = tuple([255*i for i in cm.hot(structure_vals[key]*scale)[:3]])\n",
    "rgb_vals[0] = [0, 0, 0]\n",
    "\n",
    "w=8\n",
    "h=8\n",
    "image = [0,0,0]\n",
    "index = [8000, 4500, 5000]\n",
    "#index = [6650, 5625, 9100] #rostral\n",
    "image[0] = reference_space.get_slice_image(0, index[0], rgb_vals)\n",
    "image[1] = np.flip(np.rot90(reference_space.get_slice_image(2, index[2], rgb_vals)), 0)\n",
    "image[2] = np.rot90(reference_space.get_slice_image(1, index[1], rgb_vals))  \n",
    "fig = plt.figure(figsize=(8, 3), facecolor=rgb_vals[0])\n",
    "columns = 3\n",
    "rows = 1\n",
    "for i in range(columns*rows):\n",
    "    fig.add_subplot(rows, columns, i+1)\n",
    "    f = plt.imshow(image[i], cmap = cm.hot)\n",
    "    plt.axis('off')\n",
    "cbar = fig.colorbar(f, fraction=0.046)\n",
    "cbar.set_label('Plaque Density (%)', rotation=90, color = 'w')\n",
    "plt.setp(plt.getp(cbar.ax.axes, 'yticklabels'), color='w')\n",
    "\n",
    "maxval = max(structure_vals.iteritems(), key=operator.itemgetter(1))[1]/scale\n",
    "cbar.ax.set_yticklabels([0, np.round(maxval*.16, 1), np.round(maxval*.33, 1), \n",
    "                         np.round(maxval*.5, 1), np.round(maxval*.66, 1), \n",
    "                         np.round(maxval*.56, 1), np.round(maxval*.67, 1),\n",
    "                        np.round(maxval*.78, 1), np.round(maxval*.89, 1), np.round(maxval)])\n",
    "print(n)\n",
    "#plt.savefig(os.path.join(savepath, 'APP_PS1 plaque map 13 mo.png'), facecolor=fig.get_facecolor(),\n",
    "#            bbox_inches='tight', pad_inches=0.3, format='png', dpi=500)"
   ]
  },
  {
   "cell_type": "code",
   "execution_count": null,
   "metadata": {},
   "outputs": [],
   "source": [
    "structure_vals, n = get_mean_value_per_structure('APP/PS1', '19 mo', dat.structure_id.unique())\n",
    "rgb_vals = structure_vals.copy()\n",
    "scale = 0.7\n",
    "for key in structure_vals:\n",
    "    rgb_vals[key] = tuple([255*i for i in cm.hot(structure_vals[key]*scale)[:3]])\n",
    "rgb_vals[0] = [0, 0, 0]\n",
    "\n",
    "w=8\n",
    "h=8\n",
    "image = [0,0,0]\n",
    "index = [8000, 4500, 5000]\n",
    "#index = [6650, 5625, 9100] #rostral\n",
    "image[0] = reference_space.get_slice_image(0, index[0], rgb_vals)\n",
    "image[1] = np.flip(np.rot90(reference_space.get_slice_image(2, index[2], rgb_vals)), 0)\n",
    "image[2] = np.rot90(reference_space.get_slice_image(1, index[1], rgb_vals))  \n",
    "fig = plt.figure(figsize=(8, 3), facecolor=rgb_vals[0])\n",
    "columns = 3\n",
    "rows = 1\n",
    "for i in range(columns*rows):\n",
    "    fig.add_subplot(rows, columns, i+1)\n",
    "    f = plt.imshow(image[i], cmap = cm.hot)\n",
    "    plt.axis('off')\n",
    "cbar = fig.colorbar(f, fraction=0.046)\n",
    "cbar.set_label('Plaque Density (%)', rotation=90, color = 'w')\n",
    "plt.setp(plt.getp(cbar.ax.axes, 'yticklabels'), color='w')\n",
    "\n",
    "maxval = max(structure_vals.iteritems(), key=operator.itemgetter(1))[1]/scale\n",
    "cbar.ax.set_yticklabels([0, np.round(maxval*.12, 1), np.round(maxval*.23, 1), \n",
    "                         np.round(maxval*.34, 1), np.round(maxval*.45, 1), \n",
    "                         np.round(maxval*.56, 1), np.round(maxval*.67, 1),\n",
    "                        np.round(maxval*.78, 1), np.round(maxval*.89, 1), np.round(maxval)])\n",
    "print(n)\n",
    "#plt.savefig(os.path.join(savepath, 'APP_PS1 plaque map 19 mo.png'), facecolor=fig.get_facecolor(),\n",
    "#            bbox_inches='tight', pad_inches=0.3, format='png', dpi=500)"
   ]
  },
  {
   "cell_type": "code",
   "execution_count": null,
   "metadata": {},
   "outputs": [],
   "source": [
    "structure_vals, n = get_mean_value_per_structure('hAPP-J20', '19 mo', dat.structure_id.unique())\n",
    "rgb_vals = structure_vals.copy()\n",
    "scale = 2.5\n",
    "for key in structure_vals:\n",
    "    rgb_vals[key] = tuple([255*i for i in cm.hot(structure_vals[key]*scale)[:3]])\n",
    "rgb_vals[0] = [0, 0, 0]\n",
    "\n",
    "w=8\n",
    "h=8\n",
    "image = [0,0,0]\n",
    "#index = [8000, 4500, 5000]\n",
    "index = [6650, 5625, 9100] #rostral\n",
    "image[0] = reference_space.get_slice_image(0, index[0], rgb_vals)\n",
    "image[1] = np.flip(np.rot90(reference_space.get_slice_image(2, index[2], rgb_vals)), 0)\n",
    "image[2] = np.rot90(reference_space.get_slice_image(1, index[1], rgb_vals))  \n",
    "fig = plt.figure(figsize=(8, 3), facecolor=rgb_vals[0])\n",
    "columns = 3\n",
    "rows = 1\n",
    "for i in range(columns*rows):\n",
    "    fig.add_subplot(rows, columns, i+1)\n",
    "    f = plt.imshow(image[i], cmap = cm.hot)\n",
    "    plt.axis('off')\n",
    "cbar = fig.colorbar(f, fraction=0.046)\n",
    "cbar.set_label('Plaque Density (%)', rotation=90, color = 'w')\n",
    "plt.setp(plt.getp(cbar.ax.axes, 'yticklabels'), color='w')\n",
    "\n",
    "maxval = max(structure_vals.iteritems(), key=operator.itemgetter(1))[1]/scale\n",
    "cbar.ax.set_yticklabels([0, np.round(maxval*.12, 1), np.round(maxval*.23, 1), \n",
    "                         np.round(maxval*.34, 1), np.round(maxval*.45, 1), \n",
    "                         np.round(maxval*.56, 1), np.round(maxval*.67, 1),\n",
    "                        np.round(maxval*.78, 1), np.round(maxval*.89, 1), np.round(maxval)])\n",
    "print(n)\n",
    "#plt.savefig(os.path.join(savepath, 'hAPP-J20 plaque map 19 mo rostral.png'), facecolor=fig.get_facecolor(),\n",
    "#            bbox_inches='tight', pad_inches=0.3, format='png', dpi=1000)"
   ]
  },
  {
   "cell_type": "code",
   "execution_count": null,
   "metadata": {},
   "outputs": [],
   "source": [
    "structure_vals, n = get_mean_value_per_structure('hAPP-J20', '13 mo', dat.structure_id.unique())\n",
    "rgb_vals = structure_vals.copy()\n",
    "scale = 5\n",
    "for key in structure_vals:\n",
    "    rgb_vals[key] = tuple([255*i for i in cm.hot(structure_vals[key]*scale)[:3]])\n",
    "rgb_vals[0] = [0, 0, 0]\n",
    "\n",
    "w=8\n",
    "h=8\n",
    "image = [0,0,0]\n",
    "index = [8000, 4500, 5000]\n",
    "#index = [6650, 5625, 9100] #rostral\n",
    "image[0] = reference_space.get_slice_image(0, index[0], rgb_vals)\n",
    "image[1] = np.flip(np.rot90(reference_space.get_slice_image(2, index[2], rgb_vals)), 0)\n",
    "image[2] = np.rot90(reference_space.get_slice_image(1, index[1], rgb_vals))  \n",
    "fig = plt.figure(figsize=(8, 3), facecolor=rgb_vals[0])\n",
    "columns = 3\n",
    "rows = 1\n",
    "for i in range(columns*rows):\n",
    "    fig.add_subplot(rows, columns, i+1)\n",
    "    f = plt.imshow(image[i], cmap = cm.hot)\n",
    "    plt.axis('off')\n",
    "cbar = fig.colorbar(f, fraction=0.046)\n",
    "cbar.set_label('Plaque Density (%)', rotation=90, color = 'w')\n",
    "plt.setp(plt.getp(cbar.ax.axes, 'yticklabels'), color='w')\n",
    "\n",
    "maxval = max(structure_vals.iteritems(), key=operator.itemgetter(1))[1]/scale\n",
    "cbar.ax.set_yticklabels([0, np.round(maxval*.12, 2), np.round(maxval*.23, 2), \n",
    "                         np.round(maxval*.34, 2), np.round(maxval*.45, 2), \n",
    "                         np.round(maxval*.56, 2), np.round(maxval*.67, 2),\n",
    "                        np.round(maxval*.78, 2), np.round(maxval*.89, 2), np.round(maxval)])\n",
    "print(n)\n",
    "#plt.savefig(os.path.join(savepath, 'hAPP-J20 plaque map 13 mo.png'), facecolor=fig.get_facecolor(),\n",
    "#            bbox_inches='tight', pad_inches=0.3, format='png', dpi=500)"
   ]
  },
  {
   "cell_type": "code",
   "execution_count": null,
   "metadata": {},
   "outputs": [],
   "source": [
    "structure_vals, n = get_mean_value_per_structure('Tg2576', '13 mo', dat.structure_id.unique())\n",
    "rgb_vals = structure_vals.copy()\n",
    "scale = 10\n",
    "for key in structure_vals:\n",
    "    rgb_vals[key] = tuple([255*i for i in cm.hot(structure_vals[key]*scale)[:3]])\n",
    "rgb_vals[0] = [0, 0, 0]\n",
    "\n",
    "w=8\n",
    "h=8\n",
    "image = [0,0,0]\n",
    "index = [8000, 4500, 5000]\n",
    "#index = [6650, 5625, 9100] #rostral\n",
    "image[0] = reference_space.get_slice_image(0, index[0], rgb_vals)\n",
    "image[1] = np.flip(np.rot90(reference_space.get_slice_image(2, index[2], rgb_vals)), 0)\n",
    "image[2] = np.rot90(reference_space.get_slice_image(1, index[1], rgb_vals))  \n",
    "fig = plt.figure(figsize=(8, 3), facecolor=rgb_vals[0])\n",
    "columns = 3\n",
    "rows = 1\n",
    "for i in range(columns*rows):\n",
    "    fig.add_subplot(rows, columns, i+1)\n",
    "    f = plt.imshow(image[i], cmap = cm.hot)\n",
    "    plt.axis('off')\n",
    "cbar = fig.colorbar(f, fraction=0.046)\n",
    "cbar.set_label('Plaque Density (%)', rotation=90, color = 'w')\n",
    "plt.setp(plt.getp(cbar.ax.axes, 'yticklabels'), color='w')\n",
    "\n",
    "maxval = max(structure_vals.iteritems(), key=operator.itemgetter(1))[1]/scale\n",
    "cbar.ax.set_yticklabels([0, np.round(maxval*.12, 2), np.round(maxval*.23, 2), \n",
    "                         np.round(maxval*.34, 2), np.round(maxval*.45, 2), \n",
    "                         np.round(maxval*.56, 2), np.round(maxval*.67, 2),\n",
    "                        np.round(maxval*.78, 2), np.round(maxval*.89, 2), np.round(maxval)])\n",
    "print(n)\n",
    "#plt.savefig(os.path.join(savepath, 'Tg2576 plaque map 13 mo.png'), facecolor=fig.get_facecolor(),\n",
    "#            bbox_inches='tight', pad_inches=0.3, format='png', dpi=1000)"
   ]
  },
  {
   "cell_type": "code",
   "execution_count": null,
   "metadata": {},
   "outputs": [],
   "source": [
    "structure_vals, n = get_mean_value_per_structure('Tg2576', '19 mo', dat.structure_id.unique())\n",
    "rgb_vals = structure_vals.copy()\n",
    "scale = 2\n",
    "for key in structure_vals:\n",
    "    rgb_vals[key] = tuple([255*i for i in cm.hot(structure_vals[key]*scale)[:3]])\n",
    "rgb_vals[0] = [0, 0, 0]\n",
    "\n",
    "w=8\n",
    "h=8\n",
    "image = [0,0,0]\n",
    "index = [8000, 4500, 5000]\n",
    "#index = [6650, 5625, 9100] #rostral\n",
    "image[0] = reference_space.get_slice_image(0, index[0], rgb_vals)\n",
    "image[1] = np.flip(np.rot90(reference_space.get_slice_image(2, index[2], rgb_vals)), 0)\n",
    "image[2] = np.rot90(reference_space.get_slice_image(1, index[1], rgb_vals))  \n",
    "fig = plt.figure(figsize=(8, 3), facecolor= rgb_vals[0])\n",
    "columns = 3\n",
    "rows = 1\n",
    "for i in range(columns*rows):\n",
    "    fig.add_subplot(rows, columns, i+1)\n",
    "    f = plt.imshow(image[i], cmap = cm.hot)\n",
    "    plt.axis('off')\n",
    "\n",
    "cbar = fig.colorbar(f, orientation='vertical', \n",
    "                    fraction=0.046)\n",
    "cbar_ax = fig.axes[-1]\n",
    "cbar.solids.set_rasterized(True)\n",
    "cbar.solids.set_edgecolor(\"face\")\n",
    "cbar.draw_all()\n",
    "\n",
    "cbar.set_label('Plaque Density (%)', rotation=90, color = 'w')\n",
    "plt.setp(plt.getp(cbar.ax.axes, 'yticklabels'), color='w')\n",
    "\n",
    "maxval = max(structure_vals.iteritems(), key=operator.itemgetter(1))[1]/scale\n",
    "cbar.ax.set_yticklabels([0, np.round(maxval*.12, 1), np.round(maxval*.23, 1), \n",
    "                         np.round(maxval*.34, 1), np.round(maxval*.45, 1), \n",
    "                         np.round(maxval*.56, 1), np.round(maxval*.67, 1),\n",
    "                        np.round(maxval*.78, 1), np.round(maxval*.89, 1), np.round(maxval)])\n",
    "print(n)\n",
    "#plt.savefig(os.path.join(savepath, 'Tg2576 plaque map 19 mo.png'), facecolor=fig.get_facecolor(),\n",
    "#            bbox_inches='tight', pad_inches=0.3, format='png', dpi=500)"
   ]
  },
  {
   "cell_type": "code",
   "execution_count": null,
   "metadata": {},
   "outputs": [],
   "source": [
    "w=8\n",
    "h=8\n",
    "image = [0,0,0]\n",
    "index = [8000, 4500, 5000]\n",
    "#index = [6650, 5625, 9100] #rostral\n",
    "image[0] = reference_space.get_slice_image(0, index[0])\n",
    "image[1] = np.flip(np.rot90(reference_space.get_slice_image(2, index[2])), 0)\n",
    "image[2] = np.rot90(reference_space.get_slice_image(1, index[1]))  \n",
    "fig = plt.figure(figsize=(8, 3), facecolor= rgb_vals[0])\n",
    "columns = 3\n",
    "rows = 1\n",
    "for i in range(columns*rows):\n",
    "    fig.add_subplot(rows, columns, i+1)\n",
    "    f = plt.imshow(image[i])\n",
    "    plt.axis('off')\n",
    "cbar = fig.colorbar(f, orientation='vertical', \n",
    "                    fraction=0.046)\n",
    "cbar_ax = fig.axes[-1]\n",
    "cbar.solids.set_rasterized(True)\n",
    "cbar.solids.set_edgecolor(\"face\")\n",
    "cbar.draw_all()\n",
    "\n",
    "cbar.set_label('Plaque % Volume', rotation=90, color = 'w')\n",
    "plt.setp(plt.getp(cbar.ax.axes, 'yticklabels'), color='w')\n",
    "\n",
    "maxval = max(structure_vals.iteritems(), key=operator.itemgetter(1))[1]/scale\n",
    "cbar.ax.set_yticklabels([0, np.round(maxval*.12, 1), np.round(maxval*.23, 1), \n",
    "                         np.round(maxval*.34, 1), np.round(maxval*.45, 1), \n",
    "                         np.round(maxval*.56, 1), np.round(maxval*.67, 1),\n",
    "                        np.round(maxval*.78, 1), np.round(maxval*.89, 1), np.round(maxval)])\n",
    "#plt.savefig(os.path.join(savepath, 'ARA with plaque map.png'), facecolor=fig.get_facecolor(),\n",
    "#            bbox_inches='tight', pad_inches=0.3, format='png', dpi=1000)"
   ]
  },
  {
   "cell_type": "code",
   "execution_count": null,
   "metadata": {},
   "outputs": [],
   "source": [
    "meandat = dat.groupby('structure_acronym').mean().reset_index().sort_values(by = 'plaque_density', ascending = False)"
   ]
  },
  {
   "cell_type": "code",
   "execution_count": null,
   "metadata": {},
   "outputs": [],
   "source": [
    "cdat = pd.read_csv(r'/Users/jenniferwh/Dropbox (Allen Institute)/Mesoscale Connectome Papers in Progress/2018 Plaque/_JCN final submission 09282018/Appendix_1_SuppInfo.csv')"
   ]
  },
  {
   "cell_type": "code",
   "execution_count": null,
   "metadata": {},
   "outputs": [],
   "source": [
    "meandat.sort_values(by='structure_id', inplace = True)\n",
    "meandat['Percent Coverage'] = [density*100 for density in meandat['plaque_density']]"
   ]
  },
  {
   "cell_type": "code",
   "execution_count": null,
   "metadata": {},
   "outputs": [],
   "source": [
    "cdat.head()"
   ]
  },
  {
   "cell_type": "code",
   "execution_count": null,
   "metadata": {},
   "outputs": [],
   "source": [
    "cdat.sort_values(by='structure_id', inplace = True)\n",
    "cdat['Percent Coverage'] = [density*100 for density in cdat['plaque_density']]"
   ]
  },
  {
   "cell_type": "code",
   "execution_count": null,
   "metadata": {},
   "outputs": [],
   "source": [
    "diff = meandat['Percent Coverage'] - cdat['Percent Coverage']"
   ]
  },
  {
   "cell_type": "code",
   "execution_count": null,
   "metadata": {},
   "outputs": [],
   "source": [
    "max(diff)"
   ]
  },
  {
   "cell_type": "code",
   "execution_count": null,
   "metadata": {},
   "outputs": [],
   "source": [
    "min(diff)"
   ]
  },
  {
   "cell_type": "code",
   "execution_count": null,
   "metadata": {},
   "outputs": [],
   "source": [
    "np.mean(diff)"
   ]
  },
  {
   "cell_type": "code",
   "execution_count": null,
   "metadata": {},
   "outputs": [],
   "source": [
    "diff[diff < 0].sort_values()"
   ]
  },
  {
   "cell_type": "code",
   "execution_count": null,
   "metadata": {},
   "outputs": [],
   "source": [
    "fig, ax = plt.subplots(figsize = (2, 2.2))\n",
    "g = sns.distplot(diff, kde=0)\n",
    "g.set_ylabel('Number of Structures')\n",
    "g.set_xlabel('Diff in % Coverage')\n",
    "g.set_title('Signal - False Positive')\n",
    "plt.tight_layout()\n",
    "#plt.savefig(r'/Users/jenniferwh/Dropbox (Allen Institute)/Mesoscale Connectome Papers in Progress/2018 Plaque/figures/control brains/false_positive_levels.png')"
   ]
  },
  {
   "cell_type": "code",
   "execution_count": null,
   "metadata": {},
   "outputs": [],
   "source": [
    "diff2 = (meandat['Percent Coverage'] - cdat['Percent Coverage'])/meandat['Percent Coverage']"
   ]
  },
  {
   "cell_type": "code",
   "execution_count": null,
   "metadata": {},
   "outputs": [],
   "source": [
    "pltdat = diff2[diff2 != np.inf]\n",
    "pltdat = pltdat[pltdat != -np.inf]\n",
    "pltdat = pltdat[~pd.isnull(pltdat)]"
   ]
  },
  {
   "cell_type": "code",
   "execution_count": null,
   "metadata": {},
   "outputs": [],
   "source": [
    "len(pltdat)"
   ]
  },
  {
   "cell_type": "code",
   "execution_count": null,
   "metadata": {},
   "outputs": [],
   "source": [
    "len(meandat)"
   ]
  },
  {
   "cell_type": "code",
   "execution_count": null,
   "metadata": {},
   "outputs": [],
   "source": [
    "fig, ax = plt.subplots(figsize = (2, 2.2))\n",
    "g = sns.distplot(pltdat, kde=0)\n",
    "g.set_ylabel('Number of Structures')\n",
    "g.set_xlabel('Relative Error')\n",
    "g.set_title('False Positive')\n",
    "plt.tight_layout()"
   ]
  },
  {
   "cell_type": "code",
   "execution_count": null,
   "metadata": {},
   "outputs": [],
   "source": [
    "min(pltdat)"
   ]
  },
  {
   "cell_type": "code",
   "execution_count": null,
   "metadata": {},
   "outputs": [],
   "source": [
    "len(diff)"
   ]
  },
  {
   "cell_type": "code",
   "execution_count": null,
   "metadata": {},
   "outputs": [],
   "source": [
    "dat.head()"
   ]
  },
  {
   "cell_type": "code",
   "execution_count": null,
   "metadata": {},
   "outputs": [],
   "source": [
    "iso_children = st.child_ids(iso)\n",
    "iso_children = [item for sublist in iso_children for item in sublist]"
   ]
  },
  {
   "cell_type": "code",
   "execution_count": null,
   "metadata": {},
   "outputs": [],
   "source": [
    "len(iso_children)"
   ]
  },
  {
   "cell_type": "code",
   "execution_count": null,
   "metadata": {},
   "outputs": [],
   "source": [
    "hipp['id']"
   ]
  },
  {
   "cell_type": "code",
   "execution_count": null,
   "metadata": {},
   "outputs": [],
   "source": [
    "hipp_children = st.descendant_ids([hipp['id']])\n",
    "hipp_children = [item for sublist in hipp_children for item in sublist]"
   ]
  },
  {
   "cell_type": "code",
   "execution_count": null,
   "metadata": {},
   "outputs": [],
   "source": [
    "dat.head()"
   ]
  },
  {
   "cell_type": "code",
   "execution_count": null,
   "metadata": {
    "scrolled": true
   },
   "outputs": [],
   "source": [
    "pltdat = pd.DataFrame(columns={'age', 'group', 'plaques', 'structure'})\n",
    "for structure_acronym in dat['structure_acronym'].unique():\n",
    "    pltdat = pd.concat([pltdat, get_structure_data('19 mo', structure_acronym, 'density')], sort = True)\n",
    "pltdat['Percent Plaque Coverage'] = [density*100 for density in pltdat['plaques']]"
   ]
  },
  {
   "cell_type": "code",
   "execution_count": null,
   "metadata": {},
   "outputs": [],
   "source": [
    "maxstr = pltdat.groupby('image_series_id').max()"
   ]
  },
  {
   "cell_type": "code",
   "execution_count": null,
   "metadata": {},
   "outputs": [],
   "source": [
    "medplaque = pltdat[pltdat['group'] == 'APP/PS1']['Percent Plaque Coverage'].quantile(0.95)"
   ]
  },
  {
   "cell_type": "code",
   "execution_count": null,
   "metadata": {},
   "outputs": [],
   "source": [
    "medplaque"
   ]
  },
  {
   "cell_type": "code",
   "execution_count": null,
   "metadata": {
    "scrolled": true
   },
   "outputs": [],
   "source": [
    "max_strs = []\n",
    "for isid in pltdat[pltdat['group'] == 'APP/PS1']['image_series_id'].unique():\n",
    "    isid_dat = pltdat[pltdat['image_series_id'] == isid]\n",
    "    max_strs.append(isid_dat[isid_dat['Percent Plaque Coverage'] > medplaque]['structure'].values)"
   ]
  },
  {
   "cell_type": "code",
   "execution_count": null,
   "metadata": {},
   "outputs": [],
   "source": [
    "max_strs = [item for sublist in max_strs for item in sublist]"
   ]
  },
  {
   "cell_type": "code",
   "execution_count": null,
   "metadata": {},
   "outputs": [],
   "source": [
    "pltdat[(pltdat['group'] == 'APP/PS1') & \n",
    "              (pltdat['structure'] == 'cc')]['Percent Plaque Coverage'].mean()"
   ]
  },
  {
   "cell_type": "code",
   "execution_count": null,
   "metadata": {},
   "outputs": [],
   "source": [
    "pltdat[(pltdat['group'] == 'APP/PS1')].describe()"
   ]
  },
  {
   "cell_type": "code",
   "execution_count": null,
   "metadata": {},
   "outputs": [],
   "source": [
    "pltdat = pd.DataFrame(columns={'age', 'group', 'plaques', 'structure'})\n",
    "for structure_acronym in ['Isocortex']:\n",
    "    pltdat = pd.concat([pltdat, get_structure_data('9 mo', structure_acronym, 'density')], sort = True)\n",
    "pltdat['Percent Plaque Coverage'] = [density*100 for density in pltdat['plaques']]"
   ]
  },
  {
   "cell_type": "code",
   "execution_count": null,
   "metadata": {},
   "outputs": [],
   "source": [
    "pltdat[(pltdat['group'] == 'Tg2576')].describe()"
   ]
  },
  {
   "cell_type": "code",
   "execution_count": null,
   "metadata": {},
   "outputs": [],
   "source": [
    "pltdat = pd.DataFrame(columns={'age', 'group', 'plaques', 'structure'})\n",
    "for structure in [hipp['id']]:\n",
    "    print(structure)\n",
    "    structure_acronym = ai_map[structure]\n",
    "    pltdat = pd.concat([pltdat, get_structure_data('19 mo', structure_acronym, 'density')], sort = True)\n",
    "pltdat['Percent Plaque Coverage'] = [density*100 for density in pltdat['plaques']]"
   ]
  },
  {
   "cell_type": "code",
   "execution_count": null,
   "metadata": {},
   "outputs": [],
   "source": [
    "dat.head()"
   ]
  },
  {
   "cell_type": "markdown",
   "metadata": {},
   "source": [
    "## Layers"
   ]
  },
  {
   "cell_type": "code",
   "execution_count": null,
   "metadata": {},
   "outputs": [],
   "source": [
    "dat.head()"
   ]
  },
  {
   "cell_type": "code",
   "execution_count": null,
   "metadata": {},
   "outputs": [],
   "source": []
  }
 ],
 "metadata": {
  "kernelspec": {
   "display_name": "Python 3",
   "language": "python",
   "name": "python3"
  },
  "language_info": {
   "codemirror_mode": {
    "name": "ipython",
    "version": 3
   },
   "file_extension": ".py",
   "mimetype": "text/x-python",
   "name": "python",
   "nbconvert_exporter": "python",
   "pygments_lexer": "ipython3",
   "version": "3.7.1"
  }
 },
 "nbformat": 4,
 "nbformat_minor": 2
}
