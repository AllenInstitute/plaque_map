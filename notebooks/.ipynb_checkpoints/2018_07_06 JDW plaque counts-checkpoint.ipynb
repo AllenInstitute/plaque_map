{
 "cells": [
  {
   "cell_type": "code",
   "execution_count": 1,
   "metadata": {
    "collapsed": true
   },
   "outputs": [],
   "source": [
    "import os\n",
    "import numpy as np\n",
    "import pandas as pd\n",
    "import matplotlib.pyplot as plt\n",
    "import seaborn as sns\n",
    "from allensdk.api.queries.ontologies_api import OntologiesApi\n",
    "from allensdk.core.mouse_connectivity_cache import MouseConnectivityCache\n",
    "from matplotlib import cm\n",
    "import operator\n",
    "\n",
    "import statsmodels.api as sm\n",
    "\n",
    "sns.set_context('poster')\n",
    "sns.set_style('white')\n",
    "%matplotlib inline\n",
    "\n",
    "import matplotlib as mpl\n",
    "mpl.rcParams['pdf.fonttype'] = 42"
   ]
  },
  {
   "cell_type": "code",
   "execution_count": 2,
   "metadata": {
    "collapsed": true
   },
   "outputs": [],
   "source": [
    "path = r'/Users/jenniferwh/Dropbox (Allen Institute)/Mesoscale Connectome Papers in Progress/2018 Plaque'"
   ]
  },
  {
   "cell_type": "code",
   "execution_count": 3,
   "metadata": {
    "collapsed": true
   },
   "outputs": [],
   "source": [
    "dat = pd.read_csv(os.path.join(path, 'unionizes', 'experiment_structure_unionizes_consolidated_06_10_2018.csv'))"
   ]
  },
  {
   "cell_type": "code",
   "execution_count": 4,
   "metadata": {},
   "outputs": [
    {
     "data": {
      "text/html": [
       "<div>\n",
       "<table border=\"1\" class=\"dataframe\">\n",
       "  <thead>\n",
       "    <tr style=\"text-align: right;\">\n",
       "      <th></th>\n",
       "      <th>image_series_id</th>\n",
       "      <th>structure_id</th>\n",
       "      <th>structure_volume</th>\n",
       "      <th>plaque_density</th>\n",
       "    </tr>\n",
       "  </thead>\n",
       "  <tbody>\n",
       "    <tr>\n",
       "      <th>0</th>\n",
       "      <td>475882459</td>\n",
       "      <td>1</td>\n",
       "      <td>0.059386</td>\n",
       "      <td>0.0</td>\n",
       "    </tr>\n",
       "    <tr>\n",
       "      <th>1</th>\n",
       "      <td>475882459</td>\n",
       "      <td>2</td>\n",
       "      <td>0.062983</td>\n",
       "      <td>0.0</td>\n",
       "    </tr>\n",
       "    <tr>\n",
       "      <th>2</th>\n",
       "      <td>475882459</td>\n",
       "      <td>4</td>\n",
       "      <td>2.450408</td>\n",
       "      <td>0.0</td>\n",
       "    </tr>\n",
       "    <tr>\n",
       "      <th>3</th>\n",
       "      <td>475882459</td>\n",
       "      <td>6</td>\n",
       "      <td>1.156127</td>\n",
       "      <td>0.0</td>\n",
       "    </tr>\n",
       "    <tr>\n",
       "      <th>4</th>\n",
       "      <td>475882459</td>\n",
       "      <td>7</td>\n",
       "      <td>0.609720</td>\n",
       "      <td>0.0</td>\n",
       "    </tr>\n",
       "  </tbody>\n",
       "</table>\n",
       "</div>"
      ],
      "text/plain": [
       "   image_series_id  structure_id  structure_volume  plaque_density\n",
       "0        475882459             1          0.059386             0.0\n",
       "1        475882459             2          0.062983             0.0\n",
       "2        475882459             4          2.450408             0.0\n",
       "3        475882459             6          1.156127             0.0\n",
       "4        475882459             7          0.609720             0.0"
      ]
     },
     "execution_count": 4,
     "metadata": {},
     "output_type": "execute_result"
    }
   ],
   "source": [
    "dat.head()"
   ]
  },
  {
   "cell_type": "code",
   "execution_count": 5,
   "metadata": {
    "collapsed": true
   },
   "outputs": [],
   "source": [
    "count = pd.read_csv(r'C:\\Users\\jenniferwh\\Dropbox (Allen Institute)\\Mesoscale Connectome Papers in Progress\\2018 Plaque\\plaque counts\\plaque_counts.csv')"
   ]
  },
  {
   "cell_type": "code",
   "execution_count": 6,
   "metadata": {},
   "outputs": [
    {
     "name": "stderr",
     "output_type": "stream",
     "text": [
      "C:\\Users\\jenniferwh\\AppData\\Local\\Continuum\\anaconda2\\lib\\site-packages\\IPython\\core\\interactiveshell.py:2718: DtypeWarning: Columns (1,2,4,5,6,7,8,12,13,14,15,16,17,18,19,20) have mixed types. Specify dtype option on import or set low_memory=False.\n",
      "  interactivity=interactivity, compiler=compiler, result=result)\n"
     ]
    }
   ],
   "source": [
    "meta = pd.read_csv(os.path.join(path, 'plaque_dataset_07_06_2018.csv'))"
   ]
  },
  {
   "cell_type": "code",
   "execution_count": 7,
   "metadata": {},
   "outputs": [
    {
     "data": {
      "text/html": [
       "<div>\n",
       "<table border=\"1\" class=\"dataframe\">\n",
       "  <thead>\n",
       "    <tr style=\"text-align: right;\">\n",
       "      <th></th>\n",
       "      <th>Unnamed: 0</th>\n",
       "      <th>Path to Grid Data</th>\n",
       "      <th>Path to New Grid Data</th>\n",
       "      <th>Link to image series</th>\n",
       "      <th>Experiment</th>\n",
       "      <th>age group</th>\n",
       "      <th>Specimen ID</th>\n",
       "      <th>Plaque map call (R hemisphere)</th>\n",
       "      <th>Reason</th>\n",
       "      <th>Alex call</th>\n",
       "      <th>...</th>\n",
       "      <th>Blood Background</th>\n",
       "      <th>Cerebellum segmentation call</th>\n",
       "      <th>Unnamed: 12</th>\n",
       "      <th>Comments</th>\n",
       "      <th>Masked(Start , End)?</th>\n",
       "      <th>Double check</th>\n",
       "      <th>LIMS Status</th>\n",
       "      <th>Segmentation path</th>\n",
       "      <th>Unionized?</th>\n",
       "      <th>Used for</th>\n",
       "    </tr>\n",
       "  </thead>\n",
       "  <tbody>\n",
       "    <tr>\n",
       "      <th>0</th>\n",
       "      <td>0</td>\n",
       "      <td>\\\\allen\\aibs\\mat\\NileG\\informatics\\data\\june_2...</td>\n",
       "      <td>\\\\allen\\programs\\celltypes\\production\\0378\\pro...</td>\n",
       "      <td>475831312.0</td>\n",
       "      <td>APP/PS1 age pilot</td>\n",
       "      <td>4 mo</td>\n",
       "      <td>APP/PS1-189574</td>\n",
       "      <td>Pass</td>\n",
       "      <td>shadowing, injection too small. Plaque map noi...</td>\n",
       "      <td>6.0</td>\n",
       "      <td>...</td>\n",
       "      <td>NaN</td>\n",
       "      <td>NaN</td>\n",
       "      <td>NaN</td>\n",
       "      <td>NaN</td>\n",
       "      <td>NaN</td>\n",
       "      <td>NaN</td>\n",
       "      <td>passed</td>\n",
       "      <td>\\\\allen\\programs\\celltypes\\production\\0378\\pro...</td>\n",
       "      <td>index(</td>\n",
       "      <td>NaN</td>\n",
       "    </tr>\n",
       "  </tbody>\n",
       "</table>\n",
       "<p>1 rows × 21 columns</p>\n",
       "</div>"
      ],
      "text/plain": [
       "   Unnamed: 0                                  Path to Grid Data  \\\n",
       "0           0  \\\\allen\\aibs\\mat\\NileG\\informatics\\data\\june_2...   \n",
       "\n",
       "                               Path to New Grid Data  Link to image series  \\\n",
       "0  \\\\allen\\programs\\celltypes\\production\\0378\\pro...           475831312.0   \n",
       "\n",
       "          Experiment age group     Specimen ID Plaque map call (R hemisphere)  \\\n",
       "0  APP/PS1 age pilot      4 mo  APP/PS1-189574                           Pass   \n",
       "\n",
       "                                              Reason  Alex call   ...     \\\n",
       "0  shadowing, injection too small. Plaque map noi...        6.0   ...      \n",
       "\n",
       "   Blood Background  Cerebellum segmentation call Unnamed: 12 Comments  \\\n",
       "0               NaN                           NaN         NaN      NaN   \n",
       "\n",
       "  Masked(Start , End)? Double check LIMS Status  \\\n",
       "0                  NaN          NaN      passed   \n",
       "\n",
       "                                   Segmentation path Unionized? Used for  \n",
       "0  \\\\allen\\programs\\celltypes\\production\\0378\\pro...     index(      NaN  \n",
       "\n",
       "[1 rows x 21 columns]"
      ]
     },
     "execution_count": 7,
     "metadata": {},
     "output_type": "execute_result"
    }
   ],
   "source": [
    "meta.head(1)"
   ]
  },
  {
   "cell_type": "code",
   "execution_count": 8,
   "metadata": {},
   "outputs": [
    {
     "data": {
      "text/plain": [
       "Index([u'Unnamed: 0', u'Path to Grid Data', u'Path to New Grid Data',\n",
       "       u'Link to image series', u'Experiment', u'age group', u'Specimen ID',\n",
       "       u'Plaque map call (R hemisphere)', u'Reason', u'Alex call',\n",
       "       u'Alice Call', u'Blood Background', u'Cerebellum segmentation call',\n",
       "       u'Unnamed: 12', u'Comments', u'Masked(Start , End)?', u'Double check',\n",
       "       u'LIMS Status', u'Segmentation path', u'Unionized?', u'Used for'],\n",
       "      dtype='object')"
      ]
     },
     "execution_count": 8,
     "metadata": {},
     "output_type": "execute_result"
    }
   ],
   "source": [
    "meta.keys()"
   ]
  },
  {
   "cell_type": "code",
   "execution_count": 9,
   "metadata": {},
   "outputs": [
    {
     "data": {
      "text/plain": [
       "array(['Pass', 'Fail', nan], dtype=object)"
      ]
     },
     "execution_count": 9,
     "metadata": {},
     "output_type": "execute_result"
    }
   ],
   "source": [
    "meta['Plaque map call (R hemisphere)'].unique()"
   ]
  },
  {
   "cell_type": "code",
   "execution_count": 10,
   "metadata": {
    "collapsed": true
   },
   "outputs": [],
   "source": [
    "dataset = meta[meta['Plaque map call (R hemisphere)'] == 'Pass']"
   ]
  },
  {
   "cell_type": "code",
   "execution_count": 11,
   "metadata": {},
   "outputs": [
    {
     "data": {
      "text/plain": [
       "197"
      ]
     },
     "execution_count": 11,
     "metadata": {},
     "output_type": "execute_result"
    }
   ],
   "source": [
    "len(dataset)"
   ]
  },
  {
   "cell_type": "code",
   "execution_count": 12,
   "metadata": {},
   "outputs": [
    {
     "name": "stdout",
     "output_type": "stream",
     "text": [
      "292\n"
     ]
    }
   ],
   "source": [
    "oapi = OntologiesApi()\n",
    "summary_structures = oapi.get_structures(structure_set_names=\"'Mouse Connectivity - Summary'\")\n",
    "summary_structure_ids = [item['id'] for item in summary_structures]\n",
    "summary_structure_ids.remove(934)\n",
    "print(len(summary_structure_ids))"
   ]
  },
  {
   "cell_type": "code",
   "execution_count": 13,
   "metadata": {},
   "outputs": [
    {
     "name": "stdout",
     "output_type": "stream",
     "text": [
      "12\n"
     ]
    }
   ],
   "source": [
    "coarse_structures = oapi.get_structures(structure_set_names=\"'Mouse - Coarse'\")\n",
    "coarse_structure_ids = [item['id'] for item in coarse_structures]\n",
    "print(len(coarse_structure_ids))"
   ]
  },
  {
   "cell_type": "code",
   "execution_count": 14,
   "metadata": {
    "collapsed": true
   },
   "outputs": [],
   "source": [
    "mcc = MouseConnectivityCache(manifest_file = '../connectivity/mouse_connectivity_manifest.json')\n",
    "structure_tree = mcc.get_structure_tree()\n",
    "ia_map = structure_tree.get_id_acronym_map()\n",
    "ai_map = {value:key for key, value in ia_map.iteritems()}"
   ]
  },
  {
   "cell_type": "code",
   "execution_count": 15,
   "metadata": {},
   "outputs": [
    {
     "data": {
      "text/plain": [
       "u'root'"
      ]
     },
     "execution_count": 15,
     "metadata": {},
     "output_type": "execute_result"
    }
   ],
   "source": [
    "ai_map[997]"
   ]
  },
  {
   "cell_type": "code",
   "execution_count": 16,
   "metadata": {
    "collapsed": true
   },
   "outputs": [],
   "source": [
    "structures = summary_structure_ids + coarse_structure_ids + [997]"
   ]
  },
  {
   "cell_type": "code",
   "execution_count": 17,
   "metadata": {},
   "outputs": [
    {
     "name": "stdout",
     "output_type": "stream",
     "text": [
      "132\n"
     ]
    }
   ],
   "source": [
    "dataset_ids = dat['image_series_id'].unique()\n",
    "print(len(dataset_ids))"
   ]
  },
  {
   "cell_type": "code",
   "execution_count": 18,
   "metadata": {
    "collapsed": true
   },
   "outputs": [],
   "source": [
    "isids = [int(value) for value in dataset['Link to image series']]"
   ]
  },
  {
   "cell_type": "code",
   "execution_count": 19,
   "metadata": {},
   "outputs": [
    {
     "name": "stderr",
     "output_type": "stream",
     "text": [
      "C:\\Users\\jenniferwh\\AppData\\Local\\Continuum\\anaconda2\\lib\\site-packages\\ipykernel_launcher.py:1: SettingWithCopyWarning: \n",
      "A value is trying to be set on a copy of a slice from a DataFrame.\n",
      "Try using .loc[row_indexer,col_indexer] = value instead\n",
      "\n",
      "See the caveats in the documentation: http://pandas.pydata.org/pandas-docs/stable/indexing.html#indexing-view-versus-copy\n",
      "  \"\"\"Entry point for launching an IPython kernel.\n"
     ]
    }
   ],
   "source": [
    "dataset['image_series_id'] = isids"
   ]
  },
  {
   "cell_type": "code",
   "execution_count": 20,
   "metadata": {},
   "outputs": [
    {
     "name": "stdout",
     "output_type": "stream",
     "text": [
      "127\n"
     ]
    }
   ],
   "source": [
    "dataset = dataset[dataset['image_series_id'].isin(dataset_ids)]\n",
    "print(len(dataset))"
   ]
  },
  {
   "cell_type": "code",
   "execution_count": 21,
   "metadata": {},
   "outputs": [
    {
     "data": {
      "text/plain": [
       "Index([u'Unnamed: 0', u'Path to Grid Data', u'Path to New Grid Data',\n",
       "       u'Link to image series', u'Experiment', u'age group', u'Specimen ID',\n",
       "       u'Plaque map call (R hemisphere)', u'Reason', u'Alex call',\n",
       "       u'Alice Call', u'Blood Background', u'Cerebellum segmentation call',\n",
       "       u'Unnamed: 12', u'Comments', u'Masked(Start , End)?', u'Double check',\n",
       "       u'LIMS Status', u'Segmentation path', u'Unionized?', u'Used for',\n",
       "       u'image_series_id'],\n",
       "      dtype='object')"
      ]
     },
     "execution_count": 21,
     "metadata": {},
     "output_type": "execute_result"
    }
   ],
   "source": [
    "dataset.keys()"
   ]
  },
  {
   "cell_type": "code",
   "execution_count": 22,
   "metadata": {},
   "outputs": [
    {
     "data": {
      "text/plain": [
       "array(['APP/PS1 age pilot', 'J20 age pilot', 'APP/PS1 production',\n",
       "       'Aim 3 low wavelength imaging pilot', 'Filter Pilot', nan,\n",
       "       'Filter PIlot', 'APP/PS1 cre crosses', 'APP/PS1/rTg4510 pilot',\n",
       "       'Tg2576 age pilot'], dtype=object)"
      ]
     },
     "execution_count": 22,
     "metadata": {},
     "output_type": "execute_result"
    }
   ],
   "source": [
    "dataset.Experiment.unique()"
   ]
  },
  {
   "cell_type": "code",
   "execution_count": 23,
   "metadata": {},
   "outputs": [],
   "source": [
    "dataset.loc[dataset['Specimen ID'].str.contains('APP/PS1'), 'Mouse Line'] = 'APP/PS1'\n",
    "dataset.loc[dataset['Specimen ID'].str.contains('APP_PS1'), 'Mouse Line'] = 'APP/PS1'\n",
    "dataset.loc[dataset['Specimen ID'].str.contains('J20'), 'Mouse Line'] = 'J20'\n",
    "dataset.loc[dataset['Specimen ID'].str.contains('Tg2576'), 'Mouse Line'] = 'Tg2576'\n",
    "dataset.loc[dataset['Specimen ID'].str.contains('rTg4510'), 'Mouse Line'] = 'APP/PS1/rTg4510'\n",
    "dataset.loc[dataset['Specimen ID'].str.contains('Cre'), 'Mouse Line'] = 'APP/PS1/Cre'"
   ]
  },
  {
   "cell_type": "code",
   "execution_count": 24,
   "metadata": {},
   "outputs": [
    {
     "data": {
      "text/plain": [
       "Series([], Name: Specimen ID, dtype: object)"
      ]
     },
     "execution_count": 24,
     "metadata": {},
     "output_type": "execute_result"
    }
   ],
   "source": [
    "dataset[dataset['Mouse Line'].isnull()]['Specimen ID']"
   ]
  },
  {
   "cell_type": "code",
   "execution_count": 25,
   "metadata": {},
   "outputs": [
    {
     "data": {
      "text/plain": [
       "array(['APP/PS1', 'J20', 'APP/PS1/Cre', 'APP/PS1/rTg4510', 'Tg2576'], dtype=object)"
      ]
     },
     "execution_count": 25,
     "metadata": {},
     "output_type": "execute_result"
    }
   ],
   "source": [
    "dataset['Mouse Line'].unique()"
   ]
  },
  {
   "cell_type": "code",
   "execution_count": 26,
   "metadata": {},
   "outputs": [
    {
     "data": {
      "text/plain": [
       "Mouse Line       age group\n",
       "APP/PS1          12 mo        30\n",
       "                 15 mo         6\n",
       "                 18 mo         6\n",
       "                 4 mo          9\n",
       "                 6 mo         15\n",
       "                 9 mo          4\n",
       "APP/PS1/Cre      12 mo         5\n",
       "                 18 mo         1\n",
       "APP/PS1/rTg4510  12 mo         6\n",
       "                 6 mo          2\n",
       "J20              12 mo         8\n",
       "                 15 mo         1\n",
       "                 4 mo          6\n",
       "                 6 mo          6\n",
       "                 9 mo          9\n",
       "Tg2576           12 mo         6\n",
       "                 18 mo         4\n",
       "                 9 mo          3\n",
       "Name: Unnamed: 0, dtype: int64"
      ]
     },
     "execution_count": 26,
     "metadata": {},
     "output_type": "execute_result"
    }
   ],
   "source": [
    "dataset.groupby(['Mouse Line', 'age group']).count()['Unnamed: 0']"
   ]
  },
  {
   "cell_type": "code",
   "execution_count": 27,
   "metadata": {},
   "outputs": [],
   "source": [
    "dataset = dataset[dataset['Mouse Line'] != 'APP/PS1/Cre']"
   ]
  },
  {
   "cell_type": "code",
   "execution_count": 28,
   "metadata": {},
   "outputs": [
    {
     "data": {
      "text/plain": [
       "Mouse Line       age group\n",
       "APP/PS1          12 mo        30\n",
       "                 15 mo         6\n",
       "                 18 mo         6\n",
       "                 4 mo          9\n",
       "                 6 mo         15\n",
       "                 9 mo          4\n",
       "APP/PS1/rTg4510  12 mo         6\n",
       "                 6 mo          2\n",
       "J20              12 mo         8\n",
       "                 15 mo         1\n",
       "                 4 mo          6\n",
       "                 6 mo          6\n",
       "                 9 mo          9\n",
       "Tg2576           12 mo         6\n",
       "                 18 mo         4\n",
       "                 9 mo          3\n",
       "Name: Unnamed: 0, dtype: int64"
      ]
     },
     "execution_count": 28,
     "metadata": {},
     "output_type": "execute_result"
    }
   ],
   "source": [
    "dataset.groupby(['Mouse Line', 'age group']).count()['Unnamed: 0']"
   ]
  },
  {
   "cell_type": "code",
   "execution_count": 29,
   "metadata": {},
   "outputs": [
    {
     "data": {
      "text/html": [
       "<div>\n",
       "<table border=\"1\" class=\"dataframe\">\n",
       "  <thead>\n",
       "    <tr style=\"text-align: right;\">\n",
       "      <th></th>\n",
       "      <th>image_series_id</th>\n",
       "      <th>structure_id</th>\n",
       "      <th>structure_volume</th>\n",
       "      <th>plaque_density</th>\n",
       "    </tr>\n",
       "  </thead>\n",
       "  <tbody>\n",
       "    <tr>\n",
       "      <th>0</th>\n",
       "      <td>475882459</td>\n",
       "      <td>1</td>\n",
       "      <td>0.059386</td>\n",
       "      <td>0.0</td>\n",
       "    </tr>\n",
       "    <tr>\n",
       "      <th>1</th>\n",
       "      <td>475882459</td>\n",
       "      <td>2</td>\n",
       "      <td>0.062983</td>\n",
       "      <td>0.0</td>\n",
       "    </tr>\n",
       "    <tr>\n",
       "      <th>2</th>\n",
       "      <td>475882459</td>\n",
       "      <td>4</td>\n",
       "      <td>2.450408</td>\n",
       "      <td>0.0</td>\n",
       "    </tr>\n",
       "    <tr>\n",
       "      <th>3</th>\n",
       "      <td>475882459</td>\n",
       "      <td>6</td>\n",
       "      <td>1.156127</td>\n",
       "      <td>0.0</td>\n",
       "    </tr>\n",
       "    <tr>\n",
       "      <th>4</th>\n",
       "      <td>475882459</td>\n",
       "      <td>7</td>\n",
       "      <td>0.609720</td>\n",
       "      <td>0.0</td>\n",
       "    </tr>\n",
       "  </tbody>\n",
       "</table>\n",
       "</div>"
      ],
      "text/plain": [
       "   image_series_id  structure_id  structure_volume  plaque_density\n",
       "0        475882459             1          0.059386             0.0\n",
       "1        475882459             2          0.062983             0.0\n",
       "2        475882459             4          2.450408             0.0\n",
       "3        475882459             6          1.156127             0.0\n",
       "4        475882459             7          0.609720             0.0"
      ]
     },
     "execution_count": 29,
     "metadata": {},
     "output_type": "execute_result"
    }
   ],
   "source": [
    "dat.head()"
   ]
  },
  {
   "cell_type": "code",
   "execution_count": 30,
   "metadata": {},
   "outputs": [
    {
     "data": {
      "text/html": [
       "<div>\n",
       "<table border=\"1\" class=\"dataframe\">\n",
       "  <thead>\n",
       "    <tr style=\"text-align: right;\">\n",
       "      <th></th>\n",
       "      <th>Unnamed: 0</th>\n",
       "      <th>image_series_id</th>\n",
       "      <th>structure_id</th>\n",
       "      <th>sum_plaques</th>\n",
       "    </tr>\n",
       "  </thead>\n",
       "  <tbody>\n",
       "    <tr>\n",
       "      <th>0</th>\n",
       "      <td>0</td>\n",
       "      <td>475831312</td>\n",
       "      <td>1</td>\n",
       "      <td>1</td>\n",
       "    </tr>\n",
       "    <tr>\n",
       "      <th>1</th>\n",
       "      <td>2</td>\n",
       "      <td>475831312</td>\n",
       "      <td>4</td>\n",
       "      <td>69</td>\n",
       "    </tr>\n",
       "    <tr>\n",
       "      <th>2</th>\n",
       "      <td>3</td>\n",
       "      <td>475831312</td>\n",
       "      <td>6</td>\n",
       "      <td>3</td>\n",
       "    </tr>\n",
       "    <tr>\n",
       "      <th>3</th>\n",
       "      <td>4</td>\n",
       "      <td>475831312</td>\n",
       "      <td>7</td>\n",
       "      <td>11</td>\n",
       "    </tr>\n",
       "    <tr>\n",
       "      <th>4</th>\n",
       "      <td>6</td>\n",
       "      <td>475831312</td>\n",
       "      <td>8</td>\n",
       "      <td>20711</td>\n",
       "    </tr>\n",
       "  </tbody>\n",
       "</table>\n",
       "</div>"
      ],
      "text/plain": [
       "   Unnamed: 0  image_series_id  structure_id  sum_plaques\n",
       "0           0        475831312             1            1\n",
       "1           2        475831312             4           69\n",
       "2           3        475831312             6            3\n",
       "3           4        475831312             7           11\n",
       "4           6        475831312             8        20711"
      ]
     },
     "execution_count": 30,
     "metadata": {},
     "output_type": "execute_result"
    }
   ],
   "source": [
    "count.head()"
   ]
  },
  {
   "cell_type": "code",
   "execution_count": 31,
   "metadata": {
    "collapsed": true
   },
   "outputs": [],
   "source": [
    "dat = dat[['image_series_id', 'structure_id', 'plaque_density']].merge(\n",
    "    count[['image_series_id', 'structure_id', 'sum_plaques']], on=['image_series_id', 'structure_id'])"
   ]
  },
  {
   "cell_type": "code",
   "execution_count": 32,
   "metadata": {},
   "outputs": [
    {
     "data": {
      "text/html": [
       "<div>\n",
       "<table border=\"1\" class=\"dataframe\">\n",
       "  <thead>\n",
       "    <tr style=\"text-align: right;\">\n",
       "      <th></th>\n",
       "      <th>image_series_id</th>\n",
       "      <th>structure_id</th>\n",
       "      <th>plaque_density</th>\n",
       "      <th>sum_plaques</th>\n",
       "    </tr>\n",
       "  </thead>\n",
       "  <tbody>\n",
       "    <tr>\n",
       "      <th>0</th>\n",
       "      <td>475882459</td>\n",
       "      <td>4</td>\n",
       "      <td>0.000000</td>\n",
       "      <td>24</td>\n",
       "    </tr>\n",
       "    <tr>\n",
       "      <th>1</th>\n",
       "      <td>475882459</td>\n",
       "      <td>6</td>\n",
       "      <td>0.000000</td>\n",
       "      <td>2</td>\n",
       "    </tr>\n",
       "    <tr>\n",
       "      <th>2</th>\n",
       "      <td>475882459</td>\n",
       "      <td>7</td>\n",
       "      <td>0.000000</td>\n",
       "      <td>1</td>\n",
       "    </tr>\n",
       "    <tr>\n",
       "      <th>3</th>\n",
       "      <td>475882459</td>\n",
       "      <td>8</td>\n",
       "      <td>0.000175</td>\n",
       "      <td>7985</td>\n",
       "    </tr>\n",
       "    <tr>\n",
       "      <th>4</th>\n",
       "      <td>475882459</td>\n",
       "      <td>9</td>\n",
       "      <td>0.000713</td>\n",
       "      <td>8</td>\n",
       "    </tr>\n",
       "  </tbody>\n",
       "</table>\n",
       "</div>"
      ],
      "text/plain": [
       "   image_series_id  structure_id  plaque_density  sum_plaques\n",
       "0        475882459             4        0.000000           24\n",
       "1        475882459             6        0.000000            2\n",
       "2        475882459             7        0.000000            1\n",
       "3        475882459             8        0.000175         7985\n",
       "4        475882459             9        0.000713            8"
      ]
     },
     "execution_count": 32,
     "metadata": {},
     "output_type": "execute_result"
    }
   ],
   "source": [
    "dat.head()"
   ]
  },
  {
   "cell_type": "code",
   "execution_count": 33,
   "metadata": {},
   "outputs": [
    {
     "data": {
      "text/plain": [
       "array([        4,         6,         7,         8,         9,        10,\n",
       "              17,        19,        20,        21,        22,        26,\n",
       "              27,        28,        31,        33,        39,        41,\n",
       "              42,        44,        48,        50,        51,        52,\n",
       "              56,        68,        73,        74,        78,        81,\n",
       "              83,        84,        91,        93,        95,        96,\n",
       "              97,       101,       104,       108,       111,       114,\n",
       "             117,       118,       119,       120,       123,       125,\n",
       "             127,       128,       129,       131,       133,       136,\n",
       "             138,       139,       141,       146,       148,       149,\n",
       "             154,       155,       159,       162,       163,       165,\n",
       "             169,       171,       173,       177,       178,       180,\n",
       "             184,       187,       188,       194,       197,       198,\n",
       "             201,       202,       207,       209,       211,       214,\n",
       "             215,       217,       218,       223,       225,       226,\n",
       "             229,       233,       234,       235,       239,       242,\n",
       "             247,       251,       252,       255,       268,       269,\n",
       "             271,       274,       275,       281,       288,       289,\n",
       "             295,       296,       301,       303,       304,       305,\n",
       "             307,       310,       311,       313,       314,       315,\n",
       "             319,       320,       322,       323,       326,       327,\n",
       "             328,       329,       334,       337,       339,       342,\n",
       "             343,       344,       345,       348,       351,       353,\n",
       "             354,       361,       362,       363,       369,       370,\n",
       "             374,       375,       378,       381,       382,       385,\n",
       "             386,       394,       395,       398,       402,       403,\n",
       "             406,       409,       412,       413,       417,       421,\n",
       "             422,       423,       425,       427,       429,       430,\n",
       "             433,       434,       436,       437,       440,       441,\n",
       "             442,       443,       444,       445,       448,       449,\n",
       "             450,       451,       453,       463,       466,       467,\n",
       "             470,       477,       478,       482,       483,       484,\n",
       "             485,       493,       500,       501,       502,       507,\n",
       "             512,       515,       519,       520,       523,       526,\n",
       "             527,       528,       530,       533,       534,       536,\n",
       "             538,       540,       541,       542,       543,       544,\n",
       "             549,       556,       558,       559,       564,       565,\n",
       "             566,       567,       571,       573,       574,       575,\n",
       "             576,       579,       580,       581,       582,       588,\n",
       "             589,       590,       593,       595,       596,       597,\n",
       "             598,       599,       600,       603,       604,       605,\n",
       "             607,       608,       609,       610,       612,       613,\n",
       "             618,       619,       620,       621,       623,       157,\n",
       "             625,       628,       629,       630,       631,       632,\n",
       "             634,       637,       638,       639,       643,       645,\n",
       "             647,       648,       651,       653,       654,       655,\n",
       "             656,       657,       658,       661,       662,       663,\n",
       "             664,       665,       667,       669,       670,       671,\n",
       "             672,       675,       677,       678,       679,       680,\n",
       "             685,       687,       688,       692,       693,       694,\n",
       "             695,       697,       698,       701,       702,       703,\n",
       "             704,       707,       709,       711,       714,       718,\n",
       "             720,       721,       723,       726,       727,       728,\n",
       "             729,       731,       733,       735,       737,       743,\n",
       "             744,       746,       749,       752,       754,       755,\n",
       "             759,       767,       768,       771,       772,       773,\n",
       "             774,       776,       778,       780,       781,       783,\n",
       "             784,       786,       788,       792,       794,       795,\n",
       "             797,       798,       800,       803,       804,       805,\n",
       "             806,       809,       810,       811,       814,       816,\n",
       "             818,       819,       820,       821,       822,       824,\n",
       "             826,       827,       828,       830,       835,       836,\n",
       "             838,       839,       840,       841,       842,       843,\n",
       "             844,       846,       847,       848,       849,       850,\n",
       "             851,       852,       854,       856,       857,       862,\n",
       "             864,       867,       872,       873,       874,       877,\n",
       "             878,       879,       884,       886,       888,       889,\n",
       "             893,       894,       895,       896,       897,       898,\n",
       "             900,       901,       902,       904,       905,       906,\n",
       "             907,       908,       909,       918,       920, 182305689,\n",
       "             922,       924, 182305693,       926,       928, 182305697,\n",
       "             931,       932,       935,       936, 182305705,       940,\n",
       "       182305709,       942,       943,       944,       945,       946,\n",
       "             948,       950,       951,       952,       954,       955,\n",
       "             956,       957,       958,       959,       960,       961,\n",
       "             962,       965,       966,       967,       968,       969,\n",
       "             971,       972,       973,       974,       976,       977,\n",
       "             981,       982,       983,       984,       985,       987,\n",
       "             988,       990,       991,       993,       996,       997,\n",
       "             998,      1000,      1002,      1007,      1009,      1011,\n",
       "            1014,      1015,      1016,      1017,      1018,      1020,\n",
       "            1021,      1022,      1023,      1025,      1027,      1030,\n",
       "            1033,      1035,      1037,      1041,      1043,      1045,\n",
       "            1047,      1048,      1049,      1054,      1056,      1057,\n",
       "            1058,      1064,      1065,      1070,      1073,      1083,\n",
       "            1084,      1085,      1089,      1090,      1091,      1093,\n",
       "            1094,      1096,      1097,      1098,      1099,      1100,\n",
       "            1101,      1102,      1106,      1107,      1108,      1111,\n",
       "            1114,      1117,      1121,      1123,      1125,      1128,\n",
       "            1129,      1132,       196,       204, 526157192,       919,\n",
       "             933,       254,       258,       262,       266,       278,\n",
       "             290,       294,       298,       302,      1105,       151,\n",
       "       312782546, 312782562,      1080, 312782574,     10671,     10703,\n",
       "           10704, 312782590, 484682470, 484682508, 484682512, 484682516,\n",
       "       484682520, 312782550, 312782554, 312782558, 312782566, 312782570,\n",
       "       312782578, 312782582, 312782604, 312782608, 312782612, 312782616,\n",
       "       312782620, 312782628, 312782632, 312782636, 312782640, 312782644,\n",
       "       589508447,         1,        12,        15,        23,        30,\n",
       "              36,        38,        46,        54,        58,        59,\n",
       "              63,        64,        72,        88,       100,       105,\n",
       "             113,       122,       135,       140,       145,       156,\n",
       "             181,       186,       189,       190,       203,       222,\n",
       "             238,       246,       249,       257,       260,       263,\n",
       "             280,       292,       318,       321,       325,       330,\n",
       "             331,       336,       347,       349,       350,       364,\n",
       "             366,       372,       377,       379,       390,       401,\n",
       "             452,       460,       461,       469,       475,       491,\n",
       "             506,       525,       551,       553,       557,       577,\n",
       "             583,       587,       591,       601,       614,       616,\n",
       "             642,       681,       689,       690,       696,       725,\n",
       "             732,       741,       757,       763,       765,       791,\n",
       "             802,       812,       834,       863,       866,       880,\n",
       "             882,       903,       910,       911,       912,       916,\n",
       "             153,       930,       938,       939,       949,       964,\n",
       "             970,       978, 606826659,       980,       986,       989,\n",
       "            1005,      1006,      1008,      1010,      1026,      1038,\n",
       "            1039,      1052,      1066,      1074,      1086,      1088,\n",
       "            1092,      1104,      1113,      1126,      1127,      1139,\n",
       "             929,       250,       286, 549009223,      1029, 607344850,\n",
       "       607344854, 484682524, 312782586,        67,        75,        98,\n",
       "             230,       231,       272,       279,       355,       368,\n",
       "             380,       397,       456,       510,       514,       531,\n",
       "             622,       649,       750,       753,       831,       832,\n",
       "             859,       869,       914,       927, 182305701,       963,\n",
       "            1004,      1046,      1061, 549009203, 607344838, 607344846,\n",
       "       607344858, 312782648,         2,        66,       115,       333,\n",
       "             335,       338,       414,       488,       633,       673,\n",
       "             975,      1062,      1069,      1079, 526157196, 560581551,\n",
       "       312782594, 312782652,      1072,       126, 606826663,       170,\n",
       "             206,       706,      1077,      1116,      1120, 563807435,\n",
       "       560581559, 549009215, 607344834, 607344842, 496345664, 496345668,\n",
       "              35,        62,       102,       121,       143,       158,\n",
       "             210,       243,       358,       393,       428,       611,\n",
       "             760,      1031, 182305713, 527696977, 484682528, 589508455,\n",
       "       576073704,       106, 312782598, 312782624,       132,      1044,\n",
       "             147, 496345672, 549009211, 549009227, 560581563,       699,\n",
       "             287,       332, 614454277,      1109,       164,       237,\n",
       "             917, 599626923, 606826651, 606826655, 606826647,       356,\n",
       "            1081, 607344830, 607344862, 576073699, 549009219, 599626927,\n",
       "       526322264, 563807439, 589508451,      1060], dtype=int64)"
      ]
     },
     "execution_count": 33,
     "metadata": {},
     "output_type": "execute_result"
    }
   ],
   "source": [
    "dat['structure_id'].unique()"
   ]
  },
  {
   "cell_type": "code",
   "execution_count": 34,
   "metadata": {},
   "outputs": [],
   "source": [
    "dat = dat[~dat['structure_id'].isin([526322264, 563807439, 589508451, 1060])] #these structures are throwing errors in OLS"
   ]
  },
  {
   "cell_type": "code",
   "execution_count": 35,
   "metadata": {},
   "outputs": [
    {
     "data": {
      "text/plain": [
       "<matplotlib.collections.PathCollection at 0x10f4c1d0>"
      ]
     },
     "execution_count": 35,
     "metadata": {},
     "output_type": "execute_result"
    },
    {
     "data": {
      "image/png": "[encoded data removed]",
      "text/plain": [
       "<matplotlib.figure.Figure at 0x15fdcef0>"
      ]
     },
     "metadata": {},
     "output_type": "display_data"
    }
   ],
   "source": [
    "pltdat = dat[dat['structure_id'] == 315]\n",
    "fig, ax = plt.subplots()\n",
    "ax.scatter(pltdat['sum_plaques'], pltdat['plaque_density'])"
   ]
  },
  {
   "cell_type": "code",
   "execution_count": 68,
   "metadata": {},
   "outputs": [
    {
     "data": {
      "text/html": [
       "<div>\n",
       "<table border=\"1\" class=\"dataframe\">\n",
       "  <thead>\n",
       "    <tr style=\"text-align: right;\">\n",
       "      <th></th>\n",
       "      <th>image_series_id</th>\n",
       "      <th>structure_id</th>\n",
       "      <th>plaque_density</th>\n",
       "      <th>sum_plaques</th>\n",
       "    </tr>\n",
       "  </thead>\n",
       "  <tbody>\n",
       "    <tr>\n",
       "      <th>0</th>\n",
       "      <td>475882459</td>\n",
       "      <td>4</td>\n",
       "      <td>0.000000</td>\n",
       "      <td>24</td>\n",
       "    </tr>\n",
       "    <tr>\n",
       "      <th>1</th>\n",
       "      <td>475882459</td>\n",
       "      <td>6</td>\n",
       "      <td>0.000000</td>\n",
       "      <td>2</td>\n",
       "    </tr>\n",
       "    <tr>\n",
       "      <th>2</th>\n",
       "      <td>475882459</td>\n",
       "      <td>7</td>\n",
       "      <td>0.000000</td>\n",
       "      <td>1</td>\n",
       "    </tr>\n",
       "    <tr>\n",
       "      <th>3</th>\n",
       "      <td>475882459</td>\n",
       "      <td>8</td>\n",
       "      <td>0.000175</td>\n",
       "      <td>7985</td>\n",
       "    </tr>\n",
       "    <tr>\n",
       "      <th>4</th>\n",
       "      <td>475882459</td>\n",
       "      <td>9</td>\n",
       "      <td>0.000713</td>\n",
       "      <td>8</td>\n",
       "    </tr>\n",
       "  </tbody>\n",
       "</table>\n",
       "</div>"
      ],
      "text/plain": [
       "   image_series_id  structure_id  plaque_density  sum_plaques\n",
       "0        475882459             4        0.000000           24\n",
       "1        475882459             6        0.000000            2\n",
       "2        475882459             7        0.000000            1\n",
       "3        475882459             8        0.000175         7985\n",
       "4        475882459             9        0.000713            8"
      ]
     },
     "execution_count": 68,
     "metadata": {},
     "output_type": "execute_result"
    }
   ],
   "source": [
    "dat.head()"
   ]
  },
  {
   "cell_type": "code",
   "execution_count": 103,
   "metadata": {},
   "outputs": [],
   "source": [
    "def correlate_density_count(image_series_ids):\n",
    "    subset_dat = dat[dat['image_series_id'].isin(image_series_ids)]\n",
    "    structure_name = []\n",
    "    structure_id = []\n",
    "    rsquared = []\n",
    "    pvals = []\n",
    "    pvals_x = []\n",
    "    pvals_constant = []\n",
    "    for structure in subset_dat['structure_id'].unique():\n",
    "        calcdat = subset_dat[subset_dat['structure_id'] == structure]\n",
    "        y = calcdat['plaque_density']\n",
    "        X = calcdat['sum_plaques']\n",
    "        X = sm.add_constant(X)\n",
    "        res = sm.OLS(y, X).fit()\n",
    "        try:\n",
    "            if res.pvalues['const'] > 0:\n",
    "                structure_id.append(structure)\n",
    "                structure_name.append(ai_map[structure])\n",
    "                rsquared.append(res.rsquared_adj)\n",
    "                pvals.append(res.pvalues)\n",
    "                pvals_x.append(res.pvalues['sum_plaques'])\n",
    "                pvals_constant.append(res.pvalues['const'])\n",
    "        except:\n",
    "            continue\n",
    "    fdrcorr_x = sm.stats.fdrcorrection(pvals_x, alpha=0.05, method='indep')\n",
    "    fdrcorr_const = sm.stats.fdrcorrection(pvals_constant, alpha=0.05, method='indep')\n",
    "    corrdat = pd.DataFrame({'structure_name': structure_name, 'structure_id': structure_id,\n",
    "                            'r_squared': rsquared, 'p_value': fdrcorr_x[1],\n",
    "                           'p_value_constant': pvals_constant})\n",
    "    return corrdat"
   ]
  },
  {
   "cell_type": "code",
   "execution_count": 96,
   "metadata": {},
   "outputs": [],
   "source": [
    "all_corrdat = correlate_density_count(dat['image_series_id'])"
   ]
  },
  {
   "cell_type": "code",
   "execution_count": 97,
   "metadata": {
    "scrolled": true
   },
   "outputs": [
    {
     "data": {
      "text/html": [
       "<div>\n",
       "<table border=\"1\" class=\"dataframe\">\n",
       "  <thead>\n",
       "    <tr style=\"text-align: right;\">\n",
       "      <th></th>\n",
       "      <th>p_value</th>\n",
       "      <th>p_value_constant</th>\n",
       "      <th>r_squared</th>\n",
       "      <th>structure_id</th>\n",
       "      <th>structure_name</th>\n",
       "    </tr>\n",
       "  </thead>\n",
       "  <tbody>\n",
       "    <tr>\n",
       "      <th>543</th>\n",
       "      <td>1.542527e-38</td>\n",
       "      <td>0.000359</td>\n",
       "      <td>0.858326</td>\n",
       "      <td>262</td>\n",
       "      <td>RT</td>\n",
       "    </tr>\n",
       "    <tr>\n",
       "      <th>57</th>\n",
       "      <td>5.450394e-38</td>\n",
       "      <td>0.000174</td>\n",
       "      <td>0.852252</td>\n",
       "      <td>146</td>\n",
       "      <td>PRNr</td>\n",
       "    </tr>\n",
       "    <tr>\n",
       "      <th>464</th>\n",
       "      <td>5.351493e-37</td>\n",
       "      <td>0.088262</td>\n",
       "      <td>0.843471</td>\n",
       "      <td>983</td>\n",
       "      <td>lfbs</td>\n",
       "    </tr>\n",
       "    <tr>\n",
       "      <th>183</th>\n",
       "      <td>5.789526e-36</td>\n",
       "      <td>0.001578</td>\n",
       "      <td>0.834242</td>\n",
       "      <td>463</td>\n",
       "      <td>CA3</td>\n",
       "    </tr>\n",
       "    <tr>\n",
       "      <th>337</th>\n",
       "      <td>4.826693e-33</td>\n",
       "      <td>0.265439</td>\n",
       "      <td>0.807589</td>\n",
       "      <td>776</td>\n",
       "      <td>cc</td>\n",
       "    </tr>\n",
       "    <tr>\n",
       "      <th>226</th>\n",
       "      <td>5.551192e-32</td>\n",
       "      <td>0.000237</td>\n",
       "      <td>0.807007</td>\n",
       "      <td>574</td>\n",
       "      <td>TRN</td>\n",
       "    </tr>\n",
       "    <tr>\n",
       "      <th>61</th>\n",
       "      <td>1.721170e-30</td>\n",
       "      <td>0.593940</td>\n",
       "      <td>0.780162</td>\n",
       "      <td>155</td>\n",
       "      <td>LD</td>\n",
       "    </tr>\n",
       "    <tr>\n",
       "      <th>515</th>\n",
       "      <td>2.721297e-29</td>\n",
       "      <td>0.000017</td>\n",
       "      <td>0.777193</td>\n",
       "      <td>1093</td>\n",
       "      <td>PRNc</td>\n",
       "    </tr>\n",
       "    <tr>\n",
       "      <th>529</th>\n",
       "      <td>3.447823e-29</td>\n",
       "      <td>0.000102</td>\n",
       "      <td>0.764305</td>\n",
       "      <td>1117</td>\n",
       "      <td>P-sat</td>\n",
       "    </tr>\n",
       "    <tr>\n",
       "      <th>495</th>\n",
       "      <td>3.866766e-29</td>\n",
       "      <td>0.520408</td>\n",
       "      <td>0.763190</td>\n",
       "      <td>1041</td>\n",
       "      <td>PFL</td>\n",
       "    </tr>\n",
       "    <tr>\n",
       "      <th>510</th>\n",
       "      <td>6.026530e-29</td>\n",
       "      <td>0.404010</td>\n",
       "      <td>0.775402</td>\n",
       "      <td>1084</td>\n",
       "      <td>PRE</td>\n",
       "    </tr>\n",
       "    <tr>\n",
       "      <th>516</th>\n",
       "      <td>1.016291e-28</td>\n",
       "      <td>0.143022</td>\n",
       "      <td>0.779558</td>\n",
       "      <td>1094</td>\n",
       "      <td>SSp-ll4</td>\n",
       "    </tr>\n",
       "    <tr>\n",
       "      <th>478</th>\n",
       "      <td>1.016291e-28</td>\n",
       "      <td>0.327402</td>\n",
       "      <td>0.757224</td>\n",
       "      <td>1009</td>\n",
       "      <td>fiber tracts</td>\n",
       "    </tr>\n",
       "    <tr>\n",
       "      <th>554</th>\n",
       "      <td>4.114352e-28</td>\n",
       "      <td>0.138652</td>\n",
       "      <td>0.749075</td>\n",
       "      <td>1080</td>\n",
       "      <td>HIP</td>\n",
       "    </tr>\n",
       "    <tr>\n",
       "      <th>145</th>\n",
       "      <td>7.745545e-28</td>\n",
       "      <td>0.114633</td>\n",
       "      <td>0.745274</td>\n",
       "      <td>375</td>\n",
       "      <td>CA</td>\n",
       "    </tr>\n",
       "    <tr>\n",
       "      <th>494</th>\n",
       "      <td>3.152502e-27</td>\n",
       "      <td>0.492321</td>\n",
       "      <td>0.748632</td>\n",
       "      <td>1037</td>\n",
       "      <td>POST</td>\n",
       "    </tr>\n",
       "    <tr>\n",
       "      <th>263</th>\n",
       "      <td>3.110104e-26</td>\n",
       "      <td>0.225939</td>\n",
       "      <td>0.723561</td>\n",
       "      <td>632</td>\n",
       "      <td>DG-sg</td>\n",
       "    </tr>\n",
       "    <tr>\n",
       "      <th>512</th>\n",
       "      <td>3.870156e-26</td>\n",
       "      <td>0.358016</td>\n",
       "      <td>0.721923</td>\n",
       "      <td>1089</td>\n",
       "      <td>HPF</td>\n",
       "    </tr>\n",
       "    <tr>\n",
       "      <th>505</th>\n",
       "      <td>1.184722e-25</td>\n",
       "      <td>0.383599</td>\n",
       "      <td>0.714849</td>\n",
       "      <td>1064</td>\n",
       "      <td>ANcr2</td>\n",
       "    </tr>\n",
       "    <tr>\n",
       "      <th>19</th>\n",
       "      <td>1.337352e-25</td>\n",
       "      <td>0.658447</td>\n",
       "      <td>0.713794</td>\n",
       "      <td>44</td>\n",
       "      <td>ILA</td>\n",
       "    </tr>\n",
       "    <tr>\n",
       "      <th>197</th>\n",
       "      <td>3.138954e-25</td>\n",
       "      <td>0.446965</td>\n",
       "      <td>0.708211</td>\n",
       "      <td>507</td>\n",
       "      <td>MOB</td>\n",
       "    </tr>\n",
       "    <tr>\n",
       "      <th>256</th>\n",
       "      <td>4.660591e-25</td>\n",
       "      <td>0.079525</td>\n",
       "      <td>0.705438</td>\n",
       "      <td>623</td>\n",
       "      <td>CNU</td>\n",
       "    </tr>\n",
       "    <tr>\n",
       "      <th>315</th>\n",
       "      <td>1.189759e-24</td>\n",
       "      <td>0.545022</td>\n",
       "      <td>0.699181</td>\n",
       "      <td>726</td>\n",
       "      <td>DG</td>\n",
       "    </tr>\n",
       "    <tr>\n",
       "      <th>187</th>\n",
       "      <td>1.332618e-24</td>\n",
       "      <td>0.099280</td>\n",
       "      <td>0.698175</td>\n",
       "      <td>477</td>\n",
       "      <td>STR</td>\n",
       "    </tr>\n",
       "    <tr>\n",
       "      <th>193</th>\n",
       "      <td>1.609063e-24</td>\n",
       "      <td>0.199407</td>\n",
       "      <td>0.696434</td>\n",
       "      <td>493</td>\n",
       "      <td>STRv</td>\n",
       "    </tr>\n",
       "    <tr>\n",
       "      <th>94</th>\n",
       "      <td>1.609063e-24</td>\n",
       "      <td>0.220620</td>\n",
       "      <td>0.696444</td>\n",
       "      <td>239</td>\n",
       "      <td>ATN</td>\n",
       "    </tr>\n",
       "    <tr>\n",
       "      <th>493</th>\n",
       "      <td>2.566072e-24</td>\n",
       "      <td>0.534875</td>\n",
       "      <td>0.700851</td>\n",
       "      <td>1035</td>\n",
       "      <td>SSs4</td>\n",
       "    </tr>\n",
       "    <tr>\n",
       "      <th>148</th>\n",
       "      <td>2.566072e-24</td>\n",
       "      <td>0.457828</td>\n",
       "      <td>0.692899</td>\n",
       "      <td>382</td>\n",
       "      <td>CA1</td>\n",
       "    </tr>\n",
       "    <tr>\n",
       "      <th>473</th>\n",
       "      <td>5.183974e-24</td>\n",
       "      <td>0.790259</td>\n",
       "      <td>0.688007</td>\n",
       "      <td>997</td>\n",
       "      <td>root</td>\n",
       "    </tr>\n",
       "    <tr>\n",
       "      <th>328</th>\n",
       "      <td>5.188210e-24</td>\n",
       "      <td>0.181241</td>\n",
       "      <td>0.687775</td>\n",
       "      <td>754</td>\n",
       "      <td>OT</td>\n",
       "    </tr>\n",
       "    <tr>\n",
       "      <th>...</th>\n",
       "      <td>...</td>\n",
       "      <td>...</td>\n",
       "      <td>...</td>\n",
       "      <td>...</td>\n",
       "      <td>...</td>\n",
       "    </tr>\n",
       "    <tr>\n",
       "      <th>720</th>\n",
       "      <td>6.720078e-01</td>\n",
       "      <td>0.231289</td>\n",
       "      <td>-0.016381</td>\n",
       "      <td>230</td>\n",
       "      <td>RPA</td>\n",
       "    </tr>\n",
       "    <tr>\n",
       "      <th>220</th>\n",
       "      <td>6.803095e-01</td>\n",
       "      <td>0.265197</td>\n",
       "      <td>-0.010662</td>\n",
       "      <td>564</td>\n",
       "      <td>MS</td>\n",
       "    </tr>\n",
       "    <tr>\n",
       "      <th>727</th>\n",
       "      <td>6.809676e-01</td>\n",
       "      <td>0.269384</td>\n",
       "      <td>-0.013800</td>\n",
       "      <td>397</td>\n",
       "      <td>vtd</td>\n",
       "    </tr>\n",
       "    <tr>\n",
       "      <th>28</th>\n",
       "      <td>6.932475e-01</td>\n",
       "      <td>0.008586</td>\n",
       "      <td>-0.009288</td>\n",
       "      <td>78</td>\n",
       "      <td>mcp</td>\n",
       "    </tr>\n",
       "    <tr>\n",
       "      <th>645</th>\n",
       "      <td>6.952676e-01</td>\n",
       "      <td>0.287362</td>\n",
       "      <td>-0.014372</td>\n",
       "      <td>553</td>\n",
       "      <td>sctd</td>\n",
       "    </tr>\n",
       "    <tr>\n",
       "      <th>718</th>\n",
       "      <td>6.952676e-01</td>\n",
       "      <td>0.491974</td>\n",
       "      <td>-0.047624</td>\n",
       "      <td>75</td>\n",
       "      <td>DT</td>\n",
       "    </tr>\n",
       "    <tr>\n",
       "      <th>631</th>\n",
       "      <td>7.084502e-01</td>\n",
       "      <td>0.155081</td>\n",
       "      <td>-0.017762</td>\n",
       "      <td>372</td>\n",
       "      <td>ICB</td>\n",
       "    </tr>\n",
       "    <tr>\n",
       "      <th>801</th>\n",
       "      <td>7.416726e-01</td>\n",
       "      <td>0.303659</td>\n",
       "      <td>-0.077860</td>\n",
       "      <td>527696977</td>\n",
       "      <td>ORBm6b</td>\n",
       "    </tr>\n",
       "    <tr>\n",
       "      <th>826</th>\n",
       "      <td>7.450237e-01</td>\n",
       "      <td>0.572633</td>\n",
       "      <td>-0.031108</td>\n",
       "      <td>356</td>\n",
       "      <td>PST</td>\n",
       "    </tr>\n",
       "    <tr>\n",
       "      <th>230</th>\n",
       "      <td>7.695351e-01</td>\n",
       "      <td>0.335575</td>\n",
       "      <td>-0.013802</td>\n",
       "      <td>580</td>\n",
       "      <td>NB</td>\n",
       "    </tr>\n",
       "    <tr>\n",
       "      <th>394</th>\n",
       "      <td>7.702410e-01</td>\n",
       "      <td>0.575293</td>\n",
       "      <td>-0.016328</td>\n",
       "      <td>874</td>\n",
       "      <td>PBG</td>\n",
       "    </tr>\n",
       "    <tr>\n",
       "      <th>340</th>\n",
       "      <td>8.041936e-01</td>\n",
       "      <td>0.015657</td>\n",
       "      <td>-0.020544</td>\n",
       "      <td>781</td>\n",
       "      <td>y</td>\n",
       "    </tr>\n",
       "    <tr>\n",
       "      <th>815</th>\n",
       "      <td>8.067787e-01</td>\n",
       "      <td>0.159885</td>\n",
       "      <td>-0.070854</td>\n",
       "      <td>699</td>\n",
       "      <td>AIv6b</td>\n",
       "    </tr>\n",
       "    <tr>\n",
       "      <th>796</th>\n",
       "      <td>8.131321e-01</td>\n",
       "      <td>0.188671</td>\n",
       "      <td>-0.035785</td>\n",
       "      <td>428</td>\n",
       "      <td>mct</td>\n",
       "    </tr>\n",
       "    <tr>\n",
       "      <th>725</th>\n",
       "      <td>8.195853e-01</td>\n",
       "      <td>0.015534</td>\n",
       "      <td>-0.029253</td>\n",
       "      <td>368</td>\n",
       "      <td>PERI6b</td>\n",
       "    </tr>\n",
       "    <tr>\n",
       "      <th>293</th>\n",
       "      <td>8.216309e-01</td>\n",
       "      <td>0.002109</td>\n",
       "      <td>-0.026809</td>\n",
       "      <td>680</td>\n",
       "      <td>ORBvl6b</td>\n",
       "    </tr>\n",
       "    <tr>\n",
       "      <th>753</th>\n",
       "      <td>8.228682e-01</td>\n",
       "      <td>0.539775</td>\n",
       "      <td>-0.049350</td>\n",
       "      <td>66</td>\n",
       "      <td>LT</td>\n",
       "    </tr>\n",
       "    <tr>\n",
       "      <th>667</th>\n",
       "      <td>8.310064e-01</td>\n",
       "      <td>0.570552</td>\n",
       "      <td>-0.018552</td>\n",
       "      <td>812</td>\n",
       "      <td>dscp</td>\n",
       "    </tr>\n",
       "    <tr>\n",
       "      <th>636</th>\n",
       "      <td>8.424033e-01</td>\n",
       "      <td>0.057452</td>\n",
       "      <td>-0.012888</td>\n",
       "      <td>452</td>\n",
       "      <td>MEPO</td>\n",
       "    </tr>\n",
       "    <tr>\n",
       "      <th>531</th>\n",
       "      <td>8.556487e-01</td>\n",
       "      <td>0.067219</td>\n",
       "      <td>-0.011444</td>\n",
       "      <td>1123</td>\n",
       "      <td>icp</td>\n",
       "    </tr>\n",
       "    <tr>\n",
       "      <th>324</th>\n",
       "      <td>8.623326e-01</td>\n",
       "      <td>0.366135</td>\n",
       "      <td>-0.016926</td>\n",
       "      <td>744</td>\n",
       "      <td>cbc</td>\n",
       "    </tr>\n",
       "    <tr>\n",
       "      <th>383</th>\n",
       "      <td>8.671584e-01</td>\n",
       "      <td>0.316712</td>\n",
       "      <td>-0.023590</td>\n",
       "      <td>850</td>\n",
       "      <td>uf</td>\n",
       "    </tr>\n",
       "    <tr>\n",
       "      <th>609</th>\n",
       "      <td>8.748739e-01</td>\n",
       "      <td>0.332676</td>\n",
       "      <td>-0.011996</td>\n",
       "      <td>190</td>\n",
       "      <td>py</td>\n",
       "    </tr>\n",
       "    <tr>\n",
       "      <th>18</th>\n",
       "      <td>8.806747e-01</td>\n",
       "      <td>0.013040</td>\n",
       "      <td>-0.015225</td>\n",
       "      <td>42</td>\n",
       "      <td>SCdw</td>\n",
       "    </tr>\n",
       "    <tr>\n",
       "      <th>159</th>\n",
       "      <td>9.124319e-01</td>\n",
       "      <td>0.320224</td>\n",
       "      <td>-0.014086</td>\n",
       "      <td>413</td>\n",
       "      <td>vVIIIn</td>\n",
       "    </tr>\n",
       "    <tr>\n",
       "      <th>760</th>\n",
       "      <td>9.231917e-01</td>\n",
       "      <td>0.180289</td>\n",
       "      <td>-0.024127</td>\n",
       "      <td>633</td>\n",
       "      <td>cic</td>\n",
       "    </tr>\n",
       "    <tr>\n",
       "      <th>612</th>\n",
       "      <td>9.819860e-01</td>\n",
       "      <td>0.089395</td>\n",
       "      <td>-0.019593</td>\n",
       "      <td>238</td>\n",
       "      <td>RPO</td>\n",
       "    </tr>\n",
       "    <tr>\n",
       "      <th>206</th>\n",
       "      <td>9.843200e-01</td>\n",
       "      <td>0.008036</td>\n",
       "      <td>-0.019598</td>\n",
       "      <td>530</td>\n",
       "      <td>df</td>\n",
       "    </tr>\n",
       "    <tr>\n",
       "      <th>777</th>\n",
       "      <td>9.878538e-01</td>\n",
       "      <td>0.273850</td>\n",
       "      <td>-0.024993</td>\n",
       "      <td>1116</td>\n",
       "      <td>gVIIn</td>\n",
       "    </tr>\n",
       "    <tr>\n",
       "      <th>349</th>\n",
       "      <td>9.921209e-01</td>\n",
       "      <td>0.056849</td>\n",
       "      <td>-0.014083</td>\n",
       "      <td>798</td>\n",
       "      <td>VIIn</td>\n",
       "    </tr>\n",
       "  </tbody>\n",
       "</table>\n",
       "<p>833 rows × 5 columns</p>\n",
       "</div>"
      ],
      "text/plain": [
       "          p_value  p_value_constant  r_squared  structure_id structure_name\n",
       "543  1.542527e-38          0.000359   0.858326           262             RT\n",
       "57   5.450394e-38          0.000174   0.852252           146           PRNr\n",
       "464  5.351493e-37          0.088262   0.843471           983           lfbs\n",
       "183  5.789526e-36          0.001578   0.834242           463            CA3\n",
       "337  4.826693e-33          0.265439   0.807589           776             cc\n",
       "226  5.551192e-32          0.000237   0.807007           574            TRN\n",
       "61   1.721170e-30          0.593940   0.780162           155             LD\n",
       "515  2.721297e-29          0.000017   0.777193          1093           PRNc\n",
       "529  3.447823e-29          0.000102   0.764305          1117          P-sat\n",
       "495  3.866766e-29          0.520408   0.763190          1041            PFL\n",
       "510  6.026530e-29          0.404010   0.775402          1084            PRE\n",
       "516  1.016291e-28          0.143022   0.779558          1094        SSp-ll4\n",
       "478  1.016291e-28          0.327402   0.757224          1009   fiber tracts\n",
       "554  4.114352e-28          0.138652   0.749075          1080            HIP\n",
       "145  7.745545e-28          0.114633   0.745274           375             CA\n",
       "494  3.152502e-27          0.492321   0.748632          1037           POST\n",
       "263  3.110104e-26          0.225939   0.723561           632          DG-sg\n",
       "512  3.870156e-26          0.358016   0.721923          1089            HPF\n",
       "505  1.184722e-25          0.383599   0.714849          1064          ANcr2\n",
       "19   1.337352e-25          0.658447   0.713794            44            ILA\n",
       "197  3.138954e-25          0.446965   0.708211           507            MOB\n",
       "256  4.660591e-25          0.079525   0.705438           623            CNU\n",
       "315  1.189759e-24          0.545022   0.699181           726             DG\n",
       "187  1.332618e-24          0.099280   0.698175           477            STR\n",
       "193  1.609063e-24          0.199407   0.696434           493           STRv\n",
       "94   1.609063e-24          0.220620   0.696444           239            ATN\n",
       "493  2.566072e-24          0.534875   0.700851          1035           SSs4\n",
       "148  2.566072e-24          0.457828   0.692899           382            CA1\n",
       "473  5.183974e-24          0.790259   0.688007           997           root\n",
       "328  5.188210e-24          0.181241   0.687775           754             OT\n",
       "..            ...               ...        ...           ...            ...\n",
       "720  6.720078e-01          0.231289  -0.016381           230            RPA\n",
       "220  6.803095e-01          0.265197  -0.010662           564             MS\n",
       "727  6.809676e-01          0.269384  -0.013800           397            vtd\n",
       "28   6.932475e-01          0.008586  -0.009288            78            mcp\n",
       "645  6.952676e-01          0.287362  -0.014372           553           sctd\n",
       "718  6.952676e-01          0.491974  -0.047624            75             DT\n",
       "631  7.084502e-01          0.155081  -0.017762           372            ICB\n",
       "801  7.416726e-01          0.303659  -0.077860     527696977         ORBm6b\n",
       "826  7.450237e-01          0.572633  -0.031108           356            PST\n",
       "230  7.695351e-01          0.335575  -0.013802           580             NB\n",
       "394  7.702410e-01          0.575293  -0.016328           874            PBG\n",
       "340  8.041936e-01          0.015657  -0.020544           781              y\n",
       "815  8.067787e-01          0.159885  -0.070854           699          AIv6b\n",
       "796  8.131321e-01          0.188671  -0.035785           428            mct\n",
       "725  8.195853e-01          0.015534  -0.029253           368         PERI6b\n",
       "293  8.216309e-01          0.002109  -0.026809           680        ORBvl6b\n",
       "753  8.228682e-01          0.539775  -0.049350            66             LT\n",
       "667  8.310064e-01          0.570552  -0.018552           812           dscp\n",
       "636  8.424033e-01          0.057452  -0.012888           452           MEPO\n",
       "531  8.556487e-01          0.067219  -0.011444          1123            icp\n",
       "324  8.623326e-01          0.366135  -0.016926           744            cbc\n",
       "383  8.671584e-01          0.316712  -0.023590           850             uf\n",
       "609  8.748739e-01          0.332676  -0.011996           190             py\n",
       "18   8.806747e-01          0.013040  -0.015225            42           SCdw\n",
       "159  9.124319e-01          0.320224  -0.014086           413         vVIIIn\n",
       "760  9.231917e-01          0.180289  -0.024127           633            cic\n",
       "612  9.819860e-01          0.089395  -0.019593           238            RPO\n",
       "206  9.843200e-01          0.008036  -0.019598           530             df\n",
       "777  9.878538e-01          0.273850  -0.024993          1116          gVIIn\n",
       "349  9.921209e-01          0.056849  -0.014083           798           VIIn\n",
       "\n",
       "[833 rows x 5 columns]"
      ]
     },
     "execution_count": 97,
     "metadata": {},
     "output_type": "execute_result"
    }
   ],
   "source": [
    "all_corrdat.sort_values(by='p_value')"
   ]
  },
  {
   "cell_type": "code",
   "execution_count": 122,
   "metadata": {},
   "outputs": [],
   "source": [
    "no_corr_strs = all_corrdat[all_corrdat['p_value'] > 0.05]['structure_id'].values"
   ]
  },
  {
   "cell_type": "code",
   "execution_count": 123,
   "metadata": {},
   "outputs": [
    {
     "data": {
      "text/plain": [
       "array([       27,        42,        50,        78,        83,       117,\n",
       "             123,       125,       197,       198,       207,       229,\n",
       "             326,       413,       436,       449,       482,       530,\n",
       "             564,       575,       576,       580,       595,       599,\n",
       "             604,       621,       653,       662,       680,       711,\n",
       "             720,       737,       744,       752,       781,       798,\n",
       "             841,       850,       874,       901,       904,       948,\n",
       "            1123,       933,       266,     10671,         1,        30,\n",
       "              38,        72,       190,       222,       238,       318,\n",
       "             336,       349,       364,       366,       372,       452,\n",
       "             460,       506,       553,       614,       616,       642,\n",
       "             681,       689,       690,       725,       757,       763,\n",
       "             812,       866,       911,       930,       938,       949,\n",
       "             978,       286, 607344854,        75,       230,       368,\n",
       "             380,       397,       514,       622,       859,       914,\n",
       "             963,        66,       633,       975,       126, 606826663,\n",
       "            1116,        35,       102,       393,       428,       611,\n",
       "             760, 527696977, 589508455, 312782598, 560581563,       699,\n",
       "             332,       237,       917,       356, 607344830, 549009219,\n",
       "       599626927], dtype=int64)"
      ]
     },
     "execution_count": 123,
     "metadata": {},
     "output_type": "execute_result"
    }
   ],
   "source": [
    "no_corr_strs"
   ]
  },
  {
   "cell_type": "code",
   "execution_count": 124,
   "metadata": {},
   "outputs": [
    {
     "data": {
      "text/html": [
       "<div>\n",
       "<table border=\"1\" class=\"dataframe\">\n",
       "  <thead>\n",
       "    <tr style=\"text-align: right;\">\n",
       "      <th></th>\n",
       "      <th>image_series_id</th>\n",
       "      <th>structure_id</th>\n",
       "      <th>plaque_density</th>\n",
       "      <th>sum_plaques</th>\n",
       "    </tr>\n",
       "  </thead>\n",
       "  <tbody>\n",
       "    <tr>\n",
       "      <th>count</th>\n",
       "      <td>6.555000e+03</td>\n",
       "      <td>6.555000e+03</td>\n",
       "      <td>6555.000000</td>\n",
       "      <td>6555.000000</td>\n",
       "    </tr>\n",
       "    <tr>\n",
       "      <th>mean</th>\n",
       "      <td>5.786839e+08</td>\n",
       "      <td>1.244312e+07</td>\n",
       "      <td>0.000402</td>\n",
       "      <td>29.838139</td>\n",
       "    </tr>\n",
       "    <tr>\n",
       "      <th>std</th>\n",
       "      <td>7.219870e+07</td>\n",
       "      <td>8.099832e+07</td>\n",
       "      <td>0.002314</td>\n",
       "      <td>72.809269</td>\n",
       "    </tr>\n",
       "    <tr>\n",
       "      <th>min</th>\n",
       "      <td>4.758313e+08</td>\n",
       "      <td>1.000000e+00</td>\n",
       "      <td>0.000000</td>\n",
       "      <td>1.000000</td>\n",
       "    </tr>\n",
       "    <tr>\n",
       "      <th>25%</th>\n",
       "      <td>5.083674e+08</td>\n",
       "      <td>3.180000e+02</td>\n",
       "      <td>0.000000</td>\n",
       "      <td>2.000000</td>\n",
       "    </tr>\n",
       "    <tr>\n",
       "      <th>50%</th>\n",
       "      <td>5.766859e+08</td>\n",
       "      <td>5.990000e+02</td>\n",
       "      <td>0.000000</td>\n",
       "      <td>6.000000</td>\n",
       "    </tr>\n",
       "    <tr>\n",
       "      <th>75%</th>\n",
       "      <td>6.507012e+08</td>\n",
       "      <td>7.980000e+02</td>\n",
       "      <td>0.000050</td>\n",
       "      <td>21.000000</td>\n",
       "    </tr>\n",
       "    <tr>\n",
       "      <th>max</th>\n",
       "      <td>6.860965e+08</td>\n",
       "      <td>6.073449e+08</td>\n",
       "      <td>0.098281</td>\n",
       "      <td>1229.000000</td>\n",
       "    </tr>\n",
       "  </tbody>\n",
       "</table>\n",
       "</div>"
      ],
      "text/plain": [
       "       image_series_id  structure_id  plaque_density  sum_plaques\n",
       "count     6.555000e+03  6.555000e+03     6555.000000  6555.000000\n",
       "mean      5.786839e+08  1.244312e+07        0.000402    29.838139\n",
       "std       7.219870e+07  8.099832e+07        0.002314    72.809269\n",
       "min       4.758313e+08  1.000000e+00        0.000000     1.000000\n",
       "25%       5.083674e+08  3.180000e+02        0.000000     2.000000\n",
       "50%       5.766859e+08  5.990000e+02        0.000000     6.000000\n",
       "75%       6.507012e+08  7.980000e+02        0.000050    21.000000\n",
       "max       6.860965e+08  6.073449e+08        0.098281  1229.000000"
      ]
     },
     "execution_count": 124,
     "metadata": {},
     "output_type": "execute_result"
    }
   ],
   "source": [
    "dat[dat['structure_id'].isin(no_corr_strs)].describe()"
   ]
  },
  {
   "cell_type": "code",
   "execution_count": 125,
   "metadata": {},
   "outputs": [
    {
     "data": {
      "text/html": [
       "<div>\n",
       "<table border=\"1\" class=\"dataframe\">\n",
       "  <thead>\n",
       "    <tr style=\"text-align: right;\">\n",
       "      <th></th>\n",
       "      <th>image_series_id</th>\n",
       "      <th>structure_id</th>\n",
       "      <th>plaque_density</th>\n",
       "      <th>sum_plaques</th>\n",
       "    </tr>\n",
       "  </thead>\n",
       "  <tbody>\n",
       "    <tr>\n",
       "      <th>count</th>\n",
       "      <td>5.890400e+04</td>\n",
       "      <td>5.890400e+04</td>\n",
       "      <td>58904.000000</td>\n",
       "      <td>58904.000000</td>\n",
       "    </tr>\n",
       "    <tr>\n",
       "      <th>mean</th>\n",
       "      <td>5.804486e+08</td>\n",
       "      <td>2.617068e+07</td>\n",
       "      <td>0.002944</td>\n",
       "      <td>1017.326718</td>\n",
       "    </tr>\n",
       "    <tr>\n",
       "      <th>std</th>\n",
       "      <td>7.296933e+07</td>\n",
       "      <td>1.023834e+08</td>\n",
       "      <td>0.006139</td>\n",
       "      <td>8823.352996</td>\n",
       "    </tr>\n",
       "    <tr>\n",
       "      <th>min</th>\n",
       "      <td>4.758313e+08</td>\n",
       "      <td>2.000000e+00</td>\n",
       "      <td>0.000000</td>\n",
       "      <td>1.000000</td>\n",
       "    </tr>\n",
       "    <tr>\n",
       "      <th>25%</th>\n",
       "      <td>5.083674e+08</td>\n",
       "      <td>3.340000e+02</td>\n",
       "      <td>0.000014</td>\n",
       "      <td>9.000000</td>\n",
       "    </tr>\n",
       "    <tr>\n",
       "      <th>50%</th>\n",
       "      <td>5.805952e+08</td>\n",
       "      <td>6.690000e+02</td>\n",
       "      <td>0.000286</td>\n",
       "      <td>47.000000</td>\n",
       "    </tr>\n",
       "    <tr>\n",
       "      <th>75%</th>\n",
       "      <td>6.519987e+08</td>\n",
       "      <td>9.590000e+02</td>\n",
       "      <td>0.003011</td>\n",
       "      <td>236.000000</td>\n",
       "    </tr>\n",
       "    <tr>\n",
       "      <th>max</th>\n",
       "      <td>6.860965e+08</td>\n",
       "      <td>6.144543e+08</td>\n",
       "      <td>0.192989</td>\n",
       "      <td>337604.000000</td>\n",
       "    </tr>\n",
       "  </tbody>\n",
       "</table>\n",
       "</div>"
      ],
      "text/plain": [
       "       image_series_id  structure_id  plaque_density    sum_plaques\n",
       "count     5.890400e+04  5.890400e+04    58904.000000   58904.000000\n",
       "mean      5.804486e+08  2.617068e+07        0.002944    1017.326718\n",
       "std       7.296933e+07  1.023834e+08        0.006139    8823.352996\n",
       "min       4.758313e+08  2.000000e+00        0.000000       1.000000\n",
       "25%       5.083674e+08  3.340000e+02        0.000014       9.000000\n",
       "50%       5.805952e+08  6.690000e+02        0.000286      47.000000\n",
       "75%       6.519987e+08  9.590000e+02        0.003011     236.000000\n",
       "max       6.860965e+08  6.144543e+08        0.192989  337604.000000"
      ]
     },
     "execution_count": 125,
     "metadata": {},
     "output_type": "execute_result"
    }
   ],
   "source": [
    "dat[~dat['structure_id'].isin(no_corr_strs)].describe()"
   ]
  },
  {
   "cell_type": "code",
   "execution_count": 126,
   "metadata": {},
   "outputs": [
    {
     "data": {
      "text/plain": [
       "<matplotlib.collections.PathCollection at 0x2832b860>"
      ]
     },
     "execution_count": 126,
     "metadata": {},
     "output_type": "execute_result"
    },
    {
     "data": {
      "image/png": "[encoded data removed]",
      "text/plain": [
       "<matplotlib.figure.Figure at 0x1bf69748>"
      ]
     },
     "metadata": {},
     "output_type": "display_data"
    }
   ],
   "source": [
    "pltdat = dat[dat['structure_id'] == 382]\n",
    "fig, ax = plt.subplots()\n",
    "ax.scatter(pltdat['sum_plaques'], pltdat['plaque_density'])"
   ]
  },
  {
   "cell_type": "code",
   "execution_count": 84,
   "metadata": {},
   "outputs": [],
   "source": [
    "APP_PS1 = map(int, dataset[dataset['Mouse Line'] == 'APP/PS1']['Link to image series'])\n",
    "APP_PS1_corrdat = correlate_density_count(APP_PS1)"
   ]
  },
  {
   "cell_type": "code",
   "execution_count": 85,
   "metadata": {
    "scrolled": true
   },
   "outputs": [
    {
     "data": {
      "text/html": [
       "<div>\n",
       "<table border=\"1\" class=\"dataframe\">\n",
       "  <thead>\n",
       "    <tr style=\"text-align: right;\">\n",
       "      <th></th>\n",
       "      <th>p_value</th>\n",
       "      <th>p_value_constant</th>\n",
       "      <th>r_squared</th>\n",
       "      <th>structure_id</th>\n",
       "      <th>structure_name</th>\n",
       "    </tr>\n",
       "  </thead>\n",
       "  <tbody>\n",
       "    <tr>\n",
       "      <th>57</th>\n",
       "      <td>3.216801e-22</td>\n",
       "      <td>0.002579</td>\n",
       "      <td>0.882758</td>\n",
       "      <td>146</td>\n",
       "      <td>PRNr</td>\n",
       "    </tr>\n",
       "    <tr>\n",
       "      <th>542</th>\n",
       "      <td>5.785627e-19</td>\n",
       "      <td>0.006306</td>\n",
       "      <td>0.837484</td>\n",
       "      <td>262</td>\n",
       "      <td>RT</td>\n",
       "    </tr>\n",
       "    <tr>\n",
       "      <th>528</th>\n",
       "      <td>1.246236e-18</td>\n",
       "      <td>0.000038</td>\n",
       "      <td>0.829708</td>\n",
       "      <td>1117</td>\n",
       "      <td>P-sat</td>\n",
       "    </tr>\n",
       "    <tr>\n",
       "      <th>182</th>\n",
       "      <td>3.005111e-18</td>\n",
       "      <td>0.055474</td>\n",
       "      <td>0.818692</td>\n",
       "      <td>463</td>\n",
       "      <td>CA3</td>\n",
       "    </tr>\n",
       "    <tr>\n",
       "      <th>514</th>\n",
       "      <td>3.005111e-18</td>\n",
       "      <td>0.000024</td>\n",
       "      <td>0.820783</td>\n",
       "      <td>1093</td>\n",
       "      <td>PRNc</td>\n",
       "    </tr>\n",
       "    <tr>\n",
       "      <th>225</th>\n",
       "      <td>3.005111e-18</td>\n",
       "      <td>0.001334</td>\n",
       "      <td>0.825899</td>\n",
       "      <td>574</td>\n",
       "      <td>TRN</td>\n",
       "    </tr>\n",
       "    <tr>\n",
       "      <th>797</th>\n",
       "      <td>1.329396e-16</td>\n",
       "      <td>0.001937</td>\n",
       "      <td>0.905376</td>\n",
       "      <td>1031</td>\n",
       "      <td>GPi</td>\n",
       "    </tr>\n",
       "    <tr>\n",
       "      <th>463</th>\n",
       "      <td>5.606458e-16</td>\n",
       "      <td>0.049115</td>\n",
       "      <td>0.774163</td>\n",
       "      <td>983</td>\n",
       "      <td>lfbs</td>\n",
       "    </tr>\n",
       "    <tr>\n",
       "      <th>341</th>\n",
       "      <td>4.166109e-15</td>\n",
       "      <td>0.006745</td>\n",
       "      <td>0.754261</td>\n",
       "      <td>784</td>\n",
       "      <td>cst</td>\n",
       "    </tr>\n",
       "    <tr>\n",
       "      <th>61</th>\n",
       "      <td>4.105928e-14</td>\n",
       "      <td>0.881833</td>\n",
       "      <td>0.729737</td>\n",
       "      <td>155</td>\n",
       "      <td>LD</td>\n",
       "    </tr>\n",
       "    <tr>\n",
       "      <th>700</th>\n",
       "      <td>5.378286e-14</td>\n",
       "      <td>0.000120</td>\n",
       "      <td>0.786180</td>\n",
       "      <td>1088</td>\n",
       "      <td>MGm</td>\n",
       "    </tr>\n",
       "    <tr>\n",
       "      <th>515</th>\n",
       "      <td>7.209816e-14</td>\n",
       "      <td>0.234322</td>\n",
       "      <td>0.736179</td>\n",
       "      <td>1094</td>\n",
       "      <td>SSp-ll4</td>\n",
       "    </tr>\n",
       "    <tr>\n",
       "      <th>2</th>\n",
       "      <td>1.068390e-13</td>\n",
       "      <td>0.530850</td>\n",
       "      <td>0.746015</td>\n",
       "      <td>7</td>\n",
       "      <td>PSV</td>\n",
       "    </tr>\n",
       "    <tr>\n",
       "      <th>60</th>\n",
       "      <td>1.397129e-13</td>\n",
       "      <td>0.142913</td>\n",
       "      <td>0.757772</td>\n",
       "      <td>154</td>\n",
       "      <td>PHY</td>\n",
       "    </tr>\n",
       "    <tr>\n",
       "      <th>332</th>\n",
       "      <td>1.434580e-13</td>\n",
       "      <td>0.015345</td>\n",
       "      <td>0.711359</td>\n",
       "      <td>771</td>\n",
       "      <td>P</td>\n",
       "    </tr>\n",
       "    <tr>\n",
       "      <th>336</th>\n",
       "      <td>2.083449e-13</td>\n",
       "      <td>0.141726</td>\n",
       "      <td>0.705592</td>\n",
       "      <td>776</td>\n",
       "      <td>cc</td>\n",
       "    </tr>\n",
       "    <tr>\n",
       "      <th>566</th>\n",
       "      <td>2.083449e-13</td>\n",
       "      <td>0.284726</td>\n",
       "      <td>0.706240</td>\n",
       "      <td>312782558</td>\n",
       "      <td>VISa4</td>\n",
       "    </tr>\n",
       "    <tr>\n",
       "      <th>82</th>\n",
       "      <td>9.924973e-13</td>\n",
       "      <td>0.079387</td>\n",
       "      <td>0.700988</td>\n",
       "      <td>214</td>\n",
       "      <td>RN</td>\n",
       "    </tr>\n",
       "    <tr>\n",
       "      <th>122</th>\n",
       "      <td>1.365398e-12</td>\n",
       "      <td>0.093409</td>\n",
       "      <td>0.681389</td>\n",
       "      <td>323</td>\n",
       "      <td>MBmot</td>\n",
       "    </tr>\n",
       "    <tr>\n",
       "      <th>170</th>\n",
       "      <td>1.406644e-12</td>\n",
       "      <td>0.000024</td>\n",
       "      <td>0.680363</td>\n",
       "      <td>437</td>\n",
       "      <td>SPVI</td>\n",
       "    </tr>\n",
       "    <tr>\n",
       "      <th>359</th>\n",
       "      <td>1.429319e-12</td>\n",
       "      <td>0.000477</td>\n",
       "      <td>0.686167</td>\n",
       "      <td>818</td>\n",
       "      <td>PALd</td>\n",
       "    </tr>\n",
       "    <tr>\n",
       "      <th>49</th>\n",
       "      <td>1.429319e-12</td>\n",
       "      <td>0.000294</td>\n",
       "      <td>0.678383</td>\n",
       "      <td>128</td>\n",
       "      <td>MRN</td>\n",
       "    </tr>\n",
       "    <tr>\n",
       "      <th>549</th>\n",
       "      <td>1.429319e-12</td>\n",
       "      <td>0.945218</td>\n",
       "      <td>0.694392</td>\n",
       "      <td>1105</td>\n",
       "      <td>IA</td>\n",
       "    </tr>\n",
       "    <tr>\n",
       "      <th>131</th>\n",
       "      <td>2.412502e-12</td>\n",
       "      <td>0.087256</td>\n",
       "      <td>0.671083</td>\n",
       "      <td>343</td>\n",
       "      <td>BS</td>\n",
       "    </tr>\n",
       "    <tr>\n",
       "      <th>116</th>\n",
       "      <td>3.057048e-12</td>\n",
       "      <td>0.113388</td>\n",
       "      <td>0.667444</td>\n",
       "      <td>313</td>\n",
       "      <td>MB</td>\n",
       "    </tr>\n",
       "    <tr>\n",
       "      <th>144</th>\n",
       "      <td>3.179438e-12</td>\n",
       "      <td>0.439511</td>\n",
       "      <td>0.666408</td>\n",
       "      <td>375</td>\n",
       "      <td>CA</td>\n",
       "    </tr>\n",
       "    <tr>\n",
       "      <th>509</th>\n",
       "      <td>3.197538e-12</td>\n",
       "      <td>0.545218</td>\n",
       "      <td>0.665833</td>\n",
       "      <td>1084</td>\n",
       "      <td>PRE</td>\n",
       "    </tr>\n",
       "    <tr>\n",
       "      <th>146</th>\n",
       "      <td>4.023050e-12</td>\n",
       "      <td>0.613154</td>\n",
       "      <td>0.662291</td>\n",
       "      <td>381</td>\n",
       "      <td>SNr</td>\n",
       "    </tr>\n",
       "    <tr>\n",
       "      <th>553</th>\n",
       "      <td>4.803435e-12</td>\n",
       "      <td>0.566729</td>\n",
       "      <td>0.659437</td>\n",
       "      <td>1080</td>\n",
       "      <td>HIP</td>\n",
       "    </tr>\n",
       "    <tr>\n",
       "      <th>29</th>\n",
       "      <td>4.808140e-12</td>\n",
       "      <td>0.000050</td>\n",
       "      <td>0.658966</td>\n",
       "      <td>81</td>\n",
       "      <td>VL</td>\n",
       "    </tr>\n",
       "    <tr>\n",
       "      <th>...</th>\n",
       "      <td>...</td>\n",
       "      <td>...</td>\n",
       "      <td>...</td>\n",
       "      <td>...</td>\n",
       "      <td>...</td>\n",
       "    </tr>\n",
       "    <tr>\n",
       "      <th>308</th>\n",
       "      <td>7.414392e-01</td>\n",
       "      <td>0.327002</td>\n",
       "      <td>-0.021560</td>\n",
       "      <td>711</td>\n",
       "      <td>CU</td>\n",
       "    </tr>\n",
       "    <tr>\n",
       "      <th>209</th>\n",
       "      <td>7.680837e-01</td>\n",
       "      <td>0.000809</td>\n",
       "      <td>-0.019312</td>\n",
       "      <td>538</td>\n",
       "      <td>lotd</td>\n",
       "    </tr>\n",
       "    <tr>\n",
       "      <th>608</th>\n",
       "      <td>7.772140e-01</td>\n",
       "      <td>0.310422</td>\n",
       "      <td>-0.019516</td>\n",
       "      <td>190</td>\n",
       "      <td>py</td>\n",
       "    </tr>\n",
       "    <tr>\n",
       "      <th>158</th>\n",
       "      <td>7.772140e-01</td>\n",
       "      <td>0.529761</td>\n",
       "      <td>-0.021875</td>\n",
       "      <td>413</td>\n",
       "      <td>vVIIIn</td>\n",
       "    </tr>\n",
       "    <tr>\n",
       "      <th>123</th>\n",
       "      <td>7.788000e-01</td>\n",
       "      <td>0.018169</td>\n",
       "      <td>-0.018368</td>\n",
       "      <td>326</td>\n",
       "      <td>scp</td>\n",
       "    </tr>\n",
       "    <tr>\n",
       "      <th>658</th>\n",
       "      <td>7.988917e-01</td>\n",
       "      <td>0.009155</td>\n",
       "      <td>-0.028599</td>\n",
       "      <td>725</td>\n",
       "      <td>VPLpc</td>\n",
       "    </tr>\n",
       "    <tr>\n",
       "      <th>28</th>\n",
       "      <td>8.036254e-01</td>\n",
       "      <td>0.034906</td>\n",
       "      <td>-0.019587</td>\n",
       "      <td>78</td>\n",
       "      <td>mcp</td>\n",
       "    </tr>\n",
       "    <tr>\n",
       "      <th>770</th>\n",
       "      <td>8.066057e-01</td>\n",
       "      <td>0.950013</td>\n",
       "      <td>-0.780924</td>\n",
       "      <td>606826663</td>\n",
       "      <td>Pa4</td>\n",
       "    </tr>\n",
       "    <tr>\n",
       "      <th>775</th>\n",
       "      <td>8.079909e-01</td>\n",
       "      <td>0.626769</td>\n",
       "      <td>-0.031851</td>\n",
       "      <td>1116</td>\n",
       "      <td>gVIIn</td>\n",
       "    </tr>\n",
       "    <tr>\n",
       "      <th>725</th>\n",
       "      <td>8.131039e-01</td>\n",
       "      <td>0.363614</td>\n",
       "      <td>-0.026531</td>\n",
       "      <td>397</td>\n",
       "      <td>vtd</td>\n",
       "    </tr>\n",
       "    <tr>\n",
       "      <th>339</th>\n",
       "      <td>8.616575e-01</td>\n",
       "      <td>0.121849</td>\n",
       "      <td>-0.034218</td>\n",
       "      <td>781</td>\n",
       "      <td>y</td>\n",
       "    </tr>\n",
       "    <tr>\n",
       "      <th>654</th>\n",
       "      <td>8.642448e-01</td>\n",
       "      <td>0.109817</td>\n",
       "      <td>-0.034286</td>\n",
       "      <td>681</td>\n",
       "      <td>mtg</td>\n",
       "    </tr>\n",
       "    <tr>\n",
       "      <th>393</th>\n",
       "      <td>8.743915e-01</td>\n",
       "      <td>0.578396</td>\n",
       "      <td>-0.024770</td>\n",
       "      <td>874</td>\n",
       "      <td>PBG</td>\n",
       "    </tr>\n",
       "    <tr>\n",
       "      <th>709</th>\n",
       "      <td>8.832816e-01</td>\n",
       "      <td>0.081084</td>\n",
       "      <td>-0.030322</td>\n",
       "      <td>286</td>\n",
       "      <td>SCH</td>\n",
       "    </tr>\n",
       "    <tr>\n",
       "      <th>219</th>\n",
       "      <td>8.880421e-01</td>\n",
       "      <td>0.246193</td>\n",
       "      <td>-0.022631</td>\n",
       "      <td>564</td>\n",
       "      <td>MS</td>\n",
       "    </tr>\n",
       "    <tr>\n",
       "      <th>42</th>\n",
       "      <td>8.961428e-01</td>\n",
       "      <td>0.273187</td>\n",
       "      <td>-0.025703</td>\n",
       "      <td>117</td>\n",
       "      <td>och</td>\n",
       "    </tr>\n",
       "    <tr>\n",
       "      <th>826</th>\n",
       "      <td>9.027239e-01</td>\n",
       "      <td>0.572842</td>\n",
       "      <td>-0.939384</td>\n",
       "      <td>607344830</td>\n",
       "      <td>PN</td>\n",
       "    </tr>\n",
       "    <tr>\n",
       "      <th>666</th>\n",
       "      <td>9.036874e-01</td>\n",
       "      <td>0.540944</td>\n",
       "      <td>-0.029704</td>\n",
       "      <td>812</td>\n",
       "      <td>dscp</td>\n",
       "    </tr>\n",
       "    <tr>\n",
       "      <th>621</th>\n",
       "      <td>9.093510e-01</td>\n",
       "      <td>0.029673</td>\n",
       "      <td>-0.024568</td>\n",
       "      <td>325</td>\n",
       "      <td>SGN</td>\n",
       "    </tr>\n",
       "    <tr>\n",
       "      <th>611</th>\n",
       "      <td>9.222719e-01</td>\n",
       "      <td>0.171929</td>\n",
       "      <td>-0.029909</td>\n",
       "      <td>238</td>\n",
       "      <td>RPO</td>\n",
       "    </tr>\n",
       "    <tr>\n",
       "      <th>758</th>\n",
       "      <td>9.334409e-01</td>\n",
       "      <td>0.157429</td>\n",
       "      <td>-0.035366</td>\n",
       "      <td>633</td>\n",
       "      <td>cic</td>\n",
       "    </tr>\n",
       "    <tr>\n",
       "      <th>813</th>\n",
       "      <td>9.374646e-01</td>\n",
       "      <td>0.260225</td>\n",
       "      <td>-0.090072</td>\n",
       "      <td>699</td>\n",
       "      <td>AIv6b</td>\n",
       "    </tr>\n",
       "    <tr>\n",
       "      <th>18</th>\n",
       "      <td>9.377423e-01</td>\n",
       "      <td>0.025111</td>\n",
       "      <td>-0.023618</td>\n",
       "      <td>42</td>\n",
       "      <td>SCdw</td>\n",
       "    </tr>\n",
       "    <tr>\n",
       "      <th>382</th>\n",
       "      <td>9.469964e-01</td>\n",
       "      <td>0.349490</td>\n",
       "      <td>-0.036817</td>\n",
       "      <td>850</td>\n",
       "      <td>uf</td>\n",
       "    </tr>\n",
       "    <tr>\n",
       "      <th>178</th>\n",
       "      <td>9.495242e-01</td>\n",
       "      <td>0.041055</td>\n",
       "      <td>-0.034302</td>\n",
       "      <td>449</td>\n",
       "      <td>vhc</td>\n",
       "    </tr>\n",
       "    <tr>\n",
       "      <th>254</th>\n",
       "      <td>9.510346e-01</td>\n",
       "      <td>0.054357</td>\n",
       "      <td>-0.020736</td>\n",
       "      <td>621</td>\n",
       "      <td>V</td>\n",
       "    </tr>\n",
       "    <tr>\n",
       "      <th>733</th>\n",
       "      <td>9.610658e-01</td>\n",
       "      <td>0.130000</td>\n",
       "      <td>-0.032162</td>\n",
       "      <td>753</td>\n",
       "      <td>pm</td>\n",
       "    </tr>\n",
       "    <tr>\n",
       "      <th>348</th>\n",
       "      <td>9.615399e-01</td>\n",
       "      <td>0.158631</td>\n",
       "      <td>-0.020780</td>\n",
       "      <td>798</td>\n",
       "      <td>VIIn</td>\n",
       "    </tr>\n",
       "    <tr>\n",
       "      <th>751</th>\n",
       "      <td>9.615399e-01</td>\n",
       "      <td>0.583404</td>\n",
       "      <td>-0.083095</td>\n",
       "      <td>66</td>\n",
       "      <td>LT</td>\n",
       "    </tr>\n",
       "    <tr>\n",
       "      <th>635</th>\n",
       "      <td>9.637305e-01</td>\n",
       "      <td>0.137020</td>\n",
       "      <td>-0.024946</td>\n",
       "      <td>452</td>\n",
       "      <td>MEPO</td>\n",
       "    </tr>\n",
       "  </tbody>\n",
       "</table>\n",
       "<p>831 rows × 5 columns</p>\n",
       "</div>"
      ],
      "text/plain": [
       "          p_value  p_value_constant  r_squared  structure_id structure_name\n",
       "57   3.216801e-22          0.002579   0.882758           146           PRNr\n",
       "542  5.785627e-19          0.006306   0.837484           262             RT\n",
       "528  1.246236e-18          0.000038   0.829708          1117          P-sat\n",
       "182  3.005111e-18          0.055474   0.818692           463            CA3\n",
       "514  3.005111e-18          0.000024   0.820783          1093           PRNc\n",
       "225  3.005111e-18          0.001334   0.825899           574            TRN\n",
       "797  1.329396e-16          0.001937   0.905376          1031            GPi\n",
       "463  5.606458e-16          0.049115   0.774163           983           lfbs\n",
       "341  4.166109e-15          0.006745   0.754261           784            cst\n",
       "61   4.105928e-14          0.881833   0.729737           155             LD\n",
       "700  5.378286e-14          0.000120   0.786180          1088            MGm\n",
       "515  7.209816e-14          0.234322   0.736179          1094        SSp-ll4\n",
       "2    1.068390e-13          0.530850   0.746015             7            PSV\n",
       "60   1.397129e-13          0.142913   0.757772           154            PHY\n",
       "332  1.434580e-13          0.015345   0.711359           771              P\n",
       "336  2.083449e-13          0.141726   0.705592           776             cc\n",
       "566  2.083449e-13          0.284726   0.706240     312782558          VISa4\n",
       "82   9.924973e-13          0.079387   0.700988           214             RN\n",
       "122  1.365398e-12          0.093409   0.681389           323          MBmot\n",
       "170  1.406644e-12          0.000024   0.680363           437           SPVI\n",
       "359  1.429319e-12          0.000477   0.686167           818           PALd\n",
       "49   1.429319e-12          0.000294   0.678383           128            MRN\n",
       "549  1.429319e-12          0.945218   0.694392          1105             IA\n",
       "131  2.412502e-12          0.087256   0.671083           343             BS\n",
       "116  3.057048e-12          0.113388   0.667444           313             MB\n",
       "144  3.179438e-12          0.439511   0.666408           375             CA\n",
       "509  3.197538e-12          0.545218   0.665833          1084            PRE\n",
       "146  4.023050e-12          0.613154   0.662291           381            SNr\n",
       "553  4.803435e-12          0.566729   0.659437          1080            HIP\n",
       "29   4.808140e-12          0.000050   0.658966            81             VL\n",
       "..            ...               ...        ...           ...            ...\n",
       "308  7.414392e-01          0.327002  -0.021560           711             CU\n",
       "209  7.680837e-01          0.000809  -0.019312           538           lotd\n",
       "608  7.772140e-01          0.310422  -0.019516           190             py\n",
       "158  7.772140e-01          0.529761  -0.021875           413         vVIIIn\n",
       "123  7.788000e-01          0.018169  -0.018368           326            scp\n",
       "658  7.988917e-01          0.009155  -0.028599           725          VPLpc\n",
       "28   8.036254e-01          0.034906  -0.019587            78            mcp\n",
       "770  8.066057e-01          0.950013  -0.780924     606826663            Pa4\n",
       "775  8.079909e-01          0.626769  -0.031851          1116          gVIIn\n",
       "725  8.131039e-01          0.363614  -0.026531           397            vtd\n",
       "339  8.616575e-01          0.121849  -0.034218           781              y\n",
       "654  8.642448e-01          0.109817  -0.034286           681            mtg\n",
       "393  8.743915e-01          0.578396  -0.024770           874            PBG\n",
       "709  8.832816e-01          0.081084  -0.030322           286            SCH\n",
       "219  8.880421e-01          0.246193  -0.022631           564             MS\n",
       "42   8.961428e-01          0.273187  -0.025703           117            och\n",
       "826  9.027239e-01          0.572842  -0.939384     607344830             PN\n",
       "666  9.036874e-01          0.540944  -0.029704           812           dscp\n",
       "621  9.093510e-01          0.029673  -0.024568           325            SGN\n",
       "611  9.222719e-01          0.171929  -0.029909           238            RPO\n",
       "758  9.334409e-01          0.157429  -0.035366           633            cic\n",
       "813  9.374646e-01          0.260225  -0.090072           699          AIv6b\n",
       "18   9.377423e-01          0.025111  -0.023618            42           SCdw\n",
       "382  9.469964e-01          0.349490  -0.036817           850             uf\n",
       "178  9.495242e-01          0.041055  -0.034302           449            vhc\n",
       "254  9.510346e-01          0.054357  -0.020736           621              V\n",
       "733  9.610658e-01          0.130000  -0.032162           753             pm\n",
       "348  9.615399e-01          0.158631  -0.020780           798           VIIn\n",
       "751  9.615399e-01          0.583404  -0.083095            66             LT\n",
       "635  9.637305e-01          0.137020  -0.024946           452           MEPO\n",
       "\n",
       "[831 rows x 5 columns]"
      ]
     },
     "execution_count": 85,
     "metadata": {},
     "output_type": "execute_result"
    }
   ],
   "source": [
    "APP_PS1_corrdat.sort_values(by='p_value')"
   ]
  },
  {
   "cell_type": "code",
   "execution_count": 86,
   "metadata": {},
   "outputs": [
    {
     "data": {
      "text/plain": [
       "p_value             8.122417e-02\n",
       "p_value_constant    3.255741e-01\n",
       "r_squared           3.097970e-01\n",
       "structure_id        4.135775e+07\n",
       "dtype: float64"
      ]
     },
     "execution_count": 86,
     "metadata": {},
     "output_type": "execute_result"
    }
   ],
   "source": [
    "APP_PS1_corrdat.mean()"
   ]
  },
  {
   "cell_type": "code",
   "execution_count": 87,
   "metadata": {},
   "outputs": [
    {
     "data": {
      "text/plain": [
       "p_value             5.866415e-02\n",
       "p_value_constant    3.259346e-01\n",
       "r_squared           3.781710e-01\n",
       "structure_id        4.125845e+07\n",
       "dtype: float64"
      ]
     },
     "execution_count": 87,
     "metadata": {},
     "output_type": "execute_result"
    }
   ],
   "source": [
    "all_corrdat.mean()"
   ]
  },
  {
   "cell_type": "code",
   "execution_count": 88,
   "metadata": {},
   "outputs": [
    {
     "data": {
      "text/plain": [
       "array(['APP/PS1', 'J20', 'APP/PS1/rTg4510', 'Tg2576'], dtype=object)"
      ]
     },
     "execution_count": 88,
     "metadata": {},
     "output_type": "execute_result"
    }
   ],
   "source": [
    "dataset['Mouse Line'].unique()"
   ]
  },
  {
   "cell_type": "code",
   "execution_count": 95,
   "metadata": {},
   "outputs": [
    {
     "name": "stderr",
     "output_type": "stream",
     "text": [
      "C:\\Users\\jenniferwh\\AppData\\Local\\Continuum\\anaconda2\\lib\\site-packages\\statsmodels\\regression\\linear_model.py:1353: RuntimeWarning: divide by zero encountered in double_scalars\n",
      "  return np.dot(wresid, wresid) / self.df_resid\n"
     ]
    },
    {
     "data": {
      "text/plain": [
       "p_value             1.800023e-01\n",
       "p_value_constant    4.009699e-01\n",
       "r_squared           3.907984e-01\n",
       "structure_id        3.479050e+07\n",
       "dtype: float64"
      ]
     },
     "execution_count": 95,
     "metadata": {},
     "output_type": "execute_result"
    }
   ],
   "source": [
    "J20 = map(int, dataset[dataset['Mouse Line'] == 'J20']['Link to image series'])\n",
    "J20_corrdat = correlate_density_count(J20)\n",
    "J20_corrdat.mean()"
   ]
  },
  {
   "cell_type": "code",
   "execution_count": 104,
   "metadata": {},
   "outputs": [
    {
     "data": {
      "text/plain": [
       "p_value            NaN\n",
       "p_value_constant   NaN\n",
       "r_squared          NaN\n",
       "structure_id       NaN\n",
       "structure_name     NaN\n",
       "dtype: float64"
      ]
     },
     "execution_count": 104,
     "metadata": {},
     "output_type": "execute_result"
    }
   ],
   "source": [
    "triple = map(int, dataset[dataset['Mouse Line'] == 'APP/PS1/rTg4510']['Link to image series'])\n",
    "triple_corrdat = correlate_density_count(triple)\n",
    "triple_corrdat.mean()"
   ]
  },
  {
   "cell_type": "code",
   "execution_count": 106,
   "metadata": {},
   "outputs": [
    {
     "data": {
      "text/plain": [
       "p_value             2.146766e-01\n",
       "p_value_constant    4.074466e-01\n",
       "r_squared           4.481894e-01\n",
       "structure_id        2.953262e+07\n",
       "dtype: float64"
      ]
     },
     "execution_count": 106,
     "metadata": {},
     "output_type": "execute_result"
    }
   ],
   "source": [
    "Tg2576 = map(int, dataset[dataset['Mouse Line'] == 'Tg2576']['Link to image series'])\n",
    "Tg2576_corrdat = correlate_density_count(Tg2576)\n",
    "Tg2576_corrdat.mean()"
   ]
  },
  {
   "cell_type": "code",
   "execution_count": 127,
   "metadata": {},
   "outputs": [
    {
     "name": "stdout",
     "output_type": "stream",
     "text": [
      "3\n",
      "496\n"
     ]
    }
   ],
   "source": [
    "iso = structure_tree.get_structures_by_acronym(['Isocortex'])[0]\n",
    "hipp = structure_tree.get_structures_by_acronym(['HPF'])[0]\n",
    "ptlp = structure_tree.get_structures_by_acronym(['PTLp'])[0]\n",
    "isohipp_ids = structure_tree.descendant_ids([iso['id'], hipp['id'], ptlp['id']])\n",
    "print(len(isohipp_ids))\n",
    "isohipp_ids = [y for x in isohipp_ids for y in x]\n",
    "print(len(isohipp_ids))"
   ]
  },
  {
   "cell_type": "code",
   "execution_count": 128,
   "metadata": {},
   "outputs": [
    {
     "name": "stdout",
     "output_type": "stream",
     "text": [
      "57\n"
     ]
    }
   ],
   "source": [
    "isohipp_ids = [ids for ids in isohipp_ids if ids in summary_structure_ids]\n",
    "print(len(isohipp_ids))"
   ]
  },
  {
   "cell_type": "markdown",
   "metadata": {},
   "source": [
    "## Generate dictionary with p value per structure to see where correlation is bad"
   ]
  },
  {
   "cell_type": "code",
   "execution_count": 149,
   "metadata": {},
   "outputs": [
    {
     "data": {
      "text/html": [
       "<div>\n",
       "<table border=\"1\" class=\"dataframe\">\n",
       "  <thead>\n",
       "    <tr style=\"text-align: right;\">\n",
       "      <th></th>\n",
       "      <th>p_value</th>\n",
       "      <th>p_value_constant</th>\n",
       "      <th>r_squared</th>\n",
       "      <th>structure_id</th>\n",
       "      <th>structure_name</th>\n",
       "    </tr>\n",
       "  </thead>\n",
       "  <tbody>\n",
       "    <tr>\n",
       "      <th>0</th>\n",
       "      <td>1.195622e-10</td>\n",
       "      <td>0.982939</td>\n",
       "      <td>0.363889</td>\n",
       "      <td>4</td>\n",
       "      <td>IC</td>\n",
       "    </tr>\n",
       "    <tr>\n",
       "      <th>1</th>\n",
       "      <td>6.365705e-14</td>\n",
       "      <td>0.319952</td>\n",
       "      <td>0.487955</td>\n",
       "      <td>6</td>\n",
       "      <td>int</td>\n",
       "    </tr>\n",
       "    <tr>\n",
       "      <th>2</th>\n",
       "      <td>9.952395e-17</td>\n",
       "      <td>0.828000</td>\n",
       "      <td>0.602571</td>\n",
       "      <td>7</td>\n",
       "      <td>PSV</td>\n",
       "    </tr>\n",
       "    <tr>\n",
       "      <th>3</th>\n",
       "      <td>1.861758e-23</td>\n",
       "      <td>0.853529</td>\n",
       "      <td>0.677675</td>\n",
       "      <td>8</td>\n",
       "      <td>grey</td>\n",
       "    </tr>\n",
       "    <tr>\n",
       "      <th>4</th>\n",
       "      <td>1.260588e-14</td>\n",
       "      <td>0.924326</td>\n",
       "      <td>0.542067</td>\n",
       "      <td>9</td>\n",
       "      <td>SSp-tr6a</td>\n",
       "    </tr>\n",
       "  </tbody>\n",
       "</table>\n",
       "</div>"
      ],
      "text/plain": [
       "        p_value  p_value_constant  r_squared  structure_id structure_name\n",
       "0  1.195622e-10          0.982939   0.363889             4             IC\n",
       "1  6.365705e-14          0.319952   0.487955             6            int\n",
       "2  9.952395e-17          0.828000   0.602571             7            PSV\n",
       "3  1.861758e-23          0.853529   0.677675             8           grey\n",
       "4  1.260588e-14          0.924326   0.542067             9       SSp-tr6a"
      ]
     },
     "execution_count": 149,
     "metadata": {},
     "output_type": "execute_result"
    }
   ],
   "source": [
    "all_corrdat.head()"
   ]
  },
  {
   "cell_type": "code",
   "execution_count": 151,
   "metadata": {
    "collapsed": true
   },
   "outputs": [],
   "source": [
    "structure_vals = dict(zip(all_corrdat['structure_id'], all_corrdat['p_value']))"
   ]
  },
  {
   "cell_type": "code",
   "execution_count": 152,
   "metadata": {},
   "outputs": [
    {
     "data": {
      "text/plain": [
       "4.399648713274218e-20"
      ]
     },
     "execution_count": 152,
     "metadata": {},
     "output_type": "execute_result"
    }
   ],
   "source": [
    "structure_vals[315]"
   ]
  },
  {
   "cell_type": "code",
   "execution_count": 153,
   "metadata": {},
   "outputs": [
    {
     "name": "stdout",
     "output_type": "stream",
     "text": [
      "(528L, 320L, 456L)\n",
      "[0 1]\n"
     ]
    },
    {
     "data": {
      "image/png": "[encoded data removed]",
      "text/plain": [
       "<matplotlib.figure.Figure at 0x1c147908>"
      ]
     },
     "metadata": {},
     "output_type": "display_data"
    }
   ],
   "source": [
    "mask, _ = mcc.get_structure_mask(997)\n",
    "print(mask.shape)\n",
    "plt.imshow(mask[200])\n",
    "print(np.unique(mask))"
   ]
  },
  {
   "cell_type": "code",
   "execution_count": 154,
   "metadata": {},
   "outputs": [
    {
     "data": {
      "text/plain": [
       "[315, 698, 1089, 703, 477, 803, 549, 1097, 313, 771, 354, 512]"
      ]
     },
     "execution_count": 154,
     "metadata": {},
     "output_type": "execute_result"
    }
   ],
   "source": [
    "coarse_structure_ids"
   ]
  },
  {
   "cell_type": "code",
   "execution_count": 155,
   "metadata": {},
   "outputs": [
    {
     "name": "stdout",
     "output_type": "stream",
     "text": [
      "[  0.00000000e+00   3.87015566e-26   1.33261812e-24   5.86939543e-24\n",
      "   1.32028063e-22   1.01256946e-20   4.39964871e-20   1.78478711e-18\n",
      "   2.71215951e-18   2.30725556e-17   3.04204796e-17   6.03911680e-14\n",
      "   2.34924260e-08]\n"
     ]
    },
    {
     "data": {
      "text/plain": [
       "<matplotlib.image.AxesImage at 0x29d5f438>"
      ]
     },
     "execution_count": 155,
     "metadata": {},
     "output_type": "execute_result"
    },
    {
     "data": {
      "image/png": "[encoded data removed]",
      "text/plain": [
       "<matplotlib.figure.Figure at 0x2967fc50>"
      ]
     },
     "metadata": {},
     "output_type": "display_data"
    }
   ],
   "source": [
    "mask, _ = mcc.get_structure_mask(997)\n",
    "newmask = np.zeros(mask.shape)\n",
    "for structure in coarse_structure_ids:\n",
    "    structure_mask, _ = mcc.get_structure_mask(structure)\n",
    "    newval = structure_vals[structure]\n",
    "    newmask[np.where(structure_mask)] = newval\n",
    "print(np.unique(newmask))\n",
    "plt.imshow(newmask[300])"
   ]
  },
  {
   "cell_type": "code",
   "execution_count": 156,
   "metadata": {},
   "outputs": [
    {
     "data": {
      "text/plain": [
       "<matplotlib.image.AxesImage at 0x29f4ca90>"
      ]
     },
     "execution_count": 156,
     "metadata": {},
     "output_type": "execute_result"
    },
    {
     "data": {
      "image/png": "[encoded data removed]",
      "text/plain": [
       "<matplotlib.figure.Figure at 0x29b17828>"
      ]
     },
     "metadata": {},
     "output_type": "display_data"
    }
   ],
   "source": [
    "plt.imshow(newmask[:,200,:])"
   ]
  },
  {
   "cell_type": "code",
   "execution_count": 157,
   "metadata": {},
   "outputs": [
    {
     "data": {
      "text/plain": [
       "<matplotlib.image.AxesImage at 0x53293940>"
      ]
     },
     "execution_count": 157,
     "metadata": {},
     "output_type": "execute_result"
    },
    {
     "data": {
      "image/png": "[encoded data removed]",
      "text/plain": [
       "<matplotlib.figure.Figure at 0x52e2d940>"
      ]
     },
     "metadata": {},
     "output_type": "display_data"
    }
   ],
   "source": [
    "plt.imshow(newmask[:,:,100])"
   ]
  },
  {
   "cell_type": "code",
   "execution_count": 158,
   "metadata": {},
   "outputs": [
    {
     "data": {
      "text/plain": [
       "(528L, 320L, 456L)"
      ]
     },
     "execution_count": 158,
     "metadata": {},
     "output_type": "execute_result"
    }
   ],
   "source": [
    "newmask.shape"
   ]
  },
  {
   "cell_type": "code",
   "execution_count": 159,
   "metadata": {},
   "outputs": [
    {
     "data": {
      "text/plain": [
       "array([  0.00000000e+00,   3.87015566e-26,   1.33261812e-24,\n",
       "         5.86939543e-24,   1.32028063e-22,   1.01256946e-20,\n",
       "         4.39964871e-20,   1.78478711e-18,   2.71215951e-18,\n",
       "         2.30725556e-17,   3.04204796e-17,   6.03911680e-14,\n",
       "         2.34924260e-08])"
      ]
     },
     "execution_count": 159,
     "metadata": {},
     "output_type": "execute_result"
    }
   ],
   "source": [
    "np.unique(newmask)"
   ]
  },
  {
   "cell_type": "code",
   "execution_count": 160,
   "metadata": {},
   "outputs": [
    {
     "name": "stdout",
     "output_type": "stream",
     "text": [
      "[  0   1   2   3   4   5   6   7   8   9  10  11  12  15  16  17  18  21\n",
      "  22  26  27  28  30  32  35  36  37  39  40  42  43  44  46  47  54  55\n",
      "  56  57  60  61  63  64  66  71  74  75  82  86  91 102 104 105 108 109\n",
      " 112 131 134 137 140 147 151 157 160 163 165 166 172 177 182 202 209 226\n",
      " 228 232]\n"
     ]
    },
    {
     "data": {
      "text/plain": [
       "<matplotlib.image.AxesImage at 0x535f32b0>"
      ]
     },
     "execution_count": 160,
     "metadata": {},
     "output_type": "execute_result"
    },
    {
     "data": {
      "image/png": "[encoded data removed]",
      "text/plain": [
       "<matplotlib.figure.Figure at 0x53368240>"
      ]
     },
     "metadata": {},
     "output_type": "display_data"
    }
   ],
   "source": [
    "# This takes forever to run\n",
    "mask, _ = mcc.get_structure_mask(997)\n",
    "newmask = np.zeros_like(mask)\n",
    "for structure in summary_structure_ids:\n",
    "    structure_mask, _ = mcc.get_structure_mask(structure)\n",
    "    newval = structure_vals[structure]*10000\n",
    "    newmask[np.where(structure_mask)] = newval\n",
    "print(np.unique(newmask))\n",
    "plt.imshow(newmask[300])"
   ]
  },
  {
   "cell_type": "code",
   "execution_count": 166,
   "metadata": {},
   "outputs": [
    {
     "data": {
      "text/plain": [
       "<matplotlib.image.AxesImage at 0x4eef0588>"
      ]
     },
     "execution_count": 166,
     "metadata": {},
     "output_type": "execute_result"
    },
    {
     "data": {
      "image/png": "[encoded data removed]",
      "text/plain": [
       "<matplotlib.figure.Figure at 0x4ebdf1d0>"
      ]
     },
     "metadata": {},
     "output_type": "display_data"
    }
   ],
   "source": [
    "plt.imshow(newmask[:,155,:])"
   ]
  },
  {
   "cell_type": "code",
   "execution_count": 162,
   "metadata": {},
   "outputs": [
    {
     "data": {
      "text/plain": [
       "<matplotlib.image.AxesImage at 0x539abf28>"
      ]
     },
     "execution_count": 162,
     "metadata": {},
     "output_type": "execute_result"
    },
    {
     "data": {
      "image/png": "[encoded data removed]",
      "text/plain": [
       "<matplotlib.figure.Figure at 0x535f3be0>"
      ]
     },
     "metadata": {},
     "output_type": "display_data"
    }
   ],
   "source": [
    "plt.imshow(newmask[:,:,250])"
   ]
  },
  {
   "cell_type": "code",
   "execution_count": 168,
   "metadata": {},
   "outputs": [],
   "source": [
    "from matplotlib import cm\n",
    "structure_rgb_vals = structure_vals.copy()\n",
    "for key in structure_rgb_vals:\n",
    "    structure_rgb_vals[key] = tuple([255*i for i in cm.inferno(structure_vals[key]*50)[:3]])\n",
    "structure_rgb_vals[0] = [0.0, 0.0, 0.0]"
   ]
  },
  {
   "cell_type": "code",
   "execution_count": 169,
   "metadata": {},
   "outputs": [
    {
     "data": {
      "text/plain": [
       "<matplotlib.image.AxesImage at 0x4f3c9128>"
      ]
     },
     "execution_count": 169,
     "metadata": {},
     "output_type": "execute_result"
    },
    {
     "data": {
      "image/png": "[encoded data removed]",
      "text/plain": [
       "<matplotlib.figure.Figure at 0x291329e8>"
      ]
     },
     "metadata": {},
     "output_type": "display_data"
    }
   ],
   "source": [
    "reference_space =  mcc.get_reference_space()\n",
    "slice_image = reference_space.get_slice_image(1, 6000, structure_rgb_vals) # this method wants an axis and a position in microns\n",
    "plt.imshow(slice_image)"
   ]
  },
  {
   "cell_type": "code",
   "execution_count": null,
   "metadata": {
    "collapsed": true
   },
   "outputs": [],
   "source": []
  }
 ],
 "metadata": {
  "kernelspec": {
   "display_name": "Python 2",
   "language": "python",
   "name": "python2"
  },
  "language_info": {
   "codemirror_mode": {
    "name": "ipython",
    "version": 2
   },
   "file_extension": ".py",
   "mimetype": "text/x-python",
   "name": "python",
   "nbconvert_exporter": "python",
   "pygments_lexer": "ipython2",
   "version": "2.7.14"
  }
 },
 "nbformat": 4,
 "nbformat_minor": 2
}
