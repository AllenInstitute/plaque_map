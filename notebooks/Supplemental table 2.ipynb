{
 "cells": [
  {
   "cell_type": "code",
   "execution_count": null,
   "metadata": {},
   "outputs": [],
   "source": [
    "import os\n",
    "import pandas as pd\n",
    "\n",
    "from allensdk.core.mouse_connectivity_cache import MouseConnectivityCache"
   ]
  },
  {
   "cell_type": "code",
   "execution_count": null,
   "metadata": {},
   "outputs": [],
   "source": [
    "path = r'C:\\Users\\jenniferwh\\Dropbox (Allen Institute)\\Mesoscale Connectome Papers in Progress\\2018 Plaque\\unionizes'\n",
    "savepath = r'C:\\Users\\jenniferwh\\Dropbox (Allen Institute)\\Mesoscale Connectome Papers in Progress\\2018 Plaque\\_JCN submission\\supplementary tables'"
   ]
  },
  {
   "cell_type": "code",
   "execution_count": null,
   "metadata": {},
   "outputs": [],
   "source": [
    "dat = pd.read_csv(os.path.join(path, 'plaque_unionizes.csv'))"
   ]
  },
  {
   "cell_type": "code",
   "execution_count": null,
   "metadata": {},
   "outputs": [],
   "source": [
    "len(dat['image_series_id'].unique())"
   ]
  },
  {
   "cell_type": "code",
   "execution_count": null,
   "metadata": {},
   "outputs": [],
   "source": [
    "output_dat = dat[['mouse_line', 'age_group', 'structure_acronym', 'sum_plaques', 'plaque_density']]"
   ]
  },
  {
   "cell_type": "code",
   "execution_count": null,
   "metadata": {},
   "outputs": [],
   "source": [
    "s_table_2 = output_dat.groupby(['mouse_line', 'age_group', 'structure_acronym']).median().reset_index()"
   ]
  },
  {
   "cell_type": "code",
   "execution_count": null,
   "metadata": {},
   "outputs": [],
   "source": [
    "s_table_2.head()"
   ]
  },
  {
   "cell_type": "code",
   "execution_count": null,
   "metadata": {},
   "outputs": [],
   "source": [
    "s_table_2.rename(columns = {'sum_plaques': 'median_plaque_count',\n",
    "                           'plaque_density':'median_plaque_density'}, inplace = True)"
   ]
  },
  {
   "cell_type": "code",
   "execution_count": null,
   "metadata": {},
   "outputs": [],
   "source": [
    "s_table_2.head()"
   ]
  },
  {
   "cell_type": "code",
   "execution_count": null,
   "metadata": {},
   "outputs": [],
   "source": [
    "s_table_2['first_quartile_plaque_density'] = output_dat.groupby(\n",
    "    ['mouse_line', 'age_group', 'structure_acronym']).quantile(.25)['plaque_density'].values"
   ]
  },
  {
   "cell_type": "code",
   "execution_count": null,
   "metadata": {},
   "outputs": [],
   "source": [
    "s_table_2['third_quartile_plaque_density'] = output_dat.groupby(\n",
    "    ['mouse_line', 'age_group', 'structure_acronym']).quantile(.75)['plaque_density'].values"
   ]
  },
  {
   "cell_type": "code",
   "execution_count": null,
   "metadata": {},
   "outputs": [],
   "source": [
    "s_table_2['minimum_plaque_density'] = output_dat.groupby(\n",
    "    ['mouse_line', 'age_group', 'structure_acronym']).min()['plaque_density'].values"
   ]
  },
  {
   "cell_type": "code",
   "execution_count": null,
   "metadata": {},
   "outputs": [],
   "source": [
    "s_table_2['maximum_plaque_density'] = output_dat.groupby(\n",
    "    ['mouse_line', 'age_group', 'structure_acronym']).max()['plaque_density'].values"
   ]
  },
  {
   "cell_type": "code",
   "execution_count": null,
   "metadata": {},
   "outputs": [],
   "source": [
    "s_table_2.head()"
   ]
  },
  {
   "cell_type": "code",
   "execution_count": null,
   "metadata": {},
   "outputs": [],
   "source": [
    "s_table_2.to_csv(os.path.join(savepath, 'Supplementary Table 2 Plaque Density and Count.csv'), index=False)"
   ]
  },
  {
   "cell_type": "code",
   "execution_count": null,
   "metadata": {},
   "outputs": [],
   "source": [
    "mcc = MouseConnectivityCache(manifest_file = '../connectivity/mouse_connectivity_manifest.json')"
   ]
  },
  {
   "cell_type": "code",
   "execution_count": null,
   "metadata": {},
   "outputs": [],
   "source": [
    "st = mcc.get_structure_tree()\n",
    "coarse_structures = st.get_structures_by_set_id([687527670])\n",
    "coarse_structure_ids = [item['id'] for item in coarse_structures]\n",
    "coarse_structure_acronyms = [item['acronym'] for item in coarse_structures]\n",
    "ft = st.get_structures_by_acronym(['fiber tracts'])\n",
    "coarse_structure_ids.append(ft[0]['id'])\n",
    "coarse_structure_acronyms.append(ft[0]['acronym'])\n",
    "print(len(coarse_structure_ids))"
   ]
  },
  {
   "cell_type": "code",
   "execution_count": null,
   "metadata": {},
   "outputs": [],
   "source": [
    "ss = st.get_structures_by_set_id([167587189])\n",
    "ss_acronyms = [item['acronym'] for item in ss]\n",
    "ss_ids = [item['id'] for item in ss]\n",
    "print(len(ss_acronyms))"
   ]
  },
  {
   "cell_type": "code",
   "execution_count": null,
   "metadata": {},
   "outputs": [],
   "source": []
  }
 ],
 "metadata": {
  "kernelspec": {
   "display_name": "Python 2",
   "language": "python",
   "name": "python2"
  },
  "language_info": {
   "codemirror_mode": {
    "name": "ipython",
    "version": 2
   },
   "file_extension": ".py",
   "mimetype": "text/x-python",
   "name": "python",
   "nbconvert_exporter": "python",
   "pygments_lexer": "ipython2",
   "version": "2.7.14"
  }
 },
 "nbformat": 4,
 "nbformat_minor": 2
}
