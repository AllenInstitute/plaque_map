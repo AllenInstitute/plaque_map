{
 "cells": [
  {
   "cell_type": "code",
   "execution_count": null,
   "metadata": {},
   "outputs": [],
   "source": [
    "import pandas as pd\n",
    "import numpy as np\n",
    "import sqlite3\n",
    "import os\n",
    "\n",
    "from allensdk.api.queries.ontologies_api import OntologiesApi\n",
    "from allensdk.core.mouse_connectivity_cache import MouseConnectivityCache\n",
    "\n",
    "import matplotlib.pyplot as plt\n",
    "import seaborn as sns\n",
    "%matplotlib inline\n",
    "\n",
    "\n",
    "import matplotlib as mpl\n",
    "mpl.rcParams['pdf.fonttype'] = 42"
   ]
  },
  {
   "cell_type": "code",
   "execution_count": null,
   "metadata": {},
   "outputs": [],
   "source": [
    "path = r'/Users/jenniferwh/Dropbox (Allen Institute)/Mesoscale Connectome Papers in Progress/2018 Plaque'"
   ]
  },
  {
   "cell_type": "code",
   "execution_count": null,
   "metadata": {},
   "outputs": [],
   "source": [
    "conn = sqlite3.connect(r\"\\\\allen\\aibs\\ccf\\Maitham\\Alzheimer_Data\\jennifer_structure_data.db\")\n",
    "dframe = pd.read_sql_query(r\"select * from correct_volumes\", conn)"
   ]
  },
  {
   "cell_type": "code",
   "execution_count": null,
   "metadata": {},
   "outputs": [],
   "source": [
    "dat = dframe[dframe['Side'] != 'l']"
   ]
  },
  {
   "cell_type": "code",
   "execution_count": null,
   "metadata": {},
   "outputs": [],
   "source": [
    "dat.head()"
   ]
  },
  {
   "cell_type": "code",
   "execution_count": null,
   "metadata": {},
   "outputs": [],
   "source": [
    "len(dat['Image_Series_ID'].unique())"
   ]
  },
  {
   "cell_type": "code",
   "execution_count": null,
   "metadata": {},
   "outputs": [],
   "source": [
    "mcc = MouseConnectivityCache(manifest_file='../connectivity/mouse_connectivity_manifest.json',\n",
    "                            resolution=25) # Switch to 25 um for visualizations\n",
    "oapi = OntologiesApi()\n",
    "summary_structures = oapi.get_structures(structure_set_names=\"'Mouse Connectivity - Summary'\")\n",
    "summary_structure_ids = [item['id'] for item in summary_structures]\n",
    "print(len(summary_structure_ids))\n",
    "coarse_structures = oapi.get_structures(structure_set_names=\"'Mouse - Coarse'\")\n",
    "coarse_structure_ids = [item['id'] for item in coarse_structures]\n",
    "print(len(coarse_structure_ids))\n",
    "structures = summary_structure_ids + coarse_structure_ids + [997]"
   ]
  },
  {
   "cell_type": "code",
   "execution_count": null,
   "metadata": {},
   "outputs": [],
   "source": [
    "structure_tree = mcc.get_structure_tree()\n",
    "ia_map = structure_tree.get_id_acronym_map()\n",
    "ai_map = {value:key for key, value in ia_map.iteritems()}"
   ]
  },
  {
   "cell_type": "code",
   "execution_count": null,
   "metadata": {},
   "outputs": [],
   "source": [
    "meta = pd.read_csv(os.path.join(path, 'T503 animal tracking sheet.csv'))\n",
    "print(len(meta))"
   ]
  },
  {
   "cell_type": "code",
   "execution_count": null,
   "metadata": {},
   "outputs": [],
   "source": [
    "meta.keys()"
   ]
  },
  {
   "cell_type": "code",
   "execution_count": null,
   "metadata": {},
   "outputs": [],
   "source": [
    "dataset = meta[meta['Deformation fields call (R hemisphere)'] == 'Pass']\n",
    "print(len(dataset))\n",
    "isids = [int(value) for value in dataset['Link to images in LIMS']]\n",
    "print(len(isids))\n",
    "dataset['image_series_id'] = isids"
   ]
  },
  {
   "cell_type": "code",
   "execution_count": null,
   "metadata": {},
   "outputs": [],
   "source": [
    "dat[~dat['Image_Series_ID'].isin(dataset['image_series_id'])]['Image_Series_ID'].unique()\n",
    "# This looks good - these both should be failed."
   ]
  },
  {
   "cell_type": "code",
   "execution_count": null,
   "metadata": {},
   "outputs": [],
   "source": [
    "dataset_ids = dat['Image_Series_ID'].unique()\n",
    "print(len(dataset_ids))\n",
    "\n",
    "dataset = dataset[dataset['image_series_id'].isin(dataset_ids)]\n",
    "dataset = dataset[dataset['image_series_id'] != 549363956] #failing this one\n",
    "print(len(dataset))"
   ]
  },
  {
   "cell_type": "code",
   "execution_count": null,
   "metadata": {},
   "outputs": [],
   "source": [
    "dataset.Experiment.unique()"
   ]
  },
  {
   "cell_type": "code",
   "execution_count": null,
   "metadata": {},
   "outputs": [],
   "source": [
    "dataset[dataset['Experiment'] == 'Filter PIlot']"
   ]
  },
  {
   "cell_type": "code",
   "execution_count": null,
   "metadata": {},
   "outputs": [],
   "source": [
    "dataset.loc[dataset['Specimen ID'].str.contains('APP/PS1'), 'Mouse Line'] = 'APP/PS1'\n",
    "dataset.loc[dataset['Specimen ID'].str.contains('APP_PS1'), 'Mouse Line'] = 'APP/PS1'\n",
    "dataset.loc[dataset['Specimen ID'].str.contains('J20'), 'Mouse Line'] = 'J20'\n",
    "dataset.loc[dataset['Specimen ID'].str.contains('Tg2576'), 'Mouse Line'] = 'Tg2576'\n",
    "dataset.loc[dataset['Specimen ID'].str.contains('rTg4510'), 'Mouse Line'] = 'APP/PS1/rTg4510'\n",
    "dataset.loc[dataset['Specimen ID'].str.contains('Cre'), 'Mouse Line'] = 'APP/PS1/Cre'"
   ]
  },
  {
   "cell_type": "code",
   "execution_count": null,
   "metadata": {},
   "outputs": [],
   "source": [
    "dataset[dataset['Mouse Line'].isnull()]['Specimen ID']"
   ]
  },
  {
   "cell_type": "code",
   "execution_count": null,
   "metadata": {},
   "outputs": [],
   "source": [
    "dataset['Mouse Line'].unique()"
   ]
  },
  {
   "cell_type": "code",
   "execution_count": null,
   "metadata": {},
   "outputs": [],
   "source": [
    "dataset[dataset['Mouse Line'] == 'APP/PS1/rTg4510']['Dataset']"
   ]
  },
  {
   "cell_type": "code",
   "execution_count": null,
   "metadata": {},
   "outputs": [],
   "source": [
    "dataset.loc[dataset['image_series_id'].isin([501931571, 505146658, 505147620, 505270489, 504727983,\n",
    "                                                  514738621, 515754694, 515755412, 515917061, 519142254,\n",
    "                                                  519726404, 519730753, 525771071, 525793327, 525794145,\n",
    "                                                  526187745, 526188472, 526189182, 530695533, 584513037,\n",
    "                                                  588346881, 588185697, 588668135, 588521040, 589702175,\n",
    "                                                  591392216, 591394969, 591392970, 591533591, 591536022,\n",
    "                                                  685071020, 688072968, 652523559, 686682385, 697635588]),\n",
    "                                           'group'] = 'control'\n",
    "print(len(dataset[dataset['group'] == 'control']))\n",
    "dataset.loc[dataset['image_series_id'].isin([650144906, 690736862, 692167387, 698112037]), 'group'] = 'APP'\n",
    "print(len(dataset[dataset['group'] == 'APP']))\n",
    "dataset.loc[dataset['image_series_id'].isin([650144198, 682198929, 683620148]), 'group'] = 'tau'\n",
    "print(len(dataset[dataset['group'] == 'tau']))\n",
    "dataset.loc[dataset['image_series_id'].isin([682203974, 693151433, 693665781]), 'group'] = 'APP/tau'\n",
    "print(len(dataset[dataset['group'] == 'APP/tau']))"
   ]
  },
  {
   "cell_type": "code",
   "execution_count": null,
   "metadata": {},
   "outputs": [],
   "source": [
    "dataset = dataset[~dataset['group'].isnull()]\n",
    "print(len(dataset))"
   ]
  },
  {
   "cell_type": "code",
   "execution_count": null,
   "metadata": {},
   "outputs": [],
   "source": [
    "dataset['group'].unique()"
   ]
  },
  {
   "cell_type": "code",
   "execution_count": null,
   "metadata": {},
   "outputs": [],
   "source": [
    "def get_structure_data(structure):\n",
    "    structure_id = ia_map[structure]\n",
    "    volume = []\n",
    "    groups = []\n",
    "    for group in dataset['group'].unique():\n",
    "        isids = dataset[(dataset['group'] == group)]['image_series_id'].values\n",
    "        for isid in isids:\n",
    "            groups.append(group)\n",
    "            volume.append(dat[(dat['Structure_ID'] == structure_id) & \n",
    "                                         (dat['Image_Series_ID'] == isid)]\n",
    "                                     ['Volume'].values[0])\n",
    "    structuredat = pd.DataFrame({'structure': structure, \n",
    "                                 'group': groups, 'volume': volume})\n",
    "    return structuredat\n",
    "\n",
    "def get_relative_structure_data(structures):\n",
    "    structure_ids = structures\n",
    "    refisids = dataset[(dataset['group'] == 'control')]['image_series_id'].values\n",
    "    volumes = []\n",
    "    structures = []\n",
    "    groups = []\n",
    "    for structure_id in structure_ids:\n",
    "        refvolume = dat[(dat['Structure_ID'] == structure_id) & \n",
    "                                         (dat['Image_Series_ID'].isin(refisids))]['Volume'].mean()\n",
    "        for group in dataset['group'].unique():\n",
    "            if group != 'control':\n",
    "                isids = dataset[(dataset['group'] == group)]['image_series_id'].values\n",
    "                for isid in isids:\n",
    "                    structures.append(ai_map[structure_id])\n",
    "                    groups.append(group)\n",
    "                    volume = dat[(dat['Structure_ID'] == structure_id) & \n",
    "                                         (dat['Image_Series_ID'] == isid)]['Volume'].values[0]\n",
    "                    volumes.append((volume/refvolume)*100)\n",
    "    structuredat = pd.DataFrame({'structure': structures, \n",
    "                                 'group': groups, 'volume': volumes})\n",
    "    return structuredat"
   ]
  },
  {
   "cell_type": "code",
   "execution_count": null,
   "metadata": {},
   "outputs": [],
   "source": [
    "pltdat = pd.DataFrame(columns={'group', 'volume', 'structure'})\n",
    "for structure in coarse_structure_ids:\n",
    "    structure_acronym = ai_map[structure]\n",
    "    pltdat = pd.concat([pltdat, get_structure_data(structure_acronym)])\n",
    "pltdat = pd.concat([pltdat, get_structure_data('fiber tracts')])\n",
    "mdf = pd.melt(pltdat, id_vars = ['structure', 'group'], value_name = 'structure volume')"
   ]
  },
  {
   "cell_type": "code",
   "execution_count": null,
   "metadata": {},
   "outputs": [],
   "source": [
    "mdf.tail()"
   ]
  },
  {
   "cell_type": "code",
   "execution_count": null,
   "metadata": {},
   "outputs": [],
   "source": [
    "fig, ax = plt.subplots(1, figsize = (15, 5))\n",
    "g = sns.violinplot('structure', 'structure volume', hue = 'group', data = mdf, ax=ax, font_size = 20)\n",
    "g.set_title('Volume of major structure divisions in 12 mo mice', fontsize=30)\n",
    "g.set_xlabel('Structure', fontsize=20)\n",
    "g.set_ylabel('Volume', fontsize=20)\n",
    "g.tick_params(labelsize=20)\n",
    "plt.tight_layout()\n",
    "plt.savefig(os.path.join(path, 'boxplots major brain divisions volume by line.pdf'), \n",
    "            bbox_inches='tight', pad_inches=0.3, format='pdf', transparent = True, dpi=1000)"
   ]
  },
  {
   "cell_type": "code",
   "execution_count": null,
   "metadata": {},
   "outputs": [],
   "source": [
    "pltdat = get_relative_structure_data(coarse_structure_ids)\n",
    "pltdat.head()"
   ]
  },
  {
   "cell_type": "code",
   "execution_count": null,
   "metadata": {},
   "outputs": [],
   "source": [
    "fig, ax = plt.subplots(1, figsize = (15, 5))\n",
    "g = sns.swarmplot('structure', 'volume', hue = 'group', data = pltdat, ax=ax, s=10)\n",
    "ax.axhline(y=100, xmin=0, xmax=100, color = 'grey', linestyle = 'dashed', zorder = -1)\n",
    "g.set_title('Volume of major structure divisions in 12 mo mice relative to control', \n",
    "            fontsize=20)\n",
    "g.set_xlabel('Structure', fontsize=20)\n",
    "g.set_ylabel('Volume (percent of control)', fontsize=20)\n",
    "g.tick_params(labelsize=20)\n",
    "plt.subplots_adjust(top=1.2)\n",
    "plt.legend(loc=4)\n",
    "plt.tight_layout()\n",
    "plt.savefig(os.path.join(path, 'boxplots major brain divisions relative volume by line.pdf'), \n",
    "            bbox_inches='tight', pad_inches=0.3, format='pdf', transparent = True, dpi=1000)"
   ]
  },
  {
   "cell_type": "code",
   "execution_count": null,
   "metadata": {},
   "outputs": [],
   "source": []
  }
 ],
 "metadata": {
  "kernelspec": {
   "display_name": "Python 2",
   "language": "python",
   "name": "python2"
  },
  "language_info": {
   "codemirror_mode": {
    "name": "ipython",
    "version": 2
   },
   "file_extension": ".py",
   "mimetype": "text/x-python",
   "name": "python",
   "nbconvert_exporter": "python",
   "pygments_lexer": "ipython2",
   "version": "2.7.14"
  }
 },
 "nbformat": 4,
 "nbformat_minor": 2
}
