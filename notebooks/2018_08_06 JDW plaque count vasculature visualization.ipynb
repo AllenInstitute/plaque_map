{
 "cells": [
  {
   "cell_type": "code",
   "execution_count": null,
   "metadata": {},
   "outputs": [],
   "source": [
    "import os\n",
    "import pandas as pd\n",
    "\n",
    "import matplotlib.pyplot as plt\n",
    "%matplotlib inline\n",
    "import numpy as np\n",
    "import nrrd\n",
    "\n",
    "import seaborn as sns\n",
    "sns.set_context('poster')\n",
    "sns.set_style('white')\n",
    "\n",
    "import matplotlib as mpl\n",
    "mpl.rcParams['pdf.fonttype'] = 42\n",
    "\n",
    "from allensdk.core.mouse_connectivity_cache import MouseConnectivityCache"
   ]
  },
  {
   "cell_type": "code",
   "execution_count": null,
   "metadata": {},
   "outputs": [],
   "source": [
    "savepath = r\"C:\\Users\\jenniferwh\\Dropbox (Allen Institute)\\Mesoscale Connectome Papers in Progress\\2018 Plaque\\figures\""
   ]
  },
  {
   "cell_type": "code",
   "execution_count": null,
   "metadata": {},
   "outputs": [],
   "source": [
    "grid, _ = nrrd.read(r'\\\\allen\\programs\\celltypes\\production\\ctyconn\\prod24\\image_series_651704307\\grid\\plaque\\projection_density_10.nrrd')"
   ]
  },
  {
   "cell_type": "code",
   "execution_count": null,
   "metadata": {},
   "outputs": [],
   "source": [
    "count, _ = nrrd.read(r\"\\\\allen\\programs\\celltypes\\workgroups\\mousecelltypes\\T503_Connectivity_in_Alzheimer_Mice\\Joseph\\plaque_densities\\output_7-27\\experiment_651704307\\plaque_labeling.nrrd\")"
   ]
  },
  {
   "cell_type": "code",
   "execution_count": null,
   "metadata": {},
   "outputs": [],
   "source": [
    "grid.shape"
   ]
  },
  {
   "cell_type": "code",
   "execution_count": null,
   "metadata": {},
   "outputs": [],
   "source": [
    "count.shape"
   ]
  },
  {
   "cell_type": "code",
   "execution_count": null,
   "metadata": {},
   "outputs": [],
   "source": [
    "plt.imshow(grid[500])"
   ]
  },
  {
   "cell_type": "code",
   "execution_count": null,
   "metadata": {},
   "outputs": [],
   "source": [
    "mcc = MouseConnectivityCache(resolution = 10, manifest_file = '..\\connectivity\\mouse_connectivity_manifest.json')"
   ]
  },
  {
   "cell_type": "code",
   "execution_count": null,
   "metadata": {},
   "outputs": [],
   "source": [
    "template, _ = mcc.get_template_volume()"
   ]
  },
  {
   "cell_type": "code",
   "execution_count": null,
   "metadata": {},
   "outputs": [],
   "source": [
    "cmap = plt.cm.prism\n",
    "cmap.set_under(color='black')    "
   ]
  },
  {
   "cell_type": "code",
   "execution_count": null,
   "metadata": {},
   "outputs": [],
   "source": [
    "index = 703\n",
    "fig, ax = plt.subplots(1, 2, figsize =(8, 10))\n",
    "ax[0].imshow(template[index][25:300, 325:600], cmap = 'gray')\n",
    "ax[0].imshow(grid[index][25:300, 325:600], cmap = 'Greys_r', alpha = 0.5)\n",
    "ax[0].get_xaxis().set_visible(False)\n",
    "ax[0].get_yaxis().set_visible(False)\n",
    "ax[1].imshow(template[index][25:300, 325:600], cmap = 'gray')\n",
    "ax[1].imshow(count[index][25:300, 325:600], cmap = cmap, vmin = 0.00000001, alpha = 0.3)\n",
    "ax[1].imshow(grid[index][25:300, 325:600], cmap = 'Greys_r', alpha = 0.4)\n",
    "ax[1].get_xaxis().set_visible(False)\n",
    "ax[1].get_yaxis().set_visible(False)\n",
    "plt.tight_layout()\n",
    "plt.savefig(os.path.join(savepath, 'plaque_counting_figure.png'), dpi=300, bbox_inches='tight')"
   ]
  },
  {
   "cell_type": "code",
   "execution_count": null,
   "metadata": {},
   "outputs": [],
   "source": [
    "index = 530\n",
    "fig, ax = plt.subplots(1, 2, figsize =(8, 10))\n",
    "ax[0].imshow(np.flip(np.rot90(template[:,:,index][300:700, 0:400]), 0), cmap = 'gray')\n",
    "ax[0].imshow(np.flip(np.rot90(grid[:,:,index][300:700, 0:400]), 0), cmap = 'Greys_r', alpha = 0.5)\n",
    "ax[0].get_xaxis().set_visible(False)\n",
    "ax[0].get_yaxis().set_visible(False)\n",
    "ax[1].imshow(np.flip(np.rot90(template[:,:,index][300:700, 0:400]), 0), cmap = 'gray')\n",
    "ax[1].imshow(np.flip(np.rot90(count[:,:,index][300:700, 0:400]), 0), cmap = cmap, vmin = 0.00000001, alpha = 0.3)\n",
    "ax[1].imshow(np.flip(np.rot90(grid[:,:,index][300:700, 0:400]), 0), cmap = 'Greys_r', alpha = 0.4)\n",
    "ax[1].get_xaxis().set_visible(False)\n",
    "ax[1].get_yaxis().set_visible(False)\n",
    "plt.tight_layout()\n",
    "plt.savefig(os.path.join(savepath, 'plaque_counting_figure_sag.png'), dpi=300, bbox_inches='tight')"
   ]
  },
  {
   "cell_type": "code",
   "execution_count": null,
   "metadata": {},
   "outputs": [],
   "source": [
    "J20, _ = nrrd.read(r'\\\\allen\\programs\\celltypes\\production\\ctyconn\\prod31\\image_series_695358527\\grid\\plaque\\projection_density_10.nrrd')"
   ]
  },
  {
   "cell_type": "code",
   "execution_count": null,
   "metadata": {},
   "outputs": [],
   "source": [
    "J20_count, _ = nrrd.read(r\"\\\\allen\\programs\\celltypes\\workgroups\\mousecelltypes\\T503_Connectivity_in_Alzheimer_Mice\\Joseph\\plaque_densities\\output_7-24\\experiment_695358527\\plaque_labeling.nrrd\")"
   ]
  },
  {
   "cell_type": "code",
   "execution_count": null,
   "metadata": {},
   "outputs": [],
   "source": [
    "Tg2576, _ = nrrd.read(r'\\\\allen\\programs\\celltype`s\\production\\ctyconn\\prod18\\image_series_609865610\\grid\\plaque\\projection_density_10.nrrd')"
   ]
  },
  {
   "cell_type": "code",
   "execution_count": null,
   "metadata": {},
   "outputs": [],
   "source": [
    "Tg2576_count, _ = nrrd.read(r\"\\\\allen\\programs\\celltypes\\workgroups\\mousecelltypes\\T503_Connectivity_in_Alzheimer_Mice\\Joseph\\plaque_densities\\output_7-24\\experiment_609865610\\plaque_labeling.nrrd\")"
   ]
  },
  {
   "cell_type": "code",
   "execution_count": null,
   "metadata": {},
   "outputs": [],
   "source": [
    "index = 570\n",
    "fig, ax = plt.subplots(1, 2, figsize =(8, 10))\n",
    "ax[0].imshow(np.flip(np.rot90(template[:,:,index][200:900, 25:450]), 0), cmap = 'gray')\n",
    "ax[0].imshow(np.flip(np.rot90(J20_count[:,:,index][200:900, 25:450]), 0), cmap = cmap, vmin = 0.00000001, alpha = 0.3)\n",
    "ax[0].imshow(np.flip(np.rot90(J20[:,:,index][200:900, 25:450]), 0), cmap = 'Greys_r', alpha = 0.2)\n",
    "ax[0].get_xaxis().set_visible(False)\n",
    "ax[0].get_yaxis().set_visible(False)\n",
    "ax[1].imshow(np.flip(np.rot90(template[:,:,index][200:900, 25:450]), 0), cmap = 'gray')\n",
    "ax[1].imshow(np.flip(np.rot90(Tg2576_count[:,:,index][200:900, 25:450]), 0), cmap = cmap, vmin = 0.00000001, alpha = 0.3)\n",
    "ax[1].imshow(np.flip(np.rot90(Tg2576[:,:,index][200:900, 25:450]), 0), cmap = 'Greys_r', alpha = 0.2)\n",
    "ax[1].get_xaxis().set_visible(False)\n",
    "ax[1].get_yaxis().set_visible(False)\n",
    "plt.tight_layout()\n",
    "plt.savefig(os.path.join(savepath, 'plaque_counting_figure_sag_J20_Tg2576.png'), dpi=300, bbox_inches='tight')"
   ]
  },
  {
   "cell_type": "code",
   "execution_count": null,
   "metadata": {},
   "outputs": [],
   "source": []
  }
 ],
 "metadata": {
  "kernelspec": {
   "display_name": "Python 2",
   "language": "python",
   "name": "python2"
  },
  "language_info": {
   "codemirror_mode": {
    "name": "ipython",
    "version": 2
   },
   "file_extension": ".py",
   "mimetype": "text/x-python",
   "name": "python",
   "nbconvert_exporter": "python",
   "pygments_lexer": "ipython2",
   "version": "2.7.14"
  }
 },
 "nbformat": 4,
 "nbformat_minor": 2
}
