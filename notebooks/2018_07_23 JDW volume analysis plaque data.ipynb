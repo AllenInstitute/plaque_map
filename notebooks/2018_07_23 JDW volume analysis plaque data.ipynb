{
 "cells": [
  {
   "cell_type": "code",
   "execution_count": null,
   "metadata": {},
   "outputs": [],
   "source": [
    "import os\n",
    "import pandas as pd\n",
    "import seaborn as sns\n",
    "sns.set_context('poster')\n",
    "sns.set_style('white')\n",
    "import numpy as np\n",
    "\n",
    "import matplotlib.pyplot as plt\n",
    "%matplotlib inline\n",
    "import matplotlib as mpl\n",
    "mpl.rcParams['pdf.fonttype'] = 42\n",
    "\n",
    "from allensdk.core.mouse_connectivity_cache import MouseConnectivityCache"
   ]
  },
  {
   "cell_type": "code",
   "execution_count": null,
   "metadata": {},
   "outputs": [],
   "source": [
    "path = r'/Users/jenniferwh/Dropbox (Allen Institute)/Mesoscale Connectome Papers in Progress/2018 Plaque'"
   ]
  },
  {
   "cell_type": "code",
   "execution_count": null,
   "metadata": {},
   "outputs": [],
   "source": [
    "control = pd.read_csv(os.path.join(path, 'app_control_structure_volumes.csv'))\n",
    "app = pd.read_csv(os.path.join(path, 'app_structure_volumes.csv'))"
   ]
  },
  {
   "cell_type": "code",
   "execution_count": null,
   "metadata": {},
   "outputs": [],
   "source": [
    "app.head()"
   ]
  },
  {
   "cell_type": "code",
   "execution_count": null,
   "metadata": {},
   "outputs": [],
   "source": [
    "len(app['Structure_ID'].unique())"
   ]
  },
  {
   "cell_type": "code",
   "execution_count": null,
   "metadata": {},
   "outputs": [],
   "source": [
    "mcc = MouseConnectivityCache(manifest_file = '../connectivity/mouse_connectivity_manifest.json')\n",
    "st = mcc.get_structure_tree()\n",
    "ss = st.get_structures_by_set_id([167587189])\n",
    "ss_ids = [structure['id'] for structure in ss]"
   ]
  },
  {
   "cell_type": "code",
   "execution_count": null,
   "metadata": {},
   "outputs": [],
   "source": [
    "len(ss)"
   ]
  },
  {
   "cell_type": "code",
   "execution_count": null,
   "metadata": {},
   "outputs": [],
   "source": [
    "iso = st.get_structures_by_acronym(['Isocortex'])[0]\n",
    "iso_d = st.descendant_ids([iso['id']])[0]\n",
    "iso_ss = [structure for structure in iso_d if structure in ss_ids]\n",
    "print(len(iso_ss))"
   ]
  },
  {
   "cell_type": "code",
   "execution_count": null,
   "metadata": {},
   "outputs": [],
   "source": [
    "hipp = st.get_structures_by_acronym(['HPF'])[0]\n",
    "hipp_d = st.descendant_ids([hipp['id']])[0]\n",
    "hipp_ss = [structure for structure in hipp_d if structure in ss_ids]\n",
    "print(len(hipp_ss))"
   ]
  },
  {
   "cell_type": "code",
   "execution_count": null,
   "metadata": {},
   "outputs": [],
   "source": [
    "ia_map = st.get_id_acronym_map()\n",
    "ai_map = {value:key for key, value in ia_map.iteritems()}"
   ]
  },
  {
   "cell_type": "code",
   "execution_count": null,
   "metadata": {},
   "outputs": [],
   "source": [
    "plot_order = ['FRP', 'MOp', 'MOs', 'SSp-n', 'SSp-bfd', 'SSp-ll', 'SSp-m', 'SSp-ul', 'SSp-tr', 'SSp-un',\n",
    "              'SSs', 'GU', 'VISC', 'AUDd', 'AUDp', 'AUDpo', 'AUDv', 'VISal', 'VISam', 'VISl', 'VISp', 'VISpl',\n",
    "              'VISpm', 'VISli', 'VISpor', 'ACAd', 'ACAv', 'PL', 'ILA', 'ORBl', 'ORBm', 'ORBvl', 'AId', 'AIp',\n",
    "              'AIv', 'RSPagl', 'RSPd', 'RSPv', 'VISa', 'VISrl', 'TEa', 'PERI', 'ECT']"
   ]
  },
  {
   "cell_type": "code",
   "execution_count": null,
   "metadata": {},
   "outputs": [],
   "source": [
    "dat = pd.concat([app, control])\n",
    "dat['structure acronym'] = [ai_map[structure] for structure in dat['Structure_ID']]\n",
    "dat = dat"
   ]
  },
  {
   "cell_type": "code",
   "execution_count": null,
   "metadata": {},
   "outputs": [],
   "source": [
    "dat['Genotype group'].unique()"
   ]
  },
  {
   "cell_type": "code",
   "execution_count": null,
   "metadata": {},
   "outputs": [],
   "source": [
    "dat = dat[dat['Genotype group'].isin(['APP/PS1', 'J20', 'Tg2576', 'control'])]\n",
    "#dat = dat[dat['Genotype group'].isin(['APP/PS1', 'J20', 'control'])]"
   ]
  },
  {
   "cell_type": "code",
   "execution_count": null,
   "metadata": {},
   "outputs": [],
   "source": [
    "mouse_line_colors = ['#8da0cb', '#fc8d62', '#66c2a5', '#000000']"
   ]
  },
  {
   "cell_type": "code",
   "execution_count": null,
   "metadata": {},
   "outputs": [],
   "source": [
    "fig, ax = plt.subplots()"
   ]
  },
  {
   "cell_type": "code",
   "execution_count": null,
   "metadata": {},
   "outputs": [],
   "source": [
    "import matplotlib.lines as mlines\n",
    "def get_mouse_line_legend():\n",
    "    black = mlines.Line2D([], [], color = 'k', label = 'control')\n",
    "    blue = mlines.Line2D([], [], color=mouse_line_colors[0],\n",
    "                          label='APP/PS1')\n",
    "    orange = mlines.Line2D([], [], color=mouse_line_colors[1],\n",
    "                          label='hAPP-J20')\n",
    "    green = mlines.Line2D([], [], color=mouse_line_colors[2],\n",
    "                          label='Tg2576')\n",
    "    return [black, blue, orange, green]"
   ]
  },
  {
   "cell_type": "code",
   "execution_count": null,
   "metadata": {},
   "outputs": [],
   "source": [
    "savepath = r'/Users/jenniferwh/Dropbox (Allen Institute)/Mesoscale Connectome Papers in Progress/2018 Plaque/figures'"
   ]
  },
  {
   "cell_type": "code",
   "execution_count": null,
   "metadata": {},
   "outputs": [],
   "source": [
    "ages = ['4 mo', '6 mo', '9 mo', '12 mo', '15 mo', '18 mo']\n",
    "rows = len(ages)\n",
    "fig = plt.figure()\n",
    "for i in range(rows):\n",
    "    pltdat = dat[(dat['Structure_ID'].isin(iso_ss)) & \n",
    "                (dat['Age group'] == ages[i])]\n",
    "    sns.factorplot(x=\"structure acronym\", y=\"Volume\", hue=\"Genotype group\", capsize=.2, \n",
    "                   palette=mouse_line_colors, height=4, aspect=3, kind=\"point\", \n",
    "                   data=pltdat[pltdat['Genotype group'] == 'control'], \n",
    "                   order = plot_order, hue_order = ['APP/PS1', 'J20', 'Tg2576', 'control'], alpha = 0.3,\n",
    "                  legend = False, zorder = -1)\n",
    "    g = sns.stripplot(x=\"structure acronym\", y=\"Volume\", hue=\"Genotype group\", palette=mouse_line_colors,\n",
    "                  data=pltdat[pltdat['Genotype group'] != 'control'], s= 15,\n",
    "                   order = plot_order, hue_order = ['APP/PS1', 'J20', 'Tg2576', 'control'], alpha = 0.7)\n",
    "    g.legend_.remove()\n",
    "    plt.xticks(rotation = -90)\n",
    "    plt.title(ages[i])\n",
    "    if i == 0:\n",
    "        plt.legend(handles = get_mouse_line_legend(), loc=1, bbox_to_anchor = (1, 1.4))\n",
    "plt.savefig(os.path.join(savepath, 'isocortex region volume by age and line.pdf'), \n",
    "            bbox_inches='tight', pad_inches=0.3, format='pdf', transparent = True, dpi=300)"
   ]
  },
  {
   "cell_type": "code",
   "execution_count": null,
   "metadata": {},
   "outputs": [],
   "source": [
    "ages = ['4 mo', '6 mo', '9 mo', '12 mo', '15 mo', '18 mo']\n",
    "rows = len(ages)\n",
    "fig = plt.figure(figsize=(10,6))\n",
    "for i in range(rows):\n",
    "    pltdat = dat[(dat['Structure_ID'].isin(hipp_ss)) & \n",
    "                (dat['Age group'] == ages[i])]\n",
    "    sns.factorplot(x=\"structure acronym\", y=\"Volume\", hue=\"Genotype group\", capsize=.2, \n",
    "                   palette=mouse_line_colors, height=4, aspect=3, kind=\"point\", \n",
    "                   data=pltdat[pltdat['Genotype group'] == 'control'], \n",
    "                   hue_order = ['APP/PS1', 'J20', 'Tg2576', 'control'], alpha = 0.3,\n",
    "                  legend = False, zorder = -1)\n",
    "    g = sns.stripplot(x=\"structure acronym\", y=\"Volume\", hue=\"Genotype group\", palette=mouse_line_colors,\n",
    "                  data=pltdat[pltdat['Genotype group'] != 'control'], s= 15,\n",
    "                   hue_order = ['APP/PS1', 'J20', 'Tg2576', 'control'], alpha = 0.7)\n",
    "    g.legend_.remove()\n",
    "    plt.xticks(rotation = -90)\n",
    "    plt.title(ages[i])\n",
    "    if i == 0:\n",
    "        plt.legend(handles = get_mouse_line_legend(), loc=1, bbox_to_anchor = (1, 1.4))\n",
    "plt.savefig(os.path.join(savepath, 'hippocampus region volume by age and line.pdf'), \n",
    "            bbox_inches='tight', pad_inches=0.3, format='pdf', transparent = True, dpi=300)"
   ]
  },
  {
   "cell_type": "code",
   "execution_count": null,
   "metadata": {},
   "outputs": [],
   "source": [
    "pltdat = dat[dat['Structure_ID'].isin(iso_ss)]\n",
    "sns.factorplot(x=\"structure acronym\", y=\"Volume\", hue=\"Genotype group\", row=\"sex\", capsize=.2, \n",
    "                   palette=mouse_line_colors, height=5, aspect=3, kind=\"point\", data=pltdat, \n",
    "                   hue_order = ['APP/PS1', 'J20', 'Tg2576', 'control'], alpha = 0.5,\n",
    "                  legend = False)\n",
    "plt.xticks(rotation = -90)\n",
    "plt.legend(loc=1)"
   ]
  },
  {
   "cell_type": "code",
   "execution_count": null,
   "metadata": {},
   "outputs": [],
   "source": [
    "pltdat = dat[dat['Structure_ID'].isin(hipp_ss)]\n",
    "sns.factorplot(x=\"structure acronym\", y=\"Volume\", hue=\"Genotype group\", row=\"sex\", capsize=.2, \n",
    "                   palette=mouse_line_colors, height=5, aspect=3, kind=\"point\", data=pltdat, \n",
    "                   hue_order = ['APP/PS1', 'J20', 'Tg2576', 'control'], alpha = 0.5,\n",
    "                  legend = False)\n",
    "plt.xticks(rotation = -90)\n",
    "plt.legend(loc=1)"
   ]
  },
  {
   "cell_type": "code",
   "execution_count": null,
   "metadata": {},
   "outputs": [],
   "source": [
    "dat.head()"
   ]
  },
  {
   "cell_type": "code",
   "execution_count": null,
   "metadata": {},
   "outputs": [],
   "source": [
    "ages = []\n",
    "structures = []\n",
    "means = []\n",
    "for age in dat['Age group'].unique():\n",
    "    for structure in dat['Structure_ID'].unique():\n",
    "        ages.append(age)\n",
    "        structures.append(structure)\n",
    "        cm = np.mean(dat[(dat['Age group'] == age) & \n",
    "                         (dat['Structure_ID'] == structure) &\n",
    "                                 (dat['Genotype group'] == 'control')]['Volume'])\n",
    "        means.append(cm)\n",
    "meanc = pd.DataFrame({'age': ages, 'structure': structures, 'mean': means})"
   ]
  },
  {
   "cell_type": "code",
   "execution_count": null,
   "metadata": {},
   "outputs": [],
   "source": [
    "meanc.head()"
   ]
  },
  {
   "cell_type": "code",
   "execution_count": null,
   "metadata": {},
   "outputs": [],
   "source": [
    "meanc[(meanc['age'] == age) &\n",
    "                                                                            (meanc['structure'] == structure)\n",
    "                                                                            ]['mean'].values"
   ]
  },
  {
   "cell_type": "code",
   "execution_count": null,
   "metadata": {},
   "outputs": [],
   "source": [
    "ss_ids"
   ]
  },
  {
   "cell_type": "code",
   "execution_count": null,
   "metadata": {},
   "outputs": [],
   "source": [
    "dat = dat[dat['Structure_ID'].isin(ss_ids)]\n",
    "for age in meanc['age']:\n",
    "    for structure in dat['Structure_ID'].unique():\n",
    "        dat.loc[dat['Age group'] == age, 'percent_control'] = [volume/(meanc[(meanc['age'] == age) &\n",
    "                                                                            (meanc['structure'] == structure)\n",
    "                                                                            ]['mean'].values)*100 \n",
    "                                                           for volume in dat[dat['Age group'] == age]['Volume'].values]"
   ]
  },
  {
   "cell_type": "code",
   "execution_count": null,
   "metadata": {},
   "outputs": [],
   "source": [
    "dat.tail()"
   ]
  },
  {
   "cell_type": "code",
   "execution_count": null,
   "metadata": {},
   "outputs": [],
   "source": [
    "dat.describe()"
   ]
  },
  {
   "cell_type": "code",
   "execution_count": null,
   "metadata": {},
   "outputs": [],
   "source": [
    "ages = ['4 mo', '6 mo', '9 mo', '12 mo', '15 mo', '18 mo']\n",
    "rows = len(ages)\n",
    "fig = plt.figure()\n",
    "for i in range(rows):\n",
    "    pltdat = dat[(dat['Structure_ID'].isin(iso_ss)) & \n",
    "                (dat['Age group'] == ages[i])]\n",
    "    sns.factorplot(x=\"structure acronym\", y=\"percent_control\", hue=\"Genotype group\", capsize=.2, \n",
    "                   palette=mouse_line_colors, height=4, aspect=3, kind=\"point\", \n",
    "                   data=pltdat[pltdat['Genotype group'] != 'control'], \n",
    "                   order = plot_order, hue_order = ['APP/PS1', 'J20', 'Tg2576', 'control'], alpha = 0.3,\n",
    "                  legend = False, zorder = -1)\n",
    "    g = sns.stripplot(x=\"structure acronym\", y=\"percent_control\", hue=\"Genotype group\", palette=mouse_line_colors,\n",
    "                  data=pltdat[pltdat['Genotype group'] != 'control'], s= 15,\n",
    "                   order = plot_order, hue_order = ['APP/PS1', 'J20', 'Tg2576', 'control'], alpha = 0.7)\n",
    "    g.legend_.remove()\n",
    "    plt.xticks(rotation = -90)\n",
    "    plt.title(ages[i])\n",
    "    if i == 0:\n",
    "        plt.legend(handles = get_mouse_line_legend(), loc=1, bbox_to_anchor = (1, 1.4))\n",
    "plt.savefig(os.path.join(savepath, 'isocortex region volume by age and line percent control.pdf'), \n",
    "            bbox_inches='tight', pad_inches=0.3, format='pdf', transparent = True, dpi=300)"
   ]
  },
  {
   "cell_type": "code",
   "execution_count": null,
   "metadata": {},
   "outputs": [],
   "source": [
    "pltdat = dat[dat['Structure_ID'].isin(hipp_ss)]\n",
    "m = pltdat[pltdat['sex'] == 'M']\n",
    "f = pltdat[pltdat['sex'] == 'F']\n",
    "fig = plt.figure(figsize=(10,6))\n",
    "g = sns.catplot(x=\"structure acronym\", y=\"Volume\", hue=\"Genotype group\", capsize=.2, \n",
    "                   palette=mouse_line_colors, height=5, aspect=2, kind=\"point\", \n",
    "               data=m[m['Genotype group'] == 'control'], \n",
    "                   hue_order = ['APP/PS1', 'J20', 'Tg2576', 'control'], alpha = 0.5,\n",
    "                  legend = False)\n",
    "sns.stripplot(x=\"structure acronym\", y=\"Volume\", hue=\"Genotype group\", \n",
    "                   palette=mouse_line_colors, data=m[m['Genotype group'] != 'control'], \n",
    "                   hue_order = ['APP/PS1', 'J20', 'Tg2576', 'control'], s = 15, alpha = 0.5,\n",
    "                  ax = g.ax)\n",
    "g.ax.legend_.remove()\n",
    "ax = fig.add_subplot()\n",
    "h = sns.catplot(x=\"structure acronym\", y=\"Volume\", hue=\"Genotype group\", capsize=.2, \n",
    "                   palette=mouse_line_colors, height=5, aspect=2, kind=\"point\", \n",
    "               data=f[f['Genotype group'] == 'control'], \n",
    "                   hue_order = ['APP/PS1', 'J20', 'Tg2576', 'control'], alpha = 0.5,\n",
    "                  legend = False)\n",
    "sns.stripplot(x=\"structure acronym\", y=\"Volume\", hue=\"Genotype group\", \n",
    "                   palette=mouse_line_colors, data=f[f['Genotype group'] != 'control'], \n",
    "                   hue_order = ['APP/PS1', 'J20', 'Tg2576', 'control'], s = 15, alpha = 0.5,\n",
    "                  ax = h.ax)\n",
    "h.ax.legend_.remove()\n",
    "plt.xticks(rotation = -90)\n",
    "plt.legend(handles = get_mouse_line_legend(), loc=1)"
   ]
  },
  {
   "cell_type": "code",
   "execution_count": null,
   "metadata": {},
   "outputs": [],
   "source": [
    "th = st.get_structures_by_acronym(['TH'])[0]\n",
    "th_d = st.descendant_ids([th['id']])[0]\n",
    "th_ss = [structure for structure in th_d if structure in ss_ids]\n",
    "print(len(th_ss))"
   ]
  },
  {
   "cell_type": "code",
   "execution_count": null,
   "metadata": {},
   "outputs": [],
   "source": [
    "ages = ['4 mo', '6 mo', '9 mo', '12 mo', '15 mo', '18 mo']\n",
    "rows = len(ages)\n",
    "for i in range(rows):\n",
    "    fig.add_subplot(rows, 1, i+1)\n",
    "\n",
    "    pltdat = dat[(dat['Structure_ID'].isin(th_ss)) & \n",
    "                (dat['Age group'] == ages[i])]\n",
    "    sns.factorplot(x=\"structure acronym\", y=\"Volume\", hue=\"Genotype group\", capsize=.2, \n",
    "                   palette=mouse_line_colors, height=5, aspect=3, kind=\"point\", data=pltdat, \n",
    "                   hue_order = ['APP/PS1', 'J20', 'control'], alpha = 0.5,\n",
    "                  legend = False)\n",
    "    plt.xticks(rotation = -90)\n",
    "    plt.title(ages[i])\n",
    "    if i == 0:\n",
    "        plt.legend(loc=1)"
   ]
  },
  {
   "cell_type": "code",
   "execution_count": null,
   "metadata": {},
   "outputs": [],
   "source": [
    "coarse_structures = st.get_structures_by_set_id([687527670])\n",
    "coarse_structure_ids = [item['id'] for item in coarse_structures]"
   ]
  },
  {
   "cell_type": "code",
   "execution_count": null,
   "metadata": {},
   "outputs": [],
   "source": [
    "ages = ['4 mo', '6 mo', '9 mo', '12 mo', '15 mo', '18 mo']\n",
    "rows = len(ages)\n",
    "for i in range(rows):\n",
    "    fig.add_subplot(rows, 1, i+1)\n",
    "\n",
    "    pltdat = dat[(dat['Structure_ID'].isin(coarse_structure_ids)) & \n",
    "                (dat['Age group'] == ages[i])]\n",
    "    sns.factorplot(x=\"structure acronym\", y=\"Volume\", hue=\"Genotype group\", capsize=.2, \n",
    "                   palette=mouse_line_colors, height=5, aspect=3, kind=\"point\", data=pltdat, \n",
    "                   hue_order = ['APP/PS1', 'J20', 'control'], alpha = 0.5,\n",
    "                  legend = False)\n",
    "    plt.xticks(rotation = -90)\n",
    "    plt.title(ages[i])\n",
    "    if i == 0:\n",
    "        plt.legend(loc=1)"
   ]
  },
  {
   "cell_type": "code",
   "execution_count": null,
   "metadata": {},
   "outputs": [],
   "source": [
    "dat = dat[dat['Genotype group'].isin(['APP/PS1', 'J20', 'Tg2576', 'control'])]\n",
    "mouse_line_colors = ['#8da0cb', '#fc8d62', '#66c2a5', '#000000']"
   ]
  },
  {
   "cell_type": "code",
   "execution_count": null,
   "metadata": {},
   "outputs": [],
   "source": [
    "ages = ['4 mo', '6 mo', '9 mo', '12 mo', '15 mo', '18 mo']\n",
    "rows = len(ages)\n",
    "for i in range(rows):\n",
    "    fig.add_subplot(rows, 1, i+1)\n",
    "\n",
    "    pltdat = dat[(dat['Structure_ID'].isin(coarse_structure_ids)) & \n",
    "                (dat['Age group'] == ages[i])]\n",
    "    sns.factorplot(x=\"structure acronym\", y=\"Volume\", hue=\"Genotype group\", capsize=.2, \n",
    "                   palette=mouse_line_colors, height=5, aspect=3, kind=\"point\", data=pltdat, \n",
    "                   hue_order = ['APP/PS1', 'J20', 'Tg2576', 'control'], alpha = 0.5,\n",
    "                  legend = False)\n",
    "    plt.xticks(rotation = -90)\n",
    "    plt.title(ages[i])\n",
    "    if i == 0:\n",
    "        plt.legend(loc=1)"
   ]
  },
  {
   "cell_type": "code",
   "execution_count": null,
   "metadata": {},
   "outputs": [],
   "source": [
    "dat.head()"
   ]
  },
  {
   "cell_type": "code",
   "execution_count": null,
   "metadata": {},
   "outputs": [],
   "source": [
    "import statsmodels.api as sm\n",
    "import statsmodels.formula.api as smf\n",
    "formula = 'SUCCESS ~ LOWINC + PERASIAN + PERBLACK + PERHISP + PCTCHRT + \\\n",
    "           PCTYRRND + PERMINTE*AVYRSEXP*AVSALK + PERSPENK*PTRATIO*PCTAF'\n",
    "dta = star98[['NABOVE', 'NBELOW', 'LOWINC', 'PERASIAN', 'PERBLACK', 'PERHISP',\n",
    "              'PCTCHRT', 'PCTYRRND', 'PERMINTE', 'AVYRSEXP', 'AVSALK',\n",
    "              'PERSPENK', 'PTRATIO', 'PCTAF']]\n",
    "endog = dta['NABOVE'] / (dta['NABOVE'] + dta.pop('NBELOW'))\n",
    "del dta['NABOVE']\n",
    "dta['SUCCESS'] = endog"
   ]
  },
  {
   "cell_type": "code",
   "execution_count": null,
   "metadata": {},
   "outputs": [],
   "source": [
    "def fit_glm(categorical_var, mouse_line, age, plaque_volume):\n",
    "    '''inputs\n",
    "    1. categorical variable (sex)\n",
    "    2. mouse line\n",
    "    3. age\n",
    "    4. plaque volume per region\n",
    "    # fit glm for each experiment\n",
    "    '''\n",
    "    coeff1 = [] #distance\n",
    "    coeff2 = [] #sex\n",
    "    tvals = []\n",
    "    pvals = []\n",
    "    for exp in range(len(sex)):\n",
    "        groups = np.array(categorical_var)\n",
    "\n",
    "        dummy = sm.categorical(groups, drop=True)\n",
    "        x1 = mouse_line[exp]\n",
    "        x2 = age[exp]\n",
    "\n",
    "        # drop reference category\n",
    "        X = np.column_stack((x1, x2, dummy[:,1:]))\n",
    "        X = sm.add_constant(X, prepend=False)\n",
    "\n",
    "        # y Use log projection density\n",
    "        y = plaque_volume[exp]\n",
    "    \n",
    "        # fit\n",
    "        fit = sm.OLS(y, X).fit()\n",
    "    \n",
    "        # add coeff\n",
    "        coeff1 += [fit.params[0]]\n",
    "        coeff2 += [fit.params[1]]\n",
    "        tvals += [fit.tvalues]\n",
    "        pvals += [fit.pvalues]\n",
    "    return coeff1, coeff2, tvals, pvals"
   ]
  }
 ],
 "metadata": {
  "kernelspec": {
   "display_name": "Python 2",
   "language": "python",
   "name": "python2"
  },
  "language_info": {
   "codemirror_mode": {
    "name": "ipython",
    "version": 2
   },
   "file_extension": ".py",
   "mimetype": "text/x-python",
   "name": "python",
   "nbconvert_exporter": "python",
   "pygments_lexer": "ipython2",
   "version": "2.7.14"
  }
 },
 "nbformat": 4,
 "nbformat_minor": 2
}
