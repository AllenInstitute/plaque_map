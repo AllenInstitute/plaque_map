{
 "cells": [
  {
   "cell_type": "code",
   "execution_count": null,
   "metadata": {},
   "outputs": [],
   "source": [
    "import os\n",
    "import pandas as pd\n",
    "import seaborn as sns\n",
    "sns.set_context('poster')\n",
    "sns.set_style('white')\n",
    "\n",
    "import matplotlib.pyplot as plt\n",
    "%matplotlib inline\n",
    "import matplotlib as mpl\n",
    "mpl.rcParams['pdf.fonttype'] = 42\n",
    "\n",
    "from allensdk.core.mouse_connectivity_cache import MouseConnectivityCache"
   ]
  },
  {
   "cell_type": "code",
   "execution_count": null,
   "metadata": {},
   "outputs": [],
   "source": [
    "path = r'/Users/jenniferwh/Dropbox (Allen Institute)/Mesoscale Connectome Papers in Progress/2018 Plaque'"
   ]
  },
  {
   "cell_type": "code",
   "execution_count": null,
   "metadata": {},
   "outputs": [],
   "source": [
    "control = pd.read_csv(os.path.join(path, 'app_control_structure_volumes.csv'))\n",
    "app = pd.read_csv(os.path.join(path, 'app_structure_volumes.csv'))"
   ]
  },
  {
   "cell_type": "code",
   "execution_count": null,
   "metadata": {},
   "outputs": [],
   "source": [
    "app.head()"
   ]
  },
  {
   "cell_type": "code",
   "execution_count": null,
   "metadata": {},
   "outputs": [],
   "source": [
    "len(app['Structure_ID'].unique())"
   ]
  },
  {
   "cell_type": "code",
   "execution_count": null,
   "metadata": {},
   "outputs": [],
   "source": [
    "mcc = MouseConnectivityCache(manifest_file = '../connectivity/mouse_connectivity_manifest.json')\n",
    "st = mcc.get_structure_tree()\n",
    "ss = st.get_structures_by_set_id([167587189])\n",
    "ss_ids = [structure['id'] for structure in ss]"
   ]
  },
  {
   "cell_type": "code",
   "execution_count": null,
   "metadata": {},
   "outputs": [],
   "source": [
    "len(ss)"
   ]
  },
  {
   "cell_type": "code",
   "execution_count": null,
   "metadata": {},
   "outputs": [],
   "source": [
    "iso = st.get_structures_by_acronym(['Isocortex'])[0]\n",
    "iso_d = st.descendant_ids([iso['id']])[0]\n",
    "iso_ss = [structure for structure in iso_d if structure in ss_ids]\n",
    "print(len(iso_ss))"
   ]
  },
  {
   "cell_type": "code",
   "execution_count": null,
   "metadata": {},
   "outputs": [],
   "source": [
    "hipp = st.get_structures_by_acronym(['HPF'])[0]\n",
    "hipp_d = st.descendant_ids([hipp['id']])[0]\n",
    "hipp_ss = [structure for structure in hipp_d if structure in ss_ids]\n",
    "print(len(hipp_ss))"
   ]
  },
  {
   "cell_type": "code",
   "execution_count": null,
   "metadata": {},
   "outputs": [],
   "source": [
    "ia_map = st.get_id_acronym_map()\n",
    "ai_map = {value:key for key, value in ia_map.iteritems()}"
   ]
  },
  {
   "cell_type": "code",
   "execution_count": null,
   "metadata": {},
   "outputs": [],
   "source": [
    "plot_order = ['FRP', 'MOp', 'MOs', 'SSp-n', 'SSp-bfd', 'SSp-ll', 'SSp-m', 'SSp-ul', 'SSp-tr', 'SSp-un',\n",
    "              'SSs', 'GU', 'VISC', 'AUDd', 'AUDp', 'AUDpo', 'AUDv', 'VISal', 'VISam', 'VISl', 'VISp', 'VISpl',\n",
    "              'VISpm', 'VISli', 'VISpor', 'ACAd', 'ACAv', 'PL', 'ILA', 'ORBl', 'ORBm', 'ORBvl', 'AId', 'AIp',\n",
    "              'AIv', 'RSPagl', 'RSPd', 'RSPv', 'VISa', 'VISrl', 'TEa', 'PERI', 'ECT']"
   ]
  },
  {
   "cell_type": "code",
   "execution_count": null,
   "metadata": {},
   "outputs": [],
   "source": [
    "dat = pd.concat([app, control])\n",
    "dat['structure acronym'] = [ai_map[structure] for structure in dat['Structure_ID']]\n",
    "dat = dat"
   ]
  },
  {
   "cell_type": "code",
   "execution_count": null,
   "metadata": {},
   "outputs": [],
   "source": [
    "dat['Genotype group'].unique()"
   ]
  },
  {
   "cell_type": "code",
   "execution_count": null,
   "metadata": {},
   "outputs": [],
   "source": [
    "#dat = dat[dat['Genotype group'].isin(['APP/PS1', 'J20', 'Tg2576', 'control'])]\n",
    "dat = dat[dat['Genotype group'].isin(['APP/PS1', 'J20', 'control'])]"
   ]
  },
  {
   "cell_type": "code",
   "execution_count": null,
   "metadata": {},
   "outputs": [],
   "source": [
    "mouse_line_colors = ['#8da0cb', '#fc8d62', '#000000']"
   ]
  },
  {
   "cell_type": "code",
   "execution_count": null,
   "metadata": {},
   "outputs": [],
   "source": [
    "ages = ['4 mo', '6 mo', '9 mo', '12 mo', '15 mo', '18 mo']\n",
    "rows = len(ages)\n",
    "fig = plt.figure()\n",
    "for i in range(rows):\n",
    "    fig.add_subplot(rows, 1, i+1)\n",
    "\n",
    "    pltdat = dat[(dat['Structure_ID'].isin(iso_ss)) & \n",
    "                (dat['Age group'] == ages[i])]\n",
    "    sns.catplot(x=\"structure acronym\", y=\"sa2v\", hue=\"Genotype group\", capsize=.2, \n",
    "                   palette=mouse_line_colors, height=5, aspect=3, kind=\"point\", data=pltdat, \n",
    "                   order = plot_order, hue_order = ['APP/PS1', 'J20', 'control'], alpha = 0.5,\n",
    "                  legend = False)\n",
    "    plt.xticks(rotation = -90)\n",
    "    plt.title(ages[i])\n",
    "    if i == 0:\n",
    "        plt.legend(loc=1, bbox_to_anchor = (1, 1.2))"
   ]
  },
  {
   "cell_type": "code",
   "execution_count": null,
   "metadata": {},
   "outputs": [],
   "source": [
    "ages = ['4 mo', '6 mo', '9 mo', '12 mo', '15 mo', '18 mo']\n",
    "rows = len(ages)\n",
    "for i in range(rows):\n",
    "    fig.add_subplot(rows, 1, i+1)\n",
    "\n",
    "    pltdat = dat[(dat['Structure_ID'].isin(hipp_ss)) & \n",
    "                (dat['Age group'] == ages[i])]\n",
    "    sns.catplot(x=\"structure acronym\", y=\"sa2v\", hue=\"Genotype group\", capsize=.2, \n",
    "                   palette=mouse_line_colors, height=5, aspect=3, kind=\"point\", data=pltdat, \n",
    "                   hue_order = ['APP/PS1', 'J20', 'control'], alpha = 0.5,\n",
    "                  legend = False)\n",
    "    ax.set_yscale('log')\n",
    "    plt.xticks(rotation = -90)\n",
    "    plt.title(ages[i])\n",
    "    if i == 0:\n",
    "        plt.legend(loc=1)"
   ]
  },
  {
   "cell_type": "code",
   "execution_count": null,
   "metadata": {},
   "outputs": [],
   "source": [
    "pltdat = dat[dat['Structure_ID'].isin(iso_ss)]\n",
    "sns.factorplot(x=\"structure acronym\", y=\"sa2v\", hue=\"Genotype group\", row=\"sex\", capsize=.2, \n",
    "                   palette=mouse_line_colors, height=5, aspect=3, kind=\"point\", data=pltdat, \n",
    "                   hue_order = ['APP/PS1', 'J20', 'control'], alpha = 0.5,\n",
    "                  legend = False)\n",
    "plt.xticks(rotation = -90)\n",
    "plt.legend(loc=1)"
   ]
  },
  {
   "cell_type": "code",
   "execution_count": null,
   "metadata": {},
   "outputs": [],
   "source": [
    "th = st.get_structures_by_acronym(['TH'])[0]\n",
    "th_d = st.descendant_ids([th['id']])[0]\n",
    "th_ss = [structure for structure in th_d if structure in ss_ids]\n",
    "print(len(th_ss))"
   ]
  },
  {
   "cell_type": "code",
   "execution_count": null,
   "metadata": {},
   "outputs": [],
   "source": [
    "ages = ['4 mo', '6 mo', '9 mo', '12 mo', '15 mo', '18 mo']\n",
    "rows = len(ages)\n",
    "for i in range(rows):\n",
    "    fig.add_subplot(rows, 1, i+1)\n",
    "\n",
    "    pltdat = dat[(dat['Structure_ID'].isin(th_ss)) & \n",
    "                (dat['Age group'] == ages[i])]\n",
    "    sns.factorplot(x=\"structure acronym\", y=\"sa2v\", hue=\"Genotype group\", capsize=.2, \n",
    "                   palette=mouse_line_colors, height=5, aspect=3, kind=\"point\", data=pltdat, \n",
    "                   hue_order = ['APP/PS1', 'J20', 'control'], alpha = 0.5,\n",
    "                  legend = False)\n",
    "    plt.xticks(rotation = -90)\n",
    "    plt.title(ages[i])\n",
    "    if i == 0:\n",
    "        plt.legend(loc=1)"
   ]
  },
  {
   "cell_type": "code",
   "execution_count": null,
   "metadata": {},
   "outputs": [],
   "source": [
    "coarse_structures = st.get_structures_by_set_id([687527670])\n",
    "coarse_structure_ids = [item['id'] for item in coarse_structures]"
   ]
  },
  {
   "cell_type": "code",
   "execution_count": null,
   "metadata": {},
   "outputs": [],
   "source": [
    "ages = ['4 mo', '6 mo', '9 mo', '12 mo', '15 mo', '18 mo']\n",
    "rows = len(ages)\n",
    "for i in range(rows):\n",
    "    fig.add_subplot(rows, 1, i+1)\n",
    "\n",
    "    pltdat = dat[(dat['Structure_ID'].isin(coarse_structure_ids)) & \n",
    "                (dat['Age group'] == ages[i])]\n",
    "    sns.factorplot(x=\"structure acronym\", y=\"sa2v\", hue=\"Genotype group\", capsize=.2, \n",
    "                   palette=mouse_line_colors, height=5, aspect=3, kind=\"point\", data=pltdat, \n",
    "                   hue_order = ['APP/PS1', 'J20', 'control'], alpha = 0.5,\n",
    "                  legend = False)\n",
    "    plt.xticks(rotation = -90)\n",
    "    plt.title(ages[i])\n",
    "    if i == 0:\n",
    "        plt.legend(loc=1)"
   ]
  },
  {
   "cell_type": "code",
   "execution_count": null,
   "metadata": {},
   "outputs": [],
   "source": [
    "dat = dat[dat['Genotype group'].isin(['APP/PS1', 'J20', 'Tg2576', 'control'])]\n",
    "mouse_line_colors = ['#8da0cb', '#fc8d62', '#66c2a5', '#000000']"
   ]
  },
  {
   "cell_type": "code",
   "execution_count": null,
   "metadata": {},
   "outputs": [],
   "source": [
    "ages = ['4 mo', '6 mo', '9 mo', '12 mo', '15 mo', '18 mo']\n",
    "rows = len(ages)\n",
    "for i in range(rows):\n",
    "    fig.add_subplot(rows, 1, i+1)\n",
    "\n",
    "    pltdat = dat[(dat['Structure_ID'].isin(coarse_structure_ids)) & \n",
    "                (dat['Age group'] == ages[i])]\n",
    "    sns.factorplot(x=\"structure acronym\", y=\"sa2v\", hue=\"Genotype group\", capsize=.2, \n",
    "                   palette=mouse_line_colors, height=5, aspect=3, kind=\"point\", data=pltdat, \n",
    "                   hue_order = ['APP/PS1', 'J20', 'Tg2576', 'control'], alpha = 0.5,\n",
    "                  legend = False)\n",
    "    plt.xticks(rotation = -90)\n",
    "    plt.title(ages[i])\n",
    "    if i == 0:\n",
    "        plt.legend(loc=1)"
   ]
  },
  {
   "cell_type": "code",
   "execution_count": null,
   "metadata": {},
   "outputs": [],
   "source": [
    "dat.head()"
   ]
  },
  {
   "cell_type": "code",
   "execution_count": null,
   "metadata": {},
   "outputs": [],
   "source": [
    "import statsmodels.api as sm\n",
    "import statsmodels.formula.api as smf\n",
    "dta = dat[dat['Structure_ID'].isin(coarse_structure_ids)]\n",
    "dta = dta[['sa2v', 'Genotype group', 'sex', 'Age group', 'Structure_ID']]\n",
    "dta.rename(columns = {'Genotype group': 'group', 'Age group': 'age', 'Structure_ID': 'structure'}, inplace = True)\n",
    "formula = 'sa2v ~ group + sex + age + structure + age:group'\n",
    "\n",
    "mod1 = smf.glm(formula=formula, data=dta).fit()\n",
    "mod1.summary()"
   ]
  },
  {
   "cell_type": "code",
   "execution_count": null,
   "metadata": {},
   "outputs": [],
   "source": [
    "dta = dat[dat['Structure_ID'].isin(ss_ids)]\n",
    "dta = dta[['sa2v', 'Genotype group', 'sex', 'Age group', 'Structure_ID']]\n",
    "dta.rename(columns = {'Genotype group': 'group', 'Age group': 'age', 'Structure_ID': 'structure'}, inplace = True)\n",
    "formula = 'sa2v ~ group + sex + age + structure + age:group + structure:group'\n",
    "\n",
    "mod1 = smf.glm(formula=formula, data=dta).fit()\n",
    "mod1.summary()"
   ]
  },
  {
   "cell_type": "code",
   "execution_count": null,
   "metadata": {},
   "outputs": [],
   "source": [
    "dta = dat[dat['Structure_ID'] == 993]\n",
    "dta = dta[['sa2v', 'Genotype group', 'sex', 'Age group']]\n",
    "dta.rename(columns = {'Genotype group': 'group', 'Age group': 'age'}, inplace = True)\n",
    "formula = 'sa2v ~ group + sex + age + age:group'\n",
    "\n",
    "mod1 = smf.glm(formula=formula, data=dta).fit()\n",
    "mod1.summary()"
   ]
  },
  {
   "cell_type": "code",
   "execution_count": null,
   "metadata": {},
   "outputs": [],
   "source": [
    "dta = dat[dat['Structure_ID'].isin(iso_ss)]\n",
    "dta = dta[['sa2v', 'Genotype group', 'sex', 'Age group', 'Structure_ID']]\n",
    "dta.rename(columns = {'Genotype group': 'group', 'Age group': 'age', 'Structure_ID': 'structure'}, inplace = True)\n",
    "formula = 'sa2v ~ group + sex + age + structure + age:group + structure:group'\n",
    "\n",
    "mod1 = smf.glm(formula=formula, data=dta).fit()\n",
    "mod1.summary()"
   ]
  },
  {
   "cell_type": "code",
   "execution_count": null,
   "metadata": {},
   "outputs": [],
   "source": [
    "dta"
   ]
  },
  {
   "cell_type": "code",
   "execution_count": null,
   "metadata": {},
   "outputs": [],
   "source": [
    "dta = dat[dat['Structure_ID'].isin(iso_ss)]\n",
    "dta = dta[['sa2v', 'Genotype group', 'sex', 'Age group', 'Structure_ID']]\n",
    "dta.rename(columns = {'Genotype group': 'group', 'Age group': 'age', 'Structure_ID': 'structure'}, inplace = True)\n",
    "dta = sm.add_constant(dta, prepend=False)\n",
    "formula = 'sa2v ~ group + sex + age + age:group'\n",
    "\n",
    "results = smf.glm(formula=formula, data=dta).fit()\n",
    "\n",
    "results.summary()"
   ]
  },
  {
   "cell_type": "code",
   "execution_count": null,
   "metadata": {},
   "outputs": [],
   "source": []
  }
 ],
 "metadata": {
  "kernelspec": {
   "display_name": "Python 2",
   "language": "python",
   "name": "python2"
  },
  "language_info": {
   "codemirror_mode": {
    "name": "ipython",
    "version": 2
   },
   "file_extension": ".py",
   "mimetype": "text/x-python",
   "name": "python",
   "nbconvert_exporter": "python",
   "pygments_lexer": "ipython2",
   "version": "2.7.14"
  }
 },
 "nbformat": 4,
 "nbformat_minor": 2
}
