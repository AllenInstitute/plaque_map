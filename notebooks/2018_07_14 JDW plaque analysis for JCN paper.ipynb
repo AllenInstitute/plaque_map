{
 "cells": [
  {
   "cell_type": "code",
   "execution_count": null,
   "metadata": {},
   "outputs": [],
   "source": [
    "import os\n",
    "import numpy as np\n",
    "import pandas as pd\n",
    "import matplotlib.pyplot as plt\n",
    "import seaborn as sns\n",
    "from allensdk.core.mouse_connectivity_cache import MouseConnectivityCache\n",
    "from matplotlib import cm\n",
    "import operator\n",
    "import matplotlib.ticker as ticker\n",
    "from scipy import stats\n",
    "import statsmodels.api as sm\n",
    "from statsmodels.formula.api import ols\n",
    "from statsmodels.stats.anova import anova_lm\n",
    "import matplotlib.lines as mlines\n",
    "\n",
    "sns.set_context('paper')\n",
    "sns.set_style('white')\n",
    "%matplotlib inline\n",
    "\n",
    "import matplotlib as mpl\n",
    "mpl.rcParams['pdf.fonttype'] = 42"
   ]
  },
  {
   "cell_type": "code",
   "execution_count": null,
   "metadata": {},
   "outputs": [],
   "source": [
    "path = r'/Users/jenniferwh/Dropbox (Allen Institute)/Mesoscale Connectome Papers in Progress/2018 Plaque'\n",
    "savepath = os.path.join(path, 'figures', 'after_QC')"
   ]
  },
  {
   "cell_type": "code",
   "execution_count": null,
   "metadata": {},
   "outputs": [],
   "source": [
    "dat = pd.read_csv(os.path.join(path, 'unionizes', 'plaque_unionizes.csv'))\n",
    "dat = dat[dat['control'] == False]"
   ]
  },
  {
   "cell_type": "code",
   "execution_count": null,
   "metadata": {},
   "outputs": [],
   "source": [
    "dat.head()"
   ]
  },
  {
   "cell_type": "code",
   "execution_count": null,
   "metadata": {},
   "outputs": [],
   "source": [
    "len(dat['image_series_id'].unique())"
   ]
  },
  {
   "cell_type": "code",
   "execution_count": null,
   "metadata": {},
   "outputs": [],
   "source": [
    "dat['age_group'].unique()"
   ]
  },
  {
   "cell_type": "code",
   "execution_count": null,
   "metadata": {},
   "outputs": [],
   "source": [
    "dat['count_per_mm_3'] = dat['sum_plaques']/dat['volume'] #to convert to plaques per mm^3\n",
    "dat['avg_plaque_volume'] = dat['avg_plaque_volume']/1000 #to convert to cubic microns"
   ]
  },
  {
   "cell_type": "code",
   "execution_count": null,
   "metadata": {},
   "outputs": [],
   "source": [
    "dataset = pd.read_csv(os.path.join(path, '_final_plaque_dataset.csv'))\n",
    "print(len(dataset))"
   ]
  },
  {
   "cell_type": "code",
   "execution_count": null,
   "metadata": {},
   "outputs": [],
   "source": [
    "dat['mouse_line'].unique()"
   ]
  },
  {
   "cell_type": "code",
   "execution_count": null,
   "metadata": {},
   "outputs": [],
   "source": [
    "mcc = MouseConnectivityCache(manifest_file = '../connectivity/mouse_connectivity_manifest.json')\n",
    "st = mcc.get_structure_tree()\n",
    "summary_structures = st.get_structures_by_set_id([167587189])\n",
    "summary_structure_ids = [item['id'] for item in summary_structures]\n",
    "ss_acronyms = [item['acronym'] for item in summary_structures]\n",
    "ont_order = [item['graph_order'] for item in summary_structures]\n",
    "ont_order_dict = dict(zip(ss_acronyms, ont_order))\n",
    "print(len(summary_structure_ids))\n"
   ]
  },
  {
   "cell_type": "code",
   "execution_count": null,
   "metadata": {},
   "outputs": [],
   "source": [
    "coarse_structures = st.get_structures_by_set_id([687527670])\n",
    "coarse_structure_ids = [item['id'] for item in coarse_structures]\n",
    "coarse_structure_acronyms = [item['acronym'] for item in coarse_structures]\n",
    "ft = st.get_structures_by_acronym(['fiber tracts'])\n",
    "coarse_structure_ids.append(ft[0]['id'])\n",
    "coarse_structure_acronyms.append(ft[0]['acronym'])\n",
    "ont_order = [item['graph_order'] for item in coarse_structures]\n",
    "ont_order.append(ft[0]['graph_order'])\n",
    "oo_dict_coarse = dict(zip(coarse_structure_acronyms, ont_order))\n",
    "print(len(coarse_structure_ids))"
   ]
  },
  {
   "cell_type": "code",
   "execution_count": null,
   "metadata": {},
   "outputs": [],
   "source": [
    "mcc = MouseConnectivityCache(manifest_file = '../connectivity/mouse_connectivity_manifest.json')\n",
    "structure_tree = mcc.get_structure_tree()\n",
    "ia_map = structure_tree.get_id_acronym_map()\n",
    "ai_map = {value:key for key, value in ia_map.iteritems()}"
   ]
  },
  {
   "cell_type": "code",
   "execution_count": null,
   "metadata": {},
   "outputs": [],
   "source": [
    "structures = summary_structure_ids + coarse_structure_ids + [997]"
   ]
  },
  {
   "cell_type": "code",
   "execution_count": null,
   "metadata": {},
   "outputs": [],
   "source": [
    "dataset['image_series_id'] = [int(value) for value in dataset['Link to image series']]"
   ]
  },
  {
   "cell_type": "code",
   "execution_count": null,
   "metadata": {},
   "outputs": [],
   "source": [
    "[isid for isid in dat['image_series_id'] if isid not in dataset['image_series_id'].values]"
   ]
  },
  {
   "cell_type": "code",
   "execution_count": null,
   "metadata": {},
   "outputs": [],
   "source": [
    "dataset.groupby(['mouse_line', 'age_group', 'Sex'])['image_series_id'].count()"
   ]
  },
  {
   "cell_type": "code",
   "execution_count": null,
   "metadata": {},
   "outputs": [],
   "source": [
    "dat['structure_id'] = [ia_map[structure_acronym] for structure_acronym in dat['structure_acronym']]"
   ]
  },
  {
   "cell_type": "code",
   "execution_count": null,
   "metadata": {},
   "outputs": [],
   "source": [
    "def get_structure_data(age, structure, q_type):\n",
    "    data = dat\n",
    "    if q_type == 'density':\n",
    "        data = data.rename(columns = {'plaque_density': 'plaque'})\n",
    "    elif q_type == 'count':\n",
    "        data = data.rename(columns = {'count_per_mm_3': 'plaque'})\n",
    "    elif q_type == 'volume':\n",
    "        data = data.rename(columns = {'avg_plaque_volume': 'plaque'})\n",
    "    structure_id = ia_map[structure]\n",
    "    groups = []\n",
    "    plaques = []\n",
    "    isids_carrythrough = []\n",
    "    for group in dataset[dataset['age_group'] == age]['mouse_line'].unique():\n",
    "        isids = dataset[(dataset['mouse_line'] == group) & (dataset['age_group'] == age)]['image_series_id'].values\n",
    "        for isid in isids:\n",
    "            groups.append(group)\n",
    "            if len(data[(data['structure_id'] == structure_id) & (\n",
    "                data['image_series_id'] == isid)]['plaque']) > 0:\n",
    "                plaques.append(data[(data['structure_id'] == structure_id) & \n",
    "                                         (data['image_series_id'] == isid)]\n",
    "                                     ['plaque'].values[0])\n",
    "            else:\n",
    "                print(isid)\n",
    "                print(ai_map[structure_id])\n",
    "                plaques.append(0)\n",
    "                    \n",
    "            isids_carrythrough.append(isid)\n",
    "    structuredat = pd.DataFrame({'age': age, 'structure': structure, \n",
    "                                 'group': groups, 'plaques': plaques,\n",
    "                                'image_series_id': isids_carrythrough})\n",
    "    return structuredat"
   ]
  },
  {
   "cell_type": "code",
   "execution_count": null,
   "metadata": {},
   "outputs": [],
   "source": [
    "print(len(dataset['image_series_id'].unique()))"
   ]
  },
  {
   "cell_type": "code",
   "execution_count": null,
   "metadata": {},
   "outputs": [],
   "source": [
    "mouse_line_colors = ['#8da0cb', '#66c2a5', '#fc8d62']\n",
    "mouse_lines = ['APP/PS1', 'Tg2576', 'hAPP-J20']"
   ]
  },
  {
   "cell_type": "code",
   "execution_count": null,
   "metadata": {},
   "outputs": [],
   "source": [
    "structure = 'root'\n",
    "structure_id = ia_map[structure]\n",
    "order = ['5 mo', '7 mo', '9 mo', '13 mo', '19 mo']\n",
    "\n",
    "ages = []\n",
    "groups = []\n",
    "plaque_density = []\n",
    "isids_carrythrough = []\n",
    "for age in dataset['age_group'].unique():\n",
    "    for group in dataset[dataset['age_group'] == age]['mouse_line'].unique():\n",
    "        isids = dataset[(dataset['mouse_line'] == group) & (dataset['age_group'] == age)]['image_series_id'].values\n",
    "        for isid in isids:\n",
    "            ages.append(age)\n",
    "            groups.append(group)\n",
    "            plaque_density.append(dat[(dat['structure_id'] == structure_id) & \n",
    "                                             (dat['image_series_id'] == isid)]\n",
    "                                         ['plaque_density'].values[0])\n",
    "            isids_carrythrough.append(isid)\n",
    "density_dat = pd.DataFrame({'age': ages, 'structure': structure, \n",
    "                             'group': groups, 'plaque density': plaque_density,\n",
    "                             'image_series_id': isids_carrythrough})\n",
    "density_dat['plaque density'] = [density*100 for density in density_dat['plaque density']]\n",
    "\n",
    "ages = []\n",
    "groups = []\n",
    "plaque_count = []\n",
    "isids_carrythrough = []\n",
    "for age in dataset['age_group'].unique():\n",
    "    for group in dataset[dataset['age_group'] == age]['mouse_line'].unique():\n",
    "        isids = dataset[(dataset['mouse_line'] == group) & (dataset['age_group'] == age)]['image_series_id'].values\n",
    "        for isid in isids:\n",
    "            ages.append(age)\n",
    "            groups.append(group)\n",
    "            plaque_count.append(dat[(dat['structure_id'] == structure_id) & \n",
    "                                             (dat['image_series_id'] == isid)]\n",
    "                                         ['count_per_mm_3'].values[0])\n",
    "            isids_carrythrough.append(isid)\n",
    "count_dat = pd.DataFrame({'age': ages, 'structure': structure, \n",
    "                             'group': groups, 'plaque count': plaque_count,\n",
    "                             'image_series_id': isids_carrythrough})\n",
    "\n",
    "\n",
    "fig, ax = plt.subplots(1, 2, figsize = (8, 4))\n",
    "g = sns.swarmplot('age', 'plaque density', hue = 'group', data=density_dat, ax=ax[0],\n",
    "                 order = order, palette = mouse_line_colors, hue_order = mouse_lines)\n",
    "#g.set_ylim([0, 0.016])\n",
    "g.legend_.remove()\n",
    "g.set_ylabel('Plaque Percent Volume')\n",
    "g.set_title('Brain-Wide Plaque Density')\n",
    "h = sns.swarmplot('age', 'plaque count', hue = 'group', \n",
    "                  data=count_dat, ax=ax[1], order = order,\n",
    "                 palette = mouse_line_colors, hue_order = mouse_lines)\n",
    "h.set_ylabel('Plaques Per mm$\\mathregular{^{3}}$')\n",
    "g.legend(loc=2, frameon = False)\n",
    "g.set_xlabel(\"\")\n",
    "h.legend(loc=2, frameon = False)\n",
    "h.set_title('Brain-Wide Plaque Count')\n",
    "h.set_xlabel(\"\")\n",
    "#fig.subplots_adjust(wspace = 0.3)\n",
    "plt.tight_layout()\n",
    "plt.savefig(os.path.join(savepath, 'plaque density count brain-wide 3 lines root.pdf'), \n",
    "            bbox_inches='tight', pad_inches=0.3, format='pdf', transparent = True, dpi=300)"
   ]
  },
  {
   "cell_type": "code",
   "execution_count": null,
   "metadata": {},
   "outputs": [],
   "source": [
    "sns.distplot(density_dat[density_dat['group'] == 'APP/PS1']['plaque density'])"
   ]
  },
  {
   "cell_type": "code",
   "execution_count": null,
   "metadata": {},
   "outputs": [],
   "source": [
    "structure = 'root'\n",
    "structure_id = ia_map[structure]\n",
    "order = ['5 mo', '7 mo', '9 mo', '13 mo', '19 mo']\n",
    "\n",
    "sexes = []\n",
    "ages = []\n",
    "groups = []\n",
    "plaque_density = []\n",
    "isids_carrythrough = []\n",
    "for age in dataset['age_group'].unique():\n",
    "    for group in dataset[dataset['age_group'] == age]['mouse_line'].unique():\n",
    "        isids = dataset[(dataset['mouse_line'] == group) & (dataset['age_group'] == age)]['image_series_id'].values\n",
    "        for isid in isids:\n",
    "            sexes.append( dataset[(dataset['mouse_line'] == group) & \n",
    "                                  (dataset['age_group'] == age) &\n",
    "                                 (dataset['image_series_id'] == isid)]['Sex'].values)\n",
    "            ages.append(age)\n",
    "            groups.append(group)\n",
    "            plaque_density.append(dat[(dat['structure_id'] == structure_id) & \n",
    "                                         (dat['image_series_id'] == isid)]\n",
    "                                     ['plaque_density'].values[0])\n",
    "            isids_carrythrough.append(isid)\n",
    "density_dat = pd.DataFrame({'age': ages, 'sex': sexes, 'structure': structure, \n",
    "                             'group': groups, 'plaque density': plaque_density,\n",
    "                             'image_series_id': isids_carrythrough})\n",
    "density_dat['plaque density'] = [density*100 for density in density_dat['plaque density']]\n",
    "\n",
    "sexes = []\n",
    "ages = []\n",
    "groups = []\n",
    "plaque_count = []\n",
    "isids_carrythrough = []\n",
    "for age in dataset['age_group'].unique():\n",
    "    for group in dataset[dataset['age_group'] == age]['mouse_line'].unique():\n",
    "        isids = dataset[(dataset['mouse_line'] == group) & (dataset['age_group'] == age)]['image_series_id'].values\n",
    "        for isid in isids:\n",
    "            sexes.append( dataset[(dataset['mouse_line'] == group) & \n",
    "                                  (dataset['age_group'] == age) &\n",
    "                                 (dataset['image_series_id'] == isid)]['Sex'].values)\n",
    "            ages.append(age)\n",
    "            groups.append(group)\n",
    "            plaque_count.append(dat[(dat['structure_id'] == structure_id) & \n",
    "                                         (dat['image_series_id'] == isid)]\n",
    "                                     ['count_per_mm_3'].values[0])\n",
    "            isids_carrythrough.append(isid)\n",
    "count_dat = pd.DataFrame({'age': ages, 'sex': sexes, 'structure': structure, \n",
    "                             'group': groups, 'plaque count': plaque_count,\n",
    "                             'image_series_id': isids_carrythrough})\n",
    "\n",
    "fig, ax = plt.subplots(1, 2, figsize = (8, 4))\n",
    "h = sns.swarmplot('age', 'plaque density', hue = 'group', data=density_dat[density_dat['sex'] == 'M'], \n",
    "                  ax=ax[0], order = order, palette = mouse_line_colors, alpha = 0.7,\n",
    "                  hue_order = mouse_lines)\n",
    "h.legend_.remove()\n",
    "g = sns.swarmplot('age', 'plaque density', hue = 'group', data=density_dat[density_dat['sex'] == 'F'], \n",
    "                  ax=ax[0], order = order, palette = mouse_line_colors, marker=ur'$\\u2640$', s=7,\n",
    "                  hue_order = mouse_lines)\n",
    "#g.set_ylim([0, 0.016])\n",
    "g.legend_.remove()\n",
    "g.set_ylabel('Percent Plaque Coverage')\n",
    "g.set_title('Brain-Wide Plaque Density')\n",
    "i = sns.swarmplot('age', 'plaque count', hue = 'group', data=count_dat[count_dat['sex'] == 'M'], \n",
    "                  ax=ax[1], order = order, palette = mouse_line_colors, alpha = 0.7,\n",
    "                  hue_order = mouse_lines)\n",
    "i.legend_.remove()\n",
    "j = sns.swarmplot('age', 'plaque count', hue = 'group', data=count_dat[count_dat['sex'] == 'F'], \n",
    "                  ax=ax[1], order = order, palette = mouse_line_colors, marker=ur'$\\u2640$', s=7,\n",
    "                  hue_order = mouse_lines)\n",
    "i.set_ylabel('Plaques Per mm$\\mathregular{^{3}}$')\n",
    "\n",
    "handles, labels = ax[0].get_legend_handles_labels()\n",
    "g.legend(handles[0:3], labels[0:3],loc=2, borderaxespad=0., frameon = False)\n",
    "g.set_xlabel(\"\")\n",
    "i.legend(handles[0:3], labels[0:3],loc=2, borderaxespad=0., frameon = False)\n",
    "i.set_title('Brain-Wide Plaque Count')\n",
    "i.set_xlabel(\"\")\n",
    "plt.tight_layout()\n",
    "plt.savefig(os.path.join(savepath, 'plaque density count brain-wide 3 lines MF.pdf'), \n",
    "            bbox_inches='tight', pad_inches=0.3, format='pdf', transparent = True, dpi=300)"
   ]
  },
  {
   "cell_type": "code",
   "execution_count": null,
   "metadata": {},
   "outputs": [],
   "source": [
    "sexes = []\n",
    "ages = []\n",
    "groups = []\n",
    "mean_volume = []\n",
    "isids_carrythrough = []\n",
    "for age in dataset['age_group'].unique():\n",
    "    for group in dataset[dataset['age_group'] == age]['mouse_line'].unique():\n",
    "        isids = dataset[(dataset['mouse_line'] == group) & (dataset['age_group'] == age)]['image_series_id'].values\n",
    "        for isid in isids:\n",
    "            sexes.append( dataset[(dataset['mouse_line'] == group) & \n",
    "                                  (dataset['age_group'] == age) &\n",
    "                                 (dataset['image_series_id'] == isid)]['Sex'].values)\n",
    "            ages.append(age)\n",
    "            groups.append(group)\n",
    "            mean_volume.append(dat[(dat['structure_id'] == structure_id) & \n",
    "                                         (dat['image_series_id'] == isid)]\n",
    "                                     ['avg_plaque_volume'].values[0])\n",
    "            isids_carrythrough.append(isid)\n",
    "volume_dat = pd.DataFrame({'age': ages, 'sex': sexes, 'structure': structure, \n",
    "                             'group': groups, 'mean plaque volume': mean_volume,\n",
    "                             'image_series_id': isids_carrythrough})\n",
    "\n",
    "fig, ax = plt.subplots()\n",
    "k = sns.swarmplot('age', 'mean plaque volume', hue = 'group', data=volume_dat[volume_dat['sex'] == 'M'], \n",
    "                  ax=ax, order = order, palette = mouse_line_colors, alpha = 0.7,\n",
    "                  hue_order = mouse_lines)\n",
    "k.legend_.remove()\n",
    "j = sns.swarmplot('age', 'mean plaque volume', hue = 'group', data=volume_dat[volume_dat['sex'] == 'F'], \n",
    "                  ax=ax, order = order, palette = mouse_line_colors, marker=ur'$\\u2640$', s=7,\n",
    "                  hue_order = mouse_lines)\n",
    "j.set_ylabel('Mean Plaque Volume (mm$\\mathregular{^{3}}$)')\n",
    "j.legend_.remove()\n",
    "k.legend(handles[0:3], labels[0:3],loc=2, borderaxespad=0.)\n",
    "k.set_title('Plaque Volume')\n",
    "k.set_xlabel(\"\")"
   ]
  },
  {
   "cell_type": "code",
   "execution_count": null,
   "metadata": {},
   "outputs": [],
   "source": [
    "def find_density_by_structure(structure):\n",
    "    structure_id = ia_map[structure]\n",
    "    sexes = []\n",
    "    ages = []\n",
    "    groups = []\n",
    "    plaque_density = []\n",
    "    isids_carrythrough = []\n",
    "    for age in dataset['age_group'].unique():\n",
    "        for group in dataset[dataset['age_group'] == age]['mouse_line'].unique():\n",
    "            isids = dataset[(dataset['mouse_line'] == group) & (dataset['age_group'] == age)]['image_series_id'].values\n",
    "            for isid in isids:\n",
    "                sexes.append( dataset[(dataset['mouse_line'] == group) & \n",
    "                                      (dataset['age_group'] == age) &\n",
    "                                     (dataset['image_series_id'] == isid)]['Sex'].values)\n",
    "                ages.append(age)\n",
    "                groups.append(group)\n",
    "                plaque_density.append(dat[(dat['structure_id'] == structure_id) & \n",
    "                                             (dat['image_series_id'] == isid)]\n",
    "                                         ['plaque_density'].values[0])\n",
    "                isids_carrythrough.append(isid)\n",
    "    density_dat = pd.DataFrame({'age': ages, 'sex': sexes, 'structure': structure, \n",
    "                                 'group': groups, 'plaque density': plaque_density,\n",
    "                                 'image_series_id': isids_carrythrough})\n",
    "    density_dat['plaque density'] = [density*100 for density in density_dat['plaque density']]\n",
    "    return(density_dat)\n",
    "\n",
    "def find_count_by_structure(structure):\n",
    "    structure_id = ia_map[structure]\n",
    "    sexes = []\n",
    "    ages = []\n",
    "    groups = []\n",
    "    plaque_count = []\n",
    "    isids_carrythrough = []\n",
    "    for age in dataset['age_group'].unique():\n",
    "        for group in dataset[dataset['age_group'] == age]['mouse_line'].unique():\n",
    "            isids = dataset[(dataset['mouse_line'] == group) & (dataset['age_group'] == age)]['image_series_id'].values\n",
    "            for isid in isids:\n",
    "                sexes.append( dataset[(dataset['mouse_line'] == group) & \n",
    "                                      (dataset['age_group'] == age) &\n",
    "                                     (dataset['image_series_id'] == isid)]['Sex'].values)\n",
    "                ages.append(age)\n",
    "                groups.append(group)\n",
    "                plaque_count.append(dat[(dat['structure_id'] == structure_id) & \n",
    "                                             (dat['image_series_id'] == isid)]\n",
    "                                         ['count_per_mm_3'].values[0])\n",
    "                isids_carrythrough.append(isid)\n",
    "    count_dat = pd.DataFrame({'age': ages, 'sex': sexes, 'structure': structure, \n",
    "                                 'group': groups, 'plaque count': plaque_count,\n",
    "                                 'image_series_id': isids_carrythrough})\n",
    "    return(count_dat)"
   ]
  },
  {
   "cell_type": "code",
   "execution_count": null,
   "metadata": {},
   "outputs": [],
   "source": [
    "order = ['5 mo', '7 mo', '9 mo', '13 mo', '19 mo']\n",
    "root_d = find_density_by_structure('root')\n",
    "root_c = find_count_by_structure('root')\n",
    "\n",
    "iso_d = find_density_by_structure('Isocortex')\n",
    "iso_c = find_count_by_structure('Isocortex')\n",
    "\n",
    "hpc_d = find_density_by_structure('HPF')\n",
    "hpc_c = find_count_by_structure('HPF')\n",
    "\n",
    "fig, ax = plt.subplots(4, 1, figsize = (3, 10))\n",
    "a = sns.swarmplot('age', 'plaque density', hue = 'group', data=root_d[root_d['sex'] == 'M'], \n",
    "                  ax=ax[1], order = order, palette = mouse_line_colors, alpha = 0.7,\n",
    "                  hue_order = mouse_lines)\n",
    "a.legend_.remove()\n",
    "a = sns.swarmplot('age', 'plaque density', hue = 'group', data=root_d[root_d['sex'] == 'F'], \n",
    "                  ax=ax[1], order = order, palette = mouse_line_colors, marker=ur'$\\u2640$', s=7,\n",
    "                  hue_order = mouse_lines)\n",
    "ax[1].axhline(y=0, color = 'grey', linestyle = 'dashed', zorder = -1)\n",
    "a.set_ylabel('Percent Plaque Coverage')\n",
    "a.set_xlabel(\"\")\n",
    "handles, labels = ax[0].get_legend_handles_labels()\n",
    "a.legend(handles[0:3], labels[0:3],loc=2, borderaxespad=0., frameon = False)\n",
    "a.set_title('Brain-Wide Plaque Density')\n",
    "\n",
    "b = sns.swarmplot('age', 'plaque count', hue = 'group', data=root_c[root_c['sex'] == 'M'], \n",
    "                  ax=ax[0], order = order, palette = mouse_line_colors, alpha = 0.7,\n",
    "                  hue_order = mouse_lines)\n",
    "b.legend_.remove()\n",
    "b = sns.swarmplot('age', 'plaque count', hue = 'group', data=root_c[root_c['sex'] == 'F'], \n",
    "                  ax=ax[0], order = order, palette = mouse_line_colors, marker=ur'$\\u2640$', s=7,\n",
    "                  hue_order = mouse_lines)\n",
    "ax[0].axhline(y=0, color = 'grey', linestyle = 'dashed', zorder = -1)\n",
    "b.set_ylabel('Plaques Per mm$\\mathregular{^{3}}$')\n",
    "b.set_xlabel(\"\")\n",
    "b.set_title('Brain-Wide Plaque Count')\n",
    "b.legend_.remove()\n",
    "\n",
    "c = sns.swarmplot('age', 'plaque density', hue = 'group', data=iso_d[iso_d['sex'] == 'M'], \n",
    "                  ax=ax[2], order = order, palette = mouse_line_colors, alpha = 0.7,\n",
    "                  hue_order = mouse_lines)\n",
    "c.legend_.remove()\n",
    "c = sns.swarmplot('age', 'plaque density', hue = 'group', data=iso_d[iso_d['sex'] == 'F'], \n",
    "                  ax=ax[2], order = order, palette = mouse_line_colors, marker=ur'$\\u2640$', s=7,\n",
    "                  hue_order = mouse_lines)\n",
    "ax[2].axhline(y=0, color = 'grey', linestyle = 'dashed', zorder = -1)\n",
    "c.set_ylabel('Percent Plaque Coverage')\n",
    "c.set_xlabel(\"\")\n",
    "c.legend_.remove()\n",
    "c.set_title('Plaque Density in Isocortex')\n",
    "e = sns.swarmplot('age', 'plaque density', hue = 'group', data=hpc_d[hpc_d['sex'] == 'M'], \n",
    "                  ax=ax[3], order = order, palette = mouse_line_colors, alpha = 0.7,\n",
    "                  hue_order = mouse_lines)\n",
    "e.legend_.remove()\n",
    "e = sns.swarmplot('age', 'plaque density', hue = 'group', data=hpc_d[hpc_d['sex'] == 'F'], \n",
    "                  ax=ax[3], order = order, palette = mouse_line_colors, marker=ur'$\\u2640$', s=7,\n",
    "                  hue_order = mouse_lines)\n",
    "ax[3].axhline(y=0, color = 'grey', linestyle = 'dashed', zorder = -1)\n",
    "e.set_ylabel('Percent Plaque Coverage')\n",
    "e.set_xlabel(\"\")\n",
    "e.legend_.remove()\n",
    "e.set_title('Plaque Density in Hippocampus')\n",
    "\n",
    "plt.tight_layout()\n",
    "plt.savefig(os.path.join(savepath, 'plaque density count brain-wide iso hipp 3 lines MF.pdf'), \n",
    "            bbox_inches='tight', pad_inches=0.3, format='pdf', transparent = True, dpi=300)"
   ]
  },
  {
   "cell_type": "code",
   "execution_count": null,
   "metadata": {},
   "outputs": [],
   "source": [
    "root_d.head()"
   ]
  },
  {
   "cell_type": "code",
   "execution_count": null,
   "metadata": {},
   "outputs": [],
   "source": [
    "meddat_root.head()"
   ]
  },
  {
   "cell_type": "code",
   "execution_count": null,
   "metadata": {},
   "outputs": [],
   "source": [
    "order = ['5 mo', '7 mo', '9 mo', '13 mo', '19 mo']\n",
    "root_d = find_density_by_structure('root')\n",
    "meddat_root = root_d.groupby(['group', 'age']).median().reset_index()\n",
    "root_c = find_count_by_structure('root')\n",
    "meddat_root_c = root_c.groupby(['group', 'age']).median().reset_index()\n",
    "\n",
    "iso_d = find_density_by_structure('Isocortex')\n",
    "meddat_iso = iso_d.groupby(['group', 'age']).median().reset_index()\n",
    "hpc_d = find_density_by_structure('HPF')\n",
    "meddat_hpc = hpc_d.groupby(['group', 'age']).median().reset_index()\n",
    "\n",
    "fig, ax = plt.subplots(2, 1, figsize = (2.5, 4), sharex = True)\n",
    "\n",
    "a = sns.stripplot('age', 'plaque density', hue = 'group', data=root_d, \n",
    "                  ax=ax[1], order = order, palette = mouse_line_colors, alpha = 0.5,\n",
    "                  hue_order = mouse_lines)\n",
    "a = sns.pointplot('age', 'plaque density', hue = 'group', data=meddat_root, marker = None,\n",
    "                  ax=ax[1], order = order, palette = mouse_line_colors, \n",
    "                  hue_order = mouse_lines)\n",
    "a.legend_.remove()\n",
    "#ax[1].axhline(y=0, color = 'grey', linestyle = 'dashed', zorder = -1)\n",
    "ax[1].set_yscale('log')\n",
    "ax[1].set_ylim([10e-4, 10])\n",
    "a.set_ylabel('Plaque Load (%) \\n (log scale)')\n",
    "a.set_xlabel(\"\")\n",
    "a.set_title('Plaque Density')\n",
    "\n",
    "b = sns.stripplot('age', 'plaque count', hue = 'group', data=root_c, \n",
    "                  ax=ax[0], order = order, palette = mouse_line_colors, alpha = 0.5,\n",
    "                  hue_order = mouse_lines)\n",
    "b = sns.pointplot('age', 'plaque count', hue = 'group', data=meddat_root_c, marker = None,\n",
    "                  ax=ax[0], order = order, palette = mouse_line_colors, \n",
    "                  hue_order = mouse_lines)\n",
    "b.legend_.remove()\n",
    "#ax[0].axhline(y=0, color = 'grey', linestyle = 'dashed', zorder = -1)\n",
    "b.set_ylabel('Plaques Per mm$\\mathregular{^{3}}$')\n",
    "b.set_xlabel(\"\")\n",
    "b.set_title('Plaque Count')\n",
    "\n",
    "handles, labels = ax[0].get_legend_handles_labels()\n",
    "\n",
    "plt.xticks(rotation = 45)\n",
    "plt.tight_layout()\n",
    "plt.savefig(os.path.join(savepath, 'plaque density count brain-wide 3 lines.pdf'), \n",
    "            bbox_inches='tight', pad_inches=0.3, format='pdf', transparent = True, dpi=300)"
   ]
  },
  {
   "cell_type": "code",
   "execution_count": null,
   "metadata": {},
   "outputs": [],
   "source": [
    "fig, ax = plt.subplots()\n",
    "ax.legend(handles[0:3], labels[0:3],loc='upper center', borderaxespad=0., markerscale = 0.6, ncol = 3,\n",
    "        bbox_to_anchor = (0.5, -0.4))\n",
    "plt.savefig(os.path.join(savepath, 'mouse_lines_legend_horizontal.pdf'), \n",
    "            bbox_inches='tight', pad_inches=0.3, format='pdf', transparent = True, dpi=300)"
   ]
  },
  {
   "cell_type": "code",
   "execution_count": null,
   "metadata": {},
   "outputs": [],
   "source": [
    "order = ['5 mo', '7 mo', '9 mo', '13 mo', '19 mo']\n",
    "root_d = find_density_by_structure('root')\n",
    "meddat_root = root_d.groupby(['group', 'age']).median().reset_index()\n",
    "root_c = find_count_by_structure('root')\n",
    "meddat_root_c = root_c.groupby(['group', 'age']).median().reset_index()\n",
    "\n",
    "iso_d = find_density_by_structure('Isocortex')\n",
    "meddat_iso = iso_d.groupby(['group', 'age']).median().reset_index()\n",
    "hpc_d = find_density_by_structure('HPF')\n",
    "meddat_hpc = hpc_d.groupby(['group', 'age']).median().reset_index()\n",
    "\n",
    "fig, ax = plt.subplots(2, 1, figsize = (2.5, 4), sharex = True)\n",
    "c = sns.stripplot('age', 'plaque density', hue = 'group', data=iso_d, \n",
    "                  ax=ax[0], order = order, palette = mouse_line_colors, alpha = 0.5,\n",
    "                  hue_order = mouse_lines)\n",
    "c = sns.pointplot('age', 'plaque density', hue = 'group', data=meddat_iso, marker = None,\n",
    "                  ax=ax[0], order = order, palette = mouse_line_colors, \n",
    "                  hue_order = mouse_lines)\n",
    "c.legend_.remove()\n",
    "#ax[2].axhline(y=0, color = 'grey', linestyle = 'dashed', zorder = -1)\n",
    "ax[0].set_yscale('log')\n",
    "ax[0].set_ylim([10e-4, 10])\n",
    "c.set_ylabel('Plaque Load (%) \\n (log scale)')\n",
    "c.set_xlabel(\"\")\n",
    "c.set_title('Isocortex')\n",
    "e = sns.stripplot('age', 'plaque density', hue = 'group', data=hpc_d, \n",
    "                  ax=ax[1], order = order, palette = mouse_line_colors, alpha = 0.5,\n",
    "                  hue_order = mouse_lines)\n",
    "e = sns.pointplot('age', 'plaque density', hue = 'group', data=meddat_hpc, marker = None,\n",
    "                  ax=ax[1], order = order, palette = mouse_line_colors, \n",
    "                  hue_order = mouse_lines)\n",
    "e.legend_.remove()\n",
    "\n",
    "#ax[3].axhline(y=0, color = 'grey', linestyle = 'dashed', zorder = -1)\n",
    "ax[1].set_yscale('log')\n",
    "ax[1].set_ylim([10e-4, 10])\n",
    "e.set_ylabel('Plaque Load (%) \\n (log scale)')\n",
    "e.set_xlabel(\"\")\n",
    "e.set_title('Hippocampus')\n",
    "\n",
    "plt.xticks(rotation = 45)\n",
    "plt.tight_layout()\n",
    "plt.savefig(os.path.join(savepath, 'plaque density count iso hipp 3 lines.pdf'), \n",
    "            bbox_inches='tight', pad_inches=0.3, format='pdf', transparent = True, dpi=300)"
   ]
  },
  {
   "cell_type": "code",
   "execution_count": null,
   "metadata": {},
   "outputs": [],
   "source": [
    "density_dat['group'].unique()"
   ]
  },
  {
   "cell_type": "code",
   "execution_count": null,
   "metadata": {},
   "outputs": [],
   "source": [
    "def get_mouse_line_legend():\n",
    "    blue = mlines.Line2D([], [], color=mouse_line_colors[0],\n",
    "                          label='APP/PS1')\n",
    "    green = mlines.Line2D([], [], color=mouse_line_colors[1],\n",
    "                          label='Tg2576')\n",
    "    orange = mlines.Line2D([], [], color=mouse_line_colors[2],\n",
    "                          label='hAPP-J20')\n",
    "    return [blue, green, orange]"
   ]
  },
  {
   "cell_type": "code",
   "execution_count": null,
   "metadata": {},
   "outputs": [],
   "source": [
    "density_dat = find_density_by_structure('grey')\n",
    "g = sns.catplot('age', 'plaque density', hue = 'group', \n",
    "                   data=density_dat, kind = 'strip',\n",
    "                   height = 2, aspect = 2.5, order = ['5 mo', '7 mo', '9 mo', '13 mo', '19 mo'],\n",
    "                  palette = mouse_line_colors, legend = False, alpha = 0.6, label = density_dat['group'].unique(),\n",
    "                  hue_order = mouse_lines)\n",
    "h = sns.pointplot('age', 'plaque density', hue = 'group', \n",
    "                   data=density_dat, estimator = np.median, markers = 'd',\n",
    "                   height = 2, aspect = 4, order = ['5 mo', '7 mo', '9 mo', '13 mo', '19 mo'],\n",
    "                  ci = False, palette = mouse_line_colors, legend = False, \n",
    "                  hue_order = mouse_lines, yerr = 'err')\n",
    "h.set(yscale=\"log\")\n",
    "#ax.set_ylim([0.001, 10])\n",
    "#g.set_yticklabels(['0.001', '0.01', '0.1', '1', '10'])\n",
    "plt.title('Whole Brain Plaque Density', y=1.1)\n",
    "plt.legend(handles=get_mouse_line_legend(), loc=2, bbox_to_anchor = (0, 1.3))\n",
    "h.set_ylabel('Plaque Percent Volume \\n(log10)')\n",
    "h.set_xlabel('')\n",
    "plt.savefig(os.path.join(savepath, 'whole brain plaque density by age 3 lines.pdf'), \n",
    "            bbox_inches='tight', pad_inches=0.3, format='pdf', transparent = True, dpi=300)"
   ]
  },
  {
   "cell_type": "code",
   "execution_count": null,
   "metadata": {},
   "outputs": [],
   "source": [
    "ccf_colors = ['#70ff71', '#9ad2bd', '#7ed04b', '#8ada87', '#98d6f9', '#8599cc', '#ff7080', '#e64438', '#ff64ff', \n",
    "              '#ff9b88','#ff9bcd', '#f0f080', '#cccccc']"
   ]
  },
  {
   "cell_type": "code",
   "execution_count": null,
   "metadata": {},
   "outputs": [],
   "source": [
    "pltdat = pd.DataFrame(columns={'age', 'group', 'plaques', 'structure'})\n",
    "for structure in coarse_structure_ids:\n",
    "    structure_acronym = ai_map[structure]\n",
    "    pltdat = pd.concat([pltdat, get_structure_data('13 mo', structure_acronym, 'density')], sort = True)\n",
    "mdf = pd.melt(pltdat, id_vars = ['age', 'structure', 'group', 'image_series_id'], value_name = 'plaque density')\n",
    "mdf['plaque density'] = [density*100 for density in mdf['plaque density']]\n",
    "mdf['ont_order'] = [oo_dict_coarse[acronym] for acronym in mdf['structure']]\n",
    "mdf = mdf.sort_values(by='ont_order')\n",
    "fig, ax = plt.subplots(1, 3, figsize = (4, 4), sharex = False, sharey = True)\n",
    "groups = ['APP/PS1', 'Tg2576', 'hAPP-J20'] # same as mdf['group'].unique() but keeps consistent plot order\n",
    "for ix in range(3):\n",
    "    group = groups[ix]\n",
    "    g = sns.boxplot('plaque density', 'structure', data = mdf[mdf['group'] == group], ax=ax[ix], \n",
    "                    color = 'white', fliersize = 1)\n",
    "    sns.stripplot('plaque density', 'structure', data = mdf[mdf['group'] == group], alpha = 0.3,\n",
    "                  palette = ccf_colors, ax=ax[ix], dodge = True)\n",
    "    g.set_title(group)\n",
    "    if group in ['hAPP-J20', 'Tg2576']:\n",
    "        g.set_xlim([0, 0.3])\n",
    "        ax[ix].xaxis.set_major_locator(ticker.MultipleLocator(0.3))\n",
    "        ax[ix].xaxis.set_major_formatter(ticker.ScalarFormatter())\n",
    "        ax[ix].set_ylabel('')\n",
    "        ax[ix].set_xlabel('')\n",
    "    if group == 'APP/PS1':\n",
    "        g.set_xlim([0, 3])\n",
    "        ax[ix].xaxis.set_major_locator(ticker.MultipleLocator(1))\n",
    "        ax[ix].xaxis.set_major_formatter(ticker.ScalarFormatter())\n",
    "        ax[ix].set_ylabel('')\n",
    "        ax[ix].set_xlabel('')\n",
    "        ax[ix].axvline(x=0.3, color = 'grey', linestyle = 'dashed', zorder = -1)\n",
    "    if group == 'hAPP-J20':\n",
    "        ax[ix].set_xlabel('Plaque Percent Volume')\n",
    "    plt.tight_layout()\n",
    "    fig.subplots_adjust(wspace = 0.3)\n",
    "plt.savefig(os.path.join(savepath, 'box-swarm plots major divisions 12 mo.pdf'), \n",
    "            bbox_inches='tight', pad_inches=0.3, format='pdf', transparent = True, dpi=300)"
   ]
  },
  {
   "cell_type": "code",
   "execution_count": null,
   "metadata": {},
   "outputs": [],
   "source": [
    "pltdat = pd.DataFrame(columns={'age', 'group', 'plaques', 'structure'})\n",
    "for structure in coarse_structure_ids:\n",
    "    structure_acronym = ai_map[structure]\n",
    "    pltdat = pd.concat([pltdat, get_structure_data('13 mo', structure_acronym, 'density')], sort = True)\n",
    "mdf = pd.melt(pltdat, id_vars = ['age', 'structure', 'group', 'image_series_id'], value_name = 'plaque density')\n",
    "mdf['plaque density'] = [density*100 for density in mdf['plaque density']]\n",
    "mdf['ont_order'] = [oo_dict_coarse[acronym] for acronym in mdf['structure']]\n",
    "mdf = mdf.sort_values(by='ont_order')\n",
    "fig, ax = plt.subplots(3, 1, figsize = (4, 3.5), sharex = True)\n",
    "groups = ['APP/PS1', 'Tg2576', 'hAPP-J20'] # same as mdf['group'].unique() but keeps consistent plot order\n",
    "for ix in range(3):\n",
    "    group = groups[ix]\n",
    "    g = sns.boxplot('structure', 'plaque density', data = mdf[mdf['group'] == group], ax=ax[ix], \n",
    "                    color = 'white', fliersize = 1)\n",
    "    sns.stripplot('structure', 'plaque density', data = mdf[mdf['group'] == group], alpha = 0.3,\n",
    "                  palette = ccf_colors, ax=ax[ix], dodge = True)\n",
    "    g.set_title(group)\n",
    "    if group in ['hAPP-J20', 'Tg2576']:\n",
    "        g.set_ylim([0, 0.25])\n",
    "        ax[ix].yaxis.set_major_locator(ticker.MultipleLocator(0.1))\n",
    "        ax[ix].yaxis.set_major_formatter(ticker.ScalarFormatter())\n",
    "        ax[ix].set_xlabel('')\n",
    "        ax[ix].set_ylabel('')\n",
    "    if group == 'APP/PS1':\n",
    "        g.set_ylim([0, 3])\n",
    "        ax[ix].yaxis.set_major_locator(ticker.MultipleLocator(1))\n",
    "        ax[ix].yaxis.set_major_formatter(ticker.ScalarFormatter())\n",
    "        ax[ix].set_xlabel('')\n",
    "        ax[ix].set_ylabel('')\n",
    "        ax[ix].axhline(y=0.25, color = 'grey', linestyle = 'dashed', zorder = -1)\n",
    "    if group == 'Tg2576':\n",
    "        ax[ix].set_ylabel('Plaque Load (%)')\n",
    "    plt.tight_layout()\n",
    "    fig.subplots_adjust(hspace = 0.4)\n",
    "plt.xticks(rotation = 90)\n",
    "plt.savefig(os.path.join(savepath, 'box-swarm plots major divisions horizontal 12 mo.pdf'), \n",
    "            bbox_inches='tight', pad_inches=0.3, format='pdf', transparent = True, dpi=300)"
   ]
  },
  {
   "cell_type": "code",
   "execution_count": null,
   "metadata": {},
   "outputs": [],
   "source": [
    "pltdat = pd.DataFrame(columns={'age', 'group', 'plaques', 'structure'})\n",
    "for structure in coarse_structure_ids:\n",
    "    structure_acronym = ai_map[structure]\n",
    "    pltdat = pd.concat([pltdat, get_structure_data('19 mo', structure_acronym, 'density')], sort = True)\n",
    "mdf = pd.melt(pltdat, id_vars = ['age', 'structure', 'group', 'image_series_id'], value_name = 'plaque density')\n",
    "mdf['plaque density'] = [density*100 for density in mdf['plaque density']]\n",
    "mdf['ont_order'] = [oo_dict_coarse[acronym] for acronym in mdf['structure']]\n",
    "mdf = mdf.sort_values(by='ont_order')\n",
    "fig, ax = plt.subplots(3, 1, figsize = (4, 3.5), sharex = True)\n",
    "groups = ['APP/PS1', 'Tg2576', 'hAPP-J20'] # same as mdf['group'].unique() but keeps consistent plot order\n",
    "for ix in range(3):\n",
    "    group = groups[ix]\n",
    "    g = sns.boxplot('structure', 'plaque density', data = mdf[mdf['group'] == group], ax=ax[ix], \n",
    "                    color = 'white', fliersize = 1)\n",
    "    sns.stripplot('structure', 'plaque density', data = mdf[mdf['group'] == group], alpha = 0.3,\n",
    "                  palette = ccf_colors, ax=ax[ix], dodge = True)\n",
    "    g.set_title(group)\n",
    "    if group in ['hAPP-J20', 'Tg2576']:\n",
    "        g.set_ylim([0, 0.7])\n",
    "        ax[ix].yaxis.set_major_locator(ticker.MultipleLocator(0.2))\n",
    "        ax[ix].yaxis.set_major_formatter(ticker.ScalarFormatter())\n",
    "        ax[ix].set_xlabel('')\n",
    "        ax[ix].set_ylabel('')\n",
    "    if group == 'APP/PS1':\n",
    "        g.set_ylim([0, 3])\n",
    "        ax[ix].yaxis.set_major_locator(ticker.MultipleLocator(1))\n",
    "        ax[ix].yaxis.set_major_formatter(ticker.ScalarFormatter())\n",
    "        ax[ix].set_xlabel('')\n",
    "        ax[ix].set_ylabel('')\n",
    "        ax[ix].axhline(y=0.7, color = 'grey', linestyle = 'dashed', zorder = -1)\n",
    "    if group == 'Tg2576':\n",
    "        ax[ix].set_ylabel('Plaque Load (%)')\n",
    "    plt.tight_layout()\n",
    "    fig.subplots_adjust(hspace = 0.4)\n",
    "plt.xticks(rotation = 90)\n",
    "plt.savefig(os.path.join(savepath, 'box-swarm plots major divisions horizontal 18 mo.pdf'), \n",
    "            bbox_inches='tight', pad_inches=0.3, format='pdf', transparent = True, dpi=300)"
   ]
  },
  {
   "cell_type": "code",
   "execution_count": null,
   "metadata": {},
   "outputs": [],
   "source": [
    "g.legend?"
   ]
  },
  {
   "cell_type": "code",
   "execution_count": null,
   "metadata": {},
   "outputs": [],
   "source": [
    "order = ['5 mo', '7 mo', '9 mo', '13 mo', '19 mo']\n",
    "thal_d = find_density_by_structure('TH')\n",
    "thal_d['sex'] = [sex[0][0] for sex in thal_d['sex'].values]\n",
    "colors = ['#fdd49e', '#fdbb84', '#fc8d59', '#e34a33', '#b30000']\n",
    "\n",
    "fig, ax = plt.subplots(figsize = (1, 2))\n",
    "g = sns.swarmplot('sex', 'plaque density', hue = 'age', data=thal_d[thal_d['group'] == 'hAPP-J20'], \n",
    "                  ax=ax, palette = colors, hue_order = order)\n",
    "ax.axhline(y=0, color = 'grey', linestyle = 'dashed', zorder = -1)\n",
    "g.set_ylabel('Percent Plaque Coverage')\n",
    "g.set_xlabel(\"\")\n",
    "ax.set_ylim([0, 0.05])\n",
    "g.set_title('Plaque Density in Thalamus \\n hAPP-J20 mice', y=1.05)\n",
    "g.legend(frameon = False, markerscale = 0.5, bbox_to_anchor = (0.9, 1))\n",
    "plt.savefig(os.path.join(savepath, 'J20_thalamus_by_sex.pdf'), \n",
    "            bbox_inches='tight', pad_inches=0.3, format='pdf', transparent = True, dpi=300)"
   ]
  },
  {
   "cell_type": "markdown",
   "metadata": {},
   "source": [
    "## Plotting Functions"
   ]
  },
  {
   "cell_type": "code",
   "execution_count": null,
   "metadata": {},
   "outputs": [],
   "source": [
    "light_colors = ['#afb8cc', '#b5cec6', '#f9c9b6']"
   ]
  },
  {
   "cell_type": "code",
   "execution_count": null,
   "metadata": {},
   "outputs": [],
   "source": [
    "def make_boxplots(age, structures, title, width, height, ax_split = 0):\n",
    "    pltdat = pd.DataFrame(columns={'age', 'group', 'plaques', 'structure'})\n",
    "    for structure in structures:\n",
    "        structure_acronym = ai_map[structure]\n",
    "        pltdat = pd.concat([pltdat, get_structure_data(age, structure_acronym, 'density')], sort = True)\n",
    "    mdf = pd.melt(pltdat, id_vars = ['age', 'structure', 'group', 'image_series_id'], value_name = 'plaque density')\n",
    "    mdf['Percent Plaque Coverage'] = [density*100 for density in mdf['plaque density']]\n",
    "    \n",
    "    fig, ax = plt.subplots(3, figsize = (width, height))\n",
    "    iso = structure_tree.get_structures_by_acronym(['Isocortex'])[0]\n",
    "    iso = structure_tree.descendant_ids([iso['id']])[0]\n",
    "    iso = [structure for structure in iso if structure in summary_structure_ids]\n",
    "    if structures == iso:\n",
    "        g = sns.boxplot('structure', 'Percent Plaque Coverage', color = 'white', data = mdf[mdf['group'] == 'APP/PS1'], \n",
    "                        order = plot_order, dodge = False, ax = ax[0], fliersize = 1)\n",
    "        for artist in ax[0].artists:\n",
    "            artist.set_facecolor('None')\n",
    "        g = sns.stripplot('structure', 'Percent Plaque Coverage', hue = 'group', \n",
    "                           data = mdf[mdf['group'] == 'APP/PS1'], alpha = 0.3,\n",
    "                           order = plot_order, palette = mouse_line_colors,\n",
    "                          hue_order = mouse_lines, ax = ax[0])\n",
    "        h = sns.boxplot('structure', 'Percent Plaque Coverage', color = 'white', data = mdf[mdf['group'] == 'Tg2576'], \n",
    "                        order = plot_order, dodge = False, ax = ax[1], fliersize = 1)\n",
    "        for artist in ax[1].artists:\n",
    "            artist.set_facecolor('None')\n",
    "        h = sns.stripplot('structure', 'Percent Plaque Coverage', hue = 'group', \n",
    "                           data = mdf[mdf['group'] == 'Tg2576'], alpha = 0.3,\n",
    "                           order = plot_order, palette = mouse_line_colors,\n",
    "                          hue_order = mouse_lines, ax = ax[1])\n",
    "        h = sns.boxplot('structure', 'Percent Plaque Coverage', color = 'white', data = mdf[mdf['group'] == 'hAPP-J20'], \n",
    "                        order = plot_order, dodge = False, ax = ax[2], fliersize = 1)\n",
    "        for artist in ax[2].artists:\n",
    "            artist.set_facecolor('None')\n",
    "        h = sns.stripplot('structure', 'Percent Plaque Coverage', hue = 'group', \n",
    "                           data = mdf[mdf['group'] == 'hAPP-J20'], alpha = 0.3,\n",
    "                           order = plot_order, palette = mouse_line_colors,\n",
    "                          hue_order = mouse_lines, ax = ax[2])\n",
    "    else:\n",
    "        g = sns.boxplot('structure', 'Percent Plaque Coverage', color = 'white', data = mdf[mdf['group'] == 'APP/PS1'], \n",
    "                        dodge = False, ax = ax[0], fliersize = 1)\n",
    "        for artist in ax[0].artists:\n",
    "            artist.set_facecolor('None')\n",
    "        g = sns.stripplot('structure', 'Percent Plaque Coverage', hue = 'group', \n",
    "                           data = mdf[mdf['group'] == 'APP/PS1'], alpha = 0.3,\n",
    "                           palette = mouse_line_colors,\n",
    "                          hue_order = mouse_lines, ax = ax[0])\n",
    "        h = sns.boxplot('structure', 'Percent Plaque Coverage', color = 'white', data = mdf[mdf['group'] == 'Tg2576'], \n",
    "                        dodge = False, ax = ax[1], fliersize = 1)\n",
    "        for artist in ax[1].artists:\n",
    "            artist.set_facecolor('None')\n",
    "        h = sns.stripplot('structure', 'Percent Plaque Coverage', hue = 'group', \n",
    "                           data = mdf[mdf['group'] == 'Tg2576'], alpha = 0.3,\n",
    "                           palette = mouse_line_colors,\n",
    "                          hue_order = mouse_lines, ax = ax[1])\n",
    "        h = sns.boxplot('structure', 'Percent Plaque Coverage', color = 'white', data = mdf[mdf['group'] == 'hAPP-J20'], \n",
    "                        dodge = False, ax = ax[2], fliersize = 1)\n",
    "        for artist in ax[2].artists:\n",
    "            artist.set_facecolor('None')\n",
    "        h = sns.stripplot('structure', 'Percent Plaque Coverage', hue = 'group', \n",
    "                           data = mdf[mdf['group'] == 'hAPP-J20'], alpha = 0.3,\n",
    "                           palette = mouse_line_colors,\n",
    "                          hue_order = mouse_lines, ax = ax[2])\n",
    "    plt.xticks(rotation = 90)\n",
    "    plt.subplots_adjust(top=2)\n",
    "    if ax_split == 0:\n",
    "        yval = np.max(mdf[mdf['group'].isin(['hAPP-J20', 'Tg2576'])]['Percent Plaque Coverage'])\n",
    "    else:\n",
    "        yval = ax_split\n",
    "    ticks = yval/5\n",
    "    ax[0].set_xlabel(\"\")\n",
    "    ax[0].set_xticklabels(\"\")\n",
    "    ax[0].legend_.remove()\n",
    "    ax[0].set_ylabel(\"\")\n",
    "    ax[0].axhline(y=yval, color = 'grey', linestyle = 'dashed', zorder = -1)\n",
    "    ax[1].set_xlabel(\"\")\n",
    "    ax[1].set_xticklabels(\"\")\n",
    "    ax[1].legend_.remove()\n",
    "    ax[1].set_ylim([0, yval])\n",
    "    ax[1].yaxis.set_major_locator(ticker.MultipleLocator(ticks))\n",
    "    ax[1].yaxis.set_major_formatter(ticker.ScalarFormatter())\n",
    "    ax[2].set_ylabel(\"Plaque Percent Volume\")\n",
    "    ax[2].set_xlabel(\"\")\n",
    "    ax[2].legend_.remove()\n",
    "    ax[2].set_ylabel(\"\")\n",
    "    ax[2].set_ylim([0, yval])\n",
    "    ax[2].yaxis.set_major_locator(ticker.MultipleLocator(ticks))\n",
    "    ax[2].yaxis.set_major_formatter(ticker.ScalarFormatter())\n",
    "    plt.tight_layout()\n",
    "    ax[0].set_title('APP/PS1')\n",
    "    ax[1].set_title('Tg2576')\n",
    "    ax[2].set_title('hAPP-J20')\n",
    "\n",
    "    plt.savefig(os.path.join(savepath, \n",
    "                             'plaque percent coverage {0} {1} boxplot.pdf'.format(title, age)), \n",
    "                bbox_inches='tight', pad_inches=0.3, format='pdf', transparent = True, dpi=300)\n",
    "\n",
    "def make_broken_lineplot(age, structures, title, width, height, break_point, ax_max = 0, legend_loc = 2):\n",
    "    pltdat = pd.DataFrame(columns={'age', 'group', 'plaques', 'structure'})\n",
    "    for structure in structures:\n",
    "        structure_acronym = ai_map[structure]\n",
    "        pltdat = pd.concat([pltdat, get_structure_data(age, structure_acronym, 'density')], sort = True)\n",
    "    pltdat['Percent Plaque Coverage'] = [density*100 for density in pltdat['plaques']]\n",
    "    meddat = pltdat.groupby(['group', 'structure']).median().reset_index()\n",
    "    iso = structure_tree.get_structures_by_acronym(['Isocortex'])[0]\n",
    "    iso = structure_tree.descendant_ids([iso['id']])[0]\n",
    "    iso = [structure for structure in iso if structure in summary_structure_ids]\n",
    "    if structures == iso:\n",
    "        meddat['rank'] = meddat['structure'].map(sorterIndex)\n",
    "        meddat = meddat.sort_values(by='rank')\n",
    "    meddat['lower_error'] = pltdat.groupby(['group', 'structure']).quantile(.25).reset_index()['Percent Plaque Coverage']\n",
    "    meddat['lower_error'] = meddat['Percent Plaque Coverage'] - meddat['lower_error']\n",
    "    meddat['upper_error'] = pltdat.groupby(['group', 'structure']).quantile(.75).reset_index()['Percent Plaque Coverage']\n",
    "    meddat['upper_error'] = meddat['upper_error'] - meddat['Percent Plaque Coverage']\n",
    "    \n",
    "    f, (ax, ax2) = plt.subplots(2, 1, sharex=True, figsize = (width, height))\n",
    "    # plot the same data on both axes\n",
    "\n",
    "    for ix, group in enumerate(mouse_lines):\n",
    "            meddat[meddat['group'] == group].plot('structure', 'Percent Plaque Coverage', \n",
    "                                                  ax = ax, c = mouse_line_colors[ix], linewidth = 3, capsize=.5, \n",
    "                                                  marker = 'o', alpha = 0.3, legend = False,\n",
    "                                                  yerr = np.array(meddat[meddat['group'] == group][['lower_error', 'upper_error']].T))\n",
    "            meddat[meddat['group'] == group].plot('structure', 'Percent Plaque Coverage', \n",
    "                                                  ax = ax2, c = mouse_line_colors[ix], linewidth = 3, capsize=.5, \n",
    "                                                  marker = 'o', alpha = 0.3, legend = False,\n",
    "                                                  yerr = np.array(meddat[meddat['group'] == group][['lower_error', 'upper_error']].T))\n",
    "            meddat[meddat['group'] == group].plot('structure', 'Percent Plaque Coverage', \n",
    "                                                  ax = ax, c = mouse_line_colors[ix], linewidth = 3,  \n",
    "                                                  marker = 'o', legend = False)\n",
    "            meddat[meddat['group'] == group].plot('structure', 'Percent Plaque Coverage', \n",
    "                                                  ax = ax2, c = mouse_line_colors[ix], linewidth = 3, \n",
    "                                                  marker = 'o', legend = False)\n",
    "\n",
    "    if ax_max == 0:\n",
    "        y_max = np.max(meddat['upper_error'])\n",
    "    else:\n",
    "        y_max = ax_max\n",
    "    # zoom-in / limit the view to different portions of the data\n",
    "    ax.set_ylim(break_point, y_max)  # top half\n",
    "    ax2.set_ylim(0, break_point)  # bottom half\n",
    "\n",
    "    # hide the spines between ax and ax2\n",
    "    ax.spines['bottom'].set_visible(False)\n",
    "    ax.tick_params(labeltop='off')  # don't put tick labels at the top\n",
    "    ax.tick_params(top='off')\n",
    "    ax2.spines['top'].set_visible(False)\n",
    "    ax2.tick_params(top='off')\n",
    "    ax2.xaxis.tick_bottom()\n",
    "\n",
    "    d = .015  # how big to make the diagonal lines in axes coordinates\n",
    "    # arguments to pass to plot, just so we don't keep repeating them\n",
    "    kwargs = dict(transform=ax.transAxes, color='k', clip_on=False)\n",
    "    ax.plot((-d, +d), (-d, +d), **kwargs)        # top-left diagonal\n",
    "    ax.plot((1 - d, 1 + d), (-d, +d), **kwargs)  # top-right diagonal\n",
    "\n",
    "    kwargs.update(transform=ax2.transAxes)  # switch to the bottom axes\n",
    "    ax2.plot((-d, +d), (1 - d, 1 + d), **kwargs)  # bottom-left diagonal\n",
    "    ax2.plot((1 - d, 1 + d), (1 - d, 1 + d), **kwargs)  # bottom-right diagonal\n",
    "    f.subplots_adjust(hspace=0.1)\n",
    "    ax2.set_xlabel(\"\")\n",
    "    ax.set_title(title)\n",
    "    ax.legend(handles = get_mouse_line_legend(), loc = legend_loc, frameon = False)\n",
    "    plt.xticks(np.arange(len(meddat['structure'].unique())), meddat['structure'].unique());\n",
    "    plt.setp( ax2.xaxis.get_majorticklabels(), rotation=90 )\n",
    "    plt.savefig(os.path.join(savepath, 'plaque percent coverage in {0} {1} lineplot broken y axis.pdf'.format(title, age)), \n",
    "                bbox_inches='tight', pad_inches=0.3, format='pdf', transparent = True, dpi=300)\n",
    "    \n",
    "def make_lineplot(age, structures, title, width, height, ax_max = 0, legend_loc = 2):\n",
    "    pltdat = pd.DataFrame(columns={'age', 'group', 'plaques', 'structure'})\n",
    "    for structure in structures:\n",
    "        structure_acronym = ai_map[structure]\n",
    "        pltdat = pd.concat([pltdat, get_structure_data(age, structure_acronym, 'density')], sort = True)\n",
    "    pltdat['Percent Plaque Coverage'] = [density*100 for density in pltdat['plaques']]\n",
    "    meddat = pltdat.groupby(['group', 'structure']).median().reset_index()\n",
    "    iso = structure_tree.get_structures_by_acronym(['Isocortex'])[0]\n",
    "    iso = structure_tree.descendant_ids([iso['id']])[0]\n",
    "    iso = [structure for structure in iso if structure in summary_structure_ids]\n",
    "    if structures == iso:\n",
    "        meddat['rank'] = meddat['structure'].map(sorterIndex)\n",
    "        meddat = meddat.sort_values(by='rank')\n",
    "    meddat['lower_error'] = pltdat.groupby(['group', 'structure']).quantile(.25).reset_index()['Percent Plaque Coverage']\n",
    "    meddat['lower_error'] = meddat['Percent Plaque Coverage'] - meddat['lower_error']\n",
    "    meddat['upper_error'] = pltdat.groupby(['group', 'structure']).quantile(.75).reset_index()['Percent Plaque Coverage']\n",
    "    meddat['upper_error'] = meddat['upper_error'] - meddat['Percent Plaque Coverage']\n",
    "    fig, ax = plt.subplots(figsize = (width, height))\n",
    "    for ix, group in enumerate(mouse_lines):\n",
    "        meddat[meddat['group'] == group].plot('structure', 'Percent Plaque Coverage', \n",
    "                                              ax = ax, c = mouse_line_colors[ix], linewidth = 3,  \n",
    "                                              marker = 'o', legend = False)\n",
    "        meddat[meddat['group'] == group].plot('structure', 'Percent Plaque Coverage', \n",
    "                                          ax = ax, c = mouse_line_colors[ix], linewidth = 3, capsize=.5,\n",
    "                                          yerr = np.array(meddat[meddat['group'] == group][['lower_error', 'upper_error']].T), \n",
    "                                          legend = False, alpha = 0.3)\n",
    "    ax.set_ylabel('Plaque Density Per Structure')\n",
    "    if ax_max == 0:\n",
    "        y_max = np.max(meddat['upper_error'])\n",
    "    else:\n",
    "        y_max = ax_max\n",
    "    ax.set_ylim(0, y_max)\n",
    "    plt.title(title)\n",
    "    plt.legend(handles = get_mouse_line_legend(), loc = legend_loc, frameon = False)\n",
    "    plt.xticks(np.arange(len(meddat['structure'].unique())), meddat['structure'].unique());\n",
    "    plt.setp( ax.xaxis.get_majorticklabels(), rotation=90 )\n",
    "    ax.set_xlabel(\"\")\n",
    "    plt.savefig(os.path.join(savepath, 'plaque percent coverage in {0} {1} lineplot.pdf'.format(title, age)), \n",
    "                bbox_inches='tight', pad_inches=0.3, format='pdf', transparent = True, dpi=300)"
   ]
  },
  {
   "cell_type": "markdown",
   "metadata": {},
   "source": [
    "## Isocortex plotted three ways"
   ]
  },
  {
   "cell_type": "code",
   "execution_count": null,
   "metadata": {},
   "outputs": [],
   "source": [
    "iso = structure_tree.get_structures_by_acronym(['Isocortex'])[0]\n",
    "iso = structure_tree.descendant_ids([iso['id']])[0]\n",
    "iso = [structure for structure in iso if structure in summary_structure_ids]"
   ]
  },
  {
   "cell_type": "code",
   "execution_count": null,
   "metadata": {},
   "outputs": [],
   "source": [
    "plot_order = ['FRP', 'MOp', 'MOs', 'SSp-n', 'SSp-bfd', 'SSp-ll', 'SSp-m', 'SSp-ul', 'SSp-tr', 'SSp-un',\n",
    "              'SSs', 'GU', 'VISC', 'AUDd', 'AUDp', 'AUDpo', 'AUDv', 'VISal', 'VISam', 'VISl', 'VISp', 'VISpl',\n",
    "              'VISpm', 'VISli', 'VISpor', 'ACAd', 'ACAv', 'PL', 'ILA', 'ORBl', 'ORBm', 'ORBvl', 'AId', 'AIp',\n",
    "              'AIv', 'RSPagl', 'RSPd', 'RSPv', 'VISa', 'VISrl', 'TEa', 'PERI', 'ECT']"
   ]
  },
  {
   "cell_type": "code",
   "execution_count": null,
   "metadata": {},
   "outputs": [],
   "source": [
    "sorterIndex = dict(zip(plot_order,range(len(plot_order))))"
   ]
  },
  {
   "cell_type": "code",
   "execution_count": null,
   "metadata": {},
   "outputs": [],
   "source": [
    "make_boxplots('13 mo', iso, 'Isocortex', 8, 4, 0.35)"
   ]
  },
  {
   "cell_type": "code",
   "execution_count": null,
   "metadata": {},
   "outputs": [],
   "source": [
    "make_boxplots('19 mo', iso, 'Isocortex', 8, 4, 1.5)"
   ]
  },
  {
   "cell_type": "markdown",
   "metadata": {},
   "source": [
    "pltdat = pd.DataFrame(columns={'age', 'group', 'plaques', 'structure'})\n",
    "for structure in iso:\n",
    "    structure_acronym = ai_map[structure]\n",
    "    pltdat = pd.concat([pltdat, get_structure_data('13 mo', structure_acronym, 'density')], sort = True)\n",
    "pltdat['Percent Plaque Coverage'] = [density*100 for density in pltdat['plaques']]\n",
    "meddat = pltdat.groupby(['group', 'structure']).median().reset_index()\n",
    "meddat['lower_error'] = pltdat.groupby(['group', 'structure']).quantile(.25).reset_index()['Percent Plaque Coverage']\n",
    "meddat['upper_error'] = pltdat.groupby(['group', 'structure']).quantile(.75).reset_index()['Percent Plaque Coverage']\n",
    "meddat['rank'] = meddat['structure'].map(sorterIndex)\n",
    "meddat = meddat.sort_values(by='rank')\n",
    "fig, ax = plt.subplots(figsize = (8, 4))\n",
    "meddat[meddat['group'] == 'APP/PS1'].plot('structure', 'Percent Plaque Coverage', \n",
    "                                          ax = ax, c = '#8da0cb', linewidth = 3, capsize=.5,\n",
    "                                          yerr = [meddat[meddat['group'] == 'APP/PS1']['lower_error'].values, \n",
    "                                                  meddat[meddat['group'] == 'APP/PS1']['upper_error'].values], \n",
    "                                          legend = False, alpha = 0.3)\n",
    "meddat[meddat['group'] == 'APP/PS1'].plot('structure', 'Percent Plaque Coverage', \n",
    "                                          ax = ax, c = '#8da0cb', linewidth = 3, \n",
    "                                          legend = False)\n",
    "ax2 = plt.twinx()\n",
    "for group in ['hAPP-J20', 'Tg2576']:\n",
    "    if group != 'APP/PS1':\n",
    "        if group == 'hAPP-J20':\n",
    "            color = '#fc8d62'\n",
    "        if group == 'Tg2576':\n",
    "            color = '#66c2a5'\n",
    "        meddat[meddat['group'] == group].plot('structure', 'Percent Plaque Coverage', \n",
    "                                              ax = ax2, c = color, linewidth = 3, capsize=.5, marker = 'o',\n",
    "                                              yerr = [meddat[meddat['group'] == group]['lower_error'].values, \n",
    "                                                      meddat[meddat['group'] == group]['upper_error'].values], \n",
    "                                              legend = False, alpha = 0.3)\n",
    "        meddat[meddat['group'] == group].plot('structure', 'Percent Plaque Coverage', \n",
    "                                              ax = ax2, c = color, linewidth = 3, marker = 'o',\n",
    "                                            legend = False)\n",
    "ax.set_ylabel('APP/PS1')\n",
    "ax2.set_ylabel('hAPP-J20, Tg2576')\n",
    "plt.title('Plaque Density in Isocortex Structures')\n",
    "plt.legend(handles = get_mouse_line_legend(), loc = 2, frameon = False)\n",
    "plt.xticks(np.arange(len(meddat['structure'].unique())), meddat['structure'].unique());\n",
    "plt.setp( ax.xaxis.get_majorticklabels(), rotation=90 )\n",
    "ax.set_xlabel(\"\")\n",
    "#plt.savefig(os.path.join(savepath, 'plaque percent coverage in isocortex structures 12 mo lineplot two axes.pdf'.format(structure)), \n",
    "#            bbox_inches='tight', pad_inches=0.3, format='pdf', transparent = True, dpi=300)"
   ]
  },
  {
   "cell_type": "code",
   "execution_count": null,
   "metadata": {},
   "outputs": [],
   "source": [
    "make_broken_lineplot('13 mo', iso, 'Isocortex', 9, 4, 0.23, 2)"
   ]
  },
  {
   "cell_type": "code",
   "execution_count": null,
   "metadata": {},
   "outputs": [],
   "source": [
    "make_lineplot('19 mo', iso, 'Isocortex', 9, 4, 1.8)"
   ]
  },
  {
   "cell_type": "markdown",
   "metadata": {},
   "source": [
    "## Hippocampus plotted three ways"
   ]
  },
  {
   "cell_type": "code",
   "execution_count": null,
   "metadata": {},
   "outputs": [],
   "source": [
    "hipp = st.get_structures_by_acronym(['HPF'])[0]\n",
    "hipp_ids = st.descendant_ids([hipp['id']])[0]\n",
    "hipp_ss = [ids for ids in hipp_ids if ids in summary_structure_ids]\n",
    "hipp_ss.remove(ia_map['IG'])\n",
    "print(len(hipp_ss))"
   ]
  },
  {
   "cell_type": "code",
   "execution_count": null,
   "metadata": {},
   "outputs": [],
   "source": [
    "make_boxplots('13 mo', hipp_ss, 'Hippocampus', 3.5, 4, 0.4)"
   ]
  },
  {
   "cell_type": "code",
   "execution_count": null,
   "metadata": {},
   "outputs": [],
   "source": [
    "make_boxplots('19 mo', hipp_ss, 'Hippocampus', 3.5, 4, 1.3)"
   ]
  },
  {
   "cell_type": "code",
   "execution_count": null,
   "metadata": {},
   "outputs": [],
   "source": [
    "make_broken_lineplot('13 mo', hipp_ss, 'Hippocampus', 3, 4, 0.23, 2,)"
   ]
  },
  {
   "cell_type": "code",
   "execution_count": null,
   "metadata": {},
   "outputs": [],
   "source": [
    "make_lineplot('13 mo', hipp_ss, 'Hippocampus', 3, 4, 1.4)"
   ]
  },
  {
   "cell_type": "code",
   "execution_count": null,
   "metadata": {},
   "outputs": [],
   "source": [
    "make_lineplot('19 mo', hipp_ss, 'Hippocampus', 3, 4, 1.6, 1)"
   ]
  },
  {
   "cell_type": "markdown",
   "metadata": {},
   "source": [
    "## Olfactory regions plotted three ways"
   ]
  },
  {
   "cell_type": "code",
   "execution_count": null,
   "metadata": {},
   "outputs": [],
   "source": [
    "olf = st.get_structures_by_acronym(['OLF'])[0]\n",
    "olf_ids = st.descendant_ids([olf['id']])[0]\n",
    "olf_ss = [ids for ids in olf_ids if ids in summary_structure_ids]\n",
    "print(len(olf_ss))"
   ]
  },
  {
   "cell_type": "code",
   "execution_count": null,
   "metadata": {},
   "outputs": [],
   "source": [
    "make_boxplots('13 mo', olf_ss, 'Olfactory Structures', 3, 4, 0.35)"
   ]
  },
  {
   "cell_type": "code",
   "execution_count": null,
   "metadata": {},
   "outputs": [],
   "source": [
    "make_boxplots('19 mo', olf_ss, 'Olfactory Structures', 3, 4, 0.6)"
   ]
  },
  {
   "cell_type": "code",
   "execution_count": null,
   "metadata": {},
   "outputs": [],
   "source": [
    "pltdat = pd.DataFrame(columns={'age', 'group', 'plaques', 'structure'})\n",
    "for structure in olf_ss:\n",
    "    structure_acronym = ai_map[structure]\n",
    "    pltdat = pd.concat([pltdat, get_structure_data('13 mo', structure_acronym, 'density')], sort = True)\n",
    "pltdat['Percent Plaque Coverage'] = [density*100 for density in pltdat['plaques']]\n",
    "meddat = pltdat.groupby(['group', 'structure']).median().reset_index()\n",
    "mindat = pltdat.groupby(['group', 'structure']).quantile(.25).reset_index()\n",
    "maxdat = pltdat.groupby(['group', 'structure']).quantile(.75).reset_index()\n",
    "meddat['error'] = maxdat['Percent Plaque Coverage'] - mindat['Percent Plaque Coverage']\n",
    "\n",
    "fig, ax = plt.subplots(figsize = (3, 4))\n",
    "meddat[meddat['group'] == 'APP/PS1'].plot('structure', 'Percent Plaque Coverage', \n",
    "                                          ax = ax, c = '#8da0cb', linewidth = 3, capsize=.5,\n",
    "                                          yerr = 'error', alpha = 0.3, legend = False)\n",
    "meddat[meddat['group'] == 'APP/PS1'].plot('structure', 'Percent Plaque Coverage', \n",
    "                                          ax = ax, c = '#8da0cb', linewidth = 3, legend = False)\n",
    "ax2 = plt.twinx()\n",
    "for group in ['hAPP-J20', 'Tg2576']:\n",
    "    if group != 'APP/PS1':\n",
    "        if group == 'hAPP-J20':\n",
    "            color = '#fc8d62'\n",
    "        if group == 'Tg2576':\n",
    "            color = '#66c2a5'\n",
    "        meddat[meddat['group'] == group].plot('structure', 'Percent Plaque Coverage', \n",
    "                                              ax = ax2, c = color, linewidth = 3, capsize=.5, marker = 'o',\n",
    "                                              yerr = 'error', alpha = 0.3, legend = False)\n",
    "        meddat[meddat['group'] == group].plot('structure', 'Percent Plaque Coverage', \n",
    "                                              ax = ax2, c = color, linewidth = 3, marker = 'o',\n",
    "                                              legend = False)\n",
    "ax.set_ylabel('APP/PS1')\n",
    "ax2.set_ylabel('hAPP-J20, Tg2576')\n",
    "ax.set_title('Plaque Density in Olfactory Structures')\n",
    "plt.legend(handles = get_mouse_line_legend(), loc = 2, frameon = False)\n",
    "plt.xticks(np.arange(len(meddat['structure'].unique())), meddat['structure'].unique());\n",
    "plt.setp( ax.xaxis.get_majorticklabels(), rotation=90 )\n",
    "plt.savefig(os.path.join(savepath, 'plaque percent coverage in olfactory structures 13 mo lineplot two axes.pdf'.format(structure)), \n",
    "            bbox_inches='tight', pad_inches=0.3, format='pdf', transparent = True, dpi=300)"
   ]
  },
  {
   "cell_type": "code",
   "execution_count": null,
   "metadata": {},
   "outputs": [],
   "source": [
    "make_broken_lineplot('13 mo', olf_ss, 'Olfactory Structures', 2.5, 4, 0.09, 1.7)"
   ]
  },
  {
   "cell_type": "code",
   "execution_count": null,
   "metadata": {},
   "outputs": [],
   "source": [
    "make_lineplot('19 mo', olf_ss, 'Olfactory Structures', 2.5, 4, 2, 1)"
   ]
  },
  {
   "cell_type": "markdown",
   "metadata": {},
   "source": [
    "## CTXsp structures plotted three ways"
   ]
  },
  {
   "cell_type": "code",
   "execution_count": null,
   "metadata": {},
   "outputs": [],
   "source": [
    "ctxsp = st.get_structures_by_acronym(['CTXsp'])[0]\n",
    "ctxsp_ids = st.descendant_ids([ctxsp['id']])[0]\n",
    "ctxsp_ss = [ids for ids in ctxsp_ids if ids in summary_structure_ids]\n",
    "print(len(ctxsp_ss))"
   ]
  },
  {
   "cell_type": "code",
   "execution_count": null,
   "metadata": {},
   "outputs": [],
   "source": [
    "make_boxplots('13 mo', ctxsp_ss, 'Cortical Subplate', 2, 4, 0.2)"
   ]
  },
  {
   "cell_type": "code",
   "execution_count": null,
   "metadata": {},
   "outputs": [],
   "source": [
    "make_boxplots('19 mo', ctxsp_ss, 'Cortical Subplate', 2, 4, 0.6)"
   ]
  },
  {
   "cell_type": "code",
   "execution_count": null,
   "metadata": {},
   "outputs": [],
   "source": [
    "make_broken_lineplot('13 mo', ctxsp_ss, 'Cortical Subplate', 2, 4, 0.12, 2.2)"
   ]
  },
  {
   "cell_type": "code",
   "execution_count": null,
   "metadata": {},
   "outputs": [],
   "source": [
    "make_broken_lineplot('19 mo', ctxsp_ss, 'Cortical Subplate', 2, 4, 0.2, 2.5)"
   ]
  },
  {
   "cell_type": "code",
   "execution_count": null,
   "metadata": {},
   "outputs": [],
   "source": [
    "make_lineplot('19 mo', ctxsp_ss, 'Cortical Subplate', 2, 4, 2.2)"
   ]
  },
  {
   "cell_type": "markdown",
   "metadata": {},
   "source": [
    "## Plot by age"
   ]
  },
  {
   "cell_type": "code",
   "execution_count": null,
   "metadata": {},
   "outputs": [],
   "source": [
    "def get_age_legend(colors, ages):\n",
    "    legend = {}\n",
    "    for ix, age in enumerate(ages):\n",
    "        legend[ix] = mlines.Line2D([], [], color=colors[ix],\n",
    "                              label=age)\n",
    "    return [value for key, value in legend.iteritems()]"
   ]
  },
  {
   "cell_type": "code",
   "execution_count": null,
   "metadata": {},
   "outputs": [],
   "source": [
    "pltdat = pd.DataFrame(columns={'age', 'group', 'plaques', 'structure'})\n",
    "ages = ['5 mo', '7 mo', '9 mo', '13 mo', '19 mo']\n",
    "for age in ages:\n",
    "    for structure in iso:\n",
    "        structure_acronym = ai_map[structure]\n",
    "        pltdat = pd.concat([pltdat, get_structure_data(age, structure_acronym, 'density')], sort = True)\n",
    "pltdat['Percent Plaque Coverage'] = [density*100 for density in pltdat['plaques']]\n",
    "\n",
    "fig, ax = plt.subplots(figsize = (8, 3))\n",
    "ages = ['5 mo', '7 mo', '9 mo', '13 mo', '19 mo']\n",
    "colors = ['#d0d1e6', '#a6bddb', '#74a9cf', '#2b8cbe', '#045a8d']\n",
    "for ix, age in enumerate(ages):\n",
    "    agedat = pltdat[pltdat['age'] == age]\n",
    "    meddat = agedat.groupby(['group', 'structure']).median().reset_index()\n",
    "    mapping = {region: i for i, region in enumerate(plot_order)}\n",
    "    key = meddat['structure'].map(mapping)    \n",
    "    meddat = meddat.iloc[key.argsort()]\n",
    "    meddat['lower_error'] = agedat.groupby(['group', 'structure']).quantile(.25).reset_index()['Percent Plaque Coverage']\n",
    "    meddat['lower_error'] = meddat['Percent Plaque Coverage'] - meddat['lower_error']\n",
    "    meddat['upper_error'] = agedat.groupby(['group', 'structure']).quantile(.75).reset_index()['Percent Plaque Coverage']\n",
    "    meddat['upper_error'] = meddat['upper_error'] - meddat['Percent Plaque Coverage']\n",
    "    meddat[meddat['group'] == 'APP/PS1'].plot('structure', 'Percent Plaque Coverage', \n",
    "                                          ax = ax, c = colors[ix], linewidth = 3, capsize=.5,\n",
    "                                              alpha = 0.3, legend = False,\n",
    "                                          yerr = np.array(meddat[meddat['group'] == 'APP/PS1'][['lower_error', 'upper_error']].T)) \n",
    "    meddat[meddat['group'] == 'APP/PS1'].plot('structure', 'Percent Plaque Coverage', \n",
    "                                          ax = ax, c = colors[ix], linewidth = 3, legend = False)\n",
    "plt.title('Plaque Density in Isocortex Structures APP/PS1')\n",
    "plt.legend(handles = get_age_legend(colors, ages), loc = 2)\n",
    "plt.xticks(np.arange(len(meddat['structure'].unique())), meddat['structure'].unique());\n",
    "plt.setp( ax.xaxis.get_majorticklabels(), rotation=90 )\n",
    "ax.set_xlabel(\"\")\n",
    "ax.set_ylabel(\"Percent Plaque Coverage\")\n",
    "ax.set_ylim([-0.05, 1.9])\n",
    "plt.savefig(os.path.join(savepath, 'plaque volume in isocortex by age APP_PS1.pdf'.format(structure)), \n",
    "            bbox_inches='tight', pad_inches=0.3, format='pdf', transparent = True, dpi=1000)"
   ]
  },
  {
   "cell_type": "code",
   "execution_count": null,
   "metadata": {},
   "outputs": [],
   "source": [
    "pltdat = pd.DataFrame(columns={'age', 'group', 'plaques', 'structure'})\n",
    "ages = ['5 mo', '7 mo', '9 mo', '13 mo', '19 mo']\n",
    "for age in ages:\n",
    "    for structure in hipp_ss:\n",
    "        structure_acronym = ai_map[structure]\n",
    "        pltdat = pd.concat([pltdat, get_structure_data(age, structure_acronym, 'density')], sort = True)\n",
    "pltdat['Percent Plaque Coverage'] = [density*100 for density in pltdat['plaques']]\n",
    "\n",
    "fig, ax = plt.subplots(figsize = (3, 3))\n",
    "ages = ['5 mo', '7 mo', '9 mo', '13 mo', '19 mo']\n",
    "colors = ['#d0d1e6', '#a6bddb', '#74a9cf', '#2b8cbe', '#045a8d']\n",
    "for ix, age in enumerate(ages):\n",
    "    agedat = pltdat[pltdat['age'] == age]\n",
    "    meddat = agedat.groupby(['group', 'structure']).median().reset_index()\n",
    "    meddat['lower_error'] = agedat.groupby(['group', 'structure']).quantile(.25).reset_index()['Percent Plaque Coverage']\n",
    "    meddat['lower_error'] = meddat['Percent Plaque Coverage'] - meddat['lower_error']\n",
    "    meddat['upper_error'] = agedat.groupby(['group', 'structure']).quantile(.75).reset_index()['Percent Plaque Coverage']\n",
    "    meddat['upper_error'] = meddat['upper_error'] - meddat['Percent Plaque Coverage']\n",
    "    meddat[meddat['group'] == 'APP/PS1'].plot('structure', 'Percent Plaque Coverage', \n",
    "                                          ax = ax, c = colors[ix], linewidth = 3, capsize=.5,\n",
    "                                              alpha = 0.3, legend = False,\n",
    "                                          yerr = np.array(meddat[meddat['group'] == 'APP/PS1'][['lower_error', 'upper_error']].T)) \n",
    "    meddat[meddat['group'] == 'APP/PS1'].plot('structure', 'Percent Plaque Coverage', \n",
    "                                          ax = ax, c = colors[ix], linewidth = 3, legend = False)\n",
    "plt.title('Plaque Density in Hippocampal Structures APP/PS1')\n",
    "plt.legend(handles = get_age_legend(colors, ages), loc = 1)\n",
    "plt.xticks(np.arange(len(meddat['structure'].unique())), meddat['structure'].unique());\n",
    "plt.setp( ax.xaxis.get_majorticklabels(), rotation=90 )\n",
    "ax.set_xlabel(\"\")\n",
    "ax.set_ylabel(\"Percent Plaque Coverage\")\n",
    "ax.set_ylim([-0.05, 1.9])\n",
    "plt.savefig(os.path.join(savepath, 'plaque volume in hippocampus by age APP_PS1.pdf'.format(structure)), \n",
    "            bbox_inches='tight', pad_inches=0.3, format='pdf', transparent = True, dpi=1000)"
   ]
  },
  {
   "cell_type": "code",
   "execution_count": null,
   "metadata": {},
   "outputs": [],
   "source": [
    "pltdat = pd.DataFrame(columns={'age', 'group', 'plaques', 'structure'})\n",
    "ages = ['5 mo', '7 mo', '9 mo', '13 mo', '19 mo']\n",
    "for age in ages:\n",
    "    for structure in iso:\n",
    "        structure_acronym = ai_map[structure]\n",
    "        pltdat = pd.concat([pltdat, get_structure_data(age, structure_acronym, 'density')], sort = True)\n",
    "pltdat['Percent Plaque Coverage'] = [density*100 for density in pltdat['plaques']]\n",
    "\n",
    "fig, ax = plt.subplots(figsize = (8, 3))\n",
    "ages = ['5 mo', '7 mo', '9 mo', '13 mo', '19 mo']\n",
    "colors = ['#fdd49e', '#fdbb84', '#fc8d59', '#e34a33', '#b30000']\n",
    "for ix, age in enumerate(ages):\n",
    "    agedat = pltdat[pltdat['age'] == age]\n",
    "    meddat = agedat.groupby(['group', 'structure']).median().reset_index()\n",
    "    mapping = {region: i for i, region in enumerate(plot_order)}\n",
    "    key = meddat['structure'].map(mapping)    \n",
    "    meddat = meddat.iloc[key.argsort()]\n",
    "    meddat['lower_error'] = agedat.groupby(['group', 'structure']).quantile(.25).reset_index()['Percent Plaque Coverage']\n",
    "    meddat['lower_error'] = meddat['Percent Plaque Coverage'] - meddat['lower_error']\n",
    "    meddat['upper_error'] = agedat.groupby(['group', 'structure']).quantile(.75).reset_index()['Percent Plaque Coverage']\n",
    "    meddat['upper_error'] = meddat['upper_error'] - meddat['Percent Plaque Coverage']\n",
    "    meddat[meddat['group'] == 'hAPP-J20'].plot('structure', 'Percent Plaque Coverage', \n",
    "                                          ax = ax, c = colors[ix], linewidth = 3, capsize=.5,\n",
    "                                              alpha = 0.3, legend = False,\n",
    "                                          yerr = np.array(meddat[meddat['group'] == 'hAPP-J20'][['lower_error', 'upper_error']].T)) \n",
    "    meddat[meddat['group'] == 'hAPP-J20'].plot('structure', 'Percent Plaque Coverage', \n",
    "                                          ax = ax, c = colors[ix], linewidth = 3, legend = False)\n",
    "plt.title('Plaque Density in Isocortex Structures hAPP-J20')\n",
    "plt.legend(handles = get_age_legend(colors, ages), loc = 2)\n",
    "plt.xticks(np.arange(len(meddat['structure'].unique())), meddat['structure'].unique());\n",
    "plt.setp( ax.xaxis.get_majorticklabels(), rotation=90 )\n",
    "ax.set_xlabel(\"\")\n",
    "ax.set_ylabel(\"Percent Plaque Coverage\")\n",
    "ax.set_ylim([-0.05, 0.7])\n",
    "plt.savefig(os.path.join(savepath, 'plaque volume in isocortex by age J20.pdf'.format(structure)), \n",
    "            bbox_inches='tight', pad_inches=0.3, format='pdf', transparent = True, dpi=1000)"
   ]
  },
  {
   "cell_type": "code",
   "execution_count": null,
   "metadata": {},
   "outputs": [],
   "source": [
    "pltdat = pd.DataFrame(columns={'age', 'group', 'plaques', 'structure'})\n",
    "ages = ['5 mo', '7 mo', '9 mo', '13 mo', '19 mo']\n",
    "for age in ages:\n",
    "    for structure in hipp_ss:\n",
    "        structure_acronym = ai_map[structure]\n",
    "        pltdat = pd.concat([pltdat, get_structure_data(age, structure_acronym, 'density')], sort = True)\n",
    "pltdat['Percent Plaque Coverage'] = [density*100 for density in pltdat['plaques']]\n",
    "\n",
    "fig, ax = plt.subplots(figsize = (3, 3))\n",
    "ages = ['5 mo', '7 mo', '9 mo', '13 mo', '19 mo']\n",
    "colors = ['#fdd49e', '#fdbb84', '#fc8d59', '#e34a33', '#b30000']\n",
    "for ix, age in enumerate(ages):\n",
    "    agedat = pltdat[pltdat['age'] == age]\n",
    "    meddat = agedat.groupby(['group', 'structure']).median().reset_index()\n",
    "    meddat['lower_error'] = agedat.groupby(['group', 'structure']).quantile(.25).reset_index()['Percent Plaque Coverage']\n",
    "    meddat['lower_error'] = meddat['Percent Plaque Coverage'] - meddat['lower_error']\n",
    "    meddat['upper_error'] = agedat.groupby(['group', 'structure']).quantile(.75).reset_index()['Percent Plaque Coverage']\n",
    "    meddat['upper_error'] = meddat['upper_error'] - meddat['Percent Plaque Coverage']\n",
    "    meddat[meddat['group'] == 'hAPP-J20'].plot('structure', 'Percent Plaque Coverage', \n",
    "                                          ax = ax, c = colors[ix], linewidth = 3, capsize=.5,\n",
    "                                              alpha = 0.3, legend = False,\n",
    "                                          yerr = np.array(meddat[meddat['group'] == 'hAPP-J20'][['lower_error', 'upper_error']].T)) \n",
    "    meddat[meddat['group'] == 'hAPP-J20'].plot('structure', 'Percent Plaque Coverage', \n",
    "                                          ax = ax, c = colors[ix], linewidth = 3, legend = False)\n",
    "plt.title('Plaque Density in Hippocampal Structures hAPP-J20')\n",
    "plt.legend(handles = get_age_legend(colors, ages), loc = 1)\n",
    "plt.xticks(np.arange(len(meddat['structure'].unique())), meddat['structure'].unique());\n",
    "plt.setp( ax.xaxis.get_majorticklabels(), rotation=90 )\n",
    "ax.set_xlabel(\"\")\n",
    "ax.set_ylabel(\"Percent Plaque Coverage\")\n",
    "ax.set_ylim([-0.05, 0.7])\n",
    "plt.savefig(os.path.join(savepath, 'plaque volume in hippocampus by age J20.pdf'.format(structure)), \n",
    "            bbox_inches='tight', pad_inches=0.3, format='pdf', transparent = True, dpi=1000)"
   ]
  },
  {
   "cell_type": "code",
   "execution_count": null,
   "metadata": {},
   "outputs": [],
   "source": [
    "pltdat = pd.DataFrame(columns={'age', 'group', 'plaques', 'structure'})\n",
    "ages = ['5 mo', '7 mo', '9 mo', '13 mo', '19 mo']\n",
    "for age in ages:\n",
    "    for structure in olf_ss:\n",
    "        structure_acronym = ai_map[structure]\n",
    "        pltdat = pd.concat([pltdat, get_structure_data(age, structure_acronym, 'density')], sort = True)\n",
    "pltdat['Percent Plaque Coverage'] = [density*100 for density in pltdat['plaques']]\n",
    "\n",
    "fig, ax = plt.subplots(figsize = (8, 4))\n",
    "ages = ['9 mo', '13 mo', '19 mo']\n",
    "colors = ['#e5f5f9', '#99d8c9', '#2ca25f']\n",
    "for ix, age in enumerate(ages):\n",
    "    agedat = pltdat[pltdat['age'] == age]\n",
    "    meddat = agedat.groupby(['group', 'structure']).median().reset_index()\n",
    "    meddat['lower_error'] = agedat.groupby(['group', 'structure']).quantile(.25).reset_index()['Percent Plaque Coverage']\n",
    "    meddat['lower_error'] = meddat['Percent Plaque Coverage'] - meddat['lower_error']\n",
    "    meddat['upper_error'] = agedat.groupby(['group', 'structure']).quantile(.75).reset_index()['Percent Plaque Coverage']\n",
    "    meddat['upper_error'] = meddat['upper_error'] - meddat['Percent Plaque Coverage']\n",
    "    meddat[meddat['group'] == 'Tg2576'].plot('structure', 'Percent Plaque Coverage', \n",
    "                                          ax = ax, c = colors[ix], linewidth = 3, capsize=.5,\n",
    "                                              alpha = 0.3, legend = False,\n",
    "                                          yerr = np.array(meddat[meddat['group'] == 'Tg2576'][['lower_error', 'upper_error']].T)) \n",
    "    meddat[meddat['group'] == 'Tg2576'].plot('structure', 'Percent Plaque Coverage', \n",
    "                                          ax = ax, c = colors[ix], linewidth = 3, legend = False)\n",
    "plt.title('Plaque Density in Olfactory Structures Tg2576')\n",
    "plt.legend(handles = get_age_legend(colors, ages), loc = 2, frameon = False)\n",
    "plt.xticks(np.arange(len(meddat['structure'].unique())), meddat['structure'].unique());\n",
    "plt.setp( ax.xaxis.get_majorticklabels(), rotation=90 )\n",
    "ax.set_xlabel(\"\")\n",
    "plt.savefig(os.path.join(savepath, 'plaque volume in olfactory by age Tg2576.pdf'.format(structure)), \n",
    "            bbox_inches='tight', pad_inches=0.3, format='pdf', transparent = True, dpi=1000)"
   ]
  },
  {
   "cell_type": "markdown",
   "metadata": {},
   "source": [
    "## Plaque density by module"
   ]
  },
  {
   "cell_type": "code",
   "execution_count": null,
   "metadata": {},
   "outputs": [],
   "source": [
    "dat.loc[dat['structure_acronym'].isin(['FRP', 'MOs', 'PL', 'ILA', 'ORBm', 'ORBl', 'ORBvl','ACAd', 'ACAv']),\n",
    "        'module'] = 'Prefrontal'\n",
    "dat.loc[dat['structure_acronym'].isin(['AId', 'AIv', 'AIp', 'GU', 'VISC']), 'module'] = 'Anterolateral'\n",
    "dat.loc[dat['structure_acronym'].isin(['SSs', 'SSp-bfd', 'SSp-tr', 'SSp-ll', 'SSp-ul', 'SSp-un',\n",
    "                                          'SSp-n', 'SSp-m', 'MOp']), 'module'] = 'Somatomotor'\n",
    "dat.loc[dat['structure_acronym'].isin(['VISp', 'VISl', 'VISrl', 'VISpl', 'VISli', 'VISal', 'VISpor']), \n",
    "        'module'] = 'Visual'\n",
    "dat.loc[dat['structure_acronym'].isin(['RSPd', 'RSPv', 'RSPagl', 'VISa', 'VISam', 'VISpm']), 'module'] = 'Medial'\n",
    "dat.loc[dat['structure_acronym'].isin(['AUDd', 'AUDp', 'AUDpo', 'AUDv', 'TEa', 'PERI', 'ECT']), 'module'] = 'Temporal'"
   ]
  },
  {
   "cell_type": "code",
   "execution_count": null,
   "metadata": {},
   "outputs": [],
   "source": [
    "len(dat[dat['module'] == 'Temporal']['structure_acronym'].unique())"
   ]
  },
  {
   "cell_type": "code",
   "execution_count": null,
   "metadata": {},
   "outputs": [],
   "source": [
    "dat.head()"
   ]
  },
  {
   "cell_type": "code",
   "execution_count": null,
   "metadata": {},
   "outputs": [],
   "source": [
    "dat['module'].unique()"
   ]
  },
  {
   "cell_type": "code",
   "execution_count": null,
   "metadata": {},
   "outputs": [],
   "source": [
    "moduledat = pd.DataFrame()\n",
    "for mouse_line in dat[dat['mouse_line'].isin(['APP/PS1', 'Tg2576', 'hAPP-J20'])]['mouse_line'].unique():\n",
    "    modules = []\n",
    "    mods = []\n",
    "    ctxdat = dat[(dat['mouse_line'] == mouse_line) & \n",
    "                 (~dat['module'].isnull())]\n",
    "    sumdat = ctxdat['plaque_density'].sum()\n",
    "    for module in ctxdat['module'].unique():\n",
    "        modules.append(module)\n",
    "        mods.append(float(np.sum(ctxdat[(ctxdat['mouse_line'] == mouse_line) & \n",
    "                      (ctxdat['module'] == module)]['plaque_density']))/sumdat)\n",
    "    moduledat[mouse_line] = mods\n",
    "moduledat['Module'] = modules"
   ]
  },
  {
   "cell_type": "code",
   "execution_count": null,
   "metadata": {},
   "outputs": [],
   "source": [
    "moduledat"
   ]
  },
  {
   "cell_type": "code",
   "execution_count": null,
   "metadata": {},
   "outputs": [],
   "source": [
    "mdf = pd.melt(moduledat[['Module', 'APP/PS1', 'hAPP-J20', 'Tg2576']], \n",
    "              id_vars = ['Module'], var_name = ['Mouse Line'], value_name = 'Fraction of Cortical Plaque Density')"
   ]
  },
  {
   "cell_type": "code",
   "execution_count": null,
   "metadata": {},
   "outputs": [],
   "source": [
    "mdf.head()"
   ]
  },
  {
   "cell_type": "code",
   "execution_count": null,
   "metadata": {},
   "outputs": [],
   "source": [
    "g = sns.catplot('Module', 'Fraction of Cortical Plaque Density', data = mdf, hue = 'Mouse Line', kind='bar',\n",
    "            palette = mouse_line_colors, hue_order = mouse_lines,\n",
    "           height = 5, aspect = 1.1, legend = False)\n",
    "g.ax.legend(loc = 2)\n",
    "g.ax.axhline(y=0.15, color = 'grey', linestyle = 'dashed', zorder = -1)\n",
    "plt.savefig(os.path.join(savepath, 'plaque density by module.pdf'.format(structure)), \n",
    "            bbox_inches='tight', pad_inches=0.3, format='pdf', transparent = True, dpi=1000)"
   ]
  },
  {
   "cell_type": "code",
   "execution_count": null,
   "metadata": {},
   "outputs": [],
   "source": [
    "def get_mean_value_per_structure(group, age, structure_ids):\n",
    "    means = []\n",
    "    isids = dataset[(dataset['mouse_line'] == group) & (dataset['age_group'] == age)]['image_series_id'].values\n",
    "    for structure_id in structure_ids:\n",
    "        str_mean = np.mean(dat[(dat['structure_id'] == structure_id) & \n",
    "                                 (dat['image_series_id'].isin(isids))]\n",
    "                             ['plaque_density'])\n",
    "        means.append(str_mean*100)\n",
    "    structuredat = dict(zip(structure_ids, means))\n",
    "    return structuredat, len(isids)"
   ]
  },
  {
   "cell_type": "code",
   "execution_count": null,
   "metadata": {},
   "outputs": [],
   "source": [
    "all_structure_vals, n = get_mean_value_per_structure('Tg2576', '13 mo', dat.structure_id.unique())"
   ]
  },
  {
   "cell_type": "code",
   "execution_count": null,
   "metadata": {},
   "outputs": [],
   "source": [
    "reference_space =  mcc.get_reference_space()\n",
    "structure_vals, n = get_mean_value_per_structure('APP/PS1', '13 mo', dat.structure_id.unique())\n",
    "rgb_vals = structure_vals.copy()\n",
    "scale = 0.7\n",
    "for key in structure_vals:\n",
    "    rgb_vals[key] = tuple([255*i for i in cm.hot(structure_vals[key]*scale)[:3]])\n",
    "rgb_vals[0] = [0, 0, 0]\n",
    "\n",
    "w=8\n",
    "h=8\n",
    "image = [0,0,0]\n",
    "#index = [8000, 4500, 5000]\n",
    "index = [6650, 5625, 9100] #rostral\n",
    "image[0] = reference_space.get_slice_image(0, index[0], rgb_vals)\n",
    "image[1] = np.flip(np.rot90(reference_space.get_slice_image(2, index[2], rgb_vals)), 0)\n",
    "image[2] = np.rot90(reference_space.get_slice_image(1, index[1], rgb_vals))  \n",
    "fig = plt.figure(figsize=(8, 3), facecolor=rgb_vals[0])\n",
    "columns = 3\n",
    "rows = 1\n",
    "for i in range(columns*rows):\n",
    "    fig.add_subplot(rows, columns, i+1)\n",
    "    f = plt.imshow(image[i], cmap = cm.hot)\n",
    "    plt.axis('off')\n",
    "cbar = fig.colorbar(f, fraction=0.046)\n",
    "cbar.set_label('Plaque % Volume', rotation=90, color = 'w')\n",
    "plt.setp(plt.getp(cbar.ax.axes, 'yticklabels'), color='w')\n",
    "\n",
    "maxval = max(structure_vals.iteritems(), key=operator.itemgetter(1))[1]/scale\n",
    "cbar.ax.set_yticklabels([0, np.round(maxval*.12, 1), np.round(maxval*.23, 1), \n",
    "                         np.round(maxval*.34, 1), np.round(maxval*.45, 1), \n",
    "                         np.round(maxval*.56, 1), np.round(maxval*.67, 1),\n",
    "                        np.round(maxval*.78, 1), np.round(maxval*.89, 1), np.round(maxval)])\n",
    "print(n)\n",
    "plt.savefig(os.path.join(savepath, 'APP_PS1 plaque map 13 mo rostral.png'), facecolor=fig.get_facecolor(),\n",
    "            bbox_inches='tight', pad_inches=0.3, format='png', dpi=500)"
   ]
  },
  {
   "cell_type": "code",
   "execution_count": null,
   "metadata": {},
   "outputs": [],
   "source": [
    "structure_vals, n = get_mean_value_per_structure('APP/PS1', '19 mo', dat.structure_id.unique())\n",
    "rgb_vals = structure_vals.copy()\n",
    "scale = 0.7\n",
    "for key in structure_vals:\n",
    "    rgb_vals[key] = tuple([255*i for i in cm.hot(structure_vals[key]*scale)[:3]])\n",
    "rgb_vals[0] = [0, 0, 0]\n",
    "\n",
    "w=8\n",
    "h=8\n",
    "image = [0,0,0]\n",
    "#index = [8000, 4500, 5000]\n",
    "index = [6650, 5625, 9100] #rostral\n",
    "image[0] = reference_space.get_slice_image(0, index[0], rgb_vals)\n",
    "image[1] = np.flip(np.rot90(reference_space.get_slice_image(2, index[2], rgb_vals)), 0)\n",
    "image[2] = np.rot90(reference_space.get_slice_image(1, index[1], rgb_vals))  \n",
    "fig = plt.figure(figsize=(8, 3), facecolor=rgb_vals[0])\n",
    "columns = 3\n",
    "rows = 1\n",
    "for i in range(columns*rows):\n",
    "    fig.add_subplot(rows, columns, i+1)\n",
    "    f = plt.imshow(image[i], cmap = cm.hot)\n",
    "    plt.axis('off')\n",
    "cbar = fig.colorbar(f, fraction=0.046)\n",
    "cbar.set_label('Plaque % Volume', rotation=90, color = 'w')\n",
    "plt.setp(plt.getp(cbar.ax.axes, 'yticklabels'), color='w')\n",
    "\n",
    "maxval = max(structure_vals.iteritems(), key=operator.itemgetter(1))[1]/scale\n",
    "cbar.ax.set_yticklabels([0, np.round(maxval*.12, 1), np.round(maxval*.23, 1), \n",
    "                         np.round(maxval*.34, 1), np.round(maxval*.45, 1), \n",
    "                         np.round(maxval*.56, 1), np.round(maxval*.67, 1),\n",
    "                        np.round(maxval*.78, 1), np.round(maxval*.89, 1), np.round(maxval)])\n",
    "print(n)\n",
    "plt.savefig(os.path.join(savepath, 'APP_PS1 plaque map 19 mo rostral.png'), facecolor=fig.get_facecolor(),\n",
    "            bbox_inches='tight', pad_inches=0.3, format='png', dpi=500)"
   ]
  },
  {
   "cell_type": "code",
   "execution_count": null,
   "metadata": {},
   "outputs": [],
   "source": [
    "structure_vals, n = get_mean_value_per_structure('hAPP-J20', '19 mo', dat.structure_id.unique())\n",
    "rgb_vals = structure_vals.copy()\n",
    "scale = 2.5\n",
    "for key in structure_vals:\n",
    "    rgb_vals[key] = tuple([255*i for i in cm.hot(structure_vals[key]*scale)[:3]])\n",
    "rgb_vals[0] = [0, 0, 0]\n",
    "\n",
    "w=8\n",
    "h=8\n",
    "image = [0,0,0]\n",
    "#index = [8000, 4500, 5000]\n",
    "index = [6650, 5625, 9100] #rostral\n",
    "image[0] = reference_space.get_slice_image(0, index[0], rgb_vals)\n",
    "image[1] = np.flip(np.rot90(reference_space.get_slice_image(2, index[2], rgb_vals)), 0)\n",
    "image[2] = np.rot90(reference_space.get_slice_image(1, index[1], rgb_vals))  \n",
    "fig = plt.figure(figsize=(8, 3), facecolor=rgb_vals[0])\n",
    "columns = 3\n",
    "rows = 1\n",
    "for i in range(columns*rows):\n",
    "    fig.add_subplot(rows, columns, i+1)\n",
    "    f = plt.imshow(image[i], cmap = cm.hot)\n",
    "    plt.axis('off')\n",
    "cbar = fig.colorbar(f, fraction=0.046)\n",
    "cbar.set_label('Plaque % Volume', rotation=90, color = 'w')\n",
    "plt.setp(plt.getp(cbar.ax.axes, 'yticklabels'), color='w')\n",
    "\n",
    "maxval = max(structure_vals.iteritems(), key=operator.itemgetter(1))[1]/scale\n",
    "cbar.ax.set_yticklabels([0, np.round(maxval*.12, 1), np.round(maxval*.23, 1), \n",
    "                         np.round(maxval*.34, 1), np.round(maxval*.45, 1), \n",
    "                         np.round(maxval*.56, 1), np.round(maxval*.67, 1),\n",
    "                        np.round(maxval*.78, 1), np.round(maxval*.89, 1), np.round(maxval)])\n",
    "print(n)\n",
    "plt.savefig(os.path.join(savepath, 'hAPP-J20 plaque map 19 mo rostral.png'), facecolor=fig.get_facecolor(),\n",
    "            bbox_inches='tight', pad_inches=0.3, format='png', dpi=1000)"
   ]
  },
  {
   "cell_type": "code",
   "execution_count": null,
   "metadata": {},
   "outputs": [],
   "source": [
    "structure_vals, n = get_mean_value_per_structure('hAPP-J20', '13 mo', dat.structure_id.unique())\n",
    "rgb_vals = structure_vals.copy()\n",
    "scale = 5\n",
    "for key in structure_vals:\n",
    "    rgb_vals[key] = tuple([255*i for i in cm.hot(structure_vals[key]*scale)[:3]])\n",
    "rgb_vals[0] = [0, 0, 0]\n",
    "\n",
    "w=8\n",
    "h=8\n",
    "image = [0,0,0]\n",
    "#index = [8000, 4500, 5000]\n",
    "index = [6650, 5625, 9100] #rostral\n",
    "image[0] = reference_space.get_slice_image(0, index[0], rgb_vals)\n",
    "image[1] = np.flip(np.rot90(reference_space.get_slice_image(2, index[2], rgb_vals)), 0)\n",
    "image[2] = np.rot90(reference_space.get_slice_image(1, index[1], rgb_vals))  \n",
    "fig = plt.figure(figsize=(8, 3), facecolor=rgb_vals[0])\n",
    "columns = 3\n",
    "rows = 1\n",
    "for i in range(columns*rows):\n",
    "    fig.add_subplot(rows, columns, i+1)\n",
    "    f = plt.imshow(image[i], cmap = cm.hot)\n",
    "    plt.axis('off')\n",
    "cbar = fig.colorbar(f, fraction=0.046)\n",
    "cbar.set_label('Plaque % Volume', rotation=90, color = 'w')\n",
    "plt.setp(plt.getp(cbar.ax.axes, 'yticklabels'), color='w')\n",
    "\n",
    "maxval = max(structure_vals.iteritems(), key=operator.itemgetter(1))[1]/scale\n",
    "cbar.ax.set_yticklabels([0, np.round(maxval*.12, 2), np.round(maxval*.23, 2), \n",
    "                         np.round(maxval*.34, 2), np.round(maxval*.45, 2), \n",
    "                         np.round(maxval*.56, 2), np.round(maxval*.67, 2),\n",
    "                        np.round(maxval*.78, 2), np.round(maxval*.89, 2), np.round(maxval)])\n",
    "print(n)\n",
    "plt.savefig(os.path.join(savepath, 'hAPP-J20 plaque map 13 mo rostral.png'), facecolor=fig.get_facecolor(),\n",
    "            bbox_inches='tight', pad_inches=0.3, format='png', dpi=500)"
   ]
  },
  {
   "cell_type": "code",
   "execution_count": null,
   "metadata": {},
   "outputs": [],
   "source": [
    "structure_vals, n = get_mean_value_per_structure('Tg2576', '13 mo', dat.structure_id.unique())\n",
    "rgb_vals = structure_vals.copy()\n",
    "scale = 10\n",
    "for key in structure_vals:\n",
    "    rgb_vals[key] = tuple([255*i for i in cm.hot(structure_vals[key]*scale)[:3]])\n",
    "rgb_vals[0] = [0, 0, 0]\n",
    "\n",
    "w=8\n",
    "h=8\n",
    "image = [0,0,0]\n",
    "#index = [8000, 4500, 5000]\n",
    "index = [6650, 5625, 9100] #rostral\n",
    "image[0] = reference_space.get_slice_image(0, index[0], rgb_vals)\n",
    "image[1] = np.flip(np.rot90(reference_space.get_slice_image(2, index[2], rgb_vals)), 0)\n",
    "image[2] = np.rot90(reference_space.get_slice_image(1, index[1], rgb_vals))  \n",
    "fig = plt.figure(figsize=(8, 3), facecolor=rgb_vals[0])\n",
    "columns = 3\n",
    "rows = 1\n",
    "for i in range(columns*rows):\n",
    "    fig.add_subplot(rows, columns, i+1)\n",
    "    f = plt.imshow(image[i], cmap = cm.hot)\n",
    "    plt.axis('off')\n",
    "cbar = fig.colorbar(f, fraction=0.046)\n",
    "cbar.set_label('Plaque % Volume', rotation=90, color = 'w')\n",
    "plt.setp(plt.getp(cbar.ax.axes, 'yticklabels'), color='w')\n",
    "\n",
    "maxval = max(structure_vals.iteritems(), key=operator.itemgetter(1))[1]/scale\n",
    "cbar.ax.set_yticklabels([0, np.round(maxval*.12, 2), np.round(maxval*.23, 2), \n",
    "                         np.round(maxval*.34, 2), np.round(maxval*.45, 2), \n",
    "                         np.round(maxval*.56, 2), np.round(maxval*.67, 2),\n",
    "                        np.round(maxval*.78, 2), np.round(maxval*.89, 2), np.round(maxval)])\n",
    "print(n)\n",
    "plt.savefig(os.path.join(savepath, 'Tg2576 plaque map 13 mo rostral.png'), facecolor=fig.get_facecolor(),\n",
    "            bbox_inches='tight', pad_inches=0.3, format='png', dpi=1000)"
   ]
  },
  {
   "cell_type": "code",
   "execution_count": null,
   "metadata": {},
   "outputs": [],
   "source": [
    "structure_vals, n = get_mean_value_per_structure('Tg2576', '19 mo', dat.structure_id.unique())\n",
    "rgb_vals = structure_vals.copy()\n",
    "scale = 2\n",
    "for key in structure_vals:\n",
    "    rgb_vals[key] = tuple([255*i for i in cm.hot(structure_vals[key]*scale)[:3]])\n",
    "rgb_vals[0] = [0, 0, 0]\n",
    "\n",
    "w=8\n",
    "h=8\n",
    "image = [0,0,0]\n",
    "#index = [8000, 4500, 5000]\n",
    "index = [6650, 5625, 9100] #rostral\n",
    "image[0] = reference_space.get_slice_image(0, index[0], rgb_vals)\n",
    "image[1] = np.flip(np.rot90(reference_space.get_slice_image(2, index[2], rgb_vals)), 0)\n",
    "image[2] = np.rot90(reference_space.get_slice_image(1, index[1], rgb_vals))  \n",
    "fig = plt.figure(figsize=(8, 3), facecolor= rgb_vals[0])\n",
    "columns = 3\n",
    "rows = 1\n",
    "for i in range(columns*rows):\n",
    "    fig.add_subplot(rows, columns, i+1)\n",
    "    f = plt.imshow(image[i], cmap = cm.hot)\n",
    "    plt.axis('off')\n",
    "\n",
    "cbar = fig.colorbar(f, orientation='vertical', \n",
    "                    fraction=0.046)\n",
    "cbar_ax = fig.axes[-1]\n",
    "cbar.solids.set_rasterized(True)\n",
    "cbar.solids.set_edgecolor(\"face\")\n",
    "cbar.draw_all()\n",
    "\n",
    "cbar.set_label('Plaque % Volume', rotation=90, color = 'w')\n",
    "plt.setp(plt.getp(cbar.ax.axes, 'yticklabels'), color='w')\n",
    "\n",
    "maxval = max(structure_vals.iteritems(), key=operator.itemgetter(1))[1]/scale\n",
    "cbar.ax.set_yticklabels([0, np.round(maxval*.12, 1), np.round(maxval*.23, 1), \n",
    "                         np.round(maxval*.34, 1), np.round(maxval*.45, 1), \n",
    "                         np.round(maxval*.56, 1), np.round(maxval*.67, 1),\n",
    "                        np.round(maxval*.78, 1), np.round(maxval*.89, 1), np.round(maxval)])\n",
    "print(n)\n",
    "plt.savefig(os.path.join(savepath, 'Tg2576 plaque map 19 mo rostral.png'), facecolor=fig.get_facecolor(),\n",
    "            bbox_inches='tight', pad_inches=0.3, format='png', dpi=500)"
   ]
  },
  {
   "cell_type": "code",
   "execution_count": null,
   "metadata": {},
   "outputs": [],
   "source": [
    "w=8\n",
    "h=8\n",
    "image = [0,0,0]\n",
    "#index = [8000, 4500, 5000]\n",
    "index = [6650, 5625, 9100] #rostral\n",
    "image[0] = reference_space.get_slice_image(0, index[0])\n",
    "image[1] = np.flip(np.rot90(reference_space.get_slice_image(2, index[2])), 0)\n",
    "image[2] = np.rot90(reference_space.get_slice_image(1, index[1]))  \n",
    "fig = plt.figure(figsize=(8, 3), facecolor= rgb_vals[0])\n",
    "columns = 3\n",
    "rows = 1\n",
    "for i in range(columns*rows):\n",
    "    fig.add_subplot(rows, columns, i+1)\n",
    "    f = plt.imshow(image[i])\n",
    "    plt.axis('off')\n",
    "cbar = fig.colorbar(f, orientation='vertical', \n",
    "                    fraction=0.046)\n",
    "cbar_ax = fig.axes[-1]\n",
    "cbar.solids.set_rasterized(True)\n",
    "cbar.solids.set_edgecolor(\"face\")\n",
    "cbar.draw_all()\n",
    "\n",
    "cbar.set_label('Plaque % Volume', rotation=90, color = 'w')\n",
    "plt.setp(plt.getp(cbar.ax.axes, 'yticklabels'), color='w')\n",
    "\n",
    "maxval = max(structure_vals.iteritems(), key=operator.itemgetter(1))[1]/scale\n",
    "cbar.ax.set_yticklabels([0, np.round(maxval*.12, 1), np.round(maxval*.23, 1), \n",
    "                         np.round(maxval*.34, 1), np.round(maxval*.45, 1), \n",
    "                         np.round(maxval*.56, 1), np.round(maxval*.67, 1),\n",
    "                        np.round(maxval*.78, 1), np.round(maxval*.89, 1), np.round(maxval)])\n",
    "plt.savefig(os.path.join(savepath, 'ARA with plaque map rostral.png'), facecolor=fig.get_facecolor(),\n",
    "            bbox_inches='tight', pad_inches=0.3, format='png', dpi=1000)"
   ]
  },
  {
   "cell_type": "code",
   "execution_count": null,
   "metadata": {},
   "outputs": [],
   "source": [
    "meandat = dat.groupby('structure_acronym').mean().reset_index().sort_values(by = 'plaque_density', ascending = False)"
   ]
  },
  {
   "cell_type": "code",
   "execution_count": null,
   "metadata": {},
   "outputs": [],
   "source": [
    "cdat = pd.read_csv(r'/Users/jenniferwh/Dropbox (Allen Institute)/Mesoscale Connectome Papers in Progress/2018 Plaque/figures/control brains/control_false_positive_mean_by_ss.csv')"
   ]
  },
  {
   "cell_type": "code",
   "execution_count": null,
   "metadata": {},
   "outputs": [],
   "source": [
    "meandat.sort_values(by='structure_id', inplace = True)\n",
    "meandat['Percent Coverage'] = [density*100 for density in meandat['plaque_density']]"
   ]
  },
  {
   "cell_type": "code",
   "execution_count": null,
   "metadata": {},
   "outputs": [],
   "source": [
    "cdat.sort_values(by='structure_id', inplace = True)\n",
    "cdat['Percent Coverage'] = [density*100 for density in cdat['plaque_density']]"
   ]
  },
  {
   "cell_type": "code",
   "execution_count": null,
   "metadata": {},
   "outputs": [],
   "source": [
    "diff = meandat['Percent Coverage'] - cdat['Percent Coverage']"
   ]
  },
  {
   "cell_type": "code",
   "execution_count": null,
   "metadata": {},
   "outputs": [],
   "source": [
    "max(diff)"
   ]
  },
  {
   "cell_type": "code",
   "execution_count": null,
   "metadata": {},
   "outputs": [],
   "source": [
    "min(diff)"
   ]
  },
  {
   "cell_type": "code",
   "execution_count": null,
   "metadata": {},
   "outputs": [],
   "source": [
    "np.mean(diff)"
   ]
  },
  {
   "cell_type": "code",
   "execution_count": null,
   "metadata": {},
   "outputs": [],
   "source": [
    "fig, ax = plt.subplots(figsize = (2, 2.2))\n",
    "g = sns.distplot(diff, kde=0)\n",
    "g.set_ylabel('Number of Structures')\n",
    "g.set_xlabel('Diff in % Coverage')\n",
    "g.set_title('Signal - False Positive')\n",
    "plt.tight_layout()\n",
    "plt.savefig(r'/Users/jenniferwh/Dropbox (Allen Institute)/Mesoscale Connectome Papers in Progress/2018 Plaque/figures/control brains/false_positive_levels.pdf', \n",
    "            bbox_inches='tight', pad_inches=0.3, format='pdf', transparent = True, dpi=1000)"
   ]
  },
  {
   "cell_type": "code",
   "execution_count": null,
   "metadata": {},
   "outputs": [],
   "source": [
    "len(diff)"
   ]
  },
  {
   "cell_type": "code",
   "execution_count": null,
   "metadata": {},
   "outputs": [],
   "source": [
    "len([value for value in diff if value < 0.1])"
   ]
  },
  {
   "cell_type": "code",
   "execution_count": null,
   "metadata": {},
   "outputs": [],
   "source": [
    "len([value for value in diff if -0.1 < value < 0.1])"
   ]
  },
  {
   "cell_type": "code",
   "execution_count": null,
   "metadata": {},
   "outputs": [],
   "source": [
    "len([value for value in diff if value < 0])"
   ]
  },
  {
   "cell_type": "code",
   "execution_count": null,
   "metadata": {},
   "outputs": [],
   "source": [
    "len([value for value in diff if value > 0.5])"
   ]
  },
  {
   "cell_type": "code",
   "execution_count": null,
   "metadata": {},
   "outputs": [],
   "source": [
    "max(diff)"
   ]
  },
  {
   "cell_type": "code",
   "execution_count": null,
   "metadata": {},
   "outputs": [],
   "source": [
    "dat.head()"
   ]
  },
  {
   "cell_type": "code",
   "execution_count": null,
   "metadata": {},
   "outputs": [],
   "source": [
    "iso_children = st.child_ids(iso)\n",
    "iso_children = [item for sublist in iso_children for item in sublist]"
   ]
  },
  {
   "cell_type": "code",
   "execution_count": null,
   "metadata": {},
   "outputs": [],
   "source": [
    "len(iso_children)"
   ]
  },
  {
   "cell_type": "code",
   "execution_count": null,
   "metadata": {},
   "outputs": [],
   "source": [
    "hipp['id']"
   ]
  },
  {
   "cell_type": "code",
   "execution_count": null,
   "metadata": {},
   "outputs": [],
   "source": [
    "hipp_children = st.descendant_ids([hipp['id']])\n",
    "hipp_children = [item for sublist in hipp_children for item in sublist]"
   ]
  },
  {
   "cell_type": "code",
   "execution_count": null,
   "metadata": {},
   "outputs": [],
   "source": [
    "dat.head()"
   ]
  },
  {
   "cell_type": "code",
   "execution_count": null,
   "metadata": {},
   "outputs": [],
   "source": [
    "pltdat = pd.DataFrame(columns={'age', 'group', 'plaques', 'structure'})\n",
    "for structure_acronym in dat['structure_acronym'].unique():\n",
    "    pltdat = pd.concat([pltdat, get_structure_data('19 mo', structure_acronym, 'density')], sort = True)\n",
    "pltdat['Percent Plaque Coverage'] = [density*100 for density in pltdat['plaques']]"
   ]
  },
  {
   "cell_type": "code",
   "execution_count": null,
   "metadata": {},
   "outputs": [],
   "source": [
    "maxstr = pltdat.groupby('image_series_id').max()"
   ]
  },
  {
   "cell_type": "code",
   "execution_count": null,
   "metadata": {},
   "outputs": [],
   "source": [
    "medplaque = pltdat[pltdat['group'] == 'APP/PS1']['Percent Plaque Coverage'].quantile(0.95)"
   ]
  },
  {
   "cell_type": "code",
   "execution_count": null,
   "metadata": {},
   "outputs": [],
   "source": [
    "medplaque"
   ]
  },
  {
   "cell_type": "code",
   "execution_count": null,
   "metadata": {},
   "outputs": [],
   "source": [
    "max_strs = []\n",
    "for isid in pltdat[pltdat['group'] == 'APP/PS1']['image_series_id'].unique():\n",
    "    isid_dat = pltdat[pltdat['image_series_id'] == isid]\n",
    "    max_strs.append(isid_dat[isid_dat['Percent Plaque Coverage'] > medplaque]['structure'].values)"
   ]
  },
  {
   "cell_type": "code",
   "execution_count": null,
   "metadata": {},
   "outputs": [],
   "source": [
    "max_strs = [item for sublist in max_strs for item in sublist]"
   ]
  },
  {
   "cell_type": "code",
   "execution_count": null,
   "metadata": {},
   "outputs": [],
   "source": [
    "set(max_strs)"
   ]
  },
  {
   "cell_type": "code",
   "execution_count": null,
   "metadata": {},
   "outputs": [],
   "source": [
    "pltdat[(pltdat['group'] == 'APP/PS1') & \n",
    "              (pltdat['structure'] == 'cc')]['Percent Plaque Coverage'].mean()"
   ]
  },
  {
   "cell_type": "code",
   "execution_count": null,
   "metadata": {},
   "outputs": [],
   "source": [
    "pltdat[(pltdat['group'] == 'APP/PS1')].describe()"
   ]
  },
  {
   "cell_type": "code",
   "execution_count": null,
   "metadata": {},
   "outputs": [],
   "source": [
    "pltdat = pd.DataFrame(columns={'age', 'group', 'plaques', 'structure'})\n",
    "for structure_acronym in ['Isocortex']:\n",
    "    pltdat = pd.concat([pltdat, get_structure_data('9 mo', structure_acronym, 'density')], sort = True)\n",
    "pltdat['Percent Plaque Coverage'] = [density*100 for density in pltdat['plaques']]"
   ]
  },
  {
   "cell_type": "code",
   "execution_count": null,
   "metadata": {},
   "outputs": [],
   "source": [
    "pltdat[(pltdat['group'] == 'Tg2576')].describe()"
   ]
  },
  {
   "cell_type": "code",
   "execution_count": null,
   "metadata": {},
   "outputs": [],
   "source": [
    "pltdat = pd.DataFrame(columns={'age', 'group', 'plaques', 'structure'})\n",
    "for structure in [hipp['id']]:\n",
    "    print(structure)\n",
    "    structure_acronym = ai_map[structure]\n",
    "    pltdat = pd.concat([pltdat, get_structure_data('19 mo', structure_acronym, 'density')], sort = True)\n",
    "pltdat['Percent Plaque Coverage'] = [density*100 for density in pltdat['plaques']]"
   ]
  },
  {
   "cell_type": "code",
   "execution_count": null,
   "metadata": {},
   "outputs": [],
   "source": [
    "iso_children"
   ]
  },
  {
   "cell_type": "code",
   "execution_count": null,
   "metadata": {},
   "outputs": [],
   "source": []
  }
 ],
 "metadata": {
  "kernelspec": {
   "display_name": "Python 3",
   "language": "python",
   "name": "python3"
  },
  "language_info": {
   "codemirror_mode": {
    "name": "ipython",
    "version": 3
   },
   "file_extension": ".py",
   "mimetype": "text/x-python",
   "name": "python",
   "nbconvert_exporter": "python",
   "pygments_lexer": "ipython3",
   "version": "3.7.1"
  }
 },
 "nbformat": 4,
 "nbformat_minor": 2
}
