{
 "cells": [
  {
   "cell_type": "code",
   "execution_count": null,
   "metadata": {},
   "outputs": [],
   "source": [
    "import os\n",
    "import numpy as np\n",
    "import pandas as pd\n",
    "import matplotlib.pyplot as plt\n",
    "import seaborn as sns\n",
    "from allensdk.api.queries.ontologies_api import OntologiesApi\n",
    "from allensdk.core.mouse_connectivity_cache import MouseConnectivityCache\n",
    "from matplotlib import cm\n",
    "import operator\n",
    "\n",
    "import statsmodels.api as sm\n",
    "\n",
    "sns.set_context('poster')\n",
    "sns.set_style('white')\n",
    "%matplotlib inline\n",
    "\n",
    "import matplotlib as mpl\n",
    "mpl.rcParams['pdf.fonttype'] = 42"
   ]
  },
  {
   "cell_type": "code",
   "execution_count": null,
   "metadata": {},
   "outputs": [],
   "source": [
    "path = r'/Users/jenniferwh/Dropbox (Allen Institute)/Mesoscale Connectome Papers in Progress/2018 Plaque'"
   ]
  },
  {
   "cell_type": "code",
   "execution_count": null,
   "metadata": {},
   "outputs": [],
   "source": [
    "dat = pd.read_csv(os.path.join(path, 'unionizes', 'experiment_structure_unionizes_consolidated_06_10_2018.csv'))"
   ]
  },
  {
   "cell_type": "code",
   "execution_count": null,
   "metadata": {},
   "outputs": [],
   "source": [
    "dat.head()"
   ]
  },
  {
   "cell_type": "code",
   "execution_count": null,
   "metadata": {},
   "outputs": [],
   "source": [
    "count = pd.read_csv(r'C:\\Users\\jenniferwh\\Dropbox (Allen Institute)\\Mesoscale Connectome Papers in Progress\\2018 Plaque\\plaque counts\\plaque_counts.csv')"
   ]
  },
  {
   "cell_type": "code",
   "execution_count": null,
   "metadata": {},
   "outputs": [],
   "source": [
    "meta = pd.read_csv(os.path.join(path, 'plaque_dataset_07_06_2018.csv'))"
   ]
  },
  {
   "cell_type": "code",
   "execution_count": null,
   "metadata": {},
   "outputs": [],
   "source": [
    "meta.head(1)"
   ]
  },
  {
   "cell_type": "code",
   "execution_count": null,
   "metadata": {},
   "outputs": [],
   "source": [
    "meta.keys()"
   ]
  },
  {
   "cell_type": "code",
   "execution_count": null,
   "metadata": {},
   "outputs": [],
   "source": [
    "meta['Plaque map call (R hemisphere)'].unique()"
   ]
  },
  {
   "cell_type": "code",
   "execution_count": null,
   "metadata": {},
   "outputs": [],
   "source": [
    "dataset = meta[meta['Plaque map call (R hemisphere)'] == 'Pass']"
   ]
  },
  {
   "cell_type": "code",
   "execution_count": null,
   "metadata": {},
   "outputs": [],
   "source": [
    "len(dataset)"
   ]
  },
  {
   "cell_type": "code",
   "execution_count": null,
   "metadata": {},
   "outputs": [],
   "source": [
    "oapi = OntologiesApi()\n",
    "summary_structures = oapi.get_structures(structure_set_names=\"'Mouse Connectivity - Summary'\")\n",
    "summary_structure_ids = [item['id'] for item in summary_structures]\n",
    "summary_structure_ids.remove(934)\n",
    "print(len(summary_structure_ids))"
   ]
  },
  {
   "cell_type": "code",
   "execution_count": null,
   "metadata": {},
   "outputs": [],
   "source": [
    "coarse_structures = oapi.get_structures(structure_set_names=\"'Mouse - Coarse'\")\n",
    "coarse_structure_ids = [item['id'] for item in coarse_structures]\n",
    "print(len(coarse_structure_ids))"
   ]
  },
  {
   "cell_type": "code",
   "execution_count": null,
   "metadata": {},
   "outputs": [],
   "source": [
    "mcc = MouseConnectivityCache(manifest_file = '../connectivity/mouse_connectivity_manifest.json')\n",
    "structure_tree = mcc.get_structure_tree()\n",
    "ia_map = structure_tree.get_id_acronym_map()\n",
    "ai_map = {value:key for key, value in ia_map.iteritems()}"
   ]
  },
  {
   "cell_type": "code",
   "execution_count": null,
   "metadata": {},
   "outputs": [],
   "source": [
    "ai_map[997]"
   ]
  },
  {
   "cell_type": "code",
   "execution_count": null,
   "metadata": {},
   "outputs": [],
   "source": [
    "structures = summary_structure_ids + coarse_structure_ids + [997]"
   ]
  },
  {
   "cell_type": "code",
   "execution_count": null,
   "metadata": {},
   "outputs": [],
   "source": [
    "dataset_ids = dat['image_series_id'].unique()\n",
    "print(len(dataset_ids))"
   ]
  },
  {
   "cell_type": "code",
   "execution_count": null,
   "metadata": {},
   "outputs": [],
   "source": [
    "isids = [int(value) for value in dataset['Link to image series']]"
   ]
  },
  {
   "cell_type": "code",
   "execution_count": null,
   "metadata": {},
   "outputs": [],
   "source": [
    "dataset['image_series_id'] = isids"
   ]
  },
  {
   "cell_type": "code",
   "execution_count": null,
   "metadata": {},
   "outputs": [],
   "source": [
    "dataset = dataset[dataset['image_series_id'].isin(dataset_ids)]\n",
    "print(len(dataset))"
   ]
  },
  {
   "cell_type": "code",
   "execution_count": null,
   "metadata": {},
   "outputs": [],
   "source": [
    "dataset.keys()"
   ]
  },
  {
   "cell_type": "code",
   "execution_count": null,
   "metadata": {},
   "outputs": [],
   "source": [
    "dataset.Experiment.unique()"
   ]
  },
  {
   "cell_type": "code",
   "execution_count": null,
   "metadata": {},
   "outputs": [],
   "source": [
    "dataset.loc[dataset['Specimen ID'].str.contains('APP/PS1'), 'Mouse Line'] = 'APP/PS1'\n",
    "dataset.loc[dataset['Specimen ID'].str.contains('APP_PS1'), 'Mouse Line'] = 'APP/PS1'\n",
    "dataset.loc[dataset['Specimen ID'].str.contains('J20'), 'Mouse Line'] = 'J20'\n",
    "dataset.loc[dataset['Specimen ID'].str.contains('Tg2576'), 'Mouse Line'] = 'Tg2576'\n",
    "dataset.loc[dataset['Specimen ID'].str.contains('rTg4510'), 'Mouse Line'] = 'APP/PS1/rTg4510'\n",
    "dataset.loc[dataset['Specimen ID'].str.contains('Cre'), 'Mouse Line'] = 'APP/PS1/Cre'"
   ]
  },
  {
   "cell_type": "code",
   "execution_count": null,
   "metadata": {},
   "outputs": [],
   "source": [
    "dataset[dataset['Mouse Line'].isnull()]['Specimen ID']"
   ]
  },
  {
   "cell_type": "code",
   "execution_count": null,
   "metadata": {},
   "outputs": [],
   "source": [
    "dataset['Mouse Line'].unique()"
   ]
  },
  {
   "cell_type": "code",
   "execution_count": null,
   "metadata": {},
   "outputs": [],
   "source": [
    "dataset.groupby(['Mouse Line', 'age group']).count()['Unnamed: 0']"
   ]
  },
  {
   "cell_type": "code",
   "execution_count": null,
   "metadata": {},
   "outputs": [],
   "source": [
    "dataset = dataset[dataset['Mouse Line'] != 'APP/PS1/Cre']"
   ]
  },
  {
   "cell_type": "code",
   "execution_count": null,
   "metadata": {},
   "outputs": [],
   "source": [
    "dataset.groupby(['Mouse Line', 'age group']).count()['Unnamed: 0']"
   ]
  },
  {
   "cell_type": "code",
   "execution_count": null,
   "metadata": {},
   "outputs": [],
   "source": [
    "dat.head()"
   ]
  },
  {
   "cell_type": "code",
   "execution_count": null,
   "metadata": {},
   "outputs": [],
   "source": [
    "count.head()"
   ]
  },
  {
   "cell_type": "code",
   "execution_count": null,
   "metadata": {},
   "outputs": [],
   "source": [
    "dat = dat[['image_series_id', 'structure_id', 'plaque_density']].merge(\n",
    "    count[['image_series_id', 'structure_id', 'sum_plaques']], on=['image_series_id', 'structure_id'])"
   ]
  },
  {
   "cell_type": "code",
   "execution_count": null,
   "metadata": {},
   "outputs": [],
   "source": [
    "dat.head()"
   ]
  },
  {
   "cell_type": "code",
   "execution_count": null,
   "metadata": {},
   "outputs": [],
   "source": [
    "dat['structure_id'].unique()"
   ]
  },
  {
   "cell_type": "code",
   "execution_count": null,
   "metadata": {},
   "outputs": [],
   "source": [
    "dat = dat[~dat['structure_id'].isin([526322264, 563807439, 589508451, 1060])] #these structures are throwing errors in OLS"
   ]
  },
  {
   "cell_type": "code",
   "execution_count": null,
   "metadata": {},
   "outputs": [],
   "source": [
    "pltdat = dat[dat['structure_id'] == 315]\n",
    "fig, ax = plt.subplots()\n",
    "ax.scatter(pltdat['sum_plaques'], pltdat['plaque_density'])"
   ]
  },
  {
   "cell_type": "code",
   "execution_count": null,
   "metadata": {},
   "outputs": [],
   "source": [
    "dat.head()"
   ]
  },
  {
   "cell_type": "code",
   "execution_count": null,
   "metadata": {},
   "outputs": [],
   "source": [
    "def correlate_density_count(image_series_ids):\n",
    "    subset_dat = dat[dat['image_series_id'].isin(image_series_ids)]\n",
    "    structure_name = []\n",
    "    structure_id = []\n",
    "    rsquared = []\n",
    "    pvals = []\n",
    "    pvals_x = []\n",
    "    pvals_constant = []\n",
    "    for structure in subset_dat['structure_id'].unique():\n",
    "        calcdat = subset_dat[subset_dat['structure_id'] == structure]\n",
    "        y = calcdat['plaque_density']\n",
    "        X = calcdat['sum_plaques']\n",
    "        X = sm.add_constant(X)\n",
    "        res = sm.OLS(y, X).fit()\n",
    "        try:\n",
    "            if res.pvalues['const'] > 0:\n",
    "                structure_id.append(structure)\n",
    "                structure_name.append(ai_map[structure])\n",
    "                rsquared.append(res.rsquared_adj)\n",
    "                pvals.append(res.pvalues)\n",
    "                pvals_x.append(res.pvalues['sum_plaques'])\n",
    "                pvals_constant.append(res.pvalues['const'])\n",
    "        except:\n",
    "            continue\n",
    "    fdrcorr_x = sm.stats.fdrcorrection(pvals_x, alpha=0.05, method='indep')\n",
    "    fdrcorr_const = sm.stats.fdrcorrection(pvals_constant, alpha=0.05, method='indep')\n",
    "    corrdat = pd.DataFrame({'structure_name': structure_name, 'structure_id': structure_id,\n",
    "                            'r_squared': rsquared, 'p_value': fdrcorr_x[1],\n",
    "                           'p_value_constant': pvals_constant})\n",
    "    return corrdat"
   ]
  },
  {
   "cell_type": "code",
   "execution_count": null,
   "metadata": {},
   "outputs": [],
   "source": [
    "all_corrdat = correlate_density_count(dat['image_series_id'])"
   ]
  },
  {
   "cell_type": "code",
   "execution_count": null,
   "metadata": {},
   "outputs": [],
   "source": [
    "all_corrdat.sort_values(by='p_value')"
   ]
  },
  {
   "cell_type": "code",
   "execution_count": null,
   "metadata": {},
   "outputs": [],
   "source": [
    "no_corr_strs = all_corrdat[all_corrdat['p_value'] > 0.05]['structure_id'].values"
   ]
  },
  {
   "cell_type": "code",
   "execution_count": null,
   "metadata": {},
   "outputs": [],
   "source": [
    "no_corr_strs"
   ]
  },
  {
   "cell_type": "code",
   "execution_count": null,
   "metadata": {},
   "outputs": [],
   "source": [
    "dat[dat['structure_id'].isin(no_corr_strs)].describe()"
   ]
  },
  {
   "cell_type": "code",
   "execution_count": null,
   "metadata": {},
   "outputs": [],
   "source": [
    "dat[~dat['structure_id'].isin(no_corr_strs)].describe()"
   ]
  },
  {
   "cell_type": "code",
   "execution_count": null,
   "metadata": {},
   "outputs": [],
   "source": [
    "pltdat = dat[dat['structure_id'] == 382]\n",
    "fig, ax = plt.subplots()\n",
    "ax.scatter(pltdat['sum_plaques'], pltdat['plaque_density'])"
   ]
  },
  {
   "cell_type": "code",
   "execution_count": null,
   "metadata": {},
   "outputs": [],
   "source": [
    "APP_PS1 = map(int, dataset[dataset['Mouse Line'] == 'APP/PS1']['Link to image series'])\n",
    "APP_PS1_corrdat = correlate_density_count(APP_PS1)"
   ]
  },
  {
   "cell_type": "code",
   "execution_count": null,
   "metadata": {},
   "outputs": [],
   "source": [
    "APP_PS1_corrdat.sort_values(by='p_value')"
   ]
  },
  {
   "cell_type": "code",
   "execution_count": null,
   "metadata": {},
   "outputs": [],
   "source": [
    "APP_PS1_corrdat.mean()"
   ]
  },
  {
   "cell_type": "code",
   "execution_count": null,
   "metadata": {},
   "outputs": [],
   "source": [
    "all_corrdat.mean()"
   ]
  },
  {
   "cell_type": "code",
   "execution_count": null,
   "metadata": {},
   "outputs": [],
   "source": [
    "dataset['Mouse Line'].unique()"
   ]
  },
  {
   "cell_type": "code",
   "execution_count": null,
   "metadata": {},
   "outputs": [],
   "source": [
    "J20 = map(int, dataset[dataset['Mouse Line'] == 'J20']['Link to image series'])\n",
    "J20_corrdat = correlate_density_count(J20)\n",
    "J20_corrdat.mean()"
   ]
  },
  {
   "cell_type": "code",
   "execution_count": null,
   "metadata": {},
   "outputs": [],
   "source": [
    "triple = map(int, dataset[dataset['Mouse Line'] == 'APP/PS1/rTg4510']['Link to image series'])\n",
    "triple_corrdat = correlate_density_count(triple)\n",
    "triple_corrdat.mean()"
   ]
  },
  {
   "cell_type": "code",
   "execution_count": null,
   "metadata": {},
   "outputs": [],
   "source": [
    "Tg2576 = map(int, dataset[dataset['Mouse Line'] == 'Tg2576']['Link to image series'])\n",
    "Tg2576_corrdat = correlate_density_count(Tg2576)\n",
    "Tg2576_corrdat.mean()"
   ]
  },
  {
   "cell_type": "code",
   "execution_count": null,
   "metadata": {},
   "outputs": [],
   "source": [
    "iso = structure_tree.get_structures_by_acronym(['Isocortex'])[0]\n",
    "hipp = structure_tree.get_structures_by_acronym(['HPF'])[0]\n",
    "ptlp = structure_tree.get_structures_by_acronym(['PTLp'])[0]\n",
    "isohipp_ids = structure_tree.descendant_ids([iso['id'], hipp['id'], ptlp['id']])\n",
    "print(len(isohipp_ids))\n",
    "isohipp_ids = [y for x in isohipp_ids for y in x]\n",
    "print(len(isohipp_ids))"
   ]
  },
  {
   "cell_type": "code",
   "execution_count": null,
   "metadata": {},
   "outputs": [],
   "source": [
    "isohipp_ids = [ids for ids in isohipp_ids if ids in summary_structure_ids]\n",
    "print(len(isohipp_ids))"
   ]
  },
  {
   "cell_type": "markdown",
   "metadata": {},
   "source": [
    "## Generate dictionary with p value per structure to see where correlation is bad"
   ]
  },
  {
   "cell_type": "code",
   "execution_count": null,
   "metadata": {},
   "outputs": [],
   "source": [
    "all_corrdat.head()"
   ]
  },
  {
   "cell_type": "code",
   "execution_count": null,
   "metadata": {},
   "outputs": [],
   "source": [
    "structure_vals = dict(zip(all_corrdat['structure_id'], all_corrdat['p_value']))"
   ]
  },
  {
   "cell_type": "code",
   "execution_count": null,
   "metadata": {},
   "outputs": [],
   "source": [
    "structure_vals[315]"
   ]
  },
  {
   "cell_type": "code",
   "execution_count": null,
   "metadata": {},
   "outputs": [],
   "source": [
    "mask, _ = mcc.get_structure_mask(997)\n",
    "print(mask.shape)\n",
    "plt.imshow(mask[200])\n",
    "print(np.unique(mask))"
   ]
  },
  {
   "cell_type": "code",
   "execution_count": null,
   "metadata": {},
   "outputs": [],
   "source": [
    "coarse_structure_ids"
   ]
  },
  {
   "cell_type": "code",
   "execution_count": null,
   "metadata": {},
   "outputs": [],
   "source": [
    "mask, _ = mcc.get_structure_mask(997)\n",
    "newmask = np.zeros(mask.shape)\n",
    "for structure in coarse_structure_ids:\n",
    "    structure_mask, _ = mcc.get_structure_mask(structure)\n",
    "    newval = structure_vals[structure]\n",
    "    newmask[np.where(structure_mask)] = newval\n",
    "print(np.unique(newmask))\n",
    "plt.imshow(newmask[300])"
   ]
  },
  {
   "cell_type": "code",
   "execution_count": null,
   "metadata": {},
   "outputs": [],
   "source": [
    "plt.imshow(newmask[:,200,:])"
   ]
  },
  {
   "cell_type": "code",
   "execution_count": null,
   "metadata": {},
   "outputs": [],
   "source": [
    "plt.imshow(newmask[:,:,100])"
   ]
  },
  {
   "cell_type": "code",
   "execution_count": null,
   "metadata": {},
   "outputs": [],
   "source": [
    "newmask.shape"
   ]
  },
  {
   "cell_type": "code",
   "execution_count": null,
   "metadata": {},
   "outputs": [],
   "source": [
    "np.unique(newmask)"
   ]
  },
  {
   "cell_type": "code",
   "execution_count": null,
   "metadata": {},
   "outputs": [],
   "source": [
    "# This takes forever to run\n",
    "mask, _ = mcc.get_structure_mask(997)\n",
    "newmask = np.zeros_like(mask)\n",
    "for structure in summary_structure_ids:\n",
    "    structure_mask, _ = mcc.get_structure_mask(structure)\n",
    "    newval = structure_vals[structure]*10000\n",
    "    newmask[np.where(structure_mask)] = newval\n",
    "print(np.unique(newmask))\n",
    "plt.imshow(newmask[300])"
   ]
  },
  {
   "cell_type": "code",
   "execution_count": null,
   "metadata": {},
   "outputs": [],
   "source": [
    "plt.imshow(newmask[:,155,:])"
   ]
  },
  {
   "cell_type": "code",
   "execution_count": null,
   "metadata": {},
   "outputs": [],
   "source": [
    "plt.imshow(newmask[:,:,250])"
   ]
  },
  {
   "cell_type": "code",
   "execution_count": null,
   "metadata": {},
   "outputs": [],
   "source": [
    "from matplotlib import cm\n",
    "structure_rgb_vals = structure_vals.copy()\n",
    "for key in structure_rgb_vals:\n",
    "    structure_rgb_vals[key] = tuple([255*i for i in cm.inferno(structure_vals[key]*50)[:3]])\n",
    "structure_rgb_vals[0] = [0.0, 0.0, 0.0]"
   ]
  },
  {
   "cell_type": "code",
   "execution_count": null,
   "metadata": {},
   "outputs": [],
   "source": [
    "reference_space =  mcc.get_reference_space()\n",
    "slice_image = reference_space.get_slice_image(1, 6000, structure_rgb_vals) # this method wants an axis and a position in microns\n",
    "plt.imshow(slice_image)"
   ]
  },
  {
   "cell_type": "code",
   "execution_count": null,
   "metadata": {},
   "outputs": [],
   "source": []
  }
 ],
 "metadata": {
  "kernelspec": {
   "display_name": "Python 2",
   "language": "python",
   "name": "python2"
  },
  "language_info": {
   "codemirror_mode": {
    "name": "ipython",
    "version": 2
   },
   "file_extension": ".py",
   "mimetype": "text/x-python",
   "name": "python",
   "nbconvert_exporter": "python",
   "pygments_lexer": "ipython2",
   "version": "2.7.14"
  }
 },
 "nbformat": 4,
 "nbformat_minor": 2
}
