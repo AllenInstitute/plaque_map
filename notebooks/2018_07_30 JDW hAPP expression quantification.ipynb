{
 "cells": [
  {
   "cell_type": "code",
   "execution_count": null,
   "metadata": {},
   "outputs": [],
   "source": [
    "import os\n",
    "import pandas as pd\n",
    "import seaborn as sns\n",
    "sns.set_context('poster')\n",
    "sns.set_style('white')\n",
    "\n",
    "import matplotlib.pyplot as plt\n",
    "%matplotlib inline\n",
    "import matplotlib as mpl\n",
    "mpl.rcParams['pdf.fonttype'] = 42\n",
    "\n",
    "import statsmodels.api as sm\n",
    "import statsmodels.formula.api as smf\n",
    "import scipy.stats as st\n",
    "\n",
    "from allensdk.core.mouse_connectivity_cache import MouseConnectivityCache"
   ]
  },
  {
   "cell_type": "code",
   "execution_count": null,
   "metadata": {},
   "outputs": [],
   "source": [
    "path = r'/Users/jenniferwh/Dropbox (Allen Institute)/Mesoscale Connectome Papers in Progress/2018 Plaque/hAPP immunostaining'"
   ]
  },
  {
   "cell_type": "code",
   "execution_count": null,
   "metadata": {},
   "outputs": [],
   "source": [
    "dat = pd.read_csv(os.path.join(path, 'hippocampal APP quantification.csv'))"
   ]
  },
  {
   "cell_type": "code",
   "execution_count": null,
   "metadata": {},
   "outputs": [],
   "source": [
    "dat.head()"
   ]
  },
  {
   "cell_type": "code",
   "execution_count": null,
   "metadata": {},
   "outputs": [],
   "source": [
    "dat['Genotype'].unique()"
   ]
  },
  {
   "cell_type": "code",
   "execution_count": null,
   "metadata": {},
   "outputs": [],
   "source": [
    "dat.loc[dat['Genotype'] == 'Tg2576 (1)', 'Genotype'] = 'Tg2576'\n",
    "dat['Genotype'].unique()"
   ]
  },
  {
   "cell_type": "code",
   "execution_count": null,
   "metadata": {},
   "outputs": [],
   "source": [
    "no2576 = dat[dat['Genotype'].isin(['APP/PS1', 'J20'])]"
   ]
  },
  {
   "cell_type": "code",
   "execution_count": null,
   "metadata": {},
   "outputs": [],
   "source": [
    "def get_glm(region):\n",
    "    formula = '%s ~ Genotype + APP + Sex' % region\n",
    "    results = smf.ols(formula=formula, data=no2576).fit()\n",
    "    \n",
    "    return(results)"
   ]
  },
  {
   "cell_type": "code",
   "execution_count": null,
   "metadata": {},
   "outputs": [],
   "source": [
    "res = get_glm('SUBd')\n",
    "anova = sm.stats.anova_lm(res, typ=2)\n",
    "anova"
   ]
  },
  {
   "cell_type": "code",
   "execution_count": null,
   "metadata": {},
   "outputs": [],
   "source": [
    "res = get_glm('CA1')\n",
    "anova = sm.stats.anova_lm(res, typ=2)\n",
    "anova"
   ]
  },
  {
   "cell_type": "code",
   "execution_count": null,
   "metadata": {},
   "outputs": [],
   "source": [
    "res = get_glm('CA3')\n",
    "anova = sm.stats.anova_lm(res, typ=2)\n",
    "anova"
   ]
  },
  {
   "cell_type": "code",
   "execution_count": null,
   "metadata": {},
   "outputs": [],
   "source": [
    "res_dg = get_glm('DG')\n",
    "anova_dg = sm.stats.anova_lm(res_dg, typ=2)\n",
    "anova_dg"
   ]
  },
  {
   "cell_type": "code",
   "execution_count": null,
   "metadata": {},
   "outputs": [],
   "source": [
    "get_glm('DG').summary()"
   ]
  },
  {
   "cell_type": "code",
   "execution_count": null,
   "metadata": {},
   "outputs": [],
   "source": [
    "dat.head()"
   ]
  },
  {
   "cell_type": "code",
   "execution_count": null,
   "metadata": {},
   "outputs": [],
   "source": [
    "mdf = pd.melt(dat, id_vars = ['Genotype', 'APP', 'Sex'], var_name = 'Region', value_name = 'hAPP_level')"
   ]
  },
  {
   "cell_type": "code",
   "execution_count": null,
   "metadata": {},
   "outputs": [],
   "source": [
    "mdf.tail()"
   ]
  },
  {
   "cell_type": "code",
   "execution_count": null,
   "metadata": {},
   "outputs": [],
   "source": [
    "formula = 'hAPP_level ~ Genotype + APP + Sex + Region'\n",
    "results = smf.ols(formula=formula, data=mdf).fit()\n",
    "anova = sm.stats.anova_lm(results, typ=2)\n",
    "anova"
   ]
  },
  {
   "cell_type": "code",
   "execution_count": null,
   "metadata": {},
   "outputs": [],
   "source": [
    "meandat = dat.groupby(['Genotype', 'APP', 'Sex']).mean().reset_index()"
   ]
  },
  {
   "cell_type": "code",
   "execution_count": null,
   "metadata": {},
   "outputs": [],
   "source": [
    "meandat.to_csv(r'/Users/jenniferwh/Dropbox (Allen Institute)/Mesoscale Connectome Papers in Progress/2018 Plaque/hAPP immunostaining/hippocampal APP quantification means.csv')"
   ]
  },
  {
   "cell_type": "code",
   "execution_count": null,
   "metadata": {},
   "outputs": [],
   "source": [
    "mdf.head()"
   ]
  },
  {
   "cell_type": "code",
   "execution_count": null,
   "metadata": {},
   "outputs": [],
   "source": [
    "path"
   ]
  },
  {
   "cell_type": "code",
   "execution_count": null,
   "metadata": {},
   "outputs": [],
   "source": [
    "fig, ax = plt.subplots(1, 2, figsize = (14, 5))\n",
    "h = sns.pointplot('Region', 'hAPP_level', hue = 'Sex', data = mdf[mdf['APP'] == '-'], ax = ax[0], legend = False,\n",
    "                 palette = ['hotpink', 'cornflowerblue'])\n",
    "g = sns.pointplot('Region', 'hAPP_level', hue = 'Sex', data = mdf[mdf['APP'] == '+'], ax = ax[1], legend = False,\n",
    "                 palette = ['hotpink', 'cornflowerblue'])\n",
    "g.legend(bbox_to_anchor = (1.1, 1))\n",
    "h.legend_.remove()\n",
    "h.set_title('APP (-) mice')\n",
    "h.set_ylabel('hAPP Expression Level')\n",
    "h.set_xlabel('')\n",
    "g.set_title('APP (+) mice')\n",
    "g.set_ylabel('hAPP Expression Level')\n",
    "g.set_xlabel('')\n",
    "plt.tight_layout()\n",
    "plt.savefig(os.path.join(path, 'hAPP expression by sex in hippocampal regions.png'), \n",
    "            bbox_inches='tight', pad_inches=0.3, format='png', dpi=300)"
   ]
  },
  {
   "cell_type": "code",
   "execution_count": null,
   "metadata": {},
   "outputs": [],
   "source": [
    "mouse_line_colors = ['#8da0cb', '#fc8d62', '#66c2a5', '#000000']"
   ]
  },
  {
   "cell_type": "code",
   "execution_count": null,
   "metadata": {},
   "outputs": [],
   "source": [
    "mdf.loc[mdf['Genotype'] == 'Tg2576 (1)', 'Genotype'] = 'Tg2576'"
   ]
  },
  {
   "cell_type": "code",
   "execution_count": null,
   "metadata": {},
   "outputs": [],
   "source": [
    "fig, ax = plt.subplots(1, 2, figsize = (15, 5))\n",
    "h = sns.pointplot('Region', 'hAPP_level', hue = 'Genotype', data = mdf[mdf['APP'] == '-'], ax = ax[0], legend = False,\n",
    "                 palette = mouse_line_colors)\n",
    "g = sns.pointplot('Region', 'hAPP_level', hue = 'Genotype', data = mdf[mdf['APP'] == '+'], ax = ax[1], legend = False,\n",
    "                 palette = mouse_line_colors)\n",
    "g.legend(bbox_to_anchor = (1.1, 1))\n",
    "h.legend_.remove()\n",
    "h.set_title('APP (-) mice')\n",
    "h.set_ylabel('hAPP Expression Level')\n",
    "h.set_xlabel('')\n",
    "g.set_title('APP (+) mice')\n",
    "g.set_ylabel('hAPP Expression Level')\n",
    "g.set_xlabel('')\n",
    "plt.tight_layout()\n",
    "plt.savefig(os.path.join(path, 'hAPP expression by genotype in hippocampal regions.png'), \n",
    "            bbox_inches='tight', pad_inches=0.3, format='png', dpi=300)"
   ]
  },
  {
   "cell_type": "code",
   "execution_count": null,
   "metadata": {},
   "outputs": [],
   "source": [
    "fig, ax = plt.subplots(2, 2, figsize = (15, 10))\n",
    "h = sns.pointplot('Region', 'hAPP_level', hue = 'Sex', data = mdf[mdf['APP'] == '-'], ax = ax[0, 0], legend = False,\n",
    "                 palette = ['hotpink', 'cornflowerblue'])\n",
    "g = sns.pointplot('Region', 'hAPP_level', hue = 'Sex', data = mdf[mdf['APP'] == '+'], ax = ax[0, 1], legend = False,\n",
    "                 palette = ['hotpink', 'cornflowerblue'])\n",
    "g.legend(bbox_to_anchor = (1.1, 1))\n",
    "h.legend_.remove()\n",
    "h.set_title('APP (-) mice')\n",
    "h.set_ylabel('hAPP Expression Level')\n",
    "h.set_xlabel('')\n",
    "g.set_title('APP (+) mice')\n",
    "g.set_ylabel('hAPP Expression Level')\n",
    "g.set_xlabel('')\n",
    "plt.tight_layout()\n",
    "i = sns.pointplot('Region', 'hAPP_level', hue = 'Genotype', data = mdf[mdf['APP'] == '-'], ax = ax[1, 0], legend = False,\n",
    "                 palette = mouse_line_colors)\n",
    "j = sns.pointplot('Region', 'hAPP_level', hue = 'Genotype', data = mdf[mdf['APP'] == '+'], ax = ax[1, 1], legend = False,\n",
    "                 palette = mouse_line_colors)\n",
    "j.legend(bbox_to_anchor = (1.1, 1))\n",
    "i.legend_.remove()\n",
    "i.set_title('APP (-) mice')\n",
    "i.set_ylabel('hAPP Expression Level')\n",
    "i.set_xlabel('')\n",
    "j.set_title('APP (+) mice')\n",
    "j.set_ylabel('hAPP Expression Level')\n",
    "j.set_xlabel('')\n",
    "plt.tight_layout()\n",
    "plt.savefig(os.path.join(path, 'hAPP expression by genotype and sex in hippocampal regions.png'), \n",
    "            bbox_inches='tight', pad_inches=0.3, format='png', dpi=300)"
   ]
  },
  {
   "cell_type": "code",
   "execution_count": null,
   "metadata": {},
   "outputs": [],
   "source": [
    "density = pd.read_csv(r'/Users/jenniferwh/Dropbox (Allen Institute)/Mesoscale Connectome Papers in Progress/2018 Plaque/hAPP immunostaining/mean APP and plaque density levels.csv')"
   ]
  },
  {
   "cell_type": "code",
   "execution_count": null,
   "metadata": {},
   "outputs": [],
   "source": [
    "density.drop(columns = {'APP'}, inplace = True)\n",
    "density.head()"
   ]
  },
  {
   "cell_type": "code",
   "execution_count": null,
   "metadata": {},
   "outputs": [],
   "source": [
    "h = sns.scatterplot('hAPP_expression', 'relative_plaque_density_same_region', hue = 'Genotype', data = density)\n",
    "plt.legend(bbox_to_anchor = (1.1, 1))"
   ]
  },
  {
   "cell_type": "code",
   "execution_count": null,
   "metadata": {},
   "outputs": [],
   "source": [
    "h = sns.scatterplot('hAPP_expression', '18_mo_relative_pd', hue = 'Genotype', data = density)\n",
    "plt.legend(bbox_to_anchor = (1.1, 1))"
   ]
  },
  {
   "cell_type": "code",
   "execution_count": null,
   "metadata": {},
   "outputs": [],
   "source": [
    "h = sns.scatterplot('hAPP_expression', 'relative_plaque_density_input_region', hue = 'Genotype', \n",
    "                    data = density)"
   ]
  },
  {
   "cell_type": "code",
   "execution_count": null,
   "metadata": {},
   "outputs": [],
   "source": [
    "h = sns.scatterplot('hAPP_expression', '18_mo_relative_input_pd', hue = 'Genotype', \n",
    "                    data = density)\n",
    "plt.legend(bbox_to_anchor = (1.1, 1))"
   ]
  },
  {
   "cell_type": "code",
   "execution_count": null,
   "metadata": {},
   "outputs": [],
   "source": [
    "st.pearsonr(density['hAPP_expression'], density['relative_plaque_density_same_region'])"
   ]
  },
  {
   "cell_type": "code",
   "execution_count": null,
   "metadata": {},
   "outputs": [],
   "source": [
    "st.pearsonr(density[density['Genotype'] == 'J20']['hAPP_expression'], \n",
    "            density[density['Genotype'] == 'J20']['plaque_density_same_region'])"
   ]
  },
  {
   "cell_type": "code",
   "execution_count": null,
   "metadata": {},
   "outputs": [],
   "source": [
    "st.pearsonr(density['hAPP_expression'], density['relative_plaque_density_input_region'])"
   ]
  },
  {
   "cell_type": "code",
   "execution_count": null,
   "metadata": {},
   "outputs": [],
   "source": [
    "st.pearsonr(density[density['Genotype'] == 'J20']['hAPP_expression'], \n",
    "            density[density['Genotype'] == 'J20']['plaque_density_input_region'])"
   ]
  },
  {
   "cell_type": "code",
   "execution_count": null,
   "metadata": {},
   "outputs": [],
   "source": [
    "st.pearsonr(density[(density['Genotype'] == 'Tg2576') &\n",
    "                   (density['region'] != 'SUBd')]['hAPP_expression'], \n",
    "                                             density[(density['Genotype'] == 'Tg2576') &\n",
    "                                                     (density['region'] != 'SUBd')][\n",
    "                                                 '18_mo_relative_input_pd'])"
   ]
  },
  {
   "cell_type": "code",
   "execution_count": null,
   "metadata": {},
   "outputs": [],
   "source": [
    "st.pearsonr(density[density['Genotype'].isin(['J20'])]['hAPP_expression'], \n",
    "                                             density[density['Genotype'].isin(['J20'])][\n",
    "                                                 'plaque_density_same_region'])"
   ]
  },
  {
   "cell_type": "code",
   "execution_count": null,
   "metadata": {},
   "outputs": [],
   "source": [
    "st.pearsonr(density[(density['Genotype'] == 'J20') &\n",
    "                   (density['region'] != 'SUBd')]['hAPP_expression'], \n",
    "                                             density[(density['Genotype'] == 'J20') &\n",
    "                                                     (density['region'] != 'SUBd')][\n",
    "                                                 'plaque_density_input_region'])"
   ]
  },
  {
   "cell_type": "code",
   "execution_count": null,
   "metadata": {},
   "outputs": [],
   "source": [
    "st.pearsonr(density['hAPP_expression'][density['Genotype'].isin(['APP/PS1'])], \n",
    "            density[density['Genotype'].isin(['APP/PS1'])]['plaque_density_same_region'])"
   ]
  },
  {
   "cell_type": "code",
   "execution_count": null,
   "metadata": {},
   "outputs": [],
   "source": [
    "st.pearsonr(density[(density['Genotype'] == 'APP/PS1') &\n",
    "                   (density['region'] != 'SUBd')]['hAPP_expression'], \n",
    "            density[(density['Genotype'] == 'APP/PS1') &\n",
    "                   (density['region'] != 'SUBd')]['plaque_density_input_region'])"
   ]
  },
  {
   "cell_type": "code",
   "execution_count": null,
   "metadata": {},
   "outputs": [],
   "source": [
    "st.pearsonr(density['hAPP_expression'], \n",
    "            density['plaque_density_input_region'].sample(frac = 1))"
   ]
  },
  {
   "cell_type": "code",
   "execution_count": null,
   "metadata": {},
   "outputs": [],
   "source": []
  }
 ],
 "metadata": {
  "kernelspec": {
   "display_name": "Python 2",
   "language": "python",
   "name": "python2"
  },
  "language_info": {
   "codemirror_mode": {
    "name": "ipython",
    "version": 2
   },
   "file_extension": ".py",
   "mimetype": "text/x-python",
   "name": "python",
   "nbconvert_exporter": "python",
   "pygments_lexer": "ipython2",
   "version": "2.7.14"
  }
 },
 "nbformat": 4,
 "nbformat_minor": 2
}
