{
 "cells": [
  {
   "cell_type": "code",
   "execution_count": null,
   "metadata": {},
   "outputs": [],
   "source": [
    "import os\n",
    "import numpy as np\n",
    "import pandas as pd\n",
    "import matplotlib.pyplot as plt\n",
    "import seaborn as sns\n",
    "from allensdk.core.mouse_connectivity_cache import MouseConnectivityCache\n",
    "from matplotlib import cm\n",
    "import operator\n",
    "import matplotlib.ticker as ticker\n",
    "from scipy import stats\n",
    "import statsmodels.api as sm\n",
    "from statsmodels.formula.api import ols\n",
    "from statsmodels.stats.anova import anova_lm\n",
    "import matplotlib.lines as mlines\n",
    "\n",
    "sns.set_context('poster')\n",
    "sns.set_style('white')\n",
    "%matplotlib inline\n",
    "\n",
    "import matplotlib as mpl\n",
    "mpl.rcParams['pdf.fonttype'] = 42"
   ]
  },
  {
   "cell_type": "code",
   "execution_count": null,
   "metadata": {},
   "outputs": [],
   "source": [
    "path = r'/Users/jenniferwh/Dropbox (Allen Institute)/Mesoscale Connectome Papers in Progress/2018 Plaque'\n",
    "savepath = r'\\\\allen\\programs\\celltypes\\workgroups\\mousecelltypes\\T503_Connectivity_in_Alzheimer_Mice\\Jennifer\\External meetings\\2018 SfN'"
   ]
  },
  {
   "cell_type": "code",
   "execution_count": null,
   "metadata": {},
   "outputs": [],
   "source": [
    "dat = pd.read_csv(os.path.join(path, 'unionizes', 'plaque_unionizes.csv'))\n",
    "dat = dat[dat['control'] == True]"
   ]
  },
  {
   "cell_type": "code",
   "execution_count": null,
   "metadata": {},
   "outputs": [],
   "source": [
    "dat.head()"
   ]
  },
  {
   "cell_type": "code",
   "execution_count": null,
   "metadata": {},
   "outputs": [],
   "source": [
    "dat['count_per_mm_3'] = dat['sum_plaques']/dat['volume']\n",
    "dat['avg_plaque_volume'] = dat['avg_plaque_volume']/1000 #to convert to cubic microns"
   ]
  },
  {
   "cell_type": "code",
   "execution_count": null,
   "metadata": {},
   "outputs": [],
   "source": [
    "dataset = pd.read_csv(os.path.join(path, '_final_control_dataset.csv'))"
   ]
  },
  {
   "cell_type": "code",
   "execution_count": null,
   "metadata": {},
   "outputs": [],
   "source": [
    "dataset.head()"
   ]
  },
  {
   "cell_type": "code",
   "execution_count": null,
   "metadata": {},
   "outputs": [],
   "source": [
    "methoxy_isids = dataset[dataset['methoxy-X04'] == '3.3 mg/kg 24 hours before perfusion']['Link to image series']"
   ]
  },
  {
   "cell_type": "code",
   "execution_count": null,
   "metadata": {},
   "outputs": [],
   "source": [
    "len(dataset['Link to image series'].unique()) # Missing one that has not been unionized yet"
   ]
  },
  {
   "cell_type": "code",
   "execution_count": null,
   "metadata": {},
   "outputs": [],
   "source": [
    "len(dat['image_series_id'].unique())"
   ]
  },
  {
   "cell_type": "code",
   "execution_count": null,
   "metadata": {},
   "outputs": [],
   "source": [
    "dat = dat[dat['image_series_id'].isin(dataset['Link to image series'])]"
   ]
  },
  {
   "cell_type": "code",
   "execution_count": null,
   "metadata": {},
   "outputs": [],
   "source": [
    "len(dat['image_series_id'].unique())"
   ]
  },
  {
   "cell_type": "code",
   "execution_count": null,
   "metadata": {},
   "outputs": [],
   "source": [
    "mcc = MouseConnectivityCache(manifest_file = '../connectivity/mouse_connectivity_manifest.json')\n",
    "st = mcc.get_structure_tree()\n",
    "summary_structures = st.get_structures_by_set_id([167587189])\n",
    "summary_structure_ids = [item['id'] for item in summary_structures]\n",
    "ss_acronyms = [item['acronym'] for item in summary_structures]\n",
    "ont_order = [item['graph_order'] for item in summary_structures]\n",
    "ont_order_dict = dict(zip(ss_acronyms, ont_order))\n",
    "print(len(summary_structure_ids))\n"
   ]
  },
  {
   "cell_type": "code",
   "execution_count": null,
   "metadata": {},
   "outputs": [],
   "source": [
    "coarse_structures = st.get_structures_by_set_id([687527670])\n",
    "coarse_structure_ids = [item['id'] for item in coarse_structures]\n",
    "coarse_structure_acronyms = [item['acronym'] for item in coarse_structures]\n",
    "ft = st.get_structures_by_acronym(['fiber tracts'])\n",
    "coarse_structure_ids.append(ft[0]['id'])\n",
    "coarse_structure_acronyms.append(ft[0]['acronym'])\n",
    "ont_order = [item['graph_order'] for item in coarse_structures]\n",
    "ont_order.append(ft[0]['graph_order'])\n",
    "oo_dict_coarse = dict(zip(coarse_structure_acronyms, ont_order))\n",
    "print(len(coarse_structure_ids))"
   ]
  },
  {
   "cell_type": "code",
   "execution_count": null,
   "metadata": {},
   "outputs": [],
   "source": [
    "mcc = MouseConnectivityCache(manifest_file = '../connectivity/mouse_connectivity_manifest.json')\n",
    "structure_tree = mcc.get_structure_tree()\n",
    "ia_map = structure_tree.get_id_acronym_map()\n",
    "ai_map = {value:key for key, value in ia_map.iteritems()}"
   ]
  },
  {
   "cell_type": "code",
   "execution_count": null,
   "metadata": {},
   "outputs": [],
   "source": [
    "structures = summary_structure_ids + coarse_structure_ids + [997]"
   ]
  },
  {
   "cell_type": "code",
   "execution_count": null,
   "metadata": {},
   "outputs": [],
   "source": [
    "dat.head()"
   ]
  },
  {
   "cell_type": "code",
   "execution_count": null,
   "metadata": {},
   "outputs": [],
   "source": [
    "dat['structure_id'] = [ia_map[structure_acronym] for structure_acronym in dat['structure_acronym']]"
   ]
  },
  {
   "cell_type": "code",
   "execution_count": null,
   "metadata": {},
   "outputs": [],
   "source": [
    "dat.keys()"
   ]
  },
  {
   "cell_type": "markdown",
   "metadata": {},
   "source": [
    "## Isocortex"
   ]
  },
  {
   "cell_type": "code",
   "execution_count": null,
   "metadata": {},
   "outputs": [],
   "source": [
    "iso = structure_tree.get_structures_by_acronym(['Isocortex'])[0]\n",
    "iso = structure_tree.descendant_ids([iso['id']])[0]\n",
    "iso = [structure for structure in iso if structure in summary_structure_ids]"
   ]
  },
  {
   "cell_type": "code",
   "execution_count": null,
   "metadata": {},
   "outputs": [],
   "source": [
    "plot_order = ['FRP', 'MOp', 'MOs', 'SSp-n', 'SSp-bfd', 'SSp-ll', 'SSp-m', 'SSp-ul', 'SSp-tr', 'SSp-un',\n",
    "              'SSs', 'GU', 'VISC', 'AUDd', 'AUDp', 'AUDpo', 'AUDv', 'VISal', 'VISam', 'VISl', 'VISp', 'VISpl',\n",
    "              'VISpm', 'VISli', 'VISpor', 'ACAd', 'ACAv', 'PL', 'ILA', 'ORBl', 'ORBm', 'ORBvl', 'AId', 'AIp',\n",
    "              'AIv', 'RSPagl', 'RSPd', 'RSPv', 'VISa', 'VISrl', 'TEa', 'PERI', 'ECT']"
   ]
  },
  {
   "cell_type": "code",
   "execution_count": null,
   "metadata": {},
   "outputs": [],
   "source": [
    "def get_sorter_index(structure_acronym):\n",
    "    structures = structure_tree.get_structures_by_acronym([structure_acronym])[0]\n",
    "    str_ids = structure_tree.descendant_ids([structures['id']])[0]\n",
    "    str_ss = [ids for ids in str_ids if ids in summary_structure_ids]\n",
    "    acronyms = [ai_map[stid] for stid in str_ss]\n",
    "    plot_order = [structure_tree.get_structures_by_id([stid])[0]['graph_order'] for stid in str_ss]\n",
    "    sorter = dict(zip(acronyms,plot_order))\n",
    "    sorted_structures = []\n",
    "    for key, value in sorted(sorter.iteritems(), key=lambda (k,v): (v,k)):\n",
    "        sorted_structures.append(key)\n",
    "    sorterIndex = dict(zip(sorted_structures[::-1],range(len(plot_order))))\n",
    "    return sorterIndex"
   ]
  },
  {
   "cell_type": "code",
   "execution_count": null,
   "metadata": {},
   "outputs": [],
   "source": [
    "pltdat = pd.DataFrame(columns={'age', 'group', 'plaques', 'structure'})\n",
    "acronyms = []\n",
    "densities = []\n",
    "isids = []\n",
    "for structure in iso:\n",
    "    structure_acronym = ai_map[structure]\n",
    "    for isid in dat['image_series_id'].unique():\n",
    "        isids.append(isid)\n",
    "        acronyms.append(structure_acronym)\n",
    "        density = dat[(dat['structure_id'] == structure) & \n",
    "                      (dat['image_series_id'] == isid)]['plaque_density'].values[0]\n",
    "        densities.append(density)\n",
    "mdf = pd.DataFrame({'image_series_id': isids,\n",
    "                    'structure': acronyms, \n",
    "                    'Percent Plaque Coverage': [density*100 for density in densities]})\n",
    "mdf.loc[mdf['image_series_id'].isin(methoxy_isids), 'methoxy-X04'] = 'Methoxy-XO4 injected'\n",
    "mdf.loc[~mdf['image_series_id'].isin(methoxy_isids), 'methoxy-X04'] = ''\n",
    "\n",
    "ordered = get_sorter_index('Isocortex')\n",
    "plot_order = [key for key, value in sorted(ordered.iteritems(), key=lambda (k,v): (v,k))][::-1]\n",
    "\n",
    "fig, ax = plt.subplots(figsize = (5, 15))\n",
    "for artist in ax.artists:\n",
    "    artist.set_facecolor('None')\n",
    "g = sns.stripplot('Percent Plaque Coverage', 'structure',\n",
    "                   data = mdf[mdf['methoxy-X04'] == ''], alpha = 0.5, order = plot_order, ax = ax,\n",
    "                 palette = 'gray', s=10)\n",
    "g = sns.stripplot('Percent Plaque Coverage', 'structure',  \n",
    "                   data = mdf[mdf['methoxy-X04'] == 'Methoxy-XO4 injected'], alpha = 0.5, \n",
    "                  order = plot_order, ax = ax, color = 'red', s=10)\n",
    "ax.set_ylabel(\"\")\n",
    "ax.set_xlabel(\"Percent False Positive\")\n",
    "plt.tight_layout()\n",
    "ax.set_title('Isocortex', fontsize = 24)\n",
    "ax.yaxis.set_ticks_position('left')\n",
    "ax.xaxis.set_ticks_position('bottom')\n",
    "ax.set_xlim([-0.1, 2])\n",
    "plt.xticks([0, 0.5, 1, 1.5, 2])\n",
    "\n",
    "plt.savefig(os.path.join(\n",
    "    savepath, 'plaque percent coverage in isocortex structures control mice.pdf'.format(structure)), \n",
    "            bbox_inches='tight', pad_inches=0.3, format='pdf', transparent = True, dpi=300)"
   ]
  },
  {
   "cell_type": "markdown",
   "metadata": {},
   "source": [
    "## Hippocampus"
   ]
  },
  {
   "cell_type": "code",
   "execution_count": null,
   "metadata": {},
   "outputs": [],
   "source": [
    "hipp = st.get_structures_by_acronym(['HPF'])[0]\n",
    "hipp_ids = st.descendant_ids([hipp['id']])[0]\n",
    "hipp_ss = [ids for ids in hipp_ids if ids in summary_structure_ids]\n",
    "hipp_ss.remove(ia_map['IG'])\n",
    "hipp_ss.remove(ia_map['FC'])\n",
    "print(len(hipp_ss))"
   ]
  },
  {
   "cell_type": "code",
   "execution_count": null,
   "metadata": {},
   "outputs": [],
   "source": [
    "acronyms = []\n",
    "densities = []\n",
    "isids = []\n",
    "for structure in hipp_ss:\n",
    "    structure_acronym = ai_map[structure]\n",
    "    for isid in dat['image_series_id'].unique():\n",
    "        isids.append(isid)\n",
    "        acronyms.append(structure_acronym)\n",
    "        density = dat[(dat['structure_id'] == structure) & \n",
    "                      (dat['image_series_id'] == isid)]['plaque_density'].values[0]\n",
    "        densities.append(density)\n",
    "mdf = pd.DataFrame({'image_series_id': isids, \n",
    "                    'structure': acronyms, \n",
    "                    'Percent Plaque Coverage': [density*100 for density in densities]})\n",
    "mdf.loc[mdf['image_series_id'].isin(methoxy_isids), 'methoxy-X04'] = 'Methoxy-XO4 injected'\n",
    "mdf.loc[~mdf['image_series_id'].isin(methoxy_isids), 'methoxy-X04'] = ''\n",
    "fig, ax = plt.subplots(figsize = (5, 6))\n",
    "ordered = get_sorter_index('HPF')\n",
    "plot_order = [key for key, value in sorted(ordered.iteritems(), key=lambda (k,v): (v,k))][::-1]\n",
    "plot_order.remove('FC')\n",
    "plot_order.remove('IG')\n",
    "for artist in ax.artists:\n",
    "    artist.set_facecolor('None')\n",
    "g = sns.stripplot('Percent Plaque Coverage', 'structure',\n",
    "                   data = mdf[mdf['methoxy-X04'] == ''], alpha = 0.5, order = plot_order, ax = ax,\n",
    "                 palette = 'gray', s=10)\n",
    "g = sns.stripplot('Percent Plaque Coverage', 'structure',  \n",
    "                   data = mdf[mdf['methoxy-X04'] == 'Methoxy-XO4 injected'], alpha = 0.5, \n",
    "                  order = plot_order, ax = ax, color = 'red', s=10)\n",
    "ax.set_ylabel(\"\")\n",
    "ax.set_xlabel(\"Percent False Positive\")\n",
    "plt.tight_layout()\n",
    "ax.yaxis.set_ticks_position('left')\n",
    "ax.xaxis.set_ticks_position('bottom')\n",
    "ax.set_xlim([-0.1, 2])\n",
    "plt.xticks([0, 0.5, 1, 1.5, 2])\n",
    "ax.set_title('Hippocampus')\n",
    "plt.savefig(os.path.join(savepath, 'plaque percent coverage in hipp control mice.pdf'.format(structure)), \n",
    "            bbox_inches='tight', pad_inches=0.3, format='pdf', transparent = True, dpi=300)\n"
   ]
  },
  {
   "cell_type": "markdown",
   "metadata": {},
   "source": [
    "## Olfactory regions plotted three ways"
   ]
  },
  {
   "cell_type": "code",
   "execution_count": null,
   "metadata": {},
   "outputs": [],
   "source": [
    "olf = st.get_structures_by_acronym(['OLF'])[0]\n",
    "olf_ids = st.descendant_ids([olf['id']])[0]\n",
    "olf_ss = [ids for ids in olf_ids if ids in summary_structure_ids]\n",
    "print(len(olf_ss))"
   ]
  },
  {
   "cell_type": "code",
   "execution_count": null,
   "metadata": {},
   "outputs": [],
   "source": [
    "acronyms = []\n",
    "densities = []\n",
    "isids = []\n",
    "for structure in olf_ss:\n",
    "    structure_acronym = ai_map[structure]\n",
    "    for isid in dat['image_series_id'].unique():\n",
    "        isids.append(isid)\n",
    "        acronyms.append(structure_acronym)\n",
    "        density = dat[(dat['structure_id'] == structure) & \n",
    "                      (dat['image_series_id'] == isid)]['plaque_density'].values[0]\n",
    "        densities.append(density)\n",
    "mdf = pd.DataFrame({'image_series_id': isids, \n",
    "                    'structure': acronyms, \n",
    "                    'Percent Plaque Coverage': [density*100 for density in densities]})\n",
    "mdf.loc[mdf['image_series_id'].isin(methoxy_isids), 'methoxy-X04'] = 'Methoxy-XO4 injected'\n",
    "mdf.loc[~mdf['image_series_id'].isin(methoxy_isids), 'methoxy-X04'] = ''\n",
    "\n",
    "ordered = get_sorter_index('OLF')\n",
    "plot_order = [key for key, value in sorted(ordered.iteritems(), key=lambda (k,v): (v,k))][::-1]\n",
    "\n",
    "fig, ax = plt.subplots(figsize = (5, 5))\n",
    "for artist in ax.artists:\n",
    "    artist.set_facecolor('None')\n",
    "g = sns.stripplot('Percent Plaque Coverage', 'structure',\n",
    "                   data = mdf[mdf['methoxy-X04'] == ''], alpha = 0.5, order = plot_order, ax = ax,\n",
    "                 palette = 'gray', s=10)\n",
    "g = sns.stripplot('Percent Plaque Coverage', 'structure',  \n",
    "                   data = mdf[mdf['methoxy-X04'] == 'Methoxy-XO4 injected'], alpha = 0.5, \n",
    "                  order = plot_order, ax = ax, color = 'red', s=10)\n",
    "ax.set_ylabel(\"\")\n",
    "ax.set_xlabel(\"Percent False Positive\")\n",
    "plt.tight_layout()\n",
    "ax.yaxis.set_ticks_position('left')\n",
    "ax.xaxis.set_ticks_position('bottom')\n",
    "ax.set_xlim([-0.1, 2])\n",
    "plt.xticks([0, 0.5, 1, 1.5, 2])\n",
    "ax.set_title('Olfactory Areas')\n",
    "plt.savefig(os.path.join(savepath, 'plaque percent coverage in olf control mice.pdf'.format(structure)), \n",
    "            bbox_inches='tight', pad_inches=0.3, format='pdf', transparent = True, dpi=300)"
   ]
  },
  {
   "cell_type": "markdown",
   "metadata": {},
   "source": [
    "## CTXsp"
   ]
  },
  {
   "cell_type": "code",
   "execution_count": null,
   "metadata": {},
   "outputs": [],
   "source": [
    "ctxsp = st.get_structures_by_acronym(['CTXsp'])[0]\n",
    "ctxsp_ids = st.descendant_ids([ctxsp['id']])[0]\n",
    "ctxsp_ss = [ids for ids in ctxsp_ids if ids in summary_structure_ids]\n",
    "print(len(ctxsp_ss))"
   ]
  },
  {
   "cell_type": "code",
   "execution_count": null,
   "metadata": {},
   "outputs": [],
   "source": [
    "acronyms = []\n",
    "densities = []\n",
    "isids = []\n",
    "for structure in ctxsp_ss:\n",
    "    structure_acronym = ai_map[structure]\n",
    "    for isid in dat['image_series_id'].unique():\n",
    "        isids.append(isid)\n",
    "        acronyms.append(structure_acronym)\n",
    "        density = dat[(dat['structure_id'] == structure) & \n",
    "                      (dat['image_series_id'] == isid)]['plaque_density'].values[0]\n",
    "        densities.append(density)\n",
    "mdf = pd.DataFrame({'image_series_id': isids, \n",
    "                    'structure': acronyms, \n",
    "                    'Percent Plaque Coverage': [density*100 for density in densities]})\n",
    "mdf.loc[mdf['image_series_id'].isin(methoxy_isids), 'methoxy-X04'] = 'Methoxy-XO4 injected'\n",
    "mdf.loc[~mdf['image_series_id'].isin(methoxy_isids), 'methoxy-X04'] = ''\n",
    "\n",
    "ordered = get_sorter_index('CTXsp')\n",
    "plot_order = [key for key, value in sorted(ordered.iteritems(), key=lambda (k,v): (v,k))][::-1]\n",
    "\n",
    "fig, ax = plt.subplots(figsize = (5, 3.5))\n",
    "for artist in ax.artists:\n",
    "    artist.set_facecolor('None')\n",
    "g = sns.stripplot('Percent Plaque Coverage', 'structure',\n",
    "                   data = mdf[mdf['methoxy-X04'] == ''], alpha = 0.5, order = plot_order, ax = ax,\n",
    "                 palette = 'gray', s=10)\n",
    "g = sns.stripplot('Percent Plaque Coverage', 'structure',  \n",
    "                   data = mdf[mdf['methoxy-X04'] == 'Methoxy-XO4 injected'], alpha = 0.5, \n",
    "                  order = plot_order, ax = ax, color = 'red', s=10)\n",
    "ax.set_ylabel(\"\")\n",
    "ax.set_xlabel(\"Percent False Positive\")\n",
    "plt.tight_layout()\n",
    "ax.yaxis.set_ticks_position('left')\n",
    "ax.xaxis.set_ticks_position('bottom')\n",
    "ax.set_xlim([-0.1, 2])\n",
    "plt.xticks([0, 0.5, 1, 1.5, 2])\n",
    "ax.set_title('Cortical Subplate')\n",
    "plt.savefig(os.path.join(savepath, 'plaque percent coverage in ctxsp control mice.pdf'.format(structure)), \n",
    "            bbox_inches='tight', pad_inches=0.3, format='pdf', transparent = True, dpi=300)"
   ]
  },
  {
   "cell_type": "code",
   "execution_count": null,
   "metadata": {},
   "outputs": [],
   "source": [
    "th = st.get_structures_by_acronym(['TH'])[0]\n",
    "th_ids = st.descendant_ids([th['id']])[0]\n",
    "th_ss = [ids for ids in th_ids if ids in summary_structure_ids]\n",
    "print(len(th_ss))"
   ]
  },
  {
   "cell_type": "code",
   "execution_count": null,
   "metadata": {},
   "outputs": [],
   "source": [
    "acronyms = []\n",
    "densities = []\n",
    "isids = []\n",
    "for structure in th_ss:\n",
    "    structure_acronym = ai_map[structure]\n",
    "    for isid in dat['image_series_id'].unique():\n",
    "        isids.append(isid)\n",
    "        acronyms.append(structure_acronym)\n",
    "        density = dat[(dat['structure_id'] == structure) & \n",
    "                      (dat['image_series_id'] == isid)]['plaque_density'].values[0]\n",
    "        densities.append(density)\n",
    "mdf = pd.DataFrame({'image_series_id': isids, \n",
    "                    'structure': acronyms, \n",
    "                    'Percent Plaque Coverage': [density*100 for density in densities]})\n",
    "mdf.loc[mdf['image_series_id'].isin(methoxy_isids), 'methoxy-X04'] = 'Methoxy-XO4 injected'\n",
    "mdf.loc[~mdf['image_series_id'].isin(methoxy_isids), 'methoxy-X04'] = ''\n",
    "\n",
    "ordered = get_sorter_index('TH')\n",
    "plot_order = [key for key, value in sorted(ordered.iteritems(), key=lambda (k,v): (v,k))][::-1]\n",
    "\n",
    "fig, ax = plt.subplots(figsize = (8, 2))\n",
    "g = sns.boxplot('structure', 'Percent Plaque Coverage', color = 'white', data = mdf, \n",
    "                order = plot_order, dodge = False, ax = ax, fliersize = 1)\n",
    "for artist in ax.artists:\n",
    "    artist.set_facecolor('None')\n",
    "g = sns.stripplot('structure', 'Percent Plaque Coverage', \n",
    "                   data = mdf[mdf['methoxy-X04'] == ''], alpha = 0.3, ax = ax,\n",
    "                 palette = 'gray')\n",
    "g = sns.stripplot('structure', 'Percent Plaque Coverage', \n",
    "                   data = mdf[mdf['methoxy-X04'] == 'Methoxy-XO4 injected'], alpha = 0.3, \n",
    "                  ax = ax, color = 'red')\n",
    "plt.xticks(rotation = 90)\n",
    "plt.savefig(os.path.join(savepath, 'plaque percent coverage in thal control mice.pdf'.format(structure)), \n",
    "            bbox_inches='tight', pad_inches=0.3, format='pdf', transparent = True, dpi=300)"
   ]
  },
  {
   "cell_type": "code",
   "execution_count": null,
   "metadata": {},
   "outputs": [],
   "source": [
    "mb = st.get_structures_by_acronym(['MBmot'])[0]\n",
    "mb_ids = st.descendant_ids([mb['id']])[0]\n",
    "mb_ss = [ids for ids in mb_ids if ids in summary_structure_ids]\n",
    "print(len(mb_ss))"
   ]
  },
  {
   "cell_type": "code",
   "execution_count": null,
   "metadata": {},
   "outputs": [],
   "source": [
    "[ai_map[structure] for structure in mb_ss]"
   ]
  },
  {
   "cell_type": "code",
   "execution_count": null,
   "metadata": {},
   "outputs": [],
   "source": [
    "acronyms = []\n",
    "densities = []\n",
    "isids = []\n",
    "for structure in mb_ids:\n",
    "    structure_acronym = ai_map[structure]\n",
    "    for isid in dat['image_series_id'].unique():\n",
    "        try:\n",
    "            density = dat[(dat['structure_id'] == structure) & \n",
    "                          (dat['image_series_id'] == isid)]['plaque_density'].values[0]\n",
    "            densities.append(density)\n",
    "            isids.append(isid)\n",
    "            acronyms.append(structure_acronym)\n",
    "        except:\n",
    "            continue\n",
    "mdf = pd.DataFrame({'image_series_id': isids, \n",
    "                    'structure': acronyms, \n",
    "                    'Percent Plaque Coverage': [density*100 for density in densities]})\n",
    "mdf.loc[mdf['image_series_id'].isin(methoxy_isids), 'methoxy-X04'] = 'Methoxy-XO4 injected'\n",
    "mdf.loc[~mdf['image_series_id'].isin(methoxy_isids), 'methoxy-X04'] = ''\n",
    "\n",
    "ordered = get_sorter_index('MBmot')\n",
    "plot_order = [key for key, value in sorted(ordered.iteritems(), key=lambda (k,v): (v,k))][::-1]\n",
    "#plot_order = [structure for structure in plot_order if structure not in ['']]\n",
    "\n",
    "fig, ax = plt.subplots(figsize = (5, 8))\n",
    "for artist in ax.artists:\n",
    "    artist.set_facecolor('None')\n",
    "g = sns.stripplot('Percent Plaque Coverage', 'structure',\n",
    "                   data = mdf[mdf['methoxy-X04'] == ''], alpha = 0.5, order = plot_order, ax = ax,\n",
    "                 palette = 'gray', s=10)\n",
    "g = sns.stripplot('Percent Plaque Coverage', 'structure',  \n",
    "                   data = mdf[mdf['methoxy-X04'] == 'Methoxy-XO4 injected'], alpha = 0.5, \n",
    "                  order = plot_order, ax = ax, color = 'red', s=10)\n",
    "ax.set_ylabel(\"\")\n",
    "ax.set_xlabel(\"Percent False Positive\")\n",
    "plt.tight_layout()\n",
    "ax.yaxis.set_ticks_position('left')\n",
    "ax.xaxis.set_ticks_position('bottom')\n",
    "ax.set_xlim([-0.1, 2])\n",
    "plt.xticks([0, 0.5, 1, 1.5, 2])\n",
    "ax.set_title('Midbrain')\n",
    "plt.savefig(os.path.join(savepath, 'plaque percent coverage in midbrain control mice.pdf'.format(structure)), \n",
    "            bbox_inches='tight', pad_inches=0.3, format='pdf', transparent = True, dpi=300)"
   ]
  },
  {
   "cell_type": "code",
   "execution_count": null,
   "metadata": {},
   "outputs": [],
   "source": [
    "colors = ['#8da0cb', '#fc8d62', '#ff0000']"
   ]
  },
  {
   "cell_type": "code",
   "execution_count": null,
   "metadata": {},
   "outputs": [],
   "source": [
    "mouse_lines = []\n",
    "acronyms = []\n",
    "densities = []\n",
    "isids = []\n",
    "for mouse_line in dataset['Mouse Line'].unique():\n",
    "    mouse_line_ids = dataset[dataset['Mouse Line'] == mouse_line]['Link to image series']\n",
    "    for structure in iso:\n",
    "        structure_acronym = ai_map[structure]\n",
    "        for isid in mouse_line_ids:\n",
    "            mouse_lines.append(mouse_line)\n",
    "            isids.append(isid)\n",
    "            acronyms.append(structure_acronym)\n",
    "            density = dat[(dat['structure_id'] == structure) & \n",
    "                          (dat['image_series_id'] == isid)]['plaque_density'].values[0]\n",
    "            densities.append(density)\n",
    "df = pd.DataFrame({'image_series_id': isids, \n",
    "                   'Mouse Line': mouse_lines,\n",
    "                    'structure': acronyms, \n",
    "                    'density': [density*100 for density in densities]})\n",
    "mdf = pd.melt(df, id_vars = ['image_series_id', 'Mouse Line', 'structure'],\n",
    "              value_name = 'Percent Plaque Coverage')\n",
    "fig, ax = plt.subplots(figsize = (8, 2))\n",
    "g = sns.boxplot('structure', 'Percent Plaque Coverage', color = 'white', data = mdf, \n",
    "                order = plot_order, dodge = False, ax = ax, fliersize = 1)\n",
    "for artist in ax.artists:\n",
    "    artist.set_facecolor('None')\n",
    "g = sns.stripplot('structure', 'Percent Plaque Coverage', hue = 'Mouse Line', \n",
    "                   order = plot_order, hue_order = ['APP/PS1', 'J20'], palette = colors,\n",
    "                  data = mdf, dodge = True, alpha = 0.3, ax = ax)\n",
    "plt.xticks(rotation = 90)\n",
    "#plt.savefig(os.path.join(savepath, 'plaque percent coverage in isocortex control mice by line.pdf'.format(structure)), \n",
    "#            bbox_inches='tight', pad_inches=0.3, format='pdf', transparent = True, dpi=300)"
   ]
  },
  {
   "cell_type": "code",
   "execution_count": null,
   "metadata": {},
   "outputs": [],
   "source": [
    "mouse_lines = []\n",
    "acronyms = []\n",
    "densities = []\n",
    "isids = []\n",
    "for mouse_line in dataset['Mouse Line'].unique():\n",
    "    mouse_line_ids = dataset[dataset['Mouse Line'] == mouse_line]['Link to image series']\n",
    "    for structure in hipp_ss:\n",
    "        structure_acronym = ai_map[structure]\n",
    "        for isid in mouse_line_ids:\n",
    "            mouse_lines.append(mouse_line)\n",
    "            isids.append(isid)\n",
    "            acronyms.append(structure_acronym)\n",
    "            density = dat[(dat['structure_id'] == structure) & \n",
    "                          (dat['image_series_id'] == isid)]['plaque_density'].values[0]\n",
    "            densities.append(density)\n",
    "df = pd.DataFrame({'image_series_id': isids, \n",
    "                   'Mouse Line': mouse_lines,\n",
    "                    'structure': acronyms, \n",
    "                    'density': [density*100 for density in densities]})\n",
    "mdf = pd.melt(df, id_vars = ['image_series_id', 'Mouse Line', 'structure'],\n",
    "              value_name = 'Percent Plaque Coverage')\n",
    "fig, ax = plt.subplots(figsize = (8, 4))\n",
    "g = sns.boxplot('structure', 'Percent Plaque Coverage', color = 'white', data = mdf, \n",
    "                dodge = False, ax = ax, fliersize = 1)\n",
    "for artist in ax.artists:\n",
    "    artist.set_facecolor('None')\n",
    "g = sns.stripplot('structure', 'Percent Plaque Coverage', hue = 'Mouse Line', palette = colors,\n",
    "                   hue_order = ['APP/PS1', 'J20'], \n",
    "                  data = mdf, dodge = True, alpha = 0.3, ax = ax)\n",
    "plt.xticks(rotation = 90)\n",
    "#plt.savefig(os.path.join(savepath, 'plaque percent coverage in hipp control mice by line.pdf'.format(structure)), \n",
    "#            bbox_inches='tight', pad_inches=0.3, format='pdf', transparent = True, dpi=300)"
   ]
  },
  {
   "cell_type": "code",
   "execution_count": null,
   "metadata": {},
   "outputs": [],
   "source": [
    "mouse_lines = []\n",
    "acronyms = []\n",
    "densities = []\n",
    "isids = []\n",
    "for mouse_line in dataset['Mouse Line'].unique():\n",
    "    mouse_line_ids = dataset[dataset['Mouse Line'] == mouse_line]['Link to image series']\n",
    "    for structure in olf_ss:\n",
    "        structure_acronym = ai_map[structure]\n",
    "        for isid in mouse_line_ids:\n",
    "            mouse_lines.append(mouse_line)\n",
    "            isids.append(isid)\n",
    "            acronyms.append(structure_acronym)\n",
    "            density = dat[(dat['structure_id'] == structure) & \n",
    "                          (dat['image_series_id'] == isid)]['plaque_density'].values[0]\n",
    "            densities.append(density)\n",
    "df = pd.DataFrame({'image_series_id': isids, \n",
    "                   'Mouse Line': mouse_lines,\n",
    "                    'structure': acronyms, \n",
    "                    'density': [density*100 for density in densities]})\n",
    "mdf = pd.melt(df, id_vars = ['image_series_id', 'Mouse Line', 'structure'],\n",
    "              value_name = 'Percent Plaque Coverage')\n",
    "fig, ax = plt.subplots(figsize = (8, 4))\n",
    "g = sns.boxplot('structure', 'Percent Plaque Coverage', color = 'white', data = mdf, \n",
    "                dodge = False, ax = ax, fliersize = 1)\n",
    "for artist in ax.artists:\n",
    "    artist.set_facecolor('None')\n",
    "g = sns.stripplot('structure', 'Percent Plaque Coverage', hue = 'Mouse Line', palette = colors,\n",
    "                   hue_order = ['APP/PS1', 'J20'], \n",
    "                  data = mdf, dodge = True, alpha = 0.3, ax = ax)\n",
    "plt.xticks(rotation = 90)\n",
    "#plt.savefig(os.path.join(savepath, 'plaque percent coverage in olf control mice by line.pdf'.format(structure)), \n",
    "#            bbox_inches='tight', pad_inches=0.3, format='pdf', transparent = True, dpi=300)"
   ]
  },
  {
   "cell_type": "code",
   "execution_count": null,
   "metadata": {},
   "outputs": [],
   "source": [
    "mouse_lines = []\n",
    "acronyms = []\n",
    "densities = []\n",
    "isids = []\n",
    "for mouse_line in dataset['Mouse Line'].unique():\n",
    "    mouse_line_ids = dataset[dataset['Mouse Line'] == mouse_line]['Link to image series']\n",
    "    for structure in coarse_structure_ids:\n",
    "        structure_acronym = ai_map[structure]\n",
    "        for isid in mouse_line_ids:\n",
    "            mouse_lines.append(mouse_line)\n",
    "            isids.append(isid)\n",
    "            acronyms.append(structure_acronym)\n",
    "            density = dat[(dat['structure_id'] == structure) & \n",
    "                          (dat['image_series_id'] == isid)]['plaque_density'].values[0]\n",
    "            densities.append(density)\n",
    "df = pd.DataFrame({'image_series_id': isids, \n",
    "                   'Mouse Line': mouse_lines,\n",
    "                    'structure': acronyms, \n",
    "                    'density': [density*100 for density in densities]})\n",
    "mdf = pd.melt(df, id_vars = ['image_series_id', 'Mouse Line', 'structure'],\n",
    "              value_name = 'Percent Plaque Coverage')\n",
    "mdf.loc[mdf['image_series_id'].isin(methoxy_isids), 'Mouse Line'] = 'Methoxy-X04 Injected'\n",
    "fig, ax = plt.subplots(figsize = (8, 4))\n",
    "g = sns.boxplot('structure', 'Percent Plaque Coverage', color = 'white', data = mdf, \n",
    "                dodge = False, ax = ax, fliersize = 1)\n",
    "for artist in ax.artists:\n",
    "    artist.set_facecolor('None')\n",
    "g = sns.stripplot('structure', 'Percent Plaque Coverage', hue = 'Mouse Line', palette = colors,\n",
    "                   hue_order = ['APP/PS1', 'J20', 'Methoxy-X04 Injected'], \n",
    "                  data = mdf, dodge = True, alpha = 0.3, ax = ax)\n",
    "plt.xticks(rotation = 90)\n"
   ]
  },
  {
   "cell_type": "code",
   "execution_count": null,
   "metadata": {},
   "outputs": [],
   "source": [
    "mouse_lines = []\n",
    "acronyms = []\n",
    "densities = []\n",
    "isids = []\n",
    "for mouse_line in dataset['Mouse Line'].unique():\n",
    "    mouse_line_ids = dataset[dataset['Mouse Line'] == mouse_line]['Link to image series']\n",
    "    for structure in ctxsp_ss:\n",
    "        structure_acronym = ai_map[structure]\n",
    "        for isid in mouse_line_ids:\n",
    "            mouse_lines.append(mouse_line)\n",
    "            isids.append(isid)\n",
    "            acronyms.append(structure_acronym)\n",
    "            density = dat[(dat['structure_id'] == structure) & \n",
    "                          (dat['image_series_id'] == isid)]['plaque_density'].values[0]\n",
    "            densities.append(density)\n",
    "df = pd.DataFrame({'image_series_id': isids, \n",
    "                   'Mouse Line': mouse_lines,\n",
    "                    'structure': acronyms, \n",
    "                    'density': [density*100 for density in densities]})\n",
    "mdf = pd.melt(df, id_vars = ['image_series_id', 'Mouse Line', 'structure'],\n",
    "              value_name = 'Percent Plaque Coverage')\n",
    "fig, ax = plt.subplots(figsize = (8, 4))\n",
    "g = sns.boxplot('structure', 'Percent Plaque Coverage', color = 'white', data = mdf, \n",
    "                dodge = False, ax = ax, fliersize = 1)\n",
    "for artist in ax.artists:\n",
    "    artist.set_facecolor('None')\n",
    "g = sns.stripplot('structure', 'Percent Plaque Coverage', hue = 'Mouse Line', \n",
    "                   hue_order = ['APP/PS1', 'J20'], \n",
    "                  data = mdf, dodge = True, alpha = 0.3, ax = ax)\n",
    "plt.xticks(rotation = 90)"
   ]
  },
  {
   "cell_type": "code",
   "execution_count": null,
   "metadata": {},
   "outputs": [],
   "source": [
    "def get_mean_value_per_structure(group, structure_ids):\n",
    "    means = []\n",
    "    isids = dataset[dataset['Mouse Line'] == group]['Link to image series'].values\n",
    "    for structure_id in structure_ids:\n",
    "        str_mean = np.mean(dat[(dat['structure_id'] == structure_id) & \n",
    "                                 (dat['image_series_id'].isin(isids))]\n",
    "                             ['plaque_density'])\n",
    "        means.append(str_mean*100)\n",
    "    structuredat = dict(zip(structure_ids, means))\n",
    "    return structuredat, len(isids)"
   ]
  },
  {
   "cell_type": "code",
   "execution_count": null,
   "metadata": {},
   "outputs": [],
   "source": [
    "reference_space =  mcc.get_reference_space()\n",
    "structure_vals, n = get_mean_value_per_structure('APP/PS1', dat.structure_id.unique())\n",
    "rgb_vals = structure_vals.copy()\n",
    "scale = 1\n",
    "for key in structure_vals:\n",
    "    rgb_vals[key] = tuple([255*i for i in cm.hot(structure_vals[key]*scale)[:3]])\n",
    "rgb_vals[0] = [0, 0, 0]\n",
    "\n",
    "w=8\n",
    "h=8\n",
    "image = [0,0,0]\n",
    "index = [8000, 4500, 5000]\n",
    "image[0] = reference_space.get_slice_image(0, index[0], rgb_vals)\n",
    "image[1] = np.flip(np.rot90(reference_space.get_slice_image(2, index[2], rgb_vals)), 0)\n",
    "image[2] = np.rot90(reference_space.get_slice_image(1, index[1], rgb_vals))  \n",
    "fig = plt.figure(figsize=(8, 3), facecolor=rgb_vals[0])\n",
    "columns = 3\n",
    "rows = 1\n",
    "for i in range(columns*rows):\n",
    "    fig.add_subplot(rows, columns, i+1)\n",
    "    f = plt.imshow(image[i], cmap = cm.hot)\n",
    "    plt.axis('off')\n",
    "cbar = fig.colorbar(f, fraction=0.046)\n",
    "cbar.set_label('Plaque % Volume', rotation=90, color = 'w')\n",
    "plt.setp(plt.getp(cbar.ax.axes, 'yticklabels'), color='w')\n",
    "\n",
    "maxval = max(structure_vals.iteritems(), key=operator.itemgetter(1))[1]/scale\n",
    "cbar.ax.set_yticklabels([0, np.round(maxval*.12, 1), np.round(maxval*.23, 1), \n",
    "                         np.round(maxval*.34, 1), np.round(maxval*.45, 1), \n",
    "                         np.round(maxval*.56, 1), np.round(maxval*.67, 1),\n",
    "                        np.round(maxval*.78, 1), np.round(maxval*.89, 1), np.round(maxval)])\n",
    "print(n)\n",
    "plt.savefig(os.path.join(savepath, 'APP_PS1 false positive map.png'), facecolor=fig.get_facecolor(),\n",
    "            bbox_inches='tight', pad_inches=0.3, format='png', dpi=500)"
   ]
  },
  {
   "cell_type": "code",
   "execution_count": null,
   "metadata": {},
   "outputs": [],
   "source": [
    "reference_space =  mcc.get_reference_space()\n",
    "structure_vals, n = get_mean_value_per_structure('J20', dat.structure_id.unique())\n",
    "rgb_vals = structure_vals.copy()\n",
    "scale = 1\n",
    "for key in structure_vals:\n",
    "    rgb_vals[key] = tuple([255*i for i in cm.hot(structure_vals[key]*scale)[:3]])\n",
    "rgb_vals[0] = [0, 0, 0]\n",
    "\n",
    "w=8\n",
    "h=8\n",
    "image = [0,0,0]\n",
    "index = [8000, 4500, 5000]\n",
    "image[0] = reference_space.get_slice_image(0, index[0], rgb_vals)\n",
    "image[1] = np.flip(np.rot90(reference_space.get_slice_image(2, index[2], rgb_vals)), 0)\n",
    "image[2] = np.rot90(reference_space.get_slice_image(1, index[1], rgb_vals))  \n",
    "fig = plt.figure(figsize=(8, 3), facecolor=rgb_vals[0])\n",
    "columns = 3\n",
    "rows = 1\n",
    "for i in range(columns*rows):\n",
    "    fig.add_subplot(rows, columns, i+1)\n",
    "    f = plt.imshow(image[i], cmap = cm.hot)\n",
    "    plt.axis('off')\n",
    "cbar = fig.colorbar(f, fraction=0.046)\n",
    "cbar.set_label('Plaque % Volume', rotation=90, color = 'w')\n",
    "plt.setp(plt.getp(cbar.ax.axes, 'yticklabels'), color='w')\n",
    "\n",
    "maxval = max(structure_vals.iteritems(), key=operator.itemgetter(1))[1]/scale\n",
    "cbar.ax.set_yticklabels([0, np.round(maxval*.12, 1), np.round(maxval*.23, 1), \n",
    "                         np.round(maxval*.34, 1), np.round(maxval*.45, 1), \n",
    "                         np.round(maxval*.56, 1), np.round(maxval*.67, 1),\n",
    "                        np.round(maxval*.78, 1), np.round(maxval*.89, 1), np.round(maxval)])\n",
    "print(n)\n",
    "plt.savefig(os.path.join(savepath, 'J20 false positive map.png'), facecolor=fig.get_facecolor(),\n",
    "            bbox_inches='tight', pad_inches=0.3, format='png', dpi=500)"
   ]
  },
  {
   "cell_type": "code",
   "execution_count": null,
   "metadata": {},
   "outputs": [],
   "source": [
    "reference_space =  mcc.get_reference_space()\n",
    "template = mcc.get_template_volume()[0]\n",
    "means = []\n",
    "for structure_id in dat['structure_id'].unique():\n",
    "    str_mean = np.mean(dat[dat['structure_id'] == structure_id]['plaque_density'])\n",
    "    means.append(str_mean*100)\n",
    "structure_vals = dict(zip(dat['structure_id'].unique(), means))\n",
    "rgb_vals = structure_vals.copy()\n",
    "scale = 1\n",
    "for key in structure_vals:\n",
    "    rgb_vals[key] = tuple([255*i for i in cm.hot(structure_vals[key]*scale)[:3]])\n",
    "rgb_vals[0] = [0, 0, 0]\n",
    "\n",
    "w=8\n",
    "h=8\n",
    "image = [0,0,0]\n",
    "index = [7000, 4500, 5000]\n",
    "image[0] = reference_space.get_slice_image(0, index[0], rgb_vals)\n",
    "image[1] = np.flip(np.rot90(reference_space.get_slice_image(2, index[2], rgb_vals)), 0)\n",
    "image[2] = np.rot90(reference_space.get_slice_image(1, index[1], rgb_vals))  \n",
    "fig = plt.figure(figsize=(8, 3), facecolor=rgb_vals[0])\n",
    "columns = 3\n",
    "rows = 1\n",
    "for i in range(columns*rows):\n",
    "    print(i)\n",
    "    fig.add_subplot(rows, columns, i+1)\n",
    "    f = plt.imshow(image[i], cmap = cm.hot)\n",
    "    if i==0:\n",
    "        g = plt.imshow(template[280], alpha = 0.5, cmap = 'gray')\n",
    "    if i==1:\n",
    "        g = plt.imshow(np.flip(np.rot90(template[:,:,200]), 0), alpha = 0.5, cmap = 'gray')\n",
    "    if i==2:\n",
    "        g = plt.imshow(np.rot90(template[:,180, :]), alpha = 0.5, cmap = 'gray')\n",
    "    plt.axis('off')\n",
    "cbar = fig.colorbar(f, fraction=0.046)\n",
    "cbar.set_label('False Positive % Volume', rotation=90, color = 'w')\n",
    "plt.setp(plt.getp(cbar.ax.axes, 'yticklabels'), color='w')\n",
    "\n",
    "maxval = max(structure_vals.iteritems(), key=operator.itemgetter(1))[1]/scale\n",
    "cbar.ax.set_yticklabels([0, np.round(maxval*.2, 2), \n",
    "                         np.round(maxval*.4, 2), np.round(maxval*.6, 2),\n",
    "                        np.round(maxval*.8, 2), np.round(maxval, 2)])\n",
    "plt.savefig(os.path.join(savepath, 'false positive map.png'), facecolor=fig.get_facecolor(),\n",
    "            bbox_inches='tight', pad_inches=0.3, format='png', dpi=1000)"
   ]
  },
  {
   "cell_type": "code",
   "execution_count": null,
   "metadata": {},
   "outputs": [],
   "source": [
    "reference_space =  mcc.get_reference_space()\n",
    "template = mcc.get_template_volume()[0]\n",
    "means = []\n",
    "for structure_id in dat['structure_id'].unique():\n",
    "    str_mean = np.mean(dat[dat['structure_id'] == structure_id]['plaque_density'])\n",
    "    means.append(str_mean*100)\n",
    "structure_vals = dict(zip(dat['structure_id'].unique(), means))\n",
    "rgb_vals = structure_vals.copy()\n",
    "scale = 1\n",
    "for key in structure_vals:\n",
    "    rgb_vals[key] = tuple([255*i for i in cm.hot(structure_vals[key]*scale)[:3]])\n",
    "rgb_vals[0] = [0, 0, 0]\n",
    "\n",
    "w=8\n",
    "h=8\n",
    "image = [0,0,0]\n",
    "index = [5975, 2975, 5725]\n",
    "image[0] = reference_space.get_slice_image(0, index[0], rgb_vals)\n",
    "image[1] = np.flip(np.rot90(reference_space.get_slice_image(2, index[2], rgb_vals)), 0)\n",
    "image[2] = np.rot90(reference_space.get_slice_image(1, index[1], rgb_vals))  \n",
    "fig = plt.figure(figsize=(8, 3), facecolor=rgb_vals[0])\n",
    "columns = 3\n",
    "rows = 1\n",
    "for i in range(columns*rows):\n",
    "    print(i)\n",
    "    fig.add_subplot(rows, columns, i+1)\n",
    "    f = plt.imshow(image[i], cmap = cm.hot)\n",
    "    if i==0:\n",
    "        g = plt.imshow(template[239], alpha = 0.5, cmap = 'gray')\n",
    "    if i==1:\n",
    "        g = plt.imshow(np.flip(np.rot90(template[:,:,229]), 0), alpha = 0.5, cmap = 'gray')\n",
    "    if i==2:\n",
    "        g = plt.imshow(np.rot90(template[:,119, :]), alpha = 0.5, cmap = 'gray')\n",
    "    plt.axis('off')\n",
    "cbar = fig.colorbar(f, fraction=0.046)\n",
    "cbar.set_label('False Positive % Volume', rotation=90, color = 'w')\n",
    "plt.setp(plt.getp(cbar.ax.axes, 'yticklabels'), color='w')\n",
    "\n",
    "maxval = max(structure_vals.iteritems(), key=operator.itemgetter(1))[1]/scale\n",
    "cbar.ax.set_yticklabels([0, np.round(maxval*.2, 2), \n",
    "                         np.round(maxval*.4, 2), np.round(maxval*.6, 2),\n",
    "                        np.round(maxval*.8, 2), np.round(maxval, 2)])\n",
    "plt.savefig(os.path.join(savepath, 'false positive map 2.png'), facecolor=fig.get_facecolor(),\n",
    "            bbox_inches='tight', pad_inches=0.3, format='png', dpi=1000)"
   ]
  },
  {
   "cell_type": "code",
   "execution_count": null,
   "metadata": {},
   "outputs": [],
   "source": [
    "savepath"
   ]
  },
  {
   "cell_type": "code",
   "execution_count": null,
   "metadata": {},
   "outputs": [],
   "source": [
    "template.shape"
   ]
  },
  {
   "cell_type": "code",
   "execution_count": null,
   "metadata": {},
   "outputs": [],
   "source": [
    "reference_space =  mcc.get_reference_space()\n",
    "template = mcc.get_template_volume()[0]\n",
    "means = []\n",
    "for structure_id in dat['structure_id'].unique():\n",
    "    str_mean = np.mean(dat[dat['structure_id'] == structure_id]['plaque_density'])\n",
    "    means.append(str_mean*100)\n",
    "structure_vals = dict(zip(dat['structure_id'].unique(), means))\n",
    "rgb_vals = structure_vals.copy()\n",
    "scale = 1\n",
    "for key in structure_vals:\n",
    "    rgb_vals[key] = tuple([255*i for i in cm.hot(structure_vals[key]*scale)[:3]])\n",
    "rgb_vals[0] = [0, 0, 0]\n",
    "\n",
    "w=8\n",
    "h=8\n",
    "image = [0,0,0]\n",
    "index = [8200, 5200, 7350]\n",
    "image[0] = reference_space.get_slice_image(0, index[0], rgb_vals)\n",
    "image[1] = np.flip(np.rot90(reference_space.get_slice_image(2, index[2], rgb_vals)), 0)\n",
    "image[2] = np.rot90(reference_space.get_slice_image(1, index[1], rgb_vals))  \n",
    "fig = plt.figure(figsize=(8, 3), facecolor=rgb_vals[0])\n",
    "columns = 3\n",
    "rows = 1\n",
    "for i in range(columns*rows):\n",
    "    print(i)\n",
    "    fig.add_subplot(rows, columns, i+1)\n",
    "    f = plt.imshow(image[i], cmap = cm.hot)\n",
    "    if i==0:\n",
    "        g = plt.imshow(template[338], alpha = 0.5, cmap = 'gray')\n",
    "    if i==1:\n",
    "        g = plt.imshow(np.flip(np.rot90(template[:,:,294]), 0), alpha = 0.5, cmap = 'gray')\n",
    "    if i==2:\n",
    "        g = plt.imshow(np.rot90(template[:,208, :]), alpha = 0.5, cmap = 'gray')\n",
    "    plt.axis('off')\n",
    "cbar = fig.colorbar(f, fraction=0.046)\n",
    "cbar.set_label('Plaque % Volume', rotation=90, color = 'w')\n",
    "plt.setp(plt.getp(cbar.ax.axes, 'yticklabels'), color='w')\n",
    "\n",
    "maxval = max(structure_vals.iteritems(), key=operator.itemgetter(1))[1]/scale\n",
    "cbar.ax.set_yticklabels([0, np.round(maxval*.12, 1), np.round(maxval*.23, 1), \n",
    "                         np.round(maxval*.34, 1), np.round(maxval*.45, 1), \n",
    "                         np.round(maxval*.56, 1), np.round(maxval*.67, 1),\n",
    "                        np.round(maxval*.78, 1), np.round(maxval*.89, 1), np.round(maxval)])\n",
    "plt.savefig(os.path.join(savepath, 'false positive map 3.png'), facecolor=fig.get_facecolor(),\n",
    "            bbox_inches='tight', pad_inches=0.3, format='png', dpi=500)"
   ]
  },
  {
   "cell_type": "code",
   "execution_count": null,
   "metadata": {},
   "outputs": [],
   "source": [
    "cdat = dat.groupby('structure_acronym').mean().reset_index().sort_values(by = 'plaque_density', ascending = False)"
   ]
  },
  {
   "cell_type": "code",
   "execution_count": null,
   "metadata": {},
   "outputs": [],
   "source": [
    "cdat.to_csv(os.path.join(savepath, 'control_false_positive_mean_by_structure.csv'))"
   ]
  },
  {
   "cell_type": "code",
   "execution_count": null,
   "metadata": {},
   "outputs": [],
   "source": [
    "cdat_median = dat.groupby('structure_acronym').median().reset_index().sort_values(by = 'plaque_density', ascending = False)"
   ]
  },
  {
   "cell_type": "code",
   "execution_count": null,
   "metadata": {},
   "outputs": [],
   "source": [
    "cdat.to_csv(os.path.join(savepath, 'control_false_positive_median_by_structure.csv'))"
   ]
  },
  {
   "cell_type": "code",
   "execution_count": null,
   "metadata": {},
   "outputs": [],
   "source": []
  }
 ],
 "metadata": {
  "kernelspec": {
   "display_name": "Python 2",
   "language": "python",
   "name": "python2"
  },
  "language_info": {
   "codemirror_mode": {
    "name": "ipython",
    "version": 2
   },
   "file_extension": ".py",
   "mimetype": "text/x-python",
   "name": "python",
   "nbconvert_exporter": "python",
   "pygments_lexer": "ipython2",
   "version": "2.7.14"
  }
 },
 "nbformat": 4,
 "nbformat_minor": 2
}
