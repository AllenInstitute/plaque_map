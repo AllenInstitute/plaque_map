{
 "cells": [
  {
   "cell_type": "code",
   "execution_count": null,
   "metadata": {},
   "outputs": [],
   "source": [
    "import pandas as pd\n",
    "import numpy as np\n",
    "import sqlite3\n",
    "import pickle\n",
    "from matplotlib import pyplot as plt\n",
    "import seaborn as sns\n",
    "%matplotlib inline\n",
    "from scipy import stats\n",
    "import statsmodels.api as sm"
   ]
  },
  {
   "cell_type": "code",
   "execution_count": null,
   "metadata": {},
   "outputs": [],
   "source": [
    "sns.set(style=\"white\",color_codes=True)\n",
    "pal = sns.color_palette(\"Paired\", 12)\n",
    "sns.set_palette(pal)"
   ]
  },
  {
   "cell_type": "markdown",
   "metadata": {},
   "source": [
    "## Load Datasets"
   ]
  },
  {
   "cell_type": "markdown",
   "metadata": {},
   "source": [
    "There are three datasets to look at: the average template mice, the app control group, and the app+ mice."
   ]
  },
  {
   "cell_type": "markdown",
   "metadata": {},
   "source": [
    "### Average Template Mice"
   ]
  },
  {
   "cell_type": "code",
   "execution_count": null,
   "metadata": {},
   "outputs": [],
   "source": [
    "conn = sqlite3.connect('//allen/aibs/ccf/Maitham/volume_measurement/structure_analysis.db')"
   ]
  },
  {
   "cell_type": "code",
   "execution_count": null,
   "metadata": {},
   "outputs": [],
   "source": [
    "avg_temp = pd.read_sql_query('select * from avg_temp_finished',conn)"
   ]
  },
  {
   "cell_type": "code",
   "execution_count": null,
   "metadata": {},
   "outputs": [],
   "source": [
    "conn.close()"
   ]
  },
  {
   "cell_type": "code",
   "execution_count": null,
   "metadata": {},
   "outputs": [],
   "source": [
    "avg_temp = avg_temp.sort_values(by=['Image_Series_ID','Structure_ID','side'])"
   ]
  },
  {
   "cell_type": "code",
   "execution_count": null,
   "metadata": {},
   "outputs": [],
   "source": [
    "avg_temp.head()"
   ]
  },
  {
   "cell_type": "markdown",
   "metadata": {},
   "source": [
    "### app control group"
   ]
  },
  {
   "cell_type": "code",
   "execution_count": null,
   "metadata": {},
   "outputs": [],
   "source": [
    "conn = sqlite3.connect('//allen/aibs/ccf/Maitham/Alzheimer_Data/jennifer_structure_data.db')"
   ]
  },
  {
   "cell_type": "code",
   "execution_count": null,
   "metadata": {},
   "outputs": [],
   "source": [
    "control = pd.read_sql_query('select * from control_total_finished',conn)"
   ]
  },
  {
   "cell_type": "code",
   "execution_count": null,
   "metadata": {},
   "outputs": [],
   "source": [
    "control.head()"
   ]
  },
  {
   "cell_type": "markdown",
   "metadata": {},
   "source": [
    "### app+"
   ]
  },
  {
   "cell_type": "code",
   "execution_count": null,
   "metadata": {},
   "outputs": [],
   "source": [
    "app = pd.read_sql_query('select * from app_total_finished',conn)"
   ]
  },
  {
   "cell_type": "code",
   "execution_count": null,
   "metadata": {},
   "outputs": [],
   "source": [
    "conn.close()"
   ]
  },
  {
   "cell_type": "code",
   "execution_count": null,
   "metadata": {},
   "outputs": [],
   "source": [
    "app.head()"
   ]
  },
  {
   "cell_type": "markdown",
   "metadata": {},
   "source": [
    "## Whole Brain"
   ]
  },
  {
   "cell_type": "markdown",
   "metadata": {},
   "source": [
    "The first thing to compare is the whole brain volume and variability."
   ]
  },
  {
   "cell_type": "markdown",
   "metadata": {},
   "source": [
    "### Volume"
   ]
  },
  {
   "cell_type": "code",
   "execution_count": null,
   "metadata": {},
   "outputs": [],
   "source": [
    "wb_vol_avg_temp = avg_temp[avg_temp.Structure_ID==997].Volume\n",
    "wb_vol_control = control[control.Structure_ID==997].Volume\n",
    "wb_vol_app = app[app.Structure_ID==997].Volume"
   ]
  },
  {
   "cell_type": "code",
   "execution_count": null,
   "metadata": {},
   "outputs": [],
   "source": [
    "sns.distplot(wb_vol_avg_temp,color='blue')\n",
    "sns.distplot(wb_vol_control,color='green')\n",
    "sns.distplot(wb_vol_app,color='red')"
   ]
  },
  {
   "cell_type": "markdown",
   "metadata": {},
   "source": [
    "### Variability Model"
   ]
  },
  {
   "cell_type": "markdown",
   "metadata": {},
   "source": [
    "The variability model uses surface area to volume ratio (sa2v) to predict the coefficient of variation (cov).\n",
    "\n",
    "mcov_sqrd ~ p*sa2v, where p = 7.0466"
   ]
  },
  {
   "cell_type": "code",
   "execution_count": null,
   "metadata": {},
   "outputs": [],
   "source": [
    "wb_index_avg_temp = avg_temp[avg_temp.Structure_ID==997].index\n",
    "wb_index_control = control[control.Structure_ID==997].index\n",
    "wb_index_app = app[app.Structure_ID==997].index"
   ]
  },
  {
   "cell_type": "code",
   "execution_count": null,
   "metadata": {},
   "outputs": [],
   "source": [
    "wb_resid_avg_temp = avg_temp.loc[wb_index_avg_temp,'resid']/avg_temp.loc[wb_index_avg_temp,'sa2v']\n",
    "wb_resid_control = control.loc[wb_index_control,'resid']/control.loc[wb_index_control,'sa2v']\n",
    "wb_resid_app = app.loc[wb_index_app,'resid']/app.loc[wb_index_app,'sa2v']"
   ]
  },
  {
   "cell_type": "code",
   "execution_count": null,
   "metadata": {},
   "outputs": [],
   "source": [
    "sns.distplot(wb_resid_avg_temp,color='blue')\n",
    "sns.distplot(wb_resid_control,color='green')\n",
    "sns.distplot(wb_resid_app,color='red')"
   ]
  },
  {
   "cell_type": "markdown",
   "metadata": {},
   "source": [
    "## Coarse level structures"
   ]
  },
  {
   "cell_type": "code",
   "execution_count": null,
   "metadata": {},
   "outputs": [],
   "source": [
    "# Coarse structure IDs\n",
    "with open('//allen/aibs/ccf/Maitham/Alzheimer_Data/coarse') as f:\n",
    "    coarse = pickle.load(f)"
   ]
  },
  {
   "cell_type": "markdown",
   "metadata": {},
   "source": [
    "### Average Template"
   ]
  },
  {
   "cell_type": "code",
   "execution_count": null,
   "metadata": {},
   "outputs": [],
   "source": [
    "# Structure Indeces for right structures\n",
    "coarse_structure_right_index = []\n",
    "for i in coarse:\n",
    "    indx = avg_temp[avg_temp.Structure_ID==i].index\n",
    "    temp = avg_temp.loc[indx,'Structure_Index'].unique().tolist()\n",
    "    if len(temp)>1:\n",
    "        coarse_structure_right_index.append(temp[1])\n",
    "    else:\n",
    "        coarse_structure_right_index.append(temp[0])"
   ]
  },
  {
   "cell_type": "code",
   "execution_count": null,
   "metadata": {},
   "outputs": [],
   "source": [
    "# Structure Indeces for left structures\n",
    "coarse_structure_left_index = []\n",
    "for i in coarse:\n",
    "    indx = avg_temp[avg_temp.Structure_ID==i].index\n",
    "    temp = avg_temp.loc[indx,'Structure_Index'].unique().tolist()\n",
    "    if len(temp)>1:\n",
    "        coarse_structure_left_index.append(temp[0])\n",
    "    else:\n",
    "        coarse_structure_left_index.append(temp[0])"
   ]
  },
  {
   "cell_type": "code",
   "execution_count": null,
   "metadata": {},
   "outputs": [],
   "source": [
    "# dataframe indeces for right structures\n",
    "coarse_right_index_avg_temp = []\n",
    "for i in coarse_structure_right_index:\n",
    "    coarse_right_index_avg_temp.extend(avg_temp[avg_temp.Structure_Index == i].index.values.tolist())"
   ]
  },
  {
   "cell_type": "code",
   "execution_count": null,
   "metadata": {},
   "outputs": [],
   "source": [
    "# dataframe indeces for left structures\n",
    "coarse_left_index_avg_temp = []\n",
    "for i in coarse_structure_left_index:\n",
    "    coarse_left_index_avg_temp.extend(avg_temp[avg_temp.Structure_Index == i].index.values.tolist())"
   ]
  },
  {
   "cell_type": "code",
   "execution_count": null,
   "metadata": {},
   "outputs": [],
   "source": [
    "# right coarse structure residuals normalized to sa2v\n",
    "coarse_right_avg_temp = avg_temp.loc[coarse_right_index_avg_temp,:]\n",
    "coarse_right_resid_avg_temp = coarse_right_avg_temp.resid/coarse_right_avg_temp.sa2v"
   ]
  },
  {
   "cell_type": "code",
   "execution_count": null,
   "metadata": {},
   "outputs": [],
   "source": [
    "# left coarse structure residuals normalized to sa2v\n",
    "coarse_left_avg_temp = avg_temp.loc[coarse_left_index_avg_temp,:]\n",
    "coarse_left_resid_avg_temp = coarse_left_avg_temp.resid/coarse_left_avg_temp.sa2v"
   ]
  },
  {
   "cell_type": "code",
   "execution_count": null,
   "metadata": {},
   "outputs": [],
   "source": [
    "sns.distplot(coarse_right_resid_avg_temp,color='blue',label='right')\n",
    "sns.distplot(coarse_left_resid_avg_temp,color='red',label='left')\n",
    "plt.legend()"
   ]
  },
  {
   "cell_type": "markdown",
   "metadata": {},
   "source": [
    "#### Breakdown by structure"
   ]
  },
  {
   "cell_type": "code",
   "execution_count": null,
   "metadata": {},
   "outputs": [],
   "source": [
    "# get the dataframe indeces for each structure and pair to that structure id\n",
    "coarse_right_index_dict = {}\n",
    "for i in coarse:\n",
    "    coarse_right_index_dict[i] = coarse_right_avg_temp[coarse_right_avg_temp.Structure_ID == i].index.values.tolist()\n",
    "\n",
    "# for each structure, find the normalized residual\n",
    "coarse_right_resid_dict = {}\n",
    "for i in coarse:\n",
    "    coarse_right_resid_dict[i] = coarse_right_avg_temp.loc[coarse_right_index_dict[i],'resid']/coarse_right_avg_temp.loc[coarse_right_index_dict[i],'sa2v']"
   ]
  },
  {
   "cell_type": "code",
   "execution_count": null,
   "metadata": {},
   "outputs": [],
   "source": [
    "# get the dataframe indeces for each structure and pair to that structure id\n",
    "coarse_left_index_dict = {}\n",
    "for i in coarse:\n",
    "    coarse_left_index_dict[i] = coarse_left_avg_temp[coarse_left_avg_temp.Structure_ID == i].index.values.tolist()\n",
    "\n",
    "# for each structure, find the normalized residual\n",
    "coarse_left_resid_dict = {}\n",
    "for i in coarse:\n",
    "    coarse_left_resid_dict[i] = coarse_left_avg_temp.loc[coarse_left_index_dict[i],'resid']/coarse_left_avg_temp.loc[coarse_left_index_dict[i],'sa2v']"
   ]
  },
  {
   "cell_type": "code",
   "execution_count": null,
   "metadata": {},
   "outputs": [],
   "source": [
    "for i in coarse:\n",
    "    sns.distplot(coarse_right_resid_dict[i],label=str(i))\n",
    "plt.legend()\n",
    "plt.title('Right')"
   ]
  },
  {
   "cell_type": "code",
   "execution_count": null,
   "metadata": {},
   "outputs": [],
   "source": [
    "for i in coarse:\n",
    "    sns.distplot(coarse_left_resid_dict[i],label=str(i))\n",
    "plt.legend()\n",
    "plt.title('Left')"
   ]
  },
  {
   "cell_type": "markdown",
   "metadata": {},
   "source": [
    "### Control"
   ]
  },
  {
   "cell_type": "code",
   "execution_count": null,
   "metadata": {},
   "outputs": [],
   "source": [
    "# Structure Indeces for right structures\n",
    "coarse_structure_right_index_control = []\n",
    "for i in coarse:\n",
    "    indx = control[control.Structure_ID==i].index\n",
    "    temp = control.loc[indx,'Structure_Index'].unique().tolist()\n",
    "    if len(temp)>1:\n",
    "        coarse_structure_right_index_control.append(temp[1])\n",
    "    else:\n",
    "        coarse_structure_right_index_control.append(temp[0])"
   ]
  },
  {
   "cell_type": "code",
   "execution_count": null,
   "metadata": {},
   "outputs": [],
   "source": [
    "# Structure Indeces for left structures\n",
    "coarse_structure_left_index_control = []\n",
    "for i in coarse:\n",
    "    indx = control[control.Structure_ID==i].index\n",
    "    temp = control.loc[indx,'Structure_Index'].unique().tolist()\n",
    "    if len(temp)>1:\n",
    "        coarse_structure_left_index_control.append(temp[0])\n",
    "    else:\n",
    "        coarse_structure_left_index_control.append(temp[0])"
   ]
  },
  {
   "cell_type": "code",
   "execution_count": null,
   "metadata": {},
   "outputs": [],
   "source": [
    "# dataframe indeces for right structures\n",
    "coarse_right_index_control = []\n",
    "for i in coarse_structure_right_index_control:\n",
    "    coarse_right_index_control.extend(control[control.Structure_Index == i].index.values.tolist())"
   ]
  },
  {
   "cell_type": "code",
   "execution_count": null,
   "metadata": {},
   "outputs": [],
   "source": [
    "# dataframe indeces for left structures\n",
    "coarse_left_index_control = []\n",
    "for i in coarse_structure_left_index_control:\n",
    "    coarse_left_index_control.extend(control[control.Structure_Index == i].index.values.tolist())"
   ]
  },
  {
   "cell_type": "code",
   "execution_count": null,
   "metadata": {},
   "outputs": [],
   "source": [
    "# right coarse structure residuals normalized to sa2v\n",
    "coarse_right_control = control.loc[coarse_right_index_control,:]\n",
    "coarse_right_resid_control = coarse_right_control.resid/coarse_right_control.sa2v"
   ]
  },
  {
   "cell_type": "code",
   "execution_count": null,
   "metadata": {},
   "outputs": [],
   "source": [
    "# left coarse structure residuals normalized to sa2v\n",
    "coarse_left_control = control.loc[coarse_left_index_control,:]\n",
    "coarse_left_resid_control = coarse_left_control.resid/coarse_left_control.sa2v"
   ]
  },
  {
   "cell_type": "code",
   "execution_count": null,
   "metadata": {},
   "outputs": [],
   "source": [
    "sns.distplot(coarse_right_resid_control,color='blue',label='right')\n",
    "sns.distplot(coarse_left_resid_control,color='red',label='left')\n",
    "plt.legend()"
   ]
  },
  {
   "cell_type": "markdown",
   "metadata": {},
   "source": [
    "#### Breakdown by structure"
   ]
  },
  {
   "cell_type": "code",
   "execution_count": null,
   "metadata": {},
   "outputs": [],
   "source": [
    "# get the dataframe indeces for each structure and pair to that structure id\n",
    "coarse_right_index_dict = {}\n",
    "for i in coarse:\n",
    "    coarse_right_index_dict[i] = coarse_right_control[coarse_right_control.Structure_ID == i].index.values.tolist()\n",
    "\n",
    "# for each structure, find the normalized residual\n",
    "control_coarse_right_resid_dict = {}\n",
    "for i in coarse:\n",
    "    control_coarse_right_resid_dict[i] = coarse_right_control.loc[coarse_right_index_dict[i],'resid']/coarse_right_control.loc[coarse_right_index_dict[i],'sa2v']"
   ]
  },
  {
   "cell_type": "code",
   "execution_count": null,
   "metadata": {},
   "outputs": [],
   "source": [
    "# get the dataframe indeces for each structure and pair to that structure id\n",
    "coarse_left_index_dict = {}\n",
    "for i in coarse:\n",
    "    coarse_left_index_dict[i] = coarse_left_control[coarse_left_control.Structure_ID == i].index.values.tolist()\n",
    "\n",
    "# for each structure, find the normalized residual\n",
    "control_coarse_left_resid_dict = {}\n",
    "for i in coarse:\n",
    "    control_coarse_left_resid_dict[i] = coarse_left_control.loc[coarse_left_index_dict[i],'resid']/coarse_left_control.loc[coarse_left_index_dict[i],'sa2v']"
   ]
  },
  {
   "cell_type": "code",
   "execution_count": null,
   "metadata": {},
   "outputs": [],
   "source": [
    "for i in coarse:\n",
    "    sns.distplot(control_coarse_right_resid_dict[i],label=str(i))\n",
    "plt.legend()\n",
    "plt.title('Right')"
   ]
  },
  {
   "cell_type": "code",
   "execution_count": null,
   "metadata": {},
   "outputs": [],
   "source": [
    "for i in coarse:\n",
    "    sns.distplot(control_coarse_left_resid_dict[i],label=str(i))\n",
    "plt.legend()\n",
    "plt.title('Left')"
   ]
  },
  {
   "cell_type": "code",
   "execution_count": null,
   "metadata": {},
   "outputs": [],
   "source": [
    "plt.subplot(2,2,1)\n",
    "for i in coarse:\n",
    "    sns.distplot(coarse_left_resid_dict[i],label=str(i))\n",
    "plt.title('Left - Avg Temp')\n",
    "\n",
    "plt.subplot(2,2,2)\n",
    "for i in coarse:\n",
    "    sns.distplot(coarse_right_resid_dict[i],label=str(i))\n",
    "plt.title('Right - Avg Temp')\n",
    "\n",
    "plt.subplot(2,2,3)\n",
    "for i in coarse:\n",
    "    sns.distplot(control_coarse_left_resid_dict[i],label=str(i))\n",
    "plt.title('Left - Control')\n",
    "\n",
    "plt.subplot(2,2,4)\n",
    "for i in coarse:\n",
    "    sns.distplot(control_coarse_right_resid_dict[i],label=str(i))\n",
    "plt.title('Right - Control')\n"
   ]
  },
  {
   "cell_type": "markdown",
   "metadata": {},
   "source": []
  },
  {
   "cell_type": "markdown",
   "metadata": {},
   "source": [
    "### app+"
   ]
  },
  {
   "cell_type": "code",
   "execution_count": null,
   "metadata": {},
   "outputs": [],
   "source": [
    "# Structure Indeces for right structures\n",
    "coarse_structure_right_index_app = []\n",
    "for i in coarse:\n",
    "    indx = app[app.Structure_ID==i].index\n",
    "    temp = app.loc[indx,'Structure_Index'].unique().tolist()\n",
    "    if len(temp)>1:\n",
    "        coarse_structure_right_index_app.append(temp[1])\n",
    "    else:\n",
    "        coarse_structure_right_index_app.append(temp[0])"
   ]
  },
  {
   "cell_type": "code",
   "execution_count": null,
   "metadata": {},
   "outputs": [],
   "source": [
    "# Structure Indeces for left structures\n",
    "coarse_structure_left_index_app = []\n",
    "for i in coarse:\n",
    "    indx = app[app.Structure_ID==i].index\n",
    "    temp = app.loc[indx,'Structure_Index'].unique().tolist()\n",
    "    if len(temp)>1:\n",
    "        coarse_structure_left_index_app.append(temp[0])\n",
    "    else:\n",
    "        coarse_structure_left_index_app.append(temp[0])"
   ]
  },
  {
   "cell_type": "code",
   "execution_count": null,
   "metadata": {},
   "outputs": [],
   "source": [
    "# dataframe indeces for right structures\n",
    "coarse_right_index_app = []\n",
    "for i in coarse_structure_right_index_app:\n",
    "    coarse_right_index_app.extend(app[app.Structure_Index == i].index.values.tolist())"
   ]
  },
  {
   "cell_type": "code",
   "execution_count": null,
   "metadata": {},
   "outputs": [],
   "source": [
    "# dataframe indeces for left structures\n",
    "coarse_left_index_app = []\n",
    "for i in coarse_structure_left_index_app:\n",
    "    coarse_left_index_app.extend(app[app.Structure_Index == i].index.values.tolist())"
   ]
  },
  {
   "cell_type": "code",
   "execution_count": null,
   "metadata": {},
   "outputs": [],
   "source": [
    "# right coarse structure residuals normalized to sa2v\n",
    "coarse_right_app = app.loc[coarse_right_index_app,:]\n",
    "coarse_right_resid_app = coarse_right_app.resid/coarse_right_app.sa2v"
   ]
  },
  {
   "cell_type": "code",
   "execution_count": null,
   "metadata": {},
   "outputs": [],
   "source": [
    "# left coarse structure residuals normalized to sa2v\n",
    "coarse_left_app = app.loc[coarse_left_index_app,:]\n",
    "coarse_left_resid_app = coarse_left_app.resid/coarse_left_app.sa2v"
   ]
  },
  {
   "cell_type": "code",
   "execution_count": null,
   "metadata": {},
   "outputs": [],
   "source": [
    "sns.distplot(coarse_right_resid_app,color='blue',label='right')\n",
    "sns.distplot(coarse_left_resid_app,color='red',label='left')\n",
    "plt.legend()"
   ]
  },
  {
   "cell_type": "markdown",
   "metadata": {},
   "source": [
    "#### Breakdown by structure"
   ]
  },
  {
   "cell_type": "code",
   "execution_count": null,
   "metadata": {},
   "outputs": [],
   "source": [
    "# get the dataframe indeces for each structure and pair to that structure id\n",
    "coarse_right_index_dict = {}\n",
    "for i in coarse:\n",
    "    coarse_right_index_dict[i] = coarse_right_app[coarse_right_app.Structure_ID == i].index.values.tolist()\n",
    "\n",
    "# for each structure, find the normalized residual\n",
    "app_coarse_right_resid_dict = {}\n",
    "for i in coarse:\n",
    "    app_coarse_right_resid_dict[i] = coarse_right_app.loc[coarse_right_index_dict[i],'resid']/coarse_right_app.loc[coarse_right_index_dict[i],'sa2v']"
   ]
  },
  {
   "cell_type": "code",
   "execution_count": null,
   "metadata": {},
   "outputs": [],
   "source": [
    "# get the dataframe indeces for each structure and pair to that structure id\n",
    "coarse_left_index_dict = {}\n",
    "for i in coarse:\n",
    "    coarse_left_index_dict[i] = coarse_left_app[coarse_left_app.Structure_ID == i].index.values.tolist()\n",
    "\n",
    "# for each structure, find the normalized residual\n",
    "app_coarse_left_resid_dict = {}\n",
    "for i in coarse:\n",
    "    app_coarse_left_resid_dict[i] = coarse_left_app.loc[coarse_left_index_dict[i],'resid']/coarse_left_app.loc[coarse_left_index_dict[i],'sa2v']"
   ]
  },
  {
   "cell_type": "code",
   "execution_count": null,
   "metadata": {},
   "outputs": [],
   "source": [
    "for i in coarse:\n",
    "    sns.distplot(app_coarse_right_resid_dict[i],label=str(i))\n",
    "plt.legend()\n",
    "plt.title('Right')"
   ]
  },
  {
   "cell_type": "code",
   "execution_count": null,
   "metadata": {},
   "outputs": [],
   "source": [
    "for i in coarse:\n",
    "    sns.distplot(app_coarse_left_resid_dict[i],label=str(i))\n",
    "plt.legend()\n",
    "plt.title('Left')"
   ]
  },
  {
   "cell_type": "markdown",
   "metadata": {},
   "source": [
    "### Coarse-level Comparison of Avg Template, Control, and App+"
   ]
  },
  {
   "cell_type": "code",
   "execution_count": null,
   "metadata": {},
   "outputs": [],
   "source": [
    "sns.distplot(coarse_right_resid_avg_temp,color='blue')\n",
    "sns.distplot(coarse_right_resid_control,color='green')\n",
    "sns.distplot(coarse_right_resid_app,color='red')"
   ]
  },
  {
   "cell_type": "markdown",
   "metadata": {},
   "source": [
    "#### Standardized distributions"
   ]
  },
  {
   "cell_type": "markdown",
   "metadata": {},
   "source": [
    "In order to compare these distributions, we standardize using their respective means and standard deviations."
   ]
  },
  {
   "cell_type": "code",
   "execution_count": null,
   "metadata": {},
   "outputs": [],
   "source": [
    "a = coarse_right_resid_avg_temp - coarse_right_resid_avg_temp.mean()\n",
    "a = a/coarse_right_resid_avg_temp.std()"
   ]
  },
  {
   "cell_type": "code",
   "execution_count": null,
   "metadata": {},
   "outputs": [],
   "source": [
    "b = coarse_right_resid_control - coarse_right_resid_control.mean()\n",
    "b = b/coarse_right_resid_control.std()"
   ]
  },
  {
   "cell_type": "code",
   "execution_count": null,
   "metadata": {},
   "outputs": [],
   "source": [
    "c = coarse_right_resid_app - coarse_right_resid_app.mean()\n",
    "c = c/coarse_right_resid_app.std()"
   ]
  },
  {
   "cell_type": "code",
   "execution_count": null,
   "metadata": {},
   "outputs": [],
   "source": [
    "sns.distplot(a,color='blue',label='Avg Temp')\n",
    "sns.distplot(b,color='green',label='Control')\n",
    "sns.distplot(c,color='red',label='App+')\n",
    "plt.legend()"
   ]
  },
  {
   "cell_type": "markdown",
   "metadata": {},
   "source": [
    "We can also view the standardized structures in this way"
   ]
  },
  {
   "cell_type": "code",
   "execution_count": null,
   "metadata": {},
   "outputs": [],
   "source": [
    "std_coarse_right_resid = {}\n",
    "std_coarse_right_resid_control = {}\n",
    "std_coarse_right_resid_app = {}\n",
    "\n",
    "for i in coarse:\n",
    "    temp = coarse_right_resid_dict[i] - coarse_right_resid_avg_temp.mean()\n",
    "    std_coarse_right_resid[i] = temp / coarse_right_resid_avg_temp.std()\n",
    "    \n",
    "    temp = control_coarse_right_resid_dict[i] - coarse_right_resid_control.mean()\n",
    "    std_coarse_right_resid_control[i] = temp / coarse_right_resid_control.std()\n",
    "    \n",
    "    temp = app_coarse_right_resid_dict[i] - coarse_right_resid_app.mean()\n",
    "    std_coarse_right_resid_app[i] = temp / coarse_right_resid_app.std()"
   ]
  },
  {
   "cell_type": "code",
   "execution_count": null,
   "metadata": {},
   "outputs": [],
   "source": [
    "plt.subplot(3,1,1)\n",
    "for i in coarse:\n",
    "    sns.distplot(std_coarse_right_resid[i],label=str(i))\n",
    "plt.xlim((-4,4))\n",
    "\n",
    "plt.subplot(3,1,2)\n",
    "for i in coarse:\n",
    "    sns.distplot(std_coarse_right_resid_control[i],label=str(i))\n",
    "plt.xlim((-4,4))\n",
    "    \n",
    "plt.subplot(3,1,3)\n",
    "for i in coarse:\n",
    "    ax = sns.distplot(std_coarse_right_resid_app[i],label=str(i))\n",
    "plt.xlim((-4,4))\n",
    "plt.figlegend(ax.get_lines(),map(lambda x:str(x),coarse),'right')"
   ]
  },
  {
   "cell_type": "markdown",
   "metadata": {},
   "source": [
    "#### Thalamus and Hypothalamus"
   ]
  },
  {
   "cell_type": "markdown",
   "metadata": {},
   "source": [
    "This is an example of where the avg template and control show similar variability, and are both less variable than the app+"
   ]
  },
  {
   "cell_type": "code",
   "execution_count": null,
   "metadata": {},
   "outputs": [],
   "source": [
    "plt.subplot(2,1,1)\n",
    "i = 549\n",
    "sns.distplot(std_coarse_right_resid[i],color='blue',label='avg_temp')\n",
    "sns.distplot(std_coarse_right_resid_control[i],color='green',label='control')\n",
    "sns.distplot(std_coarse_right_resid_app[i],color='red',label='app+')\n",
    "plt.title('Thalamus')\n",
    "plt.xlim((-4,2))\n",
    "plt.legend()\n",
    "\n",
    "plt.subplot(2,1,2)\n",
    "i = 1097\n",
    "sns.distplot(std_coarse_right_resid[i],color='blue',label='avg_temp')\n",
    "sns.distplot(std_coarse_right_resid_control[i],color='green',label='control')\n",
    "sns.distplot(std_coarse_right_resid_app[i],color='red',label='app+')\n",
    "plt.title('Hypothalamus')\n",
    "plt.xlim((-4,2))\n",
    "plt.legend()"
   ]
  },
  {
   "cell_type": "markdown",
   "metadata": {},
   "source": [
    "#### Striatum"
   ]
  },
  {
   "cell_type": "markdown",
   "metadata": {},
   "source": [
    "This is an example of where the avg template and app+ show similar variability, and are both more variable than the control group."
   ]
  },
  {
   "cell_type": "code",
   "execution_count": null,
   "metadata": {},
   "outputs": [],
   "source": [
    "i = 477\n",
    "sns.distplot(std_coarse_right_resid[i],color='blue',label='avg_temp')\n",
    "sns.distplot(std_coarse_right_resid_control[i],color='green',label='control')\n",
    "sns.distplot(std_coarse_right_resid_app[i],color='red',label='app+')\n",
    "plt.title('Striatum')\n",
    "plt.legend()"
   ]
  },
  {
   "cell_type": "markdown",
   "metadata": {},
   "source": [
    "## Summary Level Analysis"
   ]
  },
  {
   "cell_type": "code",
   "execution_count": null,
   "metadata": {},
   "outputs": [],
   "source": [
    "with open('//allen/aibs/ccf/Maitham/Alzheimer_Data/summary') as f:\n",
    "    summary = pickle.load(f)"
   ]
  },
  {
   "cell_type": "markdown",
   "metadata": {},
   "source": [
    "### Average Template"
   ]
  },
  {
   "cell_type": "code",
   "execution_count": null,
   "metadata": {},
   "outputs": [],
   "source": [
    "# Structure Indeces for right structures\n",
    "summary_structure_right_index = []\n",
    "for i in summary:\n",
    "    indx = avg_temp[avg_temp.Structure_ID==i].index\n",
    "    temp = avg_temp.loc[indx,'Structure_Index'].unique().tolist()\n",
    "    if len(temp)>1:\n",
    "        summary_structure_right_index.append(temp[1])\n",
    "    else:\n",
    "        summary_structure_right_index.append(temp[0])"
   ]
  },
  {
   "cell_type": "code",
   "execution_count": null,
   "metadata": {},
   "outputs": [],
   "source": [
    "# dataframe indeces for right structures\n",
    "summary_right_index_avg_temp = []\n",
    "for i in summary_structure_right_index:\n",
    "    summary_right_index_avg_temp.extend(avg_temp[avg_temp.Structure_Index == i].index.values.tolist())"
   ]
  },
  {
   "cell_type": "code",
   "execution_count": null,
   "metadata": {},
   "outputs": [],
   "source": [
    "# right coarse structure residuals normalized to sa2v\n",
    "summary_right_avg_temp = avg_temp.loc[summary_right_index_avg_temp,:]\n",
    "summary_right_resid_avg_temp = summary_right_avg_temp.resid/summary_right_avg_temp.sa2v"
   ]
  },
  {
   "cell_type": "code",
   "execution_count": null,
   "metadata": {},
   "outputs": [],
   "source": [
    "sns.distplot(summary_right_resid_avg_temp)"
   ]
  },
  {
   "cell_type": "markdown",
   "metadata": {},
   "source": [
    "### Control"
   ]
  },
  {
   "cell_type": "code",
   "execution_count": null,
   "metadata": {},
   "outputs": [],
   "source": [
    "# Structure Indeces for right structures\n",
    "summary_structure_right_index_control = []\n",
    "for i in summary:\n",
    "    indx = control[control.Structure_ID==i].index\n",
    "    temp = control.loc[indx,'Structure_Index'].unique().tolist()\n",
    "    if len(temp)>1:\n",
    "        summary_structure_right_index_control.append(temp[1])\n",
    "    else:\n",
    "        summary_structure_right_index_control.append(temp[0])"
   ]
  },
  {
   "cell_type": "code",
   "execution_count": null,
   "metadata": {},
   "outputs": [],
   "source": [
    "# dataframe indeces for right structures\n",
    "summary_right_index_control = []\n",
    "for i in summary_structure_right_index_control:\n",
    "    summary_right_index_control.extend(control[control.Structure_Index == i].index.values.tolist())"
   ]
  },
  {
   "cell_type": "code",
   "execution_count": null,
   "metadata": {},
   "outputs": [],
   "source": [
    "# right coarse structure residuals normalized to sa2v\n",
    "summary_right_control = control.loc[summary_right_index_control,:]\n",
    "summary_right_resid_control = summary_right_control.resid/summary_right_control.sa2v"
   ]
  },
  {
   "cell_type": "code",
   "execution_count": null,
   "metadata": {},
   "outputs": [],
   "source": [
    "sns.distplot(summary_right_resid_control)"
   ]
  },
  {
   "cell_type": "markdown",
   "metadata": {},
   "source": [
    "### App+"
   ]
  },
  {
   "cell_type": "code",
   "execution_count": null,
   "metadata": {},
   "outputs": [],
   "source": [
    "# Structure Indeces for right structures\n",
    "summary_structure_right_index_app = []\n",
    "for i in summary:\n",
    "    indx = app[app.Structure_ID==i].index\n",
    "    temp = app.loc[indx,'Structure_Index'].unique().tolist()\n",
    "    if len(temp)>1:\n",
    "        summary_structure_right_index_app.append(temp[1])\n",
    "    else:\n",
    "        summary_structure_right_index_app.append(temp[0])"
   ]
  },
  {
   "cell_type": "code",
   "execution_count": null,
   "metadata": {},
   "outputs": [],
   "source": [
    "# dataframe indeces for right structures\n",
    "summary_right_index_app = []\n",
    "for i in summary_structure_right_index_app:\n",
    "    summary_right_index_app.extend(app[app.Structure_Index == i].index.values.tolist())"
   ]
  },
  {
   "cell_type": "code",
   "execution_count": null,
   "metadata": {},
   "outputs": [],
   "source": [
    "# right coarse structure residuals normalized to sa2v\n",
    "summary_right_app = app.loc[summary_right_index_app,:]\n",
    "summary_right_resid_app = summary_right_app.resid/summary_right_app.sa2v"
   ]
  },
  {
   "cell_type": "code",
   "execution_count": null,
   "metadata": {},
   "outputs": [],
   "source": [
    "sns.distplot(summary_right_resid_app)"
   ]
  },
  {
   "cell_type": "markdown",
   "metadata": {},
   "source": [
    "### Summary structure comparison"
   ]
  },
  {
   "cell_type": "code",
   "execution_count": null,
   "metadata": {},
   "outputs": [],
   "source": [
    "sns.distplot(summary_right_resid_avg_temp,color='blue',label='avg temp')\n",
    "sns.distplot(summary_right_resid_control,color='green',label='control')\n",
    "sns.distplot(summary_right_resid_app,color='red',label='app+')\n",
    "plt.legend()"
   ]
  },
  {
   "cell_type": "code",
   "execution_count": null,
   "metadata": {},
   "outputs": [],
   "source": [
    "std_summary_avg_temp = summary_right_resid_avg_temp - summary_right_resid_avg_temp.mean()\n",
    "std_summary_avg_temp = std_summary_avg_temp/summary_right_resid_avg_temp.std()\n",
    "\n",
    "std_summary_control = summary_right_resid_control - summary_right_resid_control.mean()\n",
    "std_summary_control = std_summary_control/summary_right_resid_control.std()\n",
    "\n",
    "std_summary_app = summary_right_resid_app - summary_right_resid_app.mean()\n",
    "std_summary_app = std_summary_app/summary_right_resid_app.std()"
   ]
  },
  {
   "cell_type": "code",
   "execution_count": null,
   "metadata": {},
   "outputs": [],
   "source": [
    "sns.distplot(std_summary_avg_temp,color='blue',label='avg temp')\n",
    "sns.distplot(std_summary_control,color='green',label='control')\n",
    "sns.distplot(std_summary_app,color='red',label='app+')\n",
    "plt.legend()"
   ]
  },
  {
   "cell_type": "code",
   "execution_count": null,
   "metadata": {},
   "outputs": [],
   "source": [
    "std_summary_avg_temp.head()"
   ]
  },
  {
   "cell_type": "markdown",
   "metadata": {},
   "source": [
    "## Jen starting here"
   ]
  },
  {
   "cell_type": "code",
   "execution_count": null,
   "metadata": {},
   "outputs": [],
   "source": [
    "app.head()"
   ]
  },
  {
   "cell_type": "code",
   "execution_count": null,
   "metadata": {},
   "outputs": [],
   "source": [
    "meta = pd.read_csv(r'C:\\Users\\jenniferwh\\Dropbox (Allen Institute)\\Mesoscale Connectome Papers in Progress\\2018 Plaque\\AD_structure_volume_GLM_data.csv')"
   ]
  },
  {
   "cell_type": "code",
   "execution_count": null,
   "metadata": {},
   "outputs": [],
   "source": [
    "meta.head()"
   ]
  },
  {
   "cell_type": "code",
   "execution_count": null,
   "metadata": {},
   "outputs": [],
   "source": [
    "meta['Age group'].unique()"
   ]
  },
  {
   "cell_type": "code",
   "execution_count": null,
   "metadata": {},
   "outputs": [],
   "source": [
    "not_in_master_data = (app[~app['Image_Series_ID'].isin(meta['Image_Series_ID'])])"
   ]
  },
  {
   "cell_type": "code",
   "execution_count": null,
   "metadata": {},
   "outputs": [],
   "source": [
    "not_in_master_data['Image_Series_ID'].unique()"
   ]
  },
  {
   "cell_type": "code",
   "execution_count": null,
   "metadata": {},
   "outputs": [],
   "source": [
    "not_in_master_data = (control[~control['Image_Series_ID'].isin(meta['Image_Series_ID'])])"
   ]
  },
  {
   "cell_type": "code",
   "execution_count": null,
   "metadata": {},
   "outputs": [],
   "source": [
    "control.head()"
   ]
  },
  {
   "cell_type": "code",
   "execution_count": null,
   "metadata": {},
   "outputs": [],
   "source": [
    "control['side'].unique()"
   ]
  },
  {
   "cell_type": "code",
   "execution_count": null,
   "metadata": {},
   "outputs": [],
   "source": [
    "appdat = app[app['Image_Series_ID'].isin(meta['Image_Series_ID'])]"
   ]
  },
  {
   "cell_type": "code",
   "execution_count": null,
   "metadata": {},
   "outputs": [],
   "source": [
    "appdat = appdat[appdat['side'].isin(['r', 'm'])]"
   ]
  },
  {
   "cell_type": "code",
   "execution_count": null,
   "metadata": {},
   "outputs": [],
   "source": [
    "meta.head()"
   ]
  },
  {
   "cell_type": "code",
   "execution_count": null,
   "metadata": {},
   "outputs": [],
   "source": [
    "appdat = appdat.merge(meta[['Image_Series_ID', 'Genotype group', 'sex', 'Age group']], on='Image_Series_ID')"
   ]
  },
  {
   "cell_type": "code",
   "execution_count": null,
   "metadata": {},
   "outputs": [],
   "source": [
    "appdat.to_csv(os.path.join(path, 'app_structure_volumes.csv'))"
   ]
  },
  {
   "cell_type": "code",
   "execution_count": null,
   "metadata": {},
   "outputs": [],
   "source": [
    "control = control[control['side'].isin(['r', 'm'])]"
   ]
  },
  {
   "cell_type": "code",
   "execution_count": null,
   "metadata": {},
   "outputs": [],
   "source": [
    "controldat = control.merge(meta[['Image_Series_ID', 'Genotype group', 'sex', 'Age group']], on='Image_Series_ID')"
   ]
  },
  {
   "cell_type": "code",
   "execution_count": null,
   "metadata": {},
   "outputs": [],
   "source": [
    "controldat.to_csv(os.path.join(path, 'app_control_structure_volumes.csv'))"
   ]
  },
  {
   "cell_type": "code",
   "execution_count": null,
   "metadata": {},
   "outputs": [],
   "source": [
    "len(appdat['Image_Series_ID'].unique())"
   ]
  },
  {
   "cell_type": "code",
   "execution_count": null,
   "metadata": {},
   "outputs": [],
   "source": [
    "appdat['Structure_ID'].values"
   ]
  },
  {
   "cell_type": "code",
   "execution_count": null,
   "metadata": {},
   "outputs": [],
   "source": [
    "meta['Genotype group'].unique()"
   ]
  },
  {
   "cell_type": "code",
   "execution_count": null,
   "metadata": {},
   "outputs": [],
   "source": [
    "np.mean(c_distribution)"
   ]
  },
  {
   "cell_type": "code",
   "execution_count": null,
   "metadata": {},
   "outputs": [],
   "source": [
    "# T-tests for structure volume\n",
    "ages = []\n",
    "mouse_lines = []\n",
    "structures = []\n",
    "ttest_results = []\n",
    "pvals = []\n",
    "difference_magnitude = []\n",
    "controldat = control[control['side'].isin(['r', 'm'])]\n",
    "appdat = app[app['side'].isin(['r', 'm'])]\n",
    "for age in meta['Age group'].unique():\n",
    "    dataset = meta[meta['Age group'] == age]\n",
    "    control_ids = dataset[dataset['Genotype group'] == 'control']['Image_Series_ID']\n",
    "    app_ids = dataset[dataset['Genotype group'] == 'APP/PS1']['Image_Series_ID']\n",
    "    j20_ids = dataset[dataset['Genotype group'] == 'J20']['Image_Series_ID']\n",
    "    Tg2576_ids = dataset[dataset['Genotype group'] == 'Tg2576']['Image_Series_ID']\n",
    "    for structure in summary:\n",
    "        c_distribution = controldat[(controldat['Image_Series_ID'].isin(control_ids)) &\n",
    "                                (controldat['Structure_ID'] == structure)]['Volume']\n",
    "        app_distribution = appdat[(appdat['Image_Series_ID'].isin(app_ids)) &\n",
    "                                 (appdat['Structure_ID'] == structure)]['Volume']\n",
    "        t, p = stats.ttest_ind(c_distribution, app_distribution)\n",
    "        if not np.isnan(p):\n",
    "            ages.append(age)\n",
    "            mouse_lines.append('APP/PS1')\n",
    "            structures.append(structure)\n",
    "            ttest_results.append(t)\n",
    "            pvals.append(p)\n",
    "            difference_magnitude.append(np.mean(c_distribution) - np.mean(app_distribution))\n",
    "        \n",
    "        j20_distribution = appdat[(appdat['Image_Series_ID'].isin(j20_ids)) &\n",
    "                                 (appdat['Structure_ID'] == structure)]['Volume']\n",
    "        t, p = stats.ttest_ind(c_distribution, j20_distribution)\n",
    "        if not np.isnan(p):\n",
    "            ages.append(age)\n",
    "            mouse_lines.append('J20')\n",
    "            structures.append(structure)\n",
    "            ttest_results.append(t)\n",
    "            pvals.append(p)\n",
    "            difference_magnitude.append(np.mean(c_distribution) - np.mean(j20_distribution))\n",
    "            \n",
    "        Tg2576_distribution = appdat[(appdat['Image_Series_ID'].isin(Tg2576_ids)) &\n",
    "                                 (appdat['Structure_ID'] == structure)]['Volume']\n",
    "        t, p = stats.ttest_ind(c_distribution, Tg2576_distribution)\n",
    "        if not np.isnan(p):\n",
    "            ages.append(age)\n",
    "            mouse_lines.append('Tg2576')\n",
    "            structures.append(structure)\n",
    "            ttest_results.append(t)\n",
    "            pvals.append(p)\n",
    "            difference_magnitude.append(np.mean(c_distribution) - np.mean(Tg2576_distribution))\n",
    "        \n",
    "results = pd.DataFrame({'Age': ages, 'Mouse Line': mouse_lines, 'Structure': structures, \n",
    "                        't_test results': ttest_results, \n",
    "                        'fdr_corrected_pvalues': sm.stats.fdrcorrection(pvals, alpha=0.05, method='indep')[1],\n",
    "                      'difference magnitude': difference_magnitude})"
   ]
  },
  {
   "cell_type": "code",
   "execution_count": null,
   "metadata": {},
   "outputs": [],
   "source": [
    "mcc = MouseConnectivityCache(manifest_file = '../connectivity/mouse_connectivity_manifest.json')\n",
    "st = mcc.get_structure_tree()\n",
    "ia_map = st.get_id_acronym_map()\n",
    "ai_map = {value:key for key, value in ia_map.iteritems()}"
   ]
  },
  {
   "cell_type": "code",
   "execution_count": null,
   "metadata": {},
   "outputs": [],
   "source": [
    "results['structure acronym'] = [ai_map[structure] for structure in results['Structure']]"
   ]
  },
  {
   "cell_type": "code",
   "execution_count": null,
   "metadata": {},
   "outputs": [],
   "source": [
    "results[results['fdr_corrected_pvalues'] < 0.05]"
   ]
  },
  {
   "cell_type": "code",
   "execution_count": null,
   "metadata": {},
   "outputs": [],
   "source": [
    "ipsi_volumes = pd.read_csv(r'C:\\Users\\jenniferwh\\Dropbox (Allen Institute)\\Mesoscale Connectome Papers in Progress\\2018 Plaque\\ipsi_volumes.csv')"
   ]
  },
  {
   "cell_type": "code",
   "execution_count": null,
   "metadata": {},
   "outputs": [],
   "source": [
    "ipsi_volumes.head()"
   ]
  },
  {
   "cell_type": "code",
   "execution_count": null,
   "metadata": {},
   "outputs": [],
   "source": [
    "volumes = []\n",
    "for structure in results['structure acronym']:\n",
    "    if structure in ipsi_volumes['structure'].values:\n",
    "        volumes.append(ipsi_volumes[ipsi_volumes['structure'] == structure]['volume'].values[0])\n",
    "    else:\n",
    "        volumes.append(np.nan)"
   ]
  },
  {
   "cell_type": "code",
   "execution_count": null,
   "metadata": {},
   "outputs": [],
   "source": [
    "results['Structure Volume'] = volumes"
   ]
  },
  {
   "cell_type": "code",
   "execution_count": null,
   "metadata": {},
   "outputs": [],
   "source": [
    "results.head()"
   ]
  },
  {
   "cell_type": "code",
   "execution_count": null,
   "metadata": {},
   "outputs": [],
   "source": [
    "path = r'C:\\Users\\jenniferwh\\Dropbox (Allen Institute)\\Mesoscale Connectome Papers in Progress\\2018 Plaque'"
   ]
  },
  {
   "cell_type": "code",
   "execution_count": null,
   "metadata": {},
   "outputs": [],
   "source": [
    "results.to_csv(os.path.join(path, 'ss_volume_differences.csv'))"
   ]
  },
  {
   "cell_type": "code",
   "execution_count": null,
   "metadata": {},
   "outputs": [],
   "source": [
    "diffmag = [np.log10(magnitude+1e-10) for magnitude in results['difference magnitude'] if magnitude > 0]"
   ]
  },
  {
   "cell_type": "code",
   "execution_count": null,
   "metadata": {},
   "outputs": [],
   "source": [
    "sns.distplot(diffmag,color='blue')"
   ]
  },
  {
   "cell_type": "code",
   "execution_count": null,
   "metadata": {},
   "outputs": [],
   "source": [
    "appdat.head()"
   ]
  },
  {
   "cell_type": "code",
   "execution_count": null,
   "metadata": {},
   "outputs": [],
   "source": [
    "# T-tests for surface area\n",
    "ages = []\n",
    "mouse_lines = []\n",
    "structures = []\n",
    "ttest_results = []\n",
    "pvals = []\n",
    "difference_magnitude = []\n",
    "controldat = control[control['side'].isin(['r', 'm'])]\n",
    "appdat = app[app['side'].isin(['r', 'm'])]\n",
    "for age in meta['Age group'].unique():\n",
    "    dataset = meta[meta['Age group'] == age]\n",
    "    control_ids = dataset[dataset['Genotype group'] == 'control']['Image_Series_ID']\n",
    "    app_ids = dataset[dataset['Genotype group'] == 'APP/PS1']['Image_Series_ID']\n",
    "    j20_ids = dataset[dataset['Genotype group'] == 'J20']['Image_Series_ID']\n",
    "    Tg2576_ids = dataset[dataset['Genotype group'] == 'Tg2576']['Image_Series_ID']\n",
    "    for structure in summary:\n",
    "        c_distribution = controldat[(controldat['Image_Series_ID'].isin(control_ids)) &\n",
    "                                (controldat['Structure_ID'] == structure)]['Surface_Area']\n",
    "        app_distribution = appdat[(appdat['Image_Series_ID'].isin(app_ids)) &\n",
    "                                 (appdat['Structure_ID'] == structure)]['Surface_Area']\n",
    "        t, p = stats.ttest_ind(c_distribution, app_distribution)\n",
    "        if not np.isnan(p):\n",
    "            ages.append(age)\n",
    "            mouse_lines.append('APP/PS1')\n",
    "            structures.append(structure)\n",
    "            ttest_results.append(t)\n",
    "            pvals.append(p)\n",
    "            difference_magnitude.append(np.mean(c_distribution) - np.mean(app_distribution))\n",
    "        \n",
    "        j20_distribution = appdat[(appdat['Image_Series_ID'].isin(j20_ids)) &\n",
    "                                 (appdat['Structure_ID'] == structure)]['Surface_Area']\n",
    "        t, p = stats.ttest_ind(c_distribution, j20_distribution)\n",
    "        if not np.isnan(p):\n",
    "            ages.append(age)\n",
    "            mouse_lines.append('J20')\n",
    "            structures.append(structure)\n",
    "            ttest_results.append(t)\n",
    "            pvals.append(p)\n",
    "            difference_magnitude.append(np.mean(c_distribution) - np.mean(j20_distribution))\n",
    "            \n",
    "        Tg2576_distribution = appdat[(appdat['Image_Series_ID'].isin(Tg2576_ids)) &\n",
    "                                 (appdat['Structure_ID'] == structure)]['Surface_Area']\n",
    "        t, p = stats.ttest_ind(c_distribution, Tg2576_distribution)\n",
    "        if not np.isnan(p):\n",
    "            ages.append(age)\n",
    "            mouse_lines.append('Tg2576')\n",
    "            structures.append(structure)\n",
    "            ttest_results.append(t)\n",
    "            pvals.append(p)\n",
    "            difference_magnitude.append(np.mean(c_distribution) - np.mean(Tg2576_distribution))\n",
    "        \n",
    "results = pd.DataFrame({'Age': ages, 'Mouse Line': mouse_lines, 'Structure': structures, \n",
    "                        't_test results': ttest_results, \n",
    "                        'fdr_corrected_pvalues': sm.stats.fdrcorrection(pvals, alpha=0.05, method='indep')[1],\n",
    "                      'difference magnitude': difference_magnitude})"
   ]
  },
  {
   "cell_type": "code",
   "execution_count": null,
   "metadata": {},
   "outputs": [],
   "source": [
    "results['structure acronym'] = [ai_map[structure] for structure in results['Structure']]\n",
    "results[results['fdr_corrected_pvalues'] < 0.05]"
   ]
  },
  {
   "cell_type": "code",
   "execution_count": null,
   "metadata": {},
   "outputs": [],
   "source": [
    "volumes = []\n",
    "for structure in results['structure acronym']:\n",
    "    if structure in ipsi_volumes['structure'].values:\n",
    "        volumes.append(ipsi_volumes[ipsi_volumes['structure'] == structure]['volume'].values[0])\n",
    "    else:\n",
    "        volumes.append(np.nan)\n",
    "results['Structure Volume'] = volumes\n",
    "results.to_csv(os.path.join(path, 'ss_volume_differences.csv'))"
   ]
  },
  {
   "cell_type": "code",
   "execution_count": null,
   "metadata": {},
   "outputs": [],
   "source": [
    "diffmag = [np.log10(magnitude+1e-10) for magnitude in results['difference magnitude'] if magnitude > 0]\n",
    "sns.distplot(diffmag)"
   ]
  },
  {
   "cell_type": "code",
   "execution_count": null,
   "metadata": {},
   "outputs": [],
   "source": [
    "# T-tests for surface area:V ratio\n",
    "ages = []\n",
    "mouse_lines = []\n",
    "structures = []\n",
    "ttest_results = []\n",
    "pvals = []\n",
    "difference_magnitude = []\n",
    "controldat = control[control['side'].isin(['r', 'm'])]\n",
    "appdat = app[app['side'].isin(['r', 'm'])]\n",
    "for age in meta['Age group'].unique():\n",
    "    dataset = meta[meta['Age group'] == age]\n",
    "    control_ids = dataset[dataset['Genotype group'] == 'control']['Image_Series_ID']\n",
    "    app_ids = dataset[dataset['Genotype group'] == 'APP/PS1']['Image_Series_ID']\n",
    "    j20_ids = dataset[dataset['Genotype group'] == 'J20']['Image_Series_ID']\n",
    "    Tg2576_ids = dataset[dataset['Genotype group'] == 'Tg2576']['Image_Series_ID']\n",
    "    for structure in summary:\n",
    "        c_distribution = controldat[(controldat['Image_Series_ID'].isin(control_ids)) &\n",
    "                                (controldat['Structure_ID'] == structure)]['sa2v']\n",
    "        app_distribution = appdat[(appdat['Image_Series_ID'].isin(app_ids)) &\n",
    "                                 (appdat['Structure_ID'] == structure)]['sa2v']\n",
    "        t, p = stats.ttest_ind(c_distribution, app_distribution)\n",
    "        if not np.isnan(p):\n",
    "            ages.append(age)\n",
    "            mouse_lines.append('APP/PS1')\n",
    "            structures.append(structure)\n",
    "            ttest_results.append(t)\n",
    "            pvals.append(p)\n",
    "            difference_magnitude.append(np.mean(c_distribution) - np.mean(app_distribution))\n",
    "        \n",
    "        j20_distribution = appdat[(appdat['Image_Series_ID'].isin(j20_ids)) &\n",
    "                                 (appdat['Structure_ID'] == structure)]['sa2v']\n",
    "        t, p = stats.ttest_ind(c_distribution, j20_distribution)\n",
    "        if not np.isnan(p):\n",
    "            ages.append(age)\n",
    "            mouse_lines.append('J20')\n",
    "            structures.append(structure)\n",
    "            ttest_results.append(t)\n",
    "            pvals.append(p)\n",
    "            difference_magnitude.append(np.mean(c_distribution) - np.mean(j20_distribution))\n",
    "            \n",
    "        Tg2576_distribution = appdat[(appdat['Image_Series_ID'].isin(Tg2576_ids)) &\n",
    "                                 (appdat['Structure_ID'] == structure)]['sa2v']\n",
    "        t, p = stats.ttest_ind(c_distribution, Tg2576_distribution)\n",
    "        if not np.isnan(p):\n",
    "            ages.append(age)\n",
    "            mouse_lines.append('Tg2576')\n",
    "            structures.append(structure)\n",
    "            ttest_results.append(t)\n",
    "            pvals.append(p)\n",
    "            difference_magnitude.append(np.mean(c_distribution) - np.mean(Tg2576_distribution))\n",
    "        \n",
    "results = pd.DataFrame({'Age': ages, 'Mouse Line': mouse_lines, 'Structure': structures, \n",
    "                        't_test results': ttest_results, \n",
    "                        'fdr_corrected_pvalues': sm.stats.fdrcorrection(pvals, alpha=0.05, method='indep')[1],\n",
    "                      'difference magnitude': difference_magnitude})"
   ]
  },
  {
   "cell_type": "code",
   "execution_count": null,
   "metadata": {},
   "outputs": [],
   "source": [
    "results['structure acronym'] = [ai_map[structure] for structure in results['Structure']]\n",
    "results[results['fdr_corrected_pvalues'] < 0.05]"
   ]
  },
  {
   "cell_type": "code",
   "execution_count": null,
   "metadata": {},
   "outputs": [],
   "source": [
    "volumes = []\n",
    "for structure in results['structure acronym']:\n",
    "    if structure in ipsi_volumes['structure'].values:\n",
    "        volumes.append(ipsi_volumes[ipsi_volumes['structure'] == structure]['volume'].values[0])\n",
    "    else:\n",
    "        volumes.append(np.nan)\n",
    "results['Structure Volume'] = volumes\n",
    "results.to_csv(os.path.join(path, 'ss_volume_differences.csv'))"
   ]
  }
 ],
 "metadata": {
  "kernelspec": {
   "display_name": "Python 3",
   "language": "python",
   "name": "python3"
  },
  "language_info": {
   "codemirror_mode": {
    "name": "ipython",
    "version": 3
   },
   "file_extension": ".py",
   "mimetype": "text/x-python",
   "name": "python",
   "nbconvert_exporter": "python",
   "pygments_lexer": "ipython3",
   "version": "3.7.1"
  }
 },
 "nbformat": 4,
 "nbformat_minor": 2
}
